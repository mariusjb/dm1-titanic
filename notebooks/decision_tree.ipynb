{
 "cells": [
  {
   "cell_type": "code",
   "execution_count": 6,
   "metadata": {},
   "outputs": [],
   "source": [
    "from utils import retrieve_latest_train_test, run_grid_search_cv, save_results_and_session, load_latest_session\n",
    "from gscv_configs import gscv_cfg_dt\n",
    "\n",
    "# This notebook applies DecisionTreeClassifier\n",
    "name = gscv_cfg_dt.name\n"
   ]
  },
  {
   "cell_type": "code",
   "execution_count": 7,
   "metadata": {},
   "outputs": [
    {
     "name": "stderr",
     "output_type": "stream",
     "text": [
      "WARNING:root:Results have been saved to '../gscv/decision_tree/2022-11-28T15:38:38.json'\n",
      "WARNING:root:Session has been saved to '/sessions/decision_tree/2022-11-28T15:38:38.json'\n"
     ]
    },
    {
     "name": "stdout",
     "output_type": "stream",
     "text": [
      "Fitting 10 folds for each of 1 candidates, totalling 10 fits\n",
      "[CV] END class_weight=None, criterion=log_loss, max_features=10, min_impurity_decrease=0.01, min_samples_leaf=9, min_samples_split=15, splitter=best; total time=   0.0s\n",
      "[CV] END class_weight=None, criterion=log_loss, max_features=10, min_impurity_decrease=0.01, min_samples_leaf=9, min_samples_split=15, splitter=best; total time=   0.0s\n",
      "[CV] END class_weight=None, criterion=log_loss, max_features=10, min_impurity_decrease=0.01, min_samples_leaf=9, min_samples_split=15, splitter=best; total time=   0.0s\n",
      "[CV] END class_weight=None, criterion=log_loss, max_features=10, min_impurity_decrease=0.01, min_samples_leaf=9, min_samples_split=15, splitter=best; total time=   0.0s\n",
      "[CV] END class_weight=None, criterion=log_loss, max_features=10, min_impurity_decrease=0.01, min_samples_leaf=9, min_samples_split=15, splitter=best; total time=   0.0s\n",
      "[CV] END class_weight=None, criterion=log_loss, max_features=10, min_impurity_decrease=0.01, min_samples_leaf=9, min_samples_split=15, splitter=best; total time=   0.0s\n",
      "[CV] END class_weight=None, criterion=log_loss, max_features=10, min_impurity_decrease=0.01, min_samples_leaf=9, min_samples_split=15, splitter=best; total time=   0.0s\n",
      "[CV] END class_weight=None, criterion=log_loss, max_features=10, min_impurity_decrease=0.01, min_samples_leaf=9, min_samples_split=15, splitter=best; total time=   0.0s\n",
      "[CV] END class_weight=None, criterion=log_loss, max_features=10, min_impurity_decrease=0.01, min_samples_leaf=9, min_samples_split=15, splitter=best; total time=   0.0s\n",
      "[CV] END class_weight=None, criterion=log_loss, max_features=10, min_impurity_decrease=0.01, min_samples_leaf=9, min_samples_split=15, splitter=best; total time=   0.0s\n"
     ]
    }
   ],
   "source": [
    "# load data\n",
    "train, test = retrieve_latest_train_test()\n",
    "\n",
    "# run grid search cv\n",
    "_gscv, pred = run_grid_search_cv(\n",
    "    gscv_dct=gscv_cfg_dt,\n",
    "    X_train=train.drop([\"Survived\"], axis=1),\n",
    "    y_train=train[\"Survived\"],\n",
    "    X_test=test.drop([\"Survived\"], axis=1),\n",
    "    )\n",
    "\n",
    "# save results\n",
    "save_results_and_session(name, _gscv.__dict__)\n"
   ]
  }
 ],
 "metadata": {
  "kernelspec": {
   "display_name": "Python 3.9.10 ('.venv': venv)",
   "language": "python",
   "name": "python3"
  },
  "language_info": {
   "codemirror_mode": {
    "name": "ipython",
    "version": 3
   },
   "file_extension": ".py",
   "mimetype": "text/x-python",
   "name": "python",
   "nbconvert_exporter": "python",
   "pygments_lexer": "ipython3",
   "version": "3.9.10"
  },
  "orig_nbformat": 4,
  "vscode": {
   "interpreter": {
    "hash": "1710d972e5371705a792993fb31d06207a980ac4b5639e60f5dec81b00e20006"
   }
  }
 },
 "nbformat": 4,
 "nbformat_minor": 2
}
