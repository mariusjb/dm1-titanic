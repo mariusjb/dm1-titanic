{
 "cells": [
  {
   "cell_type": "code",
   "execution_count": 1,
   "metadata": {},
   "outputs": [],
   "source": [
    "from utils import retrieve_latest_train_test, run_grid_search_cv, save_results_and_session, load_latest_session\n",
    "from gscv_configs import gscv_cfg_knn\n",
    "\n",
    "# This notebook applies KNeighborsClassifier\n",
    "name = gscv_cfg_knn.name\n"
   ]
  },
  {
   "cell_type": "code",
   "execution_count": 4,
   "metadata": {},
   "outputs": [
    {
     "name": "stderr",
     "output_type": "stream",
     "text": [
      "WARNING:root:Results have been saved to '../gscv/knearest_neighbor/2022-11-24T17:37:26.json'\n",
      "WARNING:root:Session has been saved to '/sessions/knearest_neighbor/2022-11-24T17:37:26.json'\n"
     ]
    },
    {
     "name": "stdout",
     "output_type": "stream",
     "text": [
      "Fitting 10 folds for each of 3 candidates, totalling 30 fits\n",
      "[CV] END algorithm=ball_tree, n_neighbors=9, weights=distance; total time=   0.0s\n",
      "[CV] END algorithm=ball_tree, n_neighbors=9, weights=distance; total time=   0.0s\n",
      "[CV] END algorithm=ball_tree, n_neighbors=9, weights=distance; total time=   0.0s\n",
      "[CV] END algorithm=ball_tree, n_neighbors=9, weights=distance; total time=   0.0s\n",
      "[CV] END algorithm=ball_tree, n_neighbors=9, weights=distance; total time=   0.0s\n",
      "[CV] END algorithm=ball_tree, n_neighbors=9, weights=distance; total time=   0.0s\n",
      "[CV] END algorithm=ball_tree, n_neighbors=9, weights=distance; total time=   0.0s\n",
      "[CV] END algorithm=ball_tree, n_neighbors=9, weights=distance; total time=   0.0s\n",
      "[CV] END algorithm=ball_tree, n_neighbors=9, weights=distance; total time=   0.0s\n",
      "[CV] END algorithm=ball_tree, n_neighbors=9, weights=distance; total time=   0.0s\n",
      "[CV] END algorithm=ball_tree, n_neighbors=10, weights=distance; total time=   0.0s\n",
      "[CV] END algorithm=ball_tree, n_neighbors=10, weights=distance; total time=   0.0s\n",
      "[CV] END algorithm=ball_tree, n_neighbors=10, weights=distance; total time=   0.0s\n",
      "[CV] END algorithm=ball_tree, n_neighbors=10, weights=distance; total time=   0.0s\n",
      "[CV] END algorithm=ball_tree, n_neighbors=10, weights=distance; total time=   0.0s\n",
      "[CV] END algorithm=ball_tree, n_neighbors=10, weights=distance; total time=   0.0s\n",
      "[CV] END algorithm=ball_tree, n_neighbors=10, weights=distance; total time=   0.0s\n",
      "[CV] END algorithm=ball_tree, n_neighbors=10, weights=distance; total time=   0.0s\n",
      "[CV] END algorithm=ball_tree, n_neighbors=10, weights=distance; total time=   0.0s\n",
      "[CV] END algorithm=ball_tree, n_neighbors=10, weights=distance; total time=   0.0s\n",
      "[CV] END algorithm=ball_tree, n_neighbors=11, weights=distance; total time=   0.0s\n",
      "[CV] END algorithm=ball_tree, n_neighbors=11, weights=distance; total time=   0.0s\n",
      "[CV] END algorithm=ball_tree, n_neighbors=11, weights=distance; total time=   0.0s\n",
      "[CV] END algorithm=ball_tree, n_neighbors=11, weights=distance; total time=   0.0s\n",
      "[CV] END algorithm=ball_tree, n_neighbors=11, weights=distance; total time=   0.0s\n",
      "[CV] END algorithm=ball_tree, n_neighbors=11, weights=distance; total time=   0.0s\n",
      "[CV] END algorithm=ball_tree, n_neighbors=11, weights=distance; total time=   0.0s\n",
      "[CV] END algorithm=ball_tree, n_neighbors=11, weights=distance; total time=   0.0s\n",
      "[CV] END algorithm=ball_tree, n_neighbors=11, weights=distance; total time=   0.0s\n",
      "[CV] END algorithm=ball_tree, n_neighbors=11, weights=distance; total time=   0.0s\n"
     ]
    }
   ],
   "source": [
    "# load data\n",
    "train, test = retrieve_latest_train_test()\n",
    "\n",
    "# run grid search cv\n",
    "_gscv, pred = run_grid_search_cv(\n",
    "    gscv_dct=gscv_cfg_knn,\n",
    "    X_train=train.drop([\"Survived\"], axis=1),\n",
    "    y_train=train[\"Survived\"],\n",
    "    X_test=test.drop([\"Survived\"], axis=1),\n",
    "    )\n",
    "\n",
    "\n",
    "# save results\n",
    "save_results_and_session(name, _gscv.__dict__)\n"
   ]
  }
 ],
 "metadata": {
  "kernelspec": {
   "display_name": "Python 3.9.10 ('.venv': venv)",
   "language": "python",
   "name": "python3"
  },
  "language_info": {
   "codemirror_mode": {
    "name": "ipython",
    "version": 3
   },
   "file_extension": ".py",
   "mimetype": "text/x-python",
   "name": "python",
   "nbconvert_exporter": "python",
   "pygments_lexer": "ipython3",
   "version": "3.9.10"
  },
  "orig_nbformat": 4,
  "vscode": {
   "interpreter": {
    "hash": "c9abcb6f00eb2f6d4daee5e356d60a40aafbe82eb74959741ede0eec5bc79320"
   }
  }
 },
 "nbformat": 4,
 "nbformat_minor": 2
}
