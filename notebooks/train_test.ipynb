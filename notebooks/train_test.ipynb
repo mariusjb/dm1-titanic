{
 "cells": [
  {
   "cell_type": "code",
   "execution_count": 2,
   "metadata": {},
   "outputs": [],
   "source": [
    "import pandas as pd\n",
    "from sklearn.model_selection import train_test_split\n",
    "\n",
    "train = pd.read_csv(f\"../data/encoded_train.csv\", index_col=0)\n",
    "y_train = train[\"Survived\"]\n",
    "X_train = train.drop(\"Survived\", axis=1)\n",
    "X_test = pd.read_csv(f\"../data/encoded_test.csv\", index_col=0)\n",
    "X_train, X_test, y_train, y_test = train_test_split(X_train, y_train, test_size=0.3, random_state=42, shuffle=True)\n",
    "\n",
    "# save train and test data\n",
    "\n",
    "from datetime import datetime\n",
    "\n",
    "# save data with date to track changes \n",
    "date = str(datetime.now().date()).replace(\"-\", \"\")\n",
    "\n",
    "pd.concat([X_train, y_train], axis=1).to_csv(f\"../data/train_data_{date}.csv\")\n",
    "pd.concat([X_test, y_test], axis=1).to_csv(f\"../data/test_data_{date}.csv\")"
   ]
  }
 ],
 "metadata": {
  "kernelspec": {
   "display_name": "Python 3.9.10 ('.venv': venv)",
   "language": "python",
   "name": "python3"
  },
  "language_info": {
   "codemirror_mode": {
    "name": "ipython",
    "version": 3
   },
   "file_extension": ".py",
   "mimetype": "text/x-python",
   "name": "python",
   "nbconvert_exporter": "python",
   "pygments_lexer": "ipython3",
   "version": "3.9.10"
  },
  "orig_nbformat": 4,
  "vscode": {
   "interpreter": {
    "hash": "1710d972e5371705a792993fb31d06207a980ac4b5639e60f5dec81b00e20006"
   }
  }
 },
 "nbformat": 4,
 "nbformat_minor": 2
}
