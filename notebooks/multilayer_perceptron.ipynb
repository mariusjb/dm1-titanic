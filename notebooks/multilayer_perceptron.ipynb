{
 "cells": [
  {
   "cell_type": "code",
   "execution_count": 1,
   "metadata": {},
   "outputs": [],
   "source": [
    "from utils import retrieve_latest_train_test, run_grid_search_cv, save_results_and_session, load_latest_session\n",
    "from gscv_configs import gscv_cfg_mlp\n",
    "\n",
    "# This notebook applies MLPClassifier\n",
    "name = gscv_cfg_mlp.name\n"
   ]
  },
  {
   "cell_type": "code",
   "execution_count": 2,
   "metadata": {},
   "outputs": [
    {
     "name": "stdout",
     "output_type": "stream",
     "text": [
      "Fitting 10 folds for each of 108 candidates, totalling 1080 fits\n",
      "[CV] END activation=identity, batch_size=auto, hidden_layer_sizes=(10,), learning_rate=constant, max_iter=1000, solver=lbfgs; total time=   0.0s\n",
      "[CV] END activation=identity, batch_size=auto, hidden_layer_sizes=(10,), learning_rate=constant, max_iter=1000, solver=lbfgs; total time=   0.0s\n",
      "[CV] END activation=identity, batch_size=auto, hidden_layer_sizes=(10,), learning_rate=constant, max_iter=1000, solver=lbfgs; total time=   0.0s\n",
      "[CV] END activation=identity, batch_size=auto, hidden_layer_sizes=(10,), learning_rate=constant, max_iter=1000, solver=lbfgs; total time=   0.0s\n",
      "[CV] END activation=identity, batch_size=auto, hidden_layer_sizes=(10,), learning_rate=constant, max_iter=1000, solver=lbfgs; total time=   0.0s\n",
      "[CV] END activation=identity, batch_size=auto, hidden_layer_sizes=(10,), learning_rate=constant, max_iter=1000, solver=lbfgs; total time=   0.0s\n",
      "[CV] END activation=identity, batch_size=auto, hidden_layer_sizes=(10,), learning_rate=constant, max_iter=1000, solver=lbfgs; total time=   0.0s\n",
      "[CV] END activation=identity, batch_size=auto, hidden_layer_sizes=(10,), learning_rate=constant, max_iter=1000, solver=lbfgs; total time=   0.0s\n",
      "[CV] END activation=identity, batch_size=auto, hidden_layer_sizes=(10,), learning_rate=constant, max_iter=1000, solver=lbfgs; total time=   0.0s\n",
      "[CV] END activation=identity, batch_size=auto, hidden_layer_sizes=(10,), learning_rate=constant, max_iter=1000, solver=lbfgs; total time=   0.0s\n",
      "[CV] END activation=identity, batch_size=auto, hidden_layer_sizes=(10,), learning_rate=constant, max_iter=1000, solver=sgd; total time=   0.2s\n",
      "[CV] END activation=identity, batch_size=auto, hidden_layer_sizes=(10,), learning_rate=constant, max_iter=1000, solver=sgd; total time=   0.2s\n",
      "[CV] END activation=identity, batch_size=auto, hidden_layer_sizes=(10,), learning_rate=constant, max_iter=1000, solver=sgd; total time=   0.1s\n",
      "[CV] END activation=identity, batch_size=auto, hidden_layer_sizes=(10,), learning_rate=constant, max_iter=1000, solver=sgd; total time=   0.1s\n",
      "[CV] END activation=identity, batch_size=auto, hidden_layer_sizes=(10,), learning_rate=constant, max_iter=1000, solver=sgd; total time=   0.1s\n",
      "[CV] END activation=identity, batch_size=auto, hidden_layer_sizes=(10,), learning_rate=constant, max_iter=1000, solver=sgd; total time=   0.2s\n",
      "[CV] END activation=identity, batch_size=auto, hidden_layer_sizes=(10,), learning_rate=constant, max_iter=1000, solver=sgd; total time=   0.1s\n",
      "[CV] END activation=identity, batch_size=auto, hidden_layer_sizes=(10,), learning_rate=constant, max_iter=1000, solver=sgd; total time=   0.2s\n",
      "[CV] END activation=identity, batch_size=auto, hidden_layer_sizes=(10,), learning_rate=constant, max_iter=1000, solver=sgd; total time=   0.1s\n",
      "[CV] END activation=identity, batch_size=auto, hidden_layer_sizes=(10,), learning_rate=constant, max_iter=1000, solver=sgd; total time=   0.2s\n",
      "[CV] END activation=identity, batch_size=auto, hidden_layer_sizes=(10,), learning_rate=constant, max_iter=1000, solver=adam; total time=   0.1s\n",
      "[CV] END activation=identity, batch_size=auto, hidden_layer_sizes=(10,), learning_rate=constant, max_iter=1000, solver=adam; total time=   0.1s\n",
      "[CV] END activation=identity, batch_size=auto, hidden_layer_sizes=(10,), learning_rate=constant, max_iter=1000, solver=adam; total time=   0.1s\n",
      "[CV] END activation=identity, batch_size=auto, hidden_layer_sizes=(10,), learning_rate=constant, max_iter=1000, solver=adam; total time=   0.1s\n",
      "[CV] END activation=identity, batch_size=auto, hidden_layer_sizes=(10,), learning_rate=constant, max_iter=1000, solver=adam; total time=   0.1s\n",
      "[CV] END activation=identity, batch_size=auto, hidden_layer_sizes=(10,), learning_rate=constant, max_iter=1000, solver=adam; total time=   0.1s\n",
      "[CV] END activation=identity, batch_size=auto, hidden_layer_sizes=(10,), learning_rate=constant, max_iter=1000, solver=adam; total time=   0.1s\n",
      "[CV] END activation=identity, batch_size=auto, hidden_layer_sizes=(10,), learning_rate=constant, max_iter=1000, solver=adam; total time=   0.1s\n",
      "[CV] END activation=identity, batch_size=auto, hidden_layer_sizes=(10,), learning_rate=constant, max_iter=1000, solver=adam; total time=   0.1s\n",
      "[CV] END activation=identity, batch_size=auto, hidden_layer_sizes=(10,), learning_rate=constant, max_iter=1000, solver=adam; total time=   0.1s\n",
      "[CV] END activation=identity, batch_size=auto, hidden_layer_sizes=(10,), learning_rate=invscaling, max_iter=1000, solver=lbfgs; total time=   0.0s\n",
      "[CV] END activation=identity, batch_size=auto, hidden_layer_sizes=(10,), learning_rate=invscaling, max_iter=1000, solver=lbfgs; total time=   0.0s\n",
      "[CV] END activation=identity, batch_size=auto, hidden_layer_sizes=(10,), learning_rate=invscaling, max_iter=1000, solver=lbfgs; total time=   0.0s\n",
      "[CV] END activation=identity, batch_size=auto, hidden_layer_sizes=(10,), learning_rate=invscaling, max_iter=1000, solver=lbfgs; total time=   0.0s\n",
      "[CV] END activation=identity, batch_size=auto, hidden_layer_sizes=(10,), learning_rate=invscaling, max_iter=1000, solver=lbfgs; total time=   0.0s\n",
      "[CV] END activation=identity, batch_size=auto, hidden_layer_sizes=(10,), learning_rate=invscaling, max_iter=1000, solver=lbfgs; total time=   0.0s\n",
      "[CV] END activation=identity, batch_size=auto, hidden_layer_sizes=(10,), learning_rate=invscaling, max_iter=1000, solver=lbfgs; total time=   0.0s\n",
      "[CV] END activation=identity, batch_size=auto, hidden_layer_sizes=(10,), learning_rate=invscaling, max_iter=1000, solver=lbfgs; total time=   0.0s\n",
      "[CV] END activation=identity, batch_size=auto, hidden_layer_sizes=(10,), learning_rate=invscaling, max_iter=1000, solver=lbfgs; total time=   0.0s\n",
      "[CV] END activation=identity, batch_size=auto, hidden_layer_sizes=(10,), learning_rate=invscaling, max_iter=1000, solver=lbfgs; total time=   0.0s\n"
     ]
    },
    {
     "name": "stderr",
     "output_type": "stream",
     "text": [
      "/Users/mariusj/Documents/Edu/UMA/lectures/Data Mining/Project/dm1-titanic/.venv/lib/python3.9/site-packages/sklearn/neural_network/_multilayer_perceptron.py:702: ConvergenceWarning: Stochastic Optimizer: Maximum iterations (1000) reached and the optimization hasn't converged yet.\n",
      "  warnings.warn(\n"
     ]
    },
    {
     "name": "stdout",
     "output_type": "stream",
     "text": [
      "[CV] END activation=identity, batch_size=auto, hidden_layer_sizes=(10,), learning_rate=invscaling, max_iter=1000, solver=sgd; total time=   0.3s\n",
      "[CV] END activation=identity, batch_size=auto, hidden_layer_sizes=(10,), learning_rate=invscaling, max_iter=1000, solver=sgd; total time=   0.0s\n",
      "[CV] END activation=identity, batch_size=auto, hidden_layer_sizes=(10,), learning_rate=invscaling, max_iter=1000, solver=sgd; total time=   0.0s\n",
      "[CV] END activation=identity, batch_size=auto, hidden_layer_sizes=(10,), learning_rate=invscaling, max_iter=1000, solver=sgd; total time=   0.0s\n"
     ]
    },
    {
     "name": "stderr",
     "output_type": "stream",
     "text": [
      "/Users/mariusj/Documents/Edu/UMA/lectures/Data Mining/Project/dm1-titanic/.venv/lib/python3.9/site-packages/sklearn/neural_network/_multilayer_perceptron.py:702: ConvergenceWarning: Stochastic Optimizer: Maximum iterations (1000) reached and the optimization hasn't converged yet.\n",
      "  warnings.warn(\n"
     ]
    },
    {
     "name": "stdout",
     "output_type": "stream",
     "text": [
      "[CV] END activation=identity, batch_size=auto, hidden_layer_sizes=(10,), learning_rate=invscaling, max_iter=1000, solver=sgd; total time=   0.3s\n"
     ]
    },
    {
     "name": "stderr",
     "output_type": "stream",
     "text": [
      "/Users/mariusj/Documents/Edu/UMA/lectures/Data Mining/Project/dm1-titanic/.venv/lib/python3.9/site-packages/sklearn/neural_network/_multilayer_perceptron.py:702: ConvergenceWarning: Stochastic Optimizer: Maximum iterations (1000) reached and the optimization hasn't converged yet.\n",
      "  warnings.warn(\n"
     ]
    },
    {
     "name": "stdout",
     "output_type": "stream",
     "text": [
      "[CV] END activation=identity, batch_size=auto, hidden_layer_sizes=(10,), learning_rate=invscaling, max_iter=1000, solver=sgd; total time=   0.3s\n",
      "[CV] END activation=identity, batch_size=auto, hidden_layer_sizes=(10,), learning_rate=invscaling, max_iter=1000, solver=sgd; total time=   0.1s\n",
      "[CV] END activation=identity, batch_size=auto, hidden_layer_sizes=(10,), learning_rate=invscaling, max_iter=1000, solver=sgd; total time=   0.1s\n",
      "[CV] END activation=identity, batch_size=auto, hidden_layer_sizes=(10,), learning_rate=invscaling, max_iter=1000, solver=sgd; total time=   0.0s\n",
      "[CV] END activation=identity, batch_size=auto, hidden_layer_sizes=(10,), learning_rate=invscaling, max_iter=1000, solver=sgd; total time=   0.3s\n",
      "[CV] END activation=identity, batch_size=auto, hidden_layer_sizes=(10,), learning_rate=invscaling, max_iter=1000, solver=adam; total time=   0.1s\n",
      "[CV] END activation=identity, batch_size=auto, hidden_layer_sizes=(10,), learning_rate=invscaling, max_iter=1000, solver=adam; total time=   0.1s\n",
      "[CV] END activation=identity, batch_size=auto, hidden_layer_sizes=(10,), learning_rate=invscaling, max_iter=1000, solver=adam; total time=   0.1s\n",
      "[CV] END activation=identity, batch_size=auto, hidden_layer_sizes=(10,), learning_rate=invscaling, max_iter=1000, solver=adam; total time=   0.1s\n",
      "[CV] END activation=identity, batch_size=auto, hidden_layer_sizes=(10,), learning_rate=invscaling, max_iter=1000, solver=adam; total time=   0.1s\n",
      "[CV] END activation=identity, batch_size=auto, hidden_layer_sizes=(10,), learning_rate=invscaling, max_iter=1000, solver=adam; total time=   0.1s\n",
      "[CV] END activation=identity, batch_size=auto, hidden_layer_sizes=(10,), learning_rate=invscaling, max_iter=1000, solver=adam; total time=   0.1s\n",
      "[CV] END activation=identity, batch_size=auto, hidden_layer_sizes=(10,), learning_rate=invscaling, max_iter=1000, solver=adam; total time=   0.1s\n",
      "[CV] END activation=identity, batch_size=auto, hidden_layer_sizes=(10,), learning_rate=invscaling, max_iter=1000, solver=adam; total time=   0.1s\n",
      "[CV] END activation=identity, batch_size=auto, hidden_layer_sizes=(10,), learning_rate=invscaling, max_iter=1000, solver=adam; total time=   0.1s\n",
      "[CV] END activation=identity, batch_size=auto, hidden_layer_sizes=(10,), learning_rate=adaptive, max_iter=1000, solver=lbfgs; total time=   0.0s\n",
      "[CV] END activation=identity, batch_size=auto, hidden_layer_sizes=(10,), learning_rate=adaptive, max_iter=1000, solver=lbfgs; total time=   0.0s\n",
      "[CV] END activation=identity, batch_size=auto, hidden_layer_sizes=(10,), learning_rate=adaptive, max_iter=1000, solver=lbfgs; total time=   0.0s\n",
      "[CV] END activation=identity, batch_size=auto, hidden_layer_sizes=(10,), learning_rate=adaptive, max_iter=1000, solver=lbfgs; total time=   0.0s\n",
      "[CV] END activation=identity, batch_size=auto, hidden_layer_sizes=(10,), learning_rate=adaptive, max_iter=1000, solver=lbfgs; total time=   0.0s\n",
      "[CV] END activation=identity, batch_size=auto, hidden_layer_sizes=(10,), learning_rate=adaptive, max_iter=1000, solver=lbfgs; total time=   0.0s\n",
      "[CV] END activation=identity, batch_size=auto, hidden_layer_sizes=(10,), learning_rate=adaptive, max_iter=1000, solver=lbfgs; total time=   0.0s\n",
      "[CV] END activation=identity, batch_size=auto, hidden_layer_sizes=(10,), learning_rate=adaptive, max_iter=1000, solver=lbfgs; total time=   0.0s\n",
      "[CV] END activation=identity, batch_size=auto, hidden_layer_sizes=(10,), learning_rate=adaptive, max_iter=1000, solver=lbfgs; total time=   0.0s\n",
      "[CV] END activation=identity, batch_size=auto, hidden_layer_sizes=(10,), learning_rate=adaptive, max_iter=1000, solver=lbfgs; total time=   0.0s\n",
      "[CV] END activation=identity, batch_size=auto, hidden_layer_sizes=(10,), learning_rate=adaptive, max_iter=1000, solver=sgd; total time=   0.2s\n",
      "[CV] END activation=identity, batch_size=auto, hidden_layer_sizes=(10,), learning_rate=adaptive, max_iter=1000, solver=sgd; total time=   0.2s\n",
      "[CV] END activation=identity, batch_size=auto, hidden_layer_sizes=(10,), learning_rate=adaptive, max_iter=1000, solver=sgd; total time=   0.2s\n",
      "[CV] END activation=identity, batch_size=auto, hidden_layer_sizes=(10,), learning_rate=adaptive, max_iter=1000, solver=sgd; total time=   0.2s\n",
      "[CV] END activation=identity, batch_size=auto, hidden_layer_sizes=(10,), learning_rate=adaptive, max_iter=1000, solver=sgd; total time=   0.2s\n",
      "[CV] END activation=identity, batch_size=auto, hidden_layer_sizes=(10,), learning_rate=adaptive, max_iter=1000, solver=sgd; total time=   0.2s\n",
      "[CV] END activation=identity, batch_size=auto, hidden_layer_sizes=(10,), learning_rate=adaptive, max_iter=1000, solver=sgd; total time=   0.2s\n",
      "[CV] END activation=identity, batch_size=auto, hidden_layer_sizes=(10,), learning_rate=adaptive, max_iter=1000, solver=sgd; total time=   0.1s\n",
      "[CV] END activation=identity, batch_size=auto, hidden_layer_sizes=(10,), learning_rate=adaptive, max_iter=1000, solver=sgd; total time=   0.2s\n",
      "[CV] END activation=identity, batch_size=auto, hidden_layer_sizes=(10,), learning_rate=adaptive, max_iter=1000, solver=sgd; total time=   0.2s\n",
      "[CV] END activation=identity, batch_size=auto, hidden_layer_sizes=(10,), learning_rate=adaptive, max_iter=1000, solver=adam; total time=   0.1s\n",
      "[CV] END activation=identity, batch_size=auto, hidden_layer_sizes=(10,), learning_rate=adaptive, max_iter=1000, solver=adam; total time=   0.1s\n",
      "[CV] END activation=identity, batch_size=auto, hidden_layer_sizes=(10,), learning_rate=adaptive, max_iter=1000, solver=adam; total time=   0.1s\n",
      "[CV] END activation=identity, batch_size=auto, hidden_layer_sizes=(10,), learning_rate=adaptive, max_iter=1000, solver=adam; total time=   0.1s\n",
      "[CV] END activation=identity, batch_size=auto, hidden_layer_sizes=(10,), learning_rate=adaptive, max_iter=1000, solver=adam; total time=   0.1s\n",
      "[CV] END activation=identity, batch_size=auto, hidden_layer_sizes=(10,), learning_rate=adaptive, max_iter=1000, solver=adam; total time=   0.1s\n",
      "[CV] END activation=identity, batch_size=auto, hidden_layer_sizes=(10,), learning_rate=adaptive, max_iter=1000, solver=adam; total time=   0.1s\n",
      "[CV] END activation=identity, batch_size=auto, hidden_layer_sizes=(10,), learning_rate=adaptive, max_iter=1000, solver=adam; total time=   0.1s\n",
      "[CV] END activation=identity, batch_size=auto, hidden_layer_sizes=(10,), learning_rate=adaptive, max_iter=1000, solver=adam; total time=   0.1s\n",
      "[CV] END activation=identity, batch_size=auto, hidden_layer_sizes=(10,), learning_rate=adaptive, max_iter=1000, solver=adam; total time=   0.1s\n",
      "[CV] END activation=identity, batch_size=auto, hidden_layer_sizes=(25,), learning_rate=constant, max_iter=1000, solver=lbfgs; total time=   0.2s\n",
      "[CV] END activation=identity, batch_size=auto, hidden_layer_sizes=(25,), learning_rate=constant, max_iter=1000, solver=lbfgs; total time=   0.3s\n",
      "[CV] END activation=identity, batch_size=auto, hidden_layer_sizes=(25,), learning_rate=constant, max_iter=1000, solver=lbfgs; total time=   0.1s\n",
      "[CV] END activation=identity, batch_size=auto, hidden_layer_sizes=(25,), learning_rate=constant, max_iter=1000, solver=lbfgs; total time=   0.1s\n",
      "[CV] END activation=identity, batch_size=auto, hidden_layer_sizes=(25,), learning_rate=constant, max_iter=1000, solver=lbfgs; total time=   0.0s\n",
      "[CV] END activation=identity, batch_size=auto, hidden_layer_sizes=(25,), learning_rate=constant, max_iter=1000, solver=lbfgs; total time=   0.0s\n",
      "[CV] END activation=identity, batch_size=auto, hidden_layer_sizes=(25,), learning_rate=constant, max_iter=1000, solver=lbfgs; total time=   0.1s\n",
      "[CV] END activation=identity, batch_size=auto, hidden_layer_sizes=(25,), learning_rate=constant, max_iter=1000, solver=lbfgs; total time=   0.0s\n",
      "[CV] END activation=identity, batch_size=auto, hidden_layer_sizes=(25,), learning_rate=constant, max_iter=1000, solver=lbfgs; total time=   0.0s\n",
      "[CV] END activation=identity, batch_size=auto, hidden_layer_sizes=(25,), learning_rate=constant, max_iter=1000, solver=lbfgs; total time=   0.0s\n",
      "[CV] END activation=identity, batch_size=auto, hidden_layer_sizes=(25,), learning_rate=constant, max_iter=1000, solver=sgd; total time=   0.2s\n",
      "[CV] END activation=identity, batch_size=auto, hidden_layer_sizes=(25,), learning_rate=constant, max_iter=1000, solver=sgd; total time=   0.2s\n",
      "[CV] END activation=identity, batch_size=auto, hidden_layer_sizes=(25,), learning_rate=constant, max_iter=1000, solver=sgd; total time=   0.2s\n",
      "[CV] END activation=identity, batch_size=auto, hidden_layer_sizes=(25,), learning_rate=constant, max_iter=1000, solver=sgd; total time=   0.1s\n",
      "[CV] END activation=identity, batch_size=auto, hidden_layer_sizes=(25,), learning_rate=constant, max_iter=1000, solver=sgd; total time=   0.2s\n",
      "[CV] END activation=identity, batch_size=auto, hidden_layer_sizes=(25,), learning_rate=constant, max_iter=1000, solver=sgd; total time=   0.1s\n",
      "[CV] END activation=identity, batch_size=auto, hidden_layer_sizes=(25,), learning_rate=constant, max_iter=1000, solver=sgd; total time=   0.2s\n",
      "[CV] END activation=identity, batch_size=auto, hidden_layer_sizes=(25,), learning_rate=constant, max_iter=1000, solver=sgd; total time=   0.1s\n",
      "[CV] END activation=identity, batch_size=auto, hidden_layer_sizes=(25,), learning_rate=constant, max_iter=1000, solver=sgd; total time=   0.1s\n",
      "[CV] END activation=identity, batch_size=auto, hidden_layer_sizes=(25,), learning_rate=constant, max_iter=1000, solver=sgd; total time=   0.2s\n",
      "[CV] END activation=identity, batch_size=auto, hidden_layer_sizes=(25,), learning_rate=constant, max_iter=1000, solver=adam; total time=   0.1s\n",
      "[CV] END activation=identity, batch_size=auto, hidden_layer_sizes=(25,), learning_rate=constant, max_iter=1000, solver=adam; total time=   0.1s\n",
      "[CV] END activation=identity, batch_size=auto, hidden_layer_sizes=(25,), learning_rate=constant, max_iter=1000, solver=adam; total time=   0.1s\n",
      "[CV] END activation=identity, batch_size=auto, hidden_layer_sizes=(25,), learning_rate=constant, max_iter=1000, solver=adam; total time=   0.1s\n",
      "[CV] END activation=identity, batch_size=auto, hidden_layer_sizes=(25,), learning_rate=constant, max_iter=1000, solver=adam; total time=   0.1s\n",
      "[CV] END activation=identity, batch_size=auto, hidden_layer_sizes=(25,), learning_rate=constant, max_iter=1000, solver=adam; total time=   0.1s\n",
      "[CV] END activation=identity, batch_size=auto, hidden_layer_sizes=(25,), learning_rate=constant, max_iter=1000, solver=adam; total time=   0.1s\n",
      "[CV] END activation=identity, batch_size=auto, hidden_layer_sizes=(25,), learning_rate=constant, max_iter=1000, solver=adam; total time=   0.1s\n",
      "[CV] END activation=identity, batch_size=auto, hidden_layer_sizes=(25,), learning_rate=constant, max_iter=1000, solver=adam; total time=   0.1s\n",
      "[CV] END activation=identity, batch_size=auto, hidden_layer_sizes=(25,), learning_rate=constant, max_iter=1000, solver=adam; total time=   0.1s\n",
      "[CV] END activation=identity, batch_size=auto, hidden_layer_sizes=(25,), learning_rate=invscaling, max_iter=1000, solver=lbfgs; total time=   0.3s\n",
      "[CV] END activation=identity, batch_size=auto, hidden_layer_sizes=(25,), learning_rate=invscaling, max_iter=1000, solver=lbfgs; total time=   0.1s\n",
      "[CV] END activation=identity, batch_size=auto, hidden_layer_sizes=(25,), learning_rate=invscaling, max_iter=1000, solver=lbfgs; total time=   0.1s\n",
      "[CV] END activation=identity, batch_size=auto, hidden_layer_sizes=(25,), learning_rate=invscaling, max_iter=1000, solver=lbfgs; total time=   0.3s\n",
      "[CV] END activation=identity, batch_size=auto, hidden_layer_sizes=(25,), learning_rate=invscaling, max_iter=1000, solver=lbfgs; total time=   0.3s\n",
      "[CV] END activation=identity, batch_size=auto, hidden_layer_sizes=(25,), learning_rate=invscaling, max_iter=1000, solver=lbfgs; total time=   0.3s\n",
      "[CV] END activation=identity, batch_size=auto, hidden_layer_sizes=(25,), learning_rate=invscaling, max_iter=1000, solver=lbfgs; total time=   0.0s\n",
      "[CV] END activation=identity, batch_size=auto, hidden_layer_sizes=(25,), learning_rate=invscaling, max_iter=1000, solver=lbfgs; total time=   0.2s\n",
      "[CV] END activation=identity, batch_size=auto, hidden_layer_sizes=(25,), learning_rate=invscaling, max_iter=1000, solver=lbfgs; total time=   0.1s\n",
      "[CV] END activation=identity, batch_size=auto, hidden_layer_sizes=(25,), learning_rate=invscaling, max_iter=1000, solver=lbfgs; total time=   0.1s\n",
      "[CV] END activation=identity, batch_size=auto, hidden_layer_sizes=(25,), learning_rate=invscaling, max_iter=1000, solver=sgd; total time=   0.1s\n",
      "[CV] END activation=identity, batch_size=auto, hidden_layer_sizes=(25,), learning_rate=invscaling, max_iter=1000, solver=sgd; total time=   0.1s\n",
      "[CV] END activation=identity, batch_size=auto, hidden_layer_sizes=(25,), learning_rate=invscaling, max_iter=1000, solver=sgd; total time=   0.2s\n",
      "[CV] END activation=identity, batch_size=auto, hidden_layer_sizes=(25,), learning_rate=invscaling, max_iter=1000, solver=sgd; total time=   0.2s\n",
      "[CV] END activation=identity, batch_size=auto, hidden_layer_sizes=(25,), learning_rate=invscaling, max_iter=1000, solver=sgd; total time=   0.0s\n",
      "[CV] END activation=identity, batch_size=auto, hidden_layer_sizes=(25,), learning_rate=invscaling, max_iter=1000, solver=sgd; total time=   0.1s\n",
      "[CV] END activation=identity, batch_size=auto, hidden_layer_sizes=(25,), learning_rate=invscaling, max_iter=1000, solver=sgd; total time=   0.1s\n",
      "[CV] END activation=identity, batch_size=auto, hidden_layer_sizes=(25,), learning_rate=invscaling, max_iter=1000, solver=sgd; total time=   0.1s\n",
      "[CV] END activation=identity, batch_size=auto, hidden_layer_sizes=(25,), learning_rate=invscaling, max_iter=1000, solver=sgd; total time=   0.0s\n",
      "[CV] END activation=identity, batch_size=auto, hidden_layer_sizes=(25,), learning_rate=invscaling, max_iter=1000, solver=sgd; total time=   0.0s\n",
      "[CV] END activation=identity, batch_size=auto, hidden_layer_sizes=(25,), learning_rate=invscaling, max_iter=1000, solver=adam; total time=   0.1s\n",
      "[CV] END activation=identity, batch_size=auto, hidden_layer_sizes=(25,), learning_rate=invscaling, max_iter=1000, solver=adam; total time=   0.1s\n",
      "[CV] END activation=identity, batch_size=auto, hidden_layer_sizes=(25,), learning_rate=invscaling, max_iter=1000, solver=adam; total time=   0.1s\n",
      "[CV] END activation=identity, batch_size=auto, hidden_layer_sizes=(25,), learning_rate=invscaling, max_iter=1000, solver=adam; total time=   0.1s\n",
      "[CV] END activation=identity, batch_size=auto, hidden_layer_sizes=(25,), learning_rate=invscaling, max_iter=1000, solver=adam; total time=   0.1s\n",
      "[CV] END activation=identity, batch_size=auto, hidden_layer_sizes=(25,), learning_rate=invscaling, max_iter=1000, solver=adam; total time=   0.1s\n",
      "[CV] END activation=identity, batch_size=auto, hidden_layer_sizes=(25,), learning_rate=invscaling, max_iter=1000, solver=adam; total time=   0.1s\n",
      "[CV] END activation=identity, batch_size=auto, hidden_layer_sizes=(25,), learning_rate=invscaling, max_iter=1000, solver=adam; total time=   0.1s\n",
      "[CV] END activation=identity, batch_size=auto, hidden_layer_sizes=(25,), learning_rate=invscaling, max_iter=1000, solver=adam; total time=   0.1s\n",
      "[CV] END activation=identity, batch_size=auto, hidden_layer_sizes=(25,), learning_rate=invscaling, max_iter=1000, solver=adam; total time=   0.1s\n",
      "[CV] END activation=identity, batch_size=auto, hidden_layer_sizes=(25,), learning_rate=adaptive, max_iter=1000, solver=lbfgs; total time=   0.0s\n",
      "[CV] END activation=identity, batch_size=auto, hidden_layer_sizes=(25,), learning_rate=adaptive, max_iter=1000, solver=lbfgs; total time=   0.0s\n",
      "[CV] END activation=identity, batch_size=auto, hidden_layer_sizes=(25,), learning_rate=adaptive, max_iter=1000, solver=lbfgs; total time=   0.1s\n",
      "[CV] END activation=identity, batch_size=auto, hidden_layer_sizes=(25,), learning_rate=adaptive, max_iter=1000, solver=lbfgs; total time=   0.0s\n",
      "[CV] END activation=identity, batch_size=auto, hidden_layer_sizes=(25,), learning_rate=adaptive, max_iter=1000, solver=lbfgs; total time=   0.1s\n",
      "[CV] END activation=identity, batch_size=auto, hidden_layer_sizes=(25,), learning_rate=adaptive, max_iter=1000, solver=lbfgs; total time=   0.0s\n",
      "[CV] END activation=identity, batch_size=auto, hidden_layer_sizes=(25,), learning_rate=adaptive, max_iter=1000, solver=lbfgs; total time=   0.0s\n",
      "[CV] END activation=identity, batch_size=auto, hidden_layer_sizes=(25,), learning_rate=adaptive, max_iter=1000, solver=lbfgs; total time=   0.0s\n",
      "[CV] END activation=identity, batch_size=auto, hidden_layer_sizes=(25,), learning_rate=adaptive, max_iter=1000, solver=lbfgs; total time=   0.0s\n",
      "[CV] END activation=identity, batch_size=auto, hidden_layer_sizes=(25,), learning_rate=adaptive, max_iter=1000, solver=lbfgs; total time=   0.1s\n",
      "[CV] END activation=identity, batch_size=auto, hidden_layer_sizes=(25,), learning_rate=adaptive, max_iter=1000, solver=sgd; total time=   0.2s\n",
      "[CV] END activation=identity, batch_size=auto, hidden_layer_sizes=(25,), learning_rate=adaptive, max_iter=1000, solver=sgd; total time=   0.2s\n",
      "[CV] END activation=identity, batch_size=auto, hidden_layer_sizes=(25,), learning_rate=adaptive, max_iter=1000, solver=sgd; total time=   0.1s\n",
      "[CV] END activation=identity, batch_size=auto, hidden_layer_sizes=(25,), learning_rate=adaptive, max_iter=1000, solver=sgd; total time=   0.2s\n",
      "[CV] END activation=identity, batch_size=auto, hidden_layer_sizes=(25,), learning_rate=adaptive, max_iter=1000, solver=sgd; total time=   0.2s\n",
      "[CV] END activation=identity, batch_size=auto, hidden_layer_sizes=(25,), learning_rate=adaptive, max_iter=1000, solver=sgd; total time=   0.2s\n",
      "[CV] END activation=identity, batch_size=auto, hidden_layer_sizes=(25,), learning_rate=adaptive, max_iter=1000, solver=sgd; total time=   0.1s\n",
      "[CV] END activation=identity, batch_size=auto, hidden_layer_sizes=(25,), learning_rate=adaptive, max_iter=1000, solver=sgd; total time=   0.2s\n",
      "[CV] END activation=identity, batch_size=auto, hidden_layer_sizes=(25,), learning_rate=adaptive, max_iter=1000, solver=sgd; total time=   0.2s\n",
      "[CV] END activation=identity, batch_size=auto, hidden_layer_sizes=(25,), learning_rate=adaptive, max_iter=1000, solver=sgd; total time=   0.2s\n",
      "[CV] END activation=identity, batch_size=auto, hidden_layer_sizes=(25,), learning_rate=adaptive, max_iter=1000, solver=adam; total time=   0.1s\n",
      "[CV] END activation=identity, batch_size=auto, hidden_layer_sizes=(25,), learning_rate=adaptive, max_iter=1000, solver=adam; total time=   0.1s\n",
      "[CV] END activation=identity, batch_size=auto, hidden_layer_sizes=(25,), learning_rate=adaptive, max_iter=1000, solver=adam; total time=   0.1s\n",
      "[CV] END activation=identity, batch_size=auto, hidden_layer_sizes=(25,), learning_rate=adaptive, max_iter=1000, solver=adam; total time=   0.1s\n",
      "[CV] END activation=identity, batch_size=auto, hidden_layer_sizes=(25,), learning_rate=adaptive, max_iter=1000, solver=adam; total time=   0.1s\n",
      "[CV] END activation=identity, batch_size=auto, hidden_layer_sizes=(25,), learning_rate=adaptive, max_iter=1000, solver=adam; total time=   0.1s\n",
      "[CV] END activation=identity, batch_size=auto, hidden_layer_sizes=(25,), learning_rate=adaptive, max_iter=1000, solver=adam; total time=   0.1s\n",
      "[CV] END activation=identity, batch_size=auto, hidden_layer_sizes=(25,), learning_rate=adaptive, max_iter=1000, solver=adam; total time=   0.1s\n",
      "[CV] END activation=identity, batch_size=auto, hidden_layer_sizes=(25,), learning_rate=adaptive, max_iter=1000, solver=adam; total time=   0.1s\n",
      "[CV] END activation=identity, batch_size=auto, hidden_layer_sizes=(25,), learning_rate=adaptive, max_iter=1000, solver=adam; total time=   0.1s\n",
      "[CV] END activation=identity, batch_size=auto, hidden_layer_sizes=(75,), learning_rate=constant, max_iter=1000, solver=lbfgs; total time=   3.8s\n",
      "[CV] END activation=identity, batch_size=auto, hidden_layer_sizes=(75,), learning_rate=constant, max_iter=1000, solver=lbfgs; total time=   0.7s\n",
      "[CV] END activation=identity, batch_size=auto, hidden_layer_sizes=(75,), learning_rate=constant, max_iter=1000, solver=lbfgs; total time=   0.0s\n",
      "[CV] END activation=identity, batch_size=auto, hidden_layer_sizes=(75,), learning_rate=constant, max_iter=1000, solver=lbfgs; total time=   0.1s\n",
      "[CV] END activation=identity, batch_size=auto, hidden_layer_sizes=(75,), learning_rate=constant, max_iter=1000, solver=lbfgs; total time=   0.1s\n",
      "[CV] END activation=identity, batch_size=auto, hidden_layer_sizes=(75,), learning_rate=constant, max_iter=1000, solver=lbfgs; total time=   0.3s\n",
      "[CV] END activation=identity, batch_size=auto, hidden_layer_sizes=(75,), learning_rate=constant, max_iter=1000, solver=lbfgs; total time=   0.2s\n",
      "[CV] END activation=identity, batch_size=auto, hidden_layer_sizes=(75,), learning_rate=constant, max_iter=1000, solver=lbfgs; total time=   0.2s\n",
      "[CV] END activation=identity, batch_size=auto, hidden_layer_sizes=(75,), learning_rate=constant, max_iter=1000, solver=lbfgs; total time=   0.1s\n",
      "[CV] END activation=identity, batch_size=auto, hidden_layer_sizes=(75,), learning_rate=constant, max_iter=1000, solver=lbfgs; total time=   0.6s\n",
      "[CV] END activation=identity, batch_size=auto, hidden_layer_sizes=(75,), learning_rate=constant, max_iter=1000, solver=sgd; total time=   0.6s\n",
      "[CV] END activation=identity, batch_size=auto, hidden_layer_sizes=(75,), learning_rate=constant, max_iter=1000, solver=sgd; total time=   1.1s\n",
      "[CV] END activation=identity, batch_size=auto, hidden_layer_sizes=(75,), learning_rate=constant, max_iter=1000, solver=sgd; total time=   2.1s\n",
      "[CV] END activation=identity, batch_size=auto, hidden_layer_sizes=(75,), learning_rate=constant, max_iter=1000, solver=sgd; total time=   1.4s\n",
      "[CV] END activation=identity, batch_size=auto, hidden_layer_sizes=(75,), learning_rate=constant, max_iter=1000, solver=sgd; total time=   1.7s\n",
      "[CV] END activation=identity, batch_size=auto, hidden_layer_sizes=(75,), learning_rate=constant, max_iter=1000, solver=sgd; total time=   0.7s\n",
      "[CV] END activation=identity, batch_size=auto, hidden_layer_sizes=(75,), learning_rate=constant, max_iter=1000, solver=sgd; total time=   1.2s\n",
      "[CV] END activation=identity, batch_size=auto, hidden_layer_sizes=(75,), learning_rate=constant, max_iter=1000, solver=sgd; total time=   1.1s\n",
      "[CV] END activation=identity, batch_size=auto, hidden_layer_sizes=(75,), learning_rate=constant, max_iter=1000, solver=sgd; total time=   0.8s\n",
      "[CV] END activation=identity, batch_size=auto, hidden_layer_sizes=(75,), learning_rate=constant, max_iter=1000, solver=sgd; total time=   2.0s\n",
      "[CV] END activation=identity, batch_size=auto, hidden_layer_sizes=(75,), learning_rate=constant, max_iter=1000, solver=adam; total time=   0.4s\n",
      "[CV] END activation=identity, batch_size=auto, hidden_layer_sizes=(75,), learning_rate=constant, max_iter=1000, solver=adam; total time=   0.5s\n",
      "[CV] END activation=identity, batch_size=auto, hidden_layer_sizes=(75,), learning_rate=constant, max_iter=1000, solver=adam; total time=   0.5s\n",
      "[CV] END activation=identity, batch_size=auto, hidden_layer_sizes=(75,), learning_rate=constant, max_iter=1000, solver=adam; total time=   0.1s\n",
      "[CV] END activation=identity, batch_size=auto, hidden_layer_sizes=(75,), learning_rate=constant, max_iter=1000, solver=adam; total time=   0.5s\n",
      "[CV] END activation=identity, batch_size=auto, hidden_layer_sizes=(75,), learning_rate=constant, max_iter=1000, solver=adam; total time=   0.2s\n",
      "[CV] END activation=identity, batch_size=auto, hidden_layer_sizes=(75,), learning_rate=constant, max_iter=1000, solver=adam; total time=   0.4s\n",
      "[CV] END activation=identity, batch_size=auto, hidden_layer_sizes=(75,), learning_rate=constant, max_iter=1000, solver=adam; total time=   0.1s\n",
      "[CV] END activation=identity, batch_size=auto, hidden_layer_sizes=(75,), learning_rate=constant, max_iter=1000, solver=adam; total time=   0.1s\n",
      "[CV] END activation=identity, batch_size=auto, hidden_layer_sizes=(75,), learning_rate=constant, max_iter=1000, solver=adam; total time=   1.6s\n",
      "[CV] END activation=identity, batch_size=auto, hidden_layer_sizes=(75,), learning_rate=invscaling, max_iter=1000, solver=lbfgs; total time=   0.3s\n",
      "[CV] END activation=identity, batch_size=auto, hidden_layer_sizes=(75,), learning_rate=invscaling, max_iter=1000, solver=lbfgs; total time=   0.1s\n",
      "[CV] END activation=identity, batch_size=auto, hidden_layer_sizes=(75,), learning_rate=invscaling, max_iter=1000, solver=lbfgs; total time=   0.9s\n",
      "[CV] END activation=identity, batch_size=auto, hidden_layer_sizes=(75,), learning_rate=invscaling, max_iter=1000, solver=lbfgs; total time=   0.2s\n",
      "[CV] END activation=identity, batch_size=auto, hidden_layer_sizes=(75,), learning_rate=invscaling, max_iter=1000, solver=lbfgs; total time=   0.1s\n",
      "[CV] END activation=identity, batch_size=auto, hidden_layer_sizes=(75,), learning_rate=invscaling, max_iter=1000, solver=lbfgs; total time=   0.5s\n",
      "[CV] END activation=identity, batch_size=auto, hidden_layer_sizes=(75,), learning_rate=invscaling, max_iter=1000, solver=lbfgs; total time=   0.3s\n",
      "[CV] END activation=identity, batch_size=auto, hidden_layer_sizes=(75,), learning_rate=invscaling, max_iter=1000, solver=lbfgs; total time=   0.3s\n",
      "[CV] END activation=identity, batch_size=auto, hidden_layer_sizes=(75,), learning_rate=invscaling, max_iter=1000, solver=lbfgs; total time=   0.1s\n",
      "[CV] END activation=identity, batch_size=auto, hidden_layer_sizes=(75,), learning_rate=invscaling, max_iter=1000, solver=lbfgs; total time=   0.1s\n",
      "[CV] END activation=identity, batch_size=auto, hidden_layer_sizes=(75,), learning_rate=invscaling, max_iter=1000, solver=sgd; total time=   0.1s\n",
      "[CV] END activation=identity, batch_size=auto, hidden_layer_sizes=(75,), learning_rate=invscaling, max_iter=1000, solver=sgd; total time=   0.2s\n",
      "[CV] END activation=identity, batch_size=auto, hidden_layer_sizes=(75,), learning_rate=invscaling, max_iter=1000, solver=sgd; total time=   4.4s\n",
      "[CV] END activation=identity, batch_size=auto, hidden_layer_sizes=(75,), learning_rate=invscaling, max_iter=1000, solver=sgd; total time=   1.3s\n",
      "[CV] END activation=identity, batch_size=auto, hidden_layer_sizes=(75,), learning_rate=invscaling, max_iter=1000, solver=sgd; total time=   0.2s\n",
      "[CV] END activation=identity, batch_size=auto, hidden_layer_sizes=(75,), learning_rate=invscaling, max_iter=1000, solver=sgd; total time=   2.0s\n",
      "[CV] END activation=identity, batch_size=auto, hidden_layer_sizes=(75,), learning_rate=invscaling, max_iter=1000, solver=sgd; total time=   7.9s\n",
      "[CV] END activation=identity, batch_size=auto, hidden_layer_sizes=(75,), learning_rate=invscaling, max_iter=1000, solver=sgd; total time=   6.7s\n",
      "[CV] END activation=identity, batch_size=auto, hidden_layer_sizes=(75,), learning_rate=invscaling, max_iter=1000, solver=sgd; total time=   7.8s\n",
      "[CV] END activation=identity, batch_size=auto, hidden_layer_sizes=(75,), learning_rate=invscaling, max_iter=1000, solver=sgd; total time=   3.6s\n",
      "[CV] END activation=identity, batch_size=auto, hidden_layer_sizes=(75,), learning_rate=invscaling, max_iter=1000, solver=adam; total time=   1.7s\n",
      "[CV] END activation=identity, batch_size=auto, hidden_layer_sizes=(75,), learning_rate=invscaling, max_iter=1000, solver=adam; total time=   1.2s\n",
      "[CV] END activation=identity, batch_size=auto, hidden_layer_sizes=(75,), learning_rate=invscaling, max_iter=1000, solver=adam; total time=   1.1s\n",
      "[CV] END activation=identity, batch_size=auto, hidden_layer_sizes=(75,), learning_rate=invscaling, max_iter=1000, solver=adam; total time=   2.3s\n",
      "[CV] END activation=identity, batch_size=auto, hidden_layer_sizes=(75,), learning_rate=invscaling, max_iter=1000, solver=adam; total time=   1.0s\n",
      "[CV] END activation=identity, batch_size=auto, hidden_layer_sizes=(75,), learning_rate=invscaling, max_iter=1000, solver=adam; total time=   3.4s\n",
      "[CV] END activation=identity, batch_size=auto, hidden_layer_sizes=(75,), learning_rate=invscaling, max_iter=1000, solver=adam; total time=   3.1s\n",
      "[CV] END activation=identity, batch_size=auto, hidden_layer_sizes=(75,), learning_rate=invscaling, max_iter=1000, solver=adam; total time=   2.8s\n",
      "[CV] END activation=identity, batch_size=auto, hidden_layer_sizes=(75,), learning_rate=invscaling, max_iter=1000, solver=adam; total time=   6.8s\n",
      "[CV] END activation=identity, batch_size=auto, hidden_layer_sizes=(75,), learning_rate=invscaling, max_iter=1000, solver=adam; total time=   7.0s\n",
      "[CV] END activation=identity, batch_size=auto, hidden_layer_sizes=(75,), learning_rate=adaptive, max_iter=1000, solver=lbfgs; total time=   6.8s\n",
      "[CV] END activation=identity, batch_size=auto, hidden_layer_sizes=(75,), learning_rate=adaptive, max_iter=1000, solver=lbfgs; total time=   7.6s\n",
      "[CV] END activation=identity, batch_size=auto, hidden_layer_sizes=(75,), learning_rate=adaptive, max_iter=1000, solver=lbfgs; total time=   7.3s\n",
      "[CV] END activation=identity, batch_size=auto, hidden_layer_sizes=(75,), learning_rate=adaptive, max_iter=1000, solver=lbfgs; total time=   6.3s\n",
      "[CV] END activation=identity, batch_size=auto, hidden_layer_sizes=(75,), learning_rate=adaptive, max_iter=1000, solver=lbfgs; total time=   8.3s\n",
      "[CV] END activation=identity, batch_size=auto, hidden_layer_sizes=(75,), learning_rate=adaptive, max_iter=1000, solver=lbfgs; total time=   7.5s\n",
      "[CV] END activation=identity, batch_size=auto, hidden_layer_sizes=(75,), learning_rate=adaptive, max_iter=1000, solver=lbfgs; total time=   1.3s\n",
      "[CV] END activation=identity, batch_size=auto, hidden_layer_sizes=(75,), learning_rate=adaptive, max_iter=1000, solver=lbfgs; total time=   0.8s\n",
      "[CV] END activation=identity, batch_size=auto, hidden_layer_sizes=(75,), learning_rate=adaptive, max_iter=1000, solver=lbfgs; total time=   1.6s\n",
      "[CV] END activation=identity, batch_size=auto, hidden_layer_sizes=(75,), learning_rate=adaptive, max_iter=1000, solver=lbfgs; total time=   1.4s\n",
      "[CV] END activation=identity, batch_size=auto, hidden_layer_sizes=(75,), learning_rate=adaptive, max_iter=1000, solver=sgd; total time=   7.9s\n",
      "[CV] END activation=identity, batch_size=auto, hidden_layer_sizes=(75,), learning_rate=adaptive, max_iter=1000, solver=sgd; total time=   6.8s\n",
      "[CV] END activation=identity, batch_size=auto, hidden_layer_sizes=(75,), learning_rate=adaptive, max_iter=1000, solver=sgd; total time=   8.5s\n",
      "[CV] END activation=identity, batch_size=auto, hidden_layer_sizes=(75,), learning_rate=adaptive, max_iter=1000, solver=sgd; total time=   5.3s\n",
      "[CV] END activation=identity, batch_size=auto, hidden_layer_sizes=(75,), learning_rate=adaptive, max_iter=1000, solver=sgd; total time=   6.3s\n",
      "[CV] END activation=identity, batch_size=auto, hidden_layer_sizes=(75,), learning_rate=adaptive, max_iter=1000, solver=sgd; total time=   4.9s\n",
      "[CV] END activation=identity, batch_size=auto, hidden_layer_sizes=(75,), learning_rate=adaptive, max_iter=1000, solver=sgd; total time=   7.5s\n",
      "[CV] END activation=identity, batch_size=auto, hidden_layer_sizes=(75,), learning_rate=adaptive, max_iter=1000, solver=sgd; total time=   5.4s\n",
      "[CV] END activation=identity, batch_size=auto, hidden_layer_sizes=(75,), learning_rate=adaptive, max_iter=1000, solver=sgd; total time=   5.1s\n",
      "[CV] END activation=identity, batch_size=auto, hidden_layer_sizes=(75,), learning_rate=adaptive, max_iter=1000, solver=sgd; total time=   6.6s\n",
      "[CV] END activation=identity, batch_size=auto, hidden_layer_sizes=(75,), learning_rate=adaptive, max_iter=1000, solver=adam; total time=   1.8s\n",
      "[CV] END activation=identity, batch_size=auto, hidden_layer_sizes=(75,), learning_rate=adaptive, max_iter=1000, solver=adam; total time=   2.5s\n",
      "[CV] END activation=identity, batch_size=auto, hidden_layer_sizes=(75,), learning_rate=adaptive, max_iter=1000, solver=adam; total time=   3.1s\n",
      "[CV] END activation=identity, batch_size=auto, hidden_layer_sizes=(75,), learning_rate=adaptive, max_iter=1000, solver=adam; total time=   1.9s\n",
      "[CV] END activation=identity, batch_size=auto, hidden_layer_sizes=(75,), learning_rate=adaptive, max_iter=1000, solver=adam; total time=   1.8s\n",
      "[CV] END activation=identity, batch_size=auto, hidden_layer_sizes=(75,), learning_rate=adaptive, max_iter=1000, solver=adam; total time=   1.3s\n",
      "[CV] END activation=identity, batch_size=auto, hidden_layer_sizes=(75,), learning_rate=adaptive, max_iter=1000, solver=adam; total time=   2.3s\n",
      "[CV] END activation=identity, batch_size=auto, hidden_layer_sizes=(75,), learning_rate=adaptive, max_iter=1000, solver=adam; total time=   2.5s\n",
      "[CV] END activation=identity, batch_size=auto, hidden_layer_sizes=(75,), learning_rate=adaptive, max_iter=1000, solver=adam; total time=   2.5s\n",
      "[CV] END activation=identity, batch_size=auto, hidden_layer_sizes=(75,), learning_rate=adaptive, max_iter=1000, solver=adam; total time=   0.8s\n",
      "[CV] END activation=logistic, batch_size=auto, hidden_layer_sizes=(10,), learning_rate=constant, max_iter=1000, solver=lbfgs; total time=   0.2s\n"
     ]
    },
    {
     "name": "stderr",
     "output_type": "stream",
     "text": [
      "/Users/mariusj/Documents/Edu/UMA/lectures/Data Mining/Project/dm1-titanic/.venv/lib/python3.9/site-packages/sklearn/neural_network/_multilayer_perceptron.py:559: ConvergenceWarning: lbfgs failed to converge (status=1):\n",
      "STOP: TOTAL NO. of ITERATIONS REACHED LIMIT.\n",
      "\n",
      "Increase the number of iterations (max_iter) or scale the data as shown in:\n",
      "    https://scikit-learn.org/stable/modules/preprocessing.html\n",
      "  self.n_iter_ = _check_optimize_result(\"lbfgs\", opt_res, self.max_iter)\n"
     ]
    },
    {
     "name": "stdout",
     "output_type": "stream",
     "text": [
      "[CV] END activation=logistic, batch_size=auto, hidden_layer_sizes=(10,), learning_rate=constant, max_iter=1000, solver=lbfgs; total time=   0.2s\n",
      "[CV] END activation=logistic, batch_size=auto, hidden_layer_sizes=(10,), learning_rate=constant, max_iter=1000, solver=lbfgs; total time=   0.1s\n",
      "[CV] END activation=logistic, batch_size=auto, hidden_layer_sizes=(10,), learning_rate=constant, max_iter=1000, solver=lbfgs; total time=   0.1s\n"
     ]
    },
    {
     "name": "stderr",
     "output_type": "stream",
     "text": [
      "/Users/mariusj/Documents/Edu/UMA/lectures/Data Mining/Project/dm1-titanic/.venv/lib/python3.9/site-packages/sklearn/neural_network/_multilayer_perceptron.py:559: ConvergenceWarning: lbfgs failed to converge (status=1):\n",
      "STOP: TOTAL NO. of ITERATIONS REACHED LIMIT.\n",
      "\n",
      "Increase the number of iterations (max_iter) or scale the data as shown in:\n",
      "    https://scikit-learn.org/stable/modules/preprocessing.html\n",
      "  self.n_iter_ = _check_optimize_result(\"lbfgs\", opt_res, self.max_iter)\n"
     ]
    },
    {
     "name": "stdout",
     "output_type": "stream",
     "text": [
      "[CV] END activation=logistic, batch_size=auto, hidden_layer_sizes=(10,), learning_rate=constant, max_iter=1000, solver=lbfgs; total time=   0.2s\n"
     ]
    },
    {
     "name": "stderr",
     "output_type": "stream",
     "text": [
      "/Users/mariusj/Documents/Edu/UMA/lectures/Data Mining/Project/dm1-titanic/.venv/lib/python3.9/site-packages/sklearn/neural_network/_multilayer_perceptron.py:559: ConvergenceWarning: lbfgs failed to converge (status=1):\n",
      "STOP: TOTAL NO. of ITERATIONS REACHED LIMIT.\n",
      "\n",
      "Increase the number of iterations (max_iter) or scale the data as shown in:\n",
      "    https://scikit-learn.org/stable/modules/preprocessing.html\n",
      "  self.n_iter_ = _check_optimize_result(\"lbfgs\", opt_res, self.max_iter)\n"
     ]
    },
    {
     "name": "stdout",
     "output_type": "stream",
     "text": [
      "[CV] END activation=logistic, batch_size=auto, hidden_layer_sizes=(10,), learning_rate=constant, max_iter=1000, solver=lbfgs; total time=   0.2s\n"
     ]
    },
    {
     "name": "stderr",
     "output_type": "stream",
     "text": [
      "/Users/mariusj/Documents/Edu/UMA/lectures/Data Mining/Project/dm1-titanic/.venv/lib/python3.9/site-packages/sklearn/neural_network/_multilayer_perceptron.py:559: ConvergenceWarning: lbfgs failed to converge (status=1):\n",
      "STOP: TOTAL NO. of ITERATIONS REACHED LIMIT.\n",
      "\n",
      "Increase the number of iterations (max_iter) or scale the data as shown in:\n",
      "    https://scikit-learn.org/stable/modules/preprocessing.html\n",
      "  self.n_iter_ = _check_optimize_result(\"lbfgs\", opt_res, self.max_iter)\n"
     ]
    },
    {
     "name": "stdout",
     "output_type": "stream",
     "text": [
      "[CV] END activation=logistic, batch_size=auto, hidden_layer_sizes=(10,), learning_rate=constant, max_iter=1000, solver=lbfgs; total time=   0.2s\n",
      "[CV] END activation=logistic, batch_size=auto, hidden_layer_sizes=(10,), learning_rate=constant, max_iter=1000, solver=lbfgs; total time=   0.2s\n",
      "[CV] END activation=logistic, batch_size=auto, hidden_layer_sizes=(10,), learning_rate=constant, max_iter=1000, solver=lbfgs; total time=   0.1s\n"
     ]
    },
    {
     "name": "stderr",
     "output_type": "stream",
     "text": [
      "/Users/mariusj/Documents/Edu/UMA/lectures/Data Mining/Project/dm1-titanic/.venv/lib/python3.9/site-packages/sklearn/neural_network/_multilayer_perceptron.py:559: ConvergenceWarning: lbfgs failed to converge (status=1):\n",
      "STOP: TOTAL NO. of ITERATIONS REACHED LIMIT.\n",
      "\n",
      "Increase the number of iterations (max_iter) or scale the data as shown in:\n",
      "    https://scikit-learn.org/stable/modules/preprocessing.html\n",
      "  self.n_iter_ = _check_optimize_result(\"lbfgs\", opt_res, self.max_iter)\n"
     ]
    },
    {
     "name": "stdout",
     "output_type": "stream",
     "text": [
      "[CV] END activation=logistic, batch_size=auto, hidden_layer_sizes=(10,), learning_rate=constant, max_iter=1000, solver=lbfgs; total time=   0.2s\n",
      "[CV] END activation=logistic, batch_size=auto, hidden_layer_sizes=(10,), learning_rate=constant, max_iter=1000, solver=sgd; total time=   0.3s\n",
      "[CV] END activation=logistic, batch_size=auto, hidden_layer_sizes=(10,), learning_rate=constant, max_iter=1000, solver=sgd; total time=   0.0s\n",
      "[CV] END activation=logistic, batch_size=auto, hidden_layer_sizes=(10,), learning_rate=constant, max_iter=1000, solver=sgd; total time=   0.2s\n",
      "[CV] END activation=logistic, batch_size=auto, hidden_layer_sizes=(10,), learning_rate=constant, max_iter=1000, solver=sgd; total time=   0.1s\n",
      "[CV] END activation=logistic, batch_size=auto, hidden_layer_sizes=(10,), learning_rate=constant, max_iter=1000, solver=sgd; total time=   0.3s\n",
      "[CV] END activation=logistic, batch_size=auto, hidden_layer_sizes=(10,), learning_rate=constant, max_iter=1000, solver=sgd; total time=   0.2s\n",
      "[CV] END activation=logistic, batch_size=auto, hidden_layer_sizes=(10,), learning_rate=constant, max_iter=1000, solver=sgd; total time=   0.2s\n",
      "[CV] END activation=logistic, batch_size=auto, hidden_layer_sizes=(10,), learning_rate=constant, max_iter=1000, solver=sgd; total time=   0.2s\n",
      "[CV] END activation=logistic, batch_size=auto, hidden_layer_sizes=(10,), learning_rate=constant, max_iter=1000, solver=sgd; total time=   0.3s\n",
      "[CV] END activation=logistic, batch_size=auto, hidden_layer_sizes=(10,), learning_rate=constant, max_iter=1000, solver=sgd; total time=   0.2s\n",
      "[CV] END activation=logistic, batch_size=auto, hidden_layer_sizes=(10,), learning_rate=constant, max_iter=1000, solver=adam; total time=   0.2s\n",
      "[CV] END activation=logistic, batch_size=auto, hidden_layer_sizes=(10,), learning_rate=constant, max_iter=1000, solver=adam; total time=   0.2s\n",
      "[CV] END activation=logistic, batch_size=auto, hidden_layer_sizes=(10,), learning_rate=constant, max_iter=1000, solver=adam; total time=   0.2s\n",
      "[CV] END activation=logistic, batch_size=auto, hidden_layer_sizes=(10,), learning_rate=constant, max_iter=1000, solver=adam; total time=   0.2s\n",
      "[CV] END activation=logistic, batch_size=auto, hidden_layer_sizes=(10,), learning_rate=constant, max_iter=1000, solver=adam; total time=   0.2s\n",
      "[CV] END activation=logistic, batch_size=auto, hidden_layer_sizes=(10,), learning_rate=constant, max_iter=1000, solver=adam; total time=   0.2s\n",
      "[CV] END activation=logistic, batch_size=auto, hidden_layer_sizes=(10,), learning_rate=constant, max_iter=1000, solver=adam; total time=   0.2s\n",
      "[CV] END activation=logistic, batch_size=auto, hidden_layer_sizes=(10,), learning_rate=constant, max_iter=1000, solver=adam; total time=   0.2s\n",
      "[CV] END activation=logistic, batch_size=auto, hidden_layer_sizes=(10,), learning_rate=constant, max_iter=1000, solver=adam; total time=   0.2s\n",
      "[CV] END activation=logistic, batch_size=auto, hidden_layer_sizes=(10,), learning_rate=constant, max_iter=1000, solver=adam; total time=   0.2s\n"
     ]
    },
    {
     "name": "stderr",
     "output_type": "stream",
     "text": [
      "/Users/mariusj/Documents/Edu/UMA/lectures/Data Mining/Project/dm1-titanic/.venv/lib/python3.9/site-packages/sklearn/neural_network/_multilayer_perceptron.py:559: ConvergenceWarning: lbfgs failed to converge (status=1):\n",
      "STOP: TOTAL NO. of ITERATIONS REACHED LIMIT.\n",
      "\n",
      "Increase the number of iterations (max_iter) or scale the data as shown in:\n",
      "    https://scikit-learn.org/stable/modules/preprocessing.html\n",
      "  self.n_iter_ = _check_optimize_result(\"lbfgs\", opt_res, self.max_iter)\n"
     ]
    },
    {
     "name": "stdout",
     "output_type": "stream",
     "text": [
      "[CV] END activation=logistic, batch_size=auto, hidden_layer_sizes=(10,), learning_rate=invscaling, max_iter=1000, solver=lbfgs; total time=   0.2s\n"
     ]
    },
    {
     "name": "stderr",
     "output_type": "stream",
     "text": [
      "/Users/mariusj/Documents/Edu/UMA/lectures/Data Mining/Project/dm1-titanic/.venv/lib/python3.9/site-packages/sklearn/neural_network/_multilayer_perceptron.py:559: ConvergenceWarning: lbfgs failed to converge (status=1):\n",
      "STOP: TOTAL NO. of ITERATIONS REACHED LIMIT.\n",
      "\n",
      "Increase the number of iterations (max_iter) or scale the data as shown in:\n",
      "    https://scikit-learn.org/stable/modules/preprocessing.html\n",
      "  self.n_iter_ = _check_optimize_result(\"lbfgs\", opt_res, self.max_iter)\n"
     ]
    },
    {
     "name": "stdout",
     "output_type": "stream",
     "text": [
      "[CV] END activation=logistic, batch_size=auto, hidden_layer_sizes=(10,), learning_rate=invscaling, max_iter=1000, solver=lbfgs; total time=   0.2s\n",
      "[CV] END activation=logistic, batch_size=auto, hidden_layer_sizes=(10,), learning_rate=invscaling, max_iter=1000, solver=lbfgs; total time=   0.1s\n"
     ]
    },
    {
     "name": "stderr",
     "output_type": "stream",
     "text": [
      "/Users/mariusj/Documents/Edu/UMA/lectures/Data Mining/Project/dm1-titanic/.venv/lib/python3.9/site-packages/sklearn/neural_network/_multilayer_perceptron.py:559: ConvergenceWarning: lbfgs failed to converge (status=1):\n",
      "STOP: TOTAL NO. of ITERATIONS REACHED LIMIT.\n",
      "\n",
      "Increase the number of iterations (max_iter) or scale the data as shown in:\n",
      "    https://scikit-learn.org/stable/modules/preprocessing.html\n",
      "  self.n_iter_ = _check_optimize_result(\"lbfgs\", opt_res, self.max_iter)\n"
     ]
    },
    {
     "name": "stdout",
     "output_type": "stream",
     "text": [
      "[CV] END activation=logistic, batch_size=auto, hidden_layer_sizes=(10,), learning_rate=invscaling, max_iter=1000, solver=lbfgs; total time=   0.2s\n"
     ]
    },
    {
     "name": "stderr",
     "output_type": "stream",
     "text": [
      "/Users/mariusj/Documents/Edu/UMA/lectures/Data Mining/Project/dm1-titanic/.venv/lib/python3.9/site-packages/sklearn/neural_network/_multilayer_perceptron.py:559: ConvergenceWarning: lbfgs failed to converge (status=1):\n",
      "STOP: TOTAL NO. of ITERATIONS REACHED LIMIT.\n",
      "\n",
      "Increase the number of iterations (max_iter) or scale the data as shown in:\n",
      "    https://scikit-learn.org/stable/modules/preprocessing.html\n",
      "  self.n_iter_ = _check_optimize_result(\"lbfgs\", opt_res, self.max_iter)\n"
     ]
    },
    {
     "name": "stdout",
     "output_type": "stream",
     "text": [
      "[CV] END activation=logistic, batch_size=auto, hidden_layer_sizes=(10,), learning_rate=invscaling, max_iter=1000, solver=lbfgs; total time=   0.2s\n"
     ]
    },
    {
     "name": "stderr",
     "output_type": "stream",
     "text": [
      "/Users/mariusj/Documents/Edu/UMA/lectures/Data Mining/Project/dm1-titanic/.venv/lib/python3.9/site-packages/sklearn/neural_network/_multilayer_perceptron.py:559: ConvergenceWarning: lbfgs failed to converge (status=1):\n",
      "STOP: TOTAL NO. of ITERATIONS REACHED LIMIT.\n",
      "\n",
      "Increase the number of iterations (max_iter) or scale the data as shown in:\n",
      "    https://scikit-learn.org/stable/modules/preprocessing.html\n",
      "  self.n_iter_ = _check_optimize_result(\"lbfgs\", opt_res, self.max_iter)\n"
     ]
    },
    {
     "name": "stdout",
     "output_type": "stream",
     "text": [
      "[CV] END activation=logistic, batch_size=auto, hidden_layer_sizes=(10,), learning_rate=invscaling, max_iter=1000, solver=lbfgs; total time=   0.2s\n"
     ]
    },
    {
     "name": "stderr",
     "output_type": "stream",
     "text": [
      "/Users/mariusj/Documents/Edu/UMA/lectures/Data Mining/Project/dm1-titanic/.venv/lib/python3.9/site-packages/sklearn/neural_network/_multilayer_perceptron.py:559: ConvergenceWarning: lbfgs failed to converge (status=1):\n",
      "STOP: TOTAL NO. of ITERATIONS REACHED LIMIT.\n",
      "\n",
      "Increase the number of iterations (max_iter) or scale the data as shown in:\n",
      "    https://scikit-learn.org/stable/modules/preprocessing.html\n",
      "  self.n_iter_ = _check_optimize_result(\"lbfgs\", opt_res, self.max_iter)\n"
     ]
    },
    {
     "name": "stdout",
     "output_type": "stream",
     "text": [
      "[CV] END activation=logistic, batch_size=auto, hidden_layer_sizes=(10,), learning_rate=invscaling, max_iter=1000, solver=lbfgs; total time=   0.2s\n",
      "[CV] END activation=logistic, batch_size=auto, hidden_layer_sizes=(10,), learning_rate=invscaling, max_iter=1000, solver=lbfgs; total time=   0.2s\n",
      "[CV] END activation=logistic, batch_size=auto, hidden_layer_sizes=(10,), learning_rate=invscaling, max_iter=1000, solver=lbfgs; total time=   0.2s\n",
      "[CV] END activation=logistic, batch_size=auto, hidden_layer_sizes=(10,), learning_rate=invscaling, max_iter=1000, solver=lbfgs; total time=   0.1s\n",
      "[CV] END activation=logistic, batch_size=auto, hidden_layer_sizes=(10,), learning_rate=invscaling, max_iter=1000, solver=sgd; total time=   0.0s\n",
      "[CV] END activation=logistic, batch_size=auto, hidden_layer_sizes=(10,), learning_rate=invscaling, max_iter=1000, solver=sgd; total time=   0.0s\n",
      "[CV] END activation=logistic, batch_size=auto, hidden_layer_sizes=(10,), learning_rate=invscaling, max_iter=1000, solver=sgd; total time=   0.0s\n",
      "[CV] END activation=logistic, batch_size=auto, hidden_layer_sizes=(10,), learning_rate=invscaling, max_iter=1000, solver=sgd; total time=   0.0s\n",
      "[CV] END activation=logistic, batch_size=auto, hidden_layer_sizes=(10,), learning_rate=invscaling, max_iter=1000, solver=sgd; total time=   0.0s\n",
      "[CV] END activation=logistic, batch_size=auto, hidden_layer_sizes=(10,), learning_rate=invscaling, max_iter=1000, solver=sgd; total time=   0.0s\n",
      "[CV] END activation=logistic, batch_size=auto, hidden_layer_sizes=(10,), learning_rate=invscaling, max_iter=1000, solver=sgd; total time=   0.0s\n",
      "[CV] END activation=logistic, batch_size=auto, hidden_layer_sizes=(10,), learning_rate=invscaling, max_iter=1000, solver=sgd; total time=   0.0s\n",
      "[CV] END activation=logistic, batch_size=auto, hidden_layer_sizes=(10,), learning_rate=invscaling, max_iter=1000, solver=sgd; total time=   0.0s\n",
      "[CV] END activation=logistic, batch_size=auto, hidden_layer_sizes=(10,), learning_rate=invscaling, max_iter=1000, solver=sgd; total time=   0.0s\n",
      "[CV] END activation=logistic, batch_size=auto, hidden_layer_sizes=(10,), learning_rate=invscaling, max_iter=1000, solver=adam; total time=   0.2s\n",
      "[CV] END activation=logistic, batch_size=auto, hidden_layer_sizes=(10,), learning_rate=invscaling, max_iter=1000, solver=adam; total time=   0.2s\n",
      "[CV] END activation=logistic, batch_size=auto, hidden_layer_sizes=(10,), learning_rate=invscaling, max_iter=1000, solver=adam; total time=   0.2s\n",
      "[CV] END activation=logistic, batch_size=auto, hidden_layer_sizes=(10,), learning_rate=invscaling, max_iter=1000, solver=adam; total time=   0.2s\n",
      "[CV] END activation=logistic, batch_size=auto, hidden_layer_sizes=(10,), learning_rate=invscaling, max_iter=1000, solver=adam; total time=   0.2s\n",
      "[CV] END activation=logistic, batch_size=auto, hidden_layer_sizes=(10,), learning_rate=invscaling, max_iter=1000, solver=adam; total time=   0.2s\n",
      "[CV] END activation=logistic, batch_size=auto, hidden_layer_sizes=(10,), learning_rate=invscaling, max_iter=1000, solver=adam; total time=   0.2s\n",
      "[CV] END activation=logistic, batch_size=auto, hidden_layer_sizes=(10,), learning_rate=invscaling, max_iter=1000, solver=adam; total time=   0.1s\n",
      "[CV] END activation=logistic, batch_size=auto, hidden_layer_sizes=(10,), learning_rate=invscaling, max_iter=1000, solver=adam; total time=   0.2s\n",
      "[CV] END activation=logistic, batch_size=auto, hidden_layer_sizes=(10,), learning_rate=invscaling, max_iter=1000, solver=adam; total time=   0.2s\n"
     ]
    },
    {
     "name": "stderr",
     "output_type": "stream",
     "text": [
      "/Users/mariusj/Documents/Edu/UMA/lectures/Data Mining/Project/dm1-titanic/.venv/lib/python3.9/site-packages/sklearn/neural_network/_multilayer_perceptron.py:559: ConvergenceWarning: lbfgs failed to converge (status=1):\n",
      "STOP: TOTAL NO. of ITERATIONS REACHED LIMIT.\n",
      "\n",
      "Increase the number of iterations (max_iter) or scale the data as shown in:\n",
      "    https://scikit-learn.org/stable/modules/preprocessing.html\n",
      "  self.n_iter_ = _check_optimize_result(\"lbfgs\", opt_res, self.max_iter)\n"
     ]
    },
    {
     "name": "stdout",
     "output_type": "stream",
     "text": [
      "[CV] END activation=logistic, batch_size=auto, hidden_layer_sizes=(10,), learning_rate=adaptive, max_iter=1000, solver=lbfgs; total time=   0.2s\n"
     ]
    },
    {
     "name": "stderr",
     "output_type": "stream",
     "text": [
      "/Users/mariusj/Documents/Edu/UMA/lectures/Data Mining/Project/dm1-titanic/.venv/lib/python3.9/site-packages/sklearn/neural_network/_multilayer_perceptron.py:559: ConvergenceWarning: lbfgs failed to converge (status=1):\n",
      "STOP: TOTAL NO. of ITERATIONS REACHED LIMIT.\n",
      "\n",
      "Increase the number of iterations (max_iter) or scale the data as shown in:\n",
      "    https://scikit-learn.org/stable/modules/preprocessing.html\n",
      "  self.n_iter_ = _check_optimize_result(\"lbfgs\", opt_res, self.max_iter)\n"
     ]
    },
    {
     "name": "stdout",
     "output_type": "stream",
     "text": [
      "[CV] END activation=logistic, batch_size=auto, hidden_layer_sizes=(10,), learning_rate=adaptive, max_iter=1000, solver=lbfgs; total time=   0.2s\n",
      "[CV] END activation=logistic, batch_size=auto, hidden_layer_sizes=(10,), learning_rate=adaptive, max_iter=1000, solver=lbfgs; total time=   0.1s\n"
     ]
    },
    {
     "name": "stderr",
     "output_type": "stream",
     "text": [
      "/Users/mariusj/Documents/Edu/UMA/lectures/Data Mining/Project/dm1-titanic/.venv/lib/python3.9/site-packages/sklearn/neural_network/_multilayer_perceptron.py:559: ConvergenceWarning: lbfgs failed to converge (status=1):\n",
      "STOP: TOTAL NO. of ITERATIONS REACHED LIMIT.\n",
      "\n",
      "Increase the number of iterations (max_iter) or scale the data as shown in:\n",
      "    https://scikit-learn.org/stable/modules/preprocessing.html\n",
      "  self.n_iter_ = _check_optimize_result(\"lbfgs\", opt_res, self.max_iter)\n"
     ]
    },
    {
     "name": "stdout",
     "output_type": "stream",
     "text": [
      "[CV] END activation=logistic, batch_size=auto, hidden_layer_sizes=(10,), learning_rate=adaptive, max_iter=1000, solver=lbfgs; total time=   0.2s\n",
      "[CV] END activation=logistic, batch_size=auto, hidden_layer_sizes=(10,), learning_rate=adaptive, max_iter=1000, solver=lbfgs; total time=   0.2s\n"
     ]
    },
    {
     "name": "stderr",
     "output_type": "stream",
     "text": [
      "/Users/mariusj/Documents/Edu/UMA/lectures/Data Mining/Project/dm1-titanic/.venv/lib/python3.9/site-packages/sklearn/neural_network/_multilayer_perceptron.py:559: ConvergenceWarning: lbfgs failed to converge (status=1):\n",
      "STOP: TOTAL NO. of ITERATIONS REACHED LIMIT.\n",
      "\n",
      "Increase the number of iterations (max_iter) or scale the data as shown in:\n",
      "    https://scikit-learn.org/stable/modules/preprocessing.html\n",
      "  self.n_iter_ = _check_optimize_result(\"lbfgs\", opt_res, self.max_iter)\n"
     ]
    },
    {
     "name": "stdout",
     "output_type": "stream",
     "text": [
      "[CV] END activation=logistic, batch_size=auto, hidden_layer_sizes=(10,), learning_rate=adaptive, max_iter=1000, solver=lbfgs; total time=   0.2s\n"
     ]
    },
    {
     "name": "stderr",
     "output_type": "stream",
     "text": [
      "/Users/mariusj/Documents/Edu/UMA/lectures/Data Mining/Project/dm1-titanic/.venv/lib/python3.9/site-packages/sklearn/neural_network/_multilayer_perceptron.py:559: ConvergenceWarning: lbfgs failed to converge (status=1):\n",
      "STOP: TOTAL NO. of ITERATIONS REACHED LIMIT.\n",
      "\n",
      "Increase the number of iterations (max_iter) or scale the data as shown in:\n",
      "    https://scikit-learn.org/stable/modules/preprocessing.html\n",
      "  self.n_iter_ = _check_optimize_result(\"lbfgs\", opt_res, self.max_iter)\n"
     ]
    },
    {
     "name": "stdout",
     "output_type": "stream",
     "text": [
      "[CV] END activation=logistic, batch_size=auto, hidden_layer_sizes=(10,), learning_rate=adaptive, max_iter=1000, solver=lbfgs; total time=   0.2s\n"
     ]
    },
    {
     "name": "stderr",
     "output_type": "stream",
     "text": [
      "/Users/mariusj/Documents/Edu/UMA/lectures/Data Mining/Project/dm1-titanic/.venv/lib/python3.9/site-packages/sklearn/neural_network/_multilayer_perceptron.py:559: ConvergenceWarning: lbfgs failed to converge (status=1):\n",
      "STOP: TOTAL NO. of ITERATIONS REACHED LIMIT.\n",
      "\n",
      "Increase the number of iterations (max_iter) or scale the data as shown in:\n",
      "    https://scikit-learn.org/stable/modules/preprocessing.html\n",
      "  self.n_iter_ = _check_optimize_result(\"lbfgs\", opt_res, self.max_iter)\n"
     ]
    },
    {
     "name": "stdout",
     "output_type": "stream",
     "text": [
      "[CV] END activation=logistic, batch_size=auto, hidden_layer_sizes=(10,), learning_rate=adaptive, max_iter=1000, solver=lbfgs; total time=   0.2s\n"
     ]
    },
    {
     "name": "stderr",
     "output_type": "stream",
     "text": [
      "/Users/mariusj/Documents/Edu/UMA/lectures/Data Mining/Project/dm1-titanic/.venv/lib/python3.9/site-packages/sklearn/neural_network/_multilayer_perceptron.py:559: ConvergenceWarning: lbfgs failed to converge (status=1):\n",
      "STOP: TOTAL NO. of ITERATIONS REACHED LIMIT.\n",
      "\n",
      "Increase the number of iterations (max_iter) or scale the data as shown in:\n",
      "    https://scikit-learn.org/stable/modules/preprocessing.html\n",
      "  self.n_iter_ = _check_optimize_result(\"lbfgs\", opt_res, self.max_iter)\n"
     ]
    },
    {
     "name": "stdout",
     "output_type": "stream",
     "text": [
      "[CV] END activation=logistic, batch_size=auto, hidden_layer_sizes=(10,), learning_rate=adaptive, max_iter=1000, solver=lbfgs; total time=   0.2s\n"
     ]
    },
    {
     "name": "stderr",
     "output_type": "stream",
     "text": [
      "/Users/mariusj/Documents/Edu/UMA/lectures/Data Mining/Project/dm1-titanic/.venv/lib/python3.9/site-packages/sklearn/neural_network/_multilayer_perceptron.py:559: ConvergenceWarning: lbfgs failed to converge (status=1):\n",
      "STOP: TOTAL NO. of ITERATIONS REACHED LIMIT.\n",
      "\n",
      "Increase the number of iterations (max_iter) or scale the data as shown in:\n",
      "    https://scikit-learn.org/stable/modules/preprocessing.html\n",
      "  self.n_iter_ = _check_optimize_result(\"lbfgs\", opt_res, self.max_iter)\n"
     ]
    },
    {
     "name": "stdout",
     "output_type": "stream",
     "text": [
      "[CV] END activation=logistic, batch_size=auto, hidden_layer_sizes=(10,), learning_rate=adaptive, max_iter=1000, solver=lbfgs; total time=   0.2s\n",
      "[CV] END activation=logistic, batch_size=auto, hidden_layer_sizes=(10,), learning_rate=adaptive, max_iter=1000, solver=sgd; total time=   0.3s\n",
      "[CV] END activation=logistic, batch_size=auto, hidden_layer_sizes=(10,), learning_rate=adaptive, max_iter=1000, solver=sgd; total time=   0.3s\n",
      "[CV] END activation=logistic, batch_size=auto, hidden_layer_sizes=(10,), learning_rate=adaptive, max_iter=1000, solver=sgd; total time=   0.3s\n",
      "[CV] END activation=logistic, batch_size=auto, hidden_layer_sizes=(10,), learning_rate=adaptive, max_iter=1000, solver=sgd; total time=   0.2s\n",
      "[CV] END activation=logistic, batch_size=auto, hidden_layer_sizes=(10,), learning_rate=adaptive, max_iter=1000, solver=sgd; total time=   0.3s\n",
      "[CV] END activation=logistic, batch_size=auto, hidden_layer_sizes=(10,), learning_rate=adaptive, max_iter=1000, solver=sgd; total time=   0.3s\n",
      "[CV] END activation=logistic, batch_size=auto, hidden_layer_sizes=(10,), learning_rate=adaptive, max_iter=1000, solver=sgd; total time=   0.3s\n",
      "[CV] END activation=logistic, batch_size=auto, hidden_layer_sizes=(10,), learning_rate=adaptive, max_iter=1000, solver=sgd; total time=   0.3s\n",
      "[CV] END activation=logistic, batch_size=auto, hidden_layer_sizes=(10,), learning_rate=adaptive, max_iter=1000, solver=sgd; total time=   0.3s\n",
      "[CV] END activation=logistic, batch_size=auto, hidden_layer_sizes=(10,), learning_rate=adaptive, max_iter=1000, solver=sgd; total time=   0.3s\n",
      "[CV] END activation=logistic, batch_size=auto, hidden_layer_sizes=(10,), learning_rate=adaptive, max_iter=1000, solver=adam; total time=   0.2s\n",
      "[CV] END activation=logistic, batch_size=auto, hidden_layer_sizes=(10,), learning_rate=adaptive, max_iter=1000, solver=adam; total time=   0.2s\n",
      "[CV] END activation=logistic, batch_size=auto, hidden_layer_sizes=(10,), learning_rate=adaptive, max_iter=1000, solver=adam; total time=   0.2s\n",
      "[CV] END activation=logistic, batch_size=auto, hidden_layer_sizes=(10,), learning_rate=adaptive, max_iter=1000, solver=adam; total time=   0.2s\n",
      "[CV] END activation=logistic, batch_size=auto, hidden_layer_sizes=(10,), learning_rate=adaptive, max_iter=1000, solver=adam; total time=   0.2s\n",
      "[CV] END activation=logistic, batch_size=auto, hidden_layer_sizes=(10,), learning_rate=adaptive, max_iter=1000, solver=adam; total time=   0.2s\n",
      "[CV] END activation=logistic, batch_size=auto, hidden_layer_sizes=(10,), learning_rate=adaptive, max_iter=1000, solver=adam; total time=   0.2s\n",
      "[CV] END activation=logistic, batch_size=auto, hidden_layer_sizes=(10,), learning_rate=adaptive, max_iter=1000, solver=adam; total time=   0.2s\n",
      "[CV] END activation=logistic, batch_size=auto, hidden_layer_sizes=(10,), learning_rate=adaptive, max_iter=1000, solver=adam; total time=   0.2s\n",
      "[CV] END activation=logistic, batch_size=auto, hidden_layer_sizes=(10,), learning_rate=adaptive, max_iter=1000, solver=adam; total time=   0.2s\n"
     ]
    },
    {
     "name": "stderr",
     "output_type": "stream",
     "text": [
      "/Users/mariusj/Documents/Edu/UMA/lectures/Data Mining/Project/dm1-titanic/.venv/lib/python3.9/site-packages/sklearn/neural_network/_multilayer_perceptron.py:559: ConvergenceWarning: lbfgs failed to converge (status=1):\n",
      "STOP: TOTAL NO. of ITERATIONS REACHED LIMIT.\n",
      "\n",
      "Increase the number of iterations (max_iter) or scale the data as shown in:\n",
      "    https://scikit-learn.org/stable/modules/preprocessing.html\n",
      "  self.n_iter_ = _check_optimize_result(\"lbfgs\", opt_res, self.max_iter)\n"
     ]
    },
    {
     "name": "stdout",
     "output_type": "stream",
     "text": [
      "[CV] END activation=logistic, batch_size=auto, hidden_layer_sizes=(25,), learning_rate=constant, max_iter=1000, solver=lbfgs; total time=   5.7s\n"
     ]
    },
    {
     "name": "stderr",
     "output_type": "stream",
     "text": [
      "/Users/mariusj/Documents/Edu/UMA/lectures/Data Mining/Project/dm1-titanic/.venv/lib/python3.9/site-packages/sklearn/neural_network/_multilayer_perceptron.py:559: ConvergenceWarning: lbfgs failed to converge (status=1):\n",
      "STOP: TOTAL NO. of ITERATIONS REACHED LIMIT.\n",
      "\n",
      "Increase the number of iterations (max_iter) or scale the data as shown in:\n",
      "    https://scikit-learn.org/stable/modules/preprocessing.html\n",
      "  self.n_iter_ = _check_optimize_result(\"lbfgs\", opt_res, self.max_iter)\n"
     ]
    },
    {
     "name": "stdout",
     "output_type": "stream",
     "text": [
      "[CV] END activation=logistic, batch_size=auto, hidden_layer_sizes=(25,), learning_rate=constant, max_iter=1000, solver=lbfgs; total time=   5.7s\n"
     ]
    },
    {
     "name": "stderr",
     "output_type": "stream",
     "text": [
      "/Users/mariusj/Documents/Edu/UMA/lectures/Data Mining/Project/dm1-titanic/.venv/lib/python3.9/site-packages/sklearn/neural_network/_multilayer_perceptron.py:559: ConvergenceWarning: lbfgs failed to converge (status=1):\n",
      "STOP: TOTAL NO. of ITERATIONS REACHED LIMIT.\n",
      "\n",
      "Increase the number of iterations (max_iter) or scale the data as shown in:\n",
      "    https://scikit-learn.org/stable/modules/preprocessing.html\n",
      "  self.n_iter_ = _check_optimize_result(\"lbfgs\", opt_res, self.max_iter)\n"
     ]
    },
    {
     "name": "stdout",
     "output_type": "stream",
     "text": [
      "[CV] END activation=logistic, batch_size=auto, hidden_layer_sizes=(25,), learning_rate=constant, max_iter=1000, solver=lbfgs; total time=   4.9s\n"
     ]
    },
    {
     "name": "stderr",
     "output_type": "stream",
     "text": [
      "/Users/mariusj/Documents/Edu/UMA/lectures/Data Mining/Project/dm1-titanic/.venv/lib/python3.9/site-packages/sklearn/neural_network/_multilayer_perceptron.py:559: ConvergenceWarning: lbfgs failed to converge (status=1):\n",
      "STOP: TOTAL NO. of ITERATIONS REACHED LIMIT.\n",
      "\n",
      "Increase the number of iterations (max_iter) or scale the data as shown in:\n",
      "    https://scikit-learn.org/stable/modules/preprocessing.html\n",
      "  self.n_iter_ = _check_optimize_result(\"lbfgs\", opt_res, self.max_iter)\n"
     ]
    },
    {
     "name": "stdout",
     "output_type": "stream",
     "text": [
      "[CV] END activation=logistic, batch_size=auto, hidden_layer_sizes=(25,), learning_rate=constant, max_iter=1000, solver=lbfgs; total time=   6.5s\n"
     ]
    },
    {
     "name": "stderr",
     "output_type": "stream",
     "text": [
      "/Users/mariusj/Documents/Edu/UMA/lectures/Data Mining/Project/dm1-titanic/.venv/lib/python3.9/site-packages/sklearn/neural_network/_multilayer_perceptron.py:559: ConvergenceWarning: lbfgs failed to converge (status=1):\n",
      "STOP: TOTAL NO. of ITERATIONS REACHED LIMIT.\n",
      "\n",
      "Increase the number of iterations (max_iter) or scale the data as shown in:\n",
      "    https://scikit-learn.org/stable/modules/preprocessing.html\n",
      "  self.n_iter_ = _check_optimize_result(\"lbfgs\", opt_res, self.max_iter)\n"
     ]
    },
    {
     "name": "stdout",
     "output_type": "stream",
     "text": [
      "[CV] END activation=logistic, batch_size=auto, hidden_layer_sizes=(25,), learning_rate=constant, max_iter=1000, solver=lbfgs; total time=   5.6s\n"
     ]
    },
    {
     "name": "stderr",
     "output_type": "stream",
     "text": [
      "/Users/mariusj/Documents/Edu/UMA/lectures/Data Mining/Project/dm1-titanic/.venv/lib/python3.9/site-packages/sklearn/neural_network/_multilayer_perceptron.py:559: ConvergenceWarning: lbfgs failed to converge (status=1):\n",
      "STOP: TOTAL NO. of ITERATIONS REACHED LIMIT.\n",
      "\n",
      "Increase the number of iterations (max_iter) or scale the data as shown in:\n",
      "    https://scikit-learn.org/stable/modules/preprocessing.html\n",
      "  self.n_iter_ = _check_optimize_result(\"lbfgs\", opt_res, self.max_iter)\n"
     ]
    },
    {
     "name": "stdout",
     "output_type": "stream",
     "text": [
      "[CV] END activation=logistic, batch_size=auto, hidden_layer_sizes=(25,), learning_rate=constant, max_iter=1000, solver=lbfgs; total time=   6.3s\n"
     ]
    },
    {
     "name": "stderr",
     "output_type": "stream",
     "text": [
      "/Users/mariusj/Documents/Edu/UMA/lectures/Data Mining/Project/dm1-titanic/.venv/lib/python3.9/site-packages/sklearn/neural_network/_multilayer_perceptron.py:559: ConvergenceWarning: lbfgs failed to converge (status=1):\n",
      "STOP: TOTAL NO. of ITERATIONS REACHED LIMIT.\n",
      "\n",
      "Increase the number of iterations (max_iter) or scale the data as shown in:\n",
      "    https://scikit-learn.org/stable/modules/preprocessing.html\n",
      "  self.n_iter_ = _check_optimize_result(\"lbfgs\", opt_res, self.max_iter)\n"
     ]
    },
    {
     "name": "stdout",
     "output_type": "stream",
     "text": [
      "[CV] END activation=logistic, batch_size=auto, hidden_layer_sizes=(25,), learning_rate=constant, max_iter=1000, solver=lbfgs; total time=   6.9s\n"
     ]
    },
    {
     "name": "stderr",
     "output_type": "stream",
     "text": [
      "/Users/mariusj/Documents/Edu/UMA/lectures/Data Mining/Project/dm1-titanic/.venv/lib/python3.9/site-packages/sklearn/neural_network/_multilayer_perceptron.py:559: ConvergenceWarning: lbfgs failed to converge (status=1):\n",
      "STOP: TOTAL NO. of ITERATIONS REACHED LIMIT.\n",
      "\n",
      "Increase the number of iterations (max_iter) or scale the data as shown in:\n",
      "    https://scikit-learn.org/stable/modules/preprocessing.html\n",
      "  self.n_iter_ = _check_optimize_result(\"lbfgs\", opt_res, self.max_iter)\n"
     ]
    },
    {
     "name": "stdout",
     "output_type": "stream",
     "text": [
      "[CV] END activation=logistic, batch_size=auto, hidden_layer_sizes=(25,), learning_rate=constant, max_iter=1000, solver=lbfgs; total time=   7.1s\n"
     ]
    },
    {
     "name": "stderr",
     "output_type": "stream",
     "text": [
      "/Users/mariusj/Documents/Edu/UMA/lectures/Data Mining/Project/dm1-titanic/.venv/lib/python3.9/site-packages/sklearn/neural_network/_multilayer_perceptron.py:559: ConvergenceWarning: lbfgs failed to converge (status=1):\n",
      "STOP: TOTAL NO. of ITERATIONS REACHED LIMIT.\n",
      "\n",
      "Increase the number of iterations (max_iter) or scale the data as shown in:\n",
      "    https://scikit-learn.org/stable/modules/preprocessing.html\n",
      "  self.n_iter_ = _check_optimize_result(\"lbfgs\", opt_res, self.max_iter)\n"
     ]
    },
    {
     "name": "stdout",
     "output_type": "stream",
     "text": [
      "[CV] END activation=logistic, batch_size=auto, hidden_layer_sizes=(25,), learning_rate=constant, max_iter=1000, solver=lbfgs; total time=   5.6s\n"
     ]
    },
    {
     "name": "stderr",
     "output_type": "stream",
     "text": [
      "/Users/mariusj/Documents/Edu/UMA/lectures/Data Mining/Project/dm1-titanic/.venv/lib/python3.9/site-packages/sklearn/neural_network/_multilayer_perceptron.py:559: ConvergenceWarning: lbfgs failed to converge (status=1):\n",
      "STOP: TOTAL NO. of ITERATIONS REACHED LIMIT.\n",
      "\n",
      "Increase the number of iterations (max_iter) or scale the data as shown in:\n",
      "    https://scikit-learn.org/stable/modules/preprocessing.html\n",
      "  self.n_iter_ = _check_optimize_result(\"lbfgs\", opt_res, self.max_iter)\n"
     ]
    },
    {
     "name": "stdout",
     "output_type": "stream",
     "text": [
      "[CV] END activation=logistic, batch_size=auto, hidden_layer_sizes=(25,), learning_rate=constant, max_iter=1000, solver=lbfgs; total time=   5.1s\n",
      "[CV] END activation=logistic, batch_size=auto, hidden_layer_sizes=(25,), learning_rate=constant, max_iter=1000, solver=sgd; total time=   0.4s\n",
      "[CV] END activation=logistic, batch_size=auto, hidden_layer_sizes=(25,), learning_rate=constant, max_iter=1000, solver=sgd; total time=   0.3s\n",
      "[CV] END activation=logistic, batch_size=auto, hidden_layer_sizes=(25,), learning_rate=constant, max_iter=1000, solver=sgd; total time=   0.3s\n",
      "[CV] END activation=logistic, batch_size=auto, hidden_layer_sizes=(25,), learning_rate=constant, max_iter=1000, solver=sgd; total time=   0.2s\n"
     ]
    },
    {
     "name": "stderr",
     "output_type": "stream",
     "text": [
      "/Users/mariusj/Documents/Edu/UMA/lectures/Data Mining/Project/dm1-titanic/.venv/lib/python3.9/site-packages/sklearn/neural_network/_multilayer_perceptron.py:702: ConvergenceWarning: Stochastic Optimizer: Maximum iterations (1000) reached and the optimization hasn't converged yet.\n",
      "  warnings.warn(\n"
     ]
    },
    {
     "name": "stdout",
     "output_type": "stream",
     "text": [
      "[CV] END activation=logistic, batch_size=auto, hidden_layer_sizes=(25,), learning_rate=constant, max_iter=1000, solver=sgd; total time=   0.5s\n",
      "[CV] END activation=logistic, batch_size=auto, hidden_layer_sizes=(25,), learning_rate=constant, max_iter=1000, solver=sgd; total time=   0.4s\n",
      "[CV] END activation=logistic, batch_size=auto, hidden_layer_sizes=(25,), learning_rate=constant, max_iter=1000, solver=sgd; total time=   0.3s\n",
      "[CV] END activation=logistic, batch_size=auto, hidden_layer_sizes=(25,), learning_rate=constant, max_iter=1000, solver=sgd; total time=   0.3s\n"
     ]
    },
    {
     "name": "stderr",
     "output_type": "stream",
     "text": [
      "/Users/mariusj/Documents/Edu/UMA/lectures/Data Mining/Project/dm1-titanic/.venv/lib/python3.9/site-packages/sklearn/neural_network/_multilayer_perceptron.py:702: ConvergenceWarning: Stochastic Optimizer: Maximum iterations (1000) reached and the optimization hasn't converged yet.\n",
      "  warnings.warn(\n"
     ]
    },
    {
     "name": "stdout",
     "output_type": "stream",
     "text": [
      "[CV] END activation=logistic, batch_size=auto, hidden_layer_sizes=(25,), learning_rate=constant, max_iter=1000, solver=sgd; total time=   0.5s\n",
      "[CV] END activation=logistic, batch_size=auto, hidden_layer_sizes=(25,), learning_rate=constant, max_iter=1000, solver=sgd; total time=   0.3s\n",
      "[CV] END activation=logistic, batch_size=auto, hidden_layer_sizes=(25,), learning_rate=constant, max_iter=1000, solver=adam; total time=   0.2s\n",
      "[CV] END activation=logistic, batch_size=auto, hidden_layer_sizes=(25,), learning_rate=constant, max_iter=1000, solver=adam; total time=   0.2s\n",
      "[CV] END activation=logistic, batch_size=auto, hidden_layer_sizes=(25,), learning_rate=constant, max_iter=1000, solver=adam; total time=   0.2s\n",
      "[CV] END activation=logistic, batch_size=auto, hidden_layer_sizes=(25,), learning_rate=constant, max_iter=1000, solver=adam; total time=   0.2s\n",
      "[CV] END activation=logistic, batch_size=auto, hidden_layer_sizes=(25,), learning_rate=constant, max_iter=1000, solver=adam; total time=   0.2s\n",
      "[CV] END activation=logistic, batch_size=auto, hidden_layer_sizes=(25,), learning_rate=constant, max_iter=1000, solver=adam; total time=   0.2s\n",
      "[CV] END activation=logistic, batch_size=auto, hidden_layer_sizes=(25,), learning_rate=constant, max_iter=1000, solver=adam; total time=   0.2s\n",
      "[CV] END activation=logistic, batch_size=auto, hidden_layer_sizes=(25,), learning_rate=constant, max_iter=1000, solver=adam; total time=   0.2s\n",
      "[CV] END activation=logistic, batch_size=auto, hidden_layer_sizes=(25,), learning_rate=constant, max_iter=1000, solver=adam; total time=   0.2s\n",
      "[CV] END activation=logistic, batch_size=auto, hidden_layer_sizes=(25,), learning_rate=constant, max_iter=1000, solver=adam; total time=   0.2s\n",
      "[CV] END activation=logistic, batch_size=auto, hidden_layer_sizes=(25,), learning_rate=invscaling, max_iter=1000, solver=lbfgs; total time=   7.2s\n"
     ]
    },
    {
     "name": "stderr",
     "output_type": "stream",
     "text": [
      "/Users/mariusj/Documents/Edu/UMA/lectures/Data Mining/Project/dm1-titanic/.venv/lib/python3.9/site-packages/sklearn/neural_network/_multilayer_perceptron.py:559: ConvergenceWarning: lbfgs failed to converge (status=1):\n",
      "STOP: TOTAL NO. of ITERATIONS REACHED LIMIT.\n",
      "\n",
      "Increase the number of iterations (max_iter) or scale the data as shown in:\n",
      "    https://scikit-learn.org/stable/modules/preprocessing.html\n",
      "  self.n_iter_ = _check_optimize_result(\"lbfgs\", opt_res, self.max_iter)\n"
     ]
    },
    {
     "name": "stdout",
     "output_type": "stream",
     "text": [
      "[CV] END activation=logistic, batch_size=auto, hidden_layer_sizes=(25,), learning_rate=invscaling, max_iter=1000, solver=lbfgs; total time=   4.9s\n"
     ]
    },
    {
     "name": "stderr",
     "output_type": "stream",
     "text": [
      "/Users/mariusj/Documents/Edu/UMA/lectures/Data Mining/Project/dm1-titanic/.venv/lib/python3.9/site-packages/sklearn/neural_network/_multilayer_perceptron.py:559: ConvergenceWarning: lbfgs failed to converge (status=1):\n",
      "STOP: TOTAL NO. of ITERATIONS REACHED LIMIT.\n",
      "\n",
      "Increase the number of iterations (max_iter) or scale the data as shown in:\n",
      "    https://scikit-learn.org/stable/modules/preprocessing.html\n",
      "  self.n_iter_ = _check_optimize_result(\"lbfgs\", opt_res, self.max_iter)\n"
     ]
    },
    {
     "name": "stdout",
     "output_type": "stream",
     "text": [
      "[CV] END activation=logistic, batch_size=auto, hidden_layer_sizes=(25,), learning_rate=invscaling, max_iter=1000, solver=lbfgs; total time=   9.2s\n"
     ]
    },
    {
     "name": "stderr",
     "output_type": "stream",
     "text": [
      "/Users/mariusj/Documents/Edu/UMA/lectures/Data Mining/Project/dm1-titanic/.venv/lib/python3.9/site-packages/sklearn/neural_network/_multilayer_perceptron.py:559: ConvergenceWarning: lbfgs failed to converge (status=1):\n",
      "STOP: TOTAL NO. of ITERATIONS REACHED LIMIT.\n",
      "\n",
      "Increase the number of iterations (max_iter) or scale the data as shown in:\n",
      "    https://scikit-learn.org/stable/modules/preprocessing.html\n",
      "  self.n_iter_ = _check_optimize_result(\"lbfgs\", opt_res, self.max_iter)\n"
     ]
    },
    {
     "name": "stdout",
     "output_type": "stream",
     "text": [
      "[CV] END activation=logistic, batch_size=auto, hidden_layer_sizes=(25,), learning_rate=invscaling, max_iter=1000, solver=lbfgs; total time=   9.9s\n"
     ]
    },
    {
     "name": "stderr",
     "output_type": "stream",
     "text": [
      "/Users/mariusj/Documents/Edu/UMA/lectures/Data Mining/Project/dm1-titanic/.venv/lib/python3.9/site-packages/sklearn/neural_network/_multilayer_perceptron.py:559: ConvergenceWarning: lbfgs failed to converge (status=1):\n",
      "STOP: TOTAL NO. of ITERATIONS REACHED LIMIT.\n",
      "\n",
      "Increase the number of iterations (max_iter) or scale the data as shown in:\n",
      "    https://scikit-learn.org/stable/modules/preprocessing.html\n",
      "  self.n_iter_ = _check_optimize_result(\"lbfgs\", opt_res, self.max_iter)\n"
     ]
    },
    {
     "name": "stdout",
     "output_type": "stream",
     "text": [
      "[CV] END activation=logistic, batch_size=auto, hidden_layer_sizes=(25,), learning_rate=invscaling, max_iter=1000, solver=lbfgs; total time=   5.2s\n"
     ]
    },
    {
     "name": "stderr",
     "output_type": "stream",
     "text": [
      "/Users/mariusj/Documents/Edu/UMA/lectures/Data Mining/Project/dm1-titanic/.venv/lib/python3.9/site-packages/sklearn/neural_network/_multilayer_perceptron.py:559: ConvergenceWarning: lbfgs failed to converge (status=1):\n",
      "STOP: TOTAL NO. of ITERATIONS REACHED LIMIT.\n",
      "\n",
      "Increase the number of iterations (max_iter) or scale the data as shown in:\n",
      "    https://scikit-learn.org/stable/modules/preprocessing.html\n",
      "  self.n_iter_ = _check_optimize_result(\"lbfgs\", opt_res, self.max_iter)\n"
     ]
    },
    {
     "name": "stdout",
     "output_type": "stream",
     "text": [
      "[CV] END activation=logistic, batch_size=auto, hidden_layer_sizes=(25,), learning_rate=invscaling, max_iter=1000, solver=lbfgs; total time=   6.3s\n",
      "[CV] END activation=logistic, batch_size=auto, hidden_layer_sizes=(25,), learning_rate=invscaling, max_iter=1000, solver=lbfgs; total time=   7.3s\n"
     ]
    },
    {
     "name": "stderr",
     "output_type": "stream",
     "text": [
      "/Users/mariusj/Documents/Edu/UMA/lectures/Data Mining/Project/dm1-titanic/.venv/lib/python3.9/site-packages/sklearn/neural_network/_multilayer_perceptron.py:559: ConvergenceWarning: lbfgs failed to converge (status=1):\n",
      "STOP: TOTAL NO. of ITERATIONS REACHED LIMIT.\n",
      "\n",
      "Increase the number of iterations (max_iter) or scale the data as shown in:\n",
      "    https://scikit-learn.org/stable/modules/preprocessing.html\n",
      "  self.n_iter_ = _check_optimize_result(\"lbfgs\", opt_res, self.max_iter)\n"
     ]
    },
    {
     "name": "stdout",
     "output_type": "stream",
     "text": [
      "[CV] END activation=logistic, batch_size=auto, hidden_layer_sizes=(25,), learning_rate=invscaling, max_iter=1000, solver=lbfgs; total time=  15.2s\n"
     ]
    },
    {
     "name": "stderr",
     "output_type": "stream",
     "text": [
      "/Users/mariusj/Documents/Edu/UMA/lectures/Data Mining/Project/dm1-titanic/.venv/lib/python3.9/site-packages/sklearn/neural_network/_multilayer_perceptron.py:559: ConvergenceWarning: lbfgs failed to converge (status=1):\n",
      "STOP: TOTAL NO. of ITERATIONS REACHED LIMIT.\n",
      "\n",
      "Increase the number of iterations (max_iter) or scale the data as shown in:\n",
      "    https://scikit-learn.org/stable/modules/preprocessing.html\n",
      "  self.n_iter_ = _check_optimize_result(\"lbfgs\", opt_res, self.max_iter)\n"
     ]
    },
    {
     "name": "stdout",
     "output_type": "stream",
     "text": [
      "[CV] END activation=logistic, batch_size=auto, hidden_layer_sizes=(25,), learning_rate=invscaling, max_iter=1000, solver=lbfgs; total time=  13.0s\n"
     ]
    },
    {
     "name": "stderr",
     "output_type": "stream",
     "text": [
      "/Users/mariusj/Documents/Edu/UMA/lectures/Data Mining/Project/dm1-titanic/.venv/lib/python3.9/site-packages/sklearn/neural_network/_multilayer_perceptron.py:559: ConvergenceWarning: lbfgs failed to converge (status=1):\n",
      "STOP: TOTAL NO. of ITERATIONS REACHED LIMIT.\n",
      "\n",
      "Increase the number of iterations (max_iter) or scale the data as shown in:\n",
      "    https://scikit-learn.org/stable/modules/preprocessing.html\n",
      "  self.n_iter_ = _check_optimize_result(\"lbfgs\", opt_res, self.max_iter)\n"
     ]
    },
    {
     "name": "stdout",
     "output_type": "stream",
     "text": [
      "[CV] END activation=logistic, batch_size=auto, hidden_layer_sizes=(25,), learning_rate=invscaling, max_iter=1000, solver=lbfgs; total time=  14.9s\n",
      "[CV] END activation=logistic, batch_size=auto, hidden_layer_sizes=(25,), learning_rate=invscaling, max_iter=1000, solver=sgd; total time=   0.0s\n",
      "[CV] END activation=logistic, batch_size=auto, hidden_layer_sizes=(25,), learning_rate=invscaling, max_iter=1000, solver=sgd; total time=   0.1s\n",
      "[CV] END activation=logistic, batch_size=auto, hidden_layer_sizes=(25,), learning_rate=invscaling, max_iter=1000, solver=sgd; total time=   0.0s\n",
      "[CV] END activation=logistic, batch_size=auto, hidden_layer_sizes=(25,), learning_rate=invscaling, max_iter=1000, solver=sgd; total time=   0.0s\n",
      "[CV] END activation=logistic, batch_size=auto, hidden_layer_sizes=(25,), learning_rate=invscaling, max_iter=1000, solver=sgd; total time=   0.0s\n",
      "[CV] END activation=logistic, batch_size=auto, hidden_layer_sizes=(25,), learning_rate=invscaling, max_iter=1000, solver=sgd; total time=   0.0s\n",
      "[CV] END activation=logistic, batch_size=auto, hidden_layer_sizes=(25,), learning_rate=invscaling, max_iter=1000, solver=sgd; total time=   0.0s\n",
      "[CV] END activation=logistic, batch_size=auto, hidden_layer_sizes=(25,), learning_rate=invscaling, max_iter=1000, solver=sgd; total time=   0.0s\n",
      "[CV] END activation=logistic, batch_size=auto, hidden_layer_sizes=(25,), learning_rate=invscaling, max_iter=1000, solver=sgd; total time=   0.0s\n",
      "[CV] END activation=logistic, batch_size=auto, hidden_layer_sizes=(25,), learning_rate=invscaling, max_iter=1000, solver=sgd; total time=   0.0s\n",
      "[CV] END activation=logistic, batch_size=auto, hidden_layer_sizes=(25,), learning_rate=invscaling, max_iter=1000, solver=adam; total time=   0.2s\n",
      "[CV] END activation=logistic, batch_size=auto, hidden_layer_sizes=(25,), learning_rate=invscaling, max_iter=1000, solver=adam; total time=   0.2s\n",
      "[CV] END activation=logistic, batch_size=auto, hidden_layer_sizes=(25,), learning_rate=invscaling, max_iter=1000, solver=adam; total time=   0.2s\n",
      "[CV] END activation=logistic, batch_size=auto, hidden_layer_sizes=(25,), learning_rate=invscaling, max_iter=1000, solver=adam; total time=   0.2s\n",
      "[CV] END activation=logistic, batch_size=auto, hidden_layer_sizes=(25,), learning_rate=invscaling, max_iter=1000, solver=adam; total time=   0.2s\n",
      "[CV] END activation=logistic, batch_size=auto, hidden_layer_sizes=(25,), learning_rate=invscaling, max_iter=1000, solver=adam; total time=   0.2s\n",
      "[CV] END activation=logistic, batch_size=auto, hidden_layer_sizes=(25,), learning_rate=invscaling, max_iter=1000, solver=adam; total time=   0.2s\n",
      "[CV] END activation=logistic, batch_size=auto, hidden_layer_sizes=(25,), learning_rate=invscaling, max_iter=1000, solver=adam; total time=   0.2s\n",
      "[CV] END activation=logistic, batch_size=auto, hidden_layer_sizes=(25,), learning_rate=invscaling, max_iter=1000, solver=adam; total time=   0.2s\n",
      "[CV] END activation=logistic, batch_size=auto, hidden_layer_sizes=(25,), learning_rate=invscaling, max_iter=1000, solver=adam; total time=   0.2s\n"
     ]
    },
    {
     "name": "stderr",
     "output_type": "stream",
     "text": [
      "/Users/mariusj/Documents/Edu/UMA/lectures/Data Mining/Project/dm1-titanic/.venv/lib/python3.9/site-packages/sklearn/neural_network/_multilayer_perceptron.py:559: ConvergenceWarning: lbfgs failed to converge (status=1):\n",
      "STOP: TOTAL NO. of ITERATIONS REACHED LIMIT.\n",
      "\n",
      "Increase the number of iterations (max_iter) or scale the data as shown in:\n",
      "    https://scikit-learn.org/stable/modules/preprocessing.html\n",
      "  self.n_iter_ = _check_optimize_result(\"lbfgs\", opt_res, self.max_iter)\n"
     ]
    },
    {
     "name": "stdout",
     "output_type": "stream",
     "text": [
      "[CV] END activation=logistic, batch_size=auto, hidden_layer_sizes=(25,), learning_rate=adaptive, max_iter=1000, solver=lbfgs; total time=  14.5s\n"
     ]
    },
    {
     "name": "stderr",
     "output_type": "stream",
     "text": [
      "/Users/mariusj/Documents/Edu/UMA/lectures/Data Mining/Project/dm1-titanic/.venv/lib/python3.9/site-packages/sklearn/neural_network/_multilayer_perceptron.py:559: ConvergenceWarning: lbfgs failed to converge (status=1):\n",
      "STOP: TOTAL NO. of ITERATIONS REACHED LIMIT.\n",
      "\n",
      "Increase the number of iterations (max_iter) or scale the data as shown in:\n",
      "    https://scikit-learn.org/stable/modules/preprocessing.html\n",
      "  self.n_iter_ = _check_optimize_result(\"lbfgs\", opt_res, self.max_iter)\n"
     ]
    },
    {
     "name": "stdout",
     "output_type": "stream",
     "text": [
      "[CV] END activation=logistic, batch_size=auto, hidden_layer_sizes=(25,), learning_rate=adaptive, max_iter=1000, solver=lbfgs; total time=  12.0s\n"
     ]
    },
    {
     "name": "stderr",
     "output_type": "stream",
     "text": [
      "/Users/mariusj/Documents/Edu/UMA/lectures/Data Mining/Project/dm1-titanic/.venv/lib/python3.9/site-packages/sklearn/neural_network/_multilayer_perceptron.py:559: ConvergenceWarning: lbfgs failed to converge (status=1):\n",
      "STOP: TOTAL NO. of ITERATIONS REACHED LIMIT.\n",
      "\n",
      "Increase the number of iterations (max_iter) or scale the data as shown in:\n",
      "    https://scikit-learn.org/stable/modules/preprocessing.html\n",
      "  self.n_iter_ = _check_optimize_result(\"lbfgs\", opt_res, self.max_iter)\n"
     ]
    },
    {
     "name": "stdout",
     "output_type": "stream",
     "text": [
      "[CV] END activation=logistic, batch_size=auto, hidden_layer_sizes=(25,), learning_rate=adaptive, max_iter=1000, solver=lbfgs; total time=   9.4s\n",
      "[CV] END activation=logistic, batch_size=auto, hidden_layer_sizes=(25,), learning_rate=adaptive, max_iter=1000, solver=lbfgs; total time=   8.1s\n",
      "[CV] END activation=logistic, batch_size=auto, hidden_layer_sizes=(25,), learning_rate=adaptive, max_iter=1000, solver=lbfgs; total time=  11.4s\n",
      "[CV] END activation=logistic, batch_size=auto, hidden_layer_sizes=(25,), learning_rate=adaptive, max_iter=1000, solver=lbfgs; total time=   8.2s\n"
     ]
    },
    {
     "name": "stderr",
     "output_type": "stream",
     "text": [
      "/Users/mariusj/Documents/Edu/UMA/lectures/Data Mining/Project/dm1-titanic/.venv/lib/python3.9/site-packages/sklearn/neural_network/_multilayer_perceptron.py:559: ConvergenceWarning: lbfgs failed to converge (status=1):\n",
      "STOP: TOTAL NO. of ITERATIONS REACHED LIMIT.\n",
      "\n",
      "Increase the number of iterations (max_iter) or scale the data as shown in:\n",
      "    https://scikit-learn.org/stable/modules/preprocessing.html\n",
      "  self.n_iter_ = _check_optimize_result(\"lbfgs\", opt_res, self.max_iter)\n"
     ]
    },
    {
     "name": "stdout",
     "output_type": "stream",
     "text": [
      "[CV] END activation=logistic, batch_size=auto, hidden_layer_sizes=(25,), learning_rate=adaptive, max_iter=1000, solver=lbfgs; total time=   9.9s\n"
     ]
    },
    {
     "name": "stderr",
     "output_type": "stream",
     "text": [
      "/Users/mariusj/Documents/Edu/UMA/lectures/Data Mining/Project/dm1-titanic/.venv/lib/python3.9/site-packages/sklearn/neural_network/_multilayer_perceptron.py:559: ConvergenceWarning: lbfgs failed to converge (status=1):\n",
      "STOP: TOTAL NO. of ITERATIONS REACHED LIMIT.\n",
      "\n",
      "Increase the number of iterations (max_iter) or scale the data as shown in:\n",
      "    https://scikit-learn.org/stable/modules/preprocessing.html\n",
      "  self.n_iter_ = _check_optimize_result(\"lbfgs\", opt_res, self.max_iter)\n"
     ]
    },
    {
     "name": "stdout",
     "output_type": "stream",
     "text": [
      "[CV] END activation=logistic, batch_size=auto, hidden_layer_sizes=(25,), learning_rate=adaptive, max_iter=1000, solver=lbfgs; total time=  11.8s\n"
     ]
    },
    {
     "name": "stderr",
     "output_type": "stream",
     "text": [
      "/Users/mariusj/Documents/Edu/UMA/lectures/Data Mining/Project/dm1-titanic/.venv/lib/python3.9/site-packages/sklearn/neural_network/_multilayer_perceptron.py:559: ConvergenceWarning: lbfgs failed to converge (status=1):\n",
      "STOP: TOTAL NO. of ITERATIONS REACHED LIMIT.\n",
      "\n",
      "Increase the number of iterations (max_iter) or scale the data as shown in:\n",
      "    https://scikit-learn.org/stable/modules/preprocessing.html\n",
      "  self.n_iter_ = _check_optimize_result(\"lbfgs\", opt_res, self.max_iter)\n"
     ]
    },
    {
     "name": "stdout",
     "output_type": "stream",
     "text": [
      "[CV] END activation=logistic, batch_size=auto, hidden_layer_sizes=(25,), learning_rate=adaptive, max_iter=1000, solver=lbfgs; total time=  14.0s\n"
     ]
    },
    {
     "name": "stderr",
     "output_type": "stream",
     "text": [
      "/Users/mariusj/Documents/Edu/UMA/lectures/Data Mining/Project/dm1-titanic/.venv/lib/python3.9/site-packages/sklearn/neural_network/_multilayer_perceptron.py:559: ConvergenceWarning: lbfgs failed to converge (status=1):\n",
      "STOP: TOTAL NO. of ITERATIONS REACHED LIMIT.\n",
      "\n",
      "Increase the number of iterations (max_iter) or scale the data as shown in:\n",
      "    https://scikit-learn.org/stable/modules/preprocessing.html\n",
      "  self.n_iter_ = _check_optimize_result(\"lbfgs\", opt_res, self.max_iter)\n"
     ]
    },
    {
     "name": "stdout",
     "output_type": "stream",
     "text": [
      "[CV] END activation=logistic, batch_size=auto, hidden_layer_sizes=(25,), learning_rate=adaptive, max_iter=1000, solver=lbfgs; total time=   7.2s\n",
      "[CV] END activation=logistic, batch_size=auto, hidden_layer_sizes=(25,), learning_rate=adaptive, max_iter=1000, solver=sgd; total time=   0.4s\n",
      "[CV] END activation=logistic, batch_size=auto, hidden_layer_sizes=(25,), learning_rate=adaptive, max_iter=1000, solver=sgd; total time=   0.3s\n",
      "[CV] END activation=logistic, batch_size=auto, hidden_layer_sizes=(25,), learning_rate=adaptive, max_iter=1000, solver=sgd; total time=   0.3s\n",
      "[CV] END activation=logistic, batch_size=auto, hidden_layer_sizes=(25,), learning_rate=adaptive, max_iter=1000, solver=sgd; total time=   0.3s\n",
      "[CV] END activation=logistic, batch_size=auto, hidden_layer_sizes=(25,), learning_rate=adaptive, max_iter=1000, solver=sgd; total time=   0.4s\n",
      "[CV] END activation=logistic, batch_size=auto, hidden_layer_sizes=(25,), learning_rate=adaptive, max_iter=1000, solver=sgd; total time=   0.3s\n",
      "[CV] END activation=logistic, batch_size=auto, hidden_layer_sizes=(25,), learning_rate=adaptive, max_iter=1000, solver=sgd; total time=   0.3s\n",
      "[CV] END activation=logistic, batch_size=auto, hidden_layer_sizes=(25,), learning_rate=adaptive, max_iter=1000, solver=sgd; total time=   0.3s\n"
     ]
    },
    {
     "name": "stderr",
     "output_type": "stream",
     "text": [
      "/Users/mariusj/Documents/Edu/UMA/lectures/Data Mining/Project/dm1-titanic/.venv/lib/python3.9/site-packages/sklearn/neural_network/_multilayer_perceptron.py:702: ConvergenceWarning: Stochastic Optimizer: Maximum iterations (1000) reached and the optimization hasn't converged yet.\n",
      "  warnings.warn(\n"
     ]
    },
    {
     "name": "stdout",
     "output_type": "stream",
     "text": [
      "[CV] END activation=logistic, batch_size=auto, hidden_layer_sizes=(25,), learning_rate=adaptive, max_iter=1000, solver=sgd; total time=   0.5s\n",
      "[CV] END activation=logistic, batch_size=auto, hidden_layer_sizes=(25,), learning_rate=adaptive, max_iter=1000, solver=sgd; total time=   0.4s\n",
      "[CV] END activation=logistic, batch_size=auto, hidden_layer_sizes=(25,), learning_rate=adaptive, max_iter=1000, solver=adam; total time=   0.2s\n",
      "[CV] END activation=logistic, batch_size=auto, hidden_layer_sizes=(25,), learning_rate=adaptive, max_iter=1000, solver=adam; total time=   0.2s\n",
      "[CV] END activation=logistic, batch_size=auto, hidden_layer_sizes=(25,), learning_rate=adaptive, max_iter=1000, solver=adam; total time=   0.2s\n",
      "[CV] END activation=logistic, batch_size=auto, hidden_layer_sizes=(25,), learning_rate=adaptive, max_iter=1000, solver=adam; total time=   0.2s\n",
      "[CV] END activation=logistic, batch_size=auto, hidden_layer_sizes=(25,), learning_rate=adaptive, max_iter=1000, solver=adam; total time=   0.2s\n",
      "[CV] END activation=logistic, batch_size=auto, hidden_layer_sizes=(25,), learning_rate=adaptive, max_iter=1000, solver=adam; total time=   0.2s\n",
      "[CV] END activation=logistic, batch_size=auto, hidden_layer_sizes=(25,), learning_rate=adaptive, max_iter=1000, solver=adam; total time=   0.2s\n",
      "[CV] END activation=logistic, batch_size=auto, hidden_layer_sizes=(25,), learning_rate=adaptive, max_iter=1000, solver=adam; total time=   0.2s\n",
      "[CV] END activation=logistic, batch_size=auto, hidden_layer_sizes=(25,), learning_rate=adaptive, max_iter=1000, solver=adam; total time=   0.2s\n",
      "[CV] END activation=logistic, batch_size=auto, hidden_layer_sizes=(25,), learning_rate=adaptive, max_iter=1000, solver=adam; total time=   0.2s\n"
     ]
    },
    {
     "name": "stderr",
     "output_type": "stream",
     "text": [
      "/Users/mariusj/Documents/Edu/UMA/lectures/Data Mining/Project/dm1-titanic/.venv/lib/python3.9/site-packages/sklearn/neural_network/_multilayer_perceptron.py:559: ConvergenceWarning: lbfgs failed to converge (status=1):\n",
      "STOP: TOTAL NO. of ITERATIONS REACHED LIMIT.\n",
      "\n",
      "Increase the number of iterations (max_iter) or scale the data as shown in:\n",
      "    https://scikit-learn.org/stable/modules/preprocessing.html\n",
      "  self.n_iter_ = _check_optimize_result(\"lbfgs\", opt_res, self.max_iter)\n"
     ]
    },
    {
     "name": "stdout",
     "output_type": "stream",
     "text": [
      "[CV] END activation=logistic, batch_size=auto, hidden_layer_sizes=(75,), learning_rate=constant, max_iter=1000, solver=lbfgs; total time=  25.9s\n"
     ]
    },
    {
     "name": "stderr",
     "output_type": "stream",
     "text": [
      "/Users/mariusj/Documents/Edu/UMA/lectures/Data Mining/Project/dm1-titanic/.venv/lib/python3.9/site-packages/sklearn/neural_network/_multilayer_perceptron.py:559: ConvergenceWarning: lbfgs failed to converge (status=1):\n",
      "STOP: TOTAL NO. of ITERATIONS REACHED LIMIT.\n",
      "\n",
      "Increase the number of iterations (max_iter) or scale the data as shown in:\n",
      "    https://scikit-learn.org/stable/modules/preprocessing.html\n",
      "  self.n_iter_ = _check_optimize_result(\"lbfgs\", opt_res, self.max_iter)\n"
     ]
    },
    {
     "name": "stdout",
     "output_type": "stream",
     "text": [
      "[CV] END activation=logistic, batch_size=auto, hidden_layer_sizes=(75,), learning_rate=constant, max_iter=1000, solver=lbfgs; total time=  29.0s\n"
     ]
    },
    {
     "name": "stderr",
     "output_type": "stream",
     "text": [
      "/Users/mariusj/Documents/Edu/UMA/lectures/Data Mining/Project/dm1-titanic/.venv/lib/python3.9/site-packages/sklearn/neural_network/_multilayer_perceptron.py:559: ConvergenceWarning: lbfgs failed to converge (status=1):\n",
      "STOP: TOTAL NO. of ITERATIONS REACHED LIMIT.\n",
      "\n",
      "Increase the number of iterations (max_iter) or scale the data as shown in:\n",
      "    https://scikit-learn.org/stable/modules/preprocessing.html\n",
      "  self.n_iter_ = _check_optimize_result(\"lbfgs\", opt_res, self.max_iter)\n"
     ]
    },
    {
     "name": "stdout",
     "output_type": "stream",
     "text": [
      "[CV] END activation=logistic, batch_size=auto, hidden_layer_sizes=(75,), learning_rate=constant, max_iter=1000, solver=lbfgs; total time=  45.4s\n"
     ]
    },
    {
     "name": "stderr",
     "output_type": "stream",
     "text": [
      "/Users/mariusj/Documents/Edu/UMA/lectures/Data Mining/Project/dm1-titanic/.venv/lib/python3.9/site-packages/sklearn/neural_network/_multilayer_perceptron.py:559: ConvergenceWarning: lbfgs failed to converge (status=1):\n",
      "STOP: TOTAL NO. of ITERATIONS REACHED LIMIT.\n",
      "\n",
      "Increase the number of iterations (max_iter) or scale the data as shown in:\n",
      "    https://scikit-learn.org/stable/modules/preprocessing.html\n",
      "  self.n_iter_ = _check_optimize_result(\"lbfgs\", opt_res, self.max_iter)\n"
     ]
    },
    {
     "name": "stdout",
     "output_type": "stream",
     "text": [
      "[CV] END activation=logistic, batch_size=auto, hidden_layer_sizes=(75,), learning_rate=constant, max_iter=1000, solver=lbfgs; total time=  33.3s\n"
     ]
    },
    {
     "name": "stderr",
     "output_type": "stream",
     "text": [
      "/Users/mariusj/Documents/Edu/UMA/lectures/Data Mining/Project/dm1-titanic/.venv/lib/python3.9/site-packages/sklearn/neural_network/_multilayer_perceptron.py:559: ConvergenceWarning: lbfgs failed to converge (status=1):\n",
      "STOP: TOTAL NO. of ITERATIONS REACHED LIMIT.\n",
      "\n",
      "Increase the number of iterations (max_iter) or scale the data as shown in:\n",
      "    https://scikit-learn.org/stable/modules/preprocessing.html\n",
      "  self.n_iter_ = _check_optimize_result(\"lbfgs\", opt_res, self.max_iter)\n"
     ]
    },
    {
     "name": "stdout",
     "output_type": "stream",
     "text": [
      "[CV] END activation=logistic, batch_size=auto, hidden_layer_sizes=(75,), learning_rate=constant, max_iter=1000, solver=lbfgs; total time=  40.8s\n"
     ]
    },
    {
     "name": "stderr",
     "output_type": "stream",
     "text": [
      "/Users/mariusj/Documents/Edu/UMA/lectures/Data Mining/Project/dm1-titanic/.venv/lib/python3.9/site-packages/sklearn/neural_network/_multilayer_perceptron.py:559: ConvergenceWarning: lbfgs failed to converge (status=1):\n",
      "STOP: TOTAL NO. of ITERATIONS REACHED LIMIT.\n",
      "\n",
      "Increase the number of iterations (max_iter) or scale the data as shown in:\n",
      "    https://scikit-learn.org/stable/modules/preprocessing.html\n",
      "  self.n_iter_ = _check_optimize_result(\"lbfgs\", opt_res, self.max_iter)\n"
     ]
    },
    {
     "name": "stdout",
     "output_type": "stream",
     "text": [
      "[CV] END activation=logistic, batch_size=auto, hidden_layer_sizes=(75,), learning_rate=constant, max_iter=1000, solver=lbfgs; total time=  42.6s\n"
     ]
    },
    {
     "name": "stderr",
     "output_type": "stream",
     "text": [
      "/Users/mariusj/Documents/Edu/UMA/lectures/Data Mining/Project/dm1-titanic/.venv/lib/python3.9/site-packages/sklearn/neural_network/_multilayer_perceptron.py:559: ConvergenceWarning: lbfgs failed to converge (status=1):\n",
      "STOP: TOTAL NO. of ITERATIONS REACHED LIMIT.\n",
      "\n",
      "Increase the number of iterations (max_iter) or scale the data as shown in:\n",
      "    https://scikit-learn.org/stable/modules/preprocessing.html\n",
      "  self.n_iter_ = _check_optimize_result(\"lbfgs\", opt_res, self.max_iter)\n"
     ]
    },
    {
     "name": "stdout",
     "output_type": "stream",
     "text": [
      "[CV] END activation=logistic, batch_size=auto, hidden_layer_sizes=(75,), learning_rate=constant, max_iter=1000, solver=lbfgs; total time=  38.7s\n"
     ]
    },
    {
     "name": "stderr",
     "output_type": "stream",
     "text": [
      "/Users/mariusj/Documents/Edu/UMA/lectures/Data Mining/Project/dm1-titanic/.venv/lib/python3.9/site-packages/sklearn/neural_network/_multilayer_perceptron.py:559: ConvergenceWarning: lbfgs failed to converge (status=1):\n",
      "STOP: TOTAL NO. of ITERATIONS REACHED LIMIT.\n",
      "\n",
      "Increase the number of iterations (max_iter) or scale the data as shown in:\n",
      "    https://scikit-learn.org/stable/modules/preprocessing.html\n",
      "  self.n_iter_ = _check_optimize_result(\"lbfgs\", opt_res, self.max_iter)\n"
     ]
    },
    {
     "name": "stdout",
     "output_type": "stream",
     "text": [
      "[CV] END activation=logistic, batch_size=auto, hidden_layer_sizes=(75,), learning_rate=constant, max_iter=1000, solver=lbfgs; total time=  46.8s\n"
     ]
    },
    {
     "name": "stderr",
     "output_type": "stream",
     "text": [
      "/Users/mariusj/Documents/Edu/UMA/lectures/Data Mining/Project/dm1-titanic/.venv/lib/python3.9/site-packages/sklearn/neural_network/_multilayer_perceptron.py:559: ConvergenceWarning: lbfgs failed to converge (status=1):\n",
      "STOP: TOTAL NO. of ITERATIONS REACHED LIMIT.\n",
      "\n",
      "Increase the number of iterations (max_iter) or scale the data as shown in:\n",
      "    https://scikit-learn.org/stable/modules/preprocessing.html\n",
      "  self.n_iter_ = _check_optimize_result(\"lbfgs\", opt_res, self.max_iter)\n"
     ]
    },
    {
     "name": "stdout",
     "output_type": "stream",
     "text": [
      "[CV] END activation=logistic, batch_size=auto, hidden_layer_sizes=(75,), learning_rate=constant, max_iter=1000, solver=lbfgs; total time=  32.5s\n"
     ]
    },
    {
     "name": "stderr",
     "output_type": "stream",
     "text": [
      "/Users/mariusj/Documents/Edu/UMA/lectures/Data Mining/Project/dm1-titanic/.venv/lib/python3.9/site-packages/sklearn/neural_network/_multilayer_perceptron.py:559: ConvergenceWarning: lbfgs failed to converge (status=1):\n",
      "STOP: TOTAL NO. of ITERATIONS REACHED LIMIT.\n",
      "\n",
      "Increase the number of iterations (max_iter) or scale the data as shown in:\n",
      "    https://scikit-learn.org/stable/modules/preprocessing.html\n",
      "  self.n_iter_ = _check_optimize_result(\"lbfgs\", opt_res, self.max_iter)\n"
     ]
    },
    {
     "name": "stdout",
     "output_type": "stream",
     "text": [
      "[CV] END activation=logistic, batch_size=auto, hidden_layer_sizes=(75,), learning_rate=constant, max_iter=1000, solver=lbfgs; total time=  36.9s\n",
      "[CV] END activation=logistic, batch_size=auto, hidden_layer_sizes=(75,), learning_rate=constant, max_iter=1000, solver=sgd; total time=  11.2s\n",
      "[CV] END activation=logistic, batch_size=auto, hidden_layer_sizes=(75,), learning_rate=constant, max_iter=1000, solver=sgd; total time=  14.4s\n"
     ]
    },
    {
     "name": "stderr",
     "output_type": "stream",
     "text": [
      "/Users/mariusj/Documents/Edu/UMA/lectures/Data Mining/Project/dm1-titanic/.venv/lib/python3.9/site-packages/sklearn/neural_network/_multilayer_perceptron.py:702: ConvergenceWarning: Stochastic Optimizer: Maximum iterations (1000) reached and the optimization hasn't converged yet.\n",
      "  warnings.warn(\n"
     ]
    },
    {
     "name": "stdout",
     "output_type": "stream",
     "text": [
      "[CV] END activation=logistic, batch_size=auto, hidden_layer_sizes=(75,), learning_rate=constant, max_iter=1000, solver=sgd; total time= 1.1min\n",
      "[CV] END activation=logistic, batch_size=auto, hidden_layer_sizes=(75,), learning_rate=constant, max_iter=1000, solver=sgd; total time=  45.9s\n"
     ]
    },
    {
     "name": "stderr",
     "output_type": "stream",
     "text": [
      "/Users/mariusj/Documents/Edu/UMA/lectures/Data Mining/Project/dm1-titanic/.venv/lib/python3.9/site-packages/sklearn/neural_network/_multilayer_perceptron.py:702: ConvergenceWarning: Stochastic Optimizer: Maximum iterations (1000) reached and the optimization hasn't converged yet.\n",
      "  warnings.warn(\n"
     ]
    },
    {
     "name": "stdout",
     "output_type": "stream",
     "text": [
      "[CV] END activation=logistic, batch_size=auto, hidden_layer_sizes=(75,), learning_rate=constant, max_iter=1000, solver=sgd; total time=  44.4s\n"
     ]
    },
    {
     "name": "stderr",
     "output_type": "stream",
     "text": [
      "/Users/mariusj/Documents/Edu/UMA/lectures/Data Mining/Project/dm1-titanic/.venv/lib/python3.9/site-packages/sklearn/neural_network/_multilayer_perceptron.py:702: ConvergenceWarning: Stochastic Optimizer: Maximum iterations (1000) reached and the optimization hasn't converged yet.\n",
      "  warnings.warn(\n"
     ]
    },
    {
     "name": "stdout",
     "output_type": "stream",
     "text": [
      "[CV] END activation=logistic, batch_size=auto, hidden_layer_sizes=(75,), learning_rate=constant, max_iter=1000, solver=sgd; total time=  40.0s\n"
     ]
    },
    {
     "name": "stderr",
     "output_type": "stream",
     "text": [
      "/Users/mariusj/Documents/Edu/UMA/lectures/Data Mining/Project/dm1-titanic/.venv/lib/python3.9/site-packages/sklearn/neural_network/_multilayer_perceptron.py:702: ConvergenceWarning: Stochastic Optimizer: Maximum iterations (1000) reached and the optimization hasn't converged yet.\n",
      "  warnings.warn(\n"
     ]
    },
    {
     "name": "stdout",
     "output_type": "stream",
     "text": [
      "[CV] END activation=logistic, batch_size=auto, hidden_layer_sizes=(75,), learning_rate=constant, max_iter=1000, solver=sgd; total time=  32.9s\n",
      "[CV] END activation=logistic, batch_size=auto, hidden_layer_sizes=(75,), learning_rate=constant, max_iter=1000, solver=sgd; total time=  19.3s\n"
     ]
    },
    {
     "name": "stderr",
     "output_type": "stream",
     "text": [
      "/Users/mariusj/Documents/Edu/UMA/lectures/Data Mining/Project/dm1-titanic/.venv/lib/python3.9/site-packages/sklearn/neural_network/_multilayer_perceptron.py:702: ConvergenceWarning: Stochastic Optimizer: Maximum iterations (1000) reached and the optimization hasn't converged yet.\n",
      "  warnings.warn(\n"
     ]
    },
    {
     "name": "stdout",
     "output_type": "stream",
     "text": [
      "[CV] END activation=logistic, batch_size=auto, hidden_layer_sizes=(75,), learning_rate=constant, max_iter=1000, solver=sgd; total time=  30.9s\n"
     ]
    },
    {
     "name": "stderr",
     "output_type": "stream",
     "text": [
      "/Users/mariusj/Documents/Edu/UMA/lectures/Data Mining/Project/dm1-titanic/.venv/lib/python3.9/site-packages/sklearn/neural_network/_multilayer_perceptron.py:702: ConvergenceWarning: Stochastic Optimizer: Maximum iterations (1000) reached and the optimization hasn't converged yet.\n",
      "  warnings.warn(\n"
     ]
    },
    {
     "name": "stdout",
     "output_type": "stream",
     "text": [
      "[CV] END activation=logistic, batch_size=auto, hidden_layer_sizes=(75,), learning_rate=constant, max_iter=1000, solver=sgd; total time=  32.6s\n",
      "[CV] END activation=logistic, batch_size=auto, hidden_layer_sizes=(75,), learning_rate=constant, max_iter=1000, solver=adam; total time=   9.5s\n",
      "[CV] END activation=logistic, batch_size=auto, hidden_layer_sizes=(75,), learning_rate=constant, max_iter=1000, solver=adam; total time=  10.9s\n",
      "[CV] END activation=logistic, batch_size=auto, hidden_layer_sizes=(75,), learning_rate=constant, max_iter=1000, solver=adam; total time=   8.7s\n",
      "[CV] END activation=logistic, batch_size=auto, hidden_layer_sizes=(75,), learning_rate=constant, max_iter=1000, solver=adam; total time=   7.2s\n",
      "[CV] END activation=logistic, batch_size=auto, hidden_layer_sizes=(75,), learning_rate=constant, max_iter=1000, solver=adam; total time=   8.6s\n",
      "[CV] END activation=logistic, batch_size=auto, hidden_layer_sizes=(75,), learning_rate=constant, max_iter=1000, solver=adam; total time=   8.4s\n",
      "[CV] END activation=logistic, batch_size=auto, hidden_layer_sizes=(75,), learning_rate=constant, max_iter=1000, solver=adam; total time=   7.5s\n",
      "[CV] END activation=logistic, batch_size=auto, hidden_layer_sizes=(75,), learning_rate=constant, max_iter=1000, solver=adam; total time=   7.1s\n",
      "[CV] END activation=logistic, batch_size=auto, hidden_layer_sizes=(75,), learning_rate=constant, max_iter=1000, solver=adam; total time=   6.4s\n",
      "[CV] END activation=logistic, batch_size=auto, hidden_layer_sizes=(75,), learning_rate=constant, max_iter=1000, solver=adam; total time=   4.9s\n",
      "[CV] END activation=logistic, batch_size=auto, hidden_layer_sizes=(75,), learning_rate=invscaling, max_iter=1000, solver=lbfgs; total time=  22.4s\n",
      "[CV] END activation=logistic, batch_size=auto, hidden_layer_sizes=(75,), learning_rate=invscaling, max_iter=1000, solver=lbfgs; total time=  33.4s\n",
      "[CV] END activation=logistic, batch_size=auto, hidden_layer_sizes=(75,), learning_rate=invscaling, max_iter=1000, solver=lbfgs; total time=  31.4s\n"
     ]
    },
    {
     "name": "stderr",
     "output_type": "stream",
     "text": [
      "/Users/mariusj/Documents/Edu/UMA/lectures/Data Mining/Project/dm1-titanic/.venv/lib/python3.9/site-packages/sklearn/neural_network/_multilayer_perceptron.py:559: ConvergenceWarning: lbfgs failed to converge (status=1):\n",
      "STOP: TOTAL NO. of ITERATIONS REACHED LIMIT.\n",
      "\n",
      "Increase the number of iterations (max_iter) or scale the data as shown in:\n",
      "    https://scikit-learn.org/stable/modules/preprocessing.html\n",
      "  self.n_iter_ = _check_optimize_result(\"lbfgs\", opt_res, self.max_iter)\n"
     ]
    },
    {
     "name": "stdout",
     "output_type": "stream",
     "text": [
      "[CV] END activation=logistic, batch_size=auto, hidden_layer_sizes=(75,), learning_rate=invscaling, max_iter=1000, solver=lbfgs; total time=  44.7s\n"
     ]
    },
    {
     "name": "stderr",
     "output_type": "stream",
     "text": [
      "/Users/mariusj/Documents/Edu/UMA/lectures/Data Mining/Project/dm1-titanic/.venv/lib/python3.9/site-packages/sklearn/neural_network/_multilayer_perceptron.py:559: ConvergenceWarning: lbfgs failed to converge (status=1):\n",
      "STOP: TOTAL NO. of ITERATIONS REACHED LIMIT.\n",
      "\n",
      "Increase the number of iterations (max_iter) or scale the data as shown in:\n",
      "    https://scikit-learn.org/stable/modules/preprocessing.html\n",
      "  self.n_iter_ = _check_optimize_result(\"lbfgs\", opt_res, self.max_iter)\n"
     ]
    },
    {
     "name": "stdout",
     "output_type": "stream",
     "text": [
      "[CV] END activation=logistic, batch_size=auto, hidden_layer_sizes=(75,), learning_rate=invscaling, max_iter=1000, solver=lbfgs; total time=  49.4s\n"
     ]
    },
    {
     "name": "stderr",
     "output_type": "stream",
     "text": [
      "/Users/mariusj/Documents/Edu/UMA/lectures/Data Mining/Project/dm1-titanic/.venv/lib/python3.9/site-packages/sklearn/neural_network/_multilayer_perceptron.py:559: ConvergenceWarning: lbfgs failed to converge (status=1):\n",
      "STOP: TOTAL NO. of ITERATIONS REACHED LIMIT.\n",
      "\n",
      "Increase the number of iterations (max_iter) or scale the data as shown in:\n",
      "    https://scikit-learn.org/stable/modules/preprocessing.html\n",
      "  self.n_iter_ = _check_optimize_result(\"lbfgs\", opt_res, self.max_iter)\n"
     ]
    },
    {
     "name": "stdout",
     "output_type": "stream",
     "text": [
      "[CV] END activation=logistic, batch_size=auto, hidden_layer_sizes=(75,), learning_rate=invscaling, max_iter=1000, solver=lbfgs; total time= 1.4min\n"
     ]
    },
    {
     "name": "stderr",
     "output_type": "stream",
     "text": [
      "/Users/mariusj/Documents/Edu/UMA/lectures/Data Mining/Project/dm1-titanic/.venv/lib/python3.9/site-packages/sklearn/neural_network/_multilayer_perceptron.py:559: ConvergenceWarning: lbfgs failed to converge (status=1):\n",
      "STOP: TOTAL NO. of ITERATIONS REACHED LIMIT.\n",
      "\n",
      "Increase the number of iterations (max_iter) or scale the data as shown in:\n",
      "    https://scikit-learn.org/stable/modules/preprocessing.html\n",
      "  self.n_iter_ = _check_optimize_result(\"lbfgs\", opt_res, self.max_iter)\n"
     ]
    },
    {
     "name": "stdout",
     "output_type": "stream",
     "text": [
      "[CV] END activation=logistic, batch_size=auto, hidden_layer_sizes=(75,), learning_rate=invscaling, max_iter=1000, solver=lbfgs; total time= 1.0min\n"
     ]
    },
    {
     "name": "stderr",
     "output_type": "stream",
     "text": [
      "/Users/mariusj/Documents/Edu/UMA/lectures/Data Mining/Project/dm1-titanic/.venv/lib/python3.9/site-packages/sklearn/neural_network/_multilayer_perceptron.py:559: ConvergenceWarning: lbfgs failed to converge (status=1):\n",
      "STOP: TOTAL NO. of ITERATIONS REACHED LIMIT.\n",
      "\n",
      "Increase the number of iterations (max_iter) or scale the data as shown in:\n",
      "    https://scikit-learn.org/stable/modules/preprocessing.html\n",
      "  self.n_iter_ = _check_optimize_result(\"lbfgs\", opt_res, self.max_iter)\n"
     ]
    },
    {
     "name": "stdout",
     "output_type": "stream",
     "text": [
      "[CV] END activation=logistic, batch_size=auto, hidden_layer_sizes=(75,), learning_rate=invscaling, max_iter=1000, solver=lbfgs; total time=  54.7s\n",
      "[CV] END activation=logistic, batch_size=auto, hidden_layer_sizes=(75,), learning_rate=invscaling, max_iter=1000, solver=lbfgs; total time=  36.2s\n",
      "[CV] END activation=logistic, batch_size=auto, hidden_layer_sizes=(75,), learning_rate=invscaling, max_iter=1000, solver=lbfgs; total time=  43.3s\n",
      "[CV] END activation=logistic, batch_size=auto, hidden_layer_sizes=(75,), learning_rate=invscaling, max_iter=1000, solver=sgd; total time=   5.2s\n",
      "[CV] END activation=logistic, batch_size=auto, hidden_layer_sizes=(75,), learning_rate=invscaling, max_iter=1000, solver=sgd; total time=   1.2s\n",
      "[CV] END activation=logistic, batch_size=auto, hidden_layer_sizes=(75,), learning_rate=invscaling, max_iter=1000, solver=sgd; total time=   1.1s\n",
      "[CV] END activation=logistic, batch_size=auto, hidden_layer_sizes=(75,), learning_rate=invscaling, max_iter=1000, solver=sgd; total time=   2.0s\n",
      "[CV] END activation=logistic, batch_size=auto, hidden_layer_sizes=(75,), learning_rate=invscaling, max_iter=1000, solver=sgd; total time=   4.4s\n",
      "[CV] END activation=logistic, batch_size=auto, hidden_layer_sizes=(75,), learning_rate=invscaling, max_iter=1000, solver=sgd; total time=   0.8s\n",
      "[CV] END activation=logistic, batch_size=auto, hidden_layer_sizes=(75,), learning_rate=invscaling, max_iter=1000, solver=sgd; total time=  11.1s\n",
      "[CV] END activation=logistic, batch_size=auto, hidden_layer_sizes=(75,), learning_rate=invscaling, max_iter=1000, solver=sgd; total time=   6.8s\n",
      "[CV] END activation=logistic, batch_size=auto, hidden_layer_sizes=(75,), learning_rate=invscaling, max_iter=1000, solver=sgd; total time=   1.6s\n",
      "[CV] END activation=logistic, batch_size=auto, hidden_layer_sizes=(75,), learning_rate=invscaling, max_iter=1000, solver=sgd; total time=   6.2s\n",
      "[CV] END activation=logistic, batch_size=auto, hidden_layer_sizes=(75,), learning_rate=invscaling, max_iter=1000, solver=adam; total time=   8.7s\n",
      "[CV] END activation=logistic, batch_size=auto, hidden_layer_sizes=(75,), learning_rate=invscaling, max_iter=1000, solver=adam; total time=  11.0s\n",
      "[CV] END activation=logistic, batch_size=auto, hidden_layer_sizes=(75,), learning_rate=invscaling, max_iter=1000, solver=adam; total time=  12.1s\n",
      "[CV] END activation=logistic, batch_size=auto, hidden_layer_sizes=(75,), learning_rate=invscaling, max_iter=1000, solver=adam; total time=  12.3s\n",
      "[CV] END activation=logistic, batch_size=auto, hidden_layer_sizes=(75,), learning_rate=invscaling, max_iter=1000, solver=adam; total time=   9.0s\n",
      "[CV] END activation=logistic, batch_size=auto, hidden_layer_sizes=(75,), learning_rate=invscaling, max_iter=1000, solver=adam; total time=  11.6s\n",
      "[CV] END activation=logistic, batch_size=auto, hidden_layer_sizes=(75,), learning_rate=invscaling, max_iter=1000, solver=adam; total time=  16.6s\n",
      "[CV] END activation=logistic, batch_size=auto, hidden_layer_sizes=(75,), learning_rate=invscaling, max_iter=1000, solver=adam; total time=  12.1s\n",
      "[CV] END activation=logistic, batch_size=auto, hidden_layer_sizes=(75,), learning_rate=invscaling, max_iter=1000, solver=adam; total time=  11.0s\n",
      "[CV] END activation=logistic, batch_size=auto, hidden_layer_sizes=(75,), learning_rate=invscaling, max_iter=1000, solver=adam; total time=  11.7s\n",
      "[CV] END activation=logistic, batch_size=auto, hidden_layer_sizes=(75,), learning_rate=adaptive, max_iter=1000, solver=lbfgs; total time=  57.0s\n"
     ]
    },
    {
     "name": "stderr",
     "output_type": "stream",
     "text": [
      "/Users/mariusj/Documents/Edu/UMA/lectures/Data Mining/Project/dm1-titanic/.venv/lib/python3.9/site-packages/sklearn/neural_network/_multilayer_perceptron.py:559: ConvergenceWarning: lbfgs failed to converge (status=1):\n",
      "STOP: TOTAL NO. of ITERATIONS REACHED LIMIT.\n",
      "\n",
      "Increase the number of iterations (max_iter) or scale the data as shown in:\n",
      "    https://scikit-learn.org/stable/modules/preprocessing.html\n",
      "  self.n_iter_ = _check_optimize_result(\"lbfgs\", opt_res, self.max_iter)\n"
     ]
    },
    {
     "name": "stdout",
     "output_type": "stream",
     "text": [
      "[CV] END activation=logistic, batch_size=auto, hidden_layer_sizes=(75,), learning_rate=adaptive, max_iter=1000, solver=lbfgs; total time= 1.2min\n",
      "[CV] END activation=logistic, batch_size=auto, hidden_layer_sizes=(75,), learning_rate=adaptive, max_iter=1000, solver=lbfgs; total time=  49.3s\n"
     ]
    },
    {
     "name": "stderr",
     "output_type": "stream",
     "text": [
      "/Users/mariusj/Documents/Edu/UMA/lectures/Data Mining/Project/dm1-titanic/.venv/lib/python3.9/site-packages/sklearn/neural_network/_multilayer_perceptron.py:559: ConvergenceWarning: lbfgs failed to converge (status=1):\n",
      "STOP: TOTAL NO. of ITERATIONS REACHED LIMIT.\n",
      "\n",
      "Increase the number of iterations (max_iter) or scale the data as shown in:\n",
      "    https://scikit-learn.org/stable/modules/preprocessing.html\n",
      "  self.n_iter_ = _check_optimize_result(\"lbfgs\", opt_res, self.max_iter)\n"
     ]
    },
    {
     "name": "stdout",
     "output_type": "stream",
     "text": [
      "[CV] END activation=logistic, batch_size=auto, hidden_layer_sizes=(75,), learning_rate=adaptive, max_iter=1000, solver=lbfgs; total time= 1.1min\n",
      "[CV] END activation=logistic, batch_size=auto, hidden_layer_sizes=(75,), learning_rate=adaptive, max_iter=1000, solver=lbfgs; total time=  51.8s\n"
     ]
    },
    {
     "name": "stderr",
     "output_type": "stream",
     "text": [
      "/Users/mariusj/Documents/Edu/UMA/lectures/Data Mining/Project/dm1-titanic/.venv/lib/python3.9/site-packages/sklearn/neural_network/_multilayer_perceptron.py:559: ConvergenceWarning: lbfgs failed to converge (status=1):\n",
      "STOP: TOTAL NO. of ITERATIONS REACHED LIMIT.\n",
      "\n",
      "Increase the number of iterations (max_iter) or scale the data as shown in:\n",
      "    https://scikit-learn.org/stable/modules/preprocessing.html\n",
      "  self.n_iter_ = _check_optimize_result(\"lbfgs\", opt_res, self.max_iter)\n"
     ]
    },
    {
     "name": "stdout",
     "output_type": "stream",
     "text": [
      "[CV] END activation=logistic, batch_size=auto, hidden_layer_sizes=(75,), learning_rate=adaptive, max_iter=1000, solver=lbfgs; total time=  58.3s\n",
      "[CV] END activation=logistic, batch_size=auto, hidden_layer_sizes=(75,), learning_rate=adaptive, max_iter=1000, solver=lbfgs; total time=  39.6s\n"
     ]
    },
    {
     "name": "stderr",
     "output_type": "stream",
     "text": [
      "/Users/mariusj/Documents/Edu/UMA/lectures/Data Mining/Project/dm1-titanic/.venv/lib/python3.9/site-packages/sklearn/neural_network/_multilayer_perceptron.py:559: ConvergenceWarning: lbfgs failed to converge (status=1):\n",
      "STOP: TOTAL NO. of ITERATIONS REACHED LIMIT.\n",
      "\n",
      "Increase the number of iterations (max_iter) or scale the data as shown in:\n",
      "    https://scikit-learn.org/stable/modules/preprocessing.html\n",
      "  self.n_iter_ = _check_optimize_result(\"lbfgs\", opt_res, self.max_iter)\n"
     ]
    },
    {
     "name": "stdout",
     "output_type": "stream",
     "text": [
      "[CV] END activation=logistic, batch_size=auto, hidden_layer_sizes=(75,), learning_rate=adaptive, max_iter=1000, solver=lbfgs; total time= 1.4min\n"
     ]
    },
    {
     "name": "stderr",
     "output_type": "stream",
     "text": [
      "/Users/mariusj/Documents/Edu/UMA/lectures/Data Mining/Project/dm1-titanic/.venv/lib/python3.9/site-packages/sklearn/neural_network/_multilayer_perceptron.py:559: ConvergenceWarning: lbfgs failed to converge (status=1):\n",
      "STOP: TOTAL NO. of ITERATIONS REACHED LIMIT.\n",
      "\n",
      "Increase the number of iterations (max_iter) or scale the data as shown in:\n",
      "    https://scikit-learn.org/stable/modules/preprocessing.html\n",
      "  self.n_iter_ = _check_optimize_result(\"lbfgs\", opt_res, self.max_iter)\n"
     ]
    },
    {
     "name": "stdout",
     "output_type": "stream",
     "text": [
      "[CV] END activation=logistic, batch_size=auto, hidden_layer_sizes=(75,), learning_rate=adaptive, max_iter=1000, solver=lbfgs; total time= 1.3min\n"
     ]
    },
    {
     "name": "stderr",
     "output_type": "stream",
     "text": [
      "/Users/mariusj/Documents/Edu/UMA/lectures/Data Mining/Project/dm1-titanic/.venv/lib/python3.9/site-packages/sklearn/neural_network/_multilayer_perceptron.py:559: ConvergenceWarning: lbfgs failed to converge (status=1):\n",
      "STOP: TOTAL NO. of ITERATIONS REACHED LIMIT.\n",
      "\n",
      "Increase the number of iterations (max_iter) or scale the data as shown in:\n",
      "    https://scikit-learn.org/stable/modules/preprocessing.html\n",
      "  self.n_iter_ = _check_optimize_result(\"lbfgs\", opt_res, self.max_iter)\n"
     ]
    },
    {
     "name": "stdout",
     "output_type": "stream",
     "text": [
      "[CV] END activation=logistic, batch_size=auto, hidden_layer_sizes=(75,), learning_rate=adaptive, max_iter=1000, solver=lbfgs; total time= 1.1min\n",
      "[CV] END activation=logistic, batch_size=auto, hidden_layer_sizes=(75,), learning_rate=adaptive, max_iter=1000, solver=sgd; total time=   4.1s\n"
     ]
    },
    {
     "name": "stderr",
     "output_type": "stream",
     "text": [
      "/Users/mariusj/Documents/Edu/UMA/lectures/Data Mining/Project/dm1-titanic/.venv/lib/python3.9/site-packages/sklearn/neural_network/_multilayer_perceptron.py:702: ConvergenceWarning: Stochastic Optimizer: Maximum iterations (1000) reached and the optimization hasn't converged yet.\n",
      "  warnings.warn(\n"
     ]
    },
    {
     "name": "stdout",
     "output_type": "stream",
     "text": [
      "[CV] END activation=logistic, batch_size=auto, hidden_layer_sizes=(75,), learning_rate=adaptive, max_iter=1000, solver=sgd; total time=   4.5s\n",
      "[CV] END activation=logistic, batch_size=auto, hidden_layer_sizes=(75,), learning_rate=adaptive, max_iter=1000, solver=sgd; total time=   3.8s\n",
      "[CV] END activation=logistic, batch_size=auto, hidden_layer_sizes=(75,), learning_rate=adaptive, max_iter=1000, solver=sgd; total time=   5.2s\n"
     ]
    },
    {
     "name": "stderr",
     "output_type": "stream",
     "text": [
      "/Users/mariusj/Documents/Edu/UMA/lectures/Data Mining/Project/dm1-titanic/.venv/lib/python3.9/site-packages/sklearn/neural_network/_multilayer_perceptron.py:702: ConvergenceWarning: Stochastic Optimizer: Maximum iterations (1000) reached and the optimization hasn't converged yet.\n",
      "  warnings.warn(\n"
     ]
    },
    {
     "name": "stdout",
     "output_type": "stream",
     "text": [
      "[CV] END activation=logistic, batch_size=auto, hidden_layer_sizes=(75,), learning_rate=adaptive, max_iter=1000, solver=sgd; total time=   5.2s\n"
     ]
    },
    {
     "name": "stderr",
     "output_type": "stream",
     "text": [
      "/Users/mariusj/Documents/Edu/UMA/lectures/Data Mining/Project/dm1-titanic/.venv/lib/python3.9/site-packages/sklearn/neural_network/_multilayer_perceptron.py:702: ConvergenceWarning: Stochastic Optimizer: Maximum iterations (1000) reached and the optimization hasn't converged yet.\n",
      "  warnings.warn(\n"
     ]
    },
    {
     "name": "stdout",
     "output_type": "stream",
     "text": [
      "[CV] END activation=logistic, batch_size=auto, hidden_layer_sizes=(75,), learning_rate=adaptive, max_iter=1000, solver=sgd; total time=   2.6s\n"
     ]
    },
    {
     "name": "stderr",
     "output_type": "stream",
     "text": [
      "/Users/mariusj/Documents/Edu/UMA/lectures/Data Mining/Project/dm1-titanic/.venv/lib/python3.9/site-packages/sklearn/neural_network/_multilayer_perceptron.py:702: ConvergenceWarning: Stochastic Optimizer: Maximum iterations (1000) reached and the optimization hasn't converged yet.\n",
      "  warnings.warn(\n"
     ]
    },
    {
     "name": "stdout",
     "output_type": "stream",
     "text": [
      "[CV] END activation=logistic, batch_size=auto, hidden_layer_sizes=(75,), learning_rate=adaptive, max_iter=1000, solver=sgd; total time=   2.7s\n"
     ]
    },
    {
     "name": "stderr",
     "output_type": "stream",
     "text": [
      "/Users/mariusj/Documents/Edu/UMA/lectures/Data Mining/Project/dm1-titanic/.venv/lib/python3.9/site-packages/sklearn/neural_network/_multilayer_perceptron.py:702: ConvergenceWarning: Stochastic Optimizer: Maximum iterations (1000) reached and the optimization hasn't converged yet.\n",
      "  warnings.warn(\n"
     ]
    },
    {
     "name": "stdout",
     "output_type": "stream",
     "text": [
      "[CV] END activation=logistic, batch_size=auto, hidden_layer_sizes=(75,), learning_rate=adaptive, max_iter=1000, solver=sgd; total time=   2.7s\n"
     ]
    },
    {
     "name": "stderr",
     "output_type": "stream",
     "text": [
      "/Users/mariusj/Documents/Edu/UMA/lectures/Data Mining/Project/dm1-titanic/.venv/lib/python3.9/site-packages/sklearn/neural_network/_multilayer_perceptron.py:702: ConvergenceWarning: Stochastic Optimizer: Maximum iterations (1000) reached and the optimization hasn't converged yet.\n",
      "  warnings.warn(\n"
     ]
    },
    {
     "name": "stdout",
     "output_type": "stream",
     "text": [
      "[CV] END activation=logistic, batch_size=auto, hidden_layer_sizes=(75,), learning_rate=adaptive, max_iter=1000, solver=sgd; total time=   3.0s\n",
      "[CV] END activation=logistic, batch_size=auto, hidden_layer_sizes=(75,), learning_rate=adaptive, max_iter=1000, solver=sgd; total time=   2.0s\n",
      "[CV] END activation=logistic, batch_size=auto, hidden_layer_sizes=(75,), learning_rate=adaptive, max_iter=1000, solver=adam; total time=   1.0s\n",
      "[CV] END activation=logistic, batch_size=auto, hidden_layer_sizes=(75,), learning_rate=adaptive, max_iter=1000, solver=adam; total time=   1.2s\n",
      "[CV] END activation=logistic, batch_size=auto, hidden_layer_sizes=(75,), learning_rate=adaptive, max_iter=1000, solver=adam; total time=   0.9s\n",
      "[CV] END activation=logistic, batch_size=auto, hidden_layer_sizes=(75,), learning_rate=adaptive, max_iter=1000, solver=adam; total time=   0.4s\n",
      "[CV] END activation=logistic, batch_size=auto, hidden_layer_sizes=(75,), learning_rate=adaptive, max_iter=1000, solver=adam; total time=   0.8s\n",
      "[CV] END activation=logistic, batch_size=auto, hidden_layer_sizes=(75,), learning_rate=adaptive, max_iter=1000, solver=adam; total time=   1.1s\n",
      "[CV] END activation=logistic, batch_size=auto, hidden_layer_sizes=(75,), learning_rate=adaptive, max_iter=1000, solver=adam; total time=   1.0s\n",
      "[CV] END activation=logistic, batch_size=auto, hidden_layer_sizes=(75,), learning_rate=adaptive, max_iter=1000, solver=adam; total time=   1.1s\n",
      "[CV] END activation=logistic, batch_size=auto, hidden_layer_sizes=(75,), learning_rate=adaptive, max_iter=1000, solver=adam; total time=   0.6s\n",
      "[CV] END activation=logistic, batch_size=auto, hidden_layer_sizes=(75,), learning_rate=adaptive, max_iter=1000, solver=adam; total time=   0.7s\n"
     ]
    },
    {
     "name": "stderr",
     "output_type": "stream",
     "text": [
      "/Users/mariusj/Documents/Edu/UMA/lectures/Data Mining/Project/dm1-titanic/.venv/lib/python3.9/site-packages/sklearn/neural_network/_multilayer_perceptron.py:559: ConvergenceWarning: lbfgs failed to converge (status=1):\n",
      "STOP: TOTAL NO. of ITERATIONS REACHED LIMIT.\n",
      "\n",
      "Increase the number of iterations (max_iter) or scale the data as shown in:\n",
      "    https://scikit-learn.org/stable/modules/preprocessing.html\n",
      "  self.n_iter_ = _check_optimize_result(\"lbfgs\", opt_res, self.max_iter)\n"
     ]
    },
    {
     "name": "stdout",
     "output_type": "stream",
     "text": [
      "[CV] END activation=tanh, batch_size=auto, hidden_layer_sizes=(10,), learning_rate=constant, max_iter=1000, solver=lbfgs; total time=   0.3s\n",
      "[CV] END activation=tanh, batch_size=auto, hidden_layer_sizes=(10,), learning_rate=constant, max_iter=1000, solver=lbfgs; total time=   0.2s\n"
     ]
    },
    {
     "name": "stderr",
     "output_type": "stream",
     "text": [
      "/Users/mariusj/Documents/Edu/UMA/lectures/Data Mining/Project/dm1-titanic/.venv/lib/python3.9/site-packages/sklearn/neural_network/_multilayer_perceptron.py:559: ConvergenceWarning: lbfgs failed to converge (status=1):\n",
      "STOP: TOTAL NO. of ITERATIONS REACHED LIMIT.\n",
      "\n",
      "Increase the number of iterations (max_iter) or scale the data as shown in:\n",
      "    https://scikit-learn.org/stable/modules/preprocessing.html\n",
      "  self.n_iter_ = _check_optimize_result(\"lbfgs\", opt_res, self.max_iter)\n"
     ]
    },
    {
     "name": "stdout",
     "output_type": "stream",
     "text": [
      "[CV] END activation=tanh, batch_size=auto, hidden_layer_sizes=(10,), learning_rate=constant, max_iter=1000, solver=lbfgs; total time=   0.2s\n"
     ]
    },
    {
     "name": "stderr",
     "output_type": "stream",
     "text": [
      "/Users/mariusj/Documents/Edu/UMA/lectures/Data Mining/Project/dm1-titanic/.venv/lib/python3.9/site-packages/sklearn/neural_network/_multilayer_perceptron.py:559: ConvergenceWarning: lbfgs failed to converge (status=1):\n",
      "STOP: TOTAL NO. of ITERATIONS REACHED LIMIT.\n",
      "\n",
      "Increase the number of iterations (max_iter) or scale the data as shown in:\n",
      "    https://scikit-learn.org/stable/modules/preprocessing.html\n",
      "  self.n_iter_ = _check_optimize_result(\"lbfgs\", opt_res, self.max_iter)\n"
     ]
    },
    {
     "name": "stdout",
     "output_type": "stream",
     "text": [
      "[CV] END activation=tanh, batch_size=auto, hidden_layer_sizes=(10,), learning_rate=constant, max_iter=1000, solver=lbfgs; total time=   0.2s\n"
     ]
    },
    {
     "name": "stderr",
     "output_type": "stream",
     "text": [
      "/Users/mariusj/Documents/Edu/UMA/lectures/Data Mining/Project/dm1-titanic/.venv/lib/python3.9/site-packages/sklearn/neural_network/_multilayer_perceptron.py:559: ConvergenceWarning: lbfgs failed to converge (status=1):\n",
      "STOP: TOTAL NO. of ITERATIONS REACHED LIMIT.\n",
      "\n",
      "Increase the number of iterations (max_iter) or scale the data as shown in:\n",
      "    https://scikit-learn.org/stable/modules/preprocessing.html\n",
      "  self.n_iter_ = _check_optimize_result(\"lbfgs\", opt_res, self.max_iter)\n"
     ]
    },
    {
     "name": "stdout",
     "output_type": "stream",
     "text": [
      "[CV] END activation=tanh, batch_size=auto, hidden_layer_sizes=(10,), learning_rate=constant, max_iter=1000, solver=lbfgs; total time=   0.2s\n",
      "[CV] END activation=tanh, batch_size=auto, hidden_layer_sizes=(10,), learning_rate=constant, max_iter=1000, solver=lbfgs; total time=   0.2s\n",
      "[CV] END activation=tanh, batch_size=auto, hidden_layer_sizes=(10,), learning_rate=constant, max_iter=1000, solver=lbfgs; total time=   0.2s\n",
      "[CV] END activation=tanh, batch_size=auto, hidden_layer_sizes=(10,), learning_rate=constant, max_iter=1000, solver=lbfgs; total time=   0.1s\n"
     ]
    },
    {
     "name": "stderr",
     "output_type": "stream",
     "text": [
      "/Users/mariusj/Documents/Edu/UMA/lectures/Data Mining/Project/dm1-titanic/.venv/lib/python3.9/site-packages/sklearn/neural_network/_multilayer_perceptron.py:559: ConvergenceWarning: lbfgs failed to converge (status=1):\n",
      "STOP: TOTAL NO. of ITERATIONS REACHED LIMIT.\n",
      "\n",
      "Increase the number of iterations (max_iter) or scale the data as shown in:\n",
      "    https://scikit-learn.org/stable/modules/preprocessing.html\n",
      "  self.n_iter_ = _check_optimize_result(\"lbfgs\", opt_res, self.max_iter)\n"
     ]
    },
    {
     "name": "stdout",
     "output_type": "stream",
     "text": [
      "[CV] END activation=tanh, batch_size=auto, hidden_layer_sizes=(10,), learning_rate=constant, max_iter=1000, solver=lbfgs; total time=   0.2s\n",
      "[CV] END activation=tanh, batch_size=auto, hidden_layer_sizes=(10,), learning_rate=constant, max_iter=1000, solver=lbfgs; total time=   0.1s\n",
      "[CV] END activation=tanh, batch_size=auto, hidden_layer_sizes=(10,), learning_rate=constant, max_iter=1000, solver=sgd; total time=   0.3s\n",
      "[CV] END activation=tanh, batch_size=auto, hidden_layer_sizes=(10,), learning_rate=constant, max_iter=1000, solver=sgd; total time=   0.3s\n",
      "[CV] END activation=tanh, batch_size=auto, hidden_layer_sizes=(10,), learning_rate=constant, max_iter=1000, solver=sgd; total time=   0.3s\n",
      "[CV] END activation=tanh, batch_size=auto, hidden_layer_sizes=(10,), learning_rate=constant, max_iter=1000, solver=sgd; total time=   0.3s\n",
      "[CV] END activation=tanh, batch_size=auto, hidden_layer_sizes=(10,), learning_rate=constant, max_iter=1000, solver=sgd; total time=   0.3s\n",
      "[CV] END activation=tanh, batch_size=auto, hidden_layer_sizes=(10,), learning_rate=constant, max_iter=1000, solver=sgd; total time=   0.2s\n",
      "[CV] END activation=tanh, batch_size=auto, hidden_layer_sizes=(10,), learning_rate=constant, max_iter=1000, solver=sgd; total time=   0.2s\n",
      "[CV] END activation=tanh, batch_size=auto, hidden_layer_sizes=(10,), learning_rate=constant, max_iter=1000, solver=sgd; total time=   0.2s\n",
      "[CV] END activation=tanh, batch_size=auto, hidden_layer_sizes=(10,), learning_rate=constant, max_iter=1000, solver=sgd; total time=   0.2s\n",
      "[CV] END activation=tanh, batch_size=auto, hidden_layer_sizes=(10,), learning_rate=constant, max_iter=1000, solver=sgd; total time=   0.3s\n"
     ]
    },
    {
     "name": "stderr",
     "output_type": "stream",
     "text": [
      "/Users/mariusj/Documents/Edu/UMA/lectures/Data Mining/Project/dm1-titanic/.venv/lib/python3.9/site-packages/sklearn/neural_network/_multilayer_perceptron.py:702: ConvergenceWarning: Stochastic Optimizer: Maximum iterations (1000) reached and the optimization hasn't converged yet.\n",
      "  warnings.warn(\n"
     ]
    },
    {
     "name": "stdout",
     "output_type": "stream",
     "text": [
      "[CV] END activation=tanh, batch_size=auto, hidden_layer_sizes=(10,), learning_rate=constant, max_iter=1000, solver=adam; total time=   0.4s\n",
      "[CV] END activation=tanh, batch_size=auto, hidden_layer_sizes=(10,), learning_rate=constant, max_iter=1000, solver=adam; total time=   0.3s\n"
     ]
    },
    {
     "name": "stderr",
     "output_type": "stream",
     "text": [
      "/Users/mariusj/Documents/Edu/UMA/lectures/Data Mining/Project/dm1-titanic/.venv/lib/python3.9/site-packages/sklearn/neural_network/_multilayer_perceptron.py:702: ConvergenceWarning: Stochastic Optimizer: Maximum iterations (1000) reached and the optimization hasn't converged yet.\n",
      "  warnings.warn(\n"
     ]
    },
    {
     "name": "stdout",
     "output_type": "stream",
     "text": [
      "[CV] END activation=tanh, batch_size=auto, hidden_layer_sizes=(10,), learning_rate=constant, max_iter=1000, solver=adam; total time=   0.4s\n",
      "[CV] END activation=tanh, batch_size=auto, hidden_layer_sizes=(10,), learning_rate=constant, max_iter=1000, solver=adam; total time=   0.4s\n",
      "[CV] END activation=tanh, batch_size=auto, hidden_layer_sizes=(10,), learning_rate=constant, max_iter=1000, solver=adam; total time=   0.3s\n",
      "[CV] END activation=tanh, batch_size=auto, hidden_layer_sizes=(10,), learning_rate=constant, max_iter=1000, solver=adam; total time=   0.3s\n",
      "[CV] END activation=tanh, batch_size=auto, hidden_layer_sizes=(10,), learning_rate=constant, max_iter=1000, solver=adam; total time=   0.2s\n"
     ]
    },
    {
     "name": "stderr",
     "output_type": "stream",
     "text": [
      "/Users/mariusj/Documents/Edu/UMA/lectures/Data Mining/Project/dm1-titanic/.venv/lib/python3.9/site-packages/sklearn/neural_network/_multilayer_perceptron.py:702: ConvergenceWarning: Stochastic Optimizer: Maximum iterations (1000) reached and the optimization hasn't converged yet.\n",
      "  warnings.warn(\n"
     ]
    },
    {
     "name": "stdout",
     "output_type": "stream",
     "text": [
      "[CV] END activation=tanh, batch_size=auto, hidden_layer_sizes=(10,), learning_rate=constant, max_iter=1000, solver=adam; total time=   0.4s\n"
     ]
    },
    {
     "name": "stderr",
     "output_type": "stream",
     "text": [
      "/Users/mariusj/Documents/Edu/UMA/lectures/Data Mining/Project/dm1-titanic/.venv/lib/python3.9/site-packages/sklearn/neural_network/_multilayer_perceptron.py:702: ConvergenceWarning: Stochastic Optimizer: Maximum iterations (1000) reached and the optimization hasn't converged yet.\n",
      "  warnings.warn(\n"
     ]
    },
    {
     "name": "stdout",
     "output_type": "stream",
     "text": [
      "[CV] END activation=tanh, batch_size=auto, hidden_layer_sizes=(10,), learning_rate=constant, max_iter=1000, solver=adam; total time=   0.4s\n",
      "[CV] END activation=tanh, batch_size=auto, hidden_layer_sizes=(10,), learning_rate=constant, max_iter=1000, solver=adam; total time=   0.3s\n"
     ]
    },
    {
     "name": "stderr",
     "output_type": "stream",
     "text": [
      "/Users/mariusj/Documents/Edu/UMA/lectures/Data Mining/Project/dm1-titanic/.venv/lib/python3.9/site-packages/sklearn/neural_network/_multilayer_perceptron.py:559: ConvergenceWarning: lbfgs failed to converge (status=1):\n",
      "STOP: TOTAL NO. of ITERATIONS REACHED LIMIT.\n",
      "\n",
      "Increase the number of iterations (max_iter) or scale the data as shown in:\n",
      "    https://scikit-learn.org/stable/modules/preprocessing.html\n",
      "  self.n_iter_ = _check_optimize_result(\"lbfgs\", opt_res, self.max_iter)\n"
     ]
    },
    {
     "name": "stdout",
     "output_type": "stream",
     "text": [
      "[CV] END activation=tanh, batch_size=auto, hidden_layer_sizes=(10,), learning_rate=invscaling, max_iter=1000, solver=lbfgs; total time=   0.2s\n"
     ]
    },
    {
     "name": "stderr",
     "output_type": "stream",
     "text": [
      "/Users/mariusj/Documents/Edu/UMA/lectures/Data Mining/Project/dm1-titanic/.venv/lib/python3.9/site-packages/sklearn/neural_network/_multilayer_perceptron.py:559: ConvergenceWarning: lbfgs failed to converge (status=1):\n",
      "STOP: TOTAL NO. of ITERATIONS REACHED LIMIT.\n",
      "\n",
      "Increase the number of iterations (max_iter) or scale the data as shown in:\n",
      "    https://scikit-learn.org/stable/modules/preprocessing.html\n",
      "  self.n_iter_ = _check_optimize_result(\"lbfgs\", opt_res, self.max_iter)\n"
     ]
    },
    {
     "name": "stdout",
     "output_type": "stream",
     "text": [
      "[CV] END activation=tanh, batch_size=auto, hidden_layer_sizes=(10,), learning_rate=invscaling, max_iter=1000, solver=lbfgs; total time=   0.2s\n",
      "[CV] END activation=tanh, batch_size=auto, hidden_layer_sizes=(10,), learning_rate=invscaling, max_iter=1000, solver=lbfgs; total time=   0.2s\n"
     ]
    },
    {
     "name": "stderr",
     "output_type": "stream",
     "text": [
      "/Users/mariusj/Documents/Edu/UMA/lectures/Data Mining/Project/dm1-titanic/.venv/lib/python3.9/site-packages/sklearn/neural_network/_multilayer_perceptron.py:559: ConvergenceWarning: lbfgs failed to converge (status=1):\n",
      "STOP: TOTAL NO. of ITERATIONS REACHED LIMIT.\n",
      "\n",
      "Increase the number of iterations (max_iter) or scale the data as shown in:\n",
      "    https://scikit-learn.org/stable/modules/preprocessing.html\n",
      "  self.n_iter_ = _check_optimize_result(\"lbfgs\", opt_res, self.max_iter)\n"
     ]
    },
    {
     "name": "stdout",
     "output_type": "stream",
     "text": [
      "[CV] END activation=tanh, batch_size=auto, hidden_layer_sizes=(10,), learning_rate=invscaling, max_iter=1000, solver=lbfgs; total time=   0.2s\n"
     ]
    },
    {
     "name": "stderr",
     "output_type": "stream",
     "text": [
      "/Users/mariusj/Documents/Edu/UMA/lectures/Data Mining/Project/dm1-titanic/.venv/lib/python3.9/site-packages/sklearn/neural_network/_multilayer_perceptron.py:559: ConvergenceWarning: lbfgs failed to converge (status=1):\n",
      "STOP: TOTAL NO. of ITERATIONS REACHED LIMIT.\n",
      "\n",
      "Increase the number of iterations (max_iter) or scale the data as shown in:\n",
      "    https://scikit-learn.org/stable/modules/preprocessing.html\n",
      "  self.n_iter_ = _check_optimize_result(\"lbfgs\", opt_res, self.max_iter)\n"
     ]
    },
    {
     "name": "stdout",
     "output_type": "stream",
     "text": [
      "[CV] END activation=tanh, batch_size=auto, hidden_layer_sizes=(10,), learning_rate=invscaling, max_iter=1000, solver=lbfgs; total time=   0.2s\n"
     ]
    },
    {
     "name": "stderr",
     "output_type": "stream",
     "text": [
      "/Users/mariusj/Documents/Edu/UMA/lectures/Data Mining/Project/dm1-titanic/.venv/lib/python3.9/site-packages/sklearn/neural_network/_multilayer_perceptron.py:559: ConvergenceWarning: lbfgs failed to converge (status=1):\n",
      "STOP: TOTAL NO. of ITERATIONS REACHED LIMIT.\n",
      "\n",
      "Increase the number of iterations (max_iter) or scale the data as shown in:\n",
      "    https://scikit-learn.org/stable/modules/preprocessing.html\n",
      "  self.n_iter_ = _check_optimize_result(\"lbfgs\", opt_res, self.max_iter)\n"
     ]
    },
    {
     "name": "stdout",
     "output_type": "stream",
     "text": [
      "[CV] END activation=tanh, batch_size=auto, hidden_layer_sizes=(10,), learning_rate=invscaling, max_iter=1000, solver=lbfgs; total time=   0.2s\n",
      "[CV] END activation=tanh, batch_size=auto, hidden_layer_sizes=(10,), learning_rate=invscaling, max_iter=1000, solver=lbfgs; total time=   0.2s\n",
      "[CV] END activation=tanh, batch_size=auto, hidden_layer_sizes=(10,), learning_rate=invscaling, max_iter=1000, solver=lbfgs; total time=   0.2s\n"
     ]
    },
    {
     "name": "stderr",
     "output_type": "stream",
     "text": [
      "/Users/mariusj/Documents/Edu/UMA/lectures/Data Mining/Project/dm1-titanic/.venv/lib/python3.9/site-packages/sklearn/neural_network/_multilayer_perceptron.py:559: ConvergenceWarning: lbfgs failed to converge (status=1):\n",
      "STOP: TOTAL NO. of ITERATIONS REACHED LIMIT.\n",
      "\n",
      "Increase the number of iterations (max_iter) or scale the data as shown in:\n",
      "    https://scikit-learn.org/stable/modules/preprocessing.html\n",
      "  self.n_iter_ = _check_optimize_result(\"lbfgs\", opt_res, self.max_iter)\n"
     ]
    },
    {
     "name": "stdout",
     "output_type": "stream",
     "text": [
      "[CV] END activation=tanh, batch_size=auto, hidden_layer_sizes=(10,), learning_rate=invscaling, max_iter=1000, solver=lbfgs; total time=   0.2s\n"
     ]
    },
    {
     "name": "stderr",
     "output_type": "stream",
     "text": [
      "/Users/mariusj/Documents/Edu/UMA/lectures/Data Mining/Project/dm1-titanic/.venv/lib/python3.9/site-packages/sklearn/neural_network/_multilayer_perceptron.py:559: ConvergenceWarning: lbfgs failed to converge (status=1):\n",
      "STOP: TOTAL NO. of ITERATIONS REACHED LIMIT.\n",
      "\n",
      "Increase the number of iterations (max_iter) or scale the data as shown in:\n",
      "    https://scikit-learn.org/stable/modules/preprocessing.html\n",
      "  self.n_iter_ = _check_optimize_result(\"lbfgs\", opt_res, self.max_iter)\n"
     ]
    },
    {
     "name": "stdout",
     "output_type": "stream",
     "text": [
      "[CV] END activation=tanh, batch_size=auto, hidden_layer_sizes=(10,), learning_rate=invscaling, max_iter=1000, solver=lbfgs; total time=   0.2s\n",
      "[CV] END activation=tanh, batch_size=auto, hidden_layer_sizes=(10,), learning_rate=invscaling, max_iter=1000, solver=sgd; total time=   0.1s\n",
      "[CV] END activation=tanh, batch_size=auto, hidden_layer_sizes=(10,), learning_rate=invscaling, max_iter=1000, solver=sgd; total time=   0.0s\n",
      "[CV] END activation=tanh, batch_size=auto, hidden_layer_sizes=(10,), learning_rate=invscaling, max_iter=1000, solver=sgd; total time=   0.2s\n",
      "[CV] END activation=tanh, batch_size=auto, hidden_layer_sizes=(10,), learning_rate=invscaling, max_iter=1000, solver=sgd; total time=   0.0s\n",
      "[CV] END activation=tanh, batch_size=auto, hidden_layer_sizes=(10,), learning_rate=invscaling, max_iter=1000, solver=sgd; total time=   0.0s\n",
      "[CV] END activation=tanh, batch_size=auto, hidden_layer_sizes=(10,), learning_rate=invscaling, max_iter=1000, solver=sgd; total time=   0.0s\n",
      "[CV] END activation=tanh, batch_size=auto, hidden_layer_sizes=(10,), learning_rate=invscaling, max_iter=1000, solver=sgd; total time=   0.0s\n",
      "[CV] END activation=tanh, batch_size=auto, hidden_layer_sizes=(10,), learning_rate=invscaling, max_iter=1000, solver=sgd; total time=   0.0s\n",
      "[CV] END activation=tanh, batch_size=auto, hidden_layer_sizes=(10,), learning_rate=invscaling, max_iter=1000, solver=sgd; total time=   0.0s\n",
      "[CV] END activation=tanh, batch_size=auto, hidden_layer_sizes=(10,), learning_rate=invscaling, max_iter=1000, solver=sgd; total time=   0.0s\n",
      "[CV] END activation=tanh, batch_size=auto, hidden_layer_sizes=(10,), learning_rate=invscaling, max_iter=1000, solver=adam; total time=   0.3s\n"
     ]
    },
    {
     "name": "stderr",
     "output_type": "stream",
     "text": [
      "/Users/mariusj/Documents/Edu/UMA/lectures/Data Mining/Project/dm1-titanic/.venv/lib/python3.9/site-packages/sklearn/neural_network/_multilayer_perceptron.py:702: ConvergenceWarning: Stochastic Optimizer: Maximum iterations (1000) reached and the optimization hasn't converged yet.\n",
      "  warnings.warn(\n"
     ]
    },
    {
     "name": "stdout",
     "output_type": "stream",
     "text": [
      "[CV] END activation=tanh, batch_size=auto, hidden_layer_sizes=(10,), learning_rate=invscaling, max_iter=1000, solver=adam; total time=   0.4s\n",
      "[CV] END activation=tanh, batch_size=auto, hidden_layer_sizes=(10,), learning_rate=invscaling, max_iter=1000, solver=adam; total time=   0.4s\n"
     ]
    },
    {
     "name": "stderr",
     "output_type": "stream",
     "text": [
      "/Users/mariusj/Documents/Edu/UMA/lectures/Data Mining/Project/dm1-titanic/.venv/lib/python3.9/site-packages/sklearn/neural_network/_multilayer_perceptron.py:702: ConvergenceWarning: Stochastic Optimizer: Maximum iterations (1000) reached and the optimization hasn't converged yet.\n",
      "  warnings.warn(\n"
     ]
    },
    {
     "name": "stdout",
     "output_type": "stream",
     "text": [
      "[CV] END activation=tanh, batch_size=auto, hidden_layer_sizes=(10,), learning_rate=invscaling, max_iter=1000, solver=adam; total time=   0.4s\n",
      "[CV] END activation=tanh, batch_size=auto, hidden_layer_sizes=(10,), learning_rate=invscaling, max_iter=1000, solver=adam; total time=   0.4s\n",
      "[CV] END activation=tanh, batch_size=auto, hidden_layer_sizes=(10,), learning_rate=invscaling, max_iter=1000, solver=adam; total time=   0.4s\n"
     ]
    },
    {
     "name": "stderr",
     "output_type": "stream",
     "text": [
      "/Users/mariusj/Documents/Edu/UMA/lectures/Data Mining/Project/dm1-titanic/.venv/lib/python3.9/site-packages/sklearn/neural_network/_multilayer_perceptron.py:702: ConvergenceWarning: Stochastic Optimizer: Maximum iterations (1000) reached and the optimization hasn't converged yet.\n",
      "  warnings.warn(\n"
     ]
    },
    {
     "name": "stdout",
     "output_type": "stream",
     "text": [
      "[CV] END activation=tanh, batch_size=auto, hidden_layer_sizes=(10,), learning_rate=invscaling, max_iter=1000, solver=adam; total time=   0.4s\n"
     ]
    },
    {
     "name": "stderr",
     "output_type": "stream",
     "text": [
      "/Users/mariusj/Documents/Edu/UMA/lectures/Data Mining/Project/dm1-titanic/.venv/lib/python3.9/site-packages/sklearn/neural_network/_multilayer_perceptron.py:702: ConvergenceWarning: Stochastic Optimizer: Maximum iterations (1000) reached and the optimization hasn't converged yet.\n",
      "  warnings.warn(\n"
     ]
    },
    {
     "name": "stdout",
     "output_type": "stream",
     "text": [
      "[CV] END activation=tanh, batch_size=auto, hidden_layer_sizes=(10,), learning_rate=invscaling, max_iter=1000, solver=adam; total time=   0.4s\n",
      "[CV] END activation=tanh, batch_size=auto, hidden_layer_sizes=(10,), learning_rate=invscaling, max_iter=1000, solver=adam; total time=   0.3s\n",
      "[CV] END activation=tanh, batch_size=auto, hidden_layer_sizes=(10,), learning_rate=invscaling, max_iter=1000, solver=adam; total time=   0.3s\n"
     ]
    },
    {
     "name": "stderr",
     "output_type": "stream",
     "text": [
      "/Users/mariusj/Documents/Edu/UMA/lectures/Data Mining/Project/dm1-titanic/.venv/lib/python3.9/site-packages/sklearn/neural_network/_multilayer_perceptron.py:559: ConvergenceWarning: lbfgs failed to converge (status=1):\n",
      "STOP: TOTAL NO. of ITERATIONS REACHED LIMIT.\n",
      "\n",
      "Increase the number of iterations (max_iter) or scale the data as shown in:\n",
      "    https://scikit-learn.org/stable/modules/preprocessing.html\n",
      "  self.n_iter_ = _check_optimize_result(\"lbfgs\", opt_res, self.max_iter)\n"
     ]
    },
    {
     "name": "stdout",
     "output_type": "stream",
     "text": [
      "[CV] END activation=tanh, batch_size=auto, hidden_layer_sizes=(10,), learning_rate=adaptive, max_iter=1000, solver=lbfgs; total time=   0.2s\n"
     ]
    },
    {
     "name": "stderr",
     "output_type": "stream",
     "text": [
      "/Users/mariusj/Documents/Edu/UMA/lectures/Data Mining/Project/dm1-titanic/.venv/lib/python3.9/site-packages/sklearn/neural_network/_multilayer_perceptron.py:559: ConvergenceWarning: lbfgs failed to converge (status=1):\n",
      "STOP: TOTAL NO. of ITERATIONS REACHED LIMIT.\n",
      "\n",
      "Increase the number of iterations (max_iter) or scale the data as shown in:\n",
      "    https://scikit-learn.org/stable/modules/preprocessing.html\n",
      "  self.n_iter_ = _check_optimize_result(\"lbfgs\", opt_res, self.max_iter)\n"
     ]
    },
    {
     "name": "stdout",
     "output_type": "stream",
     "text": [
      "[CV] END activation=tanh, batch_size=auto, hidden_layer_sizes=(10,), learning_rate=adaptive, max_iter=1000, solver=lbfgs; total time=   0.2s\n"
     ]
    },
    {
     "name": "stderr",
     "output_type": "stream",
     "text": [
      "/Users/mariusj/Documents/Edu/UMA/lectures/Data Mining/Project/dm1-titanic/.venv/lib/python3.9/site-packages/sklearn/neural_network/_multilayer_perceptron.py:559: ConvergenceWarning: lbfgs failed to converge (status=1):\n",
      "STOP: TOTAL NO. of ITERATIONS REACHED LIMIT.\n",
      "\n",
      "Increase the number of iterations (max_iter) or scale the data as shown in:\n",
      "    https://scikit-learn.org/stable/modules/preprocessing.html\n",
      "  self.n_iter_ = _check_optimize_result(\"lbfgs\", opt_res, self.max_iter)\n"
     ]
    },
    {
     "name": "stdout",
     "output_type": "stream",
     "text": [
      "[CV] END activation=tanh, batch_size=auto, hidden_layer_sizes=(10,), learning_rate=adaptive, max_iter=1000, solver=lbfgs; total time=   0.2s\n"
     ]
    },
    {
     "name": "stderr",
     "output_type": "stream",
     "text": [
      "/Users/mariusj/Documents/Edu/UMA/lectures/Data Mining/Project/dm1-titanic/.venv/lib/python3.9/site-packages/sklearn/neural_network/_multilayer_perceptron.py:559: ConvergenceWarning: lbfgs failed to converge (status=1):\n",
      "STOP: TOTAL NO. of ITERATIONS REACHED LIMIT.\n",
      "\n",
      "Increase the number of iterations (max_iter) or scale the data as shown in:\n",
      "    https://scikit-learn.org/stable/modules/preprocessing.html\n",
      "  self.n_iter_ = _check_optimize_result(\"lbfgs\", opt_res, self.max_iter)\n"
     ]
    },
    {
     "name": "stdout",
     "output_type": "stream",
     "text": [
      "[CV] END activation=tanh, batch_size=auto, hidden_layer_sizes=(10,), learning_rate=adaptive, max_iter=1000, solver=lbfgs; total time=   0.2s\n",
      "[CV] END activation=tanh, batch_size=auto, hidden_layer_sizes=(10,), learning_rate=adaptive, max_iter=1000, solver=lbfgs; total time=   0.2s\n"
     ]
    },
    {
     "name": "stderr",
     "output_type": "stream",
     "text": [
      "/Users/mariusj/Documents/Edu/UMA/lectures/Data Mining/Project/dm1-titanic/.venv/lib/python3.9/site-packages/sklearn/neural_network/_multilayer_perceptron.py:559: ConvergenceWarning: lbfgs failed to converge (status=1):\n",
      "STOP: TOTAL NO. of ITERATIONS REACHED LIMIT.\n",
      "\n",
      "Increase the number of iterations (max_iter) or scale the data as shown in:\n",
      "    https://scikit-learn.org/stable/modules/preprocessing.html\n",
      "  self.n_iter_ = _check_optimize_result(\"lbfgs\", opt_res, self.max_iter)\n"
     ]
    },
    {
     "name": "stdout",
     "output_type": "stream",
     "text": [
      "[CV] END activation=tanh, batch_size=auto, hidden_layer_sizes=(10,), learning_rate=adaptive, max_iter=1000, solver=lbfgs; total time=   0.2s\n"
     ]
    },
    {
     "name": "stderr",
     "output_type": "stream",
     "text": [
      "/Users/mariusj/Documents/Edu/UMA/lectures/Data Mining/Project/dm1-titanic/.venv/lib/python3.9/site-packages/sklearn/neural_network/_multilayer_perceptron.py:559: ConvergenceWarning: lbfgs failed to converge (status=1):\n",
      "STOP: TOTAL NO. of ITERATIONS REACHED LIMIT.\n",
      "\n",
      "Increase the number of iterations (max_iter) or scale the data as shown in:\n",
      "    https://scikit-learn.org/stable/modules/preprocessing.html\n",
      "  self.n_iter_ = _check_optimize_result(\"lbfgs\", opt_res, self.max_iter)\n"
     ]
    },
    {
     "name": "stdout",
     "output_type": "stream",
     "text": [
      "[CV] END activation=tanh, batch_size=auto, hidden_layer_sizes=(10,), learning_rate=adaptive, max_iter=1000, solver=lbfgs; total time=   0.2s\n"
     ]
    },
    {
     "name": "stderr",
     "output_type": "stream",
     "text": [
      "/Users/mariusj/Documents/Edu/UMA/lectures/Data Mining/Project/dm1-titanic/.venv/lib/python3.9/site-packages/sklearn/neural_network/_multilayer_perceptron.py:559: ConvergenceWarning: lbfgs failed to converge (status=1):\n",
      "STOP: TOTAL NO. of ITERATIONS REACHED LIMIT.\n",
      "\n",
      "Increase the number of iterations (max_iter) or scale the data as shown in:\n",
      "    https://scikit-learn.org/stable/modules/preprocessing.html\n",
      "  self.n_iter_ = _check_optimize_result(\"lbfgs\", opt_res, self.max_iter)\n"
     ]
    },
    {
     "name": "stdout",
     "output_type": "stream",
     "text": [
      "[CV] END activation=tanh, batch_size=auto, hidden_layer_sizes=(10,), learning_rate=adaptive, max_iter=1000, solver=lbfgs; total time=   0.2s\n"
     ]
    },
    {
     "name": "stderr",
     "output_type": "stream",
     "text": [
      "/Users/mariusj/Documents/Edu/UMA/lectures/Data Mining/Project/dm1-titanic/.venv/lib/python3.9/site-packages/sklearn/neural_network/_multilayer_perceptron.py:559: ConvergenceWarning: lbfgs failed to converge (status=1):\n",
      "STOP: TOTAL NO. of ITERATIONS REACHED LIMIT.\n",
      "\n",
      "Increase the number of iterations (max_iter) or scale the data as shown in:\n",
      "    https://scikit-learn.org/stable/modules/preprocessing.html\n",
      "  self.n_iter_ = _check_optimize_result(\"lbfgs\", opt_res, self.max_iter)\n"
     ]
    },
    {
     "name": "stdout",
     "output_type": "stream",
     "text": [
      "[CV] END activation=tanh, batch_size=auto, hidden_layer_sizes=(10,), learning_rate=adaptive, max_iter=1000, solver=lbfgs; total time=   0.2s\n"
     ]
    },
    {
     "name": "stderr",
     "output_type": "stream",
     "text": [
      "/Users/mariusj/Documents/Edu/UMA/lectures/Data Mining/Project/dm1-titanic/.venv/lib/python3.9/site-packages/sklearn/neural_network/_multilayer_perceptron.py:559: ConvergenceWarning: lbfgs failed to converge (status=1):\n",
      "STOP: TOTAL NO. of ITERATIONS REACHED LIMIT.\n",
      "\n",
      "Increase the number of iterations (max_iter) or scale the data as shown in:\n",
      "    https://scikit-learn.org/stable/modules/preprocessing.html\n",
      "  self.n_iter_ = _check_optimize_result(\"lbfgs\", opt_res, self.max_iter)\n"
     ]
    },
    {
     "name": "stdout",
     "output_type": "stream",
     "text": [
      "[CV] END activation=tanh, batch_size=auto, hidden_layer_sizes=(10,), learning_rate=adaptive, max_iter=1000, solver=lbfgs; total time=   0.2s\n",
      "[CV] END activation=tanh, batch_size=auto, hidden_layer_sizes=(10,), learning_rate=adaptive, max_iter=1000, solver=sgd; total time=   0.2s\n",
      "[CV] END activation=tanh, batch_size=auto, hidden_layer_sizes=(10,), learning_rate=adaptive, max_iter=1000, solver=sgd; total time=   0.2s\n",
      "[CV] END activation=tanh, batch_size=auto, hidden_layer_sizes=(10,), learning_rate=adaptive, max_iter=1000, solver=sgd; total time=   0.2s\n",
      "[CV] END activation=tanh, batch_size=auto, hidden_layer_sizes=(10,), learning_rate=adaptive, max_iter=1000, solver=sgd; total time=   0.2s\n",
      "[CV] END activation=tanh, batch_size=auto, hidden_layer_sizes=(10,), learning_rate=adaptive, max_iter=1000, solver=sgd; total time=   0.2s\n",
      "[CV] END activation=tanh, batch_size=auto, hidden_layer_sizes=(10,), learning_rate=adaptive, max_iter=1000, solver=sgd; total time=   0.3s\n",
      "[CV] END activation=tanh, batch_size=auto, hidden_layer_sizes=(10,), learning_rate=adaptive, max_iter=1000, solver=sgd; total time=   0.3s\n",
      "[CV] END activation=tanh, batch_size=auto, hidden_layer_sizes=(10,), learning_rate=adaptive, max_iter=1000, solver=sgd; total time=   0.3s\n",
      "[CV] END activation=tanh, batch_size=auto, hidden_layer_sizes=(10,), learning_rate=adaptive, max_iter=1000, solver=sgd; total time=   0.3s\n",
      "[CV] END activation=tanh, batch_size=auto, hidden_layer_sizes=(10,), learning_rate=adaptive, max_iter=1000, solver=sgd; total time=   0.3s\n"
     ]
    },
    {
     "name": "stderr",
     "output_type": "stream",
     "text": [
      "/Users/mariusj/Documents/Edu/UMA/lectures/Data Mining/Project/dm1-titanic/.venv/lib/python3.9/site-packages/sklearn/neural_network/_multilayer_perceptron.py:702: ConvergenceWarning: Stochastic Optimizer: Maximum iterations (1000) reached and the optimization hasn't converged yet.\n",
      "  warnings.warn(\n"
     ]
    },
    {
     "name": "stdout",
     "output_type": "stream",
     "text": [
      "[CV] END activation=tanh, batch_size=auto, hidden_layer_sizes=(10,), learning_rate=adaptive, max_iter=1000, solver=adam; total time=   0.4s\n",
      "[CV] END activation=tanh, batch_size=auto, hidden_layer_sizes=(10,), learning_rate=adaptive, max_iter=1000, solver=adam; total time=   0.4s\n",
      "[CV] END activation=tanh, batch_size=auto, hidden_layer_sizes=(10,), learning_rate=adaptive, max_iter=1000, solver=adam; total time=   0.2s\n",
      "[CV] END activation=tanh, batch_size=auto, hidden_layer_sizes=(10,), learning_rate=adaptive, max_iter=1000, solver=adam; total time=   0.4s\n",
      "[CV] END activation=tanh, batch_size=auto, hidden_layer_sizes=(10,), learning_rate=adaptive, max_iter=1000, solver=adam; total time=   0.3s\n",
      "[CV] END activation=tanh, batch_size=auto, hidden_layer_sizes=(10,), learning_rate=adaptive, max_iter=1000, solver=adam; total time=   0.3s\n",
      "[CV] END activation=tanh, batch_size=auto, hidden_layer_sizes=(10,), learning_rate=adaptive, max_iter=1000, solver=adam; total time=   0.4s\n",
      "[CV] END activation=tanh, batch_size=auto, hidden_layer_sizes=(10,), learning_rate=adaptive, max_iter=1000, solver=adam; total time=   0.4s\n",
      "[CV] END activation=tanh, batch_size=auto, hidden_layer_sizes=(10,), learning_rate=adaptive, max_iter=1000, solver=adam; total time=   0.3s\n",
      "[CV] END activation=tanh, batch_size=auto, hidden_layer_sizes=(10,), learning_rate=adaptive, max_iter=1000, solver=adam; total time=   0.3s\n"
     ]
    },
    {
     "name": "stderr",
     "output_type": "stream",
     "text": [
      "/Users/mariusj/Documents/Edu/UMA/lectures/Data Mining/Project/dm1-titanic/.venv/lib/python3.9/site-packages/sklearn/neural_network/_multilayer_perceptron.py:559: ConvergenceWarning: lbfgs failed to converge (status=1):\n",
      "STOP: TOTAL NO. of ITERATIONS REACHED LIMIT.\n",
      "\n",
      "Increase the number of iterations (max_iter) or scale the data as shown in:\n",
      "    https://scikit-learn.org/stable/modules/preprocessing.html\n",
      "  self.n_iter_ = _check_optimize_result(\"lbfgs\", opt_res, self.max_iter)\n"
     ]
    },
    {
     "name": "stdout",
     "output_type": "stream",
     "text": [
      "[CV] END activation=tanh, batch_size=auto, hidden_layer_sizes=(25,), learning_rate=constant, max_iter=1000, solver=lbfgs; total time=   1.4s\n"
     ]
    },
    {
     "name": "stderr",
     "output_type": "stream",
     "text": [
      "/Users/mariusj/Documents/Edu/UMA/lectures/Data Mining/Project/dm1-titanic/.venv/lib/python3.9/site-packages/sklearn/neural_network/_multilayer_perceptron.py:559: ConvergenceWarning: lbfgs failed to converge (status=1):\n",
      "STOP: TOTAL NO. of ITERATIONS REACHED LIMIT.\n",
      "\n",
      "Increase the number of iterations (max_iter) or scale the data as shown in:\n",
      "    https://scikit-learn.org/stable/modules/preprocessing.html\n",
      "  self.n_iter_ = _check_optimize_result(\"lbfgs\", opt_res, self.max_iter)\n"
     ]
    },
    {
     "name": "stdout",
     "output_type": "stream",
     "text": [
      "[CV] END activation=tanh, batch_size=auto, hidden_layer_sizes=(25,), learning_rate=constant, max_iter=1000, solver=lbfgs; total time=   2.7s\n"
     ]
    },
    {
     "name": "stderr",
     "output_type": "stream",
     "text": [
      "/Users/mariusj/Documents/Edu/UMA/lectures/Data Mining/Project/dm1-titanic/.venv/lib/python3.9/site-packages/sklearn/neural_network/_multilayer_perceptron.py:559: ConvergenceWarning: lbfgs failed to converge (status=1):\n",
      "STOP: TOTAL NO. of ITERATIONS REACHED LIMIT.\n",
      "\n",
      "Increase the number of iterations (max_iter) or scale the data as shown in:\n",
      "    https://scikit-learn.org/stable/modules/preprocessing.html\n",
      "  self.n_iter_ = _check_optimize_result(\"lbfgs\", opt_res, self.max_iter)\n"
     ]
    },
    {
     "name": "stdout",
     "output_type": "stream",
     "text": [
      "[CV] END activation=tanh, batch_size=auto, hidden_layer_sizes=(25,), learning_rate=constant, max_iter=1000, solver=lbfgs; total time=   2.4s\n"
     ]
    },
    {
     "name": "stderr",
     "output_type": "stream",
     "text": [
      "/Users/mariusj/Documents/Edu/UMA/lectures/Data Mining/Project/dm1-titanic/.venv/lib/python3.9/site-packages/sklearn/neural_network/_multilayer_perceptron.py:559: ConvergenceWarning: lbfgs failed to converge (status=1):\n",
      "STOP: TOTAL NO. of ITERATIONS REACHED LIMIT.\n",
      "\n",
      "Increase the number of iterations (max_iter) or scale the data as shown in:\n",
      "    https://scikit-learn.org/stable/modules/preprocessing.html\n",
      "  self.n_iter_ = _check_optimize_result(\"lbfgs\", opt_res, self.max_iter)\n"
     ]
    },
    {
     "name": "stdout",
     "output_type": "stream",
     "text": [
      "[CV] END activation=tanh, batch_size=auto, hidden_layer_sizes=(25,), learning_rate=constant, max_iter=1000, solver=lbfgs; total time=   1.9s\n",
      "[CV] END activation=tanh, batch_size=auto, hidden_layer_sizes=(25,), learning_rate=constant, max_iter=1000, solver=lbfgs; total time=   2.0s\n"
     ]
    },
    {
     "name": "stderr",
     "output_type": "stream",
     "text": [
      "/Users/mariusj/Documents/Edu/UMA/lectures/Data Mining/Project/dm1-titanic/.venv/lib/python3.9/site-packages/sklearn/neural_network/_multilayer_perceptron.py:559: ConvergenceWarning: lbfgs failed to converge (status=1):\n",
      "STOP: TOTAL NO. of ITERATIONS REACHED LIMIT.\n",
      "\n",
      "Increase the number of iterations (max_iter) or scale the data as shown in:\n",
      "    https://scikit-learn.org/stable/modules/preprocessing.html\n",
      "  self.n_iter_ = _check_optimize_result(\"lbfgs\", opt_res, self.max_iter)\n"
     ]
    },
    {
     "name": "stdout",
     "output_type": "stream",
     "text": [
      "[CV] END activation=tanh, batch_size=auto, hidden_layer_sizes=(25,), learning_rate=constant, max_iter=1000, solver=lbfgs; total time=   2.2s\n"
     ]
    },
    {
     "name": "stderr",
     "output_type": "stream",
     "text": [
      "/Users/mariusj/Documents/Edu/UMA/lectures/Data Mining/Project/dm1-titanic/.venv/lib/python3.9/site-packages/sklearn/neural_network/_multilayer_perceptron.py:559: ConvergenceWarning: lbfgs failed to converge (status=1):\n",
      "STOP: TOTAL NO. of ITERATIONS REACHED LIMIT.\n",
      "\n",
      "Increase the number of iterations (max_iter) or scale the data as shown in:\n",
      "    https://scikit-learn.org/stable/modules/preprocessing.html\n",
      "  self.n_iter_ = _check_optimize_result(\"lbfgs\", opt_res, self.max_iter)\n"
     ]
    },
    {
     "name": "stdout",
     "output_type": "stream",
     "text": [
      "[CV] END activation=tanh, batch_size=auto, hidden_layer_sizes=(25,), learning_rate=constant, max_iter=1000, solver=lbfgs; total time=   2.6s\n"
     ]
    },
    {
     "name": "stderr",
     "output_type": "stream",
     "text": [
      "/Users/mariusj/Documents/Edu/UMA/lectures/Data Mining/Project/dm1-titanic/.venv/lib/python3.9/site-packages/sklearn/neural_network/_multilayer_perceptron.py:559: ConvergenceWarning: lbfgs failed to converge (status=1):\n",
      "STOP: TOTAL NO. of ITERATIONS REACHED LIMIT.\n",
      "\n",
      "Increase the number of iterations (max_iter) or scale the data as shown in:\n",
      "    https://scikit-learn.org/stable/modules/preprocessing.html\n",
      "  self.n_iter_ = _check_optimize_result(\"lbfgs\", opt_res, self.max_iter)\n"
     ]
    },
    {
     "name": "stdout",
     "output_type": "stream",
     "text": [
      "[CV] END activation=tanh, batch_size=auto, hidden_layer_sizes=(25,), learning_rate=constant, max_iter=1000, solver=lbfgs; total time=   1.1s\n"
     ]
    },
    {
     "name": "stderr",
     "output_type": "stream",
     "text": [
      "/Users/mariusj/Documents/Edu/UMA/lectures/Data Mining/Project/dm1-titanic/.venv/lib/python3.9/site-packages/sklearn/neural_network/_multilayer_perceptron.py:559: ConvergenceWarning: lbfgs failed to converge (status=1):\n",
      "STOP: TOTAL NO. of ITERATIONS REACHED LIMIT.\n",
      "\n",
      "Increase the number of iterations (max_iter) or scale the data as shown in:\n",
      "    https://scikit-learn.org/stable/modules/preprocessing.html\n",
      "  self.n_iter_ = _check_optimize_result(\"lbfgs\", opt_res, self.max_iter)\n"
     ]
    },
    {
     "name": "stdout",
     "output_type": "stream",
     "text": [
      "[CV] END activation=tanh, batch_size=auto, hidden_layer_sizes=(25,), learning_rate=constant, max_iter=1000, solver=lbfgs; total time=   2.0s\n"
     ]
    },
    {
     "name": "stderr",
     "output_type": "stream",
     "text": [
      "/Users/mariusj/Documents/Edu/UMA/lectures/Data Mining/Project/dm1-titanic/.venv/lib/python3.9/site-packages/sklearn/neural_network/_multilayer_perceptron.py:559: ConvergenceWarning: lbfgs failed to converge (status=1):\n",
      "STOP: TOTAL NO. of ITERATIONS REACHED LIMIT.\n",
      "\n",
      "Increase the number of iterations (max_iter) or scale the data as shown in:\n",
      "    https://scikit-learn.org/stable/modules/preprocessing.html\n",
      "  self.n_iter_ = _check_optimize_result(\"lbfgs\", opt_res, self.max_iter)\n"
     ]
    },
    {
     "name": "stdout",
     "output_type": "stream",
     "text": [
      "[CV] END activation=tanh, batch_size=auto, hidden_layer_sizes=(25,), learning_rate=constant, max_iter=1000, solver=lbfgs; total time=   1.7s\n",
      "[CV] END activation=tanh, batch_size=auto, hidden_layer_sizes=(25,), learning_rate=constant, max_iter=1000, solver=sgd; total time=   0.4s\n",
      "[CV] END activation=tanh, batch_size=auto, hidden_layer_sizes=(25,), learning_rate=constant, max_iter=1000, solver=sgd; total time=   0.3s\n",
      "[CV] END activation=tanh, batch_size=auto, hidden_layer_sizes=(25,), learning_rate=constant, max_iter=1000, solver=sgd; total time=   0.3s\n",
      "[CV] END activation=tanh, batch_size=auto, hidden_layer_sizes=(25,), learning_rate=constant, max_iter=1000, solver=sgd; total time=   0.3s\n",
      "[CV] END activation=tanh, batch_size=auto, hidden_layer_sizes=(25,), learning_rate=constant, max_iter=1000, solver=sgd; total time=   0.3s\n",
      "[CV] END activation=tanh, batch_size=auto, hidden_layer_sizes=(25,), learning_rate=constant, max_iter=1000, solver=sgd; total time=   0.3s\n",
      "[CV] END activation=tanh, batch_size=auto, hidden_layer_sizes=(25,), learning_rate=constant, max_iter=1000, solver=sgd; total time=   0.3s\n",
      "[CV] END activation=tanh, batch_size=auto, hidden_layer_sizes=(25,), learning_rate=constant, max_iter=1000, solver=sgd; total time=   0.2s\n",
      "[CV] END activation=tanh, batch_size=auto, hidden_layer_sizes=(25,), learning_rate=constant, max_iter=1000, solver=sgd; total time=   0.3s\n",
      "[CV] END activation=tanh, batch_size=auto, hidden_layer_sizes=(25,), learning_rate=constant, max_iter=1000, solver=sgd; total time=   0.4s\n"
     ]
    },
    {
     "name": "stderr",
     "output_type": "stream",
     "text": [
      "/Users/mariusj/Documents/Edu/UMA/lectures/Data Mining/Project/dm1-titanic/.venv/lib/python3.9/site-packages/sklearn/neural_network/_multilayer_perceptron.py:702: ConvergenceWarning: Stochastic Optimizer: Maximum iterations (1000) reached and the optimization hasn't converged yet.\n",
      "  warnings.warn(\n"
     ]
    },
    {
     "name": "stdout",
     "output_type": "stream",
     "text": [
      "[CV] END activation=tanh, batch_size=auto, hidden_layer_sizes=(25,), learning_rate=constant, max_iter=1000, solver=adam; total time=   0.6s\n"
     ]
    },
    {
     "name": "stderr",
     "output_type": "stream",
     "text": [
      "/Users/mariusj/Documents/Edu/UMA/lectures/Data Mining/Project/dm1-titanic/.venv/lib/python3.9/site-packages/sklearn/neural_network/_multilayer_perceptron.py:702: ConvergenceWarning: Stochastic Optimizer: Maximum iterations (1000) reached and the optimization hasn't converged yet.\n",
      "  warnings.warn(\n"
     ]
    },
    {
     "name": "stdout",
     "output_type": "stream",
     "text": [
      "[CV] END activation=tanh, batch_size=auto, hidden_layer_sizes=(25,), learning_rate=constant, max_iter=1000, solver=adam; total time=   0.5s\n"
     ]
    },
    {
     "name": "stderr",
     "output_type": "stream",
     "text": [
      "/Users/mariusj/Documents/Edu/UMA/lectures/Data Mining/Project/dm1-titanic/.venv/lib/python3.9/site-packages/sklearn/neural_network/_multilayer_perceptron.py:702: ConvergenceWarning: Stochastic Optimizer: Maximum iterations (1000) reached and the optimization hasn't converged yet.\n",
      "  warnings.warn(\n"
     ]
    },
    {
     "name": "stdout",
     "output_type": "stream",
     "text": [
      "[CV] END activation=tanh, batch_size=auto, hidden_layer_sizes=(25,), learning_rate=constant, max_iter=1000, solver=adam; total time=   0.5s\n"
     ]
    },
    {
     "name": "stderr",
     "output_type": "stream",
     "text": [
      "/Users/mariusj/Documents/Edu/UMA/lectures/Data Mining/Project/dm1-titanic/.venv/lib/python3.9/site-packages/sklearn/neural_network/_multilayer_perceptron.py:702: ConvergenceWarning: Stochastic Optimizer: Maximum iterations (1000) reached and the optimization hasn't converged yet.\n",
      "  warnings.warn(\n"
     ]
    },
    {
     "name": "stdout",
     "output_type": "stream",
     "text": [
      "[CV] END activation=tanh, batch_size=auto, hidden_layer_sizes=(25,), learning_rate=constant, max_iter=1000, solver=adam; total time=   0.5s\n"
     ]
    },
    {
     "name": "stderr",
     "output_type": "stream",
     "text": [
      "/Users/mariusj/Documents/Edu/UMA/lectures/Data Mining/Project/dm1-titanic/.venv/lib/python3.9/site-packages/sklearn/neural_network/_multilayer_perceptron.py:702: ConvergenceWarning: Stochastic Optimizer: Maximum iterations (1000) reached and the optimization hasn't converged yet.\n",
      "  warnings.warn(\n"
     ]
    },
    {
     "name": "stdout",
     "output_type": "stream",
     "text": [
      "[CV] END activation=tanh, batch_size=auto, hidden_layer_sizes=(25,), learning_rate=constant, max_iter=1000, solver=adam; total time=   0.5s\n"
     ]
    },
    {
     "name": "stderr",
     "output_type": "stream",
     "text": [
      "/Users/mariusj/Documents/Edu/UMA/lectures/Data Mining/Project/dm1-titanic/.venv/lib/python3.9/site-packages/sklearn/neural_network/_multilayer_perceptron.py:702: ConvergenceWarning: Stochastic Optimizer: Maximum iterations (1000) reached and the optimization hasn't converged yet.\n",
      "  warnings.warn(\n"
     ]
    },
    {
     "name": "stdout",
     "output_type": "stream",
     "text": [
      "[CV] END activation=tanh, batch_size=auto, hidden_layer_sizes=(25,), learning_rate=constant, max_iter=1000, solver=adam; total time=   0.5s\n"
     ]
    },
    {
     "name": "stderr",
     "output_type": "stream",
     "text": [
      "/Users/mariusj/Documents/Edu/UMA/lectures/Data Mining/Project/dm1-titanic/.venv/lib/python3.9/site-packages/sklearn/neural_network/_multilayer_perceptron.py:702: ConvergenceWarning: Stochastic Optimizer: Maximum iterations (1000) reached and the optimization hasn't converged yet.\n",
      "  warnings.warn(\n"
     ]
    },
    {
     "name": "stdout",
     "output_type": "stream",
     "text": [
      "[CV] END activation=tanh, batch_size=auto, hidden_layer_sizes=(25,), learning_rate=constant, max_iter=1000, solver=adam; total time=   0.5s\n"
     ]
    },
    {
     "name": "stderr",
     "output_type": "stream",
     "text": [
      "/Users/mariusj/Documents/Edu/UMA/lectures/Data Mining/Project/dm1-titanic/.venv/lib/python3.9/site-packages/sklearn/neural_network/_multilayer_perceptron.py:702: ConvergenceWarning: Stochastic Optimizer: Maximum iterations (1000) reached and the optimization hasn't converged yet.\n",
      "  warnings.warn(\n"
     ]
    },
    {
     "name": "stdout",
     "output_type": "stream",
     "text": [
      "[CV] END activation=tanh, batch_size=auto, hidden_layer_sizes=(25,), learning_rate=constant, max_iter=1000, solver=adam; total time=   0.5s\n"
     ]
    },
    {
     "name": "stderr",
     "output_type": "stream",
     "text": [
      "/Users/mariusj/Documents/Edu/UMA/lectures/Data Mining/Project/dm1-titanic/.venv/lib/python3.9/site-packages/sklearn/neural_network/_multilayer_perceptron.py:702: ConvergenceWarning: Stochastic Optimizer: Maximum iterations (1000) reached and the optimization hasn't converged yet.\n",
      "  warnings.warn(\n"
     ]
    },
    {
     "name": "stdout",
     "output_type": "stream",
     "text": [
      "[CV] END activation=tanh, batch_size=auto, hidden_layer_sizes=(25,), learning_rate=constant, max_iter=1000, solver=adam; total time=   0.5s\n"
     ]
    },
    {
     "name": "stderr",
     "output_type": "stream",
     "text": [
      "/Users/mariusj/Documents/Edu/UMA/lectures/Data Mining/Project/dm1-titanic/.venv/lib/python3.9/site-packages/sklearn/neural_network/_multilayer_perceptron.py:702: ConvergenceWarning: Stochastic Optimizer: Maximum iterations (1000) reached and the optimization hasn't converged yet.\n",
      "  warnings.warn(\n"
     ]
    },
    {
     "name": "stdout",
     "output_type": "stream",
     "text": [
      "[CV] END activation=tanh, batch_size=auto, hidden_layer_sizes=(25,), learning_rate=constant, max_iter=1000, solver=adam; total time=   0.5s\n"
     ]
    },
    {
     "name": "stderr",
     "output_type": "stream",
     "text": [
      "/Users/mariusj/Documents/Edu/UMA/lectures/Data Mining/Project/dm1-titanic/.venv/lib/python3.9/site-packages/sklearn/neural_network/_multilayer_perceptron.py:559: ConvergenceWarning: lbfgs failed to converge (status=1):\n",
      "STOP: TOTAL NO. of ITERATIONS REACHED LIMIT.\n",
      "\n",
      "Increase the number of iterations (max_iter) or scale the data as shown in:\n",
      "    https://scikit-learn.org/stable/modules/preprocessing.html\n",
      "  self.n_iter_ = _check_optimize_result(\"lbfgs\", opt_res, self.max_iter)\n"
     ]
    },
    {
     "name": "stdout",
     "output_type": "stream",
     "text": [
      "[CV] END activation=tanh, batch_size=auto, hidden_layer_sizes=(25,), learning_rate=invscaling, max_iter=1000, solver=lbfgs; total time=   1.5s\n"
     ]
    },
    {
     "name": "stderr",
     "output_type": "stream",
     "text": [
      "/Users/mariusj/Documents/Edu/UMA/lectures/Data Mining/Project/dm1-titanic/.venv/lib/python3.9/site-packages/sklearn/neural_network/_multilayer_perceptron.py:559: ConvergenceWarning: lbfgs failed to converge (status=1):\n",
      "STOP: TOTAL NO. of ITERATIONS REACHED LIMIT.\n",
      "\n",
      "Increase the number of iterations (max_iter) or scale the data as shown in:\n",
      "    https://scikit-learn.org/stable/modules/preprocessing.html\n",
      "  self.n_iter_ = _check_optimize_result(\"lbfgs\", opt_res, self.max_iter)\n"
     ]
    },
    {
     "name": "stdout",
     "output_type": "stream",
     "text": [
      "[CV] END activation=tanh, batch_size=auto, hidden_layer_sizes=(25,), learning_rate=invscaling, max_iter=1000, solver=lbfgs; total time=   1.4s\n"
     ]
    },
    {
     "name": "stderr",
     "output_type": "stream",
     "text": [
      "/Users/mariusj/Documents/Edu/UMA/lectures/Data Mining/Project/dm1-titanic/.venv/lib/python3.9/site-packages/sklearn/neural_network/_multilayer_perceptron.py:559: ConvergenceWarning: lbfgs failed to converge (status=1):\n",
      "STOP: TOTAL NO. of ITERATIONS REACHED LIMIT.\n",
      "\n",
      "Increase the number of iterations (max_iter) or scale the data as shown in:\n",
      "    https://scikit-learn.org/stable/modules/preprocessing.html\n",
      "  self.n_iter_ = _check_optimize_result(\"lbfgs\", opt_res, self.max_iter)\n"
     ]
    },
    {
     "name": "stdout",
     "output_type": "stream",
     "text": [
      "[CV] END activation=tanh, batch_size=auto, hidden_layer_sizes=(25,), learning_rate=invscaling, max_iter=1000, solver=lbfgs; total time=   1.0s\n"
     ]
    },
    {
     "name": "stderr",
     "output_type": "stream",
     "text": [
      "/Users/mariusj/Documents/Edu/UMA/lectures/Data Mining/Project/dm1-titanic/.venv/lib/python3.9/site-packages/sklearn/neural_network/_multilayer_perceptron.py:559: ConvergenceWarning: lbfgs failed to converge (status=1):\n",
      "STOP: TOTAL NO. of ITERATIONS REACHED LIMIT.\n",
      "\n",
      "Increase the number of iterations (max_iter) or scale the data as shown in:\n",
      "    https://scikit-learn.org/stable/modules/preprocessing.html\n",
      "  self.n_iter_ = _check_optimize_result(\"lbfgs\", opt_res, self.max_iter)\n"
     ]
    },
    {
     "name": "stdout",
     "output_type": "stream",
     "text": [
      "[CV] END activation=tanh, batch_size=auto, hidden_layer_sizes=(25,), learning_rate=invscaling, max_iter=1000, solver=lbfgs; total time=   1.6s\n"
     ]
    },
    {
     "name": "stderr",
     "output_type": "stream",
     "text": [
      "/Users/mariusj/Documents/Edu/UMA/lectures/Data Mining/Project/dm1-titanic/.venv/lib/python3.9/site-packages/sklearn/neural_network/_multilayer_perceptron.py:559: ConvergenceWarning: lbfgs failed to converge (status=1):\n",
      "STOP: TOTAL NO. of ITERATIONS REACHED LIMIT.\n",
      "\n",
      "Increase the number of iterations (max_iter) or scale the data as shown in:\n",
      "    https://scikit-learn.org/stable/modules/preprocessing.html\n",
      "  self.n_iter_ = _check_optimize_result(\"lbfgs\", opt_res, self.max_iter)\n"
     ]
    },
    {
     "name": "stdout",
     "output_type": "stream",
     "text": [
      "[CV] END activation=tanh, batch_size=auto, hidden_layer_sizes=(25,), learning_rate=invscaling, max_iter=1000, solver=lbfgs; total time=   1.1s\n"
     ]
    },
    {
     "name": "stderr",
     "output_type": "stream",
     "text": [
      "/Users/mariusj/Documents/Edu/UMA/lectures/Data Mining/Project/dm1-titanic/.venv/lib/python3.9/site-packages/sklearn/neural_network/_multilayer_perceptron.py:559: ConvergenceWarning: lbfgs failed to converge (status=1):\n",
      "STOP: TOTAL NO. of ITERATIONS REACHED LIMIT.\n",
      "\n",
      "Increase the number of iterations (max_iter) or scale the data as shown in:\n",
      "    https://scikit-learn.org/stable/modules/preprocessing.html\n",
      "  self.n_iter_ = _check_optimize_result(\"lbfgs\", opt_res, self.max_iter)\n"
     ]
    },
    {
     "name": "stdout",
     "output_type": "stream",
     "text": [
      "[CV] END activation=tanh, batch_size=auto, hidden_layer_sizes=(25,), learning_rate=invscaling, max_iter=1000, solver=lbfgs; total time=   1.5s\n"
     ]
    },
    {
     "name": "stderr",
     "output_type": "stream",
     "text": [
      "/Users/mariusj/Documents/Edu/UMA/lectures/Data Mining/Project/dm1-titanic/.venv/lib/python3.9/site-packages/sklearn/neural_network/_multilayer_perceptron.py:559: ConvergenceWarning: lbfgs failed to converge (status=1):\n",
      "STOP: TOTAL NO. of ITERATIONS REACHED LIMIT.\n",
      "\n",
      "Increase the number of iterations (max_iter) or scale the data as shown in:\n",
      "    https://scikit-learn.org/stable/modules/preprocessing.html\n",
      "  self.n_iter_ = _check_optimize_result(\"lbfgs\", opt_res, self.max_iter)\n"
     ]
    },
    {
     "name": "stdout",
     "output_type": "stream",
     "text": [
      "[CV] END activation=tanh, batch_size=auto, hidden_layer_sizes=(25,), learning_rate=invscaling, max_iter=1000, solver=lbfgs; total time=   1.5s\n"
     ]
    },
    {
     "name": "stderr",
     "output_type": "stream",
     "text": [
      "/Users/mariusj/Documents/Edu/UMA/lectures/Data Mining/Project/dm1-titanic/.venv/lib/python3.9/site-packages/sklearn/neural_network/_multilayer_perceptron.py:559: ConvergenceWarning: lbfgs failed to converge (status=1):\n",
      "STOP: TOTAL NO. of ITERATIONS REACHED LIMIT.\n",
      "\n",
      "Increase the number of iterations (max_iter) or scale the data as shown in:\n",
      "    https://scikit-learn.org/stable/modules/preprocessing.html\n",
      "  self.n_iter_ = _check_optimize_result(\"lbfgs\", opt_res, self.max_iter)\n"
     ]
    },
    {
     "name": "stdout",
     "output_type": "stream",
     "text": [
      "[CV] END activation=tanh, batch_size=auto, hidden_layer_sizes=(25,), learning_rate=invscaling, max_iter=1000, solver=lbfgs; total time=   2.0s\n"
     ]
    },
    {
     "name": "stderr",
     "output_type": "stream",
     "text": [
      "/Users/mariusj/Documents/Edu/UMA/lectures/Data Mining/Project/dm1-titanic/.venv/lib/python3.9/site-packages/sklearn/neural_network/_multilayer_perceptron.py:559: ConvergenceWarning: lbfgs failed to converge (status=1):\n",
      "STOP: TOTAL NO. of ITERATIONS REACHED LIMIT.\n",
      "\n",
      "Increase the number of iterations (max_iter) or scale the data as shown in:\n",
      "    https://scikit-learn.org/stable/modules/preprocessing.html\n",
      "  self.n_iter_ = _check_optimize_result(\"lbfgs\", opt_res, self.max_iter)\n"
     ]
    },
    {
     "name": "stdout",
     "output_type": "stream",
     "text": [
      "[CV] END activation=tanh, batch_size=auto, hidden_layer_sizes=(25,), learning_rate=invscaling, max_iter=1000, solver=lbfgs; total time=   1.6s\n"
     ]
    },
    {
     "name": "stderr",
     "output_type": "stream",
     "text": [
      "/Users/mariusj/Documents/Edu/UMA/lectures/Data Mining/Project/dm1-titanic/.venv/lib/python3.9/site-packages/sklearn/neural_network/_multilayer_perceptron.py:559: ConvergenceWarning: lbfgs failed to converge (status=1):\n",
      "STOP: TOTAL NO. of ITERATIONS REACHED LIMIT.\n",
      "\n",
      "Increase the number of iterations (max_iter) or scale the data as shown in:\n",
      "    https://scikit-learn.org/stable/modules/preprocessing.html\n",
      "  self.n_iter_ = _check_optimize_result(\"lbfgs\", opt_res, self.max_iter)\n"
     ]
    },
    {
     "name": "stdout",
     "output_type": "stream",
     "text": [
      "[CV] END activation=tanh, batch_size=auto, hidden_layer_sizes=(25,), learning_rate=invscaling, max_iter=1000, solver=lbfgs; total time=   2.0s\n",
      "[CV] END activation=tanh, batch_size=auto, hidden_layer_sizes=(25,), learning_rate=invscaling, max_iter=1000, solver=sgd; total time=   0.0s\n",
      "[CV] END activation=tanh, batch_size=auto, hidden_layer_sizes=(25,), learning_rate=invscaling, max_iter=1000, solver=sgd; total time=   0.0s\n",
      "[CV] END activation=tanh, batch_size=auto, hidden_layer_sizes=(25,), learning_rate=invscaling, max_iter=1000, solver=sgd; total time=   0.3s\n",
      "[CV] END activation=tanh, batch_size=auto, hidden_layer_sizes=(25,), learning_rate=invscaling, max_iter=1000, solver=sgd; total time=   0.0s\n",
      "[CV] END activation=tanh, batch_size=auto, hidden_layer_sizes=(25,), learning_rate=invscaling, max_iter=1000, solver=sgd; total time=   0.0s\n",
      "[CV] END activation=tanh, batch_size=auto, hidden_layer_sizes=(25,), learning_rate=invscaling, max_iter=1000, solver=sgd; total time=   0.0s\n",
      "[CV] END activation=tanh, batch_size=auto, hidden_layer_sizes=(25,), learning_rate=invscaling, max_iter=1000, solver=sgd; total time=   0.3s\n",
      "[CV] END activation=tanh, batch_size=auto, hidden_layer_sizes=(25,), learning_rate=invscaling, max_iter=1000, solver=sgd; total time=   0.1s\n",
      "[CV] END activation=tanh, batch_size=auto, hidden_layer_sizes=(25,), learning_rate=invscaling, max_iter=1000, solver=sgd; total time=   0.1s\n",
      "[CV] END activation=tanh, batch_size=auto, hidden_layer_sizes=(25,), learning_rate=invscaling, max_iter=1000, solver=sgd; total time=   0.1s\n"
     ]
    },
    {
     "name": "stderr",
     "output_type": "stream",
     "text": [
      "/Users/mariusj/Documents/Edu/UMA/lectures/Data Mining/Project/dm1-titanic/.venv/lib/python3.9/site-packages/sklearn/neural_network/_multilayer_perceptron.py:702: ConvergenceWarning: Stochastic Optimizer: Maximum iterations (1000) reached and the optimization hasn't converged yet.\n",
      "  warnings.warn(\n"
     ]
    },
    {
     "name": "stdout",
     "output_type": "stream",
     "text": [
      "[CV] END activation=tanh, batch_size=auto, hidden_layer_sizes=(25,), learning_rate=invscaling, max_iter=1000, solver=adam; total time=   0.5s\n"
     ]
    },
    {
     "name": "stderr",
     "output_type": "stream",
     "text": [
      "/Users/mariusj/Documents/Edu/UMA/lectures/Data Mining/Project/dm1-titanic/.venv/lib/python3.9/site-packages/sklearn/neural_network/_multilayer_perceptron.py:702: ConvergenceWarning: Stochastic Optimizer: Maximum iterations (1000) reached and the optimization hasn't converged yet.\n",
      "  warnings.warn(\n"
     ]
    },
    {
     "name": "stdout",
     "output_type": "stream",
     "text": [
      "[CV] END activation=tanh, batch_size=auto, hidden_layer_sizes=(25,), learning_rate=invscaling, max_iter=1000, solver=adam; total time=   0.5s\n"
     ]
    },
    {
     "name": "stderr",
     "output_type": "stream",
     "text": [
      "/Users/mariusj/Documents/Edu/UMA/lectures/Data Mining/Project/dm1-titanic/.venv/lib/python3.9/site-packages/sklearn/neural_network/_multilayer_perceptron.py:702: ConvergenceWarning: Stochastic Optimizer: Maximum iterations (1000) reached and the optimization hasn't converged yet.\n",
      "  warnings.warn(\n"
     ]
    },
    {
     "name": "stdout",
     "output_type": "stream",
     "text": [
      "[CV] END activation=tanh, batch_size=auto, hidden_layer_sizes=(25,), learning_rate=invscaling, max_iter=1000, solver=adam; total time=   0.5s\n"
     ]
    },
    {
     "name": "stderr",
     "output_type": "stream",
     "text": [
      "/Users/mariusj/Documents/Edu/UMA/lectures/Data Mining/Project/dm1-titanic/.venv/lib/python3.9/site-packages/sklearn/neural_network/_multilayer_perceptron.py:702: ConvergenceWarning: Stochastic Optimizer: Maximum iterations (1000) reached and the optimization hasn't converged yet.\n",
      "  warnings.warn(\n"
     ]
    },
    {
     "name": "stdout",
     "output_type": "stream",
     "text": [
      "[CV] END activation=tanh, batch_size=auto, hidden_layer_sizes=(25,), learning_rate=invscaling, max_iter=1000, solver=adam; total time=   0.5s\n"
     ]
    },
    {
     "name": "stderr",
     "output_type": "stream",
     "text": [
      "/Users/mariusj/Documents/Edu/UMA/lectures/Data Mining/Project/dm1-titanic/.venv/lib/python3.9/site-packages/sklearn/neural_network/_multilayer_perceptron.py:702: ConvergenceWarning: Stochastic Optimizer: Maximum iterations (1000) reached and the optimization hasn't converged yet.\n",
      "  warnings.warn(\n"
     ]
    },
    {
     "name": "stdout",
     "output_type": "stream",
     "text": [
      "[CV] END activation=tanh, batch_size=auto, hidden_layer_sizes=(25,), learning_rate=invscaling, max_iter=1000, solver=adam; total time=   0.5s\n"
     ]
    },
    {
     "name": "stderr",
     "output_type": "stream",
     "text": [
      "/Users/mariusj/Documents/Edu/UMA/lectures/Data Mining/Project/dm1-titanic/.venv/lib/python3.9/site-packages/sklearn/neural_network/_multilayer_perceptron.py:702: ConvergenceWarning: Stochastic Optimizer: Maximum iterations (1000) reached and the optimization hasn't converged yet.\n",
      "  warnings.warn(\n"
     ]
    },
    {
     "name": "stdout",
     "output_type": "stream",
     "text": [
      "[CV] END activation=tanh, batch_size=auto, hidden_layer_sizes=(25,), learning_rate=invscaling, max_iter=1000, solver=adam; total time=   0.5s\n"
     ]
    },
    {
     "name": "stderr",
     "output_type": "stream",
     "text": [
      "/Users/mariusj/Documents/Edu/UMA/lectures/Data Mining/Project/dm1-titanic/.venv/lib/python3.9/site-packages/sklearn/neural_network/_multilayer_perceptron.py:702: ConvergenceWarning: Stochastic Optimizer: Maximum iterations (1000) reached and the optimization hasn't converged yet.\n",
      "  warnings.warn(\n"
     ]
    },
    {
     "name": "stdout",
     "output_type": "stream",
     "text": [
      "[CV] END activation=tanh, batch_size=auto, hidden_layer_sizes=(25,), learning_rate=invscaling, max_iter=1000, solver=adam; total time=   0.5s\n"
     ]
    },
    {
     "name": "stderr",
     "output_type": "stream",
     "text": [
      "/Users/mariusj/Documents/Edu/UMA/lectures/Data Mining/Project/dm1-titanic/.venv/lib/python3.9/site-packages/sklearn/neural_network/_multilayer_perceptron.py:702: ConvergenceWarning: Stochastic Optimizer: Maximum iterations (1000) reached and the optimization hasn't converged yet.\n",
      "  warnings.warn(\n"
     ]
    },
    {
     "name": "stdout",
     "output_type": "stream",
     "text": [
      "[CV] END activation=tanh, batch_size=auto, hidden_layer_sizes=(25,), learning_rate=invscaling, max_iter=1000, solver=adam; total time=   0.5s\n"
     ]
    },
    {
     "name": "stderr",
     "output_type": "stream",
     "text": [
      "/Users/mariusj/Documents/Edu/UMA/lectures/Data Mining/Project/dm1-titanic/.venv/lib/python3.9/site-packages/sklearn/neural_network/_multilayer_perceptron.py:702: ConvergenceWarning: Stochastic Optimizer: Maximum iterations (1000) reached and the optimization hasn't converged yet.\n",
      "  warnings.warn(\n"
     ]
    },
    {
     "name": "stdout",
     "output_type": "stream",
     "text": [
      "[CV] END activation=tanh, batch_size=auto, hidden_layer_sizes=(25,), learning_rate=invscaling, max_iter=1000, solver=adam; total time=   0.5s\n"
     ]
    },
    {
     "name": "stderr",
     "output_type": "stream",
     "text": [
      "/Users/mariusj/Documents/Edu/UMA/lectures/Data Mining/Project/dm1-titanic/.venv/lib/python3.9/site-packages/sklearn/neural_network/_multilayer_perceptron.py:702: ConvergenceWarning: Stochastic Optimizer: Maximum iterations (1000) reached and the optimization hasn't converged yet.\n",
      "  warnings.warn(\n"
     ]
    },
    {
     "name": "stdout",
     "output_type": "stream",
     "text": [
      "[CV] END activation=tanh, batch_size=auto, hidden_layer_sizes=(25,), learning_rate=invscaling, max_iter=1000, solver=adam; total time=   0.5s\n"
     ]
    },
    {
     "name": "stderr",
     "output_type": "stream",
     "text": [
      "/Users/mariusj/Documents/Edu/UMA/lectures/Data Mining/Project/dm1-titanic/.venv/lib/python3.9/site-packages/sklearn/neural_network/_multilayer_perceptron.py:559: ConvergenceWarning: lbfgs failed to converge (status=1):\n",
      "STOP: TOTAL NO. of ITERATIONS REACHED LIMIT.\n",
      "\n",
      "Increase the number of iterations (max_iter) or scale the data as shown in:\n",
      "    https://scikit-learn.org/stable/modules/preprocessing.html\n",
      "  self.n_iter_ = _check_optimize_result(\"lbfgs\", opt_res, self.max_iter)\n"
     ]
    },
    {
     "name": "stdout",
     "output_type": "stream",
     "text": [
      "[CV] END activation=tanh, batch_size=auto, hidden_layer_sizes=(25,), learning_rate=adaptive, max_iter=1000, solver=lbfgs; total time=   1.6s\n"
     ]
    },
    {
     "name": "stderr",
     "output_type": "stream",
     "text": [
      "/Users/mariusj/Documents/Edu/UMA/lectures/Data Mining/Project/dm1-titanic/.venv/lib/python3.9/site-packages/sklearn/neural_network/_multilayer_perceptron.py:559: ConvergenceWarning: lbfgs failed to converge (status=1):\n",
      "STOP: TOTAL NO. of ITERATIONS REACHED LIMIT.\n",
      "\n",
      "Increase the number of iterations (max_iter) or scale the data as shown in:\n",
      "    https://scikit-learn.org/stable/modules/preprocessing.html\n",
      "  self.n_iter_ = _check_optimize_result(\"lbfgs\", opt_res, self.max_iter)\n"
     ]
    },
    {
     "name": "stdout",
     "output_type": "stream",
     "text": [
      "[CV] END activation=tanh, batch_size=auto, hidden_layer_sizes=(25,), learning_rate=adaptive, max_iter=1000, solver=lbfgs; total time=   1.2s\n"
     ]
    },
    {
     "name": "stderr",
     "output_type": "stream",
     "text": [
      "/Users/mariusj/Documents/Edu/UMA/lectures/Data Mining/Project/dm1-titanic/.venv/lib/python3.9/site-packages/sklearn/neural_network/_multilayer_perceptron.py:559: ConvergenceWarning: lbfgs failed to converge (status=1):\n",
      "STOP: TOTAL NO. of ITERATIONS REACHED LIMIT.\n",
      "\n",
      "Increase the number of iterations (max_iter) or scale the data as shown in:\n",
      "    https://scikit-learn.org/stable/modules/preprocessing.html\n",
      "  self.n_iter_ = _check_optimize_result(\"lbfgs\", opt_res, self.max_iter)\n"
     ]
    },
    {
     "name": "stdout",
     "output_type": "stream",
     "text": [
      "[CV] END activation=tanh, batch_size=auto, hidden_layer_sizes=(25,), learning_rate=adaptive, max_iter=1000, solver=lbfgs; total time=   2.0s\n"
     ]
    },
    {
     "name": "stderr",
     "output_type": "stream",
     "text": [
      "/Users/mariusj/Documents/Edu/UMA/lectures/Data Mining/Project/dm1-titanic/.venv/lib/python3.9/site-packages/sklearn/neural_network/_multilayer_perceptron.py:559: ConvergenceWarning: lbfgs failed to converge (status=1):\n",
      "STOP: TOTAL NO. of ITERATIONS REACHED LIMIT.\n",
      "\n",
      "Increase the number of iterations (max_iter) or scale the data as shown in:\n",
      "    https://scikit-learn.org/stable/modules/preprocessing.html\n",
      "  self.n_iter_ = _check_optimize_result(\"lbfgs\", opt_res, self.max_iter)\n"
     ]
    },
    {
     "name": "stdout",
     "output_type": "stream",
     "text": [
      "[CV] END activation=tanh, batch_size=auto, hidden_layer_sizes=(25,), learning_rate=adaptive, max_iter=1000, solver=lbfgs; total time=   2.4s\n"
     ]
    },
    {
     "name": "stderr",
     "output_type": "stream",
     "text": [
      "/Users/mariusj/Documents/Edu/UMA/lectures/Data Mining/Project/dm1-titanic/.venv/lib/python3.9/site-packages/sklearn/neural_network/_multilayer_perceptron.py:559: ConvergenceWarning: lbfgs failed to converge (status=1):\n",
      "STOP: TOTAL NO. of ITERATIONS REACHED LIMIT.\n",
      "\n",
      "Increase the number of iterations (max_iter) or scale the data as shown in:\n",
      "    https://scikit-learn.org/stable/modules/preprocessing.html\n",
      "  self.n_iter_ = _check_optimize_result(\"lbfgs\", opt_res, self.max_iter)\n"
     ]
    },
    {
     "name": "stdout",
     "output_type": "stream",
     "text": [
      "[CV] END activation=tanh, batch_size=auto, hidden_layer_sizes=(25,), learning_rate=adaptive, max_iter=1000, solver=lbfgs; total time=   3.1s\n"
     ]
    },
    {
     "name": "stderr",
     "output_type": "stream",
     "text": [
      "/Users/mariusj/Documents/Edu/UMA/lectures/Data Mining/Project/dm1-titanic/.venv/lib/python3.9/site-packages/sklearn/neural_network/_multilayer_perceptron.py:559: ConvergenceWarning: lbfgs failed to converge (status=1):\n",
      "STOP: TOTAL NO. of ITERATIONS REACHED LIMIT.\n",
      "\n",
      "Increase the number of iterations (max_iter) or scale the data as shown in:\n",
      "    https://scikit-learn.org/stable/modules/preprocessing.html\n",
      "  self.n_iter_ = _check_optimize_result(\"lbfgs\", opt_res, self.max_iter)\n"
     ]
    },
    {
     "name": "stdout",
     "output_type": "stream",
     "text": [
      "[CV] END activation=tanh, batch_size=auto, hidden_layer_sizes=(25,), learning_rate=adaptive, max_iter=1000, solver=lbfgs; total time=   3.2s\n"
     ]
    },
    {
     "name": "stderr",
     "output_type": "stream",
     "text": [
      "/Users/mariusj/Documents/Edu/UMA/lectures/Data Mining/Project/dm1-titanic/.venv/lib/python3.9/site-packages/sklearn/neural_network/_multilayer_perceptron.py:559: ConvergenceWarning: lbfgs failed to converge (status=1):\n",
      "STOP: TOTAL NO. of ITERATIONS REACHED LIMIT.\n",
      "\n",
      "Increase the number of iterations (max_iter) or scale the data as shown in:\n",
      "    https://scikit-learn.org/stable/modules/preprocessing.html\n",
      "  self.n_iter_ = _check_optimize_result(\"lbfgs\", opt_res, self.max_iter)\n"
     ]
    },
    {
     "name": "stdout",
     "output_type": "stream",
     "text": [
      "[CV] END activation=tanh, batch_size=auto, hidden_layer_sizes=(25,), learning_rate=adaptive, max_iter=1000, solver=lbfgs; total time=   2.0s\n",
      "[CV] END activation=tanh, batch_size=auto, hidden_layer_sizes=(25,), learning_rate=adaptive, max_iter=1000, solver=lbfgs; total time=   1.7s\n"
     ]
    },
    {
     "name": "stderr",
     "output_type": "stream",
     "text": [
      "/Users/mariusj/Documents/Edu/UMA/lectures/Data Mining/Project/dm1-titanic/.venv/lib/python3.9/site-packages/sklearn/neural_network/_multilayer_perceptron.py:559: ConvergenceWarning: lbfgs failed to converge (status=1):\n",
      "STOP: TOTAL NO. of ITERATIONS REACHED LIMIT.\n",
      "\n",
      "Increase the number of iterations (max_iter) or scale the data as shown in:\n",
      "    https://scikit-learn.org/stable/modules/preprocessing.html\n",
      "  self.n_iter_ = _check_optimize_result(\"lbfgs\", opt_res, self.max_iter)\n"
     ]
    },
    {
     "name": "stdout",
     "output_type": "stream",
     "text": [
      "[CV] END activation=tanh, batch_size=auto, hidden_layer_sizes=(25,), learning_rate=adaptive, max_iter=1000, solver=lbfgs; total time=   3.0s\n"
     ]
    },
    {
     "name": "stderr",
     "output_type": "stream",
     "text": [
      "/Users/mariusj/Documents/Edu/UMA/lectures/Data Mining/Project/dm1-titanic/.venv/lib/python3.9/site-packages/sklearn/neural_network/_multilayer_perceptron.py:559: ConvergenceWarning: lbfgs failed to converge (status=1):\n",
      "STOP: TOTAL NO. of ITERATIONS REACHED LIMIT.\n",
      "\n",
      "Increase the number of iterations (max_iter) or scale the data as shown in:\n",
      "    https://scikit-learn.org/stable/modules/preprocessing.html\n",
      "  self.n_iter_ = _check_optimize_result(\"lbfgs\", opt_res, self.max_iter)\n"
     ]
    },
    {
     "name": "stdout",
     "output_type": "stream",
     "text": [
      "[CV] END activation=tanh, batch_size=auto, hidden_layer_sizes=(25,), learning_rate=adaptive, max_iter=1000, solver=lbfgs; total time=   1.5s\n",
      "[CV] END activation=tanh, batch_size=auto, hidden_layer_sizes=(25,), learning_rate=adaptive, max_iter=1000, solver=sgd; total time=   0.4s\n",
      "[CV] END activation=tanh, batch_size=auto, hidden_layer_sizes=(25,), learning_rate=adaptive, max_iter=1000, solver=sgd; total time=   0.3s\n",
      "[CV] END activation=tanh, batch_size=auto, hidden_layer_sizes=(25,), learning_rate=adaptive, max_iter=1000, solver=sgd; total time=   0.3s\n",
      "[CV] END activation=tanh, batch_size=auto, hidden_layer_sizes=(25,), learning_rate=adaptive, max_iter=1000, solver=sgd; total time=   0.3s\n",
      "[CV] END activation=tanh, batch_size=auto, hidden_layer_sizes=(25,), learning_rate=adaptive, max_iter=1000, solver=sgd; total time=   0.3s\n",
      "[CV] END activation=tanh, batch_size=auto, hidden_layer_sizes=(25,), learning_rate=adaptive, max_iter=1000, solver=sgd; total time=   0.4s\n",
      "[CV] END activation=tanh, batch_size=auto, hidden_layer_sizes=(25,), learning_rate=adaptive, max_iter=1000, solver=sgd; total time=   0.3s\n",
      "[CV] END activation=tanh, batch_size=auto, hidden_layer_sizes=(25,), learning_rate=adaptive, max_iter=1000, solver=sgd; total time=   0.3s\n",
      "[CV] END activation=tanh, batch_size=auto, hidden_layer_sizes=(25,), learning_rate=adaptive, max_iter=1000, solver=sgd; total time=   0.3s\n",
      "[CV] END activation=tanh, batch_size=auto, hidden_layer_sizes=(25,), learning_rate=adaptive, max_iter=1000, solver=sgd; total time=   0.3s\n"
     ]
    },
    {
     "name": "stderr",
     "output_type": "stream",
     "text": [
      "/Users/mariusj/Documents/Edu/UMA/lectures/Data Mining/Project/dm1-titanic/.venv/lib/python3.9/site-packages/sklearn/neural_network/_multilayer_perceptron.py:702: ConvergenceWarning: Stochastic Optimizer: Maximum iterations (1000) reached and the optimization hasn't converged yet.\n",
      "  warnings.warn(\n"
     ]
    },
    {
     "name": "stdout",
     "output_type": "stream",
     "text": [
      "[CV] END activation=tanh, batch_size=auto, hidden_layer_sizes=(25,), learning_rate=adaptive, max_iter=1000, solver=adam; total time=   0.5s\n"
     ]
    },
    {
     "name": "stderr",
     "output_type": "stream",
     "text": [
      "/Users/mariusj/Documents/Edu/UMA/lectures/Data Mining/Project/dm1-titanic/.venv/lib/python3.9/site-packages/sklearn/neural_network/_multilayer_perceptron.py:702: ConvergenceWarning: Stochastic Optimizer: Maximum iterations (1000) reached and the optimization hasn't converged yet.\n",
      "  warnings.warn(\n"
     ]
    },
    {
     "name": "stdout",
     "output_type": "stream",
     "text": [
      "[CV] END activation=tanh, batch_size=auto, hidden_layer_sizes=(25,), learning_rate=adaptive, max_iter=1000, solver=adam; total time=   0.5s\n"
     ]
    },
    {
     "name": "stderr",
     "output_type": "stream",
     "text": [
      "/Users/mariusj/Documents/Edu/UMA/lectures/Data Mining/Project/dm1-titanic/.venv/lib/python3.9/site-packages/sklearn/neural_network/_multilayer_perceptron.py:702: ConvergenceWarning: Stochastic Optimizer: Maximum iterations (1000) reached and the optimization hasn't converged yet.\n",
      "  warnings.warn(\n"
     ]
    },
    {
     "name": "stdout",
     "output_type": "stream",
     "text": [
      "[CV] END activation=tanh, batch_size=auto, hidden_layer_sizes=(25,), learning_rate=adaptive, max_iter=1000, solver=adam; total time=   0.5s\n"
     ]
    },
    {
     "name": "stderr",
     "output_type": "stream",
     "text": [
      "/Users/mariusj/Documents/Edu/UMA/lectures/Data Mining/Project/dm1-titanic/.venv/lib/python3.9/site-packages/sklearn/neural_network/_multilayer_perceptron.py:702: ConvergenceWarning: Stochastic Optimizer: Maximum iterations (1000) reached and the optimization hasn't converged yet.\n",
      "  warnings.warn(\n"
     ]
    },
    {
     "name": "stdout",
     "output_type": "stream",
     "text": [
      "[CV] END activation=tanh, batch_size=auto, hidden_layer_sizes=(25,), learning_rate=adaptive, max_iter=1000, solver=adam; total time=   0.5s\n"
     ]
    },
    {
     "name": "stderr",
     "output_type": "stream",
     "text": [
      "/Users/mariusj/Documents/Edu/UMA/lectures/Data Mining/Project/dm1-titanic/.venv/lib/python3.9/site-packages/sklearn/neural_network/_multilayer_perceptron.py:702: ConvergenceWarning: Stochastic Optimizer: Maximum iterations (1000) reached and the optimization hasn't converged yet.\n",
      "  warnings.warn(\n"
     ]
    },
    {
     "name": "stdout",
     "output_type": "stream",
     "text": [
      "[CV] END activation=tanh, batch_size=auto, hidden_layer_sizes=(25,), learning_rate=adaptive, max_iter=1000, solver=adam; total time=   0.5s\n"
     ]
    },
    {
     "name": "stderr",
     "output_type": "stream",
     "text": [
      "/Users/mariusj/Documents/Edu/UMA/lectures/Data Mining/Project/dm1-titanic/.venv/lib/python3.9/site-packages/sklearn/neural_network/_multilayer_perceptron.py:702: ConvergenceWarning: Stochastic Optimizer: Maximum iterations (1000) reached and the optimization hasn't converged yet.\n",
      "  warnings.warn(\n"
     ]
    },
    {
     "name": "stdout",
     "output_type": "stream",
     "text": [
      "[CV] END activation=tanh, batch_size=auto, hidden_layer_sizes=(25,), learning_rate=adaptive, max_iter=1000, solver=adam; total time=   0.5s\n"
     ]
    },
    {
     "name": "stderr",
     "output_type": "stream",
     "text": [
      "/Users/mariusj/Documents/Edu/UMA/lectures/Data Mining/Project/dm1-titanic/.venv/lib/python3.9/site-packages/sklearn/neural_network/_multilayer_perceptron.py:702: ConvergenceWarning: Stochastic Optimizer: Maximum iterations (1000) reached and the optimization hasn't converged yet.\n",
      "  warnings.warn(\n"
     ]
    },
    {
     "name": "stdout",
     "output_type": "stream",
     "text": [
      "[CV] END activation=tanh, batch_size=auto, hidden_layer_sizes=(25,), learning_rate=adaptive, max_iter=1000, solver=adam; total time=   0.5s\n"
     ]
    },
    {
     "name": "stderr",
     "output_type": "stream",
     "text": [
      "/Users/mariusj/Documents/Edu/UMA/lectures/Data Mining/Project/dm1-titanic/.venv/lib/python3.9/site-packages/sklearn/neural_network/_multilayer_perceptron.py:702: ConvergenceWarning: Stochastic Optimizer: Maximum iterations (1000) reached and the optimization hasn't converged yet.\n",
      "  warnings.warn(\n"
     ]
    },
    {
     "name": "stdout",
     "output_type": "stream",
     "text": [
      "[CV] END activation=tanh, batch_size=auto, hidden_layer_sizes=(25,), learning_rate=adaptive, max_iter=1000, solver=adam; total time=   0.5s\n"
     ]
    },
    {
     "name": "stderr",
     "output_type": "stream",
     "text": [
      "/Users/mariusj/Documents/Edu/UMA/lectures/Data Mining/Project/dm1-titanic/.venv/lib/python3.9/site-packages/sklearn/neural_network/_multilayer_perceptron.py:702: ConvergenceWarning: Stochastic Optimizer: Maximum iterations (1000) reached and the optimization hasn't converged yet.\n",
      "  warnings.warn(\n"
     ]
    },
    {
     "name": "stdout",
     "output_type": "stream",
     "text": [
      "[CV] END activation=tanh, batch_size=auto, hidden_layer_sizes=(25,), learning_rate=adaptive, max_iter=1000, solver=adam; total time=   0.5s\n"
     ]
    },
    {
     "name": "stderr",
     "output_type": "stream",
     "text": [
      "/Users/mariusj/Documents/Edu/UMA/lectures/Data Mining/Project/dm1-titanic/.venv/lib/python3.9/site-packages/sklearn/neural_network/_multilayer_perceptron.py:702: ConvergenceWarning: Stochastic Optimizer: Maximum iterations (1000) reached and the optimization hasn't converged yet.\n",
      "  warnings.warn(\n"
     ]
    },
    {
     "name": "stdout",
     "output_type": "stream",
     "text": [
      "[CV] END activation=tanh, batch_size=auto, hidden_layer_sizes=(25,), learning_rate=adaptive, max_iter=1000, solver=adam; total time=   0.5s\n",
      "[CV] END activation=tanh, batch_size=auto, hidden_layer_sizes=(75,), learning_rate=constant, max_iter=1000, solver=lbfgs; total time=   2.3s\n"
     ]
    },
    {
     "name": "stderr",
     "output_type": "stream",
     "text": [
      "/Users/mariusj/Documents/Edu/UMA/lectures/Data Mining/Project/dm1-titanic/.venv/lib/python3.9/site-packages/sklearn/neural_network/_multilayer_perceptron.py:559: ConvergenceWarning: lbfgs failed to converge (status=1):\n",
      "STOP: TOTAL NO. of ITERATIONS REACHED LIMIT.\n",
      "\n",
      "Increase the number of iterations (max_iter) or scale the data as shown in:\n",
      "    https://scikit-learn.org/stable/modules/preprocessing.html\n",
      "  self.n_iter_ = _check_optimize_result(\"lbfgs\", opt_res, self.max_iter)\n"
     ]
    },
    {
     "name": "stdout",
     "output_type": "stream",
     "text": [
      "[CV] END activation=tanh, batch_size=auto, hidden_layer_sizes=(75,), learning_rate=constant, max_iter=1000, solver=lbfgs; total time=   5.7s\n",
      "[CV] END activation=tanh, batch_size=auto, hidden_layer_sizes=(75,), learning_rate=constant, max_iter=1000, solver=lbfgs; total time=   2.4s\n",
      "[CV] END activation=tanh, batch_size=auto, hidden_layer_sizes=(75,), learning_rate=constant, max_iter=1000, solver=lbfgs; total time=   1.2s\n",
      "[CV] END activation=tanh, batch_size=auto, hidden_layer_sizes=(75,), learning_rate=constant, max_iter=1000, solver=lbfgs; total time=   1.1s\n",
      "[CV] END activation=tanh, batch_size=auto, hidden_layer_sizes=(75,), learning_rate=constant, max_iter=1000, solver=lbfgs; total time=   1.1s\n",
      "[CV] END activation=tanh, batch_size=auto, hidden_layer_sizes=(75,), learning_rate=constant, max_iter=1000, solver=lbfgs; total time=   1.2s\n",
      "[CV] END activation=tanh, batch_size=auto, hidden_layer_sizes=(75,), learning_rate=constant, max_iter=1000, solver=lbfgs; total time=   1.1s\n",
      "[CV] END activation=tanh, batch_size=auto, hidden_layer_sizes=(75,), learning_rate=constant, max_iter=1000, solver=lbfgs; total time=   1.2s\n",
      "[CV] END activation=tanh, batch_size=auto, hidden_layer_sizes=(75,), learning_rate=constant, max_iter=1000, solver=lbfgs; total time=   1.8s\n",
      "[CV] END activation=tanh, batch_size=auto, hidden_layer_sizes=(75,), learning_rate=constant, max_iter=1000, solver=sgd; total time=   1.3s\n",
      "[CV] END activation=tanh, batch_size=auto, hidden_layer_sizes=(75,), learning_rate=constant, max_iter=1000, solver=sgd; total time=   1.7s\n",
      "[CV] END activation=tanh, batch_size=auto, hidden_layer_sizes=(75,), learning_rate=constant, max_iter=1000, solver=sgd; total time=   1.5s\n",
      "[CV] END activation=tanh, batch_size=auto, hidden_layer_sizes=(75,), learning_rate=constant, max_iter=1000, solver=sgd; total time=   1.8s\n",
      "[CV] END activation=tanh, batch_size=auto, hidden_layer_sizes=(75,), learning_rate=constant, max_iter=1000, solver=sgd; total time=   1.8s\n",
      "[CV] END activation=tanh, batch_size=auto, hidden_layer_sizes=(75,), learning_rate=constant, max_iter=1000, solver=sgd; total time=   1.8s\n",
      "[CV] END activation=tanh, batch_size=auto, hidden_layer_sizes=(75,), learning_rate=constant, max_iter=1000, solver=sgd; total time=   1.2s\n",
      "[CV] END activation=tanh, batch_size=auto, hidden_layer_sizes=(75,), learning_rate=constant, max_iter=1000, solver=sgd; total time=   1.3s\n",
      "[CV] END activation=tanh, batch_size=auto, hidden_layer_sizes=(75,), learning_rate=constant, max_iter=1000, solver=sgd; total time=   2.0s\n",
      "[CV] END activation=tanh, batch_size=auto, hidden_layer_sizes=(75,), learning_rate=constant, max_iter=1000, solver=sgd; total time=   1.3s\n"
     ]
    },
    {
     "name": "stderr",
     "output_type": "stream",
     "text": [
      "/Users/mariusj/Documents/Edu/UMA/lectures/Data Mining/Project/dm1-titanic/.venv/lib/python3.9/site-packages/sklearn/neural_network/_multilayer_perceptron.py:702: ConvergenceWarning: Stochastic Optimizer: Maximum iterations (1000) reached and the optimization hasn't converged yet.\n",
      "  warnings.warn(\n"
     ]
    },
    {
     "name": "stdout",
     "output_type": "stream",
     "text": [
      "[CV] END activation=tanh, batch_size=auto, hidden_layer_sizes=(75,), learning_rate=constant, max_iter=1000, solver=adam; total time=   3.1s\n"
     ]
    },
    {
     "name": "stderr",
     "output_type": "stream",
     "text": [
      "/Users/mariusj/Documents/Edu/UMA/lectures/Data Mining/Project/dm1-titanic/.venv/lib/python3.9/site-packages/sklearn/neural_network/_multilayer_perceptron.py:702: ConvergenceWarning: Stochastic Optimizer: Maximum iterations (1000) reached and the optimization hasn't converged yet.\n",
      "  warnings.warn(\n"
     ]
    },
    {
     "name": "stdout",
     "output_type": "stream",
     "text": [
      "[CV] END activation=tanh, batch_size=auto, hidden_layer_sizes=(75,), learning_rate=constant, max_iter=1000, solver=adam; total time=   3.1s\n"
     ]
    },
    {
     "name": "stderr",
     "output_type": "stream",
     "text": [
      "/Users/mariusj/Documents/Edu/UMA/lectures/Data Mining/Project/dm1-titanic/.venv/lib/python3.9/site-packages/sklearn/neural_network/_multilayer_perceptron.py:702: ConvergenceWarning: Stochastic Optimizer: Maximum iterations (1000) reached and the optimization hasn't converged yet.\n",
      "  warnings.warn(\n"
     ]
    },
    {
     "name": "stdout",
     "output_type": "stream",
     "text": [
      "[CV] END activation=tanh, batch_size=auto, hidden_layer_sizes=(75,), learning_rate=constant, max_iter=1000, solver=adam; total time=   4.0s\n"
     ]
    },
    {
     "name": "stderr",
     "output_type": "stream",
     "text": [
      "/Users/mariusj/Documents/Edu/UMA/lectures/Data Mining/Project/dm1-titanic/.venv/lib/python3.9/site-packages/sklearn/neural_network/_multilayer_perceptron.py:702: ConvergenceWarning: Stochastic Optimizer: Maximum iterations (1000) reached and the optimization hasn't converged yet.\n",
      "  warnings.warn(\n"
     ]
    },
    {
     "name": "stdout",
     "output_type": "stream",
     "text": [
      "[CV] END activation=tanh, batch_size=auto, hidden_layer_sizes=(75,), learning_rate=constant, max_iter=1000, solver=adam; total time=   4.3s\n"
     ]
    },
    {
     "name": "stderr",
     "output_type": "stream",
     "text": [
      "/Users/mariusj/Documents/Edu/UMA/lectures/Data Mining/Project/dm1-titanic/.venv/lib/python3.9/site-packages/sklearn/neural_network/_multilayer_perceptron.py:702: ConvergenceWarning: Stochastic Optimizer: Maximum iterations (1000) reached and the optimization hasn't converged yet.\n",
      "  warnings.warn(\n"
     ]
    },
    {
     "name": "stdout",
     "output_type": "stream",
     "text": [
      "[CV] END activation=tanh, batch_size=auto, hidden_layer_sizes=(75,), learning_rate=constant, max_iter=1000, solver=adam; total time=   3.0s\n"
     ]
    },
    {
     "name": "stderr",
     "output_type": "stream",
     "text": [
      "/Users/mariusj/Documents/Edu/UMA/lectures/Data Mining/Project/dm1-titanic/.venv/lib/python3.9/site-packages/sklearn/neural_network/_multilayer_perceptron.py:702: ConvergenceWarning: Stochastic Optimizer: Maximum iterations (1000) reached and the optimization hasn't converged yet.\n",
      "  warnings.warn(\n"
     ]
    },
    {
     "name": "stdout",
     "output_type": "stream",
     "text": [
      "[CV] END activation=tanh, batch_size=auto, hidden_layer_sizes=(75,), learning_rate=constant, max_iter=1000, solver=adam; total time=   2.4s\n"
     ]
    },
    {
     "name": "stderr",
     "output_type": "stream",
     "text": [
      "/Users/mariusj/Documents/Edu/UMA/lectures/Data Mining/Project/dm1-titanic/.venv/lib/python3.9/site-packages/sklearn/neural_network/_multilayer_perceptron.py:702: ConvergenceWarning: Stochastic Optimizer: Maximum iterations (1000) reached and the optimization hasn't converged yet.\n",
      "  warnings.warn(\n"
     ]
    },
    {
     "name": "stdout",
     "output_type": "stream",
     "text": [
      "[CV] END activation=tanh, batch_size=auto, hidden_layer_sizes=(75,), learning_rate=constant, max_iter=1000, solver=adam; total time=   2.2s\n"
     ]
    },
    {
     "name": "stderr",
     "output_type": "stream",
     "text": [
      "/Users/mariusj/Documents/Edu/UMA/lectures/Data Mining/Project/dm1-titanic/.venv/lib/python3.9/site-packages/sklearn/neural_network/_multilayer_perceptron.py:702: ConvergenceWarning: Stochastic Optimizer: Maximum iterations (1000) reached and the optimization hasn't converged yet.\n",
      "  warnings.warn(\n"
     ]
    },
    {
     "name": "stdout",
     "output_type": "stream",
     "text": [
      "[CV] END activation=tanh, batch_size=auto, hidden_layer_sizes=(75,), learning_rate=constant, max_iter=1000, solver=adam; total time=   2.2s\n"
     ]
    },
    {
     "name": "stderr",
     "output_type": "stream",
     "text": [
      "/Users/mariusj/Documents/Edu/UMA/lectures/Data Mining/Project/dm1-titanic/.venv/lib/python3.9/site-packages/sklearn/neural_network/_multilayer_perceptron.py:702: ConvergenceWarning: Stochastic Optimizer: Maximum iterations (1000) reached and the optimization hasn't converged yet.\n",
      "  warnings.warn(\n"
     ]
    },
    {
     "name": "stdout",
     "output_type": "stream",
     "text": [
      "[CV] END activation=tanh, batch_size=auto, hidden_layer_sizes=(75,), learning_rate=constant, max_iter=1000, solver=adam; total time=   4.2s\n"
     ]
    },
    {
     "name": "stderr",
     "output_type": "stream",
     "text": [
      "/Users/mariusj/Documents/Edu/UMA/lectures/Data Mining/Project/dm1-titanic/.venv/lib/python3.9/site-packages/sklearn/neural_network/_multilayer_perceptron.py:702: ConvergenceWarning: Stochastic Optimizer: Maximum iterations (1000) reached and the optimization hasn't converged yet.\n",
      "  warnings.warn(\n"
     ]
    },
    {
     "name": "stdout",
     "output_type": "stream",
     "text": [
      "[CV] END activation=tanh, batch_size=auto, hidden_layer_sizes=(75,), learning_rate=constant, max_iter=1000, solver=adam; total time=   2.6s\n",
      "[CV] END activation=tanh, batch_size=auto, hidden_layer_sizes=(75,), learning_rate=invscaling, max_iter=1000, solver=lbfgs; total time=   1.0s\n"
     ]
    },
    {
     "name": "stderr",
     "output_type": "stream",
     "text": [
      "/Users/mariusj/Documents/Edu/UMA/lectures/Data Mining/Project/dm1-titanic/.venv/lib/python3.9/site-packages/sklearn/neural_network/_multilayer_perceptron.py:559: ConvergenceWarning: lbfgs failed to converge (status=1):\n",
      "STOP: TOTAL NO. of ITERATIONS REACHED LIMIT.\n",
      "\n",
      "Increase the number of iterations (max_iter) or scale the data as shown in:\n",
      "    https://scikit-learn.org/stable/modules/preprocessing.html\n",
      "  self.n_iter_ = _check_optimize_result(\"lbfgs\", opt_res, self.max_iter)\n"
     ]
    },
    {
     "name": "stdout",
     "output_type": "stream",
     "text": [
      "[CV] END activation=tanh, batch_size=auto, hidden_layer_sizes=(75,), learning_rate=invscaling, max_iter=1000, solver=lbfgs; total time=   4.3s\n",
      "[CV] END activation=tanh, batch_size=auto, hidden_layer_sizes=(75,), learning_rate=invscaling, max_iter=1000, solver=lbfgs; total time=   3.6s\n",
      "[CV] END activation=tanh, batch_size=auto, hidden_layer_sizes=(75,), learning_rate=invscaling, max_iter=1000, solver=lbfgs; total time=   2.8s\n",
      "[CV] END activation=tanh, batch_size=auto, hidden_layer_sizes=(75,), learning_rate=invscaling, max_iter=1000, solver=lbfgs; total time=   2.1s\n",
      "[CV] END activation=tanh, batch_size=auto, hidden_layer_sizes=(75,), learning_rate=invscaling, max_iter=1000, solver=lbfgs; total time=   1.1s\n",
      "[CV] END activation=tanh, batch_size=auto, hidden_layer_sizes=(75,), learning_rate=invscaling, max_iter=1000, solver=lbfgs; total time=   0.6s\n",
      "[CV] END activation=tanh, batch_size=auto, hidden_layer_sizes=(75,), learning_rate=invscaling, max_iter=1000, solver=lbfgs; total time=   1.5s\n",
      "[CV] END activation=tanh, batch_size=auto, hidden_layer_sizes=(75,), learning_rate=invscaling, max_iter=1000, solver=lbfgs; total time=   3.6s\n",
      "[CV] END activation=tanh, batch_size=auto, hidden_layer_sizes=(75,), learning_rate=invscaling, max_iter=1000, solver=lbfgs; total time=   1.7s\n",
      "[CV] END activation=tanh, batch_size=auto, hidden_layer_sizes=(75,), learning_rate=invscaling, max_iter=1000, solver=sgd; total time=   1.5s\n",
      "[CV] END activation=tanh, batch_size=auto, hidden_layer_sizes=(75,), learning_rate=invscaling, max_iter=1000, solver=sgd; total time=   0.6s\n",
      "[CV] END activation=tanh, batch_size=auto, hidden_layer_sizes=(75,), learning_rate=invscaling, max_iter=1000, solver=sgd; total time=   0.1s\n",
      "[CV] END activation=tanh, batch_size=auto, hidden_layer_sizes=(75,), learning_rate=invscaling, max_iter=1000, solver=sgd; total time=   1.0s\n",
      "[CV] END activation=tanh, batch_size=auto, hidden_layer_sizes=(75,), learning_rate=invscaling, max_iter=1000, solver=sgd; total time=   0.0s\n",
      "[CV] END activation=tanh, batch_size=auto, hidden_layer_sizes=(75,), learning_rate=invscaling, max_iter=1000, solver=sgd; total time=   0.1s\n",
      "[CV] END activation=tanh, batch_size=auto, hidden_layer_sizes=(75,), learning_rate=invscaling, max_iter=1000, solver=sgd; total time=   0.2s\n",
      "[CV] END activation=tanh, batch_size=auto, hidden_layer_sizes=(75,), learning_rate=invscaling, max_iter=1000, solver=sgd; total time=   0.4s\n",
      "[CV] END activation=tanh, batch_size=auto, hidden_layer_sizes=(75,), learning_rate=invscaling, max_iter=1000, solver=sgd; total time=   0.1s\n",
      "[CV] END activation=tanh, batch_size=auto, hidden_layer_sizes=(75,), learning_rate=invscaling, max_iter=1000, solver=sgd; total time=   0.2s\n"
     ]
    },
    {
     "name": "stderr",
     "output_type": "stream",
     "text": [
      "/Users/mariusj/Documents/Edu/UMA/lectures/Data Mining/Project/dm1-titanic/.venv/lib/python3.9/site-packages/sklearn/neural_network/_multilayer_perceptron.py:702: ConvergenceWarning: Stochastic Optimizer: Maximum iterations (1000) reached and the optimization hasn't converged yet.\n",
      "  warnings.warn(\n"
     ]
    },
    {
     "name": "stdout",
     "output_type": "stream",
     "text": [
      "[CV] END activation=tanh, batch_size=auto, hidden_layer_sizes=(75,), learning_rate=invscaling, max_iter=1000, solver=adam; total time=   2.7s\n"
     ]
    },
    {
     "name": "stderr",
     "output_type": "stream",
     "text": [
      "/Users/mariusj/Documents/Edu/UMA/lectures/Data Mining/Project/dm1-titanic/.venv/lib/python3.9/site-packages/sklearn/neural_network/_multilayer_perceptron.py:702: ConvergenceWarning: Stochastic Optimizer: Maximum iterations (1000) reached and the optimization hasn't converged yet.\n",
      "  warnings.warn(\n"
     ]
    },
    {
     "name": "stdout",
     "output_type": "stream",
     "text": [
      "[CV] END activation=tanh, batch_size=auto, hidden_layer_sizes=(75,), learning_rate=invscaling, max_iter=1000, solver=adam; total time=   3.1s\n"
     ]
    },
    {
     "name": "stderr",
     "output_type": "stream",
     "text": [
      "/Users/mariusj/Documents/Edu/UMA/lectures/Data Mining/Project/dm1-titanic/.venv/lib/python3.9/site-packages/sklearn/neural_network/_multilayer_perceptron.py:702: ConvergenceWarning: Stochastic Optimizer: Maximum iterations (1000) reached and the optimization hasn't converged yet.\n",
      "  warnings.warn(\n"
     ]
    },
    {
     "name": "stdout",
     "output_type": "stream",
     "text": [
      "[CV] END activation=tanh, batch_size=auto, hidden_layer_sizes=(75,), learning_rate=invscaling, max_iter=1000, solver=adam; total time=   2.6s\n"
     ]
    },
    {
     "name": "stderr",
     "output_type": "stream",
     "text": [
      "/Users/mariusj/Documents/Edu/UMA/lectures/Data Mining/Project/dm1-titanic/.venv/lib/python3.9/site-packages/sklearn/neural_network/_multilayer_perceptron.py:702: ConvergenceWarning: Stochastic Optimizer: Maximum iterations (1000) reached and the optimization hasn't converged yet.\n",
      "  warnings.warn(\n"
     ]
    },
    {
     "name": "stdout",
     "output_type": "stream",
     "text": [
      "[CV] END activation=tanh, batch_size=auto, hidden_layer_sizes=(75,), learning_rate=invscaling, max_iter=1000, solver=adam; total time=   2.8s\n"
     ]
    },
    {
     "name": "stderr",
     "output_type": "stream",
     "text": [
      "/Users/mariusj/Documents/Edu/UMA/lectures/Data Mining/Project/dm1-titanic/.venv/lib/python3.9/site-packages/sklearn/neural_network/_multilayer_perceptron.py:702: ConvergenceWarning: Stochastic Optimizer: Maximum iterations (1000) reached and the optimization hasn't converged yet.\n",
      "  warnings.warn(\n"
     ]
    },
    {
     "name": "stdout",
     "output_type": "stream",
     "text": [
      "[CV] END activation=tanh, batch_size=auto, hidden_layer_sizes=(75,), learning_rate=invscaling, max_iter=1000, solver=adam; total time=   2.1s\n"
     ]
    },
    {
     "name": "stderr",
     "output_type": "stream",
     "text": [
      "/Users/mariusj/Documents/Edu/UMA/lectures/Data Mining/Project/dm1-titanic/.venv/lib/python3.9/site-packages/sklearn/neural_network/_multilayer_perceptron.py:702: ConvergenceWarning: Stochastic Optimizer: Maximum iterations (1000) reached and the optimization hasn't converged yet.\n",
      "  warnings.warn(\n"
     ]
    },
    {
     "name": "stdout",
     "output_type": "stream",
     "text": [
      "[CV] END activation=tanh, batch_size=auto, hidden_layer_sizes=(75,), learning_rate=invscaling, max_iter=1000, solver=adam; total time=   2.9s\n"
     ]
    },
    {
     "name": "stderr",
     "output_type": "stream",
     "text": [
      "/Users/mariusj/Documents/Edu/UMA/lectures/Data Mining/Project/dm1-titanic/.venv/lib/python3.9/site-packages/sklearn/neural_network/_multilayer_perceptron.py:702: ConvergenceWarning: Stochastic Optimizer: Maximum iterations (1000) reached and the optimization hasn't converged yet.\n",
      "  warnings.warn(\n"
     ]
    },
    {
     "name": "stdout",
     "output_type": "stream",
     "text": [
      "[CV] END activation=tanh, batch_size=auto, hidden_layer_sizes=(75,), learning_rate=invscaling, max_iter=1000, solver=adam; total time=   4.4s\n"
     ]
    },
    {
     "name": "stderr",
     "output_type": "stream",
     "text": [
      "/Users/mariusj/Documents/Edu/UMA/lectures/Data Mining/Project/dm1-titanic/.venv/lib/python3.9/site-packages/sklearn/neural_network/_multilayer_perceptron.py:702: ConvergenceWarning: Stochastic Optimizer: Maximum iterations (1000) reached and the optimization hasn't converged yet.\n",
      "  warnings.warn(\n"
     ]
    },
    {
     "name": "stdout",
     "output_type": "stream",
     "text": [
      "[CV] END activation=tanh, batch_size=auto, hidden_layer_sizes=(75,), learning_rate=invscaling, max_iter=1000, solver=adam; total time=   2.2s\n"
     ]
    },
    {
     "name": "stderr",
     "output_type": "stream",
     "text": [
      "/Users/mariusj/Documents/Edu/UMA/lectures/Data Mining/Project/dm1-titanic/.venv/lib/python3.9/site-packages/sklearn/neural_network/_multilayer_perceptron.py:702: ConvergenceWarning: Stochastic Optimizer: Maximum iterations (1000) reached and the optimization hasn't converged yet.\n",
      "  warnings.warn(\n"
     ]
    },
    {
     "name": "stdout",
     "output_type": "stream",
     "text": [
      "[CV] END activation=tanh, batch_size=auto, hidden_layer_sizes=(75,), learning_rate=invscaling, max_iter=1000, solver=adam; total time=   4.8s\n"
     ]
    },
    {
     "name": "stderr",
     "output_type": "stream",
     "text": [
      "/Users/mariusj/Documents/Edu/UMA/lectures/Data Mining/Project/dm1-titanic/.venv/lib/python3.9/site-packages/sklearn/neural_network/_multilayer_perceptron.py:702: ConvergenceWarning: Stochastic Optimizer: Maximum iterations (1000) reached and the optimization hasn't converged yet.\n",
      "  warnings.warn(\n"
     ]
    },
    {
     "name": "stdout",
     "output_type": "stream",
     "text": [
      "[CV] END activation=tanh, batch_size=auto, hidden_layer_sizes=(75,), learning_rate=invscaling, max_iter=1000, solver=adam; total time=   4.4s\n",
      "[CV] END activation=tanh, batch_size=auto, hidden_layer_sizes=(75,), learning_rate=adaptive, max_iter=1000, solver=lbfgs; total time=   1.3s\n",
      "[CV] END activation=tanh, batch_size=auto, hidden_layer_sizes=(75,), learning_rate=adaptive, max_iter=1000, solver=lbfgs; total time=   1.6s\n",
      "[CV] END activation=tanh, batch_size=auto, hidden_layer_sizes=(75,), learning_rate=adaptive, max_iter=1000, solver=lbfgs; total time=   0.9s\n",
      "[CV] END activation=tanh, batch_size=auto, hidden_layer_sizes=(75,), learning_rate=adaptive, max_iter=1000, solver=lbfgs; total time=   2.1s\n",
      "[CV] END activation=tanh, batch_size=auto, hidden_layer_sizes=(75,), learning_rate=adaptive, max_iter=1000, solver=lbfgs; total time=   0.9s\n",
      "[CV] END activation=tanh, batch_size=auto, hidden_layer_sizes=(75,), learning_rate=adaptive, max_iter=1000, solver=lbfgs; total time=   0.7s\n",
      "[CV] END activation=tanh, batch_size=auto, hidden_layer_sizes=(75,), learning_rate=adaptive, max_iter=1000, solver=lbfgs; total time=   1.3s\n",
      "[CV] END activation=tanh, batch_size=auto, hidden_layer_sizes=(75,), learning_rate=adaptive, max_iter=1000, solver=lbfgs; total time=   1.3s\n",
      "[CV] END activation=tanh, batch_size=auto, hidden_layer_sizes=(75,), learning_rate=adaptive, max_iter=1000, solver=lbfgs; total time=   1.9s\n",
      "[CV] END activation=tanh, batch_size=auto, hidden_layer_sizes=(75,), learning_rate=adaptive, max_iter=1000, solver=lbfgs; total time=   1.6s\n",
      "[CV] END activation=tanh, batch_size=auto, hidden_layer_sizes=(75,), learning_rate=adaptive, max_iter=1000, solver=sgd; total time=   1.3s\n",
      "[CV] END activation=tanh, batch_size=auto, hidden_layer_sizes=(75,), learning_rate=adaptive, max_iter=1000, solver=sgd; total time=   1.3s\n",
      "[CV] END activation=tanh, batch_size=auto, hidden_layer_sizes=(75,), learning_rate=adaptive, max_iter=1000, solver=sgd; total time=   1.1s\n",
      "[CV] END activation=tanh, batch_size=auto, hidden_layer_sizes=(75,), learning_rate=adaptive, max_iter=1000, solver=sgd; total time=   1.4s\n",
      "[CV] END activation=tanh, batch_size=auto, hidden_layer_sizes=(75,), learning_rate=adaptive, max_iter=1000, solver=sgd; total time=   1.4s\n",
      "[CV] END activation=tanh, batch_size=auto, hidden_layer_sizes=(75,), learning_rate=adaptive, max_iter=1000, solver=sgd; total time=   1.3s\n",
      "[CV] END activation=tanh, batch_size=auto, hidden_layer_sizes=(75,), learning_rate=adaptive, max_iter=1000, solver=sgd; total time=   1.5s\n",
      "[CV] END activation=tanh, batch_size=auto, hidden_layer_sizes=(75,), learning_rate=adaptive, max_iter=1000, solver=sgd; total time=   1.5s\n",
      "[CV] END activation=tanh, batch_size=auto, hidden_layer_sizes=(75,), learning_rate=adaptive, max_iter=1000, solver=sgd; total time=   2.0s\n",
      "[CV] END activation=tanh, batch_size=auto, hidden_layer_sizes=(75,), learning_rate=adaptive, max_iter=1000, solver=sgd; total time=   1.4s\n"
     ]
    },
    {
     "name": "stderr",
     "output_type": "stream",
     "text": [
      "/Users/mariusj/Documents/Edu/UMA/lectures/Data Mining/Project/dm1-titanic/.venv/lib/python3.9/site-packages/sklearn/neural_network/_multilayer_perceptron.py:702: ConvergenceWarning: Stochastic Optimizer: Maximum iterations (1000) reached and the optimization hasn't converged yet.\n",
      "  warnings.warn(\n"
     ]
    },
    {
     "name": "stdout",
     "output_type": "stream",
     "text": [
      "[CV] END activation=tanh, batch_size=auto, hidden_layer_sizes=(75,), learning_rate=adaptive, max_iter=1000, solver=adam; total time=   3.1s\n"
     ]
    },
    {
     "name": "stderr",
     "output_type": "stream",
     "text": [
      "/Users/mariusj/Documents/Edu/UMA/lectures/Data Mining/Project/dm1-titanic/.venv/lib/python3.9/site-packages/sklearn/neural_network/_multilayer_perceptron.py:702: ConvergenceWarning: Stochastic Optimizer: Maximum iterations (1000) reached and the optimization hasn't converged yet.\n",
      "  warnings.warn(\n"
     ]
    },
    {
     "name": "stdout",
     "output_type": "stream",
     "text": [
      "[CV] END activation=tanh, batch_size=auto, hidden_layer_sizes=(75,), learning_rate=adaptive, max_iter=1000, solver=adam; total time=   4.7s\n"
     ]
    },
    {
     "name": "stderr",
     "output_type": "stream",
     "text": [
      "/Users/mariusj/Documents/Edu/UMA/lectures/Data Mining/Project/dm1-titanic/.venv/lib/python3.9/site-packages/sklearn/neural_network/_multilayer_perceptron.py:702: ConvergenceWarning: Stochastic Optimizer: Maximum iterations (1000) reached and the optimization hasn't converged yet.\n",
      "  warnings.warn(\n"
     ]
    },
    {
     "name": "stdout",
     "output_type": "stream",
     "text": [
      "[CV] END activation=tanh, batch_size=auto, hidden_layer_sizes=(75,), learning_rate=adaptive, max_iter=1000, solver=adam; total time=   3.0s\n"
     ]
    },
    {
     "name": "stderr",
     "output_type": "stream",
     "text": [
      "/Users/mariusj/Documents/Edu/UMA/lectures/Data Mining/Project/dm1-titanic/.venv/lib/python3.9/site-packages/sklearn/neural_network/_multilayer_perceptron.py:702: ConvergenceWarning: Stochastic Optimizer: Maximum iterations (1000) reached and the optimization hasn't converged yet.\n",
      "  warnings.warn(\n"
     ]
    },
    {
     "name": "stdout",
     "output_type": "stream",
     "text": [
      "[CV] END activation=tanh, batch_size=auto, hidden_layer_sizes=(75,), learning_rate=adaptive, max_iter=1000, solver=adam; total time=   3.9s\n"
     ]
    },
    {
     "name": "stderr",
     "output_type": "stream",
     "text": [
      "/Users/mariusj/Documents/Edu/UMA/lectures/Data Mining/Project/dm1-titanic/.venv/lib/python3.9/site-packages/sklearn/neural_network/_multilayer_perceptron.py:702: ConvergenceWarning: Stochastic Optimizer: Maximum iterations (1000) reached and the optimization hasn't converged yet.\n",
      "  warnings.warn(\n"
     ]
    },
    {
     "name": "stdout",
     "output_type": "stream",
     "text": [
      "[CV] END activation=tanh, batch_size=auto, hidden_layer_sizes=(75,), learning_rate=adaptive, max_iter=1000, solver=adam; total time=   3.1s\n"
     ]
    },
    {
     "name": "stderr",
     "output_type": "stream",
     "text": [
      "/Users/mariusj/Documents/Edu/UMA/lectures/Data Mining/Project/dm1-titanic/.venv/lib/python3.9/site-packages/sklearn/neural_network/_multilayer_perceptron.py:702: ConvergenceWarning: Stochastic Optimizer: Maximum iterations (1000) reached and the optimization hasn't converged yet.\n",
      "  warnings.warn(\n"
     ]
    },
    {
     "name": "stdout",
     "output_type": "stream",
     "text": [
      "[CV] END activation=tanh, batch_size=auto, hidden_layer_sizes=(75,), learning_rate=adaptive, max_iter=1000, solver=adam; total time=   2.3s\n"
     ]
    },
    {
     "name": "stderr",
     "output_type": "stream",
     "text": [
      "/Users/mariusj/Documents/Edu/UMA/lectures/Data Mining/Project/dm1-titanic/.venv/lib/python3.9/site-packages/sklearn/neural_network/_multilayer_perceptron.py:702: ConvergenceWarning: Stochastic Optimizer: Maximum iterations (1000) reached and the optimization hasn't converged yet.\n",
      "  warnings.warn(\n"
     ]
    },
    {
     "name": "stdout",
     "output_type": "stream",
     "text": [
      "[CV] END activation=tanh, batch_size=auto, hidden_layer_sizes=(75,), learning_rate=adaptive, max_iter=1000, solver=adam; total time=   4.3s\n"
     ]
    },
    {
     "name": "stderr",
     "output_type": "stream",
     "text": [
      "/Users/mariusj/Documents/Edu/UMA/lectures/Data Mining/Project/dm1-titanic/.venv/lib/python3.9/site-packages/sklearn/neural_network/_multilayer_perceptron.py:702: ConvergenceWarning: Stochastic Optimizer: Maximum iterations (1000) reached and the optimization hasn't converged yet.\n",
      "  warnings.warn(\n"
     ]
    },
    {
     "name": "stdout",
     "output_type": "stream",
     "text": [
      "[CV] END activation=tanh, batch_size=auto, hidden_layer_sizes=(75,), learning_rate=adaptive, max_iter=1000, solver=adam; total time=   3.1s\n"
     ]
    },
    {
     "name": "stderr",
     "output_type": "stream",
     "text": [
      "/Users/mariusj/Documents/Edu/UMA/lectures/Data Mining/Project/dm1-titanic/.venv/lib/python3.9/site-packages/sklearn/neural_network/_multilayer_perceptron.py:702: ConvergenceWarning: Stochastic Optimizer: Maximum iterations (1000) reached and the optimization hasn't converged yet.\n",
      "  warnings.warn(\n"
     ]
    },
    {
     "name": "stdout",
     "output_type": "stream",
     "text": [
      "[CV] END activation=tanh, batch_size=auto, hidden_layer_sizes=(75,), learning_rate=adaptive, max_iter=1000, solver=adam; total time=   2.4s\n"
     ]
    },
    {
     "name": "stderr",
     "output_type": "stream",
     "text": [
      "/Users/mariusj/Documents/Edu/UMA/lectures/Data Mining/Project/dm1-titanic/.venv/lib/python3.9/site-packages/sklearn/neural_network/_multilayer_perceptron.py:702: ConvergenceWarning: Stochastic Optimizer: Maximum iterations (1000) reached and the optimization hasn't converged yet.\n",
      "  warnings.warn(\n"
     ]
    },
    {
     "name": "stdout",
     "output_type": "stream",
     "text": [
      "[CV] END activation=tanh, batch_size=auto, hidden_layer_sizes=(75,), learning_rate=adaptive, max_iter=1000, solver=adam; total time=   4.2s\n",
      "[CV] END activation=relu, batch_size=auto, hidden_layer_sizes=(10,), learning_rate=constant, max_iter=1000, solver=lbfgs; total time=   0.1s\n"
     ]
    },
    {
     "name": "stderr",
     "output_type": "stream",
     "text": [
      "/Users/mariusj/Documents/Edu/UMA/lectures/Data Mining/Project/dm1-titanic/.venv/lib/python3.9/site-packages/sklearn/neural_network/_multilayer_perceptron.py:559: ConvergenceWarning: lbfgs failed to converge (status=1):\n",
      "STOP: TOTAL NO. of ITERATIONS REACHED LIMIT.\n",
      "\n",
      "Increase the number of iterations (max_iter) or scale the data as shown in:\n",
      "    https://scikit-learn.org/stable/modules/preprocessing.html\n",
      "  self.n_iter_ = _check_optimize_result(\"lbfgs\", opt_res, self.max_iter)\n",
      "/Users/mariusj/Documents/Edu/UMA/lectures/Data Mining/Project/dm1-titanic/.venv/lib/python3.9/site-packages/sklearn/neural_network/_multilayer_perceptron.py:559: ConvergenceWarning: lbfgs failed to converge (status=1):\n",
      "STOP: TOTAL NO. of ITERATIONS REACHED LIMIT.\n",
      "\n",
      "Increase the number of iterations (max_iter) or scale the data as shown in:\n",
      "    https://scikit-learn.org/stable/modules/preprocessing.html\n",
      "  self.n_iter_ = _check_optimize_result(\"lbfgs\", opt_res, self.max_iter)\n"
     ]
    },
    {
     "name": "stdout",
     "output_type": "stream",
     "text": [
      "[CV] END activation=relu, batch_size=auto, hidden_layer_sizes=(10,), learning_rate=constant, max_iter=1000, solver=lbfgs; total time=   0.2s\n",
      "[CV] END activation=relu, batch_size=auto, hidden_layer_sizes=(10,), learning_rate=constant, max_iter=1000, solver=lbfgs; total time=   0.2s\n",
      "[CV] END activation=relu, batch_size=auto, hidden_layer_sizes=(10,), learning_rate=constant, max_iter=1000, solver=lbfgs; total time=   0.1s\n",
      "[CV] END activation=relu, batch_size=auto, hidden_layer_sizes=(10,), learning_rate=constant, max_iter=1000, solver=lbfgs; total time=   0.0s\n",
      "[CV] END activation=relu, batch_size=auto, hidden_layer_sizes=(10,), learning_rate=constant, max_iter=1000, solver=lbfgs; total time=   0.1s\n"
     ]
    },
    {
     "name": "stderr",
     "output_type": "stream",
     "text": [
      "/Users/mariusj/Documents/Edu/UMA/lectures/Data Mining/Project/dm1-titanic/.venv/lib/python3.9/site-packages/sklearn/neural_network/_multilayer_perceptron.py:559: ConvergenceWarning: lbfgs failed to converge (status=1):\n",
      "STOP: TOTAL NO. of ITERATIONS REACHED LIMIT.\n",
      "\n",
      "Increase the number of iterations (max_iter) or scale the data as shown in:\n",
      "    https://scikit-learn.org/stable/modules/preprocessing.html\n",
      "  self.n_iter_ = _check_optimize_result(\"lbfgs\", opt_res, self.max_iter)\n",
      "/Users/mariusj/Documents/Edu/UMA/lectures/Data Mining/Project/dm1-titanic/.venv/lib/python3.9/site-packages/sklearn/neural_network/_multilayer_perceptron.py:559: ConvergenceWarning: lbfgs failed to converge (status=1):\n",
      "STOP: TOTAL NO. of ITERATIONS REACHED LIMIT.\n",
      "\n",
      "Increase the number of iterations (max_iter) or scale the data as shown in:\n",
      "    https://scikit-learn.org/stable/modules/preprocessing.html\n",
      "  self.n_iter_ = _check_optimize_result(\"lbfgs\", opt_res, self.max_iter)\n"
     ]
    },
    {
     "name": "stdout",
     "output_type": "stream",
     "text": [
      "[CV] END activation=relu, batch_size=auto, hidden_layer_sizes=(10,), learning_rate=constant, max_iter=1000, solver=lbfgs; total time=   0.2s\n",
      "[CV] END activation=relu, batch_size=auto, hidden_layer_sizes=(10,), learning_rate=constant, max_iter=1000, solver=lbfgs; total time=   0.2s\n",
      "[CV] END activation=relu, batch_size=auto, hidden_layer_sizes=(10,), learning_rate=constant, max_iter=1000, solver=lbfgs; total time=   0.1s\n",
      "[CV] END activation=relu, batch_size=auto, hidden_layer_sizes=(10,), learning_rate=constant, max_iter=1000, solver=lbfgs; total time=   0.2s\n"
     ]
    },
    {
     "name": "stderr",
     "output_type": "stream",
     "text": [
      "/Users/mariusj/Documents/Edu/UMA/lectures/Data Mining/Project/dm1-titanic/.venv/lib/python3.9/site-packages/sklearn/neural_network/_multilayer_perceptron.py:559: ConvergenceWarning: lbfgs failed to converge (status=1):\n",
      "STOP: TOTAL NO. of ITERATIONS REACHED LIMIT.\n",
      "\n",
      "Increase the number of iterations (max_iter) or scale the data as shown in:\n",
      "    https://scikit-learn.org/stable/modules/preprocessing.html\n",
      "  self.n_iter_ = _check_optimize_result(\"lbfgs\", opt_res, self.max_iter)\n"
     ]
    },
    {
     "name": "stdout",
     "output_type": "stream",
     "text": [
      "[CV] END activation=relu, batch_size=auto, hidden_layer_sizes=(10,), learning_rate=constant, max_iter=1000, solver=sgd; total time=   0.2s\n",
      "[CV] END activation=relu, batch_size=auto, hidden_layer_sizes=(10,), learning_rate=constant, max_iter=1000, solver=sgd; total time=   0.2s\n",
      "[CV] END activation=relu, batch_size=auto, hidden_layer_sizes=(10,), learning_rate=constant, max_iter=1000, solver=sgd; total time=   0.1s\n",
      "[CV] END activation=relu, batch_size=auto, hidden_layer_sizes=(10,), learning_rate=constant, max_iter=1000, solver=sgd; total time=   0.2s\n",
      "[CV] END activation=relu, batch_size=auto, hidden_layer_sizes=(10,), learning_rate=constant, max_iter=1000, solver=sgd; total time=   0.2s\n",
      "[CV] END activation=relu, batch_size=auto, hidden_layer_sizes=(10,), learning_rate=constant, max_iter=1000, solver=sgd; total time=   0.1s\n",
      "[CV] END activation=relu, batch_size=auto, hidden_layer_sizes=(10,), learning_rate=constant, max_iter=1000, solver=sgd; total time=   0.2s\n",
      "[CV] END activation=relu, batch_size=auto, hidden_layer_sizes=(10,), learning_rate=constant, max_iter=1000, solver=sgd; total time=   0.2s\n",
      "[CV] END activation=relu, batch_size=auto, hidden_layer_sizes=(10,), learning_rate=constant, max_iter=1000, solver=sgd; total time=   0.2s\n",
      "[CV] END activation=relu, batch_size=auto, hidden_layer_sizes=(10,), learning_rate=constant, max_iter=1000, solver=sgd; total time=   0.2s\n",
      "[CV] END activation=relu, batch_size=auto, hidden_layer_sizes=(10,), learning_rate=constant, max_iter=1000, solver=adam; total time=   0.2s\n",
      "[CV] END activation=relu, batch_size=auto, hidden_layer_sizes=(10,), learning_rate=constant, max_iter=1000, solver=adam; total time=   0.3s\n",
      "[CV] END activation=relu, batch_size=auto, hidden_layer_sizes=(10,), learning_rate=constant, max_iter=1000, solver=adam; total time=   0.1s\n",
      "[CV] END activation=relu, batch_size=auto, hidden_layer_sizes=(10,), learning_rate=constant, max_iter=1000, solver=adam; total time=   0.1s\n",
      "[CV] END activation=relu, batch_size=auto, hidden_layer_sizes=(10,), learning_rate=constant, max_iter=1000, solver=adam; total time=   0.1s\n",
      "[CV] END activation=relu, batch_size=auto, hidden_layer_sizes=(10,), learning_rate=constant, max_iter=1000, solver=adam; total time=   0.2s\n",
      "[CV] END activation=relu, batch_size=auto, hidden_layer_sizes=(10,), learning_rate=constant, max_iter=1000, solver=adam; total time=   0.2s\n",
      "[CV] END activation=relu, batch_size=auto, hidden_layer_sizes=(10,), learning_rate=constant, max_iter=1000, solver=adam; total time=   0.1s\n",
      "[CV] END activation=relu, batch_size=auto, hidden_layer_sizes=(10,), learning_rate=constant, max_iter=1000, solver=adam; total time=   0.2s\n"
     ]
    },
    {
     "name": "stderr",
     "output_type": "stream",
     "text": [
      "/Users/mariusj/Documents/Edu/UMA/lectures/Data Mining/Project/dm1-titanic/.venv/lib/python3.9/site-packages/sklearn/neural_network/_multilayer_perceptron.py:702: ConvergenceWarning: Stochastic Optimizer: Maximum iterations (1000) reached and the optimization hasn't converged yet.\n",
      "  warnings.warn(\n"
     ]
    },
    {
     "name": "stdout",
     "output_type": "stream",
     "text": [
      "[CV] END activation=relu, batch_size=auto, hidden_layer_sizes=(10,), learning_rate=constant, max_iter=1000, solver=adam; total time=   0.3s\n",
      "[CV] END activation=relu, batch_size=auto, hidden_layer_sizes=(10,), learning_rate=invscaling, max_iter=1000, solver=lbfgs; total time=   0.1s\n",
      "[CV] END activation=relu, batch_size=auto, hidden_layer_sizes=(10,), learning_rate=invscaling, max_iter=1000, solver=lbfgs; total time=   0.1s\n"
     ]
    },
    {
     "name": "stderr",
     "output_type": "stream",
     "text": [
      "/Users/mariusj/Documents/Edu/UMA/lectures/Data Mining/Project/dm1-titanic/.venv/lib/python3.9/site-packages/sklearn/neural_network/_multilayer_perceptron.py:559: ConvergenceWarning: lbfgs failed to converge (status=1):\n",
      "STOP: TOTAL NO. of ITERATIONS REACHED LIMIT.\n",
      "\n",
      "Increase the number of iterations (max_iter) or scale the data as shown in:\n",
      "    https://scikit-learn.org/stable/modules/preprocessing.html\n",
      "  self.n_iter_ = _check_optimize_result(\"lbfgs\", opt_res, self.max_iter)\n"
     ]
    },
    {
     "name": "stdout",
     "output_type": "stream",
     "text": [
      "[CV] END activation=relu, batch_size=auto, hidden_layer_sizes=(10,), learning_rate=invscaling, max_iter=1000, solver=lbfgs; total time=   0.2s\n",
      "[CV] END activation=relu, batch_size=auto, hidden_layer_sizes=(10,), learning_rate=invscaling, max_iter=1000, solver=lbfgs; total time=   0.1s\n",
      "[CV] END activation=relu, batch_size=auto, hidden_layer_sizes=(10,), learning_rate=invscaling, max_iter=1000, solver=lbfgs; total time=   0.1s\n",
      "[CV] END activation=relu, batch_size=auto, hidden_layer_sizes=(10,), learning_rate=invscaling, max_iter=1000, solver=lbfgs; total time=   0.2s\n",
      "[CV] END activation=relu, batch_size=auto, hidden_layer_sizes=(10,), learning_rate=invscaling, max_iter=1000, solver=lbfgs; total time=   0.2s\n",
      "[CV] END activation=relu, batch_size=auto, hidden_layer_sizes=(10,), learning_rate=invscaling, max_iter=1000, solver=lbfgs; total time=   0.2s\n"
     ]
    },
    {
     "name": "stderr",
     "output_type": "stream",
     "text": [
      "/Users/mariusj/Documents/Edu/UMA/lectures/Data Mining/Project/dm1-titanic/.venv/lib/python3.9/site-packages/sklearn/neural_network/_multilayer_perceptron.py:559: ConvergenceWarning: lbfgs failed to converge (status=1):\n",
      "STOP: TOTAL NO. of ITERATIONS REACHED LIMIT.\n",
      "\n",
      "Increase the number of iterations (max_iter) or scale the data as shown in:\n",
      "    https://scikit-learn.org/stable/modules/preprocessing.html\n",
      "  self.n_iter_ = _check_optimize_result(\"lbfgs\", opt_res, self.max_iter)\n",
      "/Users/mariusj/Documents/Edu/UMA/lectures/Data Mining/Project/dm1-titanic/.venv/lib/python3.9/site-packages/sklearn/neural_network/_multilayer_perceptron.py:559: ConvergenceWarning: lbfgs failed to converge (status=1):\n",
      "STOP: TOTAL NO. of ITERATIONS REACHED LIMIT.\n",
      "\n",
      "Increase the number of iterations (max_iter) or scale the data as shown in:\n",
      "    https://scikit-learn.org/stable/modules/preprocessing.html\n",
      "  self.n_iter_ = _check_optimize_result(\"lbfgs\", opt_res, self.max_iter)\n"
     ]
    },
    {
     "name": "stdout",
     "output_type": "stream",
     "text": [
      "[CV] END activation=relu, batch_size=auto, hidden_layer_sizes=(10,), learning_rate=invscaling, max_iter=1000, solver=lbfgs; total time=   0.2s\n",
      "[CV] END activation=relu, batch_size=auto, hidden_layer_sizes=(10,), learning_rate=invscaling, max_iter=1000, solver=lbfgs; total time=   0.1s\n",
      "[CV] END activation=relu, batch_size=auto, hidden_layer_sizes=(10,), learning_rate=invscaling, max_iter=1000, solver=sgd; total time=   0.0s\n",
      "[CV] END activation=relu, batch_size=auto, hidden_layer_sizes=(10,), learning_rate=invscaling, max_iter=1000, solver=sgd; total time=   0.1s\n",
      "[CV] END activation=relu, batch_size=auto, hidden_layer_sizes=(10,), learning_rate=invscaling, max_iter=1000, solver=sgd; total time=   0.0s\n",
      "[CV] END activation=relu, batch_size=auto, hidden_layer_sizes=(10,), learning_rate=invscaling, max_iter=1000, solver=sgd; total time=   0.0s\n",
      "[CV] END activation=relu, batch_size=auto, hidden_layer_sizes=(10,), learning_rate=invscaling, max_iter=1000, solver=sgd; total time=   0.0s\n",
      "[CV] END activation=relu, batch_size=auto, hidden_layer_sizes=(10,), learning_rate=invscaling, max_iter=1000, solver=sgd; total time=   0.0s\n",
      "[CV] END activation=relu, batch_size=auto, hidden_layer_sizes=(10,), learning_rate=invscaling, max_iter=1000, solver=sgd; total time=   0.2s\n",
      "[CV] END activation=relu, batch_size=auto, hidden_layer_sizes=(10,), learning_rate=invscaling, max_iter=1000, solver=sgd; total time=   0.0s\n",
      "[CV] END activation=relu, batch_size=auto, hidden_layer_sizes=(10,), learning_rate=invscaling, max_iter=1000, solver=sgd; total time=   0.0s\n",
      "[CV] END activation=relu, batch_size=auto, hidden_layer_sizes=(10,), learning_rate=invscaling, max_iter=1000, solver=sgd; total time=   0.0s\n",
      "[CV] END activation=relu, batch_size=auto, hidden_layer_sizes=(10,), learning_rate=invscaling, max_iter=1000, solver=adam; total time=   0.2s\n",
      "[CV] END activation=relu, batch_size=auto, hidden_layer_sizes=(10,), learning_rate=invscaling, max_iter=1000, solver=adam; total time=   0.2s\n",
      "[CV] END activation=relu, batch_size=auto, hidden_layer_sizes=(10,), learning_rate=invscaling, max_iter=1000, solver=adam; total time=   0.1s\n",
      "[CV] END activation=relu, batch_size=auto, hidden_layer_sizes=(10,), learning_rate=invscaling, max_iter=1000, solver=adam; total time=   0.1s\n",
      "[CV] END activation=relu, batch_size=auto, hidden_layer_sizes=(10,), learning_rate=invscaling, max_iter=1000, solver=adam; total time=   0.3s\n",
      "[CV] END activation=relu, batch_size=auto, hidden_layer_sizes=(10,), learning_rate=invscaling, max_iter=1000, solver=adam; total time=   0.1s\n",
      "[CV] END activation=relu, batch_size=auto, hidden_layer_sizes=(10,), learning_rate=invscaling, max_iter=1000, solver=adam; total time=   0.1s\n",
      "[CV] END activation=relu, batch_size=auto, hidden_layer_sizes=(10,), learning_rate=invscaling, max_iter=1000, solver=adam; total time=   0.2s\n",
      "[CV] END activation=relu, batch_size=auto, hidden_layer_sizes=(10,), learning_rate=invscaling, max_iter=1000, solver=adam; total time=   0.1s\n",
      "[CV] END activation=relu, batch_size=auto, hidden_layer_sizes=(10,), learning_rate=invscaling, max_iter=1000, solver=adam; total time=   0.2s\n",
      "[CV] END activation=relu, batch_size=auto, hidden_layer_sizes=(10,), learning_rate=adaptive, max_iter=1000, solver=lbfgs; total time=   0.2s\n"
     ]
    },
    {
     "name": "stderr",
     "output_type": "stream",
     "text": [
      "/Users/mariusj/Documents/Edu/UMA/lectures/Data Mining/Project/dm1-titanic/.venv/lib/python3.9/site-packages/sklearn/neural_network/_multilayer_perceptron.py:559: ConvergenceWarning: lbfgs failed to converge (status=1):\n",
      "STOP: TOTAL NO. of ITERATIONS REACHED LIMIT.\n",
      "\n",
      "Increase the number of iterations (max_iter) or scale the data as shown in:\n",
      "    https://scikit-learn.org/stable/modules/preprocessing.html\n",
      "  self.n_iter_ = _check_optimize_result(\"lbfgs\", opt_res, self.max_iter)\n"
     ]
    },
    {
     "name": "stdout",
     "output_type": "stream",
     "text": [
      "[CV] END activation=relu, batch_size=auto, hidden_layer_sizes=(10,), learning_rate=adaptive, max_iter=1000, solver=lbfgs; total time=   0.1s\n",
      "[CV] END activation=relu, batch_size=auto, hidden_layer_sizes=(10,), learning_rate=adaptive, max_iter=1000, solver=lbfgs; total time=   0.1s\n",
      "[CV] END activation=relu, batch_size=auto, hidden_layer_sizes=(10,), learning_rate=adaptive, max_iter=1000, solver=lbfgs; total time=   0.1s\n",
      "[CV] END activation=relu, batch_size=auto, hidden_layer_sizes=(10,), learning_rate=adaptive, max_iter=1000, solver=lbfgs; total time=   0.1s\n",
      "[CV] END activation=relu, batch_size=auto, hidden_layer_sizes=(10,), learning_rate=adaptive, max_iter=1000, solver=lbfgs; total time=   0.2s\n",
      "[CV] END activation=relu, batch_size=auto, hidden_layer_sizes=(10,), learning_rate=adaptive, max_iter=1000, solver=lbfgs; total time=   0.2s\n"
     ]
    },
    {
     "name": "stderr",
     "output_type": "stream",
     "text": [
      "/Users/mariusj/Documents/Edu/UMA/lectures/Data Mining/Project/dm1-titanic/.venv/lib/python3.9/site-packages/sklearn/neural_network/_multilayer_perceptron.py:559: ConvergenceWarning: lbfgs failed to converge (status=1):\n",
      "STOP: TOTAL NO. of ITERATIONS REACHED LIMIT.\n",
      "\n",
      "Increase the number of iterations (max_iter) or scale the data as shown in:\n",
      "    https://scikit-learn.org/stable/modules/preprocessing.html\n",
      "  self.n_iter_ = _check_optimize_result(\"lbfgs\", opt_res, self.max_iter)\n"
     ]
    },
    {
     "name": "stdout",
     "output_type": "stream",
     "text": [
      "[CV] END activation=relu, batch_size=auto, hidden_layer_sizes=(10,), learning_rate=adaptive, max_iter=1000, solver=lbfgs; total time=   0.2s\n",
      "[CV] END activation=relu, batch_size=auto, hidden_layer_sizes=(10,), learning_rate=adaptive, max_iter=1000, solver=lbfgs; total time=   0.2s\n"
     ]
    },
    {
     "name": "stderr",
     "output_type": "stream",
     "text": [
      "/Users/mariusj/Documents/Edu/UMA/lectures/Data Mining/Project/dm1-titanic/.venv/lib/python3.9/site-packages/sklearn/neural_network/_multilayer_perceptron.py:559: ConvergenceWarning: lbfgs failed to converge (status=1):\n",
      "STOP: TOTAL NO. of ITERATIONS REACHED LIMIT.\n",
      "\n",
      "Increase the number of iterations (max_iter) or scale the data as shown in:\n",
      "    https://scikit-learn.org/stable/modules/preprocessing.html\n",
      "  self.n_iter_ = _check_optimize_result(\"lbfgs\", opt_res, self.max_iter)\n",
      "/Users/mariusj/Documents/Edu/UMA/lectures/Data Mining/Project/dm1-titanic/.venv/lib/python3.9/site-packages/sklearn/neural_network/_multilayer_perceptron.py:559: ConvergenceWarning: lbfgs failed to converge (status=1):\n",
      "STOP: TOTAL NO. of ITERATIONS REACHED LIMIT.\n",
      "\n",
      "Increase the number of iterations (max_iter) or scale the data as shown in:\n",
      "    https://scikit-learn.org/stable/modules/preprocessing.html\n",
      "  self.n_iter_ = _check_optimize_result(\"lbfgs\", opt_res, self.max_iter)\n"
     ]
    },
    {
     "name": "stdout",
     "output_type": "stream",
     "text": [
      "[CV] END activation=relu, batch_size=auto, hidden_layer_sizes=(10,), learning_rate=adaptive, max_iter=1000, solver=lbfgs; total time=   0.2s\n",
      "[CV] END activation=relu, batch_size=auto, hidden_layer_sizes=(10,), learning_rate=adaptive, max_iter=1000, solver=sgd; total time=   0.2s\n",
      "[CV] END activation=relu, batch_size=auto, hidden_layer_sizes=(10,), learning_rate=adaptive, max_iter=1000, solver=sgd; total time=   0.2s\n",
      "[CV] END activation=relu, batch_size=auto, hidden_layer_sizes=(10,), learning_rate=adaptive, max_iter=1000, solver=sgd; total time=   0.2s\n",
      "[CV] END activation=relu, batch_size=auto, hidden_layer_sizes=(10,), learning_rate=adaptive, max_iter=1000, solver=sgd; total time=   0.2s\n",
      "[CV] END activation=relu, batch_size=auto, hidden_layer_sizes=(10,), learning_rate=adaptive, max_iter=1000, solver=sgd; total time=   0.2s\n",
      "[CV] END activation=relu, batch_size=auto, hidden_layer_sizes=(10,), learning_rate=adaptive, max_iter=1000, solver=sgd; total time=   0.2s\n",
      "[CV] END activation=relu, batch_size=auto, hidden_layer_sizes=(10,), learning_rate=adaptive, max_iter=1000, solver=sgd; total time=   0.2s\n",
      "[CV] END activation=relu, batch_size=auto, hidden_layer_sizes=(10,), learning_rate=adaptive, max_iter=1000, solver=sgd; total time=   0.2s\n",
      "[CV] END activation=relu, batch_size=auto, hidden_layer_sizes=(10,), learning_rate=adaptive, max_iter=1000, solver=sgd; total time=   0.2s\n",
      "[CV] END activation=relu, batch_size=auto, hidden_layer_sizes=(10,), learning_rate=adaptive, max_iter=1000, solver=sgd; total time=   0.2s\n",
      "[CV] END activation=relu, batch_size=auto, hidden_layer_sizes=(10,), learning_rate=adaptive, max_iter=1000, solver=adam; total time=   0.2s\n",
      "[CV] END activation=relu, batch_size=auto, hidden_layer_sizes=(10,), learning_rate=adaptive, max_iter=1000, solver=adam; total time=   0.2s\n",
      "[CV] END activation=relu, batch_size=auto, hidden_layer_sizes=(10,), learning_rate=adaptive, max_iter=1000, solver=adam; total time=   0.1s\n",
      "[CV] END activation=relu, batch_size=auto, hidden_layer_sizes=(10,), learning_rate=adaptive, max_iter=1000, solver=adam; total time=   0.2s\n",
      "[CV] END activation=relu, batch_size=auto, hidden_layer_sizes=(10,), learning_rate=adaptive, max_iter=1000, solver=adam; total time=   0.1s\n",
      "[CV] END activation=relu, batch_size=auto, hidden_layer_sizes=(10,), learning_rate=adaptive, max_iter=1000, solver=adam; total time=   0.3s\n",
      "[CV] END activation=relu, batch_size=auto, hidden_layer_sizes=(10,), learning_rate=adaptive, max_iter=1000, solver=adam; total time=   0.2s\n",
      "[CV] END activation=relu, batch_size=auto, hidden_layer_sizes=(10,), learning_rate=adaptive, max_iter=1000, solver=adam; total time=   0.3s\n",
      "[CV] END activation=relu, batch_size=auto, hidden_layer_sizes=(10,), learning_rate=adaptive, max_iter=1000, solver=adam; total time=   0.2s\n",
      "[CV] END activation=relu, batch_size=auto, hidden_layer_sizes=(10,), learning_rate=adaptive, max_iter=1000, solver=adam; total time=   0.1s\n"
     ]
    },
    {
     "name": "stderr",
     "output_type": "stream",
     "text": [
      "/Users/mariusj/Documents/Edu/UMA/lectures/Data Mining/Project/dm1-titanic/.venv/lib/python3.9/site-packages/sklearn/neural_network/_multilayer_perceptron.py:559: ConvergenceWarning: lbfgs failed to converge (status=1):\n",
      "STOP: TOTAL NO. of ITERATIONS REACHED LIMIT.\n",
      "\n",
      "Increase the number of iterations (max_iter) or scale the data as shown in:\n",
      "    https://scikit-learn.org/stable/modules/preprocessing.html\n",
      "  self.n_iter_ = _check_optimize_result(\"lbfgs\", opt_res, self.max_iter)\n"
     ]
    },
    {
     "name": "stdout",
     "output_type": "stream",
     "text": [
      "[CV] END activation=relu, batch_size=auto, hidden_layer_sizes=(25,), learning_rate=constant, max_iter=1000, solver=lbfgs; total time=   1.9s\n",
      "[CV] END activation=relu, batch_size=auto, hidden_layer_sizes=(25,), learning_rate=constant, max_iter=1000, solver=lbfgs; total time=   1.1s\n"
     ]
    },
    {
     "name": "stderr",
     "output_type": "stream",
     "text": [
      "/Users/mariusj/Documents/Edu/UMA/lectures/Data Mining/Project/dm1-titanic/.venv/lib/python3.9/site-packages/sklearn/neural_network/_multilayer_perceptron.py:559: ConvergenceWarning: lbfgs failed to converge (status=1):\n",
      "STOP: TOTAL NO. of ITERATIONS REACHED LIMIT.\n",
      "\n",
      "Increase the number of iterations (max_iter) or scale the data as shown in:\n",
      "    https://scikit-learn.org/stable/modules/preprocessing.html\n",
      "  self.n_iter_ = _check_optimize_result(\"lbfgs\", opt_res, self.max_iter)\n"
     ]
    },
    {
     "name": "stdout",
     "output_type": "stream",
     "text": [
      "[CV] END activation=relu, batch_size=auto, hidden_layer_sizes=(25,), learning_rate=constant, max_iter=1000, solver=lbfgs; total time=   2.2s\n"
     ]
    },
    {
     "name": "stderr",
     "output_type": "stream",
     "text": [
      "/Users/mariusj/Documents/Edu/UMA/lectures/Data Mining/Project/dm1-titanic/.venv/lib/python3.9/site-packages/sklearn/neural_network/_multilayer_perceptron.py:559: ConvergenceWarning: lbfgs failed to converge (status=1):\n",
      "STOP: TOTAL NO. of ITERATIONS REACHED LIMIT.\n",
      "\n",
      "Increase the number of iterations (max_iter) or scale the data as shown in:\n",
      "    https://scikit-learn.org/stable/modules/preprocessing.html\n",
      "  self.n_iter_ = _check_optimize_result(\"lbfgs\", opt_res, self.max_iter)\n"
     ]
    },
    {
     "name": "stdout",
     "output_type": "stream",
     "text": [
      "[CV] END activation=relu, batch_size=auto, hidden_layer_sizes=(25,), learning_rate=constant, max_iter=1000, solver=lbfgs; total time=   1.6s\n"
     ]
    },
    {
     "name": "stderr",
     "output_type": "stream",
     "text": [
      "/Users/mariusj/Documents/Edu/UMA/lectures/Data Mining/Project/dm1-titanic/.venv/lib/python3.9/site-packages/sklearn/neural_network/_multilayer_perceptron.py:559: ConvergenceWarning: lbfgs failed to converge (status=1):\n",
      "STOP: TOTAL NO. of ITERATIONS REACHED LIMIT.\n",
      "\n",
      "Increase the number of iterations (max_iter) or scale the data as shown in:\n",
      "    https://scikit-learn.org/stable/modules/preprocessing.html\n",
      "  self.n_iter_ = _check_optimize_result(\"lbfgs\", opt_res, self.max_iter)\n"
     ]
    },
    {
     "name": "stdout",
     "output_type": "stream",
     "text": [
      "[CV] END activation=relu, batch_size=auto, hidden_layer_sizes=(25,), learning_rate=constant, max_iter=1000, solver=lbfgs; total time=   2.5s\n"
     ]
    },
    {
     "name": "stderr",
     "output_type": "stream",
     "text": [
      "/Users/mariusj/Documents/Edu/UMA/lectures/Data Mining/Project/dm1-titanic/.venv/lib/python3.9/site-packages/sklearn/neural_network/_multilayer_perceptron.py:559: ConvergenceWarning: lbfgs failed to converge (status=1):\n",
      "STOP: TOTAL NO. of ITERATIONS REACHED LIMIT.\n",
      "\n",
      "Increase the number of iterations (max_iter) or scale the data as shown in:\n",
      "    https://scikit-learn.org/stable/modules/preprocessing.html\n",
      "  self.n_iter_ = _check_optimize_result(\"lbfgs\", opt_res, self.max_iter)\n"
     ]
    },
    {
     "name": "stdout",
     "output_type": "stream",
     "text": [
      "[CV] END activation=relu, batch_size=auto, hidden_layer_sizes=(25,), learning_rate=constant, max_iter=1000, solver=lbfgs; total time=   0.9s\n",
      "[CV] END activation=relu, batch_size=auto, hidden_layer_sizes=(25,), learning_rate=constant, max_iter=1000, solver=lbfgs; total time=   1.0s\n"
     ]
    },
    {
     "name": "stderr",
     "output_type": "stream",
     "text": [
      "/Users/mariusj/Documents/Edu/UMA/lectures/Data Mining/Project/dm1-titanic/.venv/lib/python3.9/site-packages/sklearn/neural_network/_multilayer_perceptron.py:559: ConvergenceWarning: lbfgs failed to converge (status=1):\n",
      "STOP: TOTAL NO. of ITERATIONS REACHED LIMIT.\n",
      "\n",
      "Increase the number of iterations (max_iter) or scale the data as shown in:\n",
      "    https://scikit-learn.org/stable/modules/preprocessing.html\n",
      "  self.n_iter_ = _check_optimize_result(\"lbfgs\", opt_res, self.max_iter)\n"
     ]
    },
    {
     "name": "stdout",
     "output_type": "stream",
     "text": [
      "[CV] END activation=relu, batch_size=auto, hidden_layer_sizes=(25,), learning_rate=constant, max_iter=1000, solver=lbfgs; total time=   0.9s\n",
      "[CV] END activation=relu, batch_size=auto, hidden_layer_sizes=(25,), learning_rate=constant, max_iter=1000, solver=lbfgs; total time=   0.9s\n"
     ]
    },
    {
     "name": "stderr",
     "output_type": "stream",
     "text": [
      "/Users/mariusj/Documents/Edu/UMA/lectures/Data Mining/Project/dm1-titanic/.venv/lib/python3.9/site-packages/sklearn/neural_network/_multilayer_perceptron.py:559: ConvergenceWarning: lbfgs failed to converge (status=1):\n",
      "STOP: TOTAL NO. of ITERATIONS REACHED LIMIT.\n",
      "\n",
      "Increase the number of iterations (max_iter) or scale the data as shown in:\n",
      "    https://scikit-learn.org/stable/modules/preprocessing.html\n",
      "  self.n_iter_ = _check_optimize_result(\"lbfgs\", opt_res, self.max_iter)\n"
     ]
    },
    {
     "name": "stdout",
     "output_type": "stream",
     "text": [
      "[CV] END activation=relu, batch_size=auto, hidden_layer_sizes=(25,), learning_rate=constant, max_iter=1000, solver=lbfgs; total time=   0.8s\n",
      "[CV] END activation=relu, batch_size=auto, hidden_layer_sizes=(25,), learning_rate=constant, max_iter=1000, solver=sgd; total time=   0.2s\n",
      "[CV] END activation=relu, batch_size=auto, hidden_layer_sizes=(25,), learning_rate=constant, max_iter=1000, solver=sgd; total time=   0.2s\n",
      "[CV] END activation=relu, batch_size=auto, hidden_layer_sizes=(25,), learning_rate=constant, max_iter=1000, solver=sgd; total time=   0.2s\n",
      "[CV] END activation=relu, batch_size=auto, hidden_layer_sizes=(25,), learning_rate=constant, max_iter=1000, solver=sgd; total time=   0.2s\n",
      "[CV] END activation=relu, batch_size=auto, hidden_layer_sizes=(25,), learning_rate=constant, max_iter=1000, solver=sgd; total time=   0.2s\n",
      "[CV] END activation=relu, batch_size=auto, hidden_layer_sizes=(25,), learning_rate=constant, max_iter=1000, solver=sgd; total time=   0.2s\n",
      "[CV] END activation=relu, batch_size=auto, hidden_layer_sizes=(25,), learning_rate=constant, max_iter=1000, solver=sgd; total time=   0.2s\n",
      "[CV] END activation=relu, batch_size=auto, hidden_layer_sizes=(25,), learning_rate=constant, max_iter=1000, solver=sgd; total time=   0.2s\n",
      "[CV] END activation=relu, batch_size=auto, hidden_layer_sizes=(25,), learning_rate=constant, max_iter=1000, solver=sgd; total time=   0.2s\n",
      "[CV] END activation=relu, batch_size=auto, hidden_layer_sizes=(25,), learning_rate=constant, max_iter=1000, solver=sgd; total time=   0.2s\n"
     ]
    },
    {
     "name": "stderr",
     "output_type": "stream",
     "text": [
      "/Users/mariusj/Documents/Edu/UMA/lectures/Data Mining/Project/dm1-titanic/.venv/lib/python3.9/site-packages/sklearn/neural_network/_multilayer_perceptron.py:702: ConvergenceWarning: Stochastic Optimizer: Maximum iterations (1000) reached and the optimization hasn't converged yet.\n",
      "  warnings.warn(\n"
     ]
    },
    {
     "name": "stdout",
     "output_type": "stream",
     "text": [
      "[CV] END activation=relu, batch_size=auto, hidden_layer_sizes=(25,), learning_rate=constant, max_iter=1000, solver=adam; total time=   0.4s\n"
     ]
    },
    {
     "name": "stderr",
     "output_type": "stream",
     "text": [
      "/Users/mariusj/Documents/Edu/UMA/lectures/Data Mining/Project/dm1-titanic/.venv/lib/python3.9/site-packages/sklearn/neural_network/_multilayer_perceptron.py:702: ConvergenceWarning: Stochastic Optimizer: Maximum iterations (1000) reached and the optimization hasn't converged yet.\n",
      "  warnings.warn(\n"
     ]
    },
    {
     "name": "stdout",
     "output_type": "stream",
     "text": [
      "[CV] END activation=relu, batch_size=auto, hidden_layer_sizes=(25,), learning_rate=constant, max_iter=1000, solver=adam; total time=   0.4s\n"
     ]
    },
    {
     "name": "stderr",
     "output_type": "stream",
     "text": [
      "/Users/mariusj/Documents/Edu/UMA/lectures/Data Mining/Project/dm1-titanic/.venv/lib/python3.9/site-packages/sklearn/neural_network/_multilayer_perceptron.py:702: ConvergenceWarning: Stochastic Optimizer: Maximum iterations (1000) reached and the optimization hasn't converged yet.\n",
      "  warnings.warn(\n"
     ]
    },
    {
     "name": "stdout",
     "output_type": "stream",
     "text": [
      "[CV] END activation=relu, batch_size=auto, hidden_layer_sizes=(25,), learning_rate=constant, max_iter=1000, solver=adam; total time=   0.4s\n"
     ]
    },
    {
     "name": "stderr",
     "output_type": "stream",
     "text": [
      "/Users/mariusj/Documents/Edu/UMA/lectures/Data Mining/Project/dm1-titanic/.venv/lib/python3.9/site-packages/sklearn/neural_network/_multilayer_perceptron.py:702: ConvergenceWarning: Stochastic Optimizer: Maximum iterations (1000) reached and the optimization hasn't converged yet.\n",
      "  warnings.warn(\n"
     ]
    },
    {
     "name": "stdout",
     "output_type": "stream",
     "text": [
      "[CV] END activation=relu, batch_size=auto, hidden_layer_sizes=(25,), learning_rate=constant, max_iter=1000, solver=adam; total time=   0.4s\n"
     ]
    },
    {
     "name": "stderr",
     "output_type": "stream",
     "text": [
      "/Users/mariusj/Documents/Edu/UMA/lectures/Data Mining/Project/dm1-titanic/.venv/lib/python3.9/site-packages/sklearn/neural_network/_multilayer_perceptron.py:702: ConvergenceWarning: Stochastic Optimizer: Maximum iterations (1000) reached and the optimization hasn't converged yet.\n",
      "  warnings.warn(\n"
     ]
    },
    {
     "name": "stdout",
     "output_type": "stream",
     "text": [
      "[CV] END activation=relu, batch_size=auto, hidden_layer_sizes=(25,), learning_rate=constant, max_iter=1000, solver=adam; total time=   0.4s\n"
     ]
    },
    {
     "name": "stderr",
     "output_type": "stream",
     "text": [
      "/Users/mariusj/Documents/Edu/UMA/lectures/Data Mining/Project/dm1-titanic/.venv/lib/python3.9/site-packages/sklearn/neural_network/_multilayer_perceptron.py:702: ConvergenceWarning: Stochastic Optimizer: Maximum iterations (1000) reached and the optimization hasn't converged yet.\n",
      "  warnings.warn(\n"
     ]
    },
    {
     "name": "stdout",
     "output_type": "stream",
     "text": [
      "[CV] END activation=relu, batch_size=auto, hidden_layer_sizes=(25,), learning_rate=constant, max_iter=1000, solver=adam; total time=   0.4s\n"
     ]
    },
    {
     "name": "stderr",
     "output_type": "stream",
     "text": [
      "/Users/mariusj/Documents/Edu/UMA/lectures/Data Mining/Project/dm1-titanic/.venv/lib/python3.9/site-packages/sklearn/neural_network/_multilayer_perceptron.py:702: ConvergenceWarning: Stochastic Optimizer: Maximum iterations (1000) reached and the optimization hasn't converged yet.\n",
      "  warnings.warn(\n"
     ]
    },
    {
     "name": "stdout",
     "output_type": "stream",
     "text": [
      "[CV] END activation=relu, batch_size=auto, hidden_layer_sizes=(25,), learning_rate=constant, max_iter=1000, solver=adam; total time=   0.4s\n"
     ]
    },
    {
     "name": "stderr",
     "output_type": "stream",
     "text": [
      "/Users/mariusj/Documents/Edu/UMA/lectures/Data Mining/Project/dm1-titanic/.venv/lib/python3.9/site-packages/sklearn/neural_network/_multilayer_perceptron.py:702: ConvergenceWarning: Stochastic Optimizer: Maximum iterations (1000) reached and the optimization hasn't converged yet.\n",
      "  warnings.warn(\n"
     ]
    },
    {
     "name": "stdout",
     "output_type": "stream",
     "text": [
      "[CV] END activation=relu, batch_size=auto, hidden_layer_sizes=(25,), learning_rate=constant, max_iter=1000, solver=adam; total time=   0.4s\n"
     ]
    },
    {
     "name": "stderr",
     "output_type": "stream",
     "text": [
      "/Users/mariusj/Documents/Edu/UMA/lectures/Data Mining/Project/dm1-titanic/.venv/lib/python3.9/site-packages/sklearn/neural_network/_multilayer_perceptron.py:702: ConvergenceWarning: Stochastic Optimizer: Maximum iterations (1000) reached and the optimization hasn't converged yet.\n",
      "  warnings.warn(\n"
     ]
    },
    {
     "name": "stdout",
     "output_type": "stream",
     "text": [
      "[CV] END activation=relu, batch_size=auto, hidden_layer_sizes=(25,), learning_rate=constant, max_iter=1000, solver=adam; total time=   0.4s\n"
     ]
    },
    {
     "name": "stderr",
     "output_type": "stream",
     "text": [
      "/Users/mariusj/Documents/Edu/UMA/lectures/Data Mining/Project/dm1-titanic/.venv/lib/python3.9/site-packages/sklearn/neural_network/_multilayer_perceptron.py:702: ConvergenceWarning: Stochastic Optimizer: Maximum iterations (1000) reached and the optimization hasn't converged yet.\n",
      "  warnings.warn(\n"
     ]
    },
    {
     "name": "stdout",
     "output_type": "stream",
     "text": [
      "[CV] END activation=relu, batch_size=auto, hidden_layer_sizes=(25,), learning_rate=constant, max_iter=1000, solver=adam; total time=   0.4s\n"
     ]
    },
    {
     "name": "stderr",
     "output_type": "stream",
     "text": [
      "/Users/mariusj/Documents/Edu/UMA/lectures/Data Mining/Project/dm1-titanic/.venv/lib/python3.9/site-packages/sklearn/neural_network/_multilayer_perceptron.py:559: ConvergenceWarning: lbfgs failed to converge (status=1):\n",
      "STOP: TOTAL NO. of ITERATIONS REACHED LIMIT.\n",
      "\n",
      "Increase the number of iterations (max_iter) or scale the data as shown in:\n",
      "    https://scikit-learn.org/stable/modules/preprocessing.html\n",
      "  self.n_iter_ = _check_optimize_result(\"lbfgs\", opt_res, self.max_iter)\n"
     ]
    },
    {
     "name": "stdout",
     "output_type": "stream",
     "text": [
      "[CV] END activation=relu, batch_size=auto, hidden_layer_sizes=(25,), learning_rate=invscaling, max_iter=1000, solver=lbfgs; total time=   0.8s\n"
     ]
    },
    {
     "name": "stderr",
     "output_type": "stream",
     "text": [
      "/Users/mariusj/Documents/Edu/UMA/lectures/Data Mining/Project/dm1-titanic/.venv/lib/python3.9/site-packages/sklearn/neural_network/_multilayer_perceptron.py:559: ConvergenceWarning: lbfgs failed to converge (status=1):\n",
      "STOP: TOTAL NO. of ITERATIONS REACHED LIMIT.\n",
      "\n",
      "Increase the number of iterations (max_iter) or scale the data as shown in:\n",
      "    https://scikit-learn.org/stable/modules/preprocessing.html\n",
      "  self.n_iter_ = _check_optimize_result(\"lbfgs\", opt_res, self.max_iter)\n"
     ]
    },
    {
     "name": "stdout",
     "output_type": "stream",
     "text": [
      "[CV] END activation=relu, batch_size=auto, hidden_layer_sizes=(25,), learning_rate=invscaling, max_iter=1000, solver=lbfgs; total time=   1.2s\n"
     ]
    },
    {
     "name": "stderr",
     "output_type": "stream",
     "text": [
      "/Users/mariusj/Documents/Edu/UMA/lectures/Data Mining/Project/dm1-titanic/.venv/lib/python3.9/site-packages/sklearn/neural_network/_multilayer_perceptron.py:559: ConvergenceWarning: lbfgs failed to converge (status=1):\n",
      "STOP: TOTAL NO. of ITERATIONS REACHED LIMIT.\n",
      "\n",
      "Increase the number of iterations (max_iter) or scale the data as shown in:\n",
      "    https://scikit-learn.org/stable/modules/preprocessing.html\n",
      "  self.n_iter_ = _check_optimize_result(\"lbfgs\", opt_res, self.max_iter)\n"
     ]
    },
    {
     "name": "stdout",
     "output_type": "stream",
     "text": [
      "[CV] END activation=relu, batch_size=auto, hidden_layer_sizes=(25,), learning_rate=invscaling, max_iter=1000, solver=lbfgs; total time=   1.1s\n"
     ]
    },
    {
     "name": "stderr",
     "output_type": "stream",
     "text": [
      "/Users/mariusj/Documents/Edu/UMA/lectures/Data Mining/Project/dm1-titanic/.venv/lib/python3.9/site-packages/sklearn/neural_network/_multilayer_perceptron.py:559: ConvergenceWarning: lbfgs failed to converge (status=1):\n",
      "STOP: TOTAL NO. of ITERATIONS REACHED LIMIT.\n",
      "\n",
      "Increase the number of iterations (max_iter) or scale the data as shown in:\n",
      "    https://scikit-learn.org/stable/modules/preprocessing.html\n",
      "  self.n_iter_ = _check_optimize_result(\"lbfgs\", opt_res, self.max_iter)\n"
     ]
    },
    {
     "name": "stdout",
     "output_type": "stream",
     "text": [
      "[CV] END activation=relu, batch_size=auto, hidden_layer_sizes=(25,), learning_rate=invscaling, max_iter=1000, solver=lbfgs; total time=   1.3s\n"
     ]
    },
    {
     "name": "stderr",
     "output_type": "stream",
     "text": [
      "/Users/mariusj/Documents/Edu/UMA/lectures/Data Mining/Project/dm1-titanic/.venv/lib/python3.9/site-packages/sklearn/neural_network/_multilayer_perceptron.py:559: ConvergenceWarning: lbfgs failed to converge (status=1):\n",
      "STOP: TOTAL NO. of ITERATIONS REACHED LIMIT.\n",
      "\n",
      "Increase the number of iterations (max_iter) or scale the data as shown in:\n",
      "    https://scikit-learn.org/stable/modules/preprocessing.html\n",
      "  self.n_iter_ = _check_optimize_result(\"lbfgs\", opt_res, self.max_iter)\n"
     ]
    },
    {
     "name": "stdout",
     "output_type": "stream",
     "text": [
      "[CV] END activation=relu, batch_size=auto, hidden_layer_sizes=(25,), learning_rate=invscaling, max_iter=1000, solver=lbfgs; total time=   1.0s\n",
      "[CV] END activation=relu, batch_size=auto, hidden_layer_sizes=(25,), learning_rate=invscaling, max_iter=1000, solver=lbfgs; total time=   0.8s\n"
     ]
    },
    {
     "name": "stderr",
     "output_type": "stream",
     "text": [
      "/Users/mariusj/Documents/Edu/UMA/lectures/Data Mining/Project/dm1-titanic/.venv/lib/python3.9/site-packages/sklearn/neural_network/_multilayer_perceptron.py:559: ConvergenceWarning: lbfgs failed to converge (status=1):\n",
      "STOP: TOTAL NO. of ITERATIONS REACHED LIMIT.\n",
      "\n",
      "Increase the number of iterations (max_iter) or scale the data as shown in:\n",
      "    https://scikit-learn.org/stable/modules/preprocessing.html\n",
      "  self.n_iter_ = _check_optimize_result(\"lbfgs\", opt_res, self.max_iter)\n"
     ]
    },
    {
     "name": "stdout",
     "output_type": "stream",
     "text": [
      "[CV] END activation=relu, batch_size=auto, hidden_layer_sizes=(25,), learning_rate=invscaling, max_iter=1000, solver=lbfgs; total time=   1.0s\n"
     ]
    },
    {
     "name": "stderr",
     "output_type": "stream",
     "text": [
      "/Users/mariusj/Documents/Edu/UMA/lectures/Data Mining/Project/dm1-titanic/.venv/lib/python3.9/site-packages/sklearn/neural_network/_multilayer_perceptron.py:559: ConvergenceWarning: lbfgs failed to converge (status=1):\n",
      "STOP: TOTAL NO. of ITERATIONS REACHED LIMIT.\n",
      "\n",
      "Increase the number of iterations (max_iter) or scale the data as shown in:\n",
      "    https://scikit-learn.org/stable/modules/preprocessing.html\n",
      "  self.n_iter_ = _check_optimize_result(\"lbfgs\", opt_res, self.max_iter)\n"
     ]
    },
    {
     "name": "stdout",
     "output_type": "stream",
     "text": [
      "[CV] END activation=relu, batch_size=auto, hidden_layer_sizes=(25,), learning_rate=invscaling, max_iter=1000, solver=lbfgs; total time=   0.9s\n"
     ]
    },
    {
     "name": "stderr",
     "output_type": "stream",
     "text": [
      "/Users/mariusj/Documents/Edu/UMA/lectures/Data Mining/Project/dm1-titanic/.venv/lib/python3.9/site-packages/sklearn/neural_network/_multilayer_perceptron.py:559: ConvergenceWarning: lbfgs failed to converge (status=1):\n",
      "STOP: TOTAL NO. of ITERATIONS REACHED LIMIT.\n",
      "\n",
      "Increase the number of iterations (max_iter) or scale the data as shown in:\n",
      "    https://scikit-learn.org/stable/modules/preprocessing.html\n",
      "  self.n_iter_ = _check_optimize_result(\"lbfgs\", opt_res, self.max_iter)\n"
     ]
    },
    {
     "name": "stdout",
     "output_type": "stream",
     "text": [
      "[CV] END activation=relu, batch_size=auto, hidden_layer_sizes=(25,), learning_rate=invscaling, max_iter=1000, solver=lbfgs; total time=   0.6s\n"
     ]
    },
    {
     "name": "stderr",
     "output_type": "stream",
     "text": [
      "/Users/mariusj/Documents/Edu/UMA/lectures/Data Mining/Project/dm1-titanic/.venv/lib/python3.9/site-packages/sklearn/neural_network/_multilayer_perceptron.py:559: ConvergenceWarning: lbfgs failed to converge (status=1):\n",
      "STOP: TOTAL NO. of ITERATIONS REACHED LIMIT.\n",
      "\n",
      "Increase the number of iterations (max_iter) or scale the data as shown in:\n",
      "    https://scikit-learn.org/stable/modules/preprocessing.html\n",
      "  self.n_iter_ = _check_optimize_result(\"lbfgs\", opt_res, self.max_iter)\n"
     ]
    },
    {
     "name": "stdout",
     "output_type": "stream",
     "text": [
      "[CV] END activation=relu, batch_size=auto, hidden_layer_sizes=(25,), learning_rate=invscaling, max_iter=1000, solver=lbfgs; total time=   1.3s\n",
      "[CV] END activation=relu, batch_size=auto, hidden_layer_sizes=(25,), learning_rate=invscaling, max_iter=1000, solver=sgd; total time=   0.1s\n",
      "[CV] END activation=relu, batch_size=auto, hidden_layer_sizes=(25,), learning_rate=invscaling, max_iter=1000, solver=sgd; total time=   0.3s\n",
      "[CV] END activation=relu, batch_size=auto, hidden_layer_sizes=(25,), learning_rate=invscaling, max_iter=1000, solver=sgd; total time=   0.1s\n"
     ]
    },
    {
     "name": "stderr",
     "output_type": "stream",
     "text": [
      "/Users/mariusj/Documents/Edu/UMA/lectures/Data Mining/Project/dm1-titanic/.venv/lib/python3.9/site-packages/sklearn/neural_network/_multilayer_perceptron.py:702: ConvergenceWarning: Stochastic Optimizer: Maximum iterations (1000) reached and the optimization hasn't converged yet.\n",
      "  warnings.warn(\n"
     ]
    },
    {
     "name": "stdout",
     "output_type": "stream",
     "text": [
      "[CV] END activation=relu, batch_size=auto, hidden_layer_sizes=(25,), learning_rate=invscaling, max_iter=1000, solver=sgd; total time=   0.3s\n",
      "[CV] END activation=relu, batch_size=auto, hidden_layer_sizes=(25,), learning_rate=invscaling, max_iter=1000, solver=sgd; total time=   0.1s\n",
      "[CV] END activation=relu, batch_size=auto, hidden_layer_sizes=(25,), learning_rate=invscaling, max_iter=1000, solver=sgd; total time=   0.0s\n"
     ]
    },
    {
     "name": "stderr",
     "output_type": "stream",
     "text": [
      "/Users/mariusj/Documents/Edu/UMA/lectures/Data Mining/Project/dm1-titanic/.venv/lib/python3.9/site-packages/sklearn/neural_network/_multilayer_perceptron.py:702: ConvergenceWarning: Stochastic Optimizer: Maximum iterations (1000) reached and the optimization hasn't converged yet.\n",
      "  warnings.warn(\n"
     ]
    },
    {
     "name": "stdout",
     "output_type": "stream",
     "text": [
      "[CV] END activation=relu, batch_size=auto, hidden_layer_sizes=(25,), learning_rate=invscaling, max_iter=1000, solver=sgd; total time=   0.3s\n",
      "[CV] END activation=relu, batch_size=auto, hidden_layer_sizes=(25,), learning_rate=invscaling, max_iter=1000, solver=sgd; total time=   0.0s\n",
      "[CV] END activation=relu, batch_size=auto, hidden_layer_sizes=(25,), learning_rate=invscaling, max_iter=1000, solver=sgd; total time=   0.0s\n",
      "[CV] END activation=relu, batch_size=auto, hidden_layer_sizes=(25,), learning_rate=invscaling, max_iter=1000, solver=sgd; total time=   0.1s\n",
      "[CV] END activation=relu, batch_size=auto, hidden_layer_sizes=(25,), learning_rate=invscaling, max_iter=1000, solver=adam; total time=   0.4s\n"
     ]
    },
    {
     "name": "stderr",
     "output_type": "stream",
     "text": [
      "/Users/mariusj/Documents/Edu/UMA/lectures/Data Mining/Project/dm1-titanic/.venv/lib/python3.9/site-packages/sklearn/neural_network/_multilayer_perceptron.py:702: ConvergenceWarning: Stochastic Optimizer: Maximum iterations (1000) reached and the optimization hasn't converged yet.\n",
      "  warnings.warn(\n"
     ]
    },
    {
     "name": "stdout",
     "output_type": "stream",
     "text": [
      "[CV] END activation=relu, batch_size=auto, hidden_layer_sizes=(25,), learning_rate=invscaling, max_iter=1000, solver=adam; total time=   0.4s\n"
     ]
    },
    {
     "name": "stderr",
     "output_type": "stream",
     "text": [
      "/Users/mariusj/Documents/Edu/UMA/lectures/Data Mining/Project/dm1-titanic/.venv/lib/python3.9/site-packages/sklearn/neural_network/_multilayer_perceptron.py:702: ConvergenceWarning: Stochastic Optimizer: Maximum iterations (1000) reached and the optimization hasn't converged yet.\n",
      "  warnings.warn(\n"
     ]
    },
    {
     "name": "stdout",
     "output_type": "stream",
     "text": [
      "[CV] END activation=relu, batch_size=auto, hidden_layer_sizes=(25,), learning_rate=invscaling, max_iter=1000, solver=adam; total time=   0.4s\n"
     ]
    },
    {
     "name": "stderr",
     "output_type": "stream",
     "text": [
      "/Users/mariusj/Documents/Edu/UMA/lectures/Data Mining/Project/dm1-titanic/.venv/lib/python3.9/site-packages/sklearn/neural_network/_multilayer_perceptron.py:702: ConvergenceWarning: Stochastic Optimizer: Maximum iterations (1000) reached and the optimization hasn't converged yet.\n",
      "  warnings.warn(\n"
     ]
    },
    {
     "name": "stdout",
     "output_type": "stream",
     "text": [
      "[CV] END activation=relu, batch_size=auto, hidden_layer_sizes=(25,), learning_rate=invscaling, max_iter=1000, solver=adam; total time=   0.4s\n"
     ]
    },
    {
     "name": "stderr",
     "output_type": "stream",
     "text": [
      "/Users/mariusj/Documents/Edu/UMA/lectures/Data Mining/Project/dm1-titanic/.venv/lib/python3.9/site-packages/sklearn/neural_network/_multilayer_perceptron.py:702: ConvergenceWarning: Stochastic Optimizer: Maximum iterations (1000) reached and the optimization hasn't converged yet.\n",
      "  warnings.warn(\n"
     ]
    },
    {
     "name": "stdout",
     "output_type": "stream",
     "text": [
      "[CV] END activation=relu, batch_size=auto, hidden_layer_sizes=(25,), learning_rate=invscaling, max_iter=1000, solver=adam; total time=   0.4s\n"
     ]
    },
    {
     "name": "stderr",
     "output_type": "stream",
     "text": [
      "/Users/mariusj/Documents/Edu/UMA/lectures/Data Mining/Project/dm1-titanic/.venv/lib/python3.9/site-packages/sklearn/neural_network/_multilayer_perceptron.py:702: ConvergenceWarning: Stochastic Optimizer: Maximum iterations (1000) reached and the optimization hasn't converged yet.\n",
      "  warnings.warn(\n"
     ]
    },
    {
     "name": "stdout",
     "output_type": "stream",
     "text": [
      "[CV] END activation=relu, batch_size=auto, hidden_layer_sizes=(25,), learning_rate=invscaling, max_iter=1000, solver=adam; total time=   0.4s\n"
     ]
    },
    {
     "name": "stderr",
     "output_type": "stream",
     "text": [
      "/Users/mariusj/Documents/Edu/UMA/lectures/Data Mining/Project/dm1-titanic/.venv/lib/python3.9/site-packages/sklearn/neural_network/_multilayer_perceptron.py:702: ConvergenceWarning: Stochastic Optimizer: Maximum iterations (1000) reached and the optimization hasn't converged yet.\n",
      "  warnings.warn(\n"
     ]
    },
    {
     "name": "stdout",
     "output_type": "stream",
     "text": [
      "[CV] END activation=relu, batch_size=auto, hidden_layer_sizes=(25,), learning_rate=invscaling, max_iter=1000, solver=adam; total time=   0.4s\n"
     ]
    },
    {
     "name": "stderr",
     "output_type": "stream",
     "text": [
      "/Users/mariusj/Documents/Edu/UMA/lectures/Data Mining/Project/dm1-titanic/.venv/lib/python3.9/site-packages/sklearn/neural_network/_multilayer_perceptron.py:702: ConvergenceWarning: Stochastic Optimizer: Maximum iterations (1000) reached and the optimization hasn't converged yet.\n",
      "  warnings.warn(\n"
     ]
    },
    {
     "name": "stdout",
     "output_type": "stream",
     "text": [
      "[CV] END activation=relu, batch_size=auto, hidden_layer_sizes=(25,), learning_rate=invscaling, max_iter=1000, solver=adam; total time=   0.4s\n"
     ]
    },
    {
     "name": "stderr",
     "output_type": "stream",
     "text": [
      "/Users/mariusj/Documents/Edu/UMA/lectures/Data Mining/Project/dm1-titanic/.venv/lib/python3.9/site-packages/sklearn/neural_network/_multilayer_perceptron.py:702: ConvergenceWarning: Stochastic Optimizer: Maximum iterations (1000) reached and the optimization hasn't converged yet.\n",
      "  warnings.warn(\n"
     ]
    },
    {
     "name": "stdout",
     "output_type": "stream",
     "text": [
      "[CV] END activation=relu, batch_size=auto, hidden_layer_sizes=(25,), learning_rate=invscaling, max_iter=1000, solver=adam; total time=   0.4s\n"
     ]
    },
    {
     "name": "stderr",
     "output_type": "stream",
     "text": [
      "/Users/mariusj/Documents/Edu/UMA/lectures/Data Mining/Project/dm1-titanic/.venv/lib/python3.9/site-packages/sklearn/neural_network/_multilayer_perceptron.py:702: ConvergenceWarning: Stochastic Optimizer: Maximum iterations (1000) reached and the optimization hasn't converged yet.\n",
      "  warnings.warn(\n"
     ]
    },
    {
     "name": "stdout",
     "output_type": "stream",
     "text": [
      "[CV] END activation=relu, batch_size=auto, hidden_layer_sizes=(25,), learning_rate=invscaling, max_iter=1000, solver=adam; total time=   0.4s\n"
     ]
    },
    {
     "name": "stderr",
     "output_type": "stream",
     "text": [
      "/Users/mariusj/Documents/Edu/UMA/lectures/Data Mining/Project/dm1-titanic/.venv/lib/python3.9/site-packages/sklearn/neural_network/_multilayer_perceptron.py:559: ConvergenceWarning: lbfgs failed to converge (status=1):\n",
      "STOP: TOTAL NO. of ITERATIONS REACHED LIMIT.\n",
      "\n",
      "Increase the number of iterations (max_iter) or scale the data as shown in:\n",
      "    https://scikit-learn.org/stable/modules/preprocessing.html\n",
      "  self.n_iter_ = _check_optimize_result(\"lbfgs\", opt_res, self.max_iter)\n"
     ]
    },
    {
     "name": "stdout",
     "output_type": "stream",
     "text": [
      "[CV] END activation=relu, batch_size=auto, hidden_layer_sizes=(25,), learning_rate=adaptive, max_iter=1000, solver=lbfgs; total time=   1.4s\n"
     ]
    },
    {
     "name": "stderr",
     "output_type": "stream",
     "text": [
      "/Users/mariusj/Documents/Edu/UMA/lectures/Data Mining/Project/dm1-titanic/.venv/lib/python3.9/site-packages/sklearn/neural_network/_multilayer_perceptron.py:559: ConvergenceWarning: lbfgs failed to converge (status=1):\n",
      "STOP: TOTAL NO. of ITERATIONS REACHED LIMIT.\n",
      "\n",
      "Increase the number of iterations (max_iter) or scale the data as shown in:\n",
      "    https://scikit-learn.org/stable/modules/preprocessing.html\n",
      "  self.n_iter_ = _check_optimize_result(\"lbfgs\", opt_res, self.max_iter)\n"
     ]
    },
    {
     "name": "stdout",
     "output_type": "stream",
     "text": [
      "[CV] END activation=relu, batch_size=auto, hidden_layer_sizes=(25,), learning_rate=adaptive, max_iter=1000, solver=lbfgs; total time=   1.5s\n",
      "[CV] END activation=relu, batch_size=auto, hidden_layer_sizes=(25,), learning_rate=adaptive, max_iter=1000, solver=lbfgs; total time=   0.9s\n"
     ]
    },
    {
     "name": "stderr",
     "output_type": "stream",
     "text": [
      "/Users/mariusj/Documents/Edu/UMA/lectures/Data Mining/Project/dm1-titanic/.venv/lib/python3.9/site-packages/sklearn/neural_network/_multilayer_perceptron.py:559: ConvergenceWarning: lbfgs failed to converge (status=1):\n",
      "STOP: TOTAL NO. of ITERATIONS REACHED LIMIT.\n",
      "\n",
      "Increase the number of iterations (max_iter) or scale the data as shown in:\n",
      "    https://scikit-learn.org/stable/modules/preprocessing.html\n",
      "  self.n_iter_ = _check_optimize_result(\"lbfgs\", opt_res, self.max_iter)\n"
     ]
    },
    {
     "name": "stdout",
     "output_type": "stream",
     "text": [
      "[CV] END activation=relu, batch_size=auto, hidden_layer_sizes=(25,), learning_rate=adaptive, max_iter=1000, solver=lbfgs; total time=   1.2s\n"
     ]
    },
    {
     "name": "stderr",
     "output_type": "stream",
     "text": [
      "/Users/mariusj/Documents/Edu/UMA/lectures/Data Mining/Project/dm1-titanic/.venv/lib/python3.9/site-packages/sklearn/neural_network/_multilayer_perceptron.py:559: ConvergenceWarning: lbfgs failed to converge (status=1):\n",
      "STOP: TOTAL NO. of ITERATIONS REACHED LIMIT.\n",
      "\n",
      "Increase the number of iterations (max_iter) or scale the data as shown in:\n",
      "    https://scikit-learn.org/stable/modules/preprocessing.html\n",
      "  self.n_iter_ = _check_optimize_result(\"lbfgs\", opt_res, self.max_iter)\n"
     ]
    },
    {
     "name": "stdout",
     "output_type": "stream",
     "text": [
      "[CV] END activation=relu, batch_size=auto, hidden_layer_sizes=(25,), learning_rate=adaptive, max_iter=1000, solver=lbfgs; total time=   0.7s\n"
     ]
    },
    {
     "name": "stderr",
     "output_type": "stream",
     "text": [
      "/Users/mariusj/Documents/Edu/UMA/lectures/Data Mining/Project/dm1-titanic/.venv/lib/python3.9/site-packages/sklearn/neural_network/_multilayer_perceptron.py:559: ConvergenceWarning: lbfgs failed to converge (status=1):\n",
      "STOP: TOTAL NO. of ITERATIONS REACHED LIMIT.\n",
      "\n",
      "Increase the number of iterations (max_iter) or scale the data as shown in:\n",
      "    https://scikit-learn.org/stable/modules/preprocessing.html\n",
      "  self.n_iter_ = _check_optimize_result(\"lbfgs\", opt_res, self.max_iter)\n"
     ]
    },
    {
     "name": "stdout",
     "output_type": "stream",
     "text": [
      "[CV] END activation=relu, batch_size=auto, hidden_layer_sizes=(25,), learning_rate=adaptive, max_iter=1000, solver=lbfgs; total time=   0.7s\n"
     ]
    },
    {
     "name": "stderr",
     "output_type": "stream",
     "text": [
      "/Users/mariusj/Documents/Edu/UMA/lectures/Data Mining/Project/dm1-titanic/.venv/lib/python3.9/site-packages/sklearn/neural_network/_multilayer_perceptron.py:559: ConvergenceWarning: lbfgs failed to converge (status=1):\n",
      "STOP: TOTAL NO. of ITERATIONS REACHED LIMIT.\n",
      "\n",
      "Increase the number of iterations (max_iter) or scale the data as shown in:\n",
      "    https://scikit-learn.org/stable/modules/preprocessing.html\n",
      "  self.n_iter_ = _check_optimize_result(\"lbfgs\", opt_res, self.max_iter)\n"
     ]
    },
    {
     "name": "stdout",
     "output_type": "stream",
     "text": [
      "[CV] END activation=relu, batch_size=auto, hidden_layer_sizes=(25,), learning_rate=adaptive, max_iter=1000, solver=lbfgs; total time=   0.7s\n"
     ]
    },
    {
     "name": "stderr",
     "output_type": "stream",
     "text": [
      "/Users/mariusj/Documents/Edu/UMA/lectures/Data Mining/Project/dm1-titanic/.venv/lib/python3.9/site-packages/sklearn/neural_network/_multilayer_perceptron.py:559: ConvergenceWarning: lbfgs failed to converge (status=1):\n",
      "STOP: TOTAL NO. of ITERATIONS REACHED LIMIT.\n",
      "\n",
      "Increase the number of iterations (max_iter) or scale the data as shown in:\n",
      "    https://scikit-learn.org/stable/modules/preprocessing.html\n",
      "  self.n_iter_ = _check_optimize_result(\"lbfgs\", opt_res, self.max_iter)\n"
     ]
    },
    {
     "name": "stdout",
     "output_type": "stream",
     "text": [
      "[CV] END activation=relu, batch_size=auto, hidden_layer_sizes=(25,), learning_rate=adaptive, max_iter=1000, solver=lbfgs; total time=   1.0s\n"
     ]
    },
    {
     "name": "stderr",
     "output_type": "stream",
     "text": [
      "/Users/mariusj/Documents/Edu/UMA/lectures/Data Mining/Project/dm1-titanic/.venv/lib/python3.9/site-packages/sklearn/neural_network/_multilayer_perceptron.py:559: ConvergenceWarning: lbfgs failed to converge (status=1):\n",
      "STOP: TOTAL NO. of ITERATIONS REACHED LIMIT.\n",
      "\n",
      "Increase the number of iterations (max_iter) or scale the data as shown in:\n",
      "    https://scikit-learn.org/stable/modules/preprocessing.html\n",
      "  self.n_iter_ = _check_optimize_result(\"lbfgs\", opt_res, self.max_iter)\n"
     ]
    },
    {
     "name": "stdout",
     "output_type": "stream",
     "text": [
      "[CV] END activation=relu, batch_size=auto, hidden_layer_sizes=(25,), learning_rate=adaptive, max_iter=1000, solver=lbfgs; total time=   0.8s\n"
     ]
    },
    {
     "name": "stderr",
     "output_type": "stream",
     "text": [
      "/Users/mariusj/Documents/Edu/UMA/lectures/Data Mining/Project/dm1-titanic/.venv/lib/python3.9/site-packages/sklearn/neural_network/_multilayer_perceptron.py:559: ConvergenceWarning: lbfgs failed to converge (status=1):\n",
      "STOP: TOTAL NO. of ITERATIONS REACHED LIMIT.\n",
      "\n",
      "Increase the number of iterations (max_iter) or scale the data as shown in:\n",
      "    https://scikit-learn.org/stable/modules/preprocessing.html\n",
      "  self.n_iter_ = _check_optimize_result(\"lbfgs\", opt_res, self.max_iter)\n"
     ]
    },
    {
     "name": "stdout",
     "output_type": "stream",
     "text": [
      "[CV] END activation=relu, batch_size=auto, hidden_layer_sizes=(25,), learning_rate=adaptive, max_iter=1000, solver=lbfgs; total time=   1.0s\n",
      "[CV] END activation=relu, batch_size=auto, hidden_layer_sizes=(25,), learning_rate=adaptive, max_iter=1000, solver=sgd; total time=   0.3s\n",
      "[CV] END activation=relu, batch_size=auto, hidden_layer_sizes=(25,), learning_rate=adaptive, max_iter=1000, solver=sgd; total time=   0.2s\n",
      "[CV] END activation=relu, batch_size=auto, hidden_layer_sizes=(25,), learning_rate=adaptive, max_iter=1000, solver=sgd; total time=   0.2s\n",
      "[CV] END activation=relu, batch_size=auto, hidden_layer_sizes=(25,), learning_rate=adaptive, max_iter=1000, solver=sgd; total time=   0.2s\n",
      "[CV] END activation=relu, batch_size=auto, hidden_layer_sizes=(25,), learning_rate=adaptive, max_iter=1000, solver=sgd; total time=   0.2s\n",
      "[CV] END activation=relu, batch_size=auto, hidden_layer_sizes=(25,), learning_rate=adaptive, max_iter=1000, solver=sgd; total time=   0.2s\n",
      "[CV] END activation=relu, batch_size=auto, hidden_layer_sizes=(25,), learning_rate=adaptive, max_iter=1000, solver=sgd; total time=   0.2s\n",
      "[CV] END activation=relu, batch_size=auto, hidden_layer_sizes=(25,), learning_rate=adaptive, max_iter=1000, solver=sgd; total time=   0.2s\n",
      "[CV] END activation=relu, batch_size=auto, hidden_layer_sizes=(25,), learning_rate=adaptive, max_iter=1000, solver=sgd; total time=   0.2s\n",
      "[CV] END activation=relu, batch_size=auto, hidden_layer_sizes=(25,), learning_rate=adaptive, max_iter=1000, solver=sgd; total time=   0.2s\n"
     ]
    },
    {
     "name": "stderr",
     "output_type": "stream",
     "text": [
      "/Users/mariusj/Documents/Edu/UMA/lectures/Data Mining/Project/dm1-titanic/.venv/lib/python3.9/site-packages/sklearn/neural_network/_multilayer_perceptron.py:702: ConvergenceWarning: Stochastic Optimizer: Maximum iterations (1000) reached and the optimization hasn't converged yet.\n",
      "  warnings.warn(\n"
     ]
    },
    {
     "name": "stdout",
     "output_type": "stream",
     "text": [
      "[CV] END activation=relu, batch_size=auto, hidden_layer_sizes=(25,), learning_rate=adaptive, max_iter=1000, solver=adam; total time=   0.4s\n",
      "[CV] END activation=relu, batch_size=auto, hidden_layer_sizes=(25,), learning_rate=adaptive, max_iter=1000, solver=adam; total time=   0.4s\n"
     ]
    },
    {
     "name": "stderr",
     "output_type": "stream",
     "text": [
      "/Users/mariusj/Documents/Edu/UMA/lectures/Data Mining/Project/dm1-titanic/.venv/lib/python3.9/site-packages/sklearn/neural_network/_multilayer_perceptron.py:702: ConvergenceWarning: Stochastic Optimizer: Maximum iterations (1000) reached and the optimization hasn't converged yet.\n",
      "  warnings.warn(\n"
     ]
    },
    {
     "name": "stdout",
     "output_type": "stream",
     "text": [
      "[CV] END activation=relu, batch_size=auto, hidden_layer_sizes=(25,), learning_rate=adaptive, max_iter=1000, solver=adam; total time=   0.4s\n"
     ]
    },
    {
     "name": "stderr",
     "output_type": "stream",
     "text": [
      "/Users/mariusj/Documents/Edu/UMA/lectures/Data Mining/Project/dm1-titanic/.venv/lib/python3.9/site-packages/sklearn/neural_network/_multilayer_perceptron.py:702: ConvergenceWarning: Stochastic Optimizer: Maximum iterations (1000) reached and the optimization hasn't converged yet.\n",
      "  warnings.warn(\n"
     ]
    },
    {
     "name": "stdout",
     "output_type": "stream",
     "text": [
      "[CV] END activation=relu, batch_size=auto, hidden_layer_sizes=(25,), learning_rate=adaptive, max_iter=1000, solver=adam; total time=   0.4s\n"
     ]
    },
    {
     "name": "stderr",
     "output_type": "stream",
     "text": [
      "/Users/mariusj/Documents/Edu/UMA/lectures/Data Mining/Project/dm1-titanic/.venv/lib/python3.9/site-packages/sklearn/neural_network/_multilayer_perceptron.py:702: ConvergenceWarning: Stochastic Optimizer: Maximum iterations (1000) reached and the optimization hasn't converged yet.\n",
      "  warnings.warn(\n"
     ]
    },
    {
     "name": "stdout",
     "output_type": "stream",
     "text": [
      "[CV] END activation=relu, batch_size=auto, hidden_layer_sizes=(25,), learning_rate=adaptive, max_iter=1000, solver=adam; total time=   0.4s\n"
     ]
    },
    {
     "name": "stderr",
     "output_type": "stream",
     "text": [
      "/Users/mariusj/Documents/Edu/UMA/lectures/Data Mining/Project/dm1-titanic/.venv/lib/python3.9/site-packages/sklearn/neural_network/_multilayer_perceptron.py:702: ConvergenceWarning: Stochastic Optimizer: Maximum iterations (1000) reached and the optimization hasn't converged yet.\n",
      "  warnings.warn(\n"
     ]
    },
    {
     "name": "stdout",
     "output_type": "stream",
     "text": [
      "[CV] END activation=relu, batch_size=auto, hidden_layer_sizes=(25,), learning_rate=adaptive, max_iter=1000, solver=adam; total time=   0.4s\n"
     ]
    },
    {
     "name": "stderr",
     "output_type": "stream",
     "text": [
      "/Users/mariusj/Documents/Edu/UMA/lectures/Data Mining/Project/dm1-titanic/.venv/lib/python3.9/site-packages/sklearn/neural_network/_multilayer_perceptron.py:702: ConvergenceWarning: Stochastic Optimizer: Maximum iterations (1000) reached and the optimization hasn't converged yet.\n",
      "  warnings.warn(\n"
     ]
    },
    {
     "name": "stdout",
     "output_type": "stream",
     "text": [
      "[CV] END activation=relu, batch_size=auto, hidden_layer_sizes=(25,), learning_rate=adaptive, max_iter=1000, solver=adam; total time=   0.4s\n"
     ]
    },
    {
     "name": "stderr",
     "output_type": "stream",
     "text": [
      "/Users/mariusj/Documents/Edu/UMA/lectures/Data Mining/Project/dm1-titanic/.venv/lib/python3.9/site-packages/sklearn/neural_network/_multilayer_perceptron.py:702: ConvergenceWarning: Stochastic Optimizer: Maximum iterations (1000) reached and the optimization hasn't converged yet.\n",
      "  warnings.warn(\n"
     ]
    },
    {
     "name": "stdout",
     "output_type": "stream",
     "text": [
      "[CV] END activation=relu, batch_size=auto, hidden_layer_sizes=(25,), learning_rate=adaptive, max_iter=1000, solver=adam; total time=   0.4s\n"
     ]
    },
    {
     "name": "stderr",
     "output_type": "stream",
     "text": [
      "/Users/mariusj/Documents/Edu/UMA/lectures/Data Mining/Project/dm1-titanic/.venv/lib/python3.9/site-packages/sklearn/neural_network/_multilayer_perceptron.py:702: ConvergenceWarning: Stochastic Optimizer: Maximum iterations (1000) reached and the optimization hasn't converged yet.\n",
      "  warnings.warn(\n"
     ]
    },
    {
     "name": "stdout",
     "output_type": "stream",
     "text": [
      "[CV] END activation=relu, batch_size=auto, hidden_layer_sizes=(25,), learning_rate=adaptive, max_iter=1000, solver=adam; total time=   0.4s\n"
     ]
    },
    {
     "name": "stderr",
     "output_type": "stream",
     "text": [
      "/Users/mariusj/Documents/Edu/UMA/lectures/Data Mining/Project/dm1-titanic/.venv/lib/python3.9/site-packages/sklearn/neural_network/_multilayer_perceptron.py:702: ConvergenceWarning: Stochastic Optimizer: Maximum iterations (1000) reached and the optimization hasn't converged yet.\n",
      "  warnings.warn(\n"
     ]
    },
    {
     "name": "stdout",
     "output_type": "stream",
     "text": [
      "[CV] END activation=relu, batch_size=auto, hidden_layer_sizes=(25,), learning_rate=adaptive, max_iter=1000, solver=adam; total time=   0.4s\n",
      "[CV] END activation=relu, batch_size=auto, hidden_layer_sizes=(75,), learning_rate=constant, max_iter=1000, solver=lbfgs; total time=   3.5s\n"
     ]
    },
    {
     "name": "stderr",
     "output_type": "stream",
     "text": [
      "/Users/mariusj/Documents/Edu/UMA/lectures/Data Mining/Project/dm1-titanic/.venv/lib/python3.9/site-packages/sklearn/neural_network/_multilayer_perceptron.py:559: ConvergenceWarning: lbfgs failed to converge (status=1):\n",
      "STOP: TOTAL NO. of ITERATIONS REACHED LIMIT.\n",
      "\n",
      "Increase the number of iterations (max_iter) or scale the data as shown in:\n",
      "    https://scikit-learn.org/stable/modules/preprocessing.html\n",
      "  self.n_iter_ = _check_optimize_result(\"lbfgs\", opt_res, self.max_iter)\n"
     ]
    },
    {
     "name": "stdout",
     "output_type": "stream",
     "text": [
      "[CV] END activation=relu, batch_size=auto, hidden_layer_sizes=(75,), learning_rate=constant, max_iter=1000, solver=lbfgs; total time=   2.3s\n"
     ]
    },
    {
     "name": "stderr",
     "output_type": "stream",
     "text": [
      "/Users/mariusj/Documents/Edu/UMA/lectures/Data Mining/Project/dm1-titanic/.venv/lib/python3.9/site-packages/sklearn/neural_network/_multilayer_perceptron.py:559: ConvergenceWarning: lbfgs failed to converge (status=1):\n",
      "STOP: TOTAL NO. of ITERATIONS REACHED LIMIT.\n",
      "\n",
      "Increase the number of iterations (max_iter) or scale the data as shown in:\n",
      "    https://scikit-learn.org/stable/modules/preprocessing.html\n",
      "  self.n_iter_ = _check_optimize_result(\"lbfgs\", opt_res, self.max_iter)\n"
     ]
    },
    {
     "name": "stdout",
     "output_type": "stream",
     "text": [
      "[CV] END activation=relu, batch_size=auto, hidden_layer_sizes=(75,), learning_rate=constant, max_iter=1000, solver=lbfgs; total time=   1.6s\n",
      "[CV] END activation=relu, batch_size=auto, hidden_layer_sizes=(75,), learning_rate=constant, max_iter=1000, solver=lbfgs; total time=   2.2s\n",
      "[CV] END activation=relu, batch_size=auto, hidden_layer_sizes=(75,), learning_rate=constant, max_iter=1000, solver=lbfgs; total time=   6.7s\n"
     ]
    },
    {
     "name": "stderr",
     "output_type": "stream",
     "text": [
      "/Users/mariusj/Documents/Edu/UMA/lectures/Data Mining/Project/dm1-titanic/.venv/lib/python3.9/site-packages/sklearn/neural_network/_multilayer_perceptron.py:559: ConvergenceWarning: lbfgs failed to converge (status=1):\n",
      "STOP: TOTAL NO. of ITERATIONS REACHED LIMIT.\n",
      "\n",
      "Increase the number of iterations (max_iter) or scale the data as shown in:\n",
      "    https://scikit-learn.org/stable/modules/preprocessing.html\n",
      "  self.n_iter_ = _check_optimize_result(\"lbfgs\", opt_res, self.max_iter)\n"
     ]
    },
    {
     "name": "stdout",
     "output_type": "stream",
     "text": [
      "[CV] END activation=relu, batch_size=auto, hidden_layer_sizes=(75,), learning_rate=constant, max_iter=1000, solver=lbfgs; total time=   1.9s\n",
      "[CV] END activation=relu, batch_size=auto, hidden_layer_sizes=(75,), learning_rate=constant, max_iter=1000, solver=lbfgs; total time=   3.8s\n"
     ]
    },
    {
     "name": "stderr",
     "output_type": "stream",
     "text": [
      "/Users/mariusj/Documents/Edu/UMA/lectures/Data Mining/Project/dm1-titanic/.venv/lib/python3.9/site-packages/sklearn/neural_network/_multilayer_perceptron.py:559: ConvergenceWarning: lbfgs failed to converge (status=1):\n",
      "STOP: TOTAL NO. of ITERATIONS REACHED LIMIT.\n",
      "\n",
      "Increase the number of iterations (max_iter) or scale the data as shown in:\n",
      "    https://scikit-learn.org/stable/modules/preprocessing.html\n",
      "  self.n_iter_ = _check_optimize_result(\"lbfgs\", opt_res, self.max_iter)\n"
     ]
    },
    {
     "name": "stdout",
     "output_type": "stream",
     "text": [
      "[CV] END activation=relu, batch_size=auto, hidden_layer_sizes=(75,), learning_rate=constant, max_iter=1000, solver=lbfgs; total time=   3.3s\n",
      "[CV] END activation=relu, batch_size=auto, hidden_layer_sizes=(75,), learning_rate=constant, max_iter=1000, solver=lbfgs; total time=   1.9s\n",
      "[CV] END activation=relu, batch_size=auto, hidden_layer_sizes=(75,), learning_rate=constant, max_iter=1000, solver=lbfgs; total time=   1.8s\n",
      "[CV] END activation=relu, batch_size=auto, hidden_layer_sizes=(75,), learning_rate=constant, max_iter=1000, solver=sgd; total time=   0.9s\n",
      "[CV] END activation=relu, batch_size=auto, hidden_layer_sizes=(75,), learning_rate=constant, max_iter=1000, solver=sgd; total time=   0.9s\n",
      "[CV] END activation=relu, batch_size=auto, hidden_layer_sizes=(75,), learning_rate=constant, max_iter=1000, solver=sgd; total time=   1.5s\n",
      "[CV] END activation=relu, batch_size=auto, hidden_layer_sizes=(75,), learning_rate=constant, max_iter=1000, solver=sgd; total time=   1.7s\n",
      "[CV] END activation=relu, batch_size=auto, hidden_layer_sizes=(75,), learning_rate=constant, max_iter=1000, solver=sgd; total time=   1.4s\n",
      "[CV] END activation=relu, batch_size=auto, hidden_layer_sizes=(75,), learning_rate=constant, max_iter=1000, solver=sgd; total time=   0.8s\n",
      "[CV] END activation=relu, batch_size=auto, hidden_layer_sizes=(75,), learning_rate=constant, max_iter=1000, solver=sgd; total time=   1.2s\n",
      "[CV] END activation=relu, batch_size=auto, hidden_layer_sizes=(75,), learning_rate=constant, max_iter=1000, solver=sgd; total time=   1.4s\n",
      "[CV] END activation=relu, batch_size=auto, hidden_layer_sizes=(75,), learning_rate=constant, max_iter=1000, solver=sgd; total time=   1.7s\n",
      "[CV] END activation=relu, batch_size=auto, hidden_layer_sizes=(75,), learning_rate=constant, max_iter=1000, solver=sgd; total time=   0.7s\n"
     ]
    },
    {
     "name": "stderr",
     "output_type": "stream",
     "text": [
      "/Users/mariusj/Documents/Edu/UMA/lectures/Data Mining/Project/dm1-titanic/.venv/lib/python3.9/site-packages/sklearn/neural_network/_multilayer_perceptron.py:702: ConvergenceWarning: Stochastic Optimizer: Maximum iterations (1000) reached and the optimization hasn't converged yet.\n",
      "  warnings.warn(\n"
     ]
    },
    {
     "name": "stdout",
     "output_type": "stream",
     "text": [
      "[CV] END activation=relu, batch_size=auto, hidden_layer_sizes=(75,), learning_rate=constant, max_iter=1000, solver=adam; total time=  15.7s\n"
     ]
    },
    {
     "name": "stderr",
     "output_type": "stream",
     "text": [
      "/Users/mariusj/Documents/Edu/UMA/lectures/Data Mining/Project/dm1-titanic/.venv/lib/python3.9/site-packages/sklearn/neural_network/_multilayer_perceptron.py:702: ConvergenceWarning: Stochastic Optimizer: Maximum iterations (1000) reached and the optimization hasn't converged yet.\n",
      "  warnings.warn(\n"
     ]
    },
    {
     "name": "stdout",
     "output_type": "stream",
     "text": [
      "[CV] END activation=relu, batch_size=auto, hidden_layer_sizes=(75,), learning_rate=constant, max_iter=1000, solver=adam; total time=  16.1s\n"
     ]
    },
    {
     "name": "stderr",
     "output_type": "stream",
     "text": [
      "/Users/mariusj/Documents/Edu/UMA/lectures/Data Mining/Project/dm1-titanic/.venv/lib/python3.9/site-packages/sklearn/neural_network/_multilayer_perceptron.py:702: ConvergenceWarning: Stochastic Optimizer: Maximum iterations (1000) reached and the optimization hasn't converged yet.\n",
      "  warnings.warn(\n"
     ]
    },
    {
     "name": "stdout",
     "output_type": "stream",
     "text": [
      "[CV] END activation=relu, batch_size=auto, hidden_layer_sizes=(75,), learning_rate=constant, max_iter=1000, solver=adam; total time=  20.5s\n"
     ]
    },
    {
     "name": "stderr",
     "output_type": "stream",
     "text": [
      "/Users/mariusj/Documents/Edu/UMA/lectures/Data Mining/Project/dm1-titanic/.venv/lib/python3.9/site-packages/sklearn/neural_network/_multilayer_perceptron.py:702: ConvergenceWarning: Stochastic Optimizer: Maximum iterations (1000) reached and the optimization hasn't converged yet.\n",
      "  warnings.warn(\n"
     ]
    },
    {
     "name": "stdout",
     "output_type": "stream",
     "text": [
      "[CV] END activation=relu, batch_size=auto, hidden_layer_sizes=(75,), learning_rate=constant, max_iter=1000, solver=adam; total time=  15.8s\n"
     ]
    },
    {
     "name": "stderr",
     "output_type": "stream",
     "text": [
      "/Users/mariusj/Documents/Edu/UMA/lectures/Data Mining/Project/dm1-titanic/.venv/lib/python3.9/site-packages/sklearn/neural_network/_multilayer_perceptron.py:702: ConvergenceWarning: Stochastic Optimizer: Maximum iterations (1000) reached and the optimization hasn't converged yet.\n",
      "  warnings.warn(\n"
     ]
    },
    {
     "name": "stdout",
     "output_type": "stream",
     "text": [
      "[CV] END activation=relu, batch_size=auto, hidden_layer_sizes=(75,), learning_rate=constant, max_iter=1000, solver=adam; total time=  18.2s\n"
     ]
    },
    {
     "name": "stderr",
     "output_type": "stream",
     "text": [
      "/Users/mariusj/Documents/Edu/UMA/lectures/Data Mining/Project/dm1-titanic/.venv/lib/python3.9/site-packages/sklearn/neural_network/_multilayer_perceptron.py:702: ConvergenceWarning: Stochastic Optimizer: Maximum iterations (1000) reached and the optimization hasn't converged yet.\n",
      "  warnings.warn(\n"
     ]
    },
    {
     "name": "stdout",
     "output_type": "stream",
     "text": [
      "[CV] END activation=relu, batch_size=auto, hidden_layer_sizes=(75,), learning_rate=constant, max_iter=1000, solver=adam; total time=  18.5s\n"
     ]
    },
    {
     "name": "stderr",
     "output_type": "stream",
     "text": [
      "/Users/mariusj/Documents/Edu/UMA/lectures/Data Mining/Project/dm1-titanic/.venv/lib/python3.9/site-packages/sklearn/neural_network/_multilayer_perceptron.py:702: ConvergenceWarning: Stochastic Optimizer: Maximum iterations (1000) reached and the optimization hasn't converged yet.\n",
      "  warnings.warn(\n"
     ]
    },
    {
     "name": "stdout",
     "output_type": "stream",
     "text": [
      "[CV] END activation=relu, batch_size=auto, hidden_layer_sizes=(75,), learning_rate=constant, max_iter=1000, solver=adam; total time=  17.4s\n"
     ]
    },
    {
     "name": "stderr",
     "output_type": "stream",
     "text": [
      "/Users/mariusj/Documents/Edu/UMA/lectures/Data Mining/Project/dm1-titanic/.venv/lib/python3.9/site-packages/sklearn/neural_network/_multilayer_perceptron.py:702: ConvergenceWarning: Stochastic Optimizer: Maximum iterations (1000) reached and the optimization hasn't converged yet.\n",
      "  warnings.warn(\n"
     ]
    },
    {
     "name": "stdout",
     "output_type": "stream",
     "text": [
      "[CV] END activation=relu, batch_size=auto, hidden_layer_sizes=(75,), learning_rate=constant, max_iter=1000, solver=adam; total time=  19.6s\n"
     ]
    },
    {
     "name": "stderr",
     "output_type": "stream",
     "text": [
      "/Users/mariusj/Documents/Edu/UMA/lectures/Data Mining/Project/dm1-titanic/.venv/lib/python3.9/site-packages/sklearn/neural_network/_multilayer_perceptron.py:702: ConvergenceWarning: Stochastic Optimizer: Maximum iterations (1000) reached and the optimization hasn't converged yet.\n",
      "  warnings.warn(\n"
     ]
    },
    {
     "name": "stdout",
     "output_type": "stream",
     "text": [
      "[CV] END activation=relu, batch_size=auto, hidden_layer_sizes=(75,), learning_rate=constant, max_iter=1000, solver=adam; total time=  17.5s\n"
     ]
    },
    {
     "name": "stderr",
     "output_type": "stream",
     "text": [
      "/Users/mariusj/Documents/Edu/UMA/lectures/Data Mining/Project/dm1-titanic/.venv/lib/python3.9/site-packages/sklearn/neural_network/_multilayer_perceptron.py:702: ConvergenceWarning: Stochastic Optimizer: Maximum iterations (1000) reached and the optimization hasn't converged yet.\n",
      "  warnings.warn(\n"
     ]
    },
    {
     "name": "stdout",
     "output_type": "stream",
     "text": [
      "[CV] END activation=relu, batch_size=auto, hidden_layer_sizes=(75,), learning_rate=constant, max_iter=1000, solver=adam; total time=  16.9s\n"
     ]
    },
    {
     "name": "stderr",
     "output_type": "stream",
     "text": [
      "/Users/mariusj/Documents/Edu/UMA/lectures/Data Mining/Project/dm1-titanic/.venv/lib/python3.9/site-packages/sklearn/neural_network/_multilayer_perceptron.py:559: ConvergenceWarning: lbfgs failed to converge (status=1):\n",
      "STOP: TOTAL NO. of ITERATIONS REACHED LIMIT.\n",
      "\n",
      "Increase the number of iterations (max_iter) or scale the data as shown in:\n",
      "    https://scikit-learn.org/stable/modules/preprocessing.html\n",
      "  self.n_iter_ = _check_optimize_result(\"lbfgs\", opt_res, self.max_iter)\n"
     ]
    },
    {
     "name": "stdout",
     "output_type": "stream",
     "text": [
      "[CV] END activation=relu, batch_size=auto, hidden_layer_sizes=(75,), learning_rate=invscaling, max_iter=1000, solver=lbfgs; total time=  27.6s\n",
      "[CV] END activation=relu, batch_size=auto, hidden_layer_sizes=(75,), learning_rate=invscaling, max_iter=1000, solver=lbfgs; total time=  22.8s\n"
     ]
    },
    {
     "name": "stderr",
     "output_type": "stream",
     "text": [
      "/Users/mariusj/Documents/Edu/UMA/lectures/Data Mining/Project/dm1-titanic/.venv/lib/python3.9/site-packages/sklearn/neural_network/_multilayer_perceptron.py:559: ConvergenceWarning: lbfgs failed to converge (status=1):\n",
      "STOP: TOTAL NO. of ITERATIONS REACHED LIMIT.\n",
      "\n",
      "Increase the number of iterations (max_iter) or scale the data as shown in:\n",
      "    https://scikit-learn.org/stable/modules/preprocessing.html\n",
      "  self.n_iter_ = _check_optimize_result(\"lbfgs\", opt_res, self.max_iter)\n"
     ]
    },
    {
     "name": "stdout",
     "output_type": "stream",
     "text": [
      "[CV] END activation=relu, batch_size=auto, hidden_layer_sizes=(75,), learning_rate=invscaling, max_iter=1000, solver=lbfgs; total time=  24.4s\n"
     ]
    },
    {
     "name": "stderr",
     "output_type": "stream",
     "text": [
      "/Users/mariusj/Documents/Edu/UMA/lectures/Data Mining/Project/dm1-titanic/.venv/lib/python3.9/site-packages/sklearn/neural_network/_multilayer_perceptron.py:559: ConvergenceWarning: lbfgs failed to converge (status=1):\n",
      "STOP: TOTAL NO. of ITERATIONS REACHED LIMIT.\n",
      "\n",
      "Increase the number of iterations (max_iter) or scale the data as shown in:\n",
      "    https://scikit-learn.org/stable/modules/preprocessing.html\n",
      "  self.n_iter_ = _check_optimize_result(\"lbfgs\", opt_res, self.max_iter)\n"
     ]
    },
    {
     "name": "stdout",
     "output_type": "stream",
     "text": [
      "[CV] END activation=relu, batch_size=auto, hidden_layer_sizes=(75,), learning_rate=invscaling, max_iter=1000, solver=lbfgs; total time=  23.5s\n"
     ]
    },
    {
     "name": "stderr",
     "output_type": "stream",
     "text": [
      "/Users/mariusj/Documents/Edu/UMA/lectures/Data Mining/Project/dm1-titanic/.venv/lib/python3.9/site-packages/sklearn/neural_network/_multilayer_perceptron.py:559: ConvergenceWarning: lbfgs failed to converge (status=1):\n",
      "STOP: TOTAL NO. of ITERATIONS REACHED LIMIT.\n",
      "\n",
      "Increase the number of iterations (max_iter) or scale the data as shown in:\n",
      "    https://scikit-learn.org/stable/modules/preprocessing.html\n",
      "  self.n_iter_ = _check_optimize_result(\"lbfgs\", opt_res, self.max_iter)\n"
     ]
    },
    {
     "name": "stdout",
     "output_type": "stream",
     "text": [
      "[CV] END activation=relu, batch_size=auto, hidden_layer_sizes=(75,), learning_rate=invscaling, max_iter=1000, solver=lbfgs; total time=  24.6s\n"
     ]
    },
    {
     "name": "stderr",
     "output_type": "stream",
     "text": [
      "/Users/mariusj/Documents/Edu/UMA/lectures/Data Mining/Project/dm1-titanic/.venv/lib/python3.9/site-packages/sklearn/neural_network/_multilayer_perceptron.py:559: ConvergenceWarning: lbfgs failed to converge (status=1):\n",
      "STOP: TOTAL NO. of ITERATIONS REACHED LIMIT.\n",
      "\n",
      "Increase the number of iterations (max_iter) or scale the data as shown in:\n",
      "    https://scikit-learn.org/stable/modules/preprocessing.html\n",
      "  self.n_iter_ = _check_optimize_result(\"lbfgs\", opt_res, self.max_iter)\n"
     ]
    },
    {
     "name": "stdout",
     "output_type": "stream",
     "text": [
      "[CV] END activation=relu, batch_size=auto, hidden_layer_sizes=(75,), learning_rate=invscaling, max_iter=1000, solver=lbfgs; total time=  21.8s\n"
     ]
    },
    {
     "name": "stderr",
     "output_type": "stream",
     "text": [
      "/Users/mariusj/Documents/Edu/UMA/lectures/Data Mining/Project/dm1-titanic/.venv/lib/python3.9/site-packages/sklearn/neural_network/_multilayer_perceptron.py:559: ConvergenceWarning: lbfgs failed to converge (status=1):\n",
      "STOP: TOTAL NO. of ITERATIONS REACHED LIMIT.\n",
      "\n",
      "Increase the number of iterations (max_iter) or scale the data as shown in:\n",
      "    https://scikit-learn.org/stable/modules/preprocessing.html\n",
      "  self.n_iter_ = _check_optimize_result(\"lbfgs\", opt_res, self.max_iter)\n"
     ]
    },
    {
     "name": "stdout",
     "output_type": "stream",
     "text": [
      "[CV] END activation=relu, batch_size=auto, hidden_layer_sizes=(75,), learning_rate=invscaling, max_iter=1000, solver=lbfgs; total time=  21.2s\n"
     ]
    },
    {
     "name": "stderr",
     "output_type": "stream",
     "text": [
      "/Users/mariusj/Documents/Edu/UMA/lectures/Data Mining/Project/dm1-titanic/.venv/lib/python3.9/site-packages/sklearn/neural_network/_multilayer_perceptron.py:559: ConvergenceWarning: lbfgs failed to converge (status=1):\n",
      "STOP: TOTAL NO. of ITERATIONS REACHED LIMIT.\n",
      "\n",
      "Increase the number of iterations (max_iter) or scale the data as shown in:\n",
      "    https://scikit-learn.org/stable/modules/preprocessing.html\n",
      "  self.n_iter_ = _check_optimize_result(\"lbfgs\", opt_res, self.max_iter)\n"
     ]
    },
    {
     "name": "stdout",
     "output_type": "stream",
     "text": [
      "[CV] END activation=relu, batch_size=auto, hidden_layer_sizes=(75,), learning_rate=invscaling, max_iter=1000, solver=lbfgs; total time=  22.2s\n"
     ]
    },
    {
     "name": "stderr",
     "output_type": "stream",
     "text": [
      "/Users/mariusj/Documents/Edu/UMA/lectures/Data Mining/Project/dm1-titanic/.venv/lib/python3.9/site-packages/sklearn/neural_network/_multilayer_perceptron.py:559: ConvergenceWarning: lbfgs failed to converge (status=1):\n",
      "STOP: TOTAL NO. of ITERATIONS REACHED LIMIT.\n",
      "\n",
      "Increase the number of iterations (max_iter) or scale the data as shown in:\n",
      "    https://scikit-learn.org/stable/modules/preprocessing.html\n",
      "  self.n_iter_ = _check_optimize_result(\"lbfgs\", opt_res, self.max_iter)\n"
     ]
    },
    {
     "name": "stdout",
     "output_type": "stream",
     "text": [
      "[CV] END activation=relu, batch_size=auto, hidden_layer_sizes=(75,), learning_rate=invscaling, max_iter=1000, solver=lbfgs; total time=  21.6s\n"
     ]
    },
    {
     "name": "stderr",
     "output_type": "stream",
     "text": [
      "/Users/mariusj/Documents/Edu/UMA/lectures/Data Mining/Project/dm1-titanic/.venv/lib/python3.9/site-packages/sklearn/neural_network/_multilayer_perceptron.py:559: ConvergenceWarning: lbfgs failed to converge (status=1):\n",
      "STOP: TOTAL NO. of ITERATIONS REACHED LIMIT.\n",
      "\n",
      "Increase the number of iterations (max_iter) or scale the data as shown in:\n",
      "    https://scikit-learn.org/stable/modules/preprocessing.html\n",
      "  self.n_iter_ = _check_optimize_result(\"lbfgs\", opt_res, self.max_iter)\n"
     ]
    },
    {
     "name": "stdout",
     "output_type": "stream",
     "text": [
      "[CV] END activation=relu, batch_size=auto, hidden_layer_sizes=(75,), learning_rate=invscaling, max_iter=1000, solver=lbfgs; total time=  25.1s\n",
      "[CV] END activation=relu, batch_size=auto, hidden_layer_sizes=(75,), learning_rate=invscaling, max_iter=1000, solver=sgd; total time=   7.8s\n",
      "[CV] END activation=relu, batch_size=auto, hidden_layer_sizes=(75,), learning_rate=invscaling, max_iter=1000, solver=sgd; total time=   9.2s\n",
      "[CV] END activation=relu, batch_size=auto, hidden_layer_sizes=(75,), learning_rate=invscaling, max_iter=1000, solver=sgd; total time=   0.8s\n",
      "[CV] END activation=relu, batch_size=auto, hidden_layer_sizes=(75,), learning_rate=invscaling, max_iter=1000, solver=sgd; total time=   1.8s\n",
      "[CV] END activation=relu, batch_size=auto, hidden_layer_sizes=(75,), learning_rate=invscaling, max_iter=1000, solver=sgd; total time=   0.7s\n",
      "[CV] END activation=relu, batch_size=auto, hidden_layer_sizes=(75,), learning_rate=invscaling, max_iter=1000, solver=sgd; total time=   1.2s\n",
      "[CV] END activation=relu, batch_size=auto, hidden_layer_sizes=(75,), learning_rate=invscaling, max_iter=1000, solver=sgd; total time=  12.2s\n",
      "[CV] END activation=relu, batch_size=auto, hidden_layer_sizes=(75,), learning_rate=invscaling, max_iter=1000, solver=sgd; total time=   0.6s\n",
      "[CV] END activation=relu, batch_size=auto, hidden_layer_sizes=(75,), learning_rate=invscaling, max_iter=1000, solver=sgd; total time=   6.0s\n",
      "[CV] END activation=relu, batch_size=auto, hidden_layer_sizes=(75,), learning_rate=invscaling, max_iter=1000, solver=sgd; total time=  10.5s\n"
     ]
    },
    {
     "name": "stderr",
     "output_type": "stream",
     "text": [
      "/Users/mariusj/Documents/Edu/UMA/lectures/Data Mining/Project/dm1-titanic/.venv/lib/python3.9/site-packages/sklearn/neural_network/_multilayer_perceptron.py:702: ConvergenceWarning: Stochastic Optimizer: Maximum iterations (1000) reached and the optimization hasn't converged yet.\n",
      "  warnings.warn(\n"
     ]
    },
    {
     "name": "stdout",
     "output_type": "stream",
     "text": [
      "[CV] END activation=relu, batch_size=auto, hidden_layer_sizes=(75,), learning_rate=invscaling, max_iter=1000, solver=adam; total time=  16.4s\n"
     ]
    },
    {
     "name": "stderr",
     "output_type": "stream",
     "text": [
      "/Users/mariusj/Documents/Edu/UMA/lectures/Data Mining/Project/dm1-titanic/.venv/lib/python3.9/site-packages/sklearn/neural_network/_multilayer_perceptron.py:702: ConvergenceWarning: Stochastic Optimizer: Maximum iterations (1000) reached and the optimization hasn't converged yet.\n",
      "  warnings.warn(\n"
     ]
    },
    {
     "name": "stdout",
     "output_type": "stream",
     "text": [
      "[CV] END activation=relu, batch_size=auto, hidden_layer_sizes=(75,), learning_rate=invscaling, max_iter=1000, solver=adam; total time=  15.5s\n"
     ]
    },
    {
     "name": "stderr",
     "output_type": "stream",
     "text": [
      "/Users/mariusj/Documents/Edu/UMA/lectures/Data Mining/Project/dm1-titanic/.venv/lib/python3.9/site-packages/sklearn/neural_network/_multilayer_perceptron.py:702: ConvergenceWarning: Stochastic Optimizer: Maximum iterations (1000) reached and the optimization hasn't converged yet.\n",
      "  warnings.warn(\n"
     ]
    },
    {
     "name": "stdout",
     "output_type": "stream",
     "text": [
      "[CV] END activation=relu, batch_size=auto, hidden_layer_sizes=(75,), learning_rate=invscaling, max_iter=1000, solver=adam; total time=  18.6s\n"
     ]
    },
    {
     "name": "stderr",
     "output_type": "stream",
     "text": [
      "/Users/mariusj/Documents/Edu/UMA/lectures/Data Mining/Project/dm1-titanic/.venv/lib/python3.9/site-packages/sklearn/neural_network/_multilayer_perceptron.py:702: ConvergenceWarning: Stochastic Optimizer: Maximum iterations (1000) reached and the optimization hasn't converged yet.\n",
      "  warnings.warn(\n"
     ]
    },
    {
     "name": "stdout",
     "output_type": "stream",
     "text": [
      "[CV] END activation=relu, batch_size=auto, hidden_layer_sizes=(75,), learning_rate=invscaling, max_iter=1000, solver=adam; total time=  15.5s\n"
     ]
    },
    {
     "name": "stderr",
     "output_type": "stream",
     "text": [
      "/Users/mariusj/Documents/Edu/UMA/lectures/Data Mining/Project/dm1-titanic/.venv/lib/python3.9/site-packages/sklearn/neural_network/_multilayer_perceptron.py:702: ConvergenceWarning: Stochastic Optimizer: Maximum iterations (1000) reached and the optimization hasn't converged yet.\n",
      "  warnings.warn(\n"
     ]
    },
    {
     "name": "stdout",
     "output_type": "stream",
     "text": [
      "[CV] END activation=relu, batch_size=auto, hidden_layer_sizes=(75,), learning_rate=invscaling, max_iter=1000, solver=adam; total time=  16.1s\n"
     ]
    },
    {
     "name": "stderr",
     "output_type": "stream",
     "text": [
      "/Users/mariusj/Documents/Edu/UMA/lectures/Data Mining/Project/dm1-titanic/.venv/lib/python3.9/site-packages/sklearn/neural_network/_multilayer_perceptron.py:702: ConvergenceWarning: Stochastic Optimizer: Maximum iterations (1000) reached and the optimization hasn't converged yet.\n",
      "  warnings.warn(\n"
     ]
    },
    {
     "name": "stdout",
     "output_type": "stream",
     "text": [
      "[CV] END activation=relu, batch_size=auto, hidden_layer_sizes=(75,), learning_rate=invscaling, max_iter=1000, solver=adam; total time=  15.6s\n"
     ]
    },
    {
     "name": "stderr",
     "output_type": "stream",
     "text": [
      "/Users/mariusj/Documents/Edu/UMA/lectures/Data Mining/Project/dm1-titanic/.venv/lib/python3.9/site-packages/sklearn/neural_network/_multilayer_perceptron.py:702: ConvergenceWarning: Stochastic Optimizer: Maximum iterations (1000) reached and the optimization hasn't converged yet.\n",
      "  warnings.warn(\n"
     ]
    },
    {
     "name": "stdout",
     "output_type": "stream",
     "text": [
      "[CV] END activation=relu, batch_size=auto, hidden_layer_sizes=(75,), learning_rate=invscaling, max_iter=1000, solver=adam; total time=  17.6s\n"
     ]
    },
    {
     "name": "stderr",
     "output_type": "stream",
     "text": [
      "/Users/mariusj/Documents/Edu/UMA/lectures/Data Mining/Project/dm1-titanic/.venv/lib/python3.9/site-packages/sklearn/neural_network/_multilayer_perceptron.py:702: ConvergenceWarning: Stochastic Optimizer: Maximum iterations (1000) reached and the optimization hasn't converged yet.\n",
      "  warnings.warn(\n"
     ]
    },
    {
     "name": "stdout",
     "output_type": "stream",
     "text": [
      "[CV] END activation=relu, batch_size=auto, hidden_layer_sizes=(75,), learning_rate=invscaling, max_iter=1000, solver=adam; total time=  18.5s\n"
     ]
    },
    {
     "name": "stderr",
     "output_type": "stream",
     "text": [
      "/Users/mariusj/Documents/Edu/UMA/lectures/Data Mining/Project/dm1-titanic/.venv/lib/python3.9/site-packages/sklearn/neural_network/_multilayer_perceptron.py:702: ConvergenceWarning: Stochastic Optimizer: Maximum iterations (1000) reached and the optimization hasn't converged yet.\n",
      "  warnings.warn(\n"
     ]
    },
    {
     "name": "stdout",
     "output_type": "stream",
     "text": [
      "[CV] END activation=relu, batch_size=auto, hidden_layer_sizes=(75,), learning_rate=invscaling, max_iter=1000, solver=adam; total time=  17.1s\n"
     ]
    },
    {
     "name": "stderr",
     "output_type": "stream",
     "text": [
      "/Users/mariusj/Documents/Edu/UMA/lectures/Data Mining/Project/dm1-titanic/.venv/lib/python3.9/site-packages/sklearn/neural_network/_multilayer_perceptron.py:702: ConvergenceWarning: Stochastic Optimizer: Maximum iterations (1000) reached and the optimization hasn't converged yet.\n",
      "  warnings.warn(\n"
     ]
    },
    {
     "name": "stdout",
     "output_type": "stream",
     "text": [
      "[CV] END activation=relu, batch_size=auto, hidden_layer_sizes=(75,), learning_rate=invscaling, max_iter=1000, solver=adam; total time=  15.4s\n",
      "[CV] END activation=relu, batch_size=auto, hidden_layer_sizes=(75,), learning_rate=adaptive, max_iter=1000, solver=lbfgs; total time=  22.4s\n",
      "[CV] END activation=relu, batch_size=auto, hidden_layer_sizes=(75,), learning_rate=adaptive, max_iter=1000, solver=lbfgs; total time=  17.0s\n"
     ]
    },
    {
     "name": "stderr",
     "output_type": "stream",
     "text": [
      "/Users/mariusj/Documents/Edu/UMA/lectures/Data Mining/Project/dm1-titanic/.venv/lib/python3.9/site-packages/sklearn/neural_network/_multilayer_perceptron.py:559: ConvergenceWarning: lbfgs failed to converge (status=1):\n",
      "STOP: TOTAL NO. of ITERATIONS REACHED LIMIT.\n",
      "\n",
      "Increase the number of iterations (max_iter) or scale the data as shown in:\n",
      "    https://scikit-learn.org/stable/modules/preprocessing.html\n",
      "  self.n_iter_ = _check_optimize_result(\"lbfgs\", opt_res, self.max_iter)\n"
     ]
    },
    {
     "name": "stdout",
     "output_type": "stream",
     "text": [
      "[CV] END activation=relu, batch_size=auto, hidden_layer_sizes=(75,), learning_rate=adaptive, max_iter=1000, solver=lbfgs; total time=  14.8s\n"
     ]
    },
    {
     "name": "stderr",
     "output_type": "stream",
     "text": [
      "/Users/mariusj/Documents/Edu/UMA/lectures/Data Mining/Project/dm1-titanic/.venv/lib/python3.9/site-packages/sklearn/neural_network/_multilayer_perceptron.py:559: ConvergenceWarning: lbfgs failed to converge (status=1):\n",
      "STOP: TOTAL NO. of ITERATIONS REACHED LIMIT.\n",
      "\n",
      "Increase the number of iterations (max_iter) or scale the data as shown in:\n",
      "    https://scikit-learn.org/stable/modules/preprocessing.html\n",
      "  self.n_iter_ = _check_optimize_result(\"lbfgs\", opt_res, self.max_iter)\n"
     ]
    },
    {
     "name": "stdout",
     "output_type": "stream",
     "text": [
      "[CV] END activation=relu, batch_size=auto, hidden_layer_sizes=(75,), learning_rate=adaptive, max_iter=1000, solver=lbfgs; total time=   2.1s\n"
     ]
    },
    {
     "name": "stderr",
     "output_type": "stream",
     "text": [
      "/Users/mariusj/Documents/Edu/UMA/lectures/Data Mining/Project/dm1-titanic/.venv/lib/python3.9/site-packages/sklearn/neural_network/_multilayer_perceptron.py:559: ConvergenceWarning: lbfgs failed to converge (status=1):\n",
      "STOP: TOTAL NO. of ITERATIONS REACHED LIMIT.\n",
      "\n",
      "Increase the number of iterations (max_iter) or scale the data as shown in:\n",
      "    https://scikit-learn.org/stable/modules/preprocessing.html\n",
      "  self.n_iter_ = _check_optimize_result(\"lbfgs\", opt_res, self.max_iter)\n"
     ]
    },
    {
     "name": "stdout",
     "output_type": "stream",
     "text": [
      "[CV] END activation=relu, batch_size=auto, hidden_layer_sizes=(75,), learning_rate=adaptive, max_iter=1000, solver=lbfgs; total time=   2.9s\n"
     ]
    },
    {
     "name": "stderr",
     "output_type": "stream",
     "text": [
      "/Users/mariusj/Documents/Edu/UMA/lectures/Data Mining/Project/dm1-titanic/.venv/lib/python3.9/site-packages/sklearn/neural_network/_multilayer_perceptron.py:559: ConvergenceWarning: lbfgs failed to converge (status=1):\n",
      "STOP: TOTAL NO. of ITERATIONS REACHED LIMIT.\n",
      "\n",
      "Increase the number of iterations (max_iter) or scale the data as shown in:\n",
      "    https://scikit-learn.org/stable/modules/preprocessing.html\n",
      "  self.n_iter_ = _check_optimize_result(\"lbfgs\", opt_res, self.max_iter)\n"
     ]
    },
    {
     "name": "stdout",
     "output_type": "stream",
     "text": [
      "[CV] END activation=relu, batch_size=auto, hidden_layer_sizes=(75,), learning_rate=adaptive, max_iter=1000, solver=lbfgs; total time=   3.2s\n"
     ]
    },
    {
     "name": "stderr",
     "output_type": "stream",
     "text": [
      "/Users/mariusj/Documents/Edu/UMA/lectures/Data Mining/Project/dm1-titanic/.venv/lib/python3.9/site-packages/sklearn/neural_network/_multilayer_perceptron.py:559: ConvergenceWarning: lbfgs failed to converge (status=1):\n",
      "STOP: TOTAL NO. of ITERATIONS REACHED LIMIT.\n",
      "\n",
      "Increase the number of iterations (max_iter) or scale the data as shown in:\n",
      "    https://scikit-learn.org/stable/modules/preprocessing.html\n",
      "  self.n_iter_ = _check_optimize_result(\"lbfgs\", opt_res, self.max_iter)\n"
     ]
    },
    {
     "name": "stdout",
     "output_type": "stream",
     "text": [
      "[CV] END activation=relu, batch_size=auto, hidden_layer_sizes=(75,), learning_rate=adaptive, max_iter=1000, solver=lbfgs; total time=   2.5s\n",
      "[CV] END activation=relu, batch_size=auto, hidden_layer_sizes=(75,), learning_rate=adaptive, max_iter=1000, solver=lbfgs; total time=   2.3s\n"
     ]
    },
    {
     "name": "stderr",
     "output_type": "stream",
     "text": [
      "/Users/mariusj/Documents/Edu/UMA/lectures/Data Mining/Project/dm1-titanic/.venv/lib/python3.9/site-packages/sklearn/neural_network/_multilayer_perceptron.py:559: ConvergenceWarning: lbfgs failed to converge (status=1):\n",
      "STOP: TOTAL NO. of ITERATIONS REACHED LIMIT.\n",
      "\n",
      "Increase the number of iterations (max_iter) or scale the data as shown in:\n",
      "    https://scikit-learn.org/stable/modules/preprocessing.html\n",
      "  self.n_iter_ = _check_optimize_result(\"lbfgs\", opt_res, self.max_iter)\n"
     ]
    },
    {
     "name": "stdout",
     "output_type": "stream",
     "text": [
      "[CV] END activation=relu, batch_size=auto, hidden_layer_sizes=(75,), learning_rate=adaptive, max_iter=1000, solver=lbfgs; total time=   3.0s\n",
      "[CV] END activation=relu, batch_size=auto, hidden_layer_sizes=(75,), learning_rate=adaptive, max_iter=1000, solver=lbfgs; total time=   2.8s\n",
      "[CV] END activation=relu, batch_size=auto, hidden_layer_sizes=(75,), learning_rate=adaptive, max_iter=1000, solver=sgd; total time=   1.5s\n",
      "[CV] END activation=relu, batch_size=auto, hidden_layer_sizes=(75,), learning_rate=adaptive, max_iter=1000, solver=sgd; total time=   1.6s\n",
      "[CV] END activation=relu, batch_size=auto, hidden_layer_sizes=(75,), learning_rate=adaptive, max_iter=1000, solver=sgd; total time=   1.9s\n",
      "[CV] END activation=relu, batch_size=auto, hidden_layer_sizes=(75,), learning_rate=adaptive, max_iter=1000, solver=sgd; total time=   1.3s\n",
      "[CV] END activation=relu, batch_size=auto, hidden_layer_sizes=(75,), learning_rate=adaptive, max_iter=1000, solver=sgd; total time=   2.9s\n",
      "[CV] END activation=relu, batch_size=auto, hidden_layer_sizes=(75,), learning_rate=adaptive, max_iter=1000, solver=sgd; total time=   1.4s\n",
      "[CV] END activation=relu, batch_size=auto, hidden_layer_sizes=(75,), learning_rate=adaptive, max_iter=1000, solver=sgd; total time=   1.2s\n",
      "[CV] END activation=relu, batch_size=auto, hidden_layer_sizes=(75,), learning_rate=adaptive, max_iter=1000, solver=sgd; total time=   1.1s\n",
      "[CV] END activation=relu, batch_size=auto, hidden_layer_sizes=(75,), learning_rate=adaptive, max_iter=1000, solver=sgd; total time=   1.0s\n",
      "[CV] END activation=relu, batch_size=auto, hidden_layer_sizes=(75,), learning_rate=adaptive, max_iter=1000, solver=sgd; total time=   0.8s\n"
     ]
    },
    {
     "name": "stderr",
     "output_type": "stream",
     "text": [
      "/Users/mariusj/Documents/Edu/UMA/lectures/Data Mining/Project/dm1-titanic/.venv/lib/python3.9/site-packages/sklearn/neural_network/_multilayer_perceptron.py:702: ConvergenceWarning: Stochastic Optimizer: Maximum iterations (1000) reached and the optimization hasn't converged yet.\n",
      "  warnings.warn(\n"
     ]
    },
    {
     "name": "stdout",
     "output_type": "stream",
     "text": [
      "[CV] END activation=relu, batch_size=auto, hidden_layer_sizes=(75,), learning_rate=adaptive, max_iter=1000, solver=adam; total time=   2.5s\n"
     ]
    },
    {
     "name": "stderr",
     "output_type": "stream",
     "text": [
      "/Users/mariusj/Documents/Edu/UMA/lectures/Data Mining/Project/dm1-titanic/.venv/lib/python3.9/site-packages/sklearn/neural_network/_multilayer_perceptron.py:702: ConvergenceWarning: Stochastic Optimizer: Maximum iterations (1000) reached and the optimization hasn't converged yet.\n",
      "  warnings.warn(\n"
     ]
    },
    {
     "name": "stdout",
     "output_type": "stream",
     "text": [
      "[CV] END activation=relu, batch_size=auto, hidden_layer_sizes=(75,), learning_rate=adaptive, max_iter=1000, solver=adam; total time=   3.1s\n"
     ]
    },
    {
     "name": "stderr",
     "output_type": "stream",
     "text": [
      "/Users/mariusj/Documents/Edu/UMA/lectures/Data Mining/Project/dm1-titanic/.venv/lib/python3.9/site-packages/sklearn/neural_network/_multilayer_perceptron.py:702: ConvergenceWarning: Stochastic Optimizer: Maximum iterations (1000) reached and the optimization hasn't converged yet.\n",
      "  warnings.warn(\n"
     ]
    },
    {
     "name": "stdout",
     "output_type": "stream",
     "text": [
      "[CV] END activation=relu, batch_size=auto, hidden_layer_sizes=(75,), learning_rate=adaptive, max_iter=1000, solver=adam; total time=   3.2s\n"
     ]
    },
    {
     "name": "stderr",
     "output_type": "stream",
     "text": [
      "/Users/mariusj/Documents/Edu/UMA/lectures/Data Mining/Project/dm1-titanic/.venv/lib/python3.9/site-packages/sklearn/neural_network/_multilayer_perceptron.py:702: ConvergenceWarning: Stochastic Optimizer: Maximum iterations (1000) reached and the optimization hasn't converged yet.\n",
      "  warnings.warn(\n"
     ]
    },
    {
     "name": "stdout",
     "output_type": "stream",
     "text": [
      "[CV] END activation=relu, batch_size=auto, hidden_layer_sizes=(75,), learning_rate=adaptive, max_iter=1000, solver=adam; total time=   1.9s\n",
      "[CV] END activation=relu, batch_size=auto, hidden_layer_sizes=(75,), learning_rate=adaptive, max_iter=1000, solver=adam; total time=   1.9s\n"
     ]
    },
    {
     "name": "stderr",
     "output_type": "stream",
     "text": [
      "/Users/mariusj/Documents/Edu/UMA/lectures/Data Mining/Project/dm1-titanic/.venv/lib/python3.9/site-packages/sklearn/neural_network/_multilayer_perceptron.py:702: ConvergenceWarning: Stochastic Optimizer: Maximum iterations (1000) reached and the optimization hasn't converged yet.\n",
      "  warnings.warn(\n"
     ]
    },
    {
     "name": "stdout",
     "output_type": "stream",
     "text": [
      "[CV] END activation=relu, batch_size=auto, hidden_layer_sizes=(75,), learning_rate=adaptive, max_iter=1000, solver=adam; total time=  12.3s\n",
      "[CV] END activation=relu, batch_size=auto, hidden_layer_sizes=(75,), learning_rate=adaptive, max_iter=1000, solver=adam; total time=   2.3s\n"
     ]
    },
    {
     "name": "stderr",
     "output_type": "stream",
     "text": [
      "/Users/mariusj/Documents/Edu/UMA/lectures/Data Mining/Project/dm1-titanic/.venv/lib/python3.9/site-packages/sklearn/neural_network/_multilayer_perceptron.py:702: ConvergenceWarning: Stochastic Optimizer: Maximum iterations (1000) reached and the optimization hasn't converged yet.\n",
      "  warnings.warn(\n"
     ]
    },
    {
     "name": "stdout",
     "output_type": "stream",
     "text": [
      "[CV] END activation=relu, batch_size=auto, hidden_layer_sizes=(75,), learning_rate=adaptive, max_iter=1000, solver=adam; total time=   3.0s\n"
     ]
    },
    {
     "name": "stderr",
     "output_type": "stream",
     "text": [
      "/Users/mariusj/Documents/Edu/UMA/lectures/Data Mining/Project/dm1-titanic/.venv/lib/python3.9/site-packages/sklearn/neural_network/_multilayer_perceptron.py:702: ConvergenceWarning: Stochastic Optimizer: Maximum iterations (1000) reached and the optimization hasn't converged yet.\n",
      "  warnings.warn(\n"
     ]
    },
    {
     "name": "stdout",
     "output_type": "stream",
     "text": [
      "[CV] END activation=relu, batch_size=auto, hidden_layer_sizes=(75,), learning_rate=adaptive, max_iter=1000, solver=adam; total time=   2.0s\n"
     ]
    },
    {
     "name": "stderr",
     "output_type": "stream",
     "text": [
      "/Users/mariusj/Documents/Edu/UMA/lectures/Data Mining/Project/dm1-titanic/.venv/lib/python3.9/site-packages/sklearn/neural_network/_multilayer_perceptron.py:702: ConvergenceWarning: Stochastic Optimizer: Maximum iterations (1000) reached and the optimization hasn't converged yet.\n",
      "  warnings.warn(\n",
      "WARNING:root:Results have been saved to '../gscv/multilayer_perceptron/2022-11-23T15:00:00.json'\n",
      "WARNING:root:Session has been saved to '/sessions/multilayer_perceptron/2022-11-23T15:00:00.json'\n"
     ]
    },
    {
     "name": "stdout",
     "output_type": "stream",
     "text": [
      "[CV] END activation=relu, batch_size=auto, hidden_layer_sizes=(75,), learning_rate=adaptive, max_iter=1000, solver=adam; total time=   2.2s\n"
     ]
    }
   ],
   "source": [
    "# load data\n",
    "train, test = retrieve_latest_train_test()\n",
    "\n",
    "# run grid search cv\n",
    "_gscv = run_grid_search_cv(\n",
    "    gscv_dct=gscv_cfg_mlp,\n",
    "    X_train=train.drop([\"Survived\"], axis=1),\n",
    "    y_train=train[\"Survived\"]\n",
    "    ).__dict__\n",
    "\n",
    "# save results\n",
    "save_results_and_session(name, _gscv)\n"
   ]
  },
  {
   "cell_type": "code",
   "execution_count": null,
   "metadata": {},
   "outputs": [],
   "source": [
    "# load_latest_session(name)\n"
   ]
  }
 ],
 "metadata": {
  "kernelspec": {
   "display_name": "Python 3.9.10 ('.venv': venv)",
   "language": "python",
   "name": "python3"
  },
  "language_info": {
   "codemirror_mode": {
    "name": "ipython",
    "version": 3
   },
   "file_extension": ".py",
   "mimetype": "text/x-python",
   "name": "python",
   "nbconvert_exporter": "python",
   "pygments_lexer": "ipython3",
   "version": "3.9.10"
  },
  "orig_nbformat": 4,
  "vscode": {
   "interpreter": {
    "hash": "c9abcb6f00eb2f6d4daee5e356d60a40aafbe82eb74959741ede0eec5bc79320"
   }
  }
 },
 "nbformat": 4,
 "nbformat_minor": 2
}
