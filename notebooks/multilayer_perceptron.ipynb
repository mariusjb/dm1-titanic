{
 "cells": [
  {
   "cell_type": "code",
   "execution_count": 1,
   "metadata": {},
   "outputs": [],
   "source": [
    "from utils import retrieve_latest_train_test, run_grid_search_cv, save_results_and_session, load_latest_session\n",
    "from gscv_configs import gscv_cfg_mlp\n",
    "\n",
    "# This notebook applies MLPClassifier\n",
    "name = gscv_cfg_mlp.name"
   ]
  },
  {
   "cell_type": "code",
   "execution_count": 2,
   "metadata": {},
   "outputs": [
    {
     "name": "stdout",
     "output_type": "stream",
     "text": [
      "Fitting 10 folds for each of 108 candidates, totalling 1080 fits\n",
      "[CV] END activation=identity, batch_size=auto, hidden_layer_sizes=(10,), learning_rate=constant, solver=lbfgs; total time=   0.0s\n",
      "[CV] END activation=identity, batch_size=auto, hidden_layer_sizes=(10,), learning_rate=constant, solver=lbfgs; total time=   0.0s\n",
      "[CV] END activation=identity, batch_size=auto, hidden_layer_sizes=(10,), learning_rate=constant, solver=lbfgs; total time=   0.0s\n",
      "[CV] END activation=identity, batch_size=auto, hidden_layer_sizes=(10,), learning_rate=constant, solver=lbfgs; total time=   0.0s\n",
      "[CV] END activation=identity, batch_size=auto, hidden_layer_sizes=(10,), learning_rate=constant, solver=lbfgs; total time=   0.0s\n",
      "[CV] END activation=identity, batch_size=auto, hidden_layer_sizes=(10,), learning_rate=constant, solver=lbfgs; total time=   0.0s\n",
      "[CV] END activation=identity, batch_size=auto, hidden_layer_sizes=(10,), learning_rate=constant, solver=lbfgs; total time=   0.0s\n",
      "[CV] END activation=identity, batch_size=auto, hidden_layer_sizes=(10,), learning_rate=constant, solver=lbfgs; total time=   0.0s\n",
      "[CV] END activation=identity, batch_size=auto, hidden_layer_sizes=(10,), learning_rate=constant, solver=lbfgs; total time=   0.0s\n",
      "[CV] END activation=identity, batch_size=auto, hidden_layer_sizes=(10,), learning_rate=constant, solver=lbfgs; total time=   0.0s\n",
      "[CV] END activation=identity, batch_size=auto, hidden_layer_sizes=(10,), learning_rate=constant, solver=sgd; total time=   0.1s\n"
     ]
    },
    {
     "name": "stderr",
     "output_type": "stream",
     "text": [
      "/Users/mariusj/Documents/Edu/UMA/lectures/Data Mining/Project/dm1-titanic/.venv/lib/python3.9/site-packages/sklearn/neural_network/_multilayer_perceptron.py:702: ConvergenceWarning: Stochastic Optimizer: Maximum iterations (200) reached and the optimization hasn't converged yet.\n",
      "  warnings.warn(\n",
      "/Users/mariusj/Documents/Edu/UMA/lectures/Data Mining/Project/dm1-titanic/.venv/lib/python3.9/site-packages/sklearn/neural_network/_multilayer_perceptron.py:702: ConvergenceWarning: Stochastic Optimizer: Maximum iterations (200) reached and the optimization hasn't converged yet.\n",
      "  warnings.warn(\n",
      "/Users/mariusj/Documents/Edu/UMA/lectures/Data Mining/Project/dm1-titanic/.venv/lib/python3.9/site-packages/sklearn/neural_network/_multilayer_perceptron.py:702: ConvergenceWarning: Stochastic Optimizer: Maximum iterations (200) reached and the optimization hasn't converged yet.\n",
      "  warnings.warn(\n"
     ]
    },
    {
     "name": "stdout",
     "output_type": "stream",
     "text": [
      "[CV] END activation=identity, batch_size=auto, hidden_layer_sizes=(10,), learning_rate=constant, solver=sgd; total time=   0.1s\n",
      "[CV] END activation=identity, batch_size=auto, hidden_layer_sizes=(10,), learning_rate=constant, solver=sgd; total time=   0.1s\n",
      "[CV] END activation=identity, batch_size=auto, hidden_layer_sizes=(10,), learning_rate=constant, solver=sgd; total time=   0.1s\n"
     ]
    },
    {
     "name": "stderr",
     "output_type": "stream",
     "text": [
      "/Users/mariusj/Documents/Edu/UMA/lectures/Data Mining/Project/dm1-titanic/.venv/lib/python3.9/site-packages/sklearn/neural_network/_multilayer_perceptron.py:702: ConvergenceWarning: Stochastic Optimizer: Maximum iterations (200) reached and the optimization hasn't converged yet.\n",
      "  warnings.warn(\n",
      "/Users/mariusj/Documents/Edu/UMA/lectures/Data Mining/Project/dm1-titanic/.venv/lib/python3.9/site-packages/sklearn/neural_network/_multilayer_perceptron.py:702: ConvergenceWarning: Stochastic Optimizer: Maximum iterations (200) reached and the optimization hasn't converged yet.\n",
      "  warnings.warn(\n",
      "/Users/mariusj/Documents/Edu/UMA/lectures/Data Mining/Project/dm1-titanic/.venv/lib/python3.9/site-packages/sklearn/neural_network/_multilayer_perceptron.py:702: ConvergenceWarning: Stochastic Optimizer: Maximum iterations (200) reached and the optimization hasn't converged yet.\n",
      "  warnings.warn(\n"
     ]
    },
    {
     "name": "stdout",
     "output_type": "stream",
     "text": [
      "[CV] END activation=identity, batch_size=auto, hidden_layer_sizes=(10,), learning_rate=constant, solver=sgd; total time=   0.1s\n",
      "[CV] END activation=identity, batch_size=auto, hidden_layer_sizes=(10,), learning_rate=constant, solver=sgd; total time=   0.1s\n",
      "[CV] END activation=identity, batch_size=auto, hidden_layer_sizes=(10,), learning_rate=constant, solver=sgd; total time=   0.1s\n"
     ]
    },
    {
     "name": "stderr",
     "output_type": "stream",
     "text": [
      "/Users/mariusj/Documents/Edu/UMA/lectures/Data Mining/Project/dm1-titanic/.venv/lib/python3.9/site-packages/sklearn/neural_network/_multilayer_perceptron.py:702: ConvergenceWarning: Stochastic Optimizer: Maximum iterations (200) reached and the optimization hasn't converged yet.\n",
      "  warnings.warn(\n",
      "/Users/mariusj/Documents/Edu/UMA/lectures/Data Mining/Project/dm1-titanic/.venv/lib/python3.9/site-packages/sklearn/neural_network/_multilayer_perceptron.py:702: ConvergenceWarning: Stochastic Optimizer: Maximum iterations (200) reached and the optimization hasn't converged yet.\n",
      "  warnings.warn(\n",
      "/Users/mariusj/Documents/Edu/UMA/lectures/Data Mining/Project/dm1-titanic/.venv/lib/python3.9/site-packages/sklearn/neural_network/_multilayer_perceptron.py:702: ConvergenceWarning: Stochastic Optimizer: Maximum iterations (200) reached and the optimization hasn't converged yet.\n",
      "  warnings.warn(\n"
     ]
    },
    {
     "name": "stdout",
     "output_type": "stream",
     "text": [
      "[CV] END activation=identity, batch_size=auto, hidden_layer_sizes=(10,), learning_rate=constant, solver=sgd; total time=   0.1s\n",
      "[CV] END activation=identity, batch_size=auto, hidden_layer_sizes=(10,), learning_rate=constant, solver=sgd; total time=   0.1s\n",
      "[CV] END activation=identity, batch_size=auto, hidden_layer_sizes=(10,), learning_rate=constant, solver=sgd; total time=   0.1s\n"
     ]
    },
    {
     "name": "stderr",
     "output_type": "stream",
     "text": [
      "/Users/mariusj/Documents/Edu/UMA/lectures/Data Mining/Project/dm1-titanic/.venv/lib/python3.9/site-packages/sklearn/neural_network/_multilayer_perceptron.py:702: ConvergenceWarning: Stochastic Optimizer: Maximum iterations (200) reached and the optimization hasn't converged yet.\n",
      "  warnings.warn(\n",
      "/Users/mariusj/Documents/Edu/UMA/lectures/Data Mining/Project/dm1-titanic/.venv/lib/python3.9/site-packages/sklearn/neural_network/_multilayer_perceptron.py:702: ConvergenceWarning: Stochastic Optimizer: Maximum iterations (200) reached and the optimization hasn't converged yet.\n",
      "  warnings.warn(\n"
     ]
    },
    {
     "name": "stdout",
     "output_type": "stream",
     "text": [
      "[CV] END activation=identity, batch_size=auto, hidden_layer_sizes=(10,), learning_rate=constant, solver=adam; total time=   0.1s\n",
      "[CV] END activation=identity, batch_size=auto, hidden_layer_sizes=(10,), learning_rate=constant, solver=adam; total time=   0.1s\n",
      "[CV] END activation=identity, batch_size=auto, hidden_layer_sizes=(10,), learning_rate=constant, solver=adam; total time=   0.1s\n"
     ]
    },
    {
     "name": "stderr",
     "output_type": "stream",
     "text": [
      "/Users/mariusj/Documents/Edu/UMA/lectures/Data Mining/Project/dm1-titanic/.venv/lib/python3.9/site-packages/sklearn/neural_network/_multilayer_perceptron.py:702: ConvergenceWarning: Stochastic Optimizer: Maximum iterations (200) reached and the optimization hasn't converged yet.\n",
      "  warnings.warn(\n",
      "/Users/mariusj/Documents/Edu/UMA/lectures/Data Mining/Project/dm1-titanic/.venv/lib/python3.9/site-packages/sklearn/neural_network/_multilayer_perceptron.py:702: ConvergenceWarning: Stochastic Optimizer: Maximum iterations (200) reached and the optimization hasn't converged yet.\n",
      "  warnings.warn(\n",
      "/Users/mariusj/Documents/Edu/UMA/lectures/Data Mining/Project/dm1-titanic/.venv/lib/python3.9/site-packages/sklearn/neural_network/_multilayer_perceptron.py:702: ConvergenceWarning: Stochastic Optimizer: Maximum iterations (200) reached and the optimization hasn't converged yet.\n",
      "  warnings.warn(\n"
     ]
    },
    {
     "name": "stdout",
     "output_type": "stream",
     "text": [
      "[CV] END activation=identity, batch_size=auto, hidden_layer_sizes=(10,), learning_rate=constant, solver=adam; total time=   0.1s\n",
      "[CV] END activation=identity, batch_size=auto, hidden_layer_sizes=(10,), learning_rate=constant, solver=adam; total time=   0.1s\n",
      "[CV] END activation=identity, batch_size=auto, hidden_layer_sizes=(10,), learning_rate=constant, solver=adam; total time=   0.1s\n"
     ]
    },
    {
     "name": "stderr",
     "output_type": "stream",
     "text": [
      "/Users/mariusj/Documents/Edu/UMA/lectures/Data Mining/Project/dm1-titanic/.venv/lib/python3.9/site-packages/sklearn/neural_network/_multilayer_perceptron.py:702: ConvergenceWarning: Stochastic Optimizer: Maximum iterations (200) reached and the optimization hasn't converged yet.\n",
      "  warnings.warn(\n",
      "/Users/mariusj/Documents/Edu/UMA/lectures/Data Mining/Project/dm1-titanic/.venv/lib/python3.9/site-packages/sklearn/neural_network/_multilayer_perceptron.py:702: ConvergenceWarning: Stochastic Optimizer: Maximum iterations (200) reached and the optimization hasn't converged yet.\n",
      "  warnings.warn(\n",
      "/Users/mariusj/Documents/Edu/UMA/lectures/Data Mining/Project/dm1-titanic/.venv/lib/python3.9/site-packages/sklearn/neural_network/_multilayer_perceptron.py:702: ConvergenceWarning: Stochastic Optimizer: Maximum iterations (200) reached and the optimization hasn't converged yet.\n",
      "  warnings.warn(\n"
     ]
    },
    {
     "name": "stdout",
     "output_type": "stream",
     "text": [
      "[CV] END activation=identity, batch_size=auto, hidden_layer_sizes=(10,), learning_rate=constant, solver=adam; total time=   0.1s\n",
      "[CV] END activation=identity, batch_size=auto, hidden_layer_sizes=(10,), learning_rate=constant, solver=adam; total time=   0.1s\n",
      "[CV] END activation=identity, batch_size=auto, hidden_layer_sizes=(10,), learning_rate=constant, solver=adam; total time=   0.1s\n"
     ]
    },
    {
     "name": "stderr",
     "output_type": "stream",
     "text": [
      "/Users/mariusj/Documents/Edu/UMA/lectures/Data Mining/Project/dm1-titanic/.venv/lib/python3.9/site-packages/sklearn/neural_network/_multilayer_perceptron.py:702: ConvergenceWarning: Stochastic Optimizer: Maximum iterations (200) reached and the optimization hasn't converged yet.\n",
      "  warnings.warn(\n",
      "/Users/mariusj/Documents/Edu/UMA/lectures/Data Mining/Project/dm1-titanic/.venv/lib/python3.9/site-packages/sklearn/neural_network/_multilayer_perceptron.py:702: ConvergenceWarning: Stochastic Optimizer: Maximum iterations (200) reached and the optimization hasn't converged yet.\n",
      "  warnings.warn(\n"
     ]
    },
    {
     "name": "stdout",
     "output_type": "stream",
     "text": [
      "[CV] END activation=identity, batch_size=auto, hidden_layer_sizes=(10,), learning_rate=constant, solver=adam; total time=   0.1s\n",
      "[CV] END activation=identity, batch_size=auto, hidden_layer_sizes=(10,), learning_rate=invscaling, solver=lbfgs; total time=   0.0s\n",
      "[CV] END activation=identity, batch_size=auto, hidden_layer_sizes=(10,), learning_rate=invscaling, solver=lbfgs; total time=   0.0s\n",
      "[CV] END activation=identity, batch_size=auto, hidden_layer_sizes=(10,), learning_rate=invscaling, solver=lbfgs; total time=   0.0s\n",
      "[CV] END activation=identity, batch_size=auto, hidden_layer_sizes=(10,), learning_rate=invscaling, solver=lbfgs; total time=   0.0s\n",
      "[CV] END activation=identity, batch_size=auto, hidden_layer_sizes=(10,), learning_rate=invscaling, solver=lbfgs; total time=   0.0s\n",
      "[CV] END activation=identity, batch_size=auto, hidden_layer_sizes=(10,), learning_rate=invscaling, solver=lbfgs; total time=   0.0s\n",
      "[CV] END activation=identity, batch_size=auto, hidden_layer_sizes=(10,), learning_rate=invscaling, solver=lbfgs; total time=   0.0s\n",
      "[CV] END activation=identity, batch_size=auto, hidden_layer_sizes=(10,), learning_rate=invscaling, solver=lbfgs; total time=   0.0s\n",
      "[CV] END activation=identity, batch_size=auto, hidden_layer_sizes=(10,), learning_rate=invscaling, solver=lbfgs; total time=   0.0s\n",
      "[CV] END activation=identity, batch_size=auto, hidden_layer_sizes=(10,), learning_rate=invscaling, solver=lbfgs; total time=   0.0s\n",
      "[CV] END activation=identity, batch_size=auto, hidden_layer_sizes=(10,), learning_rate=invscaling, solver=sgd; total time=   0.0s\n"
     ]
    },
    {
     "name": "stderr",
     "output_type": "stream",
     "text": [
      "/Users/mariusj/Documents/Edu/UMA/lectures/Data Mining/Project/dm1-titanic/.venv/lib/python3.9/site-packages/sklearn/neural_network/_multilayer_perceptron.py:702: ConvergenceWarning: Stochastic Optimizer: Maximum iterations (200) reached and the optimization hasn't converged yet.\n",
      "  warnings.warn(\n",
      "/Users/mariusj/Documents/Edu/UMA/lectures/Data Mining/Project/dm1-titanic/.venv/lib/python3.9/site-packages/sklearn/neural_network/_multilayer_perceptron.py:702: ConvergenceWarning: Stochastic Optimizer: Maximum iterations (200) reached and the optimization hasn't converged yet.\n",
      "  warnings.warn(\n"
     ]
    },
    {
     "name": "stdout",
     "output_type": "stream",
     "text": [
      "[CV] END activation=identity, batch_size=auto, hidden_layer_sizes=(10,), learning_rate=invscaling, solver=sgd; total time=   0.1s\n",
      "[CV] END activation=identity, batch_size=auto, hidden_layer_sizes=(10,), learning_rate=invscaling, solver=sgd; total time=   0.1s\n",
      "[CV] END activation=identity, batch_size=auto, hidden_layer_sizes=(10,), learning_rate=invscaling, solver=sgd; total time=   0.0s\n",
      "[CV] END activation=identity, batch_size=auto, hidden_layer_sizes=(10,), learning_rate=invscaling, solver=sgd; total time=   0.0s\n",
      "[CV] END activation=identity, batch_size=auto, hidden_layer_sizes=(10,), learning_rate=invscaling, solver=sgd; total time=   0.0s\n",
      "[CV] END activation=identity, batch_size=auto, hidden_layer_sizes=(10,), learning_rate=invscaling, solver=sgd; total time=   0.0s\n"
     ]
    },
    {
     "name": "stderr",
     "output_type": "stream",
     "text": [
      "/Users/mariusj/Documents/Edu/UMA/lectures/Data Mining/Project/dm1-titanic/.venv/lib/python3.9/site-packages/sklearn/neural_network/_multilayer_perceptron.py:702: ConvergenceWarning: Stochastic Optimizer: Maximum iterations (200) reached and the optimization hasn't converged yet.\n",
      "  warnings.warn(\n",
      "/Users/mariusj/Documents/Edu/UMA/lectures/Data Mining/Project/dm1-titanic/.venv/lib/python3.9/site-packages/sklearn/neural_network/_multilayer_perceptron.py:702: ConvergenceWarning: Stochastic Optimizer: Maximum iterations (200) reached and the optimization hasn't converged yet.\n",
      "  warnings.warn(\n",
      "/Users/mariusj/Documents/Edu/UMA/lectures/Data Mining/Project/dm1-titanic/.venv/lib/python3.9/site-packages/sklearn/neural_network/_multilayer_perceptron.py:702: ConvergenceWarning: Stochastic Optimizer: Maximum iterations (200) reached and the optimization hasn't converged yet.\n",
      "  warnings.warn(\n"
     ]
    },
    {
     "name": "stdout",
     "output_type": "stream",
     "text": [
      "[CV] END activation=identity, batch_size=auto, hidden_layer_sizes=(10,), learning_rate=invscaling, solver=sgd; total time=   0.1s\n",
      "[CV] END activation=identity, batch_size=auto, hidden_layer_sizes=(10,), learning_rate=invscaling, solver=sgd; total time=   0.1s\n",
      "[CV] END activation=identity, batch_size=auto, hidden_layer_sizes=(10,), learning_rate=invscaling, solver=sgd; total time=   0.0s\n",
      "[CV] END activation=identity, batch_size=auto, hidden_layer_sizes=(10,), learning_rate=invscaling, solver=adam; total time=   0.1s\n"
     ]
    },
    {
     "name": "stderr",
     "output_type": "stream",
     "text": [
      "/Users/mariusj/Documents/Edu/UMA/lectures/Data Mining/Project/dm1-titanic/.venv/lib/python3.9/site-packages/sklearn/neural_network/_multilayer_perceptron.py:702: ConvergenceWarning: Stochastic Optimizer: Maximum iterations (200) reached and the optimization hasn't converged yet.\n",
      "  warnings.warn(\n",
      "/Users/mariusj/Documents/Edu/UMA/lectures/Data Mining/Project/dm1-titanic/.venv/lib/python3.9/site-packages/sklearn/neural_network/_multilayer_perceptron.py:702: ConvergenceWarning: Stochastic Optimizer: Maximum iterations (200) reached and the optimization hasn't converged yet.\n",
      "  warnings.warn(\n",
      "/Users/mariusj/Documents/Edu/UMA/lectures/Data Mining/Project/dm1-titanic/.venv/lib/python3.9/site-packages/sklearn/neural_network/_multilayer_perceptron.py:702: ConvergenceWarning: Stochastic Optimizer: Maximum iterations (200) reached and the optimization hasn't converged yet.\n",
      "  warnings.warn(\n"
     ]
    },
    {
     "name": "stdout",
     "output_type": "stream",
     "text": [
      "[CV] END activation=identity, batch_size=auto, hidden_layer_sizes=(10,), learning_rate=invscaling, solver=adam; total time=   0.1s\n",
      "[CV] END activation=identity, batch_size=auto, hidden_layer_sizes=(10,), learning_rate=invscaling, solver=adam; total time=   0.1s\n",
      "[CV] END activation=identity, batch_size=auto, hidden_layer_sizes=(10,), learning_rate=invscaling, solver=adam; total time=   0.1s\n",
      "[CV] END activation=identity, batch_size=auto, hidden_layer_sizes=(10,), learning_rate=invscaling, solver=adam; total time=   0.1s\n",
      "[CV] END activation=identity, batch_size=auto, hidden_layer_sizes=(10,), learning_rate=invscaling, solver=adam; total time=   0.1s\n",
      "[CV] END activation=identity, batch_size=auto, hidden_layer_sizes=(10,), learning_rate=invscaling, solver=adam; total time=   0.1s\n"
     ]
    },
    {
     "name": "stderr",
     "output_type": "stream",
     "text": [
      "/Users/mariusj/Documents/Edu/UMA/lectures/Data Mining/Project/dm1-titanic/.venv/lib/python3.9/site-packages/sklearn/neural_network/_multilayer_perceptron.py:702: ConvergenceWarning: Stochastic Optimizer: Maximum iterations (200) reached and the optimization hasn't converged yet.\n",
      "  warnings.warn(\n",
      "/Users/mariusj/Documents/Edu/UMA/lectures/Data Mining/Project/dm1-titanic/.venv/lib/python3.9/site-packages/sklearn/neural_network/_multilayer_perceptron.py:702: ConvergenceWarning: Stochastic Optimizer: Maximum iterations (200) reached and the optimization hasn't converged yet.\n",
      "  warnings.warn(\n",
      "/Users/mariusj/Documents/Edu/UMA/lectures/Data Mining/Project/dm1-titanic/.venv/lib/python3.9/site-packages/sklearn/neural_network/_multilayer_perceptron.py:702: ConvergenceWarning: Stochastic Optimizer: Maximum iterations (200) reached and the optimization hasn't converged yet.\n",
      "  warnings.warn(\n"
     ]
    },
    {
     "name": "stdout",
     "output_type": "stream",
     "text": [
      "[CV] END activation=identity, batch_size=auto, hidden_layer_sizes=(10,), learning_rate=invscaling, solver=adam; total time=   0.1s\n",
      "[CV] END activation=identity, batch_size=auto, hidden_layer_sizes=(10,), learning_rate=invscaling, solver=adam; total time=   0.1s\n",
      "[CV] END activation=identity, batch_size=auto, hidden_layer_sizes=(10,), learning_rate=invscaling, solver=adam; total time=   0.1s\n",
      "[CV] END activation=identity, batch_size=auto, hidden_layer_sizes=(10,), learning_rate=adaptive, solver=lbfgs; total time=   0.0s\n",
      "[CV] END activation=identity, batch_size=auto, hidden_layer_sizes=(10,), learning_rate=adaptive, solver=lbfgs; total time=   0.0s\n",
      "[CV] END activation=identity, batch_size=auto, hidden_layer_sizes=(10,), learning_rate=adaptive, solver=lbfgs; total time=   0.0s\n",
      "[CV] END activation=identity, batch_size=auto, hidden_layer_sizes=(10,), learning_rate=adaptive, solver=lbfgs; total time=   0.0s\n"
     ]
    },
    {
     "name": "stderr",
     "output_type": "stream",
     "text": [
      "/Users/mariusj/Documents/Edu/UMA/lectures/Data Mining/Project/dm1-titanic/.venv/lib/python3.9/site-packages/sklearn/neural_network/_multilayer_perceptron.py:702: ConvergenceWarning: Stochastic Optimizer: Maximum iterations (200) reached and the optimization hasn't converged yet.\n",
      "  warnings.warn(\n",
      "/Users/mariusj/Documents/Edu/UMA/lectures/Data Mining/Project/dm1-titanic/.venv/lib/python3.9/site-packages/sklearn/neural_network/_multilayer_perceptron.py:702: ConvergenceWarning: Stochastic Optimizer: Maximum iterations (200) reached and the optimization hasn't converged yet.\n",
      "  warnings.warn(\n"
     ]
    },
    {
     "name": "stdout",
     "output_type": "stream",
     "text": [
      "[CV] END activation=identity, batch_size=auto, hidden_layer_sizes=(10,), learning_rate=adaptive, solver=lbfgs; total time=   0.0s\n",
      "[CV] END activation=identity, batch_size=auto, hidden_layer_sizes=(10,), learning_rate=adaptive, solver=lbfgs; total time=   0.0s\n",
      "[CV] END activation=identity, batch_size=auto, hidden_layer_sizes=(10,), learning_rate=adaptive, solver=lbfgs; total time=   0.0s\n",
      "[CV] END activation=identity, batch_size=auto, hidden_layer_sizes=(10,), learning_rate=adaptive, solver=lbfgs; total time=   0.0s\n",
      "[CV] END activation=identity, batch_size=auto, hidden_layer_sizes=(10,), learning_rate=adaptive, solver=lbfgs; total time=   0.0s\n",
      "[CV] END activation=identity, batch_size=auto, hidden_layer_sizes=(10,), learning_rate=adaptive, solver=lbfgs; total time=   0.0s\n",
      "[CV] END activation=identity, batch_size=auto, hidden_layer_sizes=(10,), learning_rate=adaptive, solver=sgd; total time=   0.1s\n",
      "[CV] END activation=identity, batch_size=auto, hidden_layer_sizes=(10,), learning_rate=adaptive, solver=sgd; total time=   0.1s\n"
     ]
    },
    {
     "name": "stderr",
     "output_type": "stream",
     "text": [
      "/Users/mariusj/Documents/Edu/UMA/lectures/Data Mining/Project/dm1-titanic/.venv/lib/python3.9/site-packages/sklearn/neural_network/_multilayer_perceptron.py:702: ConvergenceWarning: Stochastic Optimizer: Maximum iterations (200) reached and the optimization hasn't converged yet.\n",
      "  warnings.warn(\n",
      "/Users/mariusj/Documents/Edu/UMA/lectures/Data Mining/Project/dm1-titanic/.venv/lib/python3.9/site-packages/sklearn/neural_network/_multilayer_perceptron.py:702: ConvergenceWarning: Stochastic Optimizer: Maximum iterations (200) reached and the optimization hasn't converged yet.\n",
      "  warnings.warn(\n",
      "/Users/mariusj/Documents/Edu/UMA/lectures/Data Mining/Project/dm1-titanic/.venv/lib/python3.9/site-packages/sklearn/neural_network/_multilayer_perceptron.py:702: ConvergenceWarning: Stochastic Optimizer: Maximum iterations (200) reached and the optimization hasn't converged yet.\n",
      "  warnings.warn(\n",
      "/Users/mariusj/Documents/Edu/UMA/lectures/Data Mining/Project/dm1-titanic/.venv/lib/python3.9/site-packages/sklearn/neural_network/_multilayer_perceptron.py:702: ConvergenceWarning: Stochastic Optimizer: Maximum iterations (200) reached and the optimization hasn't converged yet.\n",
      "  warnings.warn(\n"
     ]
    },
    {
     "name": "stdout",
     "output_type": "stream",
     "text": [
      "[CV] END activation=identity, batch_size=auto, hidden_layer_sizes=(10,), learning_rate=adaptive, solver=sgd; total time=   0.1s\n",
      "[CV] END activation=identity, batch_size=auto, hidden_layer_sizes=(10,), learning_rate=adaptive, solver=sgd; total time=   0.1s\n",
      "[CV] END activation=identity, batch_size=auto, hidden_layer_sizes=(10,), learning_rate=adaptive, solver=sgd; total time=   0.1s\n",
      "[CV] END activation=identity, batch_size=auto, hidden_layer_sizes=(10,), learning_rate=adaptive, solver=sgd; total time=   0.1s\n"
     ]
    },
    {
     "name": "stderr",
     "output_type": "stream",
     "text": [
      "/Users/mariusj/Documents/Edu/UMA/lectures/Data Mining/Project/dm1-titanic/.venv/lib/python3.9/site-packages/sklearn/neural_network/_multilayer_perceptron.py:702: ConvergenceWarning: Stochastic Optimizer: Maximum iterations (200) reached and the optimization hasn't converged yet.\n",
      "  warnings.warn(\n",
      "/Users/mariusj/Documents/Edu/UMA/lectures/Data Mining/Project/dm1-titanic/.venv/lib/python3.9/site-packages/sklearn/neural_network/_multilayer_perceptron.py:702: ConvergenceWarning: Stochastic Optimizer: Maximum iterations (200) reached and the optimization hasn't converged yet.\n",
      "  warnings.warn(\n",
      "/Users/mariusj/Documents/Edu/UMA/lectures/Data Mining/Project/dm1-titanic/.venv/lib/python3.9/site-packages/sklearn/neural_network/_multilayer_perceptron.py:702: ConvergenceWarning: Stochastic Optimizer: Maximum iterations (200) reached and the optimization hasn't converged yet.\n",
      "  warnings.warn(\n",
      "/Users/mariusj/Documents/Edu/UMA/lectures/Data Mining/Project/dm1-titanic/.venv/lib/python3.9/site-packages/sklearn/neural_network/_multilayer_perceptron.py:702: ConvergenceWarning: Stochastic Optimizer: Maximum iterations (200) reached and the optimization hasn't converged yet.\n",
      "  warnings.warn(\n"
     ]
    },
    {
     "name": "stdout",
     "output_type": "stream",
     "text": [
      "[CV] END activation=identity, batch_size=auto, hidden_layer_sizes=(10,), learning_rate=adaptive, solver=sgd; total time=   0.1s\n",
      "[CV] END activation=identity, batch_size=auto, hidden_layer_sizes=(10,), learning_rate=adaptive, solver=sgd; total time=   0.1s\n",
      "[CV] END activation=identity, batch_size=auto, hidden_layer_sizes=(10,), learning_rate=adaptive, solver=sgd; total time=   0.1s\n",
      "[CV] END activation=identity, batch_size=auto, hidden_layer_sizes=(10,), learning_rate=adaptive, solver=sgd; total time=   0.1s\n"
     ]
    },
    {
     "name": "stderr",
     "output_type": "stream",
     "text": [
      "/Users/mariusj/Documents/Edu/UMA/lectures/Data Mining/Project/dm1-titanic/.venv/lib/python3.9/site-packages/sklearn/neural_network/_multilayer_perceptron.py:702: ConvergenceWarning: Stochastic Optimizer: Maximum iterations (200) reached and the optimization hasn't converged yet.\n",
      "  warnings.warn(\n",
      "/Users/mariusj/Documents/Edu/UMA/lectures/Data Mining/Project/dm1-titanic/.venv/lib/python3.9/site-packages/sklearn/neural_network/_multilayer_perceptron.py:702: ConvergenceWarning: Stochastic Optimizer: Maximum iterations (200) reached and the optimization hasn't converged yet.\n",
      "  warnings.warn(\n",
      "/Users/mariusj/Documents/Edu/UMA/lectures/Data Mining/Project/dm1-titanic/.venv/lib/python3.9/site-packages/sklearn/neural_network/_multilayer_perceptron.py:702: ConvergenceWarning: Stochastic Optimizer: Maximum iterations (200) reached and the optimization hasn't converged yet.\n",
      "  warnings.warn(\n"
     ]
    },
    {
     "name": "stdout",
     "output_type": "stream",
     "text": [
      "[CV] END activation=identity, batch_size=auto, hidden_layer_sizes=(10,), learning_rate=adaptive, solver=adam; total time=   0.1s\n",
      "[CV] END activation=identity, batch_size=auto, hidden_layer_sizes=(10,), learning_rate=adaptive, solver=adam; total time=   0.1s\n",
      "[CV] END activation=identity, batch_size=auto, hidden_layer_sizes=(10,), learning_rate=adaptive, solver=adam; total time=   0.1s\n"
     ]
    },
    {
     "name": "stderr",
     "output_type": "stream",
     "text": [
      "/Users/mariusj/Documents/Edu/UMA/lectures/Data Mining/Project/dm1-titanic/.venv/lib/python3.9/site-packages/sklearn/neural_network/_multilayer_perceptron.py:702: ConvergenceWarning: Stochastic Optimizer: Maximum iterations (200) reached and the optimization hasn't converged yet.\n",
      "  warnings.warn(\n",
      "/Users/mariusj/Documents/Edu/UMA/lectures/Data Mining/Project/dm1-titanic/.venv/lib/python3.9/site-packages/sklearn/neural_network/_multilayer_perceptron.py:702: ConvergenceWarning: Stochastic Optimizer: Maximum iterations (200) reached and the optimization hasn't converged yet.\n",
      "  warnings.warn(\n",
      "/Users/mariusj/Documents/Edu/UMA/lectures/Data Mining/Project/dm1-titanic/.venv/lib/python3.9/site-packages/sklearn/neural_network/_multilayer_perceptron.py:702: ConvergenceWarning: Stochastic Optimizer: Maximum iterations (200) reached and the optimization hasn't converged yet.\n",
      "  warnings.warn(\n"
     ]
    },
    {
     "name": "stdout",
     "output_type": "stream",
     "text": [
      "[CV] END activation=identity, batch_size=auto, hidden_layer_sizes=(10,), learning_rate=adaptive, solver=adam; total time=   0.1s\n",
      "[CV] END activation=identity, batch_size=auto, hidden_layer_sizes=(10,), learning_rate=adaptive, solver=adam; total time=   0.1s\n",
      "[CV] END activation=identity, batch_size=auto, hidden_layer_sizes=(10,), learning_rate=adaptive, solver=adam; total time=   0.1s\n"
     ]
    },
    {
     "name": "stderr",
     "output_type": "stream",
     "text": [
      "/Users/mariusj/Documents/Edu/UMA/lectures/Data Mining/Project/dm1-titanic/.venv/lib/python3.9/site-packages/sklearn/neural_network/_multilayer_perceptron.py:702: ConvergenceWarning: Stochastic Optimizer: Maximum iterations (200) reached and the optimization hasn't converged yet.\n",
      "  warnings.warn(\n",
      "/Users/mariusj/Documents/Edu/UMA/lectures/Data Mining/Project/dm1-titanic/.venv/lib/python3.9/site-packages/sklearn/neural_network/_multilayer_perceptron.py:702: ConvergenceWarning: Stochastic Optimizer: Maximum iterations (200) reached and the optimization hasn't converged yet.\n",
      "  warnings.warn(\n",
      "/Users/mariusj/Documents/Edu/UMA/lectures/Data Mining/Project/dm1-titanic/.venv/lib/python3.9/site-packages/sklearn/neural_network/_multilayer_perceptron.py:702: ConvergenceWarning: Stochastic Optimizer: Maximum iterations (200) reached and the optimization hasn't converged yet.\n",
      "  warnings.warn(\n"
     ]
    },
    {
     "name": "stdout",
     "output_type": "stream",
     "text": [
      "[CV] END activation=identity, batch_size=auto, hidden_layer_sizes=(10,), learning_rate=adaptive, solver=adam; total time=   0.1s\n",
      "[CV] END activation=identity, batch_size=auto, hidden_layer_sizes=(10,), learning_rate=adaptive, solver=adam; total time=   0.1s\n",
      "[CV] END activation=identity, batch_size=auto, hidden_layer_sizes=(10,), learning_rate=adaptive, solver=adam; total time=   0.1s\n"
     ]
    },
    {
     "name": "stderr",
     "output_type": "stream",
     "text": [
      "/Users/mariusj/Documents/Edu/UMA/lectures/Data Mining/Project/dm1-titanic/.venv/lib/python3.9/site-packages/sklearn/neural_network/_multilayer_perceptron.py:702: ConvergenceWarning: Stochastic Optimizer: Maximum iterations (200) reached and the optimization hasn't converged yet.\n",
      "  warnings.warn(\n",
      "/Users/mariusj/Documents/Edu/UMA/lectures/Data Mining/Project/dm1-titanic/.venv/lib/python3.9/site-packages/sklearn/neural_network/_multilayer_perceptron.py:702: ConvergenceWarning: Stochastic Optimizer: Maximum iterations (200) reached and the optimization hasn't converged yet.\n",
      "  warnings.warn(\n",
      "/Users/mariusj/Documents/Edu/UMA/lectures/Data Mining/Project/dm1-titanic/.venv/lib/python3.9/site-packages/sklearn/neural_network/_multilayer_perceptron.py:702: ConvergenceWarning: Stochastic Optimizer: Maximum iterations (200) reached and the optimization hasn't converged yet.\n",
      "  warnings.warn(\n"
     ]
    },
    {
     "name": "stdout",
     "output_type": "stream",
     "text": [
      "[CV] END activation=identity, batch_size=auto, hidden_layer_sizes=(10,), learning_rate=adaptive, solver=adam; total time=   0.1s\n",
      "[CV] END activation=identity, batch_size=auto, hidden_layer_sizes=(25,), learning_rate=constant, solver=lbfgs; total time=   0.1s\n",
      "[CV] END activation=identity, batch_size=auto, hidden_layer_sizes=(25,), learning_rate=constant, solver=lbfgs; total time=   0.2s\n",
      "[CV] END activation=identity, batch_size=auto, hidden_layer_sizes=(25,), learning_rate=constant, solver=lbfgs; total time=   0.4s\n",
      "[CV] END activation=identity, batch_size=auto, hidden_layer_sizes=(25,), learning_rate=constant, solver=lbfgs; total time=   0.4s\n",
      "[CV] END activation=identity, batch_size=auto, hidden_layer_sizes=(25,), learning_rate=constant, solver=lbfgs; total time=   0.4s\n",
      "[CV] END activation=identity, batch_size=auto, hidden_layer_sizes=(25,), learning_rate=constant, solver=lbfgs; total time=   0.4s\n",
      "[CV] END activation=identity, batch_size=auto, hidden_layer_sizes=(25,), learning_rate=constant, solver=lbfgs; total time=   0.9s\n",
      "[CV] END activation=identity, batch_size=auto, hidden_layer_sizes=(25,), learning_rate=constant, solver=lbfgs; total time=   0.4s\n",
      "[CV] END activation=identity, batch_size=auto, hidden_layer_sizes=(25,), learning_rate=constant, solver=lbfgs; total time=   0.4s\n",
      "[CV] END activation=identity, batch_size=auto, hidden_layer_sizes=(25,), learning_rate=constant, solver=lbfgs; total time=   0.7s\n",
      "[CV] END activation=identity, batch_size=auto, hidden_layer_sizes=(25,), learning_rate=constant, solver=sgd; total time=   0.1s\n"
     ]
    },
    {
     "name": "stderr",
     "output_type": "stream",
     "text": [
      "/Users/mariusj/Documents/Edu/UMA/lectures/Data Mining/Project/dm1-titanic/.venv/lib/python3.9/site-packages/sklearn/neural_network/_multilayer_perceptron.py:702: ConvergenceWarning: Stochastic Optimizer: Maximum iterations (200) reached and the optimization hasn't converged yet.\n",
      "  warnings.warn(\n",
      "/Users/mariusj/Documents/Edu/UMA/lectures/Data Mining/Project/dm1-titanic/.venv/lib/python3.9/site-packages/sklearn/neural_network/_multilayer_perceptron.py:702: ConvergenceWarning: Stochastic Optimizer: Maximum iterations (200) reached and the optimization hasn't converged yet.\n",
      "  warnings.warn(\n"
     ]
    },
    {
     "name": "stdout",
     "output_type": "stream",
     "text": [
      "[CV] END activation=identity, batch_size=auto, hidden_layer_sizes=(25,), learning_rate=constant, solver=sgd; total time=   0.1s\n",
      "[CV] END activation=identity, batch_size=auto, hidden_layer_sizes=(25,), learning_rate=constant, solver=sgd; total time=   0.1s\n",
      "[CV] END activation=identity, batch_size=auto, hidden_layer_sizes=(25,), learning_rate=constant, solver=sgd; total time=   0.1s\n"
     ]
    },
    {
     "name": "stderr",
     "output_type": "stream",
     "text": [
      "/Users/mariusj/Documents/Edu/UMA/lectures/Data Mining/Project/dm1-titanic/.venv/lib/python3.9/site-packages/sklearn/neural_network/_multilayer_perceptron.py:702: ConvergenceWarning: Stochastic Optimizer: Maximum iterations (200) reached and the optimization hasn't converged yet.\n",
      "  warnings.warn(\n",
      "/Users/mariusj/Documents/Edu/UMA/lectures/Data Mining/Project/dm1-titanic/.venv/lib/python3.9/site-packages/sklearn/neural_network/_multilayer_perceptron.py:702: ConvergenceWarning: Stochastic Optimizer: Maximum iterations (200) reached and the optimization hasn't converged yet.\n",
      "  warnings.warn(\n",
      "/Users/mariusj/Documents/Edu/UMA/lectures/Data Mining/Project/dm1-titanic/.venv/lib/python3.9/site-packages/sklearn/neural_network/_multilayer_perceptron.py:702: ConvergenceWarning: Stochastic Optimizer: Maximum iterations (200) reached and the optimization hasn't converged yet.\n",
      "  warnings.warn(\n"
     ]
    },
    {
     "name": "stdout",
     "output_type": "stream",
     "text": [
      "[CV] END activation=identity, batch_size=auto, hidden_layer_sizes=(25,), learning_rate=constant, solver=sgd; total time=   0.1s\n",
      "[CV] END activation=identity, batch_size=auto, hidden_layer_sizes=(25,), learning_rate=constant, solver=sgd; total time=   0.1s\n",
      "[CV] END activation=identity, batch_size=auto, hidden_layer_sizes=(25,), learning_rate=constant, solver=sgd; total time=   0.1s\n"
     ]
    },
    {
     "name": "stderr",
     "output_type": "stream",
     "text": [
      "/Users/mariusj/Documents/Edu/UMA/lectures/Data Mining/Project/dm1-titanic/.venv/lib/python3.9/site-packages/sklearn/neural_network/_multilayer_perceptron.py:702: ConvergenceWarning: Stochastic Optimizer: Maximum iterations (200) reached and the optimization hasn't converged yet.\n",
      "  warnings.warn(\n",
      "/Users/mariusj/Documents/Edu/UMA/lectures/Data Mining/Project/dm1-titanic/.venv/lib/python3.9/site-packages/sklearn/neural_network/_multilayer_perceptron.py:702: ConvergenceWarning: Stochastic Optimizer: Maximum iterations (200) reached and the optimization hasn't converged yet.\n",
      "  warnings.warn(\n",
      "/Users/mariusj/Documents/Edu/UMA/lectures/Data Mining/Project/dm1-titanic/.venv/lib/python3.9/site-packages/sklearn/neural_network/_multilayer_perceptron.py:702: ConvergenceWarning: Stochastic Optimizer: Maximum iterations (200) reached and the optimization hasn't converged yet.\n",
      "  warnings.warn(\n"
     ]
    },
    {
     "name": "stdout",
     "output_type": "stream",
     "text": [
      "[CV] END activation=identity, batch_size=auto, hidden_layer_sizes=(25,), learning_rate=constant, solver=sgd; total time=   0.1s\n",
      "[CV] END activation=identity, batch_size=auto, hidden_layer_sizes=(25,), learning_rate=constant, solver=sgd; total time=   0.1s\n",
      "[CV] END activation=identity, batch_size=auto, hidden_layer_sizes=(25,), learning_rate=constant, solver=sgd; total time=   0.1s\n"
     ]
    },
    {
     "name": "stderr",
     "output_type": "stream",
     "text": [
      "/Users/mariusj/Documents/Edu/UMA/lectures/Data Mining/Project/dm1-titanic/.venv/lib/python3.9/site-packages/sklearn/neural_network/_multilayer_perceptron.py:702: ConvergenceWarning: Stochastic Optimizer: Maximum iterations (200) reached and the optimization hasn't converged yet.\n",
      "  warnings.warn(\n",
      "/Users/mariusj/Documents/Edu/UMA/lectures/Data Mining/Project/dm1-titanic/.venv/lib/python3.9/site-packages/sklearn/neural_network/_multilayer_perceptron.py:702: ConvergenceWarning: Stochastic Optimizer: Maximum iterations (200) reached and the optimization hasn't converged yet.\n",
      "  warnings.warn(\n",
      "/Users/mariusj/Documents/Edu/UMA/lectures/Data Mining/Project/dm1-titanic/.venv/lib/python3.9/site-packages/sklearn/neural_network/_multilayer_perceptron.py:702: ConvergenceWarning: Stochastic Optimizer: Maximum iterations (200) reached and the optimization hasn't converged yet.\n",
      "  warnings.warn(\n"
     ]
    },
    {
     "name": "stdout",
     "output_type": "stream",
     "text": [
      "[CV] END activation=identity, batch_size=auto, hidden_layer_sizes=(25,), learning_rate=constant, solver=adam; total time=   0.1s\n",
      "[CV] END activation=identity, batch_size=auto, hidden_layer_sizes=(25,), learning_rate=constant, solver=adam; total time=   0.1s\n",
      "[CV] END activation=identity, batch_size=auto, hidden_layer_sizes=(25,), learning_rate=constant, solver=adam; total time=   0.1s\n",
      "[CV] END activation=identity, batch_size=auto, hidden_layer_sizes=(25,), learning_rate=constant, solver=adam; total time=   0.1s\n",
      "[CV] END activation=identity, batch_size=auto, hidden_layer_sizes=(25,), learning_rate=constant, solver=adam; total time=   0.1s\n",
      "[CV] END activation=identity, batch_size=auto, hidden_layer_sizes=(25,), learning_rate=constant, solver=adam; total time=   0.1s\n"
     ]
    },
    {
     "name": "stderr",
     "output_type": "stream",
     "text": [
      "/Users/mariusj/Documents/Edu/UMA/lectures/Data Mining/Project/dm1-titanic/.venv/lib/python3.9/site-packages/sklearn/neural_network/_multilayer_perceptron.py:702: ConvergenceWarning: Stochastic Optimizer: Maximum iterations (200) reached and the optimization hasn't converged yet.\n",
      "  warnings.warn(\n"
     ]
    },
    {
     "name": "stdout",
     "output_type": "stream",
     "text": [
      "[CV] END activation=identity, batch_size=auto, hidden_layer_sizes=(25,), learning_rate=constant, solver=adam; total time=   0.1s\n",
      "[CV] END activation=identity, batch_size=auto, hidden_layer_sizes=(25,), learning_rate=constant, solver=adam; total time=   0.1s\n",
      "[CV] END activation=identity, batch_size=auto, hidden_layer_sizes=(25,), learning_rate=constant, solver=adam; total time=   0.1s\n",
      "[CV] END activation=identity, batch_size=auto, hidden_layer_sizes=(25,), learning_rate=constant, solver=adam; total time=   0.1s\n",
      "[CV] END activation=identity, batch_size=auto, hidden_layer_sizes=(25,), learning_rate=invscaling, solver=lbfgs; total time=   0.2s\n",
      "[CV] END activation=identity, batch_size=auto, hidden_layer_sizes=(25,), learning_rate=invscaling, solver=lbfgs; total time=   0.5s\n",
      "[CV] END activation=identity, batch_size=auto, hidden_layer_sizes=(25,), learning_rate=invscaling, solver=lbfgs; total time=   0.4s\n",
      "[CV] END activation=identity, batch_size=auto, hidden_layer_sizes=(25,), learning_rate=invscaling, solver=lbfgs; total time=   0.4s\n",
      "[CV] END activation=identity, batch_size=auto, hidden_layer_sizes=(25,), learning_rate=invscaling, solver=lbfgs; total time=   1.1s\n",
      "[CV] END activation=identity, batch_size=auto, hidden_layer_sizes=(25,), learning_rate=invscaling, solver=lbfgs; total time=   0.4s\n",
      "[CV] END activation=identity, batch_size=auto, hidden_layer_sizes=(25,), learning_rate=invscaling, solver=lbfgs; total time=   0.2s\n",
      "[CV] END activation=identity, batch_size=auto, hidden_layer_sizes=(25,), learning_rate=invscaling, solver=lbfgs; total time=   0.4s\n",
      "[CV] END activation=identity, batch_size=auto, hidden_layer_sizes=(25,), learning_rate=invscaling, solver=lbfgs; total time=   0.5s\n",
      "[CV] END activation=identity, batch_size=auto, hidden_layer_sizes=(25,), learning_rate=invscaling, solver=lbfgs; total time=   0.4s\n",
      "[CV] END activation=identity, batch_size=auto, hidden_layer_sizes=(25,), learning_rate=invscaling, solver=sgd; total time=   0.1s\n",
      "[CV] END activation=identity, batch_size=auto, hidden_layer_sizes=(25,), learning_rate=invscaling, solver=sgd; total time=   0.1s\n"
     ]
    },
    {
     "name": "stderr",
     "output_type": "stream",
     "text": [
      "/Users/mariusj/Documents/Edu/UMA/lectures/Data Mining/Project/dm1-titanic/.venv/lib/python3.9/site-packages/sklearn/neural_network/_multilayer_perceptron.py:702: ConvergenceWarning: Stochastic Optimizer: Maximum iterations (200) reached and the optimization hasn't converged yet.\n",
      "  warnings.warn(\n",
      "/Users/mariusj/Documents/Edu/UMA/lectures/Data Mining/Project/dm1-titanic/.venv/lib/python3.9/site-packages/sklearn/neural_network/_multilayer_perceptron.py:702: ConvergenceWarning: Stochastic Optimizer: Maximum iterations (200) reached and the optimization hasn't converged yet.\n",
      "  warnings.warn(\n"
     ]
    },
    {
     "name": "stdout",
     "output_type": "stream",
     "text": [
      "[CV] END activation=identity, batch_size=auto, hidden_layer_sizes=(25,), learning_rate=invscaling, solver=sgd; total time=   0.1s\n",
      "[CV] END activation=identity, batch_size=auto, hidden_layer_sizes=(25,), learning_rate=invscaling, solver=sgd; total time=   0.0s\n",
      "[CV] END activation=identity, batch_size=auto, hidden_layer_sizes=(25,), learning_rate=invscaling, solver=sgd; total time=   0.1s\n",
      "[CV] END activation=identity, batch_size=auto, hidden_layer_sizes=(25,), learning_rate=invscaling, solver=sgd; total time=   0.1s\n"
     ]
    },
    {
     "name": "stderr",
     "output_type": "stream",
     "text": [
      "/Users/mariusj/Documents/Edu/UMA/lectures/Data Mining/Project/dm1-titanic/.venv/lib/python3.9/site-packages/sklearn/neural_network/_multilayer_perceptron.py:702: ConvergenceWarning: Stochastic Optimizer: Maximum iterations (200) reached and the optimization hasn't converged yet.\n",
      "  warnings.warn(\n",
      "/Users/mariusj/Documents/Edu/UMA/lectures/Data Mining/Project/dm1-titanic/.venv/lib/python3.9/site-packages/sklearn/neural_network/_multilayer_perceptron.py:702: ConvergenceWarning: Stochastic Optimizer: Maximum iterations (200) reached and the optimization hasn't converged yet.\n",
      "  warnings.warn(\n"
     ]
    },
    {
     "name": "stdout",
     "output_type": "stream",
     "text": [
      "[CV] END activation=identity, batch_size=auto, hidden_layer_sizes=(25,), learning_rate=invscaling, solver=sgd; total time=   0.1s\n",
      "[CV] END activation=identity, batch_size=auto, hidden_layer_sizes=(25,), learning_rate=invscaling, solver=sgd; total time=   0.1s\n",
      "[CV] END activation=identity, batch_size=auto, hidden_layer_sizes=(25,), learning_rate=invscaling, solver=sgd; total time=   0.1s\n",
      "[CV] END activation=identity, batch_size=auto, hidden_layer_sizes=(25,), learning_rate=invscaling, solver=sgd; total time=   0.0s\n"
     ]
    },
    {
     "name": "stderr",
     "output_type": "stream",
     "text": [
      "/Users/mariusj/Documents/Edu/UMA/lectures/Data Mining/Project/dm1-titanic/.venv/lib/python3.9/site-packages/sklearn/neural_network/_multilayer_perceptron.py:702: ConvergenceWarning: Stochastic Optimizer: Maximum iterations (200) reached and the optimization hasn't converged yet.\n",
      "  warnings.warn(\n"
     ]
    },
    {
     "name": "stdout",
     "output_type": "stream",
     "text": [
      "[CV] END activation=identity, batch_size=auto, hidden_layer_sizes=(25,), learning_rate=invscaling, solver=adam; total time=   0.1s\n",
      "[CV] END activation=identity, batch_size=auto, hidden_layer_sizes=(25,), learning_rate=invscaling, solver=adam; total time=   0.1s\n",
      "[CV] END activation=identity, batch_size=auto, hidden_layer_sizes=(25,), learning_rate=invscaling, solver=adam; total time=   0.1s\n",
      "[CV] END activation=identity, batch_size=auto, hidden_layer_sizes=(25,), learning_rate=invscaling, solver=adam; total time=   0.1s\n",
      "[CV] END activation=identity, batch_size=auto, hidden_layer_sizes=(25,), learning_rate=invscaling, solver=adam; total time=   0.1s\n",
      "[CV] END activation=identity, batch_size=auto, hidden_layer_sizes=(25,), learning_rate=invscaling, solver=adam; total time=   0.1s\n"
     ]
    },
    {
     "name": "stderr",
     "output_type": "stream",
     "text": [
      "/Users/mariusj/Documents/Edu/UMA/lectures/Data Mining/Project/dm1-titanic/.venv/lib/python3.9/site-packages/sklearn/neural_network/_multilayer_perceptron.py:702: ConvergenceWarning: Stochastic Optimizer: Maximum iterations (200) reached and the optimization hasn't converged yet.\n",
      "  warnings.warn(\n",
      "/Users/mariusj/Documents/Edu/UMA/lectures/Data Mining/Project/dm1-titanic/.venv/lib/python3.9/site-packages/sklearn/neural_network/_multilayer_perceptron.py:702: ConvergenceWarning: Stochastic Optimizer: Maximum iterations (200) reached and the optimization hasn't converged yet.\n",
      "  warnings.warn(\n"
     ]
    },
    {
     "name": "stdout",
     "output_type": "stream",
     "text": [
      "[CV] END activation=identity, batch_size=auto, hidden_layer_sizes=(25,), learning_rate=invscaling, solver=adam; total time=   0.1s\n",
      "[CV] END activation=identity, batch_size=auto, hidden_layer_sizes=(25,), learning_rate=invscaling, solver=adam; total time=   0.1s\n",
      "[CV] END activation=identity, batch_size=auto, hidden_layer_sizes=(25,), learning_rate=invscaling, solver=adam; total time=   0.1s\n"
     ]
    },
    {
     "name": "stderr",
     "output_type": "stream",
     "text": [
      "/Users/mariusj/Documents/Edu/UMA/lectures/Data Mining/Project/dm1-titanic/.venv/lib/python3.9/site-packages/sklearn/neural_network/_multilayer_perceptron.py:702: ConvergenceWarning: Stochastic Optimizer: Maximum iterations (200) reached and the optimization hasn't converged yet.\n",
      "  warnings.warn(\n",
      "/Users/mariusj/Documents/Edu/UMA/lectures/Data Mining/Project/dm1-titanic/.venv/lib/python3.9/site-packages/sklearn/neural_network/_multilayer_perceptron.py:702: ConvergenceWarning: Stochastic Optimizer: Maximum iterations (200) reached and the optimization hasn't converged yet.\n",
      "  warnings.warn(\n"
     ]
    },
    {
     "name": "stdout",
     "output_type": "stream",
     "text": [
      "[CV] END activation=identity, batch_size=auto, hidden_layer_sizes=(25,), learning_rate=invscaling, solver=adam; total time=   0.1s\n",
      "[CV] END activation=identity, batch_size=auto, hidden_layer_sizes=(25,), learning_rate=adaptive, solver=lbfgs; total time=   0.9s\n",
      "[CV] END activation=identity, batch_size=auto, hidden_layer_sizes=(25,), learning_rate=adaptive, solver=lbfgs; total time=   0.7s\n",
      "[CV] END activation=identity, batch_size=auto, hidden_layer_sizes=(25,), learning_rate=adaptive, solver=lbfgs; total time=   0.4s\n",
      "[CV] END activation=identity, batch_size=auto, hidden_layer_sizes=(25,), learning_rate=adaptive, solver=lbfgs; total time=   0.3s\n",
      "[CV] END activation=identity, batch_size=auto, hidden_layer_sizes=(25,), learning_rate=adaptive, solver=lbfgs; total time=   0.4s\n",
      "[CV] END activation=identity, batch_size=auto, hidden_layer_sizes=(25,), learning_rate=adaptive, solver=lbfgs; total time=   0.2s\n",
      "[CV] END activation=identity, batch_size=auto, hidden_layer_sizes=(25,), learning_rate=adaptive, solver=lbfgs; total time=   0.3s\n",
      "[CV] END activation=identity, batch_size=auto, hidden_layer_sizes=(25,), learning_rate=adaptive, solver=lbfgs; total time=   0.2s\n",
      "[CV] END activation=identity, batch_size=auto, hidden_layer_sizes=(25,), learning_rate=adaptive, solver=lbfgs; total time=   0.5s\n",
      "[CV] END activation=identity, batch_size=auto, hidden_layer_sizes=(25,), learning_rate=adaptive, solver=lbfgs; total time=   0.6s\n",
      "[CV] END activation=identity, batch_size=auto, hidden_layer_sizes=(25,), learning_rate=adaptive, solver=sgd; total time=   0.1s\n"
     ]
    },
    {
     "name": "stderr",
     "output_type": "stream",
     "text": [
      "/Users/mariusj/Documents/Edu/UMA/lectures/Data Mining/Project/dm1-titanic/.venv/lib/python3.9/site-packages/sklearn/neural_network/_multilayer_perceptron.py:702: ConvergenceWarning: Stochastic Optimizer: Maximum iterations (200) reached and the optimization hasn't converged yet.\n",
      "  warnings.warn(\n",
      "/Users/mariusj/Documents/Edu/UMA/lectures/Data Mining/Project/dm1-titanic/.venv/lib/python3.9/site-packages/sklearn/neural_network/_multilayer_perceptron.py:702: ConvergenceWarning: Stochastic Optimizer: Maximum iterations (200) reached and the optimization hasn't converged yet.\n",
      "  warnings.warn(\n"
     ]
    },
    {
     "name": "stdout",
     "output_type": "stream",
     "text": [
      "[CV] END activation=identity, batch_size=auto, hidden_layer_sizes=(25,), learning_rate=adaptive, solver=sgd; total time=   0.1s\n",
      "[CV] END activation=identity, batch_size=auto, hidden_layer_sizes=(25,), learning_rate=adaptive, solver=sgd; total time=   0.1s\n",
      "[CV] END activation=identity, batch_size=auto, hidden_layer_sizes=(25,), learning_rate=adaptive, solver=sgd; total time=   0.1s\n"
     ]
    },
    {
     "name": "stderr",
     "output_type": "stream",
     "text": [
      "/Users/mariusj/Documents/Edu/UMA/lectures/Data Mining/Project/dm1-titanic/.venv/lib/python3.9/site-packages/sklearn/neural_network/_multilayer_perceptron.py:702: ConvergenceWarning: Stochastic Optimizer: Maximum iterations (200) reached and the optimization hasn't converged yet.\n",
      "  warnings.warn(\n",
      "/Users/mariusj/Documents/Edu/UMA/lectures/Data Mining/Project/dm1-titanic/.venv/lib/python3.9/site-packages/sklearn/neural_network/_multilayer_perceptron.py:702: ConvergenceWarning: Stochastic Optimizer: Maximum iterations (200) reached and the optimization hasn't converged yet.\n",
      "  warnings.warn(\n",
      "/Users/mariusj/Documents/Edu/UMA/lectures/Data Mining/Project/dm1-titanic/.venv/lib/python3.9/site-packages/sklearn/neural_network/_multilayer_perceptron.py:702: ConvergenceWarning: Stochastic Optimizer: Maximum iterations (200) reached and the optimization hasn't converged yet.\n",
      "  warnings.warn(\n"
     ]
    },
    {
     "name": "stdout",
     "output_type": "stream",
     "text": [
      "[CV] END activation=identity, batch_size=auto, hidden_layer_sizes=(25,), learning_rate=adaptive, solver=sgd; total time=   0.1s\n",
      "[CV] END activation=identity, batch_size=auto, hidden_layer_sizes=(25,), learning_rate=adaptive, solver=sgd; total time=   0.1s\n",
      "[CV] END activation=identity, batch_size=auto, hidden_layer_sizes=(25,), learning_rate=adaptive, solver=sgd; total time=   0.1s\n"
     ]
    },
    {
     "name": "stderr",
     "output_type": "stream",
     "text": [
      "/Users/mariusj/Documents/Edu/UMA/lectures/Data Mining/Project/dm1-titanic/.venv/lib/python3.9/site-packages/sklearn/neural_network/_multilayer_perceptron.py:702: ConvergenceWarning: Stochastic Optimizer: Maximum iterations (200) reached and the optimization hasn't converged yet.\n",
      "  warnings.warn(\n",
      "/Users/mariusj/Documents/Edu/UMA/lectures/Data Mining/Project/dm1-titanic/.venv/lib/python3.9/site-packages/sklearn/neural_network/_multilayer_perceptron.py:702: ConvergenceWarning: Stochastic Optimizer: Maximum iterations (200) reached and the optimization hasn't converged yet.\n",
      "  warnings.warn(\n",
      "/Users/mariusj/Documents/Edu/UMA/lectures/Data Mining/Project/dm1-titanic/.venv/lib/python3.9/site-packages/sklearn/neural_network/_multilayer_perceptron.py:702: ConvergenceWarning: Stochastic Optimizer: Maximum iterations (200) reached and the optimization hasn't converged yet.\n",
      "  warnings.warn(\n"
     ]
    },
    {
     "name": "stdout",
     "output_type": "stream",
     "text": [
      "[CV] END activation=identity, batch_size=auto, hidden_layer_sizes=(25,), learning_rate=adaptive, solver=sgd; total time=   0.1s\n",
      "[CV] END activation=identity, batch_size=auto, hidden_layer_sizes=(25,), learning_rate=adaptive, solver=sgd; total time=   0.1s\n",
      "[CV] END activation=identity, batch_size=auto, hidden_layer_sizes=(25,), learning_rate=adaptive, solver=sgd; total time=   0.1s\n"
     ]
    },
    {
     "name": "stderr",
     "output_type": "stream",
     "text": [
      "/Users/mariusj/Documents/Edu/UMA/lectures/Data Mining/Project/dm1-titanic/.venv/lib/python3.9/site-packages/sklearn/neural_network/_multilayer_perceptron.py:702: ConvergenceWarning: Stochastic Optimizer: Maximum iterations (200) reached and the optimization hasn't converged yet.\n",
      "  warnings.warn(\n",
      "/Users/mariusj/Documents/Edu/UMA/lectures/Data Mining/Project/dm1-titanic/.venv/lib/python3.9/site-packages/sklearn/neural_network/_multilayer_perceptron.py:702: ConvergenceWarning: Stochastic Optimizer: Maximum iterations (200) reached and the optimization hasn't converged yet.\n",
      "  warnings.warn(\n",
      "/Users/mariusj/Documents/Edu/UMA/lectures/Data Mining/Project/dm1-titanic/.venv/lib/python3.9/site-packages/sklearn/neural_network/_multilayer_perceptron.py:702: ConvergenceWarning: Stochastic Optimizer: Maximum iterations (200) reached and the optimization hasn't converged yet.\n",
      "  warnings.warn(\n"
     ]
    },
    {
     "name": "stdout",
     "output_type": "stream",
     "text": [
      "[CV] END activation=identity, batch_size=auto, hidden_layer_sizes=(25,), learning_rate=adaptive, solver=adam; total time=   0.1s\n",
      "[CV] END activation=identity, batch_size=auto, hidden_layer_sizes=(25,), learning_rate=adaptive, solver=adam; total time=   0.1s\n",
      "[CV] END activation=identity, batch_size=auto, hidden_layer_sizes=(25,), learning_rate=adaptive, solver=adam; total time=   0.1s\n",
      "[CV] END activation=identity, batch_size=auto, hidden_layer_sizes=(25,), learning_rate=adaptive, solver=adam; total time=   0.1s\n",
      "[CV] END activation=identity, batch_size=auto, hidden_layer_sizes=(25,), learning_rate=adaptive, solver=adam; total time=   0.1s\n",
      "[CV] END activation=identity, batch_size=auto, hidden_layer_sizes=(25,), learning_rate=adaptive, solver=adam; total time=   0.1s\n"
     ]
    },
    {
     "name": "stderr",
     "output_type": "stream",
     "text": [
      "/Users/mariusj/Documents/Edu/UMA/lectures/Data Mining/Project/dm1-titanic/.venv/lib/python3.9/site-packages/sklearn/neural_network/_multilayer_perceptron.py:702: ConvergenceWarning: Stochastic Optimizer: Maximum iterations (200) reached and the optimization hasn't converged yet.\n",
      "  warnings.warn(\n",
      "/Users/mariusj/Documents/Edu/UMA/lectures/Data Mining/Project/dm1-titanic/.venv/lib/python3.9/site-packages/sklearn/neural_network/_multilayer_perceptron.py:702: ConvergenceWarning: Stochastic Optimizer: Maximum iterations (200) reached and the optimization hasn't converged yet.\n",
      "  warnings.warn(\n"
     ]
    },
    {
     "name": "stdout",
     "output_type": "stream",
     "text": [
      "[CV] END activation=identity, batch_size=auto, hidden_layer_sizes=(25,), learning_rate=adaptive, solver=adam; total time=   0.1s\n",
      "[CV] END activation=identity, batch_size=auto, hidden_layer_sizes=(25,), learning_rate=adaptive, solver=adam; total time=   0.1s\n",
      "[CV] END activation=identity, batch_size=auto, hidden_layer_sizes=(25,), learning_rate=adaptive, solver=adam; total time=   0.1s\n",
      "[CV] END activation=identity, batch_size=auto, hidden_layer_sizes=(25,), learning_rate=adaptive, solver=adam; total time=   0.1s\n",
      "[CV] END activation=identity, batch_size=auto, hidden_layer_sizes=(75,), learning_rate=constant, solver=lbfgs; total time=   2.6s\n"
     ]
    }
   ],
   "source": [
    "# load data\n",
    "train, test = retrieve_latest_train_test()\n",
    "\n",
    "# run grid search cv\n",
    "_gscv = run_grid_search_cv(\n",
    "    gscv_dct=gscv_cfg_mlp,\n",
    "    X_train=train.drop([\"Survived\"], axis=1),\n",
    "    y_train=train[\"Survived\"]\n",
    "    ).__dict__\n",
    "\n",
    "# save results\n",
    "save_results_and_session(name, _gscv)"
   ]
  }
 ],
 "metadata": {
  "kernelspec": {
   "display_name": "Python 3.9.10 ('.venv': venv)",
   "language": "python",
   "name": "python3"
  },
  "language_info": {
   "codemirror_mode": {
    "name": "ipython",
    "version": 3
   },
   "file_extension": ".py",
   "mimetype": "text/x-python",
   "name": "python",
   "nbconvert_exporter": "python",
   "pygments_lexer": "ipython3",
   "version": "3.9.10"
  },
  "orig_nbformat": 4,
  "vscode": {
   "interpreter": {
    "hash": "c9abcb6f00eb2f6d4daee5e356d60a40aafbe82eb74959741ede0eec5bc79320"
   }
  }
 },
 "nbformat": 4,
 "nbformat_minor": 2
}
