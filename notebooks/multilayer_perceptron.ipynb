{
 "cells": [
  {
   "cell_type": "code",
   "execution_count": 1,
   "metadata": {},
   "outputs": [],
   "source": [
    "from utils import retrieve_latest_train_test, run_grid_search_cv, save_results_and_session, load_latest_session\n",
    "from gscv_configs import gscv_cfg_mlp\n",
    "\n",
    "# This notebook applies MLPClassifier\n",
    "name = gscv_cfg_mlp.name\n"
   ]
  },
  {
   "cell_type": "code",
   "execution_count": 2,
   "metadata": {},
   "outputs": [
    {
     "name": "stdout",
     "output_type": "stream",
     "text": [
      "Fitting 10 folds for each of 6 candidates, totalling 60 fits\n",
      "[CV] END activation=relu, batch_size=auto, hidden_layer_sizes=(10,), learning_rate=invscaling, max_iter=1400, solver=adam; total time=   0.2s\n",
      "[CV] END activation=relu, batch_size=auto, hidden_layer_sizes=(10,), learning_rate=invscaling, max_iter=1400, solver=adam; total time=   0.3s\n",
      "[CV] END activation=relu, batch_size=auto, hidden_layer_sizes=(10,), learning_rate=invscaling, max_iter=1400, solver=adam; total time=   0.2s\n",
      "[CV] END activation=relu, batch_size=auto, hidden_layer_sizes=(10,), learning_rate=invscaling, max_iter=1400, solver=adam; total time=   0.2s\n",
      "[CV] END activation=relu, batch_size=auto, hidden_layer_sizes=(10,), learning_rate=invscaling, max_iter=1400, solver=adam; total time=   0.2s\n",
      "[CV] END activation=relu, batch_size=auto, hidden_layer_sizes=(10,), learning_rate=invscaling, max_iter=1400, solver=adam; total time=   0.4s\n",
      "[CV] END activation=relu, batch_size=auto, hidden_layer_sizes=(10,), learning_rate=invscaling, max_iter=1400, solver=adam; total time=   0.2s\n",
      "[CV] END activation=relu, batch_size=auto, hidden_layer_sizes=(10,), learning_rate=invscaling, max_iter=1400, solver=adam; total time=   0.9s\n",
      "[CV] END activation=relu, batch_size=auto, hidden_layer_sizes=(10,), learning_rate=invscaling, max_iter=1400, solver=adam; total time=   0.5s\n",
      "[CV] END activation=relu, batch_size=auto, hidden_layer_sizes=(10,), learning_rate=invscaling, max_iter=1400, solver=adam; total time=   0.5s\n",
      "[CV] END activation=relu, batch_size=auto, hidden_layer_sizes=(10,), learning_rate=invscaling, max_iter=1500, solver=adam; total time=   0.6s\n",
      "[CV] END activation=relu, batch_size=auto, hidden_layer_sizes=(10,), learning_rate=invscaling, max_iter=1500, solver=adam; total time=   0.6s\n",
      "[CV] END activation=relu, batch_size=auto, hidden_layer_sizes=(10,), learning_rate=invscaling, max_iter=1500, solver=adam; total time=   0.2s\n",
      "[CV] END activation=relu, batch_size=auto, hidden_layer_sizes=(10,), learning_rate=invscaling, max_iter=1500, solver=adam; total time=   0.5s\n",
      "[CV] END activation=relu, batch_size=auto, hidden_layer_sizes=(10,), learning_rate=invscaling, max_iter=1500, solver=adam; total time=   0.4s\n",
      "[CV] END activation=relu, batch_size=auto, hidden_layer_sizes=(10,), learning_rate=invscaling, max_iter=1500, solver=adam; total time=   0.4s\n",
      "[CV] END activation=relu, batch_size=auto, hidden_layer_sizes=(10,), learning_rate=invscaling, max_iter=1500, solver=adam; total time=   0.2s\n",
      "[CV] END activation=relu, batch_size=auto, hidden_layer_sizes=(10,), learning_rate=invscaling, max_iter=1500, solver=adam; total time=   0.4s\n",
      "[CV] END activation=relu, batch_size=auto, hidden_layer_sizes=(10,), learning_rate=invscaling, max_iter=1500, solver=adam; total time=   0.4s\n",
      "[CV] END activation=relu, batch_size=auto, hidden_layer_sizes=(10,), learning_rate=invscaling, max_iter=1500, solver=adam; total time=   0.3s\n",
      "[CV] END activation=relu, batch_size=auto, hidden_layer_sizes=(11,), learning_rate=invscaling, max_iter=1400, solver=adam; total time=   0.4s\n",
      "[CV] END activation=relu, batch_size=auto, hidden_layer_sizes=(11,), learning_rate=invscaling, max_iter=1400, solver=adam; total time=   0.6s\n",
      "[CV] END activation=relu, batch_size=auto, hidden_layer_sizes=(11,), learning_rate=invscaling, max_iter=1400, solver=adam; total time=   0.5s\n",
      "[CV] END activation=relu, batch_size=auto, hidden_layer_sizes=(11,), learning_rate=invscaling, max_iter=1400, solver=adam; total time=   0.6s\n",
      "[CV] END activation=relu, batch_size=auto, hidden_layer_sizes=(11,), learning_rate=invscaling, max_iter=1400, solver=adam; total time=   0.6s\n",
      "[CV] END activation=relu, batch_size=auto, hidden_layer_sizes=(11,), learning_rate=invscaling, max_iter=1400, solver=adam; total time=   0.5s\n",
      "[CV] END activation=relu, batch_size=auto, hidden_layer_sizes=(11,), learning_rate=invscaling, max_iter=1400, solver=adam; total time=   1.1s\n",
      "[CV] END activation=relu, batch_size=auto, hidden_layer_sizes=(11,), learning_rate=invscaling, max_iter=1400, solver=adam; total time=   0.5s\n",
      "[CV] END activation=relu, batch_size=auto, hidden_layer_sizes=(11,), learning_rate=invscaling, max_iter=1400, solver=adam; total time=   0.5s\n",
      "[CV] END activation=relu, batch_size=auto, hidden_layer_sizes=(11,), learning_rate=invscaling, max_iter=1400, solver=adam; total time=   0.7s\n",
      "[CV] END activation=relu, batch_size=auto, hidden_layer_sizes=(11,), learning_rate=invscaling, max_iter=1500, solver=adam; total time=   0.3s\n",
      "[CV] END activation=relu, batch_size=auto, hidden_layer_sizes=(11,), learning_rate=invscaling, max_iter=1500, solver=adam; total time=   0.5s\n",
      "[CV] END activation=relu, batch_size=auto, hidden_layer_sizes=(11,), learning_rate=invscaling, max_iter=1500, solver=adam; total time=   0.3s\n",
      "[CV] END activation=relu, batch_size=auto, hidden_layer_sizes=(11,), learning_rate=invscaling, max_iter=1500, solver=adam; total time=   0.4s\n",
      "[CV] END activation=relu, batch_size=auto, hidden_layer_sizes=(11,), learning_rate=invscaling, max_iter=1500, solver=adam; total time=   0.4s\n",
      "[CV] END activation=relu, batch_size=auto, hidden_layer_sizes=(11,), learning_rate=invscaling, max_iter=1500, solver=adam; total time=   0.3s\n",
      "[CV] END activation=relu, batch_size=auto, hidden_layer_sizes=(11,), learning_rate=invscaling, max_iter=1500, solver=adam; total time=   0.2s\n",
      "[CV] END activation=relu, batch_size=auto, hidden_layer_sizes=(11,), learning_rate=invscaling, max_iter=1500, solver=adam; total time=   0.1s\n",
      "[CV] END activation=relu, batch_size=auto, hidden_layer_sizes=(11,), learning_rate=invscaling, max_iter=1500, solver=adam; total time=   0.4s\n",
      "[CV] END activation=relu, batch_size=auto, hidden_layer_sizes=(11,), learning_rate=invscaling, max_iter=1500, solver=adam; total time=   0.3s\n",
      "[CV] END activation=relu, batch_size=auto, hidden_layer_sizes=(12,), learning_rate=invscaling, max_iter=1400, solver=adam; total time=   0.2s\n",
      "[CV] END activation=relu, batch_size=auto, hidden_layer_sizes=(12,), learning_rate=invscaling, max_iter=1400, solver=adam; total time=   0.4s\n",
      "[CV] END activation=relu, batch_size=auto, hidden_layer_sizes=(12,), learning_rate=invscaling, max_iter=1400, solver=adam; total time=   0.3s\n",
      "[CV] END activation=relu, batch_size=auto, hidden_layer_sizes=(12,), learning_rate=invscaling, max_iter=1400, solver=adam; total time=   0.5s\n",
      "[CV] END activation=relu, batch_size=auto, hidden_layer_sizes=(12,), learning_rate=invscaling, max_iter=1400, solver=adam; total time=   0.8s\n",
      "[CV] END activation=relu, batch_size=auto, hidden_layer_sizes=(12,), learning_rate=invscaling, max_iter=1400, solver=adam; total time=   1.1s\n",
      "[CV] END activation=relu, batch_size=auto, hidden_layer_sizes=(12,), learning_rate=invscaling, max_iter=1400, solver=adam; total time=   0.8s\n",
      "[CV] END activation=relu, batch_size=auto, hidden_layer_sizes=(12,), learning_rate=invscaling, max_iter=1400, solver=adam; total time=   0.5s\n",
      "[CV] END activation=relu, batch_size=auto, hidden_layer_sizes=(12,), learning_rate=invscaling, max_iter=1400, solver=adam; total time=   0.8s\n",
      "[CV] END activation=relu, batch_size=auto, hidden_layer_sizes=(12,), learning_rate=invscaling, max_iter=1400, solver=adam; total time=   0.9s\n",
      "[CV] END activation=relu, batch_size=auto, hidden_layer_sizes=(12,), learning_rate=invscaling, max_iter=1500, solver=adam; total time=   0.5s\n",
      "[CV] END activation=relu, batch_size=auto, hidden_layer_sizes=(12,), learning_rate=invscaling, max_iter=1500, solver=adam; total time=   0.3s\n",
      "[CV] END activation=relu, batch_size=auto, hidden_layer_sizes=(12,), learning_rate=invscaling, max_iter=1500, solver=adam; total time=   0.5s\n",
      "[CV] END activation=relu, batch_size=auto, hidden_layer_sizes=(12,), learning_rate=invscaling, max_iter=1500, solver=adam; total time=   0.4s\n",
      "[CV] END activation=relu, batch_size=auto, hidden_layer_sizes=(12,), learning_rate=invscaling, max_iter=1500, solver=adam; total time=   0.3s\n",
      "[CV] END activation=relu, batch_size=auto, hidden_layer_sizes=(12,), learning_rate=invscaling, max_iter=1500, solver=adam; total time=   0.2s\n",
      "[CV] END activation=relu, batch_size=auto, hidden_layer_sizes=(12,), learning_rate=invscaling, max_iter=1500, solver=adam; total time=   0.4s\n",
      "[CV] END activation=relu, batch_size=auto, hidden_layer_sizes=(12,), learning_rate=invscaling, max_iter=1500, solver=adam; total time=   0.3s\n",
      "[CV] END activation=relu, batch_size=auto, hidden_layer_sizes=(12,), learning_rate=invscaling, max_iter=1500, solver=adam; total time=   0.2s\n",
      "[CV] END activation=relu, batch_size=auto, hidden_layer_sizes=(12,), learning_rate=invscaling, max_iter=1500, solver=adam; total time=   0.4s\n"
     ]
    },
    {
     "name": "stderr",
     "output_type": "stream",
     "text": [
      "WARNING:root:Results have been saved to '../gscv/multilayer_perceptron/2022-11-28T15:39:33.json'\n",
      "WARNING:root:Session has been saved to '/sessions/multilayer_perceptron/2022-11-28T15:39:33.json'\n"
     ]
    }
   ],
   "source": [
    "# load data\n",
    "train, test = retrieve_latest_train_test()\n",
    "\n",
    "# run grid search cv\n",
    "_gscv, pred = run_grid_search_cv(\n",
    "    gscv_dct=gscv_cfg_mlp,\n",
    "    X_train=train.drop([\"Survived\"], axis=1),\n",
    "    y_train=train[\"Survived\"],\n",
    "    X_test=test.drop([\"Survived\"], axis=1),\n",
    "    )\n",
    "\n",
    "\n",
    "# save results\n",
    "save_results_and_session(name, _gscv.__dict__)\n"
   ]
  }
 ],
 "metadata": {
  "kernelspec": {
   "display_name": "Python 3.9.10 ('.venv': venv)",
   "language": "python",
   "name": "python3"
  },
  "language_info": {
   "codemirror_mode": {
    "name": "ipython",
    "version": 3
   },
   "file_extension": ".py",
   "mimetype": "text/x-python",
   "name": "python",
   "nbconvert_exporter": "python",
   "pygments_lexer": "ipython3",
   "version": "3.9.10"
  },
  "orig_nbformat": 4,
  "vscode": {
   "interpreter": {
    "hash": "1710d972e5371705a792993fb31d06207a980ac4b5639e60f5dec81b00e20006"
   }
  }
 },
 "nbformat": 4,
 "nbformat_minor": 2
}
