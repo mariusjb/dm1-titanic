{
 "cells": [
  {
   "cell_type": "code",
   "execution_count": 1,
   "metadata": {},
   "outputs": [
    {
     "name": "stdout",
     "output_type": "stream",
     "text": [
      "=============================================================================================================================================\n",
      "DecisionTreeClassifier()\n",
      "---------------------------------------------------------------------------------------------------------------------------------------------\n",
      "F1-Score: 0.75395006075033\n",
      "Parameters: {'criterion': 'log_loss', 'max_depth': 25, 'max_features': 'sqrt', 'min_samples_leaf': 1, 'min_samples_split': 2}\n",
      "=============================================================================================================================================\n",
      "GradientBoostingClassifier()\n",
      "---------------------------------------------------------------------------------------------------------------------------------------------\n",
      "F1-Score: 0.7782794565573601\n",
      "Parameters: {'learning_rate': 0.1, 'max_depth': 7, 'max_features': 'log2', 'n_estimators': 50}\n",
      "=============================================================================================================================================\n",
      "KNeighborsClassifier()\n",
      "---------------------------------------------------------------------------------------------------------------------------------------------\n",
      "F1-Score: 0.7525102820410783\n",
      "Parameters: {'algorithm': 'ball_tree', 'n_neighbors': 10, 'weights': 'distance'}\n",
      "=============================================================================================================================================\n",
      "MLPClassifier()\n",
      "---------------------------------------------------------------------------------------------------------------------------------------------\n",
      "F1-Score: 0.7633090848896147\n",
      "Parameters: {'activation': 'relu', 'batch_size': 'auto', 'hidden_layer_sizes': [10], 'learning_rate': 'invscaling', 'max_iter': 1000, 'solver': 'adam'}\n",
      "=============================================================================================================================================\n",
      "RandomForestClassifier()\n",
      "---------------------------------------------------------------------------------------------------------------------------------------------\n",
      "F1-Score: 0.7911172355762852\n",
      "Parameters: {'bootstrap': False, 'criterion': 'entropy', 'max_depth': None, 'max_features': 'log2', 'min_samples_leaf': 2, 'min_samples_split': 5, 'n_estimators': 10}\n",
      "=============================================================================================================================================\n",
      "SVC()\n",
      "---------------------------------------------------------------------------------------------------------------------------------------------\n",
      "F1-Score: 0.7575535748448402\n",
      "Parameters: {'class_weight': 'balanced', 'gamma': 'auto', 'shrinking': True}\n",
      "=============================================================================================================================================\n",
      "XGBClassifier(base_score=None, booster=None, callbacks=None,\n",
      "              colsample_bylevel=None, colsample_bynode=None,\n",
      "              colsample_bytree=None, early_stopping_rounds=None,\n",
      "              enable_categorical=False, eval_metric=None, feature_types=None,\n",
      "              gamma=None, gpu_id=None, grow_policy=None, importance_type=None,\n",
      "              interaction_constraints=None, learning_rate=None, max_bin=None,\n",
      "              max_cat_threshold=None, max_cat_to_onehot=None,\n",
      "              max_delta_step=None, max_depth=None, max_leaves=None,\n",
      "              min_child_weight=None, missing=nan, monotone_constraints=None,\n",
      "              n_estimators=100, n_jobs=None, num_parallel_tree=None,\n",
      "              predictor=None, random_state=None, ...)\n",
      "---------------------------------------------------------------------------------------------------------------------------------------------\n",
      "F1-Score: 0.778874548109776\n",
      "Parameters: {'colsample_bytree': 0.6, 'gamma': 0.5, 'learning_rate': 0.01, 'max_depth': 10, 'n_estimators': 25}\n",
      "=============================================================================================================================================\n",
      "GaussianNB()\n",
      "---------------------------------------------------------------------------------------------------------------------------------------------\n",
      "F1-Score: 0.7147942111306915\n",
      "Parameters: {}\n"
     ]
    }
   ],
   "source": [
    "import os\n",
    "import json\n",
    "import logging\n",
    "from notebooks.gscv_configs import gscv_cfg_dt, gscv_cfg_gb, gscv_cfg_knn, gscv_cfg_mlp, gscv_cfg_rf, gscv_cfg_sv, gscv_cfg_xgb, gscv_cfg_nb\n",
    "\n",
    "cfgs = [gscv_cfg_dt, gscv_cfg_gb, gscv_cfg_knn, gscv_cfg_mlp, gscv_cfg_rf, gscv_cfg_sv, gscv_cfg_xgb, gscv_cfg_nb]\n",
    "\n",
    "best_estimator_and_params = None\n",
    "best_score = 0\n",
    "for cfg in cfgs:\n",
    "    dir = f\"gscv/{cfg.name}\"\n",
    "    files = sorted([f for f in os.listdir(dir) if (f.endswith(\".json\"))], reverse=True)\n",
    "    try:\n",
    "        file = files[0]\n",
    "        with open(f\"{dir}/{file}\") as f:\n",
    "            gscv = json.load(f)\n",
    "        \n",
    "        print(\"=============================================================================================================================================\")\n",
    "        print(f\"{cfg.estimator}\")\n",
    "        print(\"---------------------------------------------------------------------------------------------------------------------------------------------\")\n",
    "        print(f\"F1-Score: {gscv['best_score_']}\")\n",
    "        print(f\"Parameters: {gscv['best_params_']}\")\n",
    "        \n",
    "        if gscv['best_score_'] > best_score:\n",
    "            best_estimator_and_params = (cfg.estimator, gscv['best_params_'])\n",
    "            best_score = gscv['best_score_']\n",
    "\n",
    "    except IndexError:\n",
    "        logging.warning(f\"There are no results for {cfg.name}\")\n",
    "    "
   ]
  },
  {
   "cell_type": "code",
   "execution_count": 2,
   "metadata": {},
   "outputs": [
    {
     "name": "stdout",
     "output_type": "stream",
     "text": [
      "=============================================================================================================================================\n",
      "BEST MODEL (w.r.t. F1)\n",
      "---------------------------------------------------------------------------------------------------------------------------------------------\n",
      "Estimator: RandomForestClassifier()\n",
      "Parameters: {'bootstrap': False, 'criterion': 'entropy', 'max_depth': None, 'max_features': 'log2', 'min_samples_leaf': 2, 'min_samples_split': 5, 'n_estimators': 10}\n"
     ]
    }
   ],
   "source": [
    "estimator = best_estimator_and_params[0]\n",
    "param_grid = best_estimator_and_params[1]\n",
    "\n",
    "print(\"=============================================================================================================================================\")\n",
    "print(\"BEST MODEL (w.r.t. F1)\")\n",
    "print(\"---------------------------------------------------------------------------------------------------------------------------------------------\")\n",
    "print(f\"Estimator: {estimator}\")\n",
    "print(f\"Parameters: {param_grid}\")"
   ]
  },
  {
   "cell_type": "code",
   "execution_count": 4,
   "metadata": {},
   "outputs": [],
   "source": [
    "import pandas as pd\n",
    "import os\n",
    "\n",
    "# Prepare Submission\n",
    "\n",
    "train = pd.read_csv(f\"data/preprocessed_20221117.csv\", index_col=0)\n",
    "X_train = train.drop([\"Survived\"], axis=1)\n",
    "y_train = train[\"Survived\"]\n",
    "\n",
    "# TODO: THIS IS WRONG AND NEEDS TO BE CHANGED (test data not yet available)\n",
    "X_test = X_train # pd.read_csv(f\"data/test.csv\", index_col=0)\n",
    "\n",
    "estimator.set_params(**param_grid)\n",
    "estimator.fit(X_train, y_train)\n",
    "\n",
    "yhat = estimator.predict(X_train)\n",
    "\n",
    "subm = pd.DataFrame(yhat, columns=[\"Survived\"], index=X_test.index)\n",
    "subm.index.name=\"PassengerId\"\n",
    "\n",
    "# subm.to_csv(\"submission/submission.csv\")\n"
   ]
  }
 ],
 "metadata": {
  "kernelspec": {
   "display_name": "Python 3.9.10 ('.venv': venv)",
   "language": "python",
   "name": "python3"
  },
  "language_info": {
   "codemirror_mode": {
    "name": "ipython",
    "version": 3
   },
   "file_extension": ".py",
   "mimetype": "text/x-python",
   "name": "python",
   "nbconvert_exporter": "python",
   "pygments_lexer": "ipython3",
   "version": "3.9.10"
  },
  "orig_nbformat": 4,
  "vscode": {
   "interpreter": {
    "hash": "c9abcb6f00eb2f6d4daee5e356d60a40aafbe82eb74959741ede0eec5bc79320"
   }
  }
 },
 "nbformat": 4,
 "nbformat_minor": 2
}
