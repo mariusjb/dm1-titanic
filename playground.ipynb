{
 "cells": [
  {
   "cell_type": "code",
   "execution_count": 712,
   "metadata": {},
   "outputs": [],
   "source": [
    "import pandas as pd\n",
    "import re"
   ]
  },
  {
   "cell_type": "code",
   "execution_count": 713,
   "metadata": {},
   "outputs": [
    {
     "data": {
      "text/html": [
       "<div>\n",
       "<style scoped>\n",
       "    .dataframe tbody tr th:only-of-type {\n",
       "        vertical-align: middle;\n",
       "    }\n",
       "\n",
       "    .dataframe tbody tr th {\n",
       "        vertical-align: top;\n",
       "    }\n",
       "\n",
       "    .dataframe thead th {\n",
       "        text-align: right;\n",
       "    }\n",
       "</style>\n",
       "<table border=\"1\" class=\"dataframe\">\n",
       "  <thead>\n",
       "    <tr style=\"text-align: right;\">\n",
       "      <th></th>\n",
       "      <th>PassengerId</th>\n",
       "      <th>Survived</th>\n",
       "      <th>Pclass</th>\n",
       "      <th>Name</th>\n",
       "      <th>Sex</th>\n",
       "      <th>Age</th>\n",
       "      <th>SibSp</th>\n",
       "      <th>Parch</th>\n",
       "      <th>Ticket</th>\n",
       "      <th>Fare</th>\n",
       "      <th>Cabin</th>\n",
       "      <th>Embarked</th>\n",
       "    </tr>\n",
       "  </thead>\n",
       "  <tbody>\n",
       "    <tr>\n",
       "      <th>0</th>\n",
       "      <td>1</td>\n",
       "      <td>0</td>\n",
       "      <td>3</td>\n",
       "      <td>Braund, Mr. Owen Harris</td>\n",
       "      <td>male</td>\n",
       "      <td>22.0</td>\n",
       "      <td>1</td>\n",
       "      <td>0</td>\n",
       "      <td>A/5 21171</td>\n",
       "      <td>7.2500</td>\n",
       "      <td>NaN</td>\n",
       "      <td>S</td>\n",
       "    </tr>\n",
       "    <tr>\n",
       "      <th>1</th>\n",
       "      <td>2</td>\n",
       "      <td>1</td>\n",
       "      <td>1</td>\n",
       "      <td>Cumings, Mrs. John Bradley (Florence Briggs Th...</td>\n",
       "      <td>female</td>\n",
       "      <td>38.0</td>\n",
       "      <td>1</td>\n",
       "      <td>0</td>\n",
       "      <td>PC 17599</td>\n",
       "      <td>71.2833</td>\n",
       "      <td>C85</td>\n",
       "      <td>C</td>\n",
       "    </tr>\n",
       "    <tr>\n",
       "      <th>2</th>\n",
       "      <td>3</td>\n",
       "      <td>1</td>\n",
       "      <td>3</td>\n",
       "      <td>Heikkinen, Miss. Laina</td>\n",
       "      <td>female</td>\n",
       "      <td>26.0</td>\n",
       "      <td>0</td>\n",
       "      <td>0</td>\n",
       "      <td>STON/O2. 3101282</td>\n",
       "      <td>7.9250</td>\n",
       "      <td>NaN</td>\n",
       "      <td>S</td>\n",
       "    </tr>\n",
       "    <tr>\n",
       "      <th>3</th>\n",
       "      <td>4</td>\n",
       "      <td>1</td>\n",
       "      <td>1</td>\n",
       "      <td>Futrelle, Mrs. Jacques Heath (Lily May Peel)</td>\n",
       "      <td>female</td>\n",
       "      <td>35.0</td>\n",
       "      <td>1</td>\n",
       "      <td>0</td>\n",
       "      <td>113803</td>\n",
       "      <td>53.1000</td>\n",
       "      <td>C123</td>\n",
       "      <td>S</td>\n",
       "    </tr>\n",
       "    <tr>\n",
       "      <th>4</th>\n",
       "      <td>5</td>\n",
       "      <td>0</td>\n",
       "      <td>3</td>\n",
       "      <td>Allen, Mr. William Henry</td>\n",
       "      <td>male</td>\n",
       "      <td>35.0</td>\n",
       "      <td>0</td>\n",
       "      <td>0</td>\n",
       "      <td>373450</td>\n",
       "      <td>8.0500</td>\n",
       "      <td>NaN</td>\n",
       "      <td>S</td>\n",
       "    </tr>\n",
       "  </tbody>\n",
       "</table>\n",
       "</div>"
      ],
      "text/plain": [
       "   PassengerId  Survived  Pclass  \\\n",
       "0            1         0       3   \n",
       "1            2         1       1   \n",
       "2            3         1       3   \n",
       "3            4         1       1   \n",
       "4            5         0       3   \n",
       "\n",
       "                                                Name     Sex   Age  SibSp  \\\n",
       "0                            Braund, Mr. Owen Harris    male  22.0      1   \n",
       "1  Cumings, Mrs. John Bradley (Florence Briggs Th...  female  38.0      1   \n",
       "2                             Heikkinen, Miss. Laina  female  26.0      0   \n",
       "3       Futrelle, Mrs. Jacques Heath (Lily May Peel)  female  35.0      1   \n",
       "4                           Allen, Mr. William Henry    male  35.0      0   \n",
       "\n",
       "   Parch            Ticket     Fare Cabin Embarked  \n",
       "0      0         A/5 21171   7.2500   NaN        S  \n",
       "1      0          PC 17599  71.2833   C85        C  \n",
       "2      0  STON/O2. 3101282   7.9250   NaN        S  \n",
       "3      0            113803  53.1000  C123        S  \n",
       "4      0            373450   8.0500   NaN        S  "
      ]
     },
     "execution_count": 713,
     "metadata": {},
     "output_type": "execute_result"
    }
   ],
   "source": [
    "# data imported from https://www.kaggle.com/competitions/titanic/overview\n",
    "\n",
    "df = pd.read_csv(\"data/train.csv\")\n",
    "df.head()"
   ]
  },
  {
   "cell_type": "code",
   "execution_count": 714,
   "metadata": {},
   "outputs": [],
   "source": [
    "df.drop(\"PassengerId\", inplace=True, axis=1)\n",
    "df.drop(\"Ticket\", inplace=True, axis=1)"
   ]
  },
  {
   "cell_type": "code",
   "execution_count": 715,
   "metadata": {},
   "outputs": [
    {
     "name": "stderr",
     "output_type": "stream",
     "text": [
      "/var/folders/yh/_hhnyz8x39x108l45f3_k0x40000gn/T/ipykernel_40557/257419810.py:16: SettingWithCopyWarning: \n",
      "A value is trying to be set on a copy of a slice from a DataFrame\n",
      "\n",
      "See the caveats in the documentation: https://pandas.pydata.org/pandas-docs/stable/user_guide/indexing.html#returning-a-view-versus-a-copy\n",
      "  df[\"Title\"][idx] = title_mapping[s]\n"
     ]
    }
   ],
   "source": [
    "# retrieve title and create new column, drop name column\n",
    "\n",
    "title_mapping = {\n",
    "    \"Mr\": 1,\n",
    "    \"Miss\": 2, \"Mlle\": 2, \"Ms\": 2,\n",
    "    \"Mrs\": 3, \"Mme\": 3,\n",
    "    \"Master\": 4,\n",
    "    \"Don\": 5, \"Rev\": 5, \"Dr\": 5, \"Major\": 5, \"Lady\": 5, \"Sir\": 5, \"Col\": 5, \"Capt\": 5, \"the Countess\": 5, \"Jonkheer\": 5\n",
    "}\n",
    "\n",
    "df[\"Title\"] = 0\n",
    "for idx, x in enumerate(df[\"Name\"]):\n",
    "    for s in x.split(\" \"):\n",
    "        s = s.replace(\".\", \"\")\n",
    "        if s in title_mapping.keys():\n",
    "            df[\"Title\"][idx] = title_mapping[s]\n",
    "\n",
    "df.drop(\"Name\", inplace=True, axis=1)"
   ]
  },
  {
   "cell_type": "code",
   "execution_count": 716,
   "metadata": {},
   "outputs": [
    {
     "name": "stderr",
     "output_type": "stream",
     "text": [
      "/var/folders/yh/_hhnyz8x39x108l45f3_k0x40000gn/T/ipykernel_40557/2236402236.py:16: SettingWithCopyWarning: \n",
      "A value is trying to be set on a copy of a slice from a DataFrame\n",
      "\n",
      "See the caveats in the documentation: https://pandas.pydata.org/pandas-docs/stable/user_guide/indexing.html#returning-a-view-versus-a-copy\n",
      "  df[\"CabinLvl\"][idx] = level_mapping[x[0]]\n"
     ]
    }
   ],
   "source": [
    "# retrieve level of the cabin according to the floorplans\n",
    "level_mapping = {\n",
    "    \"A\": 1,\n",
    "    \"B\": 2,\n",
    "    \"C\": 3,\n",
    "    \"D\": 4,\n",
    "    \"E\": 5,\n",
    "    \"F\": 6,\n",
    "    \"G\": 7\n",
    "}\n",
    "\n",
    "# this will be problematic, since most cabin numbers are not given and 0 is assigned by default\n",
    "df[\"CabinLvl\"] = 0\n",
    "for idx, x in enumerate(df[\"Cabin\"]):\n",
    "    try:\n",
    "        df[\"CabinLvl\"][idx] = level_mapping[x[0]]\n",
    "    except:\n",
    "        pass\n",
    "    \n",
    "df.drop(\"Cabin\", inplace=True, axis=1)"
   ]
  },
  {
   "cell_type": "code",
   "execution_count": 717,
   "metadata": {},
   "outputs": [],
   "source": [
    "# fares for the different classes: children below the age of 2 = 0 + third, second, first class and first class suite\n",
    "df[\"Fare\"] = df[\"Fare\"].astype(int)\n",
    "df.loc[df[\"Fare\"] == 0, \"Fare\"] = 0\n",
    "df.loc[(df[\"Fare\"] > 0) & (df[\"Fare\"] <= 14), \"Fare\"] = 1\n",
    "df.loc[(df[\"Fare\"] > 14) & (df[\"Fare\"] <= 30), \"Fare\"] = 2\n",
    "df.loc[(df[\"Fare\"] > 30) & (df[\"Fare\"] <= 300), \"Fare\"] = 3\n",
    "df.loc[ df[\"Fare\"] > 300, \"Fare\"] = 4"
   ]
  },
  {
   "cell_type": "code",
   "execution_count": 718,
   "metadata": {},
   "outputs": [],
   "source": [
    "# assign gender to 0 and 1\n",
    "df.loc[df[\"Sex\"] == \"male\", \"Sex\"] = 0\n",
    "df.loc[df[\"Sex\"] == \"female\", \"Sex\"] = 1"
   ]
  },
  {
   "cell_type": "code",
   "execution_count": 719,
   "metadata": {},
   "outputs": [],
   "source": [
    "# maybe it is good to create further classes, but in general children over the age of 11 were seen as adults (according to some sources)\n",
    "df.loc[df[\"Age\"] >= 12, \"Age\"] = 2\n",
    "df.loc[df[\"Age\"] < 12, \"Age\"] = 1\n",
    "\n",
    "df.drop(\"Age\", inplace=True, axis=1)"
   ]
  },
  {
   "cell_type": "code",
   "execution_count": 720,
   "metadata": {},
   "outputs": [],
   "source": [
    "# assign numbers instead of ports chars \n",
    "df.loc[df[\"Embarked\"] == \"C\", \"Embarked\"] = 1\n",
    "df.loc[df[\"Embarked\"] == \"S\", \"Embarked\"] = 2\n",
    "df.loc[df[\"Embarked\"] == \"Q\", \"Embarked\"] = 3\n",
    "\n",
    "# NaNs were filled according to the ticket price by some people, in the beginning we should keep it simple\n",
    "df[\"Embarked\"] = df[\"Embarked\"].fillna(0)"
   ]
  },
  {
   "cell_type": "code",
   "execution_count": 721,
   "metadata": {},
   "outputs": [],
   "source": [
    "# familze size is simplified by adding siblings and parents\n",
    "df['FamilySize'] = df['SibSp'] + df['Parch']\n",
    "df['FamilySize'] = df['FamilySize'].astype(int)\n",
    "# df['IsAlone'] = 0\n",
    "# df.loc[df['FamilySize'] >0,'IsAlone'] = 0\n",
    "\n",
    "df.drop(\"SibSp\", inplace=True, axis=1)\n",
    "df.drop(\"Parch\", inplace=True, axis=1)"
   ]
  },
  {
   "cell_type": "code",
   "execution_count": 722,
   "metadata": {},
   "outputs": [],
   "source": [
    "from datetime import datetime\n",
    "\n",
    "# save data with date to track changes \n",
    "date = str(datetime.now().date()).replace(\"-\", \"\")\n",
    "\n",
    "df.to_csv(f\"data/preprocessed_{date}.csv\")"
   ]
  },
  {
   "cell_type": "code",
   "execution_count": 723,
   "metadata": {},
   "outputs": [
    {
     "name": "stdout",
     "output_type": "stream",
     "text": [
      "Accuracy of RF: 0.8101694915254237\n",
      "Accuracy of DT: 0.8203389830508474\n",
      "Accuracy of MLP: 0.8372881355932204\n"
     ]
    },
    {
     "name": "stderr",
     "output_type": "stream",
     "text": [
      "/Users/mariusj/Library/Mobile Documents/com~apple~CloudDocs/Documents/Edu/UMA/lectures/Data Mining/Project/dm1-titanic/.venv/lib/python3.9/site-packages/sklearn/neural_network/_multilayer_perceptron.py:702: ConvergenceWarning: Stochastic Optimizer: Maximum iterations (200) reached and the optimization hasn't converged yet.\n",
      "  warnings.warn(\n"
     ]
    }
   ],
   "source": [
    "from sklearn.ensemble import RandomForestClassifier\n",
    "from sklearn.tree import DecisionTreeClassifier\n",
    "from sklearn.neural_network import MLPClassifier\n",
    "from sklearn.model_selection import train_test_split\n",
    "from sklearn.metrics import accuracy_score\n",
    "\n",
    "# just some quick application of rf, dt, and mlp\n",
    "\n",
    "y = df[\"Survived\"]\n",
    "X = df.drop(\"Survived\", axis=1)\n",
    "\n",
    "X_train, X_test, y_train, y_test = train_test_split(X, y, test_size=0.33, random_state=42, shuffle=True)\n",
    "\n",
    "rf = RandomForestClassifier()\n",
    "rf.fit(X_train, y_train)\n",
    "rf_pred = rf.predict(X_test)\n",
    "rf_accuracy = accuracy_score(y_test, rf_pred)\n",
    "\n",
    "dt = DecisionTreeClassifier()\n",
    "dt.fit(X_train, y_train)\n",
    "dt_pred = dt.predict(X_test)\n",
    "dt_accuracy = accuracy_score(y_test, dt_pred)\n",
    "\n",
    "mlp = MLPClassifier()\n",
    "mlp.fit(X_train, y_train)\n",
    "mlp_pred = mlp.predict(X_test)\n",
    "mlp_accuracy = accuracy_score(y_test, mlp_pred)\n",
    "\n",
    "print(f\"Accuracy of RF: {rf_accuracy}\")\n",
    "print(f\"Accuracy of DT: {dt_accuracy}\")\n",
    "print(f\"Accuracy of MLP: {mlp_accuracy}\")"
   ]
  }
 ],
 "metadata": {
  "kernelspec": {
   "display_name": "Python 3.9.10 ('.venv': venv)",
   "language": "python",
   "name": "python3"
  },
  "language_info": {
   "codemirror_mode": {
    "name": "ipython",
    "version": 3
   },
   "file_extension": ".py",
   "mimetype": "text/x-python",
   "name": "python",
   "nbconvert_exporter": "python",
   "pygments_lexer": "ipython3",
   "version": "3.9.10"
  },
  "orig_nbformat": 4,
  "vscode": {
   "interpreter": {
    "hash": "c9abcb6f00eb2f6d4daee5e356d60a40aafbe82eb74959741ede0eec5bc79320"
   }
  }
 },
 "nbformat": 4,
 "nbformat_minor": 2
}
