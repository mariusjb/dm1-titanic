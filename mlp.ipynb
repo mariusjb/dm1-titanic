{
 "cells": [
  {
   "cell_type": "code",
   "execution_count": 31,
   "id": "b053b3bf",
   "metadata": {},
   "outputs": [],
   "source": [
    "import pandas as pd\n",
    "import numpy as np\n",
    "from sklearn.neural_network import MLPClassifier\n",
    "import matplotlib.pyplot as plt\n",
    "from sklearn.metrics import accuracy_score, confusion_matrix, ConfusionMatrixDisplay, f1_score\n",
    "from sklearn.model_selection import train_test_split"
   ]
  },
  {
   "cell_type": "code",
   "execution_count": 20,
   "id": "62d0dca9",
   "metadata": {},
   "outputs": [],
   "source": [
    "train_data = pd.read_csv('data/train_data_20221117.csv', index_col = 0)\n",
    "test_data = pd.read_csv('data/test_data_20221117.csv', index_col = 0)\n",
    "\n",
    "X_train = train_data.drop(columns = 'Survived', axis = 1)\n",
    "y_train = train_data['Survived']\n",
    "X_test  = test_data.drop(columns = 'Survived', axis = 1)\n",
    "y_test  = test_data['Survived']"
   ]
  },
  {
   "cell_type": "code",
   "execution_count": 23,
   "id": "c4242d7a",
   "metadata": {
    "scrolled": true
   },
   "outputs": [
    {
     "name": "stdout",
     "output_type": "stream",
     "text": [
      "Fitting 10 folds for each of 1 candidates, totalling 10 fits\n",
      "[CV] END hidden_layer_sizes=12, learning_rate=invscaling, max_iter=1400, solver=adam; total time=   1.1s\n",
      "[CV] END hidden_layer_sizes=12, learning_rate=invscaling, max_iter=1400, solver=adam; total time=   1.7s\n",
      "[CV] END hidden_layer_sizes=12, learning_rate=invscaling, max_iter=1400, solver=adam; total time=   0.9s\n",
      "[CV] END hidden_layer_sizes=12, learning_rate=invscaling, max_iter=1400, solver=adam; total time=   1.4s\n",
      "[CV] END hidden_layer_sizes=12, learning_rate=invscaling, max_iter=1400, solver=adam; total time=   2.0s\n",
      "[CV] END hidden_layer_sizes=12, learning_rate=invscaling, max_iter=1400, solver=adam; total time=   2.0s\n",
      "[CV] END hidden_layer_sizes=12, learning_rate=invscaling, max_iter=1400, solver=adam; total time=   1.6s\n",
      "[CV] END hidden_layer_sizes=12, learning_rate=invscaling, max_iter=1400, solver=adam; total time=   1.8s\n",
      "[CV] END hidden_layer_sizes=12, learning_rate=invscaling, max_iter=1400, solver=adam; total time=   1.6s\n",
      "[CV] END hidden_layer_sizes=12, learning_rate=invscaling, max_iter=1400, solver=adam; total time=   1.7s\n"
     ]
    },
    {
     "data": {
      "text/html": [
       "<style>#sk-container-id-5 {color: black;background-color: white;}#sk-container-id-5 pre{padding: 0;}#sk-container-id-5 div.sk-toggleable {background-color: white;}#sk-container-id-5 label.sk-toggleable__label {cursor: pointer;display: block;width: 100%;margin-bottom: 0;padding: 0.3em;box-sizing: border-box;text-align: center;}#sk-container-id-5 label.sk-toggleable__label-arrow:before {content: \"▸\";float: left;margin-right: 0.25em;color: #696969;}#sk-container-id-5 label.sk-toggleable__label-arrow:hover:before {color: black;}#sk-container-id-5 div.sk-estimator:hover label.sk-toggleable__label-arrow:before {color: black;}#sk-container-id-5 div.sk-toggleable__content {max-height: 0;max-width: 0;overflow: hidden;text-align: left;background-color: #f0f8ff;}#sk-container-id-5 div.sk-toggleable__content pre {margin: 0.2em;color: black;border-radius: 0.25em;background-color: #f0f8ff;}#sk-container-id-5 input.sk-toggleable__control:checked~div.sk-toggleable__content {max-height: 200px;max-width: 100%;overflow: auto;}#sk-container-id-5 input.sk-toggleable__control:checked~label.sk-toggleable__label-arrow:before {content: \"▾\";}#sk-container-id-5 div.sk-estimator input.sk-toggleable__control:checked~label.sk-toggleable__label {background-color: #d4ebff;}#sk-container-id-5 div.sk-label input.sk-toggleable__control:checked~label.sk-toggleable__label {background-color: #d4ebff;}#sk-container-id-5 input.sk-hidden--visually {border: 0;clip: rect(1px 1px 1px 1px);clip: rect(1px, 1px, 1px, 1px);height: 1px;margin: -1px;overflow: hidden;padding: 0;position: absolute;width: 1px;}#sk-container-id-5 div.sk-estimator {font-family: monospace;background-color: #f0f8ff;border: 1px dotted black;border-radius: 0.25em;box-sizing: border-box;margin-bottom: 0.5em;}#sk-container-id-5 div.sk-estimator:hover {background-color: #d4ebff;}#sk-container-id-5 div.sk-parallel-item::after {content: \"\";width: 100%;border-bottom: 1px solid gray;flex-grow: 1;}#sk-container-id-5 div.sk-label:hover label.sk-toggleable__label {background-color: #d4ebff;}#sk-container-id-5 div.sk-serial::before {content: \"\";position: absolute;border-left: 1px solid gray;box-sizing: border-box;top: 0;bottom: 0;left: 50%;z-index: 0;}#sk-container-id-5 div.sk-serial {display: flex;flex-direction: column;align-items: center;background-color: white;padding-right: 0.2em;padding-left: 0.2em;position: relative;}#sk-container-id-5 div.sk-item {position: relative;z-index: 1;}#sk-container-id-5 div.sk-parallel {display: flex;align-items: stretch;justify-content: center;background-color: white;position: relative;}#sk-container-id-5 div.sk-item::before, #sk-container-id-5 div.sk-parallel-item::before {content: \"\";position: absolute;border-left: 1px solid gray;box-sizing: border-box;top: 0;bottom: 0;left: 50%;z-index: -1;}#sk-container-id-5 div.sk-parallel-item {display: flex;flex-direction: column;z-index: 1;position: relative;background-color: white;}#sk-container-id-5 div.sk-parallel-item:first-child::after {align-self: flex-end;width: 50%;}#sk-container-id-5 div.sk-parallel-item:last-child::after {align-self: flex-start;width: 50%;}#sk-container-id-5 div.sk-parallel-item:only-child::after {width: 0;}#sk-container-id-5 div.sk-dashed-wrapped {border: 1px dashed gray;margin: 0 0.4em 0.5em 0.4em;box-sizing: border-box;padding-bottom: 0.4em;background-color: white;}#sk-container-id-5 div.sk-label label {font-family: monospace;font-weight: bold;display: inline-block;line-height: 1.2em;}#sk-container-id-5 div.sk-label-container {text-align: center;}#sk-container-id-5 div.sk-container {/* jupyter's `normalize.less` sets `[hidden] { display: none; }` but bootstrap.min.css set `[hidden] { display: none !important; }` so we also need the `!important` here to be able to override the default hidden behavior on the sphinx rendered scikit-learn.org. See: https://github.com/scikit-learn/scikit-learn/issues/21755 */display: inline-block !important;position: relative;}#sk-container-id-5 div.sk-text-repr-fallback {display: none;}</style><div id=\"sk-container-id-5\" class=\"sk-top-container\"><div class=\"sk-text-repr-fallback\"><pre>GridSearchCV(cv=StratifiedKFold(n_splits=10, random_state=42, shuffle=True),\n",
       "             estimator=MLPClassifier(),\n",
       "             param_grid={&#x27;hidden_layer_sizes&#x27;: [12],\n",
       "                         &#x27;learning_rate&#x27;: [&#x27;invscaling&#x27;], &#x27;max_iter&#x27;: [1400],\n",
       "                         &#x27;solver&#x27;: [&#x27;adam&#x27;]},\n",
       "             scoring=&#x27;f1&#x27;, verbose=2)</pre><b>In a Jupyter environment, please rerun this cell to show the HTML representation or trust the notebook. <br />On GitHub, the HTML representation is unable to render, please try loading this page with nbviewer.org.</b></div><div class=\"sk-container\" hidden><div class=\"sk-item sk-dashed-wrapped\"><div class=\"sk-label-container\"><div class=\"sk-label sk-toggleable\"><input class=\"sk-toggleable__control sk-hidden--visually\" id=\"sk-estimator-id-13\" type=\"checkbox\" ><label for=\"sk-estimator-id-13\" class=\"sk-toggleable__label sk-toggleable__label-arrow\">GridSearchCV</label><div class=\"sk-toggleable__content\"><pre>GridSearchCV(cv=StratifiedKFold(n_splits=10, random_state=42, shuffle=True),\n",
       "             estimator=MLPClassifier(),\n",
       "             param_grid={&#x27;hidden_layer_sizes&#x27;: [12],\n",
       "                         &#x27;learning_rate&#x27;: [&#x27;invscaling&#x27;], &#x27;max_iter&#x27;: [1400],\n",
       "                         &#x27;solver&#x27;: [&#x27;adam&#x27;]},\n",
       "             scoring=&#x27;f1&#x27;, verbose=2)</pre></div></div></div><div class=\"sk-parallel\"><div class=\"sk-parallel-item\"><div class=\"sk-item\"><div class=\"sk-label-container\"><div class=\"sk-label sk-toggleable\"><input class=\"sk-toggleable__control sk-hidden--visually\" id=\"sk-estimator-id-14\" type=\"checkbox\" ><label for=\"sk-estimator-id-14\" class=\"sk-toggleable__label sk-toggleable__label-arrow\">estimator: MLPClassifier</label><div class=\"sk-toggleable__content\"><pre>MLPClassifier()</pre></div></div></div><div class=\"sk-serial\"><div class=\"sk-item\"><div class=\"sk-estimator sk-toggleable\"><input class=\"sk-toggleable__control sk-hidden--visually\" id=\"sk-estimator-id-15\" type=\"checkbox\" ><label for=\"sk-estimator-id-15\" class=\"sk-toggleable__label sk-toggleable__label-arrow\">MLPClassifier</label><div class=\"sk-toggleable__content\"><pre>MLPClassifier()</pre></div></div></div></div></div></div></div></div></div></div>"
      ],
      "text/plain": [
       "GridSearchCV(cv=StratifiedKFold(n_splits=10, random_state=42, shuffle=True),\n",
       "             estimator=MLPClassifier(),\n",
       "             param_grid={'hidden_layer_sizes': [12],\n",
       "                         'learning_rate': ['invscaling'], 'max_iter': [1400],\n",
       "                         'solver': ['adam']},\n",
       "             scoring='f1', verbose=2)"
      ]
     },
     "execution_count": 23,
     "metadata": {},
     "output_type": "execute_result"
    }
   ],
   "source": [
    "from sklearn.model_selection import StratifiedKFold, GridSearchCV\n",
    "\n",
    "parameters = {\n",
    "    'hidden_layer_sizes': [12],\n",
    "    'solver': ['adam'],\n",
    "    'learning_rate': ['invscaling'],\n",
    "    'max_iter': [1400]\n",
    "}\n",
    "\n",
    "clf = MLPClassifier()\n",
    "stratified_10_fold_cv = StratifiedKFold(n_splits=10, shuffle=True, random_state=42)\n",
    "grid_search_estimator = GridSearchCV(clf, parameters, scoring='f1', cv=stratified_10_fold_cv, return_train_score=False,\n",
    "                                    verbose = 2)\n",
    "grid_search_estimator.fit(X_train,y_train)"
   ]
  },
  {
   "cell_type": "code",
   "execution_count": 25,
   "id": "abff513b",
   "metadata": {
    "scrolled": true
   },
   "outputs": [
    {
     "name": "stdout",
     "output_type": "stream",
     "text": [
      "best score is 0.7488684087714537 with params {'hidden_layer_sizes': 12, 'learning_rate': 'invscaling', 'max_iter': 1400, 'solver': 'adam'}\n"
     ]
    },
    {
     "data": {
      "text/html": [
       "<div>\n",
       "<style scoped>\n",
       "    .dataframe tbody tr th:only-of-type {\n",
       "        vertical-align: middle;\n",
       "    }\n",
       "\n",
       "    .dataframe tbody tr th {\n",
       "        vertical-align: top;\n",
       "    }\n",
       "\n",
       "    .dataframe thead th {\n",
       "        text-align: right;\n",
       "    }\n",
       "</style>\n",
       "<table border=\"1\" class=\"dataframe\">\n",
       "  <thead>\n",
       "    <tr style=\"text-align: right;\">\n",
       "      <th></th>\n",
       "      <th>mean_fit_time</th>\n",
       "      <th>std_fit_time</th>\n",
       "      <th>mean_score_time</th>\n",
       "      <th>std_score_time</th>\n",
       "      <th>param_hidden_layer_sizes</th>\n",
       "      <th>param_learning_rate</th>\n",
       "      <th>param_max_iter</th>\n",
       "      <th>param_solver</th>\n",
       "      <th>params</th>\n",
       "      <th>split0_test_score</th>\n",
       "      <th>...</th>\n",
       "      <th>split3_test_score</th>\n",
       "      <th>split4_test_score</th>\n",
       "      <th>split5_test_score</th>\n",
       "      <th>split6_test_score</th>\n",
       "      <th>split7_test_score</th>\n",
       "      <th>split8_test_score</th>\n",
       "      <th>split9_test_score</th>\n",
       "      <th>mean_test_score</th>\n",
       "      <th>std_test_score</th>\n",
       "      <th>rank_test_score</th>\n",
       "    </tr>\n",
       "  </thead>\n",
       "  <tbody>\n",
       "    <tr>\n",
       "      <th>0</th>\n",
       "      <td>1.669107</td>\n",
       "      <td>0.337258</td>\n",
       "      <td>0.007199</td>\n",
       "      <td>0.005135</td>\n",
       "      <td>12</td>\n",
       "      <td>invscaling</td>\n",
       "      <td>1400</td>\n",
       "      <td>adam</td>\n",
       "      <td>{'hidden_layer_sizes': 12, 'learning_rate': 'i...</td>\n",
       "      <td>0.8</td>\n",
       "      <td>...</td>\n",
       "      <td>0.731707</td>\n",
       "      <td>0.693878</td>\n",
       "      <td>0.782609</td>\n",
       "      <td>0.717949</td>\n",
       "      <td>0.717949</td>\n",
       "      <td>0.608696</td>\n",
       "      <td>0.769231</td>\n",
       "      <td>0.748868</td>\n",
       "      <td>0.06667</td>\n",
       "      <td>1</td>\n",
       "    </tr>\n",
       "  </tbody>\n",
       "</table>\n",
       "<p>1 rows × 22 columns</p>\n",
       "</div>"
      ],
      "text/plain": [
       "   mean_fit_time  std_fit_time  mean_score_time  std_score_time  \\\n",
       "0       1.669107      0.337258         0.007199        0.005135   \n",
       "\n",
       "  param_hidden_layer_sizes param_learning_rate param_max_iter param_solver  \\\n",
       "0                       12          invscaling           1400         adam   \n",
       "\n",
       "                                              params  split0_test_score  ...  \\\n",
       "0  {'hidden_layer_sizes': 12, 'learning_rate': 'i...                0.8  ...   \n",
       "\n",
       "   split3_test_score  split4_test_score  split5_test_score  split6_test_score  \\\n",
       "0           0.731707           0.693878           0.782609           0.717949   \n",
       "\n",
       "   split7_test_score  split8_test_score  split9_test_score  mean_test_score  \\\n",
       "0           0.717949           0.608696           0.769231         0.748868   \n",
       "\n",
       "   std_test_score  rank_test_score  \n",
       "0         0.06667                1  \n",
       "\n",
       "[1 rows x 22 columns]"
      ]
     },
     "metadata": {},
     "output_type": "display_data"
    }
   ],
   "source": [
    "results = pd.DataFrame(grid_search_estimator.cv_results_)\n",
    "print(\"best score is {} with params {}\".format(grid_search_estimator.best_score_, grid_search_estimator.best_params_))\n",
    "display(results)\n",
    "estimator = grid_search_estimator.best_estimator_"
   ]
  },
  {
   "cell_type": "code",
   "execution_count": 28,
   "id": "d6b4441e",
   "metadata": {},
   "outputs": [
    {
     "data": {
      "text/html": [
       "<style>#sk-container-id-6 {color: black;background-color: white;}#sk-container-id-6 pre{padding: 0;}#sk-container-id-6 div.sk-toggleable {background-color: white;}#sk-container-id-6 label.sk-toggleable__label {cursor: pointer;display: block;width: 100%;margin-bottom: 0;padding: 0.3em;box-sizing: border-box;text-align: center;}#sk-container-id-6 label.sk-toggleable__label-arrow:before {content: \"▸\";float: left;margin-right: 0.25em;color: #696969;}#sk-container-id-6 label.sk-toggleable__label-arrow:hover:before {color: black;}#sk-container-id-6 div.sk-estimator:hover label.sk-toggleable__label-arrow:before {color: black;}#sk-container-id-6 div.sk-toggleable__content {max-height: 0;max-width: 0;overflow: hidden;text-align: left;background-color: #f0f8ff;}#sk-container-id-6 div.sk-toggleable__content pre {margin: 0.2em;color: black;border-radius: 0.25em;background-color: #f0f8ff;}#sk-container-id-6 input.sk-toggleable__control:checked~div.sk-toggleable__content {max-height: 200px;max-width: 100%;overflow: auto;}#sk-container-id-6 input.sk-toggleable__control:checked~label.sk-toggleable__label-arrow:before {content: \"▾\";}#sk-container-id-6 div.sk-estimator input.sk-toggleable__control:checked~label.sk-toggleable__label {background-color: #d4ebff;}#sk-container-id-6 div.sk-label input.sk-toggleable__control:checked~label.sk-toggleable__label {background-color: #d4ebff;}#sk-container-id-6 input.sk-hidden--visually {border: 0;clip: rect(1px 1px 1px 1px);clip: rect(1px, 1px, 1px, 1px);height: 1px;margin: -1px;overflow: hidden;padding: 0;position: absolute;width: 1px;}#sk-container-id-6 div.sk-estimator {font-family: monospace;background-color: #f0f8ff;border: 1px dotted black;border-radius: 0.25em;box-sizing: border-box;margin-bottom: 0.5em;}#sk-container-id-6 div.sk-estimator:hover {background-color: #d4ebff;}#sk-container-id-6 div.sk-parallel-item::after {content: \"\";width: 100%;border-bottom: 1px solid gray;flex-grow: 1;}#sk-container-id-6 div.sk-label:hover label.sk-toggleable__label {background-color: #d4ebff;}#sk-container-id-6 div.sk-serial::before {content: \"\";position: absolute;border-left: 1px solid gray;box-sizing: border-box;top: 0;bottom: 0;left: 50%;z-index: 0;}#sk-container-id-6 div.sk-serial {display: flex;flex-direction: column;align-items: center;background-color: white;padding-right: 0.2em;padding-left: 0.2em;position: relative;}#sk-container-id-6 div.sk-item {position: relative;z-index: 1;}#sk-container-id-6 div.sk-parallel {display: flex;align-items: stretch;justify-content: center;background-color: white;position: relative;}#sk-container-id-6 div.sk-item::before, #sk-container-id-6 div.sk-parallel-item::before {content: \"\";position: absolute;border-left: 1px solid gray;box-sizing: border-box;top: 0;bottom: 0;left: 50%;z-index: -1;}#sk-container-id-6 div.sk-parallel-item {display: flex;flex-direction: column;z-index: 1;position: relative;background-color: white;}#sk-container-id-6 div.sk-parallel-item:first-child::after {align-self: flex-end;width: 50%;}#sk-container-id-6 div.sk-parallel-item:last-child::after {align-self: flex-start;width: 50%;}#sk-container-id-6 div.sk-parallel-item:only-child::after {width: 0;}#sk-container-id-6 div.sk-dashed-wrapped {border: 1px dashed gray;margin: 0 0.4em 0.5em 0.4em;box-sizing: border-box;padding-bottom: 0.4em;background-color: white;}#sk-container-id-6 div.sk-label label {font-family: monospace;font-weight: bold;display: inline-block;line-height: 1.2em;}#sk-container-id-6 div.sk-label-container {text-align: center;}#sk-container-id-6 div.sk-container {/* jupyter's `normalize.less` sets `[hidden] { display: none; }` but bootstrap.min.css set `[hidden] { display: none !important; }` so we also need the `!important` here to be able to override the default hidden behavior on the sphinx rendered scikit-learn.org. See: https://github.com/scikit-learn/scikit-learn/issues/21755 */display: inline-block !important;position: relative;}#sk-container-id-6 div.sk-text-repr-fallback {display: none;}</style><div id=\"sk-container-id-6\" class=\"sk-top-container\"><div class=\"sk-text-repr-fallback\"><pre>MLPClassifier(hidden_layer_sizes=12, learning_rate=&#x27;invscaling&#x27;, max_iter=1400)</pre><b>In a Jupyter environment, please rerun this cell to show the HTML representation or trust the notebook. <br />On GitHub, the HTML representation is unable to render, please try loading this page with nbviewer.org.</b></div><div class=\"sk-container\" hidden><div class=\"sk-item\"><div class=\"sk-estimator sk-toggleable\"><input class=\"sk-toggleable__control sk-hidden--visually\" id=\"sk-estimator-id-16\" type=\"checkbox\" checked><label for=\"sk-estimator-id-16\" class=\"sk-toggleable__label sk-toggleable__label-arrow\">MLPClassifier</label><div class=\"sk-toggleable__content\"><pre>MLPClassifier(hidden_layer_sizes=12, learning_rate=&#x27;invscaling&#x27;, max_iter=1400)</pre></div></div></div></div></div>"
      ],
      "text/plain": [
       "MLPClassifier(hidden_layer_sizes=12, learning_rate='invscaling', max_iter=1400)"
      ]
     },
     "execution_count": 28,
     "metadata": {},
     "output_type": "execute_result"
    }
   ],
   "source": [
    "model = MLPClassifier(**grid_search_estimator.best_params_)\n",
    "model.fit(X_train, y_train)"
   ]
  },
  {
   "cell_type": "code",
   "execution_count": 32,
   "id": "3c74979e",
   "metadata": {},
   "outputs": [
    {
     "name": "stdout",
     "output_type": "stream",
     "text": [
      "acc=0.8208955223880597\n",
      "f1=0.7714285714285715\n"
     ]
    },
    {
     "data": {
      "image/png": "[encoded data removed]",
      "text/plain": [
       "<Figure size 640x480 with 2 Axes>"
      ]
     },
     "metadata": {},
     "output_type": "display_data"
    }
   ],
   "source": [
    "predictions = model.predict(X_test)\n",
    "\n",
    "cm = confusion_matrix(y_test, predictions)\n",
    "acc = accuracy_score(y_test, predictions)\n",
    "f1 = f1_score(y_test, predictions)\n",
    "print(f'{acc=}')\n",
    "print(f'{f1=}')\n",
    "ConfusionMatrixDisplay(cm).plot()\n",
    "plt.show()"
   ]
  },
  {
   "cell_type": "code",
   "execution_count": 7,
   "id": "8f6e120f",
   "metadata": {},
   "outputs": [
    {
     "name": "stdout",
     "output_type": "stream",
     "text": [
      "Pclass\n",
      " - 3 : true =  34 \tpred =  0\n",
      " - 2 : true =  24 \tpred =  0\n",
      " - 1 : true =  53 \tpred =  0\n",
      "SibSp\n",
      " - 1 : true =  39 \tpred =  0\n",
      " - 0 : true =  68 \tpred =  0\n",
      " - 2 : true =  4 \tpred =  0\n",
      " - 3 : true =  0 \tpred =  0\n",
      " - 4 : true =  0 \tpred =  0\n",
      "Parch\n",
      " - 1 : true =  18 \tpred =  0\n",
      " - 0 : true =  78 \tpred =  0\n",
      " - 2 : true =  14 \tpred =  0\n",
      " - 3 : true =  0 \tpred =  0\n",
      " - 4 : true =  0 \tpred =  0\n",
      " - 5 : true =  1 \tpred =  0\n",
      "Age_true\n",
      " - 0 : true =  20 \tpred =  0\n",
      " - 1 : true =  91 \tpred =  0\n",
      "AgeGroup\n",
      " - 0 : true =  11 \tpred =  0\n",
      " - 3 : true =  27 \tpred =  0\n",
      " - 2 : true =  26 \tpred =  0\n",
      " - 1 : true =  7 \tpred =  0\n",
      " - 4 : true =  30 \tpred =  0\n",
      " - 5 : true =  10 \tpred =  0\n",
      "FareGroup\n",
      " - 2 : true =  18 \tpred =  0\n",
      " - 1 : true =  14 \tpred =  0\n",
      " - 3 : true =  32 \tpred =  0\n",
      " - 4 : true =  24 \tpred =  0\n",
      " - 0 : true =  9 \tpred =  0\n",
      " - 5 : true =  14 \tpred =  0\n",
      "CabinLvl\n",
      " - 0 : true =  65 \tpred =  0\n",
      " - 4 : true =  12 \tpred =  0\n",
      " - 5 : true =  12 \tpred =  0\n",
      " - 7 : true =  3 \tpred =  0\n",
      " - 6 : true =  11 \tpred =  0\n",
      " - 3 : true =  6 \tpred =  0\n",
      " - 2 : true =  1 \tpred =  0\n",
      " - 1 : true =  1 \tpred =  0\n",
      "Embarked_C\n",
      " - 1 : true =  31 \tpred =  0\n",
      " - 0 : true =  80 \tpred =  0\n",
      "Embarked_Q\n",
      " - 0 : true =  102 \tpred =  0\n",
      " - 1 : true =  9 \tpred =  0\n",
      "Embarked_S\n",
      " - 0 : true =  40 \tpred =  0\n",
      " - 1 : true =  71 \tpred =  0\n",
      "Title_Master\n",
      " - 1 : true =  6 \tpred =  0\n",
      " - 0 : true =  105 \tpred =  0\n",
      "Title_Mr\n",
      " - 0 : true =  87 \tpred =  0\n",
      " - 1 : true =  24 \tpred =  0\n",
      "Title_Mrs\n",
      " - 0 : true =  78 \tpred =  0\n",
      " - 1 : true =  33 \tpred =  0\n",
      "Title_Ms\n",
      " - 0 : true =  67 \tpred =  0\n",
      " - 1 : true =  44 \tpred =  0\n",
      "Title_Noble\n",
      " - 0 : true =  107 \tpred =  0\n",
      " - 1 : true =  4 \tpred =  0\n"
     ]
    }
   ],
   "source": [
    "for feature in X_test.columns:\n",
    "    print(feature)\n",
    "    for value in X_test[feature].unique():\n",
    "        indices = X_test[feature] == value\n",
    "        true_feature = y_test[indices]\n",
    "        pred_feature = predictions[indices]\n",
    "        print(' -', value, ': true = ', sum(true_feature), '\\tpred = ', sum(pred_feature))"
   ]
  }
 ],
 "metadata": {
  "kernelspec": {
   "display_name": "Python 3 (ipykernel)",
   "language": "python",
   "name": "python3"
  },
  "language_info": {
   "codemirror_mode": {
    "name": "ipython",
    "version": 3
   },
   "file_extension": ".py",
   "mimetype": "text/x-python",
   "name": "python",
   "nbconvert_exporter": "python",
   "pygments_lexer": "ipython3",
   "version": "3.9.13"
  }
 },
 "nbformat": 4,
 "nbformat_minor": 5
}
