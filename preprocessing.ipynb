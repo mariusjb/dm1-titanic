{
 "cells": [
  {
   "cell_type": "markdown",
   "id": "00b19b61",
   "metadata": {},
   "source": [
    "# Preprocessing"
   ]
  },
  {
   "cell_type": "code",
   "execution_count": 1,
   "id": "98fae362",
   "metadata": {},
   "outputs": [],
   "source": [
    "# load packages\n",
    "import pandas as pd\n",
    "import re\n",
    "%matplotlib inline\n",
    "import matplotlib.pyplot as plt\n",
    "import numpy as np\n",
    "import seaborn as sns"
   ]
  },
  {
   "cell_type": "code",
   "execution_count": 2,
   "id": "2b2537ff",
   "metadata": {},
   "outputs": [
    {
     "data": {
      "text/html": [
       "<div>\n",
       "<style scoped>\n",
       "    .dataframe tbody tr th:only-of-type {\n",
       "        vertical-align: middle;\n",
       "    }\n",
       "\n",
       "    .dataframe tbody tr th {\n",
       "        vertical-align: top;\n",
       "    }\n",
       "\n",
       "    .dataframe thead th {\n",
       "        text-align: right;\n",
       "    }\n",
       "</style>\n",
       "<table border=\"1\" class=\"dataframe\">\n",
       "  <thead>\n",
       "    <tr style=\"text-align: right;\">\n",
       "      <th></th>\n",
       "      <th>Survived</th>\n",
       "      <th>Pclass</th>\n",
       "      <th>Name</th>\n",
       "      <th>Sex</th>\n",
       "      <th>Age</th>\n",
       "      <th>SibSp</th>\n",
       "      <th>Parch</th>\n",
       "      <th>Ticket</th>\n",
       "      <th>Fare</th>\n",
       "      <th>Cabin</th>\n",
       "      <th>Embarked</th>\n",
       "    </tr>\n",
       "  </thead>\n",
       "  <tbody>\n",
       "    <tr>\n",
       "      <th>0</th>\n",
       "      <td>0</td>\n",
       "      <td>3</td>\n",
       "      <td>Braund, Mr. Owen Harris</td>\n",
       "      <td>male</td>\n",
       "      <td>22.0</td>\n",
       "      <td>1</td>\n",
       "      <td>0</td>\n",
       "      <td>A/5 21171</td>\n",
       "      <td>7.2500</td>\n",
       "      <td>NaN</td>\n",
       "      <td>S</td>\n",
       "    </tr>\n",
       "    <tr>\n",
       "      <th>1</th>\n",
       "      <td>1</td>\n",
       "      <td>1</td>\n",
       "      <td>Cumings, Mrs. John Bradley (Florence Briggs Th...</td>\n",
       "      <td>female</td>\n",
       "      <td>38.0</td>\n",
       "      <td>1</td>\n",
       "      <td>0</td>\n",
       "      <td>PC 17599</td>\n",
       "      <td>71.2833</td>\n",
       "      <td>C85</td>\n",
       "      <td>C</td>\n",
       "    </tr>\n",
       "    <tr>\n",
       "      <th>2</th>\n",
       "      <td>1</td>\n",
       "      <td>3</td>\n",
       "      <td>Heikkinen, Miss. Laina</td>\n",
       "      <td>female</td>\n",
       "      <td>26.0</td>\n",
       "      <td>0</td>\n",
       "      <td>0</td>\n",
       "      <td>STON/O2. 3101282</td>\n",
       "      <td>7.9250</td>\n",
       "      <td>NaN</td>\n",
       "      <td>S</td>\n",
       "    </tr>\n",
       "    <tr>\n",
       "      <th>3</th>\n",
       "      <td>1</td>\n",
       "      <td>1</td>\n",
       "      <td>Futrelle, Mrs. Jacques Heath (Lily May Peel)</td>\n",
       "      <td>female</td>\n",
       "      <td>35.0</td>\n",
       "      <td>1</td>\n",
       "      <td>0</td>\n",
       "      <td>113803</td>\n",
       "      <td>53.1000</td>\n",
       "      <td>C123</td>\n",
       "      <td>S</td>\n",
       "    </tr>\n",
       "    <tr>\n",
       "      <th>4</th>\n",
       "      <td>0</td>\n",
       "      <td>3</td>\n",
       "      <td>Allen, Mr. William Henry</td>\n",
       "      <td>male</td>\n",
       "      <td>35.0</td>\n",
       "      <td>0</td>\n",
       "      <td>0</td>\n",
       "      <td>373450</td>\n",
       "      <td>8.0500</td>\n",
       "      <td>NaN</td>\n",
       "      <td>S</td>\n",
       "    </tr>\n",
       "  </tbody>\n",
       "</table>\n",
       "</div>"
      ],
      "text/plain": [
       "   Survived  Pclass                                               Name  \\\n",
       "0         0       3                            Braund, Mr. Owen Harris   \n",
       "1         1       1  Cumings, Mrs. John Bradley (Florence Briggs Th...   \n",
       "2         1       3                             Heikkinen, Miss. Laina   \n",
       "3         1       1       Futrelle, Mrs. Jacques Heath (Lily May Peel)   \n",
       "4         0       3                           Allen, Mr. William Henry   \n",
       "\n",
       "      Sex   Age  SibSp  Parch            Ticket     Fare Cabin Embarked  \n",
       "0    male  22.0      1      0         A/5 21171   7.2500   NaN        S  \n",
       "1  female  38.0      1      0          PC 17599  71.2833   C85        C  \n",
       "2  female  26.0      0      0  STON/O2. 3101282   7.9250   NaN        S  \n",
       "3  female  35.0      1      0            113803  53.1000  C123        S  \n",
       "4    male  35.0      0      0            373450   8.0500   NaN        S  "
      ]
     },
     "execution_count": 2,
     "metadata": {},
     "output_type": "execute_result"
    }
   ],
   "source": [
    "# data imported from https://www.kaggle.com/competitions/titanic/overview\n",
    "\n",
    "df = pd.read_csv(\"data/train.csv\")\n",
    "\n",
    "# PassengerId is index column --> drop this variable\n",
    "df.drop(\"PassengerId\", inplace=True, axis=1)\n",
    "\n",
    "df.head()"
   ]
  },
  {
   "cell_type": "markdown",
   "id": "56c53dba",
   "metadata": {},
   "source": [
    "# Data Understanding and Preprocessing\n",
    "\n",
    "First, we explore the given data. We have a look at the different variables and especially their distributions. We check for missing values, outliers and inconsistencies in the data.  \n",
    "In a second step, we perform feature engineering. We transform some variables, replace missing values and handle outliers. We create new features and drop those ones which are not valuable for our predictions.  \n",
    "In addition, we analyze the correlations between the variables and perform feature selection."
   ]
  },
  {
   "cell_type": "code",
   "execution_count": 3,
   "id": "1d0f9b43",
   "metadata": {
    "scrolled": true
   },
   "outputs": [
    {
     "name": "stdout",
     "output_type": "stream",
     "text": [
      "<class 'pandas.core.frame.DataFrame'>\n",
      "RangeIndex: 891 entries, 0 to 890\n",
      "Data columns (total 11 columns):\n",
      " #   Column    Non-Null Count  Dtype  \n",
      "---  ------    --------------  -----  \n",
      " 0   Survived  891 non-null    int64  \n",
      " 1   Pclass    891 non-null    int64  \n",
      " 2   Name      891 non-null    object \n",
      " 3   Sex       891 non-null    object \n",
      " 4   Age       714 non-null    float64\n",
      " 5   SibSp     891 non-null    int64  \n",
      " 6   Parch     891 non-null    int64  \n",
      " 7   Ticket    891 non-null    object \n",
      " 8   Fare      891 non-null    float64\n",
      " 9   Cabin     204 non-null    object \n",
      " 10  Embarked  889 non-null    object \n",
      "dtypes: float64(2), int64(4), object(5)\n",
      "memory usage: 76.7+ KB\n"
     ]
    }
   ],
   "source": [
    "# show information about variables\n",
    "df.info()"
   ]
  },
  {
   "cell_type": "code",
   "execution_count": 4,
   "id": "f90cf96d",
   "metadata": {
    "scrolled": true
   },
   "outputs": [
    {
     "data": {
      "text/html": [
       "<div>\n",
       "<style scoped>\n",
       "    .dataframe tbody tr th:only-of-type {\n",
       "        vertical-align: middle;\n",
       "    }\n",
       "\n",
       "    .dataframe tbody tr th {\n",
       "        vertical-align: top;\n",
       "    }\n",
       "\n",
       "    .dataframe thead th {\n",
       "        text-align: right;\n",
       "    }\n",
       "</style>\n",
       "<table border=\"1\" class=\"dataframe\">\n",
       "  <thead>\n",
       "    <tr style=\"text-align: right;\">\n",
       "      <th></th>\n",
       "      <th>Survived</th>\n",
       "      <th>Pclass</th>\n",
       "      <th>Age</th>\n",
       "      <th>SibSp</th>\n",
       "      <th>Parch</th>\n",
       "      <th>Fare</th>\n",
       "    </tr>\n",
       "  </thead>\n",
       "  <tbody>\n",
       "    <tr>\n",
       "      <th>count</th>\n",
       "      <td>891.000000</td>\n",
       "      <td>891.000000</td>\n",
       "      <td>714.000000</td>\n",
       "      <td>891.000000</td>\n",
       "      <td>891.000000</td>\n",
       "      <td>891.000000</td>\n",
       "    </tr>\n",
       "    <tr>\n",
       "      <th>mean</th>\n",
       "      <td>0.383838</td>\n",
       "      <td>2.308642</td>\n",
       "      <td>29.699118</td>\n",
       "      <td>0.523008</td>\n",
       "      <td>0.381594</td>\n",
       "      <td>32.204208</td>\n",
       "    </tr>\n",
       "    <tr>\n",
       "      <th>std</th>\n",
       "      <td>0.486592</td>\n",
       "      <td>0.836071</td>\n",
       "      <td>14.526497</td>\n",
       "      <td>1.102743</td>\n",
       "      <td>0.806057</td>\n",
       "      <td>49.693429</td>\n",
       "    </tr>\n",
       "    <tr>\n",
       "      <th>min</th>\n",
       "      <td>0.000000</td>\n",
       "      <td>1.000000</td>\n",
       "      <td>0.420000</td>\n",
       "      <td>0.000000</td>\n",
       "      <td>0.000000</td>\n",
       "      <td>0.000000</td>\n",
       "    </tr>\n",
       "    <tr>\n",
       "      <th>25%</th>\n",
       "      <td>0.000000</td>\n",
       "      <td>2.000000</td>\n",
       "      <td>20.125000</td>\n",
       "      <td>0.000000</td>\n",
       "      <td>0.000000</td>\n",
       "      <td>7.910400</td>\n",
       "    </tr>\n",
       "    <tr>\n",
       "      <th>50%</th>\n",
       "      <td>0.000000</td>\n",
       "      <td>3.000000</td>\n",
       "      <td>28.000000</td>\n",
       "      <td>0.000000</td>\n",
       "      <td>0.000000</td>\n",
       "      <td>14.454200</td>\n",
       "    </tr>\n",
       "    <tr>\n",
       "      <th>75%</th>\n",
       "      <td>1.000000</td>\n",
       "      <td>3.000000</td>\n",
       "      <td>38.000000</td>\n",
       "      <td>1.000000</td>\n",
       "      <td>0.000000</td>\n",
       "      <td>31.000000</td>\n",
       "    </tr>\n",
       "    <tr>\n",
       "      <th>max</th>\n",
       "      <td>1.000000</td>\n",
       "      <td>3.000000</td>\n",
       "      <td>80.000000</td>\n",
       "      <td>8.000000</td>\n",
       "      <td>6.000000</td>\n",
       "      <td>512.329200</td>\n",
       "    </tr>\n",
       "  </tbody>\n",
       "</table>\n",
       "</div>"
      ],
      "text/plain": [
       "         Survived      Pclass         Age       SibSp       Parch        Fare\n",
       "count  891.000000  891.000000  714.000000  891.000000  891.000000  891.000000\n",
       "mean     0.383838    2.308642   29.699118    0.523008    0.381594   32.204208\n",
       "std      0.486592    0.836071   14.526497    1.102743    0.806057   49.693429\n",
       "min      0.000000    1.000000    0.420000    0.000000    0.000000    0.000000\n",
       "25%      0.000000    2.000000   20.125000    0.000000    0.000000    7.910400\n",
       "50%      0.000000    3.000000   28.000000    0.000000    0.000000   14.454200\n",
       "75%      1.000000    3.000000   38.000000    1.000000    0.000000   31.000000\n",
       "max      1.000000    3.000000   80.000000    8.000000    6.000000  512.329200"
      ]
     },
     "execution_count": 4,
     "metadata": {},
     "output_type": "execute_result"
    }
   ],
   "source": [
    "df.describe()"
   ]
  },
  {
   "cell_type": "markdown",
   "id": "d0548ed3",
   "metadata": {},
   "source": [
    "#### Target variable: Survived\n",
    "We just have a look at the distribution of the target variable 'Survived'. Our dataset is not unbalanced.  \n",
    "Then we convert the variable into a categorical variable."
   ]
  },
  {
   "cell_type": "code",
   "execution_count": 5,
   "id": "87be50b9",
   "metadata": {},
   "outputs": [
    {
     "data": {
      "text/plain": [
       "Survived\n",
       "0    549\n",
       "1    342\n",
       "Name: Name, dtype: int64"
      ]
     },
     "execution_count": 5,
     "metadata": {},
     "output_type": "execute_result"
    }
   ],
   "source": [
    "df.groupby('Survived').count()['Name']"
   ]
  },
  {
   "cell_type": "code",
   "execution_count": 6,
   "id": "6f9118d6",
   "metadata": {},
   "outputs": [
    {
     "data": {
      "text/plain": [
       "0.3838383838383838"
      ]
     },
     "execution_count": 6,
     "metadata": {},
     "output_type": "execute_result"
    }
   ],
   "source": [
    "# among all passengers 38.38% survive\n",
    "df['Survived'].mean()"
   ]
  },
  {
   "cell_type": "code",
   "execution_count": 7,
   "id": "841dbf84",
   "metadata": {
    "scrolled": false
   },
   "outputs": [
    {
     "data": {
      "image/png": "[encoded data removed]",
      "text/plain": [
       "<Figure size 432x288 with 1 Axes>"
      ]
     },
     "metadata": {
      "needs_background": "light"
     },
     "output_type": "display_data"
    }
   ],
   "source": [
    "# Passengers by Survival\n",
    "#plt.figure(figsize=(6,4))\n",
    "plt.rc('font', size=15)\n",
    "plt.xlabel('Survived')\n",
    "plt.ylabel('Number of passengers')\n",
    "plt.title('Passengers by Survival')\n",
    "plt.xticks(np.arange(2), ('No', 'Yes'))\n",
    "plt.bar(np.arange(2), df.groupby('Survived').count()['Name'])\n",
    "plt.tight_layout()\n",
    "#plt.savefig(\"figures\\\\survived_distribution.jpg\")\n",
    "#plt.savefig(\"figures_for_presentation\\\\survived_distribution.jpg\")"
   ]
  },
  {
   "cell_type": "markdown",
   "id": "dc2a6c68",
   "metadata": {},
   "source": [
    "#### Pclass\n",
    "The numerical variable 'Pclass' indicates the ticket class and has values 1,2, and 3. Since it cannot take any other values,  we convert it to a categorical variable.  \n",
    "Then we have a look at the distribution of 'Pclass'. We don't have any missing values."
   ]
  },
  {
   "cell_type": "code",
   "execution_count": 8,
   "id": "38fc6277",
   "metadata": {},
   "outputs": [
    {
     "name": "stdout",
     "output_type": "stream",
     "text": [
      "Pclass\n",
      "1    216\n",
      "2    184\n",
      "3    491\n",
      "dtype: int64\n"
     ]
    }
   ],
   "source": [
    "# distribution\n",
    "print(df.groupby('Pclass').size())\n",
    "#1: 24.24%, 2: 20.65%, 3: 55.11%"
   ]
  },
  {
   "cell_type": "code",
   "execution_count": 9,
   "id": "3ef7f95b",
   "metadata": {
    "scrolled": false
   },
   "outputs": [
    {
     "data": {
      "text/plain": [
       "<BarContainer object of 3 artists>"
      ]
     },
     "execution_count": 9,
     "metadata": {},
     "output_type": "execute_result"
    },
    {
     "data": {
      "image/png": "[encoded data removed]",
      "text/plain": [
       "<Figure size 432x288 with 1 Axes>"
      ]
     },
     "metadata": {
      "needs_background": "light"
     },
     "output_type": "display_data"
    }
   ],
   "source": [
    "# Passengers by Ticket Class\n",
    "plt.rc('font', size=15)\n",
    "plt.xlabel('Ticket Class')\n",
    "plt.ylabel('Number of passengers')\n",
    "plt.title('Passengers by Ticket Class')\n",
    "plt.xticks(np.arange(3), ('1st', '2nd', '3rd'))\n",
    "plt.bar(np.arange(3), df.groupby('Pclass').count()['Name'])"
   ]
  },
  {
   "cell_type": "code",
   "execution_count": 10,
   "id": "c57fcf4a",
   "metadata": {
    "scrolled": false
   },
   "outputs": [
    {
     "data": {
      "image/png": "[encoded data removed]",
      "text/plain": [
       "<Figure size 432x288 with 1 Axes>"
      ]
     },
     "metadata": {
      "needs_background": "light"
     },
     "output_type": "display_data"
    }
   ],
   "source": [
    "# Passengers by Class and Survival\n",
    "Surv_0 = df.groupby(['Pclass', 'Survived']).count()['Sex'].loc[:,0]\n",
    "Surv_1 = df.groupby(['Pclass', 'Survived']).count()['Sex'].loc[:,1]\n",
    "\n",
    "#plt.figure(figsize=(6,4))\n",
    "plt.rc('font', size=15)\n",
    "plt.xlabel('Ticket Class')\n",
    "plt.ylabel('Number of passengers')\n",
    "plt.title('Passengers by Ticket Class and Survival')\n",
    "plt.xticks(np.arange(3), ('1st', '2nd', '3rd'))\n",
    "plt.bar(np.arange(3), Surv_0, color = 'tab:blue')\n",
    "plt.bar(np.arange(3), Surv_1, color = 'tab:green', bottom = Surv_0)\n",
    "plt.legend( ('Survived = No', 'Survived = Yes'), loc = 2 )\n",
    "plt.text(-0.25, 140,'62.96%')\n",
    "plt.text(0.75, 130,'47.28%')\n",
    "plt.text(1.77, 420,'24.24%')\n",
    "plt.tight_layout()\n",
    "#plt.savefig(\"figures\\\\pclass_survived_distribution.jpg\")\n",
    "#plt.savefig(\"figures_for_presentation\\\\pclass_survived_distribution.jpg\")"
   ]
  },
  {
   "cell_type": "code",
   "execution_count": 11,
   "id": "bb68ea56",
   "metadata": {},
   "outputs": [
    {
     "name": "stdout",
     "output_type": "stream",
     "text": [
      "Pclass\n",
      "1    0.629630\n",
      "2    0.472826\n",
      "3    0.242363\n",
      "Name: Sex, dtype: float64\n"
     ]
    },
    {
     "data": {
      "text/plain": [
       "<matplotlib.collections.PathCollection at 0x125bc3f6490>"
      ]
     },
     "execution_count": 11,
     "metadata": {},
     "output_type": "execute_result"
    },
    {
     "data": {
      "image/png": "[encoded data removed]",
      "text/plain": [
       "<Figure size 432x288 with 1 Axes>"
      ]
     },
     "metadata": {
      "needs_background": "light"
     },
     "output_type": "display_data"
    }
   ],
   "source": [
    "# Survival Rates by Ticket Class\n",
    "survival_rate = Surv_1 / (Surv_0 + Surv_1)\n",
    "print(survival_rate)\n",
    "\n",
    "plt.rc('font', size=15)\n",
    "plt.xlabel('Ticket Class')\n",
    "plt.ylabel('Survival Rate')\n",
    "plt.title('Survival Rate by Ticket Class')\n",
    "plt.xticks(np.arange(3), ('1st', '2nd', '3rd'))\n",
    "plt.scatter(np.arange(3), survival_rate)"
   ]
  },
  {
   "cell_type": "markdown",
   "id": "e5d97fda",
   "metadata": {},
   "source": [
    "#### Name\n",
    "We extract the title of the passengers from the 'Name' column, map them to different integers and store them in the new column 'Title'. Then we drop the column 'Name'."
   ]
  },
  {
   "cell_type": "code",
   "execution_count": 12,
   "id": "8f7954f2",
   "metadata": {
    "scrolled": true
   },
   "outputs": [],
   "source": [
    "# retrieve title and create new column, drop name column\n",
    "\n",
    "title_mapping = {\n",
    "    \"Mr\": 'Mr',\n",
    "    \"Miss\": 'Ms', \"Mlle\": 'Ms', \"Ms\": 'Ms',\n",
    "    \"Mrs\": 'Mrs', \"Mme\": 'Mrs',\n",
    "    \"Master\": 'Master',\n",
    "    \"Don\": 'Noble', \"Rev\": 'Noble', \"Dr\": 'Noble', \"Major\": 'Noble', \"Lady\": 'Noble', \"Sir\": 'Noble', \"Col\": 'Noble', \"Capt\": 'Noble', \"the Countess\": 'Noble', \"Jonkheer\": 'Noble'\n",
    "}\n",
    "\n",
    "df[\"Title\"] = 'None'\n",
    "for idx, x in enumerate(df[\"Name\"]):\n",
    "    for s in x.split(\" \"):\n",
    "        s = s.replace(\".\", \"\")\n",
    "        if s in title_mapping.keys():\n",
    "            df.loc[idx, 'Title'] = title_mapping[s]\n",
    "\n",
    "# there is one female passenger without a title --> we assign 'Ms' as her title\n",
    "df.loc[df['Title'] == \"None\", 'Title'] = 'Ms'\n",
    "\n",
    "# drop the name column\n",
    "df.drop(\"Name\", inplace=True, axis=1)"
   ]
  },
  {
   "cell_type": "code",
   "execution_count": 13,
   "id": "6d6dc64d",
   "metadata": {},
   "outputs": [
    {
     "data": {
      "image/png": "[encoded data removed]",
      "text/plain": [
       "<Figure size 432x288 with 1 Axes>"
      ]
     },
     "metadata": {
      "needs_background": "light"
     },
     "output_type": "display_data"
    }
   ],
   "source": [
    "# Passengers by title\n",
    "#plt.figure(figsize=(6,4))\n",
    "plt.rc('font', size=15)\n",
    "df['Title'].value_counts().plot(kind='bar', rot = 0)\n",
    "plt.title('Passengers by Title')\n",
    "plt.xlabel('Title')\n",
    "plt.ylabel('Number of passengers')\n",
    "plt.tight_layout()\n",
    "\n",
    "#plt.savefig(\"figures\\\\title_distribution.jpg\")\n",
    "#plt.savefig(\"figures_for_presentation\\\\title_distribution.jpg\")"
   ]
  },
  {
   "cell_type": "markdown",
   "id": "0e4c2023",
   "metadata": {},
   "source": [
    "#### Sex\n",
    "We have a look at the distribution of 'Sex'. There are a lot more male than female passengers in our dataset."
   ]
  },
  {
   "cell_type": "code",
   "execution_count": 14,
   "id": "19c311eb",
   "metadata": {},
   "outputs": [
    {
     "name": "stdout",
     "output_type": "stream",
     "text": [
      "Sex\n",
      "female    314\n",
      "male      577\n",
      "dtype: int64\n"
     ]
    }
   ],
   "source": [
    "# plot the numbers of female and male passengers\n",
    "print(df.groupby('Sex').size()) #female 35.24%"
   ]
  },
  {
   "cell_type": "code",
   "execution_count": 15,
   "id": "93d99423",
   "metadata": {},
   "outputs": [
    {
     "data": {
      "text/plain": [
       "<BarContainer object of 2 artists>"
      ]
     },
     "execution_count": 15,
     "metadata": {},
     "output_type": "execute_result"
    },
    {
     "data": {
      "image/png": "[encoded data removed]",
      "text/plain": [
       "<Figure size 432x288 with 1 Axes>"
      ]
     },
     "metadata": {
      "needs_background": "light"
     },
     "output_type": "display_data"
    }
   ],
   "source": [
    "# Passengers by sex\n",
    "plt.rc('font', size=15)\n",
    "plt.xlabel('Sex')\n",
    "plt.ylabel('Number of passengers')\n",
    "plt.title('Passengers by sex')\n",
    "plt.xticks(np.arange(2), ('female', 'male'))\n",
    "plt.bar(np.arange(2), df.groupby('Sex').count()['Pclass'])"
   ]
  },
  {
   "cell_type": "code",
   "execution_count": 16,
   "id": "0853af36",
   "metadata": {
    "scrolled": false
   },
   "outputs": [
    {
     "data": {
      "text/plain": [
       "<function matplotlib.pyplot.show(close=None, block=None)>"
      ]
     },
     "execution_count": 16,
     "metadata": {},
     "output_type": "execute_result"
    },
    {
     "data": {
      "image/png": "[encoded data removed]",
      "text/plain": [
       "<Figure size 432x288 with 1 Axes>"
      ]
     },
     "metadata": {
      "needs_background": "light"
     },
     "output_type": "display_data"
    }
   ],
   "source": [
    "# Passengers by Sex and Survival\n",
    "Surv_0 = df.groupby(['Sex', 'Survived']).count()['Pclass'].loc[:,0]\n",
    "Surv_1 = df.groupby(['Sex', 'Survived']).count()['Pclass'].loc[:,1]\n",
    "\n",
    "plt.rc('font', size=15)\n",
    "plt.xlabel('Sex')\n",
    "plt.ylabel('Number of passengers')\n",
    "plt.title('Passengers by Sex and Survival')\n",
    "plt.xticks(np.arange(2), ('female', 'male'))\n",
    "plt.bar(np.arange(2), Surv_0, color = 'tab:blue')\n",
    "plt.bar(np.arange(2), Surv_1, color = 'tab:green', bottom = Surv_0)\n",
    "plt.legend( ('Survived = No', 'Survived = Yes'), loc = 2 )\n",
    "plt.show\n",
    "#plt.savefig(\"figures\\\\sex_survived_distribution.jpg\")"
   ]
  },
  {
   "cell_type": "code",
   "execution_count": 17,
   "id": "36f4b804",
   "metadata": {},
   "outputs": [
    {
     "name": "stdout",
     "output_type": "stream",
     "text": [
      "Sex\n",
      "female    0.742038\n",
      "male      0.188908\n",
      "Name: Pclass, dtype: float64\n"
     ]
    },
    {
     "data": {
      "text/plain": [
       "<matplotlib.collections.PathCollection at 0x125bc569970>"
      ]
     },
     "execution_count": 17,
     "metadata": {},
     "output_type": "execute_result"
    },
    {
     "data": {
      "image/png": "[encoded data removed]",
      "text/plain": [
       "<Figure size 432x288 with 1 Axes>"
      ]
     },
     "metadata": {
      "needs_background": "light"
     },
     "output_type": "display_data"
    }
   ],
   "source": [
    "# Survival Rate by Sex\n",
    "survival_rate = Surv_1 / (Surv_0 + Surv_1)\n",
    "print(survival_rate)\n",
    "\n",
    "plt.rc('font', size=15)\n",
    "plt.xlabel('Sex')\n",
    "plt.ylabel('Survival Rate')\n",
    "plt.title('Survival Rate by Sex')\n",
    "plt.xticks(np.arange(2), ('female', 'male'))\n",
    "plt.scatter(np.arange(2), survival_rate)"
   ]
  },
  {
   "cell_type": "markdown",
   "id": "502fb1d4",
   "metadata": {},
   "source": [
    "#### Age\n",
    "- The age is fractional if less than 1. We transform those ages to 0.  \n",
    "- If the age is estimated, it is in the form of xx.5 --> We build a new column 'Age_true' which indicates if the age is true or estimated. Then we transform the estimated ages in the form of xx.5 into the form xx (that is we remove the fractional)  \n",
    "- There are 177 passengers without any information about their age. --> We estimate their ages as follows and consider their ages to be estimated: For each title group we calculate the mean age (only using the train data). Then for each passenger without information about the age, we assign the mean age of the corresponding title group.  \n",
    "- We bin the ages: We form a new column 'AgeGroup' where the passengers are assigned to different groups according to their age. Those groups are: Kids (0-11), Teenagers (12-17), Young Adults (18-24), Adults (25-34), Middle-aged (35-49), Seniors (49+). We chose that split such that the passengers are distributed equally (more or less) about the different age groups.\n",
    "\n",
    "Note: For replacing the NaNs, we determine the mean ages of all title groups. For this, we only use the train data. Therefore, we already split the data here into train and test data. We perform all feature engineering and EDA on the whole data set and only use the split here for determining the replacing values. After this, we go on with the whole data set and perform the train test split again when we finished the preprocessing."
   ]
  },
  {
   "cell_type": "code",
   "execution_count": 18,
   "id": "ee2ad44c",
   "metadata": {},
   "outputs": [
    {
     "data": {
      "image/png": "[encoded data removed]",
      "text/plain": [
       "<Figure size 720x288 with 2 Axes>"
      ]
     },
     "metadata": {
      "needs_background": "light"
     },
     "output_type": "display_data"
    }
   ],
   "source": [
    "# plot 'Age' and 'AgeGroup' (only for Option 1)\n",
    "\n",
    "# define a figure with sub plots so we can compare different histograms\n",
    "# the parameters are: number of rows, number of columns, share the y-axis, and the size of the figure\n",
    "fig, axs = plt.subplots(1, 2, sharey=False, figsize=(10,4))\n",
    "plt.rc('font', size=15)\n",
    "\n",
    "# plot a histogram of column 'Age'\n",
    "axs[0].hist(df['Age'].values, bins = 20, range = (0,90))\n",
    "# plot a boxplot of column 'Age'\n",
    "axs[1].boxplot(df[df['Age'].isna() == False]['Age'])\n",
    "\n",
    "# use this call to prevent the subplots from overlapping\n",
    "plt.tight_layout()\n",
    "# show the figure\n",
    "plt.show()"
   ]
  },
  {
   "cell_type": "code",
   "execution_count": 19,
   "id": "b9a5b568",
   "metadata": {},
   "outputs": [
    {
     "name": "stdout",
     "output_type": "stream",
     "text": [
      "177\n",
      "0.19865319865319866\n"
     ]
    }
   ],
   "source": [
    "# check for NaNs\n",
    "print(len(df[df.Age.isna()]))\n",
    "print(177/891)"
   ]
  },
  {
   "cell_type": "code",
   "execution_count": 20,
   "id": "b7e46e56",
   "metadata": {},
   "outputs": [
    {
     "data": {
      "text/plain": [
       "195"
      ]
     },
     "execution_count": 20,
     "metadata": {},
     "output_type": "execute_result"
    }
   ],
   "source": [
    "# new column 'Age_true' (False if age not known or estimated)\n",
    "df['Age_true'] = True\n",
    "df.loc[((df['Age'] % 1 != 0) & (df['Age'] >= 1)) | (df['Age'].isna()), 'Age_true'] = False\n",
    "len(df[df.Age_true == False])"
   ]
  },
  {
   "cell_type": "code",
   "execution_count": 21,
   "id": "a4d0cbe9",
   "metadata": {},
   "outputs": [],
   "source": [
    "# if age<1, transform to age=0 AND if age estimated, use estimated age as true age (remove fractional)\n",
    "df['Age'] = df['Age'] - df['Age']%1"
   ]
  },
  {
   "cell_type": "code",
   "execution_count": 22,
   "id": "44fe15e1",
   "metadata": {},
   "outputs": [],
   "source": [
    "# split the data set into train and test data to determine the mean ages based on the train data\n",
    "\n",
    "from sklearn.model_selection import train_test_split\n",
    "X_train, X_test, y_train, y_test = train_test_split(df.drop(\"Survived\", axis=1), df[\"Survived\"], test_size=0.3, random_state=42, shuffle=True)"
   ]
  },
  {
   "cell_type": "code",
   "execution_count": 23,
   "id": "8929cc30",
   "metadata": {},
   "outputs": [
    {
     "name": "stdout",
     "output_type": "stream",
     "text": [
      "Title\n",
      "Master     4.0\n",
      "Mr        32.0\n",
      "Mrs       35.0\n",
      "Ms        22.0\n",
      "Noble     49.0\n",
      "Name: Age, dtype: float64\n"
     ]
    }
   ],
   "source": [
    "# replace NaNs: we use the mean age according to the column 'Title' (determined on the training data) - Option 1\n",
    "\n",
    "# save 'Age' column for Option 2\n",
    "df['Age_Opt2'] = df['Age'] # for Option 2\n",
    "\n",
    "# Option 1: replacing by an exact age\n",
    "# for each category in 'Title', find the mean age, then assign this mean to the passengers without age\n",
    "# we only use the train data to determine the values with which we replace the NaNs\n",
    "mean_ages = X_train.groupby('Title')['Age'].agg(np.mean).round()\n",
    "print(mean_ages)\n",
    "df.loc[df['Age'].isna(), 'Age'] = df.apply(lambda x: mean_ages[x['Title']], axis=1)"
   ]
  },
  {
   "cell_type": "code",
   "execution_count": 24,
   "id": "c89a20e2",
   "metadata": {},
   "outputs": [],
   "source": [
    "# assigning the age groups\n",
    "# old split: age_bins = [-1, 11, 17, 29, 49, 64]\n",
    "age_bins = [-1, 11, 17, 24, 34, 49]\n",
    "age_groups = [\"Kids\", \"Teenagers\", \"Young Adults\", \"Adults\", \"Middle-aged\", \"Seniors\"]\n",
    "\n",
    "for i in range(len(age_groups) - 1):\n",
    "    df.loc[(df[\"Age\"] > age_bins[i]) & (df[\"Age\"] <= age_bins[i+1]), \"AgeGroup\"] = age_groups[i]\n",
    "df.loc[df[\"Age\"] > age_bins[len(age_groups) - 1], \"AgeGroup\"] = age_groups[len(age_groups) - 1]"
   ]
  },
  {
   "cell_type": "code",
   "execution_count": 25,
   "id": "3590af96",
   "metadata": {},
   "outputs": [],
   "source": [
    "# Option 2 - not used\n",
    "\n",
    "# replace NaNs: we use the mean age according to the column 'Title' - Option 2\n",
    "\n",
    "# we first assign the age groups, then we replace the NaNs\n",
    "age_bins = [-1, 11, 17, 24, 34, 49]\n",
    "age_groups = [\"Kids\", \"Teenagers\", \"Young Adults\", \"Adults\", \"Middle-aged\", \"Seniors\"]\n",
    "\n",
    "for i in range(len(age_groups) - 1):\n",
    "    df.loc[(df[\"Age_Opt2\"] > age_bins[i]) & (df[\"Age_Opt2\"] <= age_bins[i+1]), \"AgeGroup_Opt2\"] = age_groups[i]\n",
    "df.loc[df[\"Age_Opt2\"] > age_bins[len(age_groups) - 1], \"AgeGroup_Opt2\"] = age_groups[len(age_groups) - 1]\n",
    "\n",
    "# Option 2: replacing by an age group\n",
    "# for each category in 'Title', find the age group that is represented most often, then assign this group to the passenger\n",
    "mean_agegroups = df.groupby('Title')['AgeGroup_Opt2'].agg(pd.Series.mode)\n",
    "df.loc[df['AgeGroup_Opt2'].isna(), 'AgeGroup_Opt2'] = df.apply(lambda x: mean_agegroups[x['Title']], axis=1)"
   ]
  },
  {
   "cell_type": "code",
   "execution_count": 26,
   "id": "3f0a5e9d",
   "metadata": {},
   "outputs": [
    {
     "name": "stdout",
     "output_type": "stream",
     "text": [
      "Kids : 72\n",
      "Teenagers : 45\n",
      "Young Adults : 201\n",
      "Adults : 320\n",
      "Middle-aged : 179\n",
      "Seniors : 74\n"
     ]
    }
   ],
   "source": [
    "# number of passengers in each age group\n",
    "for group in age_groups:\n",
    "    num = len(df[df['AgeGroup'] == group])\n",
    "    print(group, \":\", num)"
   ]
  },
  {
   "cell_type": "code",
   "execution_count": 27,
   "id": "71843354",
   "metadata": {
    "scrolled": false
   },
   "outputs": [
    {
     "name": "stdout",
     "output_type": "stream",
     "text": [
      "Reminder: The plots for Age_Opt2 (second and sixth plot) do not contain the replaced ages (NaNs are just left out)\n"
     ]
    },
    {
     "data": {
      "image/png": "[encoded data removed]",
      "text/plain": [
       "<Figure size 720x720 with 6 Axes>"
      ]
     },
     "metadata": {
      "needs_background": "light"
     },
     "output_type": "display_data"
    }
   ],
   "source": [
    "# plot 'Age' and 'AgeGroup' (also for Option 2)\n",
    "\n",
    "# define a figure with sub plots so we can compare different histograms\n",
    "# the parameters are: number of rows, number of columns, share the y-axis, and the size of the figure\n",
    "fig, axs = plt.subplots(3, 2, sharey=False, figsize=(10,10))\n",
    "\n",
    "# plot a histogram of column 'Age'\n",
    "axs[0][0].hist(df['Age'])\n",
    "# plot a histogram of column 'Age_Opt2' (contains NaNs)\n",
    "axs[0][1].hist(df['Age_Opt2'])\n",
    "# plot a boxplot of column 'Age'\n",
    "axs[1][0].boxplot(df['Age'])\n",
    "# plot a boxplot of column 'Age_Opt2' (remove NaNs)\n",
    "axs[1][1].boxplot(df[df['Age_Opt2'].isna() == False]['Age_Opt2'])\n",
    "# plot a barplot of column 'AgeGroup'\n",
    "sns.barplot(ax = axs[2][0], x = df['AgeGroup'].unique(), y = df[\"AgeGroup\"].value_counts(sort=False), order = age_groups)\n",
    "axs[2][0].set_xticklabels(age_groups, rotation = 45)\n",
    "# plot a barplot of column 'AgeGroup_Opt2'\n",
    "sns.barplot(ax = axs[2][1], x = df['AgeGroup_Opt2'].unique(), y = df[\"AgeGroup_Opt2\"].value_counts(sort=False), order = age_groups)\n",
    "axs[2][1].set_xticklabels(age_groups, rotation = 45)\n",
    "\n",
    "# use this call to prevent the subplots from overlapping\n",
    "plt.tight_layout()\n",
    "# print reminder\n",
    "print(\"Reminder: The plots for Age_Opt2 (second and sixth plot) do not contain the replaced ages (NaNs are just left out)\")\n",
    "# show the figure\n",
    "plt.show()\n",
    "\n",
    "# plot without matplotlib\n",
    "#df[\"AgeGroup\"].value_counts().plot(kind = \"bar\")"
   ]
  },
  {
   "cell_type": "code",
   "execution_count": 28,
   "id": "20bec222",
   "metadata": {},
   "outputs": [
    {
     "data": {
      "text/plain": [
       "(array([ 30.,  24.,  18.,  15.,  81., 119.,  90.,  91., 205.,  54.,  39.,\n",
       "         35.,  33.,  18.,  13.,  13.,   6.,   5.,   1.,   1.]),\n",
       " array([ 0.,  4.,  8., 12., 16., 20., 24., 28., 32., 36., 40., 44., 48.,\n",
       "        52., 56., 60., 64., 68., 72., 76., 80.]),\n",
       " <BarContainer object of 20 artists>)"
      ]
     },
     "execution_count": 28,
     "metadata": {},
     "output_type": "execute_result"
    },
    {
     "data": {
      "image/png": "[encoded data removed]",
      "text/plain": [
       "<Figure size 432x288 with 1 Axes>"
      ]
     },
     "metadata": {
      "needs_background": "light"
     },
     "output_type": "display_data"
    }
   ],
   "source": [
    "# Passengers by Age\n",
    "plt.rc('font', size=15)\n",
    "plt.xlabel('Age')\n",
    "plt.ylabel('Number of passengers')\n",
    "plt.title('Passengers by age')\n",
    "plt.hist(df['Age'], bins=20, range=(0,80))\n",
    "#plt.savefig(\"figures\\\\age_distribution.jpg\")"
   ]
  },
  {
   "cell_type": "code",
   "execution_count": 29,
   "id": "50f456b5",
   "metadata": {},
   "outputs": [
    {
     "data": {
      "text/plain": [
       "<function matplotlib.pyplot.show(close=None, block=None)>"
      ]
     },
     "execution_count": 29,
     "metadata": {},
     "output_type": "execute_result"
    },
    {
     "data": {
      "image/png": "[encoded data removed]",
      "text/plain": [
       "<Figure size 432x288 with 1 Axes>"
      ]
     },
     "metadata": {
      "needs_background": "light"
     },
     "output_type": "display_data"
    }
   ],
   "source": [
    "# Passengers by Age Group and Survival\n",
    "Surv_0 = df.groupby(['AgeGroup', 'Survived']).count()['Sex'].loc[:,0]\n",
    "Surv_1 = df.groupby(['AgeGroup', 'Survived']).count()['Sex'].loc[:,1]\n",
    "\n",
    "Surv_0_ord = []\n",
    "Surv_1_ord = []\n",
    "for group in age_groups:\n",
    "    Surv_0_ord.append(Surv_0[group])\n",
    "    Surv_1_ord.append(Surv_1[group])\n",
    "\n",
    "#plt.figure(figsize=(6,4))\n",
    "plt.rc('font', size=14)\n",
    "plt.xlabel('Age Group')\n",
    "plt.ylabel('Number of passengers')\n",
    "plt.title('Passengers by Age Group and Survival')\n",
    "plt.xticks(np.arange(6), (\"Kids\", \"Teen-\\nagers\", \"Young\\n Adults\", \"Adults\", \"Middle\\n-aged\", \"Seniors\"))\n",
    "plt.bar(np.arange(6), Surv_0_ord, color = 'tab:blue')\n",
    "plt.bar(np.arange(6), Surv_1_ord, color = 'tab:green', bottom = Surv_0_ord)\n",
    "plt.legend( ('Survived = No', 'Survived = Yes'), loc = 2 )\n",
    "plt.tight_layout()\n",
    "plt.show\n",
    "#plt.savefig(\"figures_for_presentation\\\\agegroup_survived_distribution.jpg\")"
   ]
  },
  {
   "cell_type": "code",
   "execution_count": 30,
   "id": "d5ba4fc5",
   "metadata": {},
   "outputs": [
    {
     "name": "stdout",
     "output_type": "stream",
     "text": [
      "AgeGroup\n",
      "Adults          0.287500\n",
      "Kids            0.569444\n",
      "Middle-aged     0.452514\n",
      "Seniors         0.364865\n",
      "Teenagers       0.488889\n",
      "Young Adults    0.393035\n",
      "Name: Sex, dtype: float64\n"
     ]
    }
   ],
   "source": [
    "# Survival Rate by Age Group\n",
    "survival_rate = Surv_1 / (Surv_0 + Surv_1)\n",
    "print(survival_rate)\n",
    "#plt.xlabel('Age Group')\n",
    "#plt.ylabel('Survival Rate')\n",
    "##plt.title('Survival Rate by Age Group')\n",
    "#plt.xticks(np.arange(6), (\"Adults\", \"Kids\", \"Middle-aged\", \"Seniors\", \"Teenagers\", \"Young Adults\"))\n",
    "#plt.scatter(np.arange(6), survival_rate)"
   ]
  },
  {
   "cell_type": "markdown",
   "id": "6b8d0388",
   "metadata": {},
   "source": [
    "#### SibSp & Parch\n",
    "We plot 'SibSp' and 'Parch'.  \n",
    "We build a new column 'Familysize' adding 'SibSp' and 'Parch'.  \n",
    "We will compute the correlations later to check which of the three columns we should keep and which we should drop.\n",
    "Reminder: If Parch=0, this can also mean that the children traveled with a nanny."
   ]
  },
  {
   "cell_type": "code",
   "execution_count": 31,
   "id": "02350d87",
   "metadata": {},
   "outputs": [],
   "source": [
    "# familze size is simplified by adding siblings and parents\n",
    "df['Familysize'] = df['SibSp'] + df['Parch']\n",
    "df['Familysize'] = df['Familysize'].astype(int)"
   ]
  },
  {
   "cell_type": "code",
   "execution_count": 32,
   "id": "481ee015",
   "metadata": {
    "scrolled": false
   },
   "outputs": [
    {
     "data": {
      "image/png": "[encoded data removed]",
      "text/plain": [
       "<Figure size 720x576 with 4 Axes>"
      ]
     },
     "metadata": {
      "needs_background": "light"
     },
     "output_type": "display_data"
    }
   ],
   "source": [
    "fig, axs = plt.subplots(2, 2, sharey=False, figsize=(10,8))\n",
    "\n",
    "# plot a histogram of column 'SibSp'\n",
    "axs[0][0].hist(df['SibSp'], bins=df['SibSp'].max()-1)\n",
    "# plot a histogram of column 'Parch'\n",
    "axs[0][1].hist(df['Parch'], bins=df['Parch'].max()-1)\n",
    "# plot both histograms in one plot\n",
    "axs[1][0].hist(df['SibSp'])\n",
    "axs[1][0].hist(df['Parch'])\n",
    "# plot a histogram of colum 'Familysize'\n",
    "axs[1][1].hist(df['Familysize'], bins=df['Familysize'].max()-1)\n",
    "\n",
    "plt.tight_layout()\n",
    "plt.show()"
   ]
  },
  {
   "cell_type": "code",
   "execution_count": 33,
   "id": "a47f1bd2",
   "metadata": {},
   "outputs": [
    {
     "data": {
      "text/plain": [
       "354"
      ]
     },
     "execution_count": 33,
     "metadata": {},
     "output_type": "execute_result"
    }
   ],
   "source": [
    "# check how many passengers have 'Familysize'>0\n",
    "len(df[df['Familysize'] > 0])"
   ]
  },
  {
   "cell_type": "markdown",
   "id": "8e8ff8be",
   "metadata": {},
   "source": [
    "#### Ticket\n",
    "\n",
    "We add a column 'Ticketsize' which indicates how many people have the same ticket. We consider these passengers as travel companions. Then we drop the column 'Ticket'.  \n",
    "There are 4 passengers with the ticket \"LINE\". Those ones are not considered as traveling together and therefore get Ticketsize=1.  \n",
    "We also check if the Ticketsize matches with the Familysize."
   ]
  },
  {
   "cell_type": "code",
   "execution_count": 34,
   "id": "87a823f5",
   "metadata": {},
   "outputs": [
    {
     "data": {
      "text/html": [
       "<div>\n",
       "<style scoped>\n",
       "    .dataframe tbody tr th:only-of-type {\n",
       "        vertical-align: middle;\n",
       "    }\n",
       "\n",
       "    .dataframe tbody tr th {\n",
       "        vertical-align: top;\n",
       "    }\n",
       "\n",
       "    .dataframe thead th {\n",
       "        text-align: right;\n",
       "    }\n",
       "</style>\n",
       "<table border=\"1\" class=\"dataframe\">\n",
       "  <thead>\n",
       "    <tr style=\"text-align: right;\">\n",
       "      <th></th>\n",
       "      <th>Survived</th>\n",
       "      <th>Pclass</th>\n",
       "      <th>Sex</th>\n",
       "      <th>Age</th>\n",
       "      <th>SibSp</th>\n",
       "      <th>Parch</th>\n",
       "      <th>Ticket</th>\n",
       "      <th>Fare</th>\n",
       "      <th>Cabin</th>\n",
       "      <th>Embarked</th>\n",
       "      <th>Title</th>\n",
       "      <th>Age_true</th>\n",
       "      <th>Age_Opt2</th>\n",
       "      <th>AgeGroup</th>\n",
       "      <th>AgeGroup_Opt2</th>\n",
       "      <th>Familysize</th>\n",
       "    </tr>\n",
       "  </thead>\n",
       "  <tbody>\n",
       "    <tr>\n",
       "      <th>179</th>\n",
       "      <td>0</td>\n",
       "      <td>3</td>\n",
       "      <td>male</td>\n",
       "      <td>36.0</td>\n",
       "      <td>0</td>\n",
       "      <td>0</td>\n",
       "      <td>LINE</td>\n",
       "      <td>0.0</td>\n",
       "      <td>NaN</td>\n",
       "      <td>S</td>\n",
       "      <td>Mr</td>\n",
       "      <td>True</td>\n",
       "      <td>36.0</td>\n",
       "      <td>Middle-aged</td>\n",
       "      <td>Middle-aged</td>\n",
       "      <td>0</td>\n",
       "    </tr>\n",
       "    <tr>\n",
       "      <th>271</th>\n",
       "      <td>1</td>\n",
       "      <td>3</td>\n",
       "      <td>male</td>\n",
       "      <td>25.0</td>\n",
       "      <td>0</td>\n",
       "      <td>0</td>\n",
       "      <td>LINE</td>\n",
       "      <td>0.0</td>\n",
       "      <td>NaN</td>\n",
       "      <td>S</td>\n",
       "      <td>Mr</td>\n",
       "      <td>True</td>\n",
       "      <td>25.0</td>\n",
       "      <td>Adults</td>\n",
       "      <td>Adults</td>\n",
       "      <td>0</td>\n",
       "    </tr>\n",
       "    <tr>\n",
       "      <th>302</th>\n",
       "      <td>0</td>\n",
       "      <td>3</td>\n",
       "      <td>male</td>\n",
       "      <td>19.0</td>\n",
       "      <td>0</td>\n",
       "      <td>0</td>\n",
       "      <td>LINE</td>\n",
       "      <td>0.0</td>\n",
       "      <td>NaN</td>\n",
       "      <td>S</td>\n",
       "      <td>Mr</td>\n",
       "      <td>True</td>\n",
       "      <td>19.0</td>\n",
       "      <td>Young Adults</td>\n",
       "      <td>Young Adults</td>\n",
       "      <td>0</td>\n",
       "    </tr>\n",
       "    <tr>\n",
       "      <th>597</th>\n",
       "      <td>0</td>\n",
       "      <td>3</td>\n",
       "      <td>male</td>\n",
       "      <td>49.0</td>\n",
       "      <td>0</td>\n",
       "      <td>0</td>\n",
       "      <td>LINE</td>\n",
       "      <td>0.0</td>\n",
       "      <td>NaN</td>\n",
       "      <td>S</td>\n",
       "      <td>Mr</td>\n",
       "      <td>True</td>\n",
       "      <td>49.0</td>\n",
       "      <td>Middle-aged</td>\n",
       "      <td>Middle-aged</td>\n",
       "      <td>0</td>\n",
       "    </tr>\n",
       "  </tbody>\n",
       "</table>\n",
       "</div>"
      ],
      "text/plain": [
       "     Survived  Pclass   Sex   Age  SibSp  Parch Ticket  Fare Cabin Embarked  \\\n",
       "179         0       3  male  36.0      0      0   LINE   0.0   NaN        S   \n",
       "271         1       3  male  25.0      0      0   LINE   0.0   NaN        S   \n",
       "302         0       3  male  19.0      0      0   LINE   0.0   NaN        S   \n",
       "597         0       3  male  49.0      0      0   LINE   0.0   NaN        S   \n",
       "\n",
       "    Title  Age_true  Age_Opt2      AgeGroup AgeGroup_Opt2  Familysize  \n",
       "179    Mr      True      36.0   Middle-aged   Middle-aged           0  \n",
       "271    Mr      True      25.0        Adults        Adults           0  \n",
       "302    Mr      True      19.0  Young Adults  Young Adults           0  \n",
       "597    Mr      True      49.0   Middle-aged   Middle-aged           0  "
      ]
     },
     "execution_count": 34,
     "metadata": {},
     "output_type": "execute_result"
    }
   ],
   "source": [
    "# there are 4 passengers with Ticket==\"LINE\"\n",
    "df[df['Ticket'] == \"LINE\"]"
   ]
  },
  {
   "cell_type": "code",
   "execution_count": 35,
   "id": "62b0ecd9",
   "metadata": {
    "scrolled": true
   },
   "outputs": [],
   "source": [
    "# we add a column 'Ticketsize' which indicates how many people are assigned to the respective ticket\n",
    "# we assume that people who have the same ticket, travel together\n",
    "ticket_grouped = df.groupby('Ticket')\n",
    "df['Ticketsize'] = 1\n",
    "\n",
    "for ticket, group in ticket_grouped:\n",
    "    if len(group) > 1:\n",
    "        df.loc[df['Ticket'] == ticket, 'Ticketsize'] = len(group)\n",
    "df.loc[df['Ticket'] == \"LINE\", 'Ticketsize'] = 1\n",
    "\n",
    "# we don't drop the column 'Ticket' yet but wait until we finished our analysis on 'Fare'\n",
    "#df.drop(\"Ticket\", inplace=True, axis=1)"
   ]
  },
  {
   "cell_type": "code",
   "execution_count": 36,
   "id": "64cd19ce",
   "metadata": {
    "scrolled": false
   },
   "outputs": [
    {
     "data": {
      "text/plain": [
       "(array([551., 188.,  63.,  40.,  10.,  39.]),\n",
       " array([1., 2., 3., 4., 5., 6., 7.]),\n",
       " <BarContainer object of 6 artists>)"
      ]
     },
     "execution_count": 36,
     "metadata": {},
     "output_type": "execute_result"
    },
    {
     "data": {
      "image/png": "[encoded data removed]",
      "text/plain": [
       "<Figure size 432x288 with 1 Axes>"
      ]
     },
     "metadata": {
      "needs_background": "light"
     },
     "output_type": "display_data"
    }
   ],
   "source": [
    "plt.hist(df['Ticketsize'], bins=df['Ticketsize'].max()-1)"
   ]
  },
  {
   "cell_type": "code",
   "execution_count": 37,
   "id": "e8b8cc33",
   "metadata": {},
   "outputs": [
    {
     "data": {
      "text/plain": [
       "284"
      ]
     },
     "execution_count": 37,
     "metadata": {},
     "output_type": "execute_result"
    }
   ],
   "source": [
    "# compare 'Ticketsize' and 'Familysize'\n",
    "df['SizeEqual'] = (df['Familysize'] == (df['Ticketsize'] - 1))\n",
    "len(df[df['SizeEqual'] == False])\n",
    "# Familysize and Ticketsize-1 are not equal for 284 passengers"
   ]
  },
  {
   "cell_type": "code",
   "execution_count": 38,
   "id": "3ad3bf4e",
   "metadata": {},
   "outputs": [],
   "source": [
    "# we drop column 'SizeEqual' since it only was for analyzing purposes and we don't need it for our prediction\n",
    "df.drop(\"SizeEqual\", inplace=True, axis=1)"
   ]
  },
  {
   "cell_type": "markdown",
   "id": "7b44a1ad",
   "metadata": {},
   "source": [
    "#### Fare\n",
    "We plot the distribution of 'Fare' (histogram and boxplot).  \n",
    "We check if it's useful to group the fares together in order to deal with extremely high fares.  \n",
    "There are 15 passengers that have Fare==0. For passengers with ticket \"LINE\", we keep Fare=0. For the other passengers we replace the value by the mean of the corresponding 'Pclass'."
   ]
  },
  {
   "cell_type": "code",
   "execution_count": 39,
   "id": "135f00ac",
   "metadata": {},
   "outputs": [
    {
     "data": {
      "text/plain": [
       "(array([547., 180.,  62.,  49.,  11.,  11.,  11.,   0.,   4.,   5.,   8.,\n",
       "          0.,   0.,   0.,   0.,   0.,   0.,   0.,   0.,   0.,   0.,   3.,\n",
       "          0.,   0.,   0.]),\n",
       " array([  0.,  24.,  48.,  72.,  96., 120., 144., 168., 192., 216., 240.,\n",
       "        264., 288., 312., 336., 360., 384., 408., 432., 456., 480., 504.,\n",
       "        528., 552., 576., 600.]),\n",
       " <BarContainer object of 25 artists>)"
      ]
     },
     "execution_count": 39,
     "metadata": {},
     "output_type": "execute_result"
    },
    {
     "data": {
      "image/png": "[encoded data removed]",
      "text/plain": [
       "<Figure size 432x288 with 1 Axes>"
      ]
     },
     "metadata": {
      "needs_background": "light"
     },
     "output_type": "display_data"
    }
   ],
   "source": [
    "plt.rc('font', size=15)\n",
    "plt.xlabel('Passenger Fare')\n",
    "plt.ylabel('Number of passengers')\n",
    "plt.title('Passengers by Fare')\n",
    "\n",
    "plt.hist(df.Fare, bins = 25, range = (0, 600))"
   ]
  },
  {
   "cell_type": "code",
   "execution_count": 40,
   "id": "8f67e865",
   "metadata": {},
   "outputs": [
    {
     "data": {
      "text/plain": [
       "15"
      ]
     },
     "execution_count": 40,
     "metadata": {},
     "output_type": "execute_result"
    }
   ],
   "source": [
    "# some tickets have Fare==0\n",
    "len(df[df.Fare == 0])"
   ]
  },
  {
   "cell_type": "code",
   "execution_count": 41,
   "id": "c882029f",
   "metadata": {},
   "outputs": [],
   "source": [
    "# we replace the fares which are 0 by the mean fare of the corresponding 'Pclass'\n",
    "mean_fares = df.groupby('Pclass')['Fare'].agg(np.mean)\n",
    "df.loc[(df['Fare'] == 0) & (df['Ticket'] != \"LINE\"), 'Fare'] = df.apply(lambda x: mean_fares[x['Pclass']], axis=1)"
   ]
  },
  {
   "cell_type": "code",
   "execution_count": 42,
   "id": "33a9ae9b",
   "metadata": {
    "scrolled": false
   },
   "outputs": [
    {
     "data": {
      "image/png": "[encoded data removed]",
      "text/plain": [
       "<Figure size 720x720 with 8 Axes>"
      ]
     },
     "metadata": {
      "needs_background": "light"
     },
     "output_type": "display_data"
    }
   ],
   "source": [
    "fig, axs = plt.subplots(4, 2, sharey=False, figsize=(10,10))\n",
    "\n",
    "# plot a histogram of column 'Fare' for all fares\n",
    "axs[0][0].hist(df['Fare'])\n",
    "# plot a boxplot of column 'Fare' for all fares\n",
    "axs[0][1].boxplot(df['Fare'])\n",
    "# plot a histogram of column 'Fare' for fares below 200\n",
    "axs[1][0].hist(df['Fare'][df['Fare'] < 200])\n",
    "# plot a boxplot of column 'Fare' for fares below 200\n",
    "axs[1][1].boxplot(df['Fare'][df['Fare'] < 200])\n",
    "# plot a histogram of column 'Fare' for fares below 100\n",
    "axs[2][0].hist(df['Fare'][df['Fare'] < 100])\n",
    "# plot a boxplot of column 'Fare' for fares below 100\n",
    "axs[2][1].boxplot(df['Fare'][df['Fare'] < 100])\n",
    "# plot a histogram of column 'Fare' for fares below 40\n",
    "axs[3][0].hist(df['Fare'][df['Fare'] < 40])\n",
    "# plot a boxplot of column 'Fare' for fares below 40\n",
    "axs[3][1].boxplot(df['Fare'][df['Fare'] < 40])\n",
    "\n",
    "plt.tight_layout()\n",
    "plt.show()"
   ]
  },
  {
   "cell_type": "code",
   "execution_count": 43,
   "id": "bc9d9e6a",
   "metadata": {
    "scrolled": false
   },
   "outputs": [
    {
     "data": {
      "image/png": "[encoded data removed]",
      "text/plain": [
       "<Figure size 432x288 with 1 Axes>"
      ]
     },
     "metadata": {
      "needs_background": "light"
     },
     "output_type": "display_data"
    }
   ],
   "source": [
    "# Passengers by Fare\n",
    "#plt.figure(figsize=(6,4))\n",
    "plt.rc('font', size=15)\n",
    "plt.xlabel('Passenger Fare')\n",
    "plt.ylabel('Number of passengers')\n",
    "plt.title('Passengers by Fare')\n",
    "plt.hist(df.Fare, bins = 25, range = (0, 520))\n",
    "plt.tight_layout()\n",
    "#plt.savefig(\"figures\\\\fare_distribution.jpg\")\n",
    "#plt.savefig(\"figures_for_presentation\\\\fare_distribution.jpg\")"
   ]
  },
  {
   "cell_type": "code",
   "execution_count": 44,
   "id": "d7bde4f4",
   "metadata": {},
   "outputs": [
    {
     "data": {
      "image/png": "[encoded data removed]",
      "text/plain": [
       "<Figure size 432x288 with 1 Axes>"
      ]
     },
     "metadata": {
      "needs_background": "light"
     },
     "output_type": "display_data"
    }
   ],
   "source": [
    "# Passengers by Passenger Fare (Fare < 40)\n",
    "plt.figure(figsize=(6,4))\n",
    "plt.rc('font', size=15)\n",
    "plt.xlabel('Passenger Fare')\n",
    "plt.ylabel('Number of passengers')\n",
    "plt.title('Passengers by Passenger Fare (Fare < 40)')\n",
    "plt.hist(df[df.Fare<40]['Fare'], bins = 20, range = (0, 40))\n",
    "plt.tight_layout()\n",
    "#plt.savefig(\"figures\\\\fare_40_distribution.jpg\")\n",
    "#plt.savefig(\"figures_for_presentation\\\\fare_40_distribution.jpg\")"
   ]
  },
  {
   "cell_type": "code",
   "execution_count": 45,
   "id": "70b89856",
   "metadata": {},
   "outputs": [
    {
     "name": "stdout",
     "output_type": "stream",
     "text": [
      "count    891.000000\n",
      "mean      32.815596\n",
      "std       49.722275\n",
      "min        0.000000\n",
      "25%        7.925000\n",
      "50%       14.500000\n",
      "75%       31.275000\n",
      "80%       41.579200\n",
      "85%       56.712500\n",
      "87%       69.550000\n",
      "94%       93.500000\n",
      "95%      112.079150\n",
      "max      512.329200\n",
      "Name: Fare, dtype: float64\n",
      "med: 14.5\n"
     ]
    }
   ],
   "source": [
    "perc = [0.25, 0.5, 0.75, 0.8, 0.85, 0.87, 0.94, 0.95]\n",
    "print(df['Fare'].describe(percentiles = perc))\n",
    "print(\"med:\", df['Fare'].median())"
   ]
  },
  {
   "cell_type": "markdown",
   "id": "08e38eca",
   "metadata": {},
   "source": [
    "Although the fares range from 0 to 512.3, they have a mean of 32.8. 75% of the fares are smaller than 31.3, 85% are smaller than 56.7, and only 13% are larger than 70. The median is 14.5"
   ]
  },
  {
   "cell_type": "code",
   "execution_count": 46,
   "id": "6800dc55",
   "metadata": {},
   "outputs": [],
   "source": [
    "# we group the fares\n",
    "# the groups are chosen such that the distribution over the groups is more or lessen even\n",
    "fare_bins = [-1, 7.8, 10.5, 23, 41, 100]\n",
    "fare_groups = [\"Very Cheap\", \"Cheap\", \"Normal\", \"Average\", \"Expensive\", \"Very Expensive\"]\n",
    "\n",
    "for i in range(len(fare_groups) - 1):\n",
    "    df.loc[(df[\"Fare\"] > fare_bins[i]) & (df[\"Fare\"] <= fare_bins[i+1]), \"FareGroup\"] = fare_groups[i]\n",
    "df.loc[df[\"Fare\"] > fare_bins[len(fare_groups) - 1], \"FareGroup\"] = fare_groups[len(fare_groups) - 1]"
   ]
  },
  {
   "cell_type": "code",
   "execution_count": 47,
   "id": "a2d4b93a",
   "metadata": {
    "scrolled": false
   },
   "outputs": [
    {
     "data": {
      "text/plain": [
       "<AxesSubplot:>"
      ]
     },
     "execution_count": 47,
     "metadata": {},
     "output_type": "execute_result"
    },
    {
     "data": {
      "image/png": "[encoded data removed]",
      "text/plain": [
       "<Figure size 432x288 with 1 Axes>"
      ]
     },
     "metadata": {
      "needs_background": "light"
     },
     "output_type": "display_data"
    }
   ],
   "source": [
    "df['FareGroup'].value_counts().loc[[\"Very Cheap\", \"Cheap\", \"Normal\", \"Average\", \"Expensive\", \"Very Expensive\"]].plot(kind='bar', rot = 45)"
   ]
  },
  {
   "cell_type": "code",
   "execution_count": 48,
   "id": "c5faaf02",
   "metadata": {},
   "outputs": [],
   "source": [
    "# now we drop the column 'Ticket'\n",
    "df.drop(\"Ticket\", inplace=True, axis=1)"
   ]
  },
  {
   "cell_type": "markdown",
   "id": "cfc7856a",
   "metadata": {},
   "source": [
    "#### Cabin\n",
    "We extract the letter from the name of the cabin because it indicates the cabin level. We use this letter to form a new column 'CabinLvl'. Passengers that don't have any information about the cabin, get CabinLvl='XX'. Then we drop the column 'Cabin'.  \n",
    "We will calculate the correlation with CabinLvl later to see if it's worth it to keep 'CabinLvl' since only 22.9% of the passengers have cabin information."
   ]
  },
  {
   "cell_type": "code",
   "execution_count": 49,
   "id": "43a40b15",
   "metadata": {},
   "outputs": [
    {
     "name": "stdout",
     "output_type": "stream",
     "text": [
      "687\n",
      "0.22895622895622897\n"
     ]
    }
   ],
   "source": [
    "# Count NaN values for 'Cabin'\n",
    "print(len(df[df['Cabin'].isna()]))\n",
    "print((891-687)/891)"
   ]
  },
  {
   "cell_type": "code",
   "execution_count": 50,
   "id": "73c68a6d",
   "metadata": {},
   "outputs": [],
   "source": [
    "# since most cabin numbers are not given, XX is assigned by default\n",
    "df[\"CabinLvl\"] = 'XX'\n",
    "for idx, x in enumerate(df[\"Cabin\"]):\n",
    "    try:\n",
    "        df.loc[idx, 'CabinLvl'] = x[0]\n",
    "    except:\n",
    "        pass\n",
    "\n",
    "df.drop(\"Cabin\", inplace=True, axis=1)"
   ]
  },
  {
   "cell_type": "code",
   "execution_count": 51,
   "id": "1d40ad71",
   "metadata": {
    "scrolled": false
   },
   "outputs": [
    {
     "data": {
      "image/png": "[encoded data removed]",
      "text/plain": [
       "<Figure size 720x288 with 2 Axes>"
      ]
     },
     "metadata": {
      "needs_background": "light"
     },
     "output_type": "display_data"
    }
   ],
   "source": [
    "fig, axs = plt.subplots(1, 2, sharey=False, figsize=(10,4))\n",
    "\n",
    "# plot a histogram of column 'CabinLvl'\n",
    "sns.barplot(ax = axs[0], x = df['CabinLvl'].unique(), y = df[\"CabinLvl\"].value_counts(sort=False), order = ['A', 'B', 'C', 'D', 'E', 'F', 'G', 'T', 'XX'] )\n",
    "# plot a histogram of column 'CabinLvl' without 'XX'\n",
    "sns.barplot(ax = axs[1], x = df['CabinLvl'][df['CabinLvl'] != 'XX'].unique(), y = df[\"CabinLvl\"][df['CabinLvl'] != 'XX'].value_counts(sort=False), order = ['A', 'B', 'C', 'D', 'E', 'F', 'G', 'T'] )\n",
    "\n",
    "\n",
    "plt.tight_layout()\n",
    "plt.show()"
   ]
  },
  {
   "cell_type": "code",
   "execution_count": 52,
   "id": "cee1fdc5",
   "metadata": {},
   "outputs": [
    {
     "data": {
      "text/plain": [
       "Pclass\n",
       "1     40\n",
       "2    168\n",
       "3    479\n",
       "dtype: int64"
      ]
     },
     "execution_count": 52,
     "metadata": {},
     "output_type": "execute_result"
    }
   ],
   "source": [
    "# in every 'Pclass' there are passengers with 'XX'\n",
    "df[df['CabinLvl'] == 'XX'].groupby('Pclass').size()"
   ]
  },
  {
   "cell_type": "code",
   "execution_count": 53,
   "id": "1ec540cd",
   "metadata": {},
   "outputs": [
    {
     "data": {
      "text/html": [
       "<div>\n",
       "<style scoped>\n",
       "    .dataframe tbody tr th:only-of-type {\n",
       "        vertical-align: middle;\n",
       "    }\n",
       "\n",
       "    .dataframe tbody tr th {\n",
       "        vertical-align: top;\n",
       "    }\n",
       "\n",
       "    .dataframe thead th {\n",
       "        text-align: right;\n",
       "    }\n",
       "</style>\n",
       "<table border=\"1\" class=\"dataframe\">\n",
       "  <thead>\n",
       "    <tr style=\"text-align: right;\">\n",
       "      <th></th>\n",
       "      <th>Survived</th>\n",
       "      <th>Pclass</th>\n",
       "      <th>Sex</th>\n",
       "      <th>Age</th>\n",
       "      <th>SibSp</th>\n",
       "      <th>Parch</th>\n",
       "      <th>Fare</th>\n",
       "      <th>Embarked</th>\n",
       "      <th>Title</th>\n",
       "      <th>Age_true</th>\n",
       "      <th>Age_Opt2</th>\n",
       "      <th>AgeGroup</th>\n",
       "      <th>AgeGroup_Opt2</th>\n",
       "      <th>Familysize</th>\n",
       "      <th>Ticketsize</th>\n",
       "      <th>FareGroup</th>\n",
       "      <th>CabinLvl</th>\n",
       "    </tr>\n",
       "  </thead>\n",
       "  <tbody>\n",
       "    <tr>\n",
       "      <th>339</th>\n",
       "      <td>0</td>\n",
       "      <td>1</td>\n",
       "      <td>male</td>\n",
       "      <td>45.0</td>\n",
       "      <td>0</td>\n",
       "      <td>0</td>\n",
       "      <td>35.5</td>\n",
       "      <td>S</td>\n",
       "      <td>Mr</td>\n",
       "      <td>True</td>\n",
       "      <td>45.0</td>\n",
       "      <td>Middle-aged</td>\n",
       "      <td>Middle-aged</td>\n",
       "      <td>0</td>\n",
       "      <td>1</td>\n",
       "      <td>Average</td>\n",
       "      <td>T</td>\n",
       "    </tr>\n",
       "  </tbody>\n",
       "</table>\n",
       "</div>"
      ],
      "text/plain": [
       "     Survived  Pclass   Sex   Age  SibSp  Parch  Fare Embarked Title  \\\n",
       "339         0       1  male  45.0      0      0  35.5        S    Mr   \n",
       "\n",
       "     Age_true  Age_Opt2     AgeGroup AgeGroup_Opt2  Familysize  Ticketsize  \\\n",
       "339      True      45.0  Middle-aged   Middle-aged           0           1   \n",
       "\n",
       "    FareGroup CabinLvl  \n",
       "339   Average        T  "
      ]
     },
     "execution_count": 53,
     "metadata": {},
     "output_type": "execute_result"
    }
   ],
   "source": [
    "df[df.CabinLvl == 'T']"
   ]
  },
  {
   "cell_type": "code",
   "execution_count": 54,
   "id": "4de38805",
   "metadata": {},
   "outputs": [
    {
     "data": {
      "text/plain": [
       "CabinLvl  Pclass\n",
       "A         1          15\n",
       "B         1          47\n",
       "C         1          59\n",
       "D         1          29\n",
       "          2           4\n",
       "E         1          25\n",
       "          2           4\n",
       "          3           3\n",
       "F         2           8\n",
       "          3           5\n",
       "G         3           4\n",
       "T         1           1\n",
       "XX        1          40\n",
       "          2         168\n",
       "          3         479\n",
       "dtype: int64"
      ]
     },
     "execution_count": 54,
     "metadata": {},
     "output_type": "execute_result"
    }
   ],
   "source": [
    "df.groupby([\"CabinLvl\", \"Pclass\"]).size()"
   ]
  },
  {
   "cell_type": "markdown",
   "id": "f9c7722d",
   "metadata": {},
   "source": [
    "#### Embarked\n",
    "There are two NaNs in the column 'Embarked' which we replace by the most common value for 'Embarked'."
   ]
  },
  {
   "cell_type": "code",
   "execution_count": 55,
   "id": "17d2ecf2",
   "metadata": {},
   "outputs": [],
   "source": [
    "df.loc[df['Embarked'] == 'C', 'Embarked'] = 'Cherbourg'\n",
    "df.loc[df['Embarked'] == 'S', 'Embarked'] = 'Southampton'\n",
    "df.loc[df['Embarked'] == 'Q', 'Embarked'] = 'Queenstown'"
   ]
  },
  {
   "cell_type": "code",
   "execution_count": 56,
   "id": "97b151ad",
   "metadata": {},
   "outputs": [
    {
     "data": {
      "text/plain": [
       "Pclass  Embarked   \n",
       "1       Cherbourg      104.718529\n",
       "        Queenstown      90.000000\n",
       "        Southampton     73.678039\n",
       "2       Cherbourg       25.358335\n",
       "        Queenstown      12.350000\n",
       "        Southampton     21.083373\n",
       "3       Cherbourg       11.214083\n",
       "        Queenstown      11.183393\n",
       "        Southampton     14.644083\n",
       "Name: Fare, dtype: float64"
      ]
     },
     "execution_count": 56,
     "metadata": {},
     "output_type": "execute_result"
    }
   ],
   "source": [
    "# not needed, just nice to know and maybe for our conclusion?\n",
    "\n",
    "# we assume that the length of the travel has an influence on the fare\n",
    "# to validate this we use the port of embarkation 'Embarked' (order of ports: S, C, Q)\n",
    "df.groupby(['Pclass', 'Embarked'])['Fare'].agg(np.mean)\n",
    "\n",
    "# although the port of embarkation seems to have an influence on the fare, the length of the travel doesn't have\n",
    "# passengers embarking in Southampton have the longest journey but passengers embarking in Cherbourg pay more on average"
   ]
  },
  {
   "cell_type": "code",
   "execution_count": 57,
   "id": "b7d4fead",
   "metadata": {},
   "outputs": [
    {
     "data": {
      "text/html": [
       "<div>\n",
       "<style scoped>\n",
       "    .dataframe tbody tr th:only-of-type {\n",
       "        vertical-align: middle;\n",
       "    }\n",
       "\n",
       "    .dataframe tbody tr th {\n",
       "        vertical-align: top;\n",
       "    }\n",
       "\n",
       "    .dataframe thead th {\n",
       "        text-align: right;\n",
       "    }\n",
       "</style>\n",
       "<table border=\"1\" class=\"dataframe\">\n",
       "  <thead>\n",
       "    <tr style=\"text-align: right;\">\n",
       "      <th></th>\n",
       "      <th>Survived</th>\n",
       "      <th>Pclass</th>\n",
       "      <th>Sex</th>\n",
       "      <th>Age</th>\n",
       "      <th>SibSp</th>\n",
       "      <th>Parch</th>\n",
       "      <th>Fare</th>\n",
       "      <th>Embarked</th>\n",
       "      <th>Title</th>\n",
       "      <th>Age_true</th>\n",
       "      <th>Age_Opt2</th>\n",
       "      <th>AgeGroup</th>\n",
       "      <th>AgeGroup_Opt2</th>\n",
       "      <th>Familysize</th>\n",
       "      <th>Ticketsize</th>\n",
       "      <th>FareGroup</th>\n",
       "      <th>CabinLvl</th>\n",
       "    </tr>\n",
       "  </thead>\n",
       "  <tbody>\n",
       "    <tr>\n",
       "      <th>61</th>\n",
       "      <td>1</td>\n",
       "      <td>1</td>\n",
       "      <td>female</td>\n",
       "      <td>38.0</td>\n",
       "      <td>0</td>\n",
       "      <td>0</td>\n",
       "      <td>80.0</td>\n",
       "      <td>NaN</td>\n",
       "      <td>Ms</td>\n",
       "      <td>True</td>\n",
       "      <td>38.0</td>\n",
       "      <td>Middle-aged</td>\n",
       "      <td>Middle-aged</td>\n",
       "      <td>0</td>\n",
       "      <td>2</td>\n",
       "      <td>Expensive</td>\n",
       "      <td>B</td>\n",
       "    </tr>\n",
       "    <tr>\n",
       "      <th>829</th>\n",
       "      <td>1</td>\n",
       "      <td>1</td>\n",
       "      <td>female</td>\n",
       "      <td>62.0</td>\n",
       "      <td>0</td>\n",
       "      <td>0</td>\n",
       "      <td>80.0</td>\n",
       "      <td>NaN</td>\n",
       "      <td>Mrs</td>\n",
       "      <td>True</td>\n",
       "      <td>62.0</td>\n",
       "      <td>Seniors</td>\n",
       "      <td>Seniors</td>\n",
       "      <td>0</td>\n",
       "      <td>2</td>\n",
       "      <td>Expensive</td>\n",
       "      <td>B</td>\n",
       "    </tr>\n",
       "  </tbody>\n",
       "</table>\n",
       "</div>"
      ],
      "text/plain": [
       "     Survived  Pclass     Sex   Age  SibSp  Parch  Fare Embarked Title  \\\n",
       "61          1       1  female  38.0      0      0  80.0      NaN    Ms   \n",
       "829         1       1  female  62.0      0      0  80.0      NaN   Mrs   \n",
       "\n",
       "     Age_true  Age_Opt2     AgeGroup AgeGroup_Opt2  Familysize  Ticketsize  \\\n",
       "61       True      38.0  Middle-aged   Middle-aged           0           2   \n",
       "829      True      62.0      Seniors       Seniors           0           2   \n",
       "\n",
       "     FareGroup CabinLvl  \n",
       "61   Expensive        B  \n",
       "829  Expensive        B  "
      ]
     },
     "execution_count": 57,
     "metadata": {},
     "output_type": "execute_result"
    }
   ],
   "source": [
    "df[df['Embarked'].isna()]"
   ]
  },
  {
   "cell_type": "code",
   "execution_count": 58,
   "id": "c44998ac",
   "metadata": {},
   "outputs": [
    {
     "name": "stdout",
     "output_type": "stream",
     "text": [
      "Embarked\n",
      "Cherbourg      168\n",
      "Queenstown      77\n",
      "Southampton    644\n",
      "dtype: int64\n"
     ]
    }
   ],
   "source": [
    "# for the two passengers where we don't have any information about 'Embarked' we just assign \"Southampton\" (first stop and most common value)\n",
    "print(df.groupby('Embarked').size())\n",
    "df.loc[df['Embarked'].isna(), 'Embarked'] = \"Southampton\"\n",
    "\n",
    "# here, we don't use the train data but the whole data set because it won't make a difference due to the very small number of NaNs"
   ]
  },
  {
   "cell_type": "code",
   "execution_count": 59,
   "id": "4ab71146",
   "metadata": {
    "scrolled": false
   },
   "outputs": [
    {
     "data": {
      "text/plain": [
       "<BarContainer object of 3 artists>"
      ]
     },
     "execution_count": 59,
     "metadata": {},
     "output_type": "execute_result"
    },
    {
     "data": {
      "image/png": "[encoded data removed]",
      "text/plain": [
       "<Figure size 432x288 with 1 Axes>"
      ]
     },
     "metadata": {
      "needs_background": "light"
     },
     "output_type": "display_data"
    }
   ],
   "source": [
    "plt.bar(df['Embarked'].unique(), df[\"Embarked\"].value_counts(sort=False))"
   ]
  },
  {
   "cell_type": "code",
   "execution_count": null,
   "id": "38298bb3",
   "metadata": {},
   "outputs": [],
   "source": []
  },
  {
   "cell_type": "markdown",
   "id": "c4ca40de",
   "metadata": {},
   "source": [
    "### Correlations"
   ]
  },
  {
   "cell_type": "markdown",
   "id": "b9d97fb1",
   "metadata": {},
   "source": [
    "#### Dataframe for correlations"
   ]
  },
  {
   "cell_type": "code",
   "execution_count": 60,
   "id": "e2723eaa",
   "metadata": {},
   "outputs": [],
   "source": [
    "# we drop 'Age_Opt2' and 'AgeGroup_Opt2'\n",
    "df.drop(\"Age_Opt2\", inplace=True, axis=1)\n",
    "df.drop(\"AgeGroup_Opt2\", inplace=True, axis=1)"
   ]
  },
  {
   "cell_type": "code",
   "execution_count": 61,
   "id": "e326a067",
   "metadata": {
    "scrolled": false
   },
   "outputs": [
    {
     "name": "stdout",
     "output_type": "stream",
     "text": [
      "<class 'pandas.core.frame.DataFrame'>\n",
      "RangeIndex: 891 entries, 0 to 890\n",
      "Data columns (total 15 columns):\n",
      " #   Column      Non-Null Count  Dtype  \n",
      "---  ------      --------------  -----  \n",
      " 0   Survived    891 non-null    int64  \n",
      " 1   Pclass      891 non-null    int64  \n",
      " 2   Sex         891 non-null    object \n",
      " 3   Age         891 non-null    float64\n",
      " 4   SibSp       891 non-null    int64  \n",
      " 5   Parch       891 non-null    int64  \n",
      " 6   Fare        891 non-null    float64\n",
      " 7   Embarked    891 non-null    object \n",
      " 8   Title       891 non-null    object \n",
      " 9   Age_true    891 non-null    bool   \n",
      " 10  AgeGroup    891 non-null    object \n",
      " 11  Familysize  891 non-null    int32  \n",
      " 12  Ticketsize  891 non-null    int64  \n",
      " 13  FareGroup   891 non-null    object \n",
      " 14  CabinLvl    891 non-null    object \n",
      "dtypes: bool(1), float64(2), int32(1), int64(5), object(6)\n",
      "memory usage: 95.0+ KB\n"
     ]
    }
   ],
   "source": [
    "df.info()"
   ]
  },
  {
   "cell_type": "markdown",
   "id": "3edf67c0",
   "metadata": {},
   "source": [
    "#### Correlation matrix"
   ]
  },
  {
   "cell_type": "markdown",
   "id": "82a8c7df",
   "metadata": {},
   "source": [
    "It's possible that the following cells don't work. If I run it locally (with Anaconda) it works, but in Visual Studio Code it doesn't. I'll try to fix it at some point. Till then, you can just have a look at the png file \"complete_correlation\" which I uploaded."
   ]
  },
  {
   "cell_type": "code",
   "execution_count": 62,
   "id": "913ce4fd",
   "metadata": {},
   "outputs": [
    {
     "data": {
      "image/png": "[encoded data removed]",
      "text/plain": [
       "<Figure size 864x864 with 2 Axes>"
      ]
     },
     "metadata": {
      "needs_background": "light"
     },
     "output_type": "display_data"
    }
   ],
   "source": [
    "# correlation matrix (heatmap) for all features\n",
    "\n",
    "from dython.nominal import associations\n",
    "plt.rc('font', size=13)\n",
    "complete_correlation = associations(df, figsize=(12,12))\n",
    "# put filename='complete_correlation.png' as parameter in associations to save the matrix as png"
   ]
  },
  {
   "cell_type": "code",
   "execution_count": 63,
   "id": "a074f4c0",
   "metadata": {},
   "outputs": [
    {
     "data": {
      "text/html": [
       "<style type=\"text/css\">\n",
       "#T_38b60_row0_col0, #T_38b60_row1_col1, #T_38b60_row2_col2, #T_38b60_row3_col3, #T_38b60_row4_col4, #T_38b60_row5_col5, #T_38b60_row6_col6, #T_38b60_row7_col7, #T_38b60_row8_col8, #T_38b60_row9_col9, #T_38b60_row10_col10, #T_38b60_row11_col11, #T_38b60_row12_col12, #T_38b60_row13_col13, #T_38b60_row14_col14 {\n",
       "  background-color: #b40426;\n",
       "  color: #f1f1f1;\n",
       "}\n",
       "#T_38b60_row0_col1, #T_38b60_row1_col0 {\n",
       "  background-color: #688aef;\n",
       "  color: #f1f1f1;\n",
       "}\n",
       "#T_38b60_row0_col2, #T_38b60_row2_col0 {\n",
       "  background-color: #f7a98b;\n",
       "  color: #000000;\n",
       "}\n",
       "#T_38b60_row0_col3, #T_38b60_row3_col0 {\n",
       "  background-color: #9fbfff;\n",
       "  color: #000000;\n",
       "}\n",
       "#T_38b60_row0_col4, #T_38b60_row4_col0 {\n",
       "  background-color: #abc8fd;\n",
       "  color: #000000;\n",
       "}\n",
       "#T_38b60_row0_col5, #T_38b60_row4_col14, #T_38b60_row5_col0, #T_38b60_row7_col11, #T_38b60_row11_col7, #T_38b60_row14_col4 {\n",
       "  background-color: #c4d5f3;\n",
       "  color: #000000;\n",
       "}\n",
       "#T_38b60_row0_col6, #T_38b60_row2_col5, #T_38b60_row5_col2, #T_38b60_row6_col0 {\n",
       "  background-color: #e1dad6;\n",
       "  color: #000000;\n",
       "}\n",
       "#T_38b60_row0_col7, #T_38b60_row2_col6, #T_38b60_row3_col13, #T_38b60_row6_col2, #T_38b60_row7_col0, #T_38b60_row13_col3 {\n",
       "  background-color: #d5dbe5;\n",
       "  color: #000000;\n",
       "}\n",
       "#T_38b60_row0_col8, #T_38b60_row3_col8, #T_38b60_row8_col0, #T_38b60_row8_col3 {\n",
       "  background-color: #f6a385;\n",
       "  color: #000000;\n",
       "}\n",
       "#T_38b60_row0_col9, #T_38b60_row9_col0 {\n",
       "  background-color: #ccd9ed;\n",
       "  color: #000000;\n",
       "}\n",
       "#T_38b60_row0_col10, #T_38b60_row7_col14, #T_38b60_row10_col0, #T_38b60_row10_col13, #T_38b60_row13_col10, #T_38b60_row14_col7 {\n",
       "  background-color: #d6dce4;\n",
       "  color: #000000;\n",
       "}\n",
       "#T_38b60_row0_col11, #T_38b60_row1_col5, #T_38b60_row5_col1, #T_38b60_row11_col0 {\n",
       "  background-color: #b7cff9;\n",
       "  color: #000000;\n",
       "}\n",
       "#T_38b60_row0_col12, #T_38b60_row12_col0 {\n",
       "  background-color: #bcd2f7;\n",
       "  color: #000000;\n",
       "}\n",
       "#T_38b60_row0_col13, #T_38b60_row13_col0, #T_38b60_row13_col14, #T_38b60_row14_col13 {\n",
       "  background-color: #edd2c3;\n",
       "  color: #000000;\n",
       "}\n",
       "#T_38b60_row0_col14, #T_38b60_row14_col0 {\n",
       "  background-color: #edd1c2;\n",
       "  color: #000000;\n",
       "}\n",
       "#T_38b60_row1_col2, #T_38b60_row2_col1 {\n",
       "  background-color: #cedaeb;\n",
       "  color: #000000;\n",
       "}\n",
       "#T_38b60_row1_col3, #T_38b60_row3_col1 {\n",
       "  background-color: #6687ed;\n",
       "  color: #f1f1f1;\n",
       "}\n",
       "#T_38b60_row1_col4, #T_38b60_row4_col1, #T_38b60_row5_col7, #T_38b60_row7_col5, #T_38b60_row11_col14, #T_38b60_row14_col11 {\n",
       "  background-color: #c5d6f2;\n",
       "  color: #000000;\n",
       "}\n",
       "#T_38b60_row1_col6, #T_38b60_row6_col1 {\n",
       "  background-color: #3b4cc0;\n",
       "  color: #f1f1f1;\n",
       "}\n",
       "#T_38b60_row1_col7, #T_38b60_row3_col14, #T_38b60_row7_col1, #T_38b60_row14_col3 {\n",
       "  background-color: #ead4c8;\n",
       "  color: #000000;\n",
       "}\n",
       "#T_38b60_row1_col8, #T_38b60_row2_col10, #T_38b60_row8_col1, #T_38b60_row10_col2 {\n",
       "  background-color: #e3d9d3;\n",
       "  color: #000000;\n",
       "}\n",
       "#T_38b60_row1_col9, #T_38b60_row9_col1 {\n",
       "  background-color: #89acfd;\n",
       "  color: #000000;\n",
       "}\n",
       "#T_38b60_row1_col10, #T_38b60_row5_col13, #T_38b60_row8_col12, #T_38b60_row10_col1, #T_38b60_row12_col8, #T_38b60_row13_col5 {\n",
       "  background-color: #f2c9b4;\n",
       "  color: #000000;\n",
       "}\n",
       "#T_38b60_row1_col11, #T_38b60_row4_col7, #T_38b60_row7_col4, #T_38b60_row9_col11, #T_38b60_row11_col1, #T_38b60_row11_col9 {\n",
       "  background-color: #c1d4f4;\n",
       "  color: #000000;\n",
       "}\n",
       "#T_38b60_row1_col12, #T_38b60_row12_col1 {\n",
       "  background-color: #b1cbfc;\n",
       "  color: #000000;\n",
       "}\n",
       "#T_38b60_row1_col13, #T_38b60_row13_col1 {\n",
       "  background-color: #e36b54;\n",
       "  color: #f1f1f1;\n",
       "}\n",
       "#T_38b60_row1_col14, #T_38b60_row14_col1 {\n",
       "  background-color: #e36c55;\n",
       "  color: #f1f1f1;\n",
       "}\n",
       "#T_38b60_row2_col3, #T_38b60_row2_col4, #T_38b60_row3_col2, #T_38b60_row4_col2, #T_38b60_row8_col14, #T_38b60_row12_col14, #T_38b60_row14_col8, #T_38b60_row14_col12 {\n",
       "  background-color: #cbd8ee;\n",
       "  color: #000000;\n",
       "}\n",
       "#T_38b60_row2_col7, #T_38b60_row5_col14, #T_38b60_row7_col2, #T_38b60_row14_col5 {\n",
       "  background-color: #cad8ef;\n",
       "  color: #000000;\n",
       "}\n",
       "#T_38b60_row2_col8, #T_38b60_row8_col2 {\n",
       "  background-color: #b50927;\n",
       "  color: #f1f1f1;\n",
       "}\n",
       "#T_38b60_row2_col9, #T_38b60_row7_col12, #T_38b60_row9_col2, #T_38b60_row12_col7 {\n",
       "  background-color: #c3d5f4;\n",
       "  color: #000000;\n",
       "}\n",
       "#T_38b60_row2_col11, #T_38b60_row8_col13, #T_38b60_row9_col13, #T_38b60_row11_col2, #T_38b60_row13_col8, #T_38b60_row13_col9 {\n",
       "  background-color: #dadce0;\n",
       "  color: #000000;\n",
       "}\n",
       "#T_38b60_row2_col12, #T_38b60_row9_col14, #T_38b60_row12_col2, #T_38b60_row14_col9 {\n",
       "  background-color: #d4dbe6;\n",
       "  color: #000000;\n",
       "}\n",
       "#T_38b60_row2_col13, #T_38b60_row13_col2 {\n",
       "  background-color: #e4d9d2;\n",
       "  color: #000000;\n",
       "}\n",
       "#T_38b60_row2_col14, #T_38b60_row6_col8, #T_38b60_row8_col6, #T_38b60_row14_col2 {\n",
       "  background-color: #d7dce3;\n",
       "  color: #000000;\n",
       "}\n",
       "#T_38b60_row3_col4, #T_38b60_row4_col3 {\n",
       "  background-color: #779af7;\n",
       "  color: #f1f1f1;\n",
       "}\n",
       "#T_38b60_row3_col5, #T_38b60_row5_col3 {\n",
       "  background-color: #88abfd;\n",
       "  color: #000000;\n",
       "}\n",
       "#T_38b60_row3_col6, #T_38b60_row6_col3 {\n",
       "  background-color: #c7d7f0;\n",
       "  color: #000000;\n",
       "}\n",
       "#T_38b60_row3_col7, #T_38b60_row7_col3 {\n",
       "  background-color: #c0d4f5;\n",
       "  color: #000000;\n",
       "}\n",
       "#T_38b60_row3_col9, #T_38b60_row9_col3 {\n",
       "  background-color: #afcafc;\n",
       "  color: #000000;\n",
       "}\n",
       "#T_38b60_row3_col10, #T_38b60_row10_col3 {\n",
       "  background-color: #bb1b2c;\n",
       "  color: #f1f1f1;\n",
       "}\n",
       "#T_38b60_row3_col11, #T_38b60_row11_col3 {\n",
       "  background-color: #7597f6;\n",
       "  color: #f1f1f1;\n",
       "}\n",
       "#T_38b60_row3_col12, #T_38b60_row12_col3 {\n",
       "  background-color: #7da0f9;\n",
       "  color: #f1f1f1;\n",
       "}\n",
       "#T_38b60_row4_col5, #T_38b60_row5_col4, #T_38b60_row5_col10, #T_38b60_row10_col5 {\n",
       "  background-color: #f5c4ac;\n",
       "  color: #000000;\n",
       "}\n",
       "#T_38b60_row4_col6, #T_38b60_row6_col4 {\n",
       "  background-color: #d2dbe8;\n",
       "  color: #000000;\n",
       "}\n",
       "#T_38b60_row4_col8, #T_38b60_row8_col4 {\n",
       "  background-color: #f3c8b2;\n",
       "  color: #000000;\n",
       "}\n",
       "#T_38b60_row4_col9, #T_38b60_row9_col4 {\n",
       "  background-color: #b3cdfb;\n",
       "  color: #000000;\n",
       "}\n",
       "#T_38b60_row4_col10, #T_38b60_row10_col4 {\n",
       "  background-color: #f3c7b1;\n",
       "  color: #000000;\n",
       "}\n",
       "#T_38b60_row4_col11, #T_38b60_row11_col4 {\n",
       "  background-color: #cc403a;\n",
       "  color: #f1f1f1;\n",
       "}\n",
       "#T_38b60_row4_col12, #T_38b60_row12_col4 {\n",
       "  background-color: #f08a6c;\n",
       "  color: #f1f1f1;\n",
       "}\n",
       "#T_38b60_row4_col13, #T_38b60_row13_col4 {\n",
       "  background-color: #f2cbb7;\n",
       "  color: #000000;\n",
       "}\n",
       "#T_38b60_row5_col6, #T_38b60_row6_col5, #T_38b60_row6_col10, #T_38b60_row6_col11, #T_38b60_row10_col6, #T_38b60_row11_col6 {\n",
       "  background-color: #dbdcde;\n",
       "  color: #000000;\n",
       "}\n",
       "#T_38b60_row5_col8, #T_38b60_row8_col5 {\n",
       "  background-color: #f4c5ad;\n",
       "  color: #000000;\n",
       "}\n",
       "#T_38b60_row5_col9, #T_38b60_row7_col8, #T_38b60_row8_col7, #T_38b60_row9_col5 {\n",
       "  background-color: #cdd9ec;\n",
       "  color: #000000;\n",
       "}\n",
       "#T_38b60_row5_col11, #T_38b60_row11_col5 {\n",
       "  background-color: #e16751;\n",
       "  color: #f1f1f1;\n",
       "}\n",
       "#T_38b60_row5_col12, #T_38b60_row12_col5 {\n",
       "  background-color: #f59c7d;\n",
       "  color: #000000;\n",
       "}\n",
       "#T_38b60_row6_col7, #T_38b60_row7_col6 {\n",
       "  background-color: #e6d7cf;\n",
       "  color: #000000;\n",
       "}\n",
       "#T_38b60_row6_col9, #T_38b60_row7_col10, #T_38b60_row9_col6, #T_38b60_row10_col7 {\n",
       "  background-color: #c9d7f0;\n",
       "  color: #000000;\n",
       "}\n",
       "#T_38b60_row6_col12, #T_38b60_row12_col6 {\n",
       "  background-color: #efcebd;\n",
       "  color: #000000;\n",
       "}\n",
       "#T_38b60_row6_col13, #T_38b60_row13_col6 {\n",
       "  background-color: #d0473d;\n",
       "  color: #f1f1f1;\n",
       "}\n",
       "#T_38b60_row6_col14, #T_38b60_row14_col6 {\n",
       "  background-color: #f59f80;\n",
       "  color: #000000;\n",
       "}\n",
       "#T_38b60_row7_col9, #T_38b60_row9_col7 {\n",
       "  background-color: #f0cdbb;\n",
       "  color: #000000;\n",
       "}\n",
       "#T_38b60_row7_col13, #T_38b60_row13_col7 {\n",
       "  background-color: #ecd3c5;\n",
       "  color: #000000;\n",
       "}\n",
       "#T_38b60_row8_col9, #T_38b60_row9_col8, #T_38b60_row10_col14, #T_38b60_row14_col10 {\n",
       "  background-color: #cfdaea;\n",
       "  color: #000000;\n",
       "}\n",
       "#T_38b60_row8_col10, #T_38b60_row10_col8 {\n",
       "  background-color: #f6bfa6;\n",
       "  color: #000000;\n",
       "}\n",
       "#T_38b60_row8_col11, #T_38b60_row11_col8 {\n",
       "  background-color: #f7bca1;\n",
       "  color: #000000;\n",
       "}\n",
       "#T_38b60_row9_col10, #T_38b60_row10_col9 {\n",
       "  background-color: #efcfbf;\n",
       "  color: #000000;\n",
       "}\n",
       "#T_38b60_row9_col12, #T_38b60_row12_col9 {\n",
       "  background-color: #bfd3f6;\n",
       "  color: #000000;\n",
       "}\n",
       "#T_38b60_row10_col11, #T_38b60_row11_col10 {\n",
       "  background-color: #f7b99e;\n",
       "  color: #000000;\n",
       "}\n",
       "#T_38b60_row10_col12, #T_38b60_row12_col10 {\n",
       "  background-color: #f5c2aa;\n",
       "  color: #000000;\n",
       "}\n",
       "#T_38b60_row11_col12, #T_38b60_row12_col11 {\n",
       "  background-color: #e46e56;\n",
       "  color: #f1f1f1;\n",
       "}\n",
       "#T_38b60_row11_col13, #T_38b60_row13_col11 {\n",
       "  background-color: #f5c1a9;\n",
       "  color: #000000;\n",
       "}\n",
       "#T_38b60_row12_col13, #T_38b60_row13_col12 {\n",
       "  background-color: #f7ac8e;\n",
       "  color: #000000;\n",
       "}\n",
       "</style>\n",
       "<table id=\"T_38b60\">\n",
       "  <thead>\n",
       "    <tr>\n",
       "      <th class=\"blank level0\" >&nbsp;</th>\n",
       "      <th id=\"T_38b60_level0_col0\" class=\"col_heading level0 col0\" >Survived</th>\n",
       "      <th id=\"T_38b60_level0_col1\" class=\"col_heading level0 col1\" >Pclass</th>\n",
       "      <th id=\"T_38b60_level0_col2\" class=\"col_heading level0 col2\" >Sex</th>\n",
       "      <th id=\"T_38b60_level0_col3\" class=\"col_heading level0 col3\" >Age</th>\n",
       "      <th id=\"T_38b60_level0_col4\" class=\"col_heading level0 col4\" >SibSp</th>\n",
       "      <th id=\"T_38b60_level0_col5\" class=\"col_heading level0 col5\" >Parch</th>\n",
       "      <th id=\"T_38b60_level0_col6\" class=\"col_heading level0 col6\" >Fare</th>\n",
       "      <th id=\"T_38b60_level0_col7\" class=\"col_heading level0 col7\" >Embarked</th>\n",
       "      <th id=\"T_38b60_level0_col8\" class=\"col_heading level0 col8\" >Title</th>\n",
       "      <th id=\"T_38b60_level0_col9\" class=\"col_heading level0 col9\" >Age_true</th>\n",
       "      <th id=\"T_38b60_level0_col10\" class=\"col_heading level0 col10\" >AgeGroup</th>\n",
       "      <th id=\"T_38b60_level0_col11\" class=\"col_heading level0 col11\" >Familysize</th>\n",
       "      <th id=\"T_38b60_level0_col12\" class=\"col_heading level0 col12\" >Ticketsize</th>\n",
       "      <th id=\"T_38b60_level0_col13\" class=\"col_heading level0 col13\" >FareGroup</th>\n",
       "      <th id=\"T_38b60_level0_col14\" class=\"col_heading level0 col14\" >CabinLvl</th>\n",
       "    </tr>\n",
       "  </thead>\n",
       "  <tbody>\n",
       "    <tr>\n",
       "      <th id=\"T_38b60_level0_row0\" class=\"row_heading level0 row0\" >Survived</th>\n",
       "      <td id=\"T_38b60_row0_col0\" class=\"data row0 col0\" >1.000000</td>\n",
       "      <td id=\"T_38b60_row0_col1\" class=\"data row0 col1\" >-0.338481</td>\n",
       "      <td id=\"T_38b60_row0_col2\" class=\"data row0 col2\" >0.543351</td>\n",
       "      <td id=\"T_38b60_row0_col3\" class=\"data row0 col3\" >-0.088500</td>\n",
       "      <td id=\"T_38b60_row0_col4\" class=\"data row0 col4\" >-0.035322</td>\n",
       "      <td id=\"T_38b60_row0_col5\" class=\"data row0 col5\" >0.081629</td>\n",
       "      <td id=\"T_38b60_row0_col6\" class=\"data row0 col6\" >0.247447</td>\n",
       "      <td id=\"T_38b60_row0_col7\" class=\"data row0 col7\" >0.170707</td>\n",
       "      <td id=\"T_38b60_row0_col8\" class=\"data row0 col8\" >0.570139</td>\n",
       "      <td id=\"T_38b60_row0_col9\" class=\"data row0 col9\" >0.121949</td>\n",
       "      <td id=\"T_38b60_row0_col10\" class=\"data row0 col10\" >0.180095</td>\n",
       "      <td id=\"T_38b60_row0_col11\" class=\"data row0 col11\" >0.016639</td>\n",
       "      <td id=\"T_38b60_row0_col12\" class=\"data row0 col12\" >0.041188</td>\n",
       "      <td id=\"T_38b60_row0_col13\" class=\"data row0 col13\" >0.324644</td>\n",
       "      <td id=\"T_38b60_row0_col14\" class=\"data row0 col14\" >0.333610</td>\n",
       "    </tr>\n",
       "    <tr>\n",
       "      <th id=\"T_38b60_level0_row1\" class=\"row_heading level0 row1\" >Pclass</th>\n",
       "      <td id=\"T_38b60_row1_col0\" class=\"data row1 col0\" >-0.338481</td>\n",
       "      <td id=\"T_38b60_row1_col1\" class=\"data row1 col1\" >1.000000</td>\n",
       "      <td id=\"T_38b60_row1_col2\" class=\"data row1 col2\" >0.131900</td>\n",
       "      <td id=\"T_38b60_row1_col3\" class=\"data row1 col3\" >-0.345317</td>\n",
       "      <td id=\"T_38b60_row1_col4\" class=\"data row1 col4\" >0.083081</td>\n",
       "      <td id=\"T_38b60_row1_col5\" class=\"data row1 col5\" >0.018443</td>\n",
       "      <td id=\"T_38b60_row1_col6\" class=\"data row1 col6\" >-0.565098</td>\n",
       "      <td id=\"T_38b60_row1_col7\" class=\"data row1 col7\" >0.306858</td>\n",
       "      <td id=\"T_38b60_row1_col8\" class=\"data row1 col8\" >0.258898</td>\n",
       "      <td id=\"T_38b60_row1_col9\" class=\"data row1 col9\" >-0.191058</td>\n",
       "      <td id=\"T_38b60_row1_col10\" class=\"data row1 col10\" >0.386865</td>\n",
       "      <td id=\"T_38b60_row1_col11\" class=\"data row1 col11\" >0.065997</td>\n",
       "      <td id=\"T_38b60_row1_col12\" class=\"data row1 col12\" >-0.010881</td>\n",
       "      <td id=\"T_38b60_row1_col13\" class=\"data row1 col13\" >0.770095</td>\n",
       "      <td id=\"T_38b60_row1_col14\" class=\"data row1 col14\" >0.765105</td>\n",
       "    </tr>\n",
       "    <tr>\n",
       "      <th id=\"T_38b60_level0_row2\" class=\"row_heading level0 row2\" >Sex</th>\n",
       "      <td id=\"T_38b60_row2_col0\" class=\"data row2 col0\" >0.543351</td>\n",
       "      <td id=\"T_38b60_row2_col1\" class=\"data row2 col1\" >0.131900</td>\n",
       "      <td id=\"T_38b60_row2_col2\" class=\"data row2 col2\" >1.000000</td>\n",
       "      <td id=\"T_38b60_row2_col3\" class=\"data row2 col3\" >0.115366</td>\n",
       "      <td id=\"T_38b60_row2_col4\" class=\"data row2 col4\" >0.114631</td>\n",
       "      <td id=\"T_38b60_row2_col5\" class=\"data row2 col5\" >0.245489</td>\n",
       "      <td id=\"T_38b60_row2_col6\" class=\"data row2 col6\" >0.173151</td>\n",
       "      <td id=\"T_38b60_row2_col7\" class=\"data row2 col7\" >0.110742</td>\n",
       "      <td id=\"T_38b60_row2_col8\" class=\"data row2 col8\" >0.993818</td>\n",
       "      <td id=\"T_38b60_row2_col9\" class=\"data row2 col9\" >0.072278</td>\n",
       "      <td id=\"T_38b60_row2_col10\" class=\"data row2 col10\" >0.254644</td>\n",
       "      <td id=\"T_38b60_row2_col11\" class=\"data row2 col11\" >0.200988</td>\n",
       "      <td id=\"T_38b60_row2_col12\" class=\"data row2 col12\" >0.162906</td>\n",
       "      <td id=\"T_38b60_row2_col13\" class=\"data row2 col13\" >0.261254</td>\n",
       "      <td id=\"T_38b60_row2_col14\" class=\"data row2 col14\" >0.182476</td>\n",
       "    </tr>\n",
       "    <tr>\n",
       "      <th id=\"T_38b60_level0_row3\" class=\"row_heading level0 row3\" >Age</th>\n",
       "      <td id=\"T_38b60_row3_col0\" class=\"data row3 col0\" >-0.088500</td>\n",
       "      <td id=\"T_38b60_row3_col1\" class=\"data row3 col1\" >-0.345317</td>\n",
       "      <td id=\"T_38b60_row3_col2\" class=\"data row3 col2\" >0.115366</td>\n",
       "      <td id=\"T_38b60_row3_col3\" class=\"data row3 col3\" >1.000000</td>\n",
       "      <td id=\"T_38b60_row3_col4\" class=\"data row3 col4\" >-0.267273</td>\n",
       "      <td id=\"T_38b60_row3_col5\" class=\"data row3 col5\" >-0.196051</td>\n",
       "      <td id=\"T_38b60_row3_col6\" class=\"data row3 col6\" >0.096936</td>\n",
       "      <td id=\"T_38b60_row3_col7\" class=\"data row3 col7\" >0.058808</td>\n",
       "      <td id=\"T_38b60_row3_col8\" class=\"data row3 col8\" >0.568845</td>\n",
       "      <td id=\"T_38b60_row3_col9\" class=\"data row3 col9\" >-0.019853</td>\n",
       "      <td id=\"T_38b60_row3_col10\" class=\"data row3 col10\" >0.965468</td>\n",
       "      <td id=\"T_38b60_row3_col11\" class=\"data row3 col11\" >-0.280616</td>\n",
       "      <td id=\"T_38b60_row3_col12\" class=\"data row3 col12\" >-0.245415</td>\n",
       "      <td id=\"T_38b60_row3_col13\" class=\"data row3 col13\" >0.174532</td>\n",
       "      <td id=\"T_38b60_row3_col14\" class=\"data row3 col14\" >0.303569</td>\n",
       "    </tr>\n",
       "    <tr>\n",
       "      <th id=\"T_38b60_level0_row4\" class=\"row_heading level0 row4\" >SibSp</th>\n",
       "      <td id=\"T_38b60_row4_col0\" class=\"data row4 col0\" >-0.035322</td>\n",
       "      <td id=\"T_38b60_row4_col1\" class=\"data row4 col1\" >0.083081</td>\n",
       "      <td id=\"T_38b60_row4_col2\" class=\"data row4 col2\" >0.114631</td>\n",
       "      <td id=\"T_38b60_row4_col3\" class=\"data row4 col3\" >-0.267273</td>\n",
       "      <td id=\"T_38b60_row4_col4\" class=\"data row4 col4\" >1.000000</td>\n",
       "      <td id=\"T_38b60_row4_col5\" class=\"data row4 col5\" >0.414838</td>\n",
       "      <td id=\"T_38b60_row4_col6\" class=\"data row4 col6\" >0.153720</td>\n",
       "      <td id=\"T_38b60_row4_col7\" class=\"data row4 col7\" >0.069347</td>\n",
       "      <td id=\"T_38b60_row4_col8\" class=\"data row4 col8\" >0.390055</td>\n",
       "      <td id=\"T_38b60_row4_col9\" class=\"data row4 col9\" >-0.000033</td>\n",
       "      <td id=\"T_38b60_row4_col10\" class=\"data row4 col10\" >0.400571</td>\n",
       "      <td id=\"T_38b60_row4_col11\" class=\"data row4 col11\" >0.890712</td>\n",
       "      <td id=\"T_38b60_row4_col12\" class=\"data row4 col12\" >0.669834</td>\n",
       "      <td id=\"T_38b60_row4_col13\" class=\"data row4 col13\" >0.372581</td>\n",
       "      <td id=\"T_38b60_row4_col14\" class=\"data row4 col14\" >0.079205</td>\n",
       "    </tr>\n",
       "    <tr>\n",
       "      <th id=\"T_38b60_level0_row5\" class=\"row_heading level0 row5\" >Parch</th>\n",
       "      <td id=\"T_38b60_row5_col0\" class=\"data row5 col0\" >0.081629</td>\n",
       "      <td id=\"T_38b60_row5_col1\" class=\"data row5 col1\" >0.018443</td>\n",
       "      <td id=\"T_38b60_row5_col2\" class=\"data row5 col2\" >0.245489</td>\n",
       "      <td id=\"T_38b60_row5_col3\" class=\"data row5 col3\" >-0.196051</td>\n",
       "      <td id=\"T_38b60_row5_col4\" class=\"data row5 col4\" >0.414838</td>\n",
       "      <td id=\"T_38b60_row5_col5\" class=\"data row5 col5\" >1.000000</td>\n",
       "      <td id=\"T_38b60_row5_col6\" class=\"data row5 col6\" >0.210272</td>\n",
       "      <td id=\"T_38b60_row5_col7\" class=\"data row5 col7\" >0.084523</td>\n",
       "      <td id=\"T_38b60_row5_col8\" class=\"data row5 col8\" >0.411129</td>\n",
       "      <td id=\"T_38b60_row5_col9\" class=\"data row5 col9\" >0.129422</td>\n",
       "      <td id=\"T_38b60_row5_col10\" class=\"data row5 col10\" >0.413390</td>\n",
       "      <td id=\"T_38b60_row5_col11\" class=\"data row5 col11\" >0.783111</td>\n",
       "      <td id=\"T_38b60_row5_col12\" class=\"data row5 col12\" >0.600917</td>\n",
       "      <td id=\"T_38b60_row5_col13\" class=\"data row5 col13\" >0.383536</td>\n",
       "      <td id=\"T_38b60_row5_col14\" class=\"data row5 col14\" >0.111605</td>\n",
       "    </tr>\n",
       "    <tr>\n",
       "      <th id=\"T_38b60_level0_row6\" class=\"row_heading level0 row6\" >Fare</th>\n",
       "      <td id=\"T_38b60_row6_col0\" class=\"data row6 col0\" >0.247447</td>\n",
       "      <td id=\"T_38b60_row6_col1\" class=\"data row6 col1\" >-0.565098</td>\n",
       "      <td id=\"T_38b60_row6_col2\" class=\"data row6 col2\" >0.173151</td>\n",
       "      <td id=\"T_38b60_row6_col3\" class=\"data row6 col3\" >0.096936</td>\n",
       "      <td id=\"T_38b60_row6_col4\" class=\"data row6 col4\" >0.153720</td>\n",
       "      <td id=\"T_38b60_row6_col5\" class=\"data row6 col5\" >0.210272</td>\n",
       "      <td id=\"T_38b60_row6_col6\" class=\"data row6 col6\" >1.000000</td>\n",
       "      <td id=\"T_38b60_row6_col7\" class=\"data row6 col7\" >0.275968</td>\n",
       "      <td id=\"T_38b60_row6_col8\" class=\"data row6 col8\" >0.182135</td>\n",
       "      <td id=\"T_38b60_row6_col9\" class=\"data row6 col9\" >0.107022</td>\n",
       "      <td id=\"T_38b60_row6_col10\" class=\"data row6 col10\" >0.206766</td>\n",
       "      <td id=\"T_38b60_row6_col11\" class=\"data row6 col11\" >0.210111</td>\n",
       "      <td id=\"T_38b60_row6_col12\" class=\"data row6 col12\" >0.348640</td>\n",
       "      <td id=\"T_38b60_row6_col13\" class=\"data row6 col13\" >0.874909</td>\n",
       "      <td id=\"T_38b60_row6_col14\" class=\"data row6 col14\" >0.585094</td>\n",
       "    </tr>\n",
       "    <tr>\n",
       "      <th id=\"T_38b60_level0_row7\" class=\"row_heading level0 row7\" >Embarked</th>\n",
       "      <td id=\"T_38b60_row7_col0\" class=\"data row7 col0\" >0.170707</td>\n",
       "      <td id=\"T_38b60_row7_col1\" class=\"data row7 col1\" >0.306858</td>\n",
       "      <td id=\"T_38b60_row7_col2\" class=\"data row7 col2\" >0.110742</td>\n",
       "      <td id=\"T_38b60_row7_col3\" class=\"data row7 col3\" >0.058808</td>\n",
       "      <td id=\"T_38b60_row7_col4\" class=\"data row7 col4\" >0.069347</td>\n",
       "      <td id=\"T_38b60_row7_col5\" class=\"data row7 col5\" >0.084523</td>\n",
       "      <td id=\"T_38b60_row7_col6\" class=\"data row7 col6\" >0.275968</td>\n",
       "      <td id=\"T_38b60_row7_col7\" class=\"data row7 col7\" >1.000000</td>\n",
       "      <td id=\"T_38b60_row7_col8\" class=\"data row7 col8\" >0.129420</td>\n",
       "      <td id=\"T_38b60_row7_col9\" class=\"data row7 col9\" >0.354438</td>\n",
       "      <td id=\"T_38b60_row7_col10\" class=\"data row7 col10\" >0.101954</td>\n",
       "      <td id=\"T_38b60_row7_col11\" class=\"data row7 col11\" >0.080716</td>\n",
       "      <td id=\"T_38b60_row7_col12\" class=\"data row7 col12\" >0.075913</td>\n",
       "      <td id=\"T_38b60_row7_col13\" class=\"data row7 col13\" >0.317596</td>\n",
       "      <td id=\"T_38b60_row7_col14\" class=\"data row7 col14\" >0.177987</td>\n",
       "    </tr>\n",
       "    <tr>\n",
       "      <th id=\"T_38b60_level0_row8\" class=\"row_heading level0 row8\" >Title</th>\n",
       "      <td id=\"T_38b60_row8_col0\" class=\"data row8 col0\" >0.570139</td>\n",
       "      <td id=\"T_38b60_row8_col1\" class=\"data row8 col1\" >0.258898</td>\n",
       "      <td id=\"T_38b60_row8_col2\" class=\"data row8 col2\" >0.993818</td>\n",
       "      <td id=\"T_38b60_row8_col3\" class=\"data row8 col3\" >0.568845</td>\n",
       "      <td id=\"T_38b60_row8_col4\" class=\"data row8 col4\" >0.390055</td>\n",
       "      <td id=\"T_38b60_row8_col5\" class=\"data row8 col5\" >0.411129</td>\n",
       "      <td id=\"T_38b60_row8_col6\" class=\"data row8 col6\" >0.182135</td>\n",
       "      <td id=\"T_38b60_row8_col7\" class=\"data row8 col7\" >0.129420</td>\n",
       "      <td id=\"T_38b60_row8_col8\" class=\"data row8 col8\" >1.000000</td>\n",
       "      <td id=\"T_38b60_row8_col9\" class=\"data row8 col9\" >0.139656</td>\n",
       "      <td id=\"T_38b60_row8_col10\" class=\"data row8 col10\" >0.439856</td>\n",
       "      <td id=\"T_38b60_row8_col11\" class=\"data row8 col11\" >0.459952</td>\n",
       "      <td id=\"T_38b60_row8_col12\" class=\"data row8 col12\" >0.385210</td>\n",
       "      <td id=\"T_38b60_row8_col13\" class=\"data row8 col13\" >0.200620</td>\n",
       "      <td id=\"T_38b60_row8_col14\" class=\"data row8 col14\" >0.116986</td>\n",
       "    </tr>\n",
       "    <tr>\n",
       "      <th id=\"T_38b60_level0_row9\" class=\"row_heading level0 row9\" >Age_true</th>\n",
       "      <td id=\"T_38b60_row9_col0\" class=\"data row9 col0\" >0.121949</td>\n",
       "      <td id=\"T_38b60_row9_col1\" class=\"data row9 col1\" >-0.191058</td>\n",
       "      <td id=\"T_38b60_row9_col2\" class=\"data row9 col2\" >0.072278</td>\n",
       "      <td id=\"T_38b60_row9_col3\" class=\"data row9 col3\" >-0.019853</td>\n",
       "      <td id=\"T_38b60_row9_col4\" class=\"data row9 col4\" >-0.000033</td>\n",
       "      <td id=\"T_38b60_row9_col5\" class=\"data row9 col5\" >0.129422</td>\n",
       "      <td id=\"T_38b60_row9_col6\" class=\"data row9 col6\" >0.107022</td>\n",
       "      <td id=\"T_38b60_row9_col7\" class=\"data row9 col7\" >0.354438</td>\n",
       "      <td id=\"T_38b60_row9_col8\" class=\"data row9 col8\" >0.139656</td>\n",
       "      <td id=\"T_38b60_row9_col9\" class=\"data row9 col9\" >1.000000</td>\n",
       "      <td id=\"T_38b60_row9_col10\" class=\"data row9 col10\" >0.341427</td>\n",
       "      <td id=\"T_38b60_row9_col11\" class=\"data row9 col11\" >0.064635</td>\n",
       "      <td id=\"T_38b60_row9_col12\" class=\"data row9 col12\" >0.056185</td>\n",
       "      <td id=\"T_38b60_row9_col13\" class=\"data row9 col13\" >0.203527</td>\n",
       "      <td id=\"T_38b60_row9_col14\" class=\"data row9 col14\" >0.162873</td>\n",
       "    </tr>\n",
       "    <tr>\n",
       "      <th id=\"T_38b60_level0_row10\" class=\"row_heading level0 row10\" >AgeGroup</th>\n",
       "      <td id=\"T_38b60_row10_col0\" class=\"data row10 col0\" >0.180095</td>\n",
       "      <td id=\"T_38b60_row10_col1\" class=\"data row10 col1\" >0.386865</td>\n",
       "      <td id=\"T_38b60_row10_col2\" class=\"data row10 col2\" >0.254644</td>\n",
       "      <td id=\"T_38b60_row10_col3\" class=\"data row10 col3\" >0.965468</td>\n",
       "      <td id=\"T_38b60_row10_col4\" class=\"data row10 col4\" >0.400571</td>\n",
       "      <td id=\"T_38b60_row10_col5\" class=\"data row10 col5\" >0.413390</td>\n",
       "      <td id=\"T_38b60_row10_col6\" class=\"data row10 col6\" >0.206766</td>\n",
       "      <td id=\"T_38b60_row10_col7\" class=\"data row10 col7\" >0.101954</td>\n",
       "      <td id=\"T_38b60_row10_col8\" class=\"data row10 col8\" >0.439856</td>\n",
       "      <td id=\"T_38b60_row10_col9\" class=\"data row10 col9\" >0.341427</td>\n",
       "      <td id=\"T_38b60_row10_col10\" class=\"data row10 col10\" >1.000000</td>\n",
       "      <td id=\"T_38b60_row10_col11\" class=\"data row10 col11\" >0.473744</td>\n",
       "      <td id=\"T_38b60_row10_col12\" class=\"data row10 col12\" >0.420682</td>\n",
       "      <td id=\"T_38b60_row10_col13\" class=\"data row10 col13\" >0.179511</td>\n",
       "      <td id=\"T_38b60_row10_col14\" class=\"data row10 col14\" >0.142372</td>\n",
       "    </tr>\n",
       "    <tr>\n",
       "      <th id=\"T_38b60_level0_row11\" class=\"row_heading level0 row11\" >Familysize</th>\n",
       "      <td id=\"T_38b60_row11_col0\" class=\"data row11 col0\" >0.016639</td>\n",
       "      <td id=\"T_38b60_row11_col1\" class=\"data row11 col1\" >0.065997</td>\n",
       "      <td id=\"T_38b60_row11_col2\" class=\"data row11 col2\" >0.200988</td>\n",
       "      <td id=\"T_38b60_row11_col3\" class=\"data row11 col3\" >-0.280616</td>\n",
       "      <td id=\"T_38b60_row11_col4\" class=\"data row11 col4\" >0.890712</td>\n",
       "      <td id=\"T_38b60_row11_col5\" class=\"data row11 col5\" >0.783111</td>\n",
       "      <td id=\"T_38b60_row11_col6\" class=\"data row11 col6\" >0.210111</td>\n",
       "      <td id=\"T_38b60_row11_col7\" class=\"data row11 col7\" >0.080716</td>\n",
       "      <td id=\"T_38b60_row11_col8\" class=\"data row11 col8\" >0.459952</td>\n",
       "      <td id=\"T_38b60_row11_col9\" class=\"data row11 col9\" >0.064635</td>\n",
       "      <td id=\"T_38b60_row11_col10\" class=\"data row11 col10\" >0.473744</td>\n",
       "      <td id=\"T_38b60_row11_col11\" class=\"data row11 col11\" >1.000000</td>\n",
       "      <td id=\"T_38b60_row11_col12\" class=\"data row11 col12\" >0.758017</td>\n",
       "      <td id=\"T_38b60_row11_col13\" class=\"data row11 col13\" >0.429717</td>\n",
       "      <td id=\"T_38b60_row11_col14\" class=\"data row11 col14\" >0.084393</td>\n",
       "    </tr>\n",
       "    <tr>\n",
       "      <th id=\"T_38b60_level0_row12\" class=\"row_heading level0 row12\" >Ticketsize</th>\n",
       "      <td id=\"T_38b60_row12_col0\" class=\"data row12 col0\" >0.041188</td>\n",
       "      <td id=\"T_38b60_row12_col1\" class=\"data row12 col1\" >-0.010881</td>\n",
       "      <td id=\"T_38b60_row12_col2\" class=\"data row12 col2\" >0.162906</td>\n",
       "      <td id=\"T_38b60_row12_col3\" class=\"data row12 col3\" >-0.245415</td>\n",
       "      <td id=\"T_38b60_row12_col4\" class=\"data row12 col4\" >0.669834</td>\n",
       "      <td id=\"T_38b60_row12_col5\" class=\"data row12 col5\" >0.600917</td>\n",
       "      <td id=\"T_38b60_row12_col6\" class=\"data row12 col6\" >0.348640</td>\n",
       "      <td id=\"T_38b60_row12_col7\" class=\"data row12 col7\" >0.075913</td>\n",
       "      <td id=\"T_38b60_row12_col8\" class=\"data row12 col8\" >0.385210</td>\n",
       "      <td id=\"T_38b60_row12_col9\" class=\"data row12 col9\" >0.056185</td>\n",
       "      <td id=\"T_38b60_row12_col10\" class=\"data row12 col10\" >0.420682</td>\n",
       "      <td id=\"T_38b60_row12_col11\" class=\"data row12 col11\" >0.758017</td>\n",
       "      <td id=\"T_38b60_row12_col12\" class=\"data row12 col12\" >1.000000</td>\n",
       "      <td id=\"T_38b60_row12_col13\" class=\"data row12 col13\" >0.534844</td>\n",
       "      <td id=\"T_38b60_row12_col14\" class=\"data row12 col14\" >0.114417</td>\n",
       "    </tr>\n",
       "    <tr>\n",
       "      <th id=\"T_38b60_level0_row13\" class=\"row_heading level0 row13\" >FareGroup</th>\n",
       "      <td id=\"T_38b60_row13_col0\" class=\"data row13 col0\" >0.324644</td>\n",
       "      <td id=\"T_38b60_row13_col1\" class=\"data row13 col1\" >0.770095</td>\n",
       "      <td id=\"T_38b60_row13_col2\" class=\"data row13 col2\" >0.261254</td>\n",
       "      <td id=\"T_38b60_row13_col3\" class=\"data row13 col3\" >0.174532</td>\n",
       "      <td id=\"T_38b60_row13_col4\" class=\"data row13 col4\" >0.372581</td>\n",
       "      <td id=\"T_38b60_row13_col5\" class=\"data row13 col5\" >0.383536</td>\n",
       "      <td id=\"T_38b60_row13_col6\" class=\"data row13 col6\" >0.874909</td>\n",
       "      <td id=\"T_38b60_row13_col7\" class=\"data row13 col7\" >0.317596</td>\n",
       "      <td id=\"T_38b60_row13_col8\" class=\"data row13 col8\" >0.200620</td>\n",
       "      <td id=\"T_38b60_row13_col9\" class=\"data row13 col9\" >0.203527</td>\n",
       "      <td id=\"T_38b60_row13_col10\" class=\"data row13 col10\" >0.179511</td>\n",
       "      <td id=\"T_38b60_row13_col11\" class=\"data row13 col11\" >0.429717</td>\n",
       "      <td id=\"T_38b60_row13_col12\" class=\"data row13 col12\" >0.534844</td>\n",
       "      <td id=\"T_38b60_row13_col13\" class=\"data row13 col13\" >1.000000</td>\n",
       "      <td id=\"T_38b60_row13_col14\" class=\"data row13 col14\" >0.323101</td>\n",
       "    </tr>\n",
       "    <tr>\n",
       "      <th id=\"T_38b60_level0_row14\" class=\"row_heading level0 row14\" >CabinLvl</th>\n",
       "      <td id=\"T_38b60_row14_col0\" class=\"data row14 col0\" >0.333610</td>\n",
       "      <td id=\"T_38b60_row14_col1\" class=\"data row14 col1\" >0.765105</td>\n",
       "      <td id=\"T_38b60_row14_col2\" class=\"data row14 col2\" >0.182476</td>\n",
       "      <td id=\"T_38b60_row14_col3\" class=\"data row14 col3\" >0.303569</td>\n",
       "      <td id=\"T_38b60_row14_col4\" class=\"data row14 col4\" >0.079205</td>\n",
       "      <td id=\"T_38b60_row14_col5\" class=\"data row14 col5\" >0.111605</td>\n",
       "      <td id=\"T_38b60_row14_col6\" class=\"data row14 col6\" >0.585094</td>\n",
       "      <td id=\"T_38b60_row14_col7\" class=\"data row14 col7\" >0.177987</td>\n",
       "      <td id=\"T_38b60_row14_col8\" class=\"data row14 col8\" >0.116986</td>\n",
       "      <td id=\"T_38b60_row14_col9\" class=\"data row14 col9\" >0.162873</td>\n",
       "      <td id=\"T_38b60_row14_col10\" class=\"data row14 col10\" >0.142372</td>\n",
       "      <td id=\"T_38b60_row14_col11\" class=\"data row14 col11\" >0.084393</td>\n",
       "      <td id=\"T_38b60_row14_col12\" class=\"data row14 col12\" >0.114417</td>\n",
       "      <td id=\"T_38b60_row14_col13\" class=\"data row14 col13\" >0.323101</td>\n",
       "      <td id=\"T_38b60_row14_col14\" class=\"data row14 col14\" >1.000000</td>\n",
       "    </tr>\n",
       "  </tbody>\n",
       "</table>\n"
      ],
      "text/plain": [
       "<pandas.io.formats.style.Styler at 0x125bcf7c8e0>"
      ]
     },
     "execution_count": 63,
     "metadata": {},
     "output_type": "execute_result"
    }
   ],
   "source": [
    "# correlation matrix of complete data set\n",
    "df_complete_corr = complete_correlation['corr']\n",
    "df_complete_corr.style.background_gradient(cmap='coolwarm', axis = None)"
   ]
  },
  {
   "cell_type": "code",
   "execution_count": 64,
   "id": "7ac92cd3",
   "metadata": {},
   "outputs": [],
   "source": [
    "# correlation matrix for numerical variables\n",
    "#corr_num = df.corr()\n",
    "#corr_num.style.background_gradient(cmap='coolwarm')\n",
    "\n",
    "#import seaborn as sns\n",
    "#sns.heatmap(corr_num, annot = True)"
   ]
  },
  {
   "cell_type": "markdown",
   "id": "6ed58684",
   "metadata": {},
   "source": [
    "#### Results from Correlation matrix\n",
    "- Correlation with target variable 'Survived'\n",
    "    * high correlation: 'Pclass', 'Sex', 'Fare', 'Title', 'FareGroup', 'CabinLvl'\n",
    "    * normal correlation: 'Embarked', 'Age_true', 'AgeGroup'\n",
    "    * low correlaton: 'Age', 'SibSp', 'Parch', 'Familysize', 'Ticketsize'\n",
    "- Decisions based on correlation with 'Survived'\n",
    "    * we drop the variable 'Ticketsize' due to its very low correlation with 'Survived'\n",
    "    * we drop the variable 'Familysize' due to its very low correlation with 'Survived' and the high correlations with 'SibSp' and 'Parch'\n",
    "    * we keep 'SibSp' and 'Parch' for now, but we will also train the models on a data set that doesn't contain those variables due to their very low correlation with 'Survived'\n",
    "- High correlations between different variables (not considering 'SibSp', 'Parch', 'Familysize', and 'Ticketsize')\n",
    "    * 'Sex' and 'Title' (0.99)\n",
    "    * 'Pclass' and 'FareGroup' (0.77)\n",
    "    * 'Pclass' and 'CabinLvl' (0.77)\n",
    "    * 'Age' and 'Title' (0.57)\n",
    "    * 'Age' and 'AgeGroup' (0.97)\n",
    "    * 'Fare' and 'FareGroup' (0.87)\n",
    "    * 'Fare' and 'CabinLvl' (0.59)\n",
    "    * 'Title' and 'AgeGroup' (0.44)\n",
    "    * 'Pclass' and 'Age' (-0.35)\n",
    "    * 'Pclass' and 'Fare' (-0.57)\n",
    "- Decisions based on high correlations between different variables\n",
    "    * we drop one out of 'Sex' and 'Title' -> we keep 'Title' since it is more detailed and has a higher correlation with 'Survived' (0.57 vs. 0.54)\n",
    "    * we drop one out of 'Age' and 'AgeGroup' since they strictly depend on each other -> we keep 'AgeGroup' since its correlation with 'Survived' is higher (0.18 vs.-0.09)\n",
    "    * we drop one out of 'Fare' and 'FareGroup' since they strictly depend on each other -> we keep 'FareGroup' since its correlation with 'Survived' is higher (0.32 vs. 0.25)"
   ]
  },
  {
   "cell_type": "code",
   "execution_count": 65,
   "id": "3c639b27",
   "metadata": {
    "scrolled": false
   },
   "outputs": [
    {
     "name": "stdout",
     "output_type": "stream",
     "text": [
      "<class 'pandas.core.frame.DataFrame'>\n",
      "RangeIndex: 891 entries, 0 to 890\n",
      "Data columns (total 15 columns):\n",
      " #   Column      Non-Null Count  Dtype  \n",
      "---  ------      --------------  -----  \n",
      " 0   Survived    891 non-null    int64  \n",
      " 1   Pclass      891 non-null    int64  \n",
      " 2   Sex         891 non-null    object \n",
      " 3   Age         891 non-null    float64\n",
      " 4   SibSp       891 non-null    int64  \n",
      " 5   Parch       891 non-null    int64  \n",
      " 6   Fare        891 non-null    float64\n",
      " 7   Embarked    891 non-null    object \n",
      " 8   Title       891 non-null    object \n",
      " 9   Age_true    891 non-null    bool   \n",
      " 10  AgeGroup    891 non-null    object \n",
      " 11  Familysize  891 non-null    int32  \n",
      " 12  Ticketsize  891 non-null    int64  \n",
      " 13  FareGroup   891 non-null    object \n",
      " 14  CabinLvl    891 non-null    object \n",
      "dtypes: bool(1), float64(2), int32(1), int64(5), object(6)\n",
      "memory usage: 95.0+ KB\n"
     ]
    }
   ],
   "source": [
    "df.info()"
   ]
  },
  {
   "cell_type": "markdown",
   "id": "dc2873a3",
   "metadata": {},
   "source": [
    "## Final Dataframe (without Encoding)\n",
    "- Dropped variables: 'PassengerId', 'Name', 'Sex', 'Age', 'Ticket', 'Fare', 'Cabin', ('Familysize',) ('Ticketsize')\n",
    "- New variables: ('Familysize',) ('Ticketsize',) 'Title', 'Age_true', 'AgeGroup', 'FareGroup', 'CabinLvl'\n",
    "- Features in the final dataframe: 'Survived', 'Pclass', 'SibSp', 'Parch', 'Embarked', 'Title', 'Age_true', 'AgeGroup', 'FareGroup', 'CabinLvL'"
   ]
  },
  {
   "cell_type": "code",
   "execution_count": 66,
   "id": "4539d0e4",
   "metadata": {},
   "outputs": [],
   "source": [
    "dropped = ['Sex', 'Age', 'Fare', 'Familysize', 'Ticketsize']\n",
    "df.drop(dropped, inplace=True, axis=1)"
   ]
  },
  {
   "cell_type": "code",
   "execution_count": 67,
   "id": "025047ad",
   "metadata": {},
   "outputs": [
    {
     "name": "stdout",
     "output_type": "stream",
     "text": [
      "<class 'pandas.core.frame.DataFrame'>\n",
      "RangeIndex: 891 entries, 0 to 890\n",
      "Data columns (total 10 columns):\n",
      " #   Column     Non-Null Count  Dtype \n",
      "---  ------     --------------  ----- \n",
      " 0   Survived   891 non-null    int64 \n",
      " 1   Pclass     891 non-null    int64 \n",
      " 2   SibSp      891 non-null    int64 \n",
      " 3   Parch      891 non-null    int64 \n",
      " 4   Embarked   891 non-null    object\n",
      " 5   Title      891 non-null    object\n",
      " 6   Age_true   891 non-null    bool  \n",
      " 7   AgeGroup   891 non-null    object\n",
      " 8   FareGroup  891 non-null    object\n",
      " 9   CabinLvl   891 non-null    object\n",
      "dtypes: bool(1), int64(4), object(5)\n",
      "memory usage: 63.6+ KB\n"
     ]
    }
   ],
   "source": [
    "df.info()"
   ]
  },
  {
   "cell_type": "code",
   "execution_count": 68,
   "id": "d0999bf2",
   "metadata": {},
   "outputs": [],
   "source": [
    "# save dataframe\n",
    "\n",
    "#from datetime import datetime\n",
    "\n",
    "# save data with date to track changes \n",
    "#date = str(datetime.now().date()).replace(\"-\", \"\")\n",
    "\n",
    "#df.to_csv(f\"data/preprocessed_without_encoding_{date}.csv\")"
   ]
  },
  {
   "cell_type": "markdown",
   "id": "4b578e27",
   "metadata": {},
   "source": [
    "## Encoding\n",
    "If we only keep the mentioned features, we don't need normalization (since we don't have any numerical features left).  \n",
    "We use Ordinal Encoding (OrdinalEncoder from sklearn) for features that have an order or rank: 'Embarked', 'Age_true', 'AgeGroup', 'FareGroup'.\n",
    "We use One-Hot-Encoding (OneHotEncoder form sklearn) for features that don't have an order or rank: 'Title', 'CabinLvl'."
   ]
  },
  {
   "cell_type": "code",
   "execution_count": 69,
   "id": "5a4f7e00",
   "metadata": {},
   "outputs": [
    {
     "name": "stdout",
     "output_type": "stream",
     "text": [
      "preprocessed_without_encoding_20221117.csv\n"
     ]
    },
    {
     "data": {
      "text/html": [
       "<div>\n",
       "<style scoped>\n",
       "    .dataframe tbody tr th:only-of-type {\n",
       "        vertical-align: middle;\n",
       "    }\n",
       "\n",
       "    .dataframe tbody tr th {\n",
       "        vertical-align: top;\n",
       "    }\n",
       "\n",
       "    .dataframe thead th {\n",
       "        text-align: right;\n",
       "    }\n",
       "</style>\n",
       "<table border=\"1\" class=\"dataframe\">\n",
       "  <thead>\n",
       "    <tr style=\"text-align: right;\">\n",
       "      <th></th>\n",
       "      <th>Survived</th>\n",
       "      <th>Pclass</th>\n",
       "      <th>SibSp</th>\n",
       "      <th>Parch</th>\n",
       "      <th>Embarked</th>\n",
       "      <th>Title</th>\n",
       "      <th>Age_true</th>\n",
       "      <th>AgeGroup</th>\n",
       "      <th>FareGroup</th>\n",
       "      <th>CabinLvl</th>\n",
       "    </tr>\n",
       "  </thead>\n",
       "  <tbody>\n",
       "    <tr>\n",
       "      <th>0</th>\n",
       "      <td>0</td>\n",
       "      <td>3</td>\n",
       "      <td>1</td>\n",
       "      <td>0</td>\n",
       "      <td>S</td>\n",
       "      <td>Mr</td>\n",
       "      <td>True</td>\n",
       "      <td>Young Adults</td>\n",
       "      <td>Very Cheap</td>\n",
       "      <td>XX</td>\n",
       "    </tr>\n",
       "    <tr>\n",
       "      <th>1</th>\n",
       "      <td>1</td>\n",
       "      <td>1</td>\n",
       "      <td>1</td>\n",
       "      <td>0</td>\n",
       "      <td>C</td>\n",
       "      <td>Mrs</td>\n",
       "      <td>True</td>\n",
       "      <td>Middle-aged</td>\n",
       "      <td>Expensive</td>\n",
       "      <td>C</td>\n",
       "    </tr>\n",
       "    <tr>\n",
       "      <th>2</th>\n",
       "      <td>1</td>\n",
       "      <td>3</td>\n",
       "      <td>0</td>\n",
       "      <td>0</td>\n",
       "      <td>S</td>\n",
       "      <td>Ms</td>\n",
       "      <td>True</td>\n",
       "      <td>Adults</td>\n",
       "      <td>Cheap</td>\n",
       "      <td>XX</td>\n",
       "    </tr>\n",
       "    <tr>\n",
       "      <th>3</th>\n",
       "      <td>1</td>\n",
       "      <td>1</td>\n",
       "      <td>1</td>\n",
       "      <td>0</td>\n",
       "      <td>S</td>\n",
       "      <td>Mrs</td>\n",
       "      <td>True</td>\n",
       "      <td>Middle-aged</td>\n",
       "      <td>Expensive</td>\n",
       "      <td>C</td>\n",
       "    </tr>\n",
       "    <tr>\n",
       "      <th>4</th>\n",
       "      <td>0</td>\n",
       "      <td>3</td>\n",
       "      <td>0</td>\n",
       "      <td>0</td>\n",
       "      <td>S</td>\n",
       "      <td>Mr</td>\n",
       "      <td>True</td>\n",
       "      <td>Middle-aged</td>\n",
       "      <td>Cheap</td>\n",
       "      <td>XX</td>\n",
       "    </tr>\n",
       "  </tbody>\n",
       "</table>\n",
       "</div>"
      ],
      "text/plain": [
       "   Survived  Pclass  SibSp  Parch Embarked Title  Age_true      AgeGroup  \\\n",
       "0         0       3      1      0        S    Mr      True  Young Adults   \n",
       "1         1       1      1      0        C   Mrs      True   Middle-aged   \n",
       "2         1       3      0      0        S    Ms      True        Adults   \n",
       "3         1       1      1      0        S   Mrs      True   Middle-aged   \n",
       "4         0       3      0      0        S    Mr      True   Middle-aged   \n",
       "\n",
       "    FareGroup CabinLvl  \n",
       "0  Very Cheap       XX  \n",
       "1   Expensive        C  \n",
       "2       Cheap       XX  \n",
       "3   Expensive        C  \n",
       "4       Cheap       XX  "
      ]
     },
     "execution_count": 69,
     "metadata": {},
     "output_type": "execute_result"
    }
   ],
   "source": [
    "# read dataframe\n",
    "\n",
    "from datetime import datetime\n",
    "import os\n",
    "\n",
    "files = sorted([f for f in os.listdir(\"data\") if (f.endswith(\".csv\") and (f.startswith(\"preprocessed_without_encoding\")))], reverse=True)\n",
    "latest = files[0]\n",
    "df = pd.read_csv(f\"data/{latest}\")\n",
    "print(latest)\n",
    "\n",
    "# drop new generated index column\n",
    "df.drop(df.columns[0], axis=1, inplace=True)\n",
    "df_save = df.copy()\n",
    "df.head()"
   ]
  },
  {
   "cell_type": "markdown",
   "id": "fedd4dfd",
   "metadata": {},
   "source": [
    "### Ordinal Encoding"
   ]
  },
  {
   "cell_type": "code",
   "execution_count": 70,
   "id": "7c478904",
   "metadata": {},
   "outputs": [],
   "source": [
    "from sklearn.preprocessing import OrdinalEncoder\n",
    "\n",
    "# 'Age_true'\n",
    "ordinal_encoder1 = OrdinalEncoder()\n",
    "# reshape the 1-D array to 2-D as fit_transform expects 2-D and finally fit the object\n",
    "df['Age_true'] = ordinal_encoder1.fit_transform(df['Age_true'].values.reshape(-1,1))\n",
    "\n",
    "# 'AgeGroup'\n",
    "ordinal_encoder2 = OrdinalEncoder(categories = [['Kids', 'Teenagers', 'Young Adults', 'Adults', 'Middle-aged', 'Seniors']])\n",
    "# reshape the 1-D array to 2-D as fit_transform expects 2-D and finally fit the object\n",
    "df['AgeGroup'] = ordinal_encoder2.fit_transform(df['AgeGroup'].values.reshape(-1,1))\n",
    "\n",
    "# 'FareGroup'\n",
    "ordinal_encoder3 = OrdinalEncoder(categories = [['Very Cheap', 'Cheap', 'Normal', 'Average', 'Expensive', 'Very Expensive']])\n",
    "# reshape the 1-D array to 2-D as fit_transform expects 2-D and finally fit the object\n",
    "df['FareGroup'] = ordinal_encoder3.fit_transform(df['FareGroup'].values.reshape(-1,1))\n",
    "\n",
    "# 'CabinLvl'\n",
    "ordinal_encoder4 = OrdinalEncoder(categories = [['XX', 'G', 'F', 'E', 'D', 'C', 'B', 'A', 'T']])\n",
    "# reshape the 1-D array to 2-D as fit_transform expects 2-D and finally fit the object\n",
    "df['CabinLvl'] = ordinal_encoder4.fit_transform(df['CabinLvl'].values.reshape(-1,1))\n",
    "\n",
    "# https://www.analyticsvidhya.com/blog/2020/03/one-hot-encoding-vs-label-encoding-using-scikit-learn/# "
   ]
  },
  {
   "cell_type": "markdown",
   "id": "30d71d6d",
   "metadata": {},
   "source": [
    "### One-Hot-Encoding"
   ]
  },
  {
   "cell_type": "code",
   "execution_count": 71,
   "id": "ce1fd510",
   "metadata": {},
   "outputs": [],
   "source": [
    "from sklearn.preprocessing import OneHotEncoder\n",
    "\n",
    "# 'Embarked', 'Title'\n",
    "onehot_encoder = OneHotEncoder()\n",
    "# reshape the 1-D array to 2-D as fit_transform expects 2-D and finally fit the object\n",
    "X_OneHot = onehot_encoder.fit_transform(df[['Embarked', 'Title']].values).toarray()\n",
    "# add this back to the original dataframe\n",
    "df_OneHot = pd.DataFrame(X_OneHot, columns = onehot_encoder.get_feature_names_out(['Embarked', 'Title']))\n",
    "df = pd.concat([df, df_OneHot], axis=1)\n",
    "df.drop(['Embarked', 'Title'], axis=1, inplace=True)\n",
    "\n",
    "# we can consider also dropping 'Embarked_C' and 'Title_Mr' (to avoid multicollinearity), but for our classification models it shouldn't be necessary\n",
    "#df.drop(['Embarked_C', 'Title_Mr'], axis=1, inplace=True)\n",
    "\n",
    "# https://www.analyticsvidhya.com/blog/2020/03/one-hot-encoding-vs-label-encoding-using-scikit-learn/# \n",
    "# if we apply One-Hot-Encoding for one column only: X_OneHot = onehot_encoder.fit_transform(df['Title'].values.reshape(-1,1)).toarray()"
   ]
  },
  {
   "cell_type": "code",
   "execution_count": 72,
   "id": "d31483ec",
   "metadata": {},
   "outputs": [
    {
     "data": {
      "text/html": [
       "<div>\n",
       "<style scoped>\n",
       "    .dataframe tbody tr th:only-of-type {\n",
       "        vertical-align: middle;\n",
       "    }\n",
       "\n",
       "    .dataframe tbody tr th {\n",
       "        vertical-align: top;\n",
       "    }\n",
       "\n",
       "    .dataframe thead th {\n",
       "        text-align: right;\n",
       "    }\n",
       "</style>\n",
       "<table border=\"1\" class=\"dataframe\">\n",
       "  <thead>\n",
       "    <tr style=\"text-align: right;\">\n",
       "      <th></th>\n",
       "      <th>Survived</th>\n",
       "      <th>Pclass</th>\n",
       "      <th>SibSp</th>\n",
       "      <th>Parch</th>\n",
       "      <th>Age_true</th>\n",
       "      <th>AgeGroup</th>\n",
       "      <th>FareGroup</th>\n",
       "      <th>CabinLvl</th>\n",
       "      <th>Embarked_C</th>\n",
       "      <th>Embarked_Q</th>\n",
       "      <th>Embarked_S</th>\n",
       "      <th>Title_Master</th>\n",
       "      <th>Title_Mr</th>\n",
       "      <th>Title_Mrs</th>\n",
       "      <th>Title_Ms</th>\n",
       "      <th>Title_Noble</th>\n",
       "    </tr>\n",
       "  </thead>\n",
       "  <tbody>\n",
       "    <tr>\n",
       "      <th>0</th>\n",
       "      <td>0</td>\n",
       "      <td>3</td>\n",
       "      <td>1</td>\n",
       "      <td>0</td>\n",
       "      <td>1.0</td>\n",
       "      <td>2.0</td>\n",
       "      <td>0.0</td>\n",
       "      <td>0.0</td>\n",
       "      <td>0.0</td>\n",
       "      <td>0.0</td>\n",
       "      <td>1.0</td>\n",
       "      <td>0.0</td>\n",
       "      <td>1.0</td>\n",
       "      <td>0.0</td>\n",
       "      <td>0.0</td>\n",
       "      <td>0.0</td>\n",
       "    </tr>\n",
       "    <tr>\n",
       "      <th>1</th>\n",
       "      <td>1</td>\n",
       "      <td>1</td>\n",
       "      <td>1</td>\n",
       "      <td>0</td>\n",
       "      <td>1.0</td>\n",
       "      <td>4.0</td>\n",
       "      <td>4.0</td>\n",
       "      <td>5.0</td>\n",
       "      <td>1.0</td>\n",
       "      <td>0.0</td>\n",
       "      <td>0.0</td>\n",
       "      <td>0.0</td>\n",
       "      <td>0.0</td>\n",
       "      <td>1.0</td>\n",
       "      <td>0.0</td>\n",
       "      <td>0.0</td>\n",
       "    </tr>\n",
       "    <tr>\n",
       "      <th>2</th>\n",
       "      <td>1</td>\n",
       "      <td>3</td>\n",
       "      <td>0</td>\n",
       "      <td>0</td>\n",
       "      <td>1.0</td>\n",
       "      <td>3.0</td>\n",
       "      <td>1.0</td>\n",
       "      <td>0.0</td>\n",
       "      <td>0.0</td>\n",
       "      <td>0.0</td>\n",
       "      <td>1.0</td>\n",
       "      <td>0.0</td>\n",
       "      <td>0.0</td>\n",
       "      <td>0.0</td>\n",
       "      <td>1.0</td>\n",
       "      <td>0.0</td>\n",
       "    </tr>\n",
       "    <tr>\n",
       "      <th>3</th>\n",
       "      <td>1</td>\n",
       "      <td>1</td>\n",
       "      <td>1</td>\n",
       "      <td>0</td>\n",
       "      <td>1.0</td>\n",
       "      <td>4.0</td>\n",
       "      <td>4.0</td>\n",
       "      <td>5.0</td>\n",
       "      <td>0.0</td>\n",
       "      <td>0.0</td>\n",
       "      <td>1.0</td>\n",
       "      <td>0.0</td>\n",
       "      <td>0.0</td>\n",
       "      <td>1.0</td>\n",
       "      <td>0.0</td>\n",
       "      <td>0.0</td>\n",
       "    </tr>\n",
       "    <tr>\n",
       "      <th>4</th>\n",
       "      <td>0</td>\n",
       "      <td>3</td>\n",
       "      <td>0</td>\n",
       "      <td>0</td>\n",
       "      <td>1.0</td>\n",
       "      <td>4.0</td>\n",
       "      <td>1.0</td>\n",
       "      <td>0.0</td>\n",
       "      <td>0.0</td>\n",
       "      <td>0.0</td>\n",
       "      <td>1.0</td>\n",
       "      <td>0.0</td>\n",
       "      <td>1.0</td>\n",
       "      <td>0.0</td>\n",
       "      <td>0.0</td>\n",
       "      <td>0.0</td>\n",
       "    </tr>\n",
       "  </tbody>\n",
       "</table>\n",
       "</div>"
      ],
      "text/plain": [
       "   Survived  Pclass  SibSp  Parch  Age_true  AgeGroup  FareGroup  CabinLvl  \\\n",
       "0         0       3      1      0       1.0       2.0        0.0       0.0   \n",
       "1         1       1      1      0       1.0       4.0        4.0       5.0   \n",
       "2         1       3      0      0       1.0       3.0        1.0       0.0   \n",
       "3         1       1      1      0       1.0       4.0        4.0       5.0   \n",
       "4         0       3      0      0       1.0       4.0        1.0       0.0   \n",
       "\n",
       "   Embarked_C  Embarked_Q  Embarked_S  Title_Master  Title_Mr  Title_Mrs  \\\n",
       "0         0.0         0.0         1.0           0.0       1.0        0.0   \n",
       "1         1.0         0.0         0.0           0.0       0.0        1.0   \n",
       "2         0.0         0.0         1.0           0.0       0.0        0.0   \n",
       "3         0.0         0.0         1.0           0.0       0.0        1.0   \n",
       "4         0.0         0.0         1.0           0.0       1.0        0.0   \n",
       "\n",
       "   Title_Ms  Title_Noble  \n",
       "0       0.0          0.0  \n",
       "1       0.0          0.0  \n",
       "2       1.0          0.0  \n",
       "3       0.0          0.0  \n",
       "4       0.0          0.0  "
      ]
     },
     "execution_count": 72,
     "metadata": {},
     "output_type": "execute_result"
    }
   ],
   "source": [
    "df.head()"
   ]
  },
  {
   "cell_type": "code",
   "execution_count": 73,
   "id": "bece1dba",
   "metadata": {
    "scrolled": true
   },
   "outputs": [],
   "source": [
    "# Explanation why we could drop 'Title_Mr'\n",
    "# see https://www.analyticsvidhya.com/blog/2020/03/one-hot-encoding-vs-label-encoding-using-scikit-learn/ - Challenges of One-Hot Encoding: Dummy Variable Trap\n",
    "\n",
    "#import statsmodels.regression.linear_model as sm\n",
    "\n",
    "#def calculate_vif(data):\n",
    "#    vif_df = pd.DataFrame(columns = ['Var', 'Vif'])\n",
    "#    x_var_names = data.columns\n",
    "#    for i in range(0, x_var_names.shape[0]):\n",
    "#        y = data[x_var_names[i]]\n",
    "#        x = data[x_var_names.drop([x_var_names[i]])]\n",
    "#        r_squared = sm.OLS(y,x).fit().rsquared\n",
    "#        vif = round(1/(1-r_squared),2)\n",
    "#        vif_df.loc[i] = [x_var_names[i], vif]\n",
    "#    return vif_df.sort_values(by = 'Vif', axis = 0, ascending=False, inplace=False)\n",
    "\n",
    "#X1 = df.drop(['Survived'],axis=1)\n",
    "#print(calculate_vif(X1))\n",
    "\n",
    "#X2 = df.drop(['Survived', 'Embarked_C'],axis=1)\n",
    "#print('\\n', calculate_vif(X2))\n",
    "\n",
    "#X3 = df.drop(['Survived', 'Embarked_C', 'Title_Mr'],axis=1)\n",
    "#print('\\n', calculate_vif(X3))\n",
    "\n",
    "# Vif for 'Embarked_C' >> 5 -> drop it\n",
    "# Vif for 'Title_Mr' >> 5 -> drop it"
   ]
  },
  {
   "cell_type": "markdown",
   "id": "1a957ac6",
   "metadata": {},
   "source": [
    "# Final Dataframe"
   ]
  },
  {
   "cell_type": "code",
   "execution_count": 74,
   "id": "2998ff1b",
   "metadata": {},
   "outputs": [
    {
     "data": {
      "text/html": [
       "<div>\n",
       "<style scoped>\n",
       "    .dataframe tbody tr th:only-of-type {\n",
       "        vertical-align: middle;\n",
       "    }\n",
       "\n",
       "    .dataframe tbody tr th {\n",
       "        vertical-align: top;\n",
       "    }\n",
       "\n",
       "    .dataframe thead th {\n",
       "        text-align: right;\n",
       "    }\n",
       "</style>\n",
       "<table border=\"1\" class=\"dataframe\">\n",
       "  <thead>\n",
       "    <tr style=\"text-align: right;\">\n",
       "      <th></th>\n",
       "      <th>Survived</th>\n",
       "      <th>Pclass</th>\n",
       "      <th>SibSp</th>\n",
       "      <th>Parch</th>\n",
       "      <th>Age_true</th>\n",
       "      <th>AgeGroup</th>\n",
       "      <th>FareGroup</th>\n",
       "      <th>CabinLvl</th>\n",
       "      <th>Embarked_C</th>\n",
       "      <th>Embarked_Q</th>\n",
       "      <th>Embarked_S</th>\n",
       "      <th>Title_Master</th>\n",
       "      <th>Title_Mr</th>\n",
       "      <th>Title_Mrs</th>\n",
       "      <th>Title_Ms</th>\n",
       "      <th>Title_Noble</th>\n",
       "    </tr>\n",
       "  </thead>\n",
       "  <tbody>\n",
       "    <tr>\n",
       "      <th>0</th>\n",
       "      <td>0</td>\n",
       "      <td>3</td>\n",
       "      <td>1</td>\n",
       "      <td>0</td>\n",
       "      <td>1</td>\n",
       "      <td>2</td>\n",
       "      <td>0</td>\n",
       "      <td>0</td>\n",
       "      <td>0</td>\n",
       "      <td>0</td>\n",
       "      <td>1</td>\n",
       "      <td>0</td>\n",
       "      <td>1</td>\n",
       "      <td>0</td>\n",
       "      <td>0</td>\n",
       "      <td>0</td>\n",
       "    </tr>\n",
       "    <tr>\n",
       "      <th>1</th>\n",
       "      <td>1</td>\n",
       "      <td>1</td>\n",
       "      <td>1</td>\n",
       "      <td>0</td>\n",
       "      <td>1</td>\n",
       "      <td>4</td>\n",
       "      <td>4</td>\n",
       "      <td>5</td>\n",
       "      <td>1</td>\n",
       "      <td>0</td>\n",
       "      <td>0</td>\n",
       "      <td>0</td>\n",
       "      <td>0</td>\n",
       "      <td>1</td>\n",
       "      <td>0</td>\n",
       "      <td>0</td>\n",
       "    </tr>\n",
       "    <tr>\n",
       "      <th>2</th>\n",
       "      <td>1</td>\n",
       "      <td>3</td>\n",
       "      <td>0</td>\n",
       "      <td>0</td>\n",
       "      <td>1</td>\n",
       "      <td>3</td>\n",
       "      <td>1</td>\n",
       "      <td>0</td>\n",
       "      <td>0</td>\n",
       "      <td>0</td>\n",
       "      <td>1</td>\n",
       "      <td>0</td>\n",
       "      <td>0</td>\n",
       "      <td>0</td>\n",
       "      <td>1</td>\n",
       "      <td>0</td>\n",
       "    </tr>\n",
       "    <tr>\n",
       "      <th>3</th>\n",
       "      <td>1</td>\n",
       "      <td>1</td>\n",
       "      <td>1</td>\n",
       "      <td>0</td>\n",
       "      <td>1</td>\n",
       "      <td>4</td>\n",
       "      <td>4</td>\n",
       "      <td>5</td>\n",
       "      <td>0</td>\n",
       "      <td>0</td>\n",
       "      <td>1</td>\n",
       "      <td>0</td>\n",
       "      <td>0</td>\n",
       "      <td>1</td>\n",
       "      <td>0</td>\n",
       "      <td>0</td>\n",
       "    </tr>\n",
       "    <tr>\n",
       "      <th>4</th>\n",
       "      <td>0</td>\n",
       "      <td>3</td>\n",
       "      <td>0</td>\n",
       "      <td>0</td>\n",
       "      <td>1</td>\n",
       "      <td>4</td>\n",
       "      <td>1</td>\n",
       "      <td>0</td>\n",
       "      <td>0</td>\n",
       "      <td>0</td>\n",
       "      <td>1</td>\n",
       "      <td>0</td>\n",
       "      <td>1</td>\n",
       "      <td>0</td>\n",
       "      <td>0</td>\n",
       "      <td>0</td>\n",
       "    </tr>\n",
       "    <tr>\n",
       "      <th>...</th>\n",
       "      <td>...</td>\n",
       "      <td>...</td>\n",
       "      <td>...</td>\n",
       "      <td>...</td>\n",
       "      <td>...</td>\n",
       "      <td>...</td>\n",
       "      <td>...</td>\n",
       "      <td>...</td>\n",
       "      <td>...</td>\n",
       "      <td>...</td>\n",
       "      <td>...</td>\n",
       "      <td>...</td>\n",
       "      <td>...</td>\n",
       "      <td>...</td>\n",
       "      <td>...</td>\n",
       "      <td>...</td>\n",
       "    </tr>\n",
       "    <tr>\n",
       "      <th>886</th>\n",
       "      <td>0</td>\n",
       "      <td>2</td>\n",
       "      <td>0</td>\n",
       "      <td>0</td>\n",
       "      <td>1</td>\n",
       "      <td>3</td>\n",
       "      <td>2</td>\n",
       "      <td>0</td>\n",
       "      <td>0</td>\n",
       "      <td>0</td>\n",
       "      <td>1</td>\n",
       "      <td>0</td>\n",
       "      <td>0</td>\n",
       "      <td>0</td>\n",
       "      <td>0</td>\n",
       "      <td>1</td>\n",
       "    </tr>\n",
       "    <tr>\n",
       "      <th>887</th>\n",
       "      <td>1</td>\n",
       "      <td>1</td>\n",
       "      <td>0</td>\n",
       "      <td>0</td>\n",
       "      <td>1</td>\n",
       "      <td>2</td>\n",
       "      <td>3</td>\n",
       "      <td>6</td>\n",
       "      <td>0</td>\n",
       "      <td>0</td>\n",
       "      <td>1</td>\n",
       "      <td>0</td>\n",
       "      <td>0</td>\n",
       "      <td>0</td>\n",
       "      <td>1</td>\n",
       "      <td>0</td>\n",
       "    </tr>\n",
       "    <tr>\n",
       "      <th>888</th>\n",
       "      <td>0</td>\n",
       "      <td>3</td>\n",
       "      <td>1</td>\n",
       "      <td>2</td>\n",
       "      <td>0</td>\n",
       "      <td>2</td>\n",
       "      <td>3</td>\n",
       "      <td>0</td>\n",
       "      <td>0</td>\n",
       "      <td>0</td>\n",
       "      <td>1</td>\n",
       "      <td>0</td>\n",
       "      <td>0</td>\n",
       "      <td>0</td>\n",
       "      <td>1</td>\n",
       "      <td>0</td>\n",
       "    </tr>\n",
       "    <tr>\n",
       "      <th>889</th>\n",
       "      <td>1</td>\n",
       "      <td>1</td>\n",
       "      <td>0</td>\n",
       "      <td>0</td>\n",
       "      <td>1</td>\n",
       "      <td>3</td>\n",
       "      <td>3</td>\n",
       "      <td>5</td>\n",
       "      <td>1</td>\n",
       "      <td>0</td>\n",
       "      <td>0</td>\n",
       "      <td>0</td>\n",
       "      <td>1</td>\n",
       "      <td>0</td>\n",
       "      <td>0</td>\n",
       "      <td>0</td>\n",
       "    </tr>\n",
       "    <tr>\n",
       "      <th>890</th>\n",
       "      <td>0</td>\n",
       "      <td>3</td>\n",
       "      <td>0</td>\n",
       "      <td>0</td>\n",
       "      <td>1</td>\n",
       "      <td>3</td>\n",
       "      <td>0</td>\n",
       "      <td>0</td>\n",
       "      <td>0</td>\n",
       "      <td>1</td>\n",
       "      <td>0</td>\n",
       "      <td>0</td>\n",
       "      <td>1</td>\n",
       "      <td>0</td>\n",
       "      <td>0</td>\n",
       "      <td>0</td>\n",
       "    </tr>\n",
       "  </tbody>\n",
       "</table>\n",
       "<p>891 rows × 16 columns</p>\n",
       "</div>"
      ],
      "text/plain": [
       "     Survived  Pclass  SibSp  Parch  Age_true  AgeGroup  FareGroup  CabinLvl  \\\n",
       "0           0       3      1      0         1         2          0         0   \n",
       "1           1       1      1      0         1         4          4         5   \n",
       "2           1       3      0      0         1         3          1         0   \n",
       "3           1       1      1      0         1         4          4         5   \n",
       "4           0       3      0      0         1         4          1         0   \n",
       "..        ...     ...    ...    ...       ...       ...        ...       ...   \n",
       "886         0       2      0      0         1         3          2         0   \n",
       "887         1       1      0      0         1         2          3         6   \n",
       "888         0       3      1      2         0         2          3         0   \n",
       "889         1       1      0      0         1         3          3         5   \n",
       "890         0       3      0      0         1         3          0         0   \n",
       "\n",
       "     Embarked_C  Embarked_Q  Embarked_S  Title_Master  Title_Mr  Title_Mrs  \\\n",
       "0             0           0           1             0         1          0   \n",
       "1             1           0           0             0         0          1   \n",
       "2             0           0           1             0         0          0   \n",
       "3             0           0           1             0         0          1   \n",
       "4             0           0           1             0         1          0   \n",
       "..          ...         ...         ...           ...       ...        ...   \n",
       "886           0           0           1             0         0          0   \n",
       "887           0           0           1             0         0          0   \n",
       "888           0           0           1             0         0          0   \n",
       "889           1           0           0             0         1          0   \n",
       "890           0           1           0             0         1          0   \n",
       "\n",
       "     Title_Ms  Title_Noble  \n",
       "0           0            0  \n",
       "1           0            0  \n",
       "2           1            0  \n",
       "3           0            0  \n",
       "4           0            0  \n",
       "..        ...          ...  \n",
       "886         0            1  \n",
       "887         1            0  \n",
       "888         1            0  \n",
       "889         0            0  \n",
       "890         0            0  \n",
       "\n",
       "[891 rows x 16 columns]"
      ]
     },
     "execution_count": 74,
     "metadata": {},
     "output_type": "execute_result"
    }
   ],
   "source": [
    "# change datatypes from float to int\n",
    "df = df.astype(int)\n",
    "df"
   ]
  },
  {
   "cell_type": "code",
   "execution_count": 75,
   "id": "f248e603",
   "metadata": {},
   "outputs": [],
   "source": [
    "# save dataframe\n",
    "\n",
    "#from datetime import datetime\n",
    "\n",
    "# save data with date to track changes \n",
    "#date = str(datetime.now().date()).replace(\"-\", \"\")\n",
    "\n",
    "#df.to_csv(f\"data/preprocessed_{date}.csv\")"
   ]
  },
  {
   "cell_type": "markdown",
   "id": "a6f0c6c9",
   "metadata": {},
   "source": [
    "# Train-Test-Split"
   ]
  },
  {
   "cell_type": "code",
   "execution_count": 76,
   "id": "e899cc58",
   "metadata": {},
   "outputs": [
    {
     "name": "stdout",
     "output_type": "stream",
     "text": [
      "preprocessed_20221117.csv\n"
     ]
    },
    {
     "data": {
      "text/html": [
       "<div>\n",
       "<style scoped>\n",
       "    .dataframe tbody tr th:only-of-type {\n",
       "        vertical-align: middle;\n",
       "    }\n",
       "\n",
       "    .dataframe tbody tr th {\n",
       "        vertical-align: top;\n",
       "    }\n",
       "\n",
       "    .dataframe thead th {\n",
       "        text-align: right;\n",
       "    }\n",
       "</style>\n",
       "<table border=\"1\" class=\"dataframe\">\n",
       "  <thead>\n",
       "    <tr style=\"text-align: right;\">\n",
       "      <th></th>\n",
       "      <th>Survived</th>\n",
       "      <th>Pclass</th>\n",
       "      <th>SibSp</th>\n",
       "      <th>Parch</th>\n",
       "      <th>Age_true</th>\n",
       "      <th>AgeGroup</th>\n",
       "      <th>FareGroup</th>\n",
       "      <th>CabinLvl</th>\n",
       "      <th>Embarked_C</th>\n",
       "      <th>Embarked_Q</th>\n",
       "      <th>Embarked_S</th>\n",
       "      <th>Title_Master</th>\n",
       "      <th>Title_Mr</th>\n",
       "      <th>Title_Mrs</th>\n",
       "      <th>Title_Ms</th>\n",
       "      <th>Title_Noble</th>\n",
       "    </tr>\n",
       "  </thead>\n",
       "  <tbody>\n",
       "    <tr>\n",
       "      <th>0</th>\n",
       "      <td>0</td>\n",
       "      <td>3</td>\n",
       "      <td>1</td>\n",
       "      <td>0</td>\n",
       "      <td>1</td>\n",
       "      <td>2</td>\n",
       "      <td>0</td>\n",
       "      <td>0</td>\n",
       "      <td>0</td>\n",
       "      <td>0</td>\n",
       "      <td>1</td>\n",
       "      <td>0</td>\n",
       "      <td>1</td>\n",
       "      <td>0</td>\n",
       "      <td>0</td>\n",
       "      <td>0</td>\n",
       "    </tr>\n",
       "    <tr>\n",
       "      <th>1</th>\n",
       "      <td>1</td>\n",
       "      <td>1</td>\n",
       "      <td>1</td>\n",
       "      <td>0</td>\n",
       "      <td>1</td>\n",
       "      <td>4</td>\n",
       "      <td>4</td>\n",
       "      <td>5</td>\n",
       "      <td>1</td>\n",
       "      <td>0</td>\n",
       "      <td>0</td>\n",
       "      <td>0</td>\n",
       "      <td>0</td>\n",
       "      <td>1</td>\n",
       "      <td>0</td>\n",
       "      <td>0</td>\n",
       "    </tr>\n",
       "    <tr>\n",
       "      <th>2</th>\n",
       "      <td>1</td>\n",
       "      <td>3</td>\n",
       "      <td>0</td>\n",
       "      <td>0</td>\n",
       "      <td>1</td>\n",
       "      <td>3</td>\n",
       "      <td>1</td>\n",
       "      <td>0</td>\n",
       "      <td>0</td>\n",
       "      <td>0</td>\n",
       "      <td>1</td>\n",
       "      <td>0</td>\n",
       "      <td>0</td>\n",
       "      <td>0</td>\n",
       "      <td>1</td>\n",
       "      <td>0</td>\n",
       "    </tr>\n",
       "    <tr>\n",
       "      <th>3</th>\n",
       "      <td>1</td>\n",
       "      <td>1</td>\n",
       "      <td>1</td>\n",
       "      <td>0</td>\n",
       "      <td>1</td>\n",
       "      <td>4</td>\n",
       "      <td>4</td>\n",
       "      <td>5</td>\n",
       "      <td>0</td>\n",
       "      <td>0</td>\n",
       "      <td>1</td>\n",
       "      <td>0</td>\n",
       "      <td>0</td>\n",
       "      <td>1</td>\n",
       "      <td>0</td>\n",
       "      <td>0</td>\n",
       "    </tr>\n",
       "    <tr>\n",
       "      <th>4</th>\n",
       "      <td>0</td>\n",
       "      <td>3</td>\n",
       "      <td>0</td>\n",
       "      <td>0</td>\n",
       "      <td>1</td>\n",
       "      <td>4</td>\n",
       "      <td>1</td>\n",
       "      <td>0</td>\n",
       "      <td>0</td>\n",
       "      <td>0</td>\n",
       "      <td>1</td>\n",
       "      <td>0</td>\n",
       "      <td>1</td>\n",
       "      <td>0</td>\n",
       "      <td>0</td>\n",
       "      <td>0</td>\n",
       "    </tr>\n",
       "  </tbody>\n",
       "</table>\n",
       "</div>"
      ],
      "text/plain": [
       "   Survived  Pclass  SibSp  Parch  Age_true  AgeGroup  FareGroup  CabinLvl  \\\n",
       "0         0       3      1      0         1         2          0         0   \n",
       "1         1       1      1      0         1         4          4         5   \n",
       "2         1       3      0      0         1         3          1         0   \n",
       "3         1       1      1      0         1         4          4         5   \n",
       "4         0       3      0      0         1         4          1         0   \n",
       "\n",
       "   Embarked_C  Embarked_Q  Embarked_S  Title_Master  Title_Mr  Title_Mrs  \\\n",
       "0           0           0           1             0         1          0   \n",
       "1           1           0           0             0         0          1   \n",
       "2           0           0           1             0         0          0   \n",
       "3           0           0           1             0         0          1   \n",
       "4           0           0           1             0         1          0   \n",
       "\n",
       "   Title_Ms  Title_Noble  \n",
       "0         0            0  \n",
       "1         0            0  \n",
       "2         1            0  \n",
       "3         0            0  \n",
       "4         0            0  "
      ]
     },
     "execution_count": 76,
     "metadata": {},
     "output_type": "execute_result"
    }
   ],
   "source": [
    "# read dataframe\n",
    "\n",
    "from datetime import datetime\n",
    "import os\n",
    "\n",
    "files = sorted([f for f in os.listdir(\"data\") if (f.endswith(\".csv\") and (f.startswith(\"preprocessed_2\")))], reverse=True)\n",
    "latest = files[0]\n",
    "print(latest)\n",
    "df = pd.read_csv(f\"data/{latest}\")\n",
    "\n",
    "# drop new generated index column\n",
    "df.drop(df.columns[0], axis=1, inplace=True)\n",
    "df.head()"
   ]
  },
  {
   "cell_type": "code",
   "execution_count": 77,
   "id": "e069e355",
   "metadata": {},
   "outputs": [],
   "source": [
    "y = df[\"Survived\"]\n",
    "X = df.drop(\"Survived\", axis=1)\n",
    "\n",
    "X_train, X_test, y_train, y_test = train_test_split(X, y, test_size=0.3, random_state=42, shuffle=True)"
   ]
  },
  {
   "cell_type": "code",
   "execution_count": 78,
   "id": "daafd9d4",
   "metadata": {},
   "outputs": [],
   "source": [
    "train_data = X_train.join(y_train)\n",
    "test_data = X_test.join(y_test)"
   ]
  },
  {
   "cell_type": "code",
   "execution_count": 79,
   "id": "55f8a993",
   "metadata": {},
   "outputs": [],
   "source": [
    "# save train and test data\n",
    "\n",
    "#from datetime import datetime\n",
    "\n",
    "# save data with date to track changes \n",
    "#date = str(datetime.now().date()).replace(\"-\", \"\")\n",
    "\n",
    "#train_data.to_csv(f\"data/train_data_{date}.csv\")\n",
    "#test_data.to_csv(f\"data/test_data_{date}.csv\")"
   ]
  },
  {
   "cell_type": "code",
   "execution_count": 80,
   "id": "2ff459f6",
   "metadata": {},
   "outputs": [
    {
     "name": "stdout",
     "output_type": "stream",
     "text": [
      "train_data_20221117.csv\n"
     ]
    },
    {
     "data": {
      "text/html": [
       "<div>\n",
       "<style scoped>\n",
       "    .dataframe tbody tr th:only-of-type {\n",
       "        vertical-align: middle;\n",
       "    }\n",
       "\n",
       "    .dataframe tbody tr th {\n",
       "        vertical-align: top;\n",
       "    }\n",
       "\n",
       "    .dataframe thead th {\n",
       "        text-align: right;\n",
       "    }\n",
       "</style>\n",
       "<table border=\"1\" class=\"dataframe\">\n",
       "  <thead>\n",
       "    <tr style=\"text-align: right;\">\n",
       "      <th></th>\n",
       "      <th>Pclass</th>\n",
       "      <th>SibSp</th>\n",
       "      <th>Parch</th>\n",
       "      <th>Age_true</th>\n",
       "      <th>AgeGroup</th>\n",
       "      <th>FareGroup</th>\n",
       "      <th>CabinLvl</th>\n",
       "      <th>Embarked_C</th>\n",
       "      <th>Embarked_Q</th>\n",
       "      <th>Embarked_S</th>\n",
       "      <th>Title_Master</th>\n",
       "      <th>Title_Mr</th>\n",
       "      <th>Title_Mrs</th>\n",
       "      <th>Title_Ms</th>\n",
       "      <th>Title_Noble</th>\n",
       "      <th>Survived</th>\n",
       "    </tr>\n",
       "  </thead>\n",
       "  <tbody>\n",
       "    <tr>\n",
       "      <th>0</th>\n",
       "      <td>1</td>\n",
       "      <td>0</td>\n",
       "      <td>2</td>\n",
       "      <td>1</td>\n",
       "      <td>0</td>\n",
       "      <td>4</td>\n",
       "      <td>7</td>\n",
       "      <td>0</td>\n",
       "      <td>0</td>\n",
       "      <td>1</td>\n",
       "      <td>1</td>\n",
       "      <td>0</td>\n",
       "      <td>0</td>\n",
       "      <td>0</td>\n",
       "      <td>0</td>\n",
       "      <td>1</td>\n",
       "    </tr>\n",
       "    <tr>\n",
       "      <th>1</th>\n",
       "      <td>3</td>\n",
       "      <td>0</td>\n",
       "      <td>0</td>\n",
       "      <td>0</td>\n",
       "      <td>3</td>\n",
       "      <td>1</td>\n",
       "      <td>0</td>\n",
       "      <td>0</td>\n",
       "      <td>0</td>\n",
       "      <td>1</td>\n",
       "      <td>0</td>\n",
       "      <td>1</td>\n",
       "      <td>0</td>\n",
       "      <td>0</td>\n",
       "      <td>0</td>\n",
       "      <td>0</td>\n",
       "    </tr>\n",
       "    <tr>\n",
       "      <th>2</th>\n",
       "      <td>3</td>\n",
       "      <td>1</td>\n",
       "      <td>1</td>\n",
       "      <td>1</td>\n",
       "      <td>0</td>\n",
       "      <td>2</td>\n",
       "      <td>0</td>\n",
       "      <td>0</td>\n",
       "      <td>0</td>\n",
       "      <td>1</td>\n",
       "      <td>0</td>\n",
       "      <td>0</td>\n",
       "      <td>0</td>\n",
       "      <td>1</td>\n",
       "      <td>0</td>\n",
       "      <td>1</td>\n",
       "    </tr>\n",
       "    <tr>\n",
       "      <th>3</th>\n",
       "      <td>2</td>\n",
       "      <td>1</td>\n",
       "      <td>2</td>\n",
       "      <td>1</td>\n",
       "      <td>4</td>\n",
       "      <td>3</td>\n",
       "      <td>0</td>\n",
       "      <td>0</td>\n",
       "      <td>0</td>\n",
       "      <td>1</td>\n",
       "      <td>0</td>\n",
       "      <td>1</td>\n",
       "      <td>0</td>\n",
       "      <td>0</td>\n",
       "      <td>0</td>\n",
       "      <td>0</td>\n",
       "    </tr>\n",
       "    <tr>\n",
       "      <th>4</th>\n",
       "      <td>2</td>\n",
       "      <td>1</td>\n",
       "      <td>1</td>\n",
       "      <td>1</td>\n",
       "      <td>4</td>\n",
       "      <td>3</td>\n",
       "      <td>0</td>\n",
       "      <td>0</td>\n",
       "      <td>0</td>\n",
       "      <td>1</td>\n",
       "      <td>0</td>\n",
       "      <td>1</td>\n",
       "      <td>0</td>\n",
       "      <td>0</td>\n",
       "      <td>0</td>\n",
       "      <td>0</td>\n",
       "    </tr>\n",
       "  </tbody>\n",
       "</table>\n",
       "</div>"
      ],
      "text/plain": [
       "   Pclass  SibSp  Parch  Age_true  AgeGroup  FareGroup  CabinLvl  Embarked_C  \\\n",
       "0       1      0      2         1         0          4         7           0   \n",
       "1       3      0      0         0         3          1         0           0   \n",
       "2       3      1      1         1         0          2         0           0   \n",
       "3       2      1      2         1         4          3         0           0   \n",
       "4       2      1      1         1         4          3         0           0   \n",
       "\n",
       "   Embarked_Q  Embarked_S  Title_Master  Title_Mr  Title_Mrs  Title_Ms  \\\n",
       "0           0           1             1         0          0         0   \n",
       "1           0           1             0         1          0         0   \n",
       "2           0           1             0         0          0         1   \n",
       "3           0           1             0         1          0         0   \n",
       "4           0           1             0         1          0         0   \n",
       "\n",
       "   Title_Noble  Survived  \n",
       "0            0         1  \n",
       "1            0         0  \n",
       "2            0         1  \n",
       "3            0         0  \n",
       "4            0         0  "
      ]
     },
     "metadata": {},
     "output_type": "display_data"
    },
    {
     "name": "stdout",
     "output_type": "stream",
     "text": [
      "test_data_20221117.csv\n"
     ]
    },
    {
     "data": {
      "text/html": [
       "<div>\n",
       "<style scoped>\n",
       "    .dataframe tbody tr th:only-of-type {\n",
       "        vertical-align: middle;\n",
       "    }\n",
       "\n",
       "    .dataframe tbody tr th {\n",
       "        vertical-align: top;\n",
       "    }\n",
       "\n",
       "    .dataframe thead th {\n",
       "        text-align: right;\n",
       "    }\n",
       "</style>\n",
       "<table border=\"1\" class=\"dataframe\">\n",
       "  <thead>\n",
       "    <tr style=\"text-align: right;\">\n",
       "      <th></th>\n",
       "      <th>Pclass</th>\n",
       "      <th>SibSp</th>\n",
       "      <th>Parch</th>\n",
       "      <th>Age_true</th>\n",
       "      <th>AgeGroup</th>\n",
       "      <th>FareGroup</th>\n",
       "      <th>CabinLvl</th>\n",
       "      <th>Embarked_C</th>\n",
       "      <th>Embarked_Q</th>\n",
       "      <th>Embarked_S</th>\n",
       "      <th>Title_Master</th>\n",
       "      <th>Title_Mr</th>\n",
       "      <th>Title_Mrs</th>\n",
       "      <th>Title_Ms</th>\n",
       "      <th>Title_Noble</th>\n",
       "      <th>Survived</th>\n",
       "    </tr>\n",
       "  </thead>\n",
       "  <tbody>\n",
       "    <tr>\n",
       "      <th>0</th>\n",
       "      <td>3</td>\n",
       "      <td>1</td>\n",
       "      <td>1</td>\n",
       "      <td>0</td>\n",
       "      <td>0</td>\n",
       "      <td>2</td>\n",
       "      <td>0</td>\n",
       "      <td>1</td>\n",
       "      <td>0</td>\n",
       "      <td>0</td>\n",
       "      <td>1</td>\n",
       "      <td>0</td>\n",
       "      <td>0</td>\n",
       "      <td>0</td>\n",
       "      <td>0</td>\n",
       "      <td>1</td>\n",
       "    </tr>\n",
       "    <tr>\n",
       "      <th>1</th>\n",
       "      <td>2</td>\n",
       "      <td>0</td>\n",
       "      <td>0</td>\n",
       "      <td>1</td>\n",
       "      <td>3</td>\n",
       "      <td>1</td>\n",
       "      <td>0</td>\n",
       "      <td>0</td>\n",
       "      <td>0</td>\n",
       "      <td>1</td>\n",
       "      <td>0</td>\n",
       "      <td>1</td>\n",
       "      <td>0</td>\n",
       "      <td>0</td>\n",
       "      <td>0</td>\n",
       "      <td>0</td>\n",
       "    </tr>\n",
       "    <tr>\n",
       "      <th>2</th>\n",
       "      <td>3</td>\n",
       "      <td>0</td>\n",
       "      <td>0</td>\n",
       "      <td>1</td>\n",
       "      <td>2</td>\n",
       "      <td>1</td>\n",
       "      <td>0</td>\n",
       "      <td>0</td>\n",
       "      <td>0</td>\n",
       "      <td>1</td>\n",
       "      <td>0</td>\n",
       "      <td>1</td>\n",
       "      <td>0</td>\n",
       "      <td>0</td>\n",
       "      <td>0</td>\n",
       "      <td>0</td>\n",
       "    </tr>\n",
       "    <tr>\n",
       "      <th>3</th>\n",
       "      <td>2</td>\n",
       "      <td>0</td>\n",
       "      <td>1</td>\n",
       "      <td>1</td>\n",
       "      <td>0</td>\n",
       "      <td>3</td>\n",
       "      <td>0</td>\n",
       "      <td>0</td>\n",
       "      <td>0</td>\n",
       "      <td>1</td>\n",
       "      <td>0</td>\n",
       "      <td>0</td>\n",
       "      <td>0</td>\n",
       "      <td>1</td>\n",
       "      <td>0</td>\n",
       "      <td>1</td>\n",
       "    </tr>\n",
       "    <tr>\n",
       "      <th>4</th>\n",
       "      <td>3</td>\n",
       "      <td>1</td>\n",
       "      <td>0</td>\n",
       "      <td>1</td>\n",
       "      <td>1</td>\n",
       "      <td>2</td>\n",
       "      <td>0</td>\n",
       "      <td>1</td>\n",
       "      <td>0</td>\n",
       "      <td>0</td>\n",
       "      <td>0</td>\n",
       "      <td>0</td>\n",
       "      <td>0</td>\n",
       "      <td>1</td>\n",
       "      <td>0</td>\n",
       "      <td>1</td>\n",
       "    </tr>\n",
       "  </tbody>\n",
       "</table>\n",
       "</div>"
      ],
      "text/plain": [
       "   Pclass  SibSp  Parch  Age_true  AgeGroup  FareGroup  CabinLvl  Embarked_C  \\\n",
       "0       3      1      1         0         0          2         0           1   \n",
       "1       2      0      0         1         3          1         0           0   \n",
       "2       3      0      0         1         2          1         0           0   \n",
       "3       2      0      1         1         0          3         0           0   \n",
       "4       3      1      0         1         1          2         0           1   \n",
       "\n",
       "   Embarked_Q  Embarked_S  Title_Master  Title_Mr  Title_Mrs  Title_Ms  \\\n",
       "0           0           0             1         0          0         0   \n",
       "1           0           1             0         1          0         0   \n",
       "2           0           1             0         1          0         0   \n",
       "3           0           1             0         0          0         1   \n",
       "4           0           0             0         0          0         1   \n",
       "\n",
       "   Title_Noble  Survived  \n",
       "0            0         1  \n",
       "1            0         0  \n",
       "2            0         0  \n",
       "3            0         1  \n",
       "4            0         1  "
      ]
     },
     "metadata": {},
     "output_type": "display_data"
    }
   ],
   "source": [
    "# read train and test data\n",
    "# only necessary if starting here\n",
    "\n",
    "from datetime import datetime\n",
    "import os\n",
    "\n",
    "# train_data\n",
    "train_data_files = sorted([f for f in os.listdir(\"data\") if (f.endswith(\".csv\") and (f.startswith(\"train_data_\")))], reverse=True)\n",
    "latest_train_data = train_data_files[0]\n",
    "print(latest_train_data)\n",
    "train_data = pd.read_csv(f\"data/{latest_train_data}\")\n",
    "\n",
    "# drop new generated index column\n",
    "train_data.drop(train_data.columns[0], axis=1, inplace=True)\n",
    "display(train_data.head())\n",
    "\n",
    "# split train_data for models\n",
    "y_train = train_data['Survived']\n",
    "X_train = train_data.drop('Survived', axis=1)\n",
    "\n",
    "\n",
    "# test_data\n",
    "test_data_files = sorted([f for f in os.listdir(\"data\") if (f.endswith(\".csv\") and (f.startswith(\"test_data_\")))], reverse=True)\n",
    "latest_test_data = test_data_files[0]\n",
    "print(latest_test_data)\n",
    "test_data = pd.read_csv(f\"data/{latest_test_data}\")\n",
    "\n",
    "#drop new generated index column\n",
    "test_data.drop(test_data.columns[0], axis=1, inplace=True)\n",
    "display(test_data.head())\n",
    "\n",
    "# split test_data for models\n",
    "y_test = test_data['Survived']\n",
    "X_test = test_data.drop('Survived', axis=1)"
   ]
  },
  {
   "cell_type": "markdown",
   "id": "ea6599ff",
   "metadata": {},
   "source": [
    "# Models\n",
    "\n",
    "0. Baseline\n",
    "1. k-Nearest Neighbour (KNeighboursClassifier)\n",
    "2. Naive Bayes (GaussianNB)\n",
    "3. Random Forest (RandomForestClassifier)\n",
    "4. Support Vector Machine (SVC)\n",
    "5. Logistic Regression (LogisticRegression)\n",
    "6. Decision Tree (DecisionTreeClassifier)\n",
    "7. XGBoost (XGBClassifier)"
   ]
  },
  {
   "cell_type": "code",
   "execution_count": 81,
   "id": "eab30b78",
   "metadata": {},
   "outputs": [],
   "source": [
    "from sklearn.model_selection import GridSearchCV, StratifiedKFold\n",
    "from sklearn.metrics import accuracy_score, f1_score\n",
    "import random\n",
    "\n",
    "random.seed(10)\n",
    "\n",
    "def run_gridsearch_cv(estimator, hp_grid, cv: StratifiedKFold = StratifiedKFold(n_splits=10, shuffle=True, random_state=0), verbose: int = 1) -> GridSearchCV:\n",
    "    gscv = GridSearchCV(estimator=estimator, param_grid=hp_grid, scoring='accuracy', error_score=0, cv=cv, verbose=verbose)\n",
    "    gscv.fit(X_train, y_train)\n",
    "    print(f\"[GridSearch CV] {gscv.best_estimator_} | Accuracy: {round(gscv.best_score_*100,2)}\")\n",
    "    return gscv\n",
    "\n",
    "def fit_estimator_with_params(estimator, params):\n",
    "    #estimator.random_state = 500\n",
    "    estimator.set_params(**params)\n",
    "    estimator.fit(X_train, y_train)\n",
    "    yhat = estimator.predict(X_test)\n",
    "    print(f\"[(Re)fit] {estimator} | Accuracy: {round(accuracy_score(y_test, yhat)*100,2)} | F1: {round(f1_score(y_test, yhat)*100,2)}\")\n",
    "    return estimator"
   ]
  },
  {
   "cell_type": "code",
   "execution_count": 82,
   "id": "56bae5c1",
   "metadata": {},
   "outputs": [
    {
     "name": "stdout",
     "output_type": "stream",
     "text": [
      "Baseline | Accuracy: 69.4 | F1: 56.38\n"
     ]
    }
   ],
   "source": [
    "# Baseline - predict \"Survival\" or \"No Survival\" based on 'Pclass'\n",
    "\n",
    "# for each 'PClass' find number of passengers that survived and did not survive\n",
    "#print(train_data.groupby(['Pclass', 'Survived']).size())\n",
    "# if 'Pclass'==1, we predict 'Survived'=1, else we predict 'Survived'=0\n",
    "\n",
    "# make prediction\n",
    "X_test['yhat'] = 0\n",
    "X_test.loc[X_test['Pclass'] == 1, 'yhat'] = 1\n",
    "yhat = X_test.yhat\n",
    "X_test.drop('yhat', axis=1, inplace=True)\n",
    "print(f\"Baseline | Accuracy: {round(accuracy_score(y_test, yhat)*100,2)} | F1: {round(f1_score(y_test, yhat)*100,2)}\")"
   ]
  },
  {
   "cell_type": "code",
   "execution_count": 83,
   "id": "33f31516",
   "metadata": {},
   "outputs": [
    {
     "name": "stdout",
     "output_type": "stream",
     "text": [
      "[(Re)fit] KNeighborsClassifier(algorithm='ball_tree', n_neighbors=10, weights='distance') | Accuracy: 80.22 | F1: 75.58\n"
     ]
    }
   ],
   "source": [
    "from sklearn.neighbors import KNeighborsClassifier\n",
    "\n",
    "knn_estimator = KNeighborsClassifier()\n",
    "knn_hp_grid = {\n",
    "    'n_neighbors': range(5, 11), # -> 10\n",
    "    'weights': ['uniform', 'distance'], # -> 'distance'\n",
    "    'algorithm': ['auto', 'ball_tree', 'kd_tree', 'brute'] # -> 'ball_tree'\n",
    "}\n",
    "\n",
    "# knn_gscv: GridSearchCV = run_gridsearch_cv(knn_estimator, knn_hp_grid)\n",
    "# knn_estimator = fit_estimator_with_params(knn_gscv.best_estimator_, knn_gscv.best_params_)\n",
    "\n",
    "\n",
    "knn_estimator = fit_estimator_with_params(\n",
    "    knn_estimator,\n",
    "    {\n",
    "        'n_neighbors': 10,\n",
    "        'weights': 'distance',\n",
    "        'algorithm': 'ball_tree'\n",
    "    })\n"
   ]
  },
  {
   "cell_type": "code",
   "execution_count": 84,
   "id": "b96306ca",
   "metadata": {},
   "outputs": [
    {
     "name": "stdout",
     "output_type": "stream",
     "text": [
      "[(Re)fit] GaussianNB() | Accuracy: 79.85 | F1: 76.92\n"
     ]
    }
   ],
   "source": [
    "from sklearn.naive_bayes import GaussianNB\n",
    "\n",
    "nb_estimator = GaussianNB()\n",
    "nb_hp_grid = {}\n",
    "\n",
    "# nb_gscv: GridSearchCV = run_gridsearch_cv(nb_estimator, nb_hp_grid)\n",
    "# nb_estimator = fit_estimator_with_params(nb_gscv.best_estimator_, nb_gscv.best_params_)\n",
    "\n",
    "nb_estimator = fit_estimator_with_params(nb_estimator, {})\n"
   ]
  },
  {
   "cell_type": "code",
   "execution_count": 85,
   "id": "5584c68f",
   "metadata": {},
   "outputs": [
    {
     "name": "stdout",
     "output_type": "stream",
     "text": [
      "[(Re)fit] RandomForestClassifier(max_depth=5, max_features=None, min_samples_split=4,\n",
      "                       n_estimators=32, random_state=500) | Accuracy: 81.72 | F1: 76.33\n"
     ]
    }
   ],
   "source": [
    "from sklearn.ensemble import RandomForestClassifier\n",
    "\n",
    "rf_estimator = RandomForestClassifier()\n",
    "rf_hp_grid = {\n",
    "    'bootstrap': [True, False], # -> True\n",
    "    'criterion': ['gini', 'entropy', 'log_loss'], # -> 'gini'\n",
    "    'max_depth': [2, 3, 4, 5, None], # -> 5\n",
    "    'min_samples_split': range(2, 7), # -> 4\n",
    "    'min_samples_leaf': range(1, 4), # -> 1\n",
    "    'max_features': ['sqrt', 'log2', None], # -> None\n",
    "    'n_estimators': [8, 10, 12, 14, 16, 32, 64, 128, 256], # -> 32\n",
    "}\n",
    "\n",
    "# rf_gscv: GridSearchCV = run_gridsearch_cv(rf_estimator, rf_hp_grid)\n",
    "# rf_estimator = fit_estimator_with_params(rf_gscv.best_estimator_, rf_gscv.best_params_)\n",
    "\n",
    "rf_estimator = fit_estimator_with_params(\n",
    "    rf_estimator,\n",
    "    {\n",
    "        'bootstrap': True,\n",
    "        'criterion': 'gini',\n",
    "        'max_depth': 5,\n",
    "        'min_samples_split': 4,\n",
    "        'min_samples_leaf': 1,\n",
    "        'max_features': None,\n",
    "        'n_estimators': 32,\n",
    "        'random_state': 500\n",
    "    })\n"
   ]
  },
  {
   "cell_type": "code",
   "execution_count": 86,
   "id": "abbee1a2",
   "metadata": {},
   "outputs": [
    {
     "name": "stdout",
     "output_type": "stream",
     "text": [
      "[(Re)fit] SVC(class_weight='balanced', gamma='auto') | Accuracy: 81.72 | F1: 79.32\n"
     ]
    }
   ],
   "source": [
    "from sklearn.svm import SVC\n",
    "\n",
    "svc_estimator = SVC()\n",
    "svc_hp_grid = {\n",
    "    'gamma': ['scale', 'auto'], # -> 'auto'\n",
    "    'shrinking': [True, False], # -> True\n",
    "    'class_weight': [None, 'balanced'] # -> 'balanced'\n",
    "}\n",
    "\n",
    "# svc_gscv: GridSearchCV = run_gridsearch_cv(svc_estimator, svc_hp_grid)\n",
    "# svc_estimator = fit_estimator_with_params(svc_gscv.best_estimator_, svc_gscv.best_params_)\n",
    "\n",
    "svc_estimator = fit_estimator_with_params(\n",
    "    svc_estimator,\n",
    "    {\n",
    "        'gamma': 'auto',\n",
    "        'shrinking': True,\n",
    "        'class_weight': 'balanced'\n",
    "    })\n"
   ]
  },
  {
   "cell_type": "code",
   "execution_count": 87,
   "id": "1f578bdb",
   "metadata": {},
   "outputs": [
    {
     "name": "stdout",
     "output_type": "stream",
     "text": [
      "[(Re)fit] LogisticRegression() | Accuracy: 82.09 | F1: 78.18\n"
     ]
    }
   ],
   "source": [
    "from sklearn.linear_model import LogisticRegression\n",
    "\n",
    "lr_estimator = LogisticRegression()\n",
    "lr_hp_grid = {}\n",
    "\n",
    "# lr_gscv: GridSearchCV = run_gridsearch_cv(lr_estimator, lr_hp_grid)\n",
    "# lr_estimator = fit_estimator_with_params(lr_gscv.best_estimator_, lr_gscv.best_params_)\n",
    "\n",
    "lr_estimator = fit_estimator_with_params(lr_estimator, {})\n"
   ]
  },
  {
   "cell_type": "code",
   "execution_count": 88,
   "id": "53c9a74d",
   "metadata": {},
   "outputs": [
    {
     "name": "stdout",
     "output_type": "stream",
     "text": [
      "[(Re)fit] DecisionTreeClassifier(criterion='log_loss', max_features=10,\n",
      "                       min_impurity_decrease=0.01, min_samples_leaf=9,\n",
      "                       min_samples_split=15, random_state=500) | Accuracy: 82.84 | F1: 77.88\n"
     ]
    }
   ],
   "source": [
    "from sklearn.tree import DecisionTreeClassifier\n",
    "\n",
    "dt_estimator = DecisionTreeClassifier()\n",
    "dt_hp_grid = {\n",
    "    'criterion': ['gini', 'entropy', 'log_loss'], # -> 'log_loss'\n",
    "    'splitter': ['best', 'random'], # -> 'best'\n",
    "    'min_samples_split': range(2, 16), # -> 15\n",
    "    'min_samples_leaf': range(1, 16), # -> 9\n",
    "    'max_features': range(1, 16), # -> 10\n",
    "    'min_impurity_decrease': [0.5, 0.4, 0.3, 0.2, 0.1, 0.05, 0.01], # -> 0.01\n",
    "    'class_weight': [None, 'balanced'] # -> None\n",
    "    }\n",
    "\n",
    "# dt_gscv: GridSearchCV = run_gridsearch_cv(dt_estimator, dt_hp_grid)\n",
    "# dt_estimator = fit_estimator_with_params(dt_gscv.best_estimator_, dt_gscv.best_params_)\n",
    "\n",
    "dt_estimator = fit_estimator_with_params(\n",
    "    dt_estimator,\n",
    "    {\n",
    "        'criterion': 'log_loss',\n",
    "        'splitter': 'best',\n",
    "        'min_samples_split': 15,\n",
    "        'min_samples_leaf': 9,\n",
    "        'max_features': 10,\n",
    "        'min_impurity_decrease': 0.01,\n",
    "        'class_weight': None,\n",
    "        'random_state': 500\n",
    "    })\n"
   ]
  },
  {
   "cell_type": "code",
   "execution_count": 89,
   "id": "2757f70d",
   "metadata": {},
   "outputs": [
    {
     "name": "stdout",
     "output_type": "stream",
     "text": [
      "[(Re)fit] XGBClassifier(base_score=0.5, booster='gbtree', callbacks=None,\n",
      "              colsample_bylevel=0.4, colsample_bynode=1, colsample_bytree=0.9,\n",
      "              early_stopping_rounds=None, enable_categorical=False,\n",
      "              eval_metric=None, feature_types=None, gamma=1, gpu_id=-1,\n",
      "              grow_policy='depthwise', importance_type=None,\n",
      "              interaction_constraints='', learning_rate=0.7, max_bin=256,\n",
      "              max_cat_threshold=64, max_cat_to_onehot=4, max_delta_step=0,\n",
      "              max_depth=2, max_leaves=0, min_child_weight=1, missing=nan,\n",
      "              monotone_constraints='()', n_estimators=30, n_jobs=0,\n",
      "              num_parallel_tree=1, predictor='auto', random_state=0, ...) | Accuracy: 84.7 | F1: 80.93\n"
     ]
    }
   ],
   "source": [
    "from xgboost import XGBClassifier\n",
    "\n",
    "xgb_estimator = XGBClassifier()\n",
    "xgb_hp_grid = {\n",
    "    'max_depth': [2,3,4,5], # -> 2\n",
    "    'learning_rate': [0.05, 0.1, 0.15, 0.2, 0.6, 0.7, 0.75], # -> 0.7\n",
    "    'gamma': [0, 0.5, 1, 10], # -> 1\n",
    "    'subsample': [0.5, 0.6, 0.7, 0.8, 0.9], # -> 0.7\n",
    "    'colsample_bytree': [0.4, 0.5, 0.6, 0.7, 0.8, 0.9], # -> 0.9\n",
    "    'colsample_bylevel': [0.2, 0.3, 0.4, 0.5, 0.6], # -> 0.4\n",
    "    'n_estimators': [20, 30, 40, 50, 80, 100, 150, 200] # -> 30\n",
    "    }\n",
    "\n",
    "# xgb_gscv: GridSearchCV = run_gridsearch_cv(xgb_estimator, xgb_hp_grid)\n",
    "# xgb_estimator = fit_estimator_with_params(xgb_gscv.best_estimator_, xgb_gscv.best_params_)\n",
    "\n",
    "xgb_best = XGBClassifier(max_depth = 2, subsample = 0.7, colsample_bylevel = 0.4, colsample_bytree = 0.9, learning_rate = 0.7, n_estimators = 30, gamma = 1)\n",
    "\n",
    "xgb_estimator = fit_estimator_with_params(\n",
    "    xgb_estimator,\n",
    "    {\n",
    "        'max_depth': 2,\n",
    "        'learning_rate': 0.7,\n",
    "        'gamma': 1,\n",
    "        'subsample': 0.7,\n",
    "        'colsample_bytree': 0.9,\n",
    "        'colsample_bylevel': 0.4,\n",
    "        'n_estimators': 30\n",
    "    })\n"
   ]
  },
  {
   "cell_type": "code",
   "execution_count": null,
   "id": "9dd51c3a",
   "metadata": {},
   "outputs": [],
   "source": []
  }
 ],
 "metadata": {
  "kernelspec": {
   "display_name": "base",
   "language": "python",
   "name": "python3"
  },
  "language_info": {
   "codemirror_mode": {
    "name": "ipython",
    "version": 3
   },
   "file_extension": ".py",
   "mimetype": "text/x-python",
   "name": "python",
   "nbconvert_exporter": "python",
   "pygments_lexer": "ipython3",
   "version": "3.9.12"
  },
  "vscode": {
   "interpreter": {
    "hash": "8bd85b9f08aaa5135c8387a0c1e096579749b0a2e64b071c4a34f95dfb0716ad"
   }
  }
 },
 "nbformat": 4,
 "nbformat_minor": 5
}
