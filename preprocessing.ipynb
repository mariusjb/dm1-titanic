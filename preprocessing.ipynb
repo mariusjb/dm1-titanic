{
 "cells": [
  {
   "cell_type": "markdown",
   "id": "00b19b61",
   "metadata": {},
   "source": [
    "# Preprocessing"
   ]
  },
  {
   "cell_type": "code",
   "execution_count": 1,
   "id": "98fae362",
   "metadata": {},
   "outputs": [],
   "source": [
    "# load packages\n",
    "import pandas as pd\n",
    "import re\n",
    "import matplotlib.pyplot as plt\n",
    "import numpy as np"
   ]
  },
  {
   "cell_type": "code",
   "execution_count": 2,
   "id": "2b2537ff",
   "metadata": {},
   "outputs": [
    {
     "data": {
      "text/html": [
       "<div>\n",
       "<style scoped>\n",
       "    .dataframe tbody tr th:only-of-type {\n",
       "        vertical-align: middle;\n",
       "    }\n",
       "\n",
       "    .dataframe tbody tr th {\n",
       "        vertical-align: top;\n",
       "    }\n",
       "\n",
       "    .dataframe thead th {\n",
       "        text-align: right;\n",
       "    }\n",
       "</style>\n",
       "<table border=\"1\" class=\"dataframe\">\n",
       "  <thead>\n",
       "    <tr style=\"text-align: right;\">\n",
       "      <th></th>\n",
       "      <th>PassengerId</th>\n",
       "      <th>Survived</th>\n",
       "      <th>Pclass</th>\n",
       "      <th>Name</th>\n",
       "      <th>Sex</th>\n",
       "      <th>Age</th>\n",
       "      <th>SibSp</th>\n",
       "      <th>Parch</th>\n",
       "      <th>Ticket</th>\n",
       "      <th>Fare</th>\n",
       "      <th>Cabin</th>\n",
       "      <th>Embarked</th>\n",
       "    </tr>\n",
       "  </thead>\n",
       "  <tbody>\n",
       "    <tr>\n",
       "      <th>0</th>\n",
       "      <td>1</td>\n",
       "      <td>0</td>\n",
       "      <td>3</td>\n",
       "      <td>Braund, Mr. Owen Harris</td>\n",
       "      <td>male</td>\n",
       "      <td>22.0</td>\n",
       "      <td>1</td>\n",
       "      <td>0</td>\n",
       "      <td>A/5 21171</td>\n",
       "      <td>7.2500</td>\n",
       "      <td>NaN</td>\n",
       "      <td>S</td>\n",
       "    </tr>\n",
       "    <tr>\n",
       "      <th>1</th>\n",
       "      <td>2</td>\n",
       "      <td>1</td>\n",
       "      <td>1</td>\n",
       "      <td>Cumings, Mrs. John Bradley (Florence Briggs Th...</td>\n",
       "      <td>female</td>\n",
       "      <td>38.0</td>\n",
       "      <td>1</td>\n",
       "      <td>0</td>\n",
       "      <td>PC 17599</td>\n",
       "      <td>71.2833</td>\n",
       "      <td>C85</td>\n",
       "      <td>C</td>\n",
       "    </tr>\n",
       "    <tr>\n",
       "      <th>2</th>\n",
       "      <td>3</td>\n",
       "      <td>1</td>\n",
       "      <td>3</td>\n",
       "      <td>Heikkinen, Miss. Laina</td>\n",
       "      <td>female</td>\n",
       "      <td>26.0</td>\n",
       "      <td>0</td>\n",
       "      <td>0</td>\n",
       "      <td>STON/O2. 3101282</td>\n",
       "      <td>7.9250</td>\n",
       "      <td>NaN</td>\n",
       "      <td>S</td>\n",
       "    </tr>\n",
       "    <tr>\n",
       "      <th>3</th>\n",
       "      <td>4</td>\n",
       "      <td>1</td>\n",
       "      <td>1</td>\n",
       "      <td>Futrelle, Mrs. Jacques Heath (Lily May Peel)</td>\n",
       "      <td>female</td>\n",
       "      <td>35.0</td>\n",
       "      <td>1</td>\n",
       "      <td>0</td>\n",
       "      <td>113803</td>\n",
       "      <td>53.1000</td>\n",
       "      <td>C123</td>\n",
       "      <td>S</td>\n",
       "    </tr>\n",
       "    <tr>\n",
       "      <th>4</th>\n",
       "      <td>5</td>\n",
       "      <td>0</td>\n",
       "      <td>3</td>\n",
       "      <td>Allen, Mr. William Henry</td>\n",
       "      <td>male</td>\n",
       "      <td>35.0</td>\n",
       "      <td>0</td>\n",
       "      <td>0</td>\n",
       "      <td>373450</td>\n",
       "      <td>8.0500</td>\n",
       "      <td>NaN</td>\n",
       "      <td>S</td>\n",
       "    </tr>\n",
       "  </tbody>\n",
       "</table>\n",
       "</div>"
      ],
      "text/plain": [
       "   PassengerId  Survived  Pclass  \\\n",
       "0            1         0       3   \n",
       "1            2         1       1   \n",
       "2            3         1       3   \n",
       "3            4         1       1   \n",
       "4            5         0       3   \n",
       "\n",
       "                                                Name     Sex   Age  SibSp  \\\n",
       "0                            Braund, Mr. Owen Harris    male  22.0      1   \n",
       "1  Cumings, Mrs. John Bradley (Florence Briggs Th...  female  38.0      1   \n",
       "2                             Heikkinen, Miss. Laina  female  26.0      0   \n",
       "3       Futrelle, Mrs. Jacques Heath (Lily May Peel)  female  35.0      1   \n",
       "4                           Allen, Mr. William Henry    male  35.0      0   \n",
       "\n",
       "   Parch            Ticket     Fare Cabin Embarked  \n",
       "0      0         A/5 21171   7.2500   NaN        S  \n",
       "1      0          PC 17599  71.2833   C85        C  \n",
       "2      0  STON/O2. 3101282   7.9250   NaN        S  \n",
       "3      0            113803  53.1000  C123        S  \n",
       "4      0            373450   8.0500   NaN        S  "
      ]
     },
     "execution_count": 2,
     "metadata": {},
     "output_type": "execute_result"
    }
   ],
   "source": [
    "# data imported from https://www.kaggle.com/competitions/titanic/overview\n",
    "\n",
    "df = pd.read_csv(\"data/train.csv\")\n",
    "df.head()"
   ]
  },
  {
   "cell_type": "code",
   "execution_count": 3,
   "id": "dd3bcbdc",
   "metadata": {},
   "outputs": [],
   "source": [
    "df_original = df.copy()"
   ]
  },
  {
   "cell_type": "code",
   "execution_count": 4,
   "id": "1d0f9b43",
   "metadata": {
    "scrolled": true
   },
   "outputs": [
    {
     "name": "stdout",
     "output_type": "stream",
     "text": [
      "<class 'pandas.core.frame.DataFrame'>\n",
      "RangeIndex: 891 entries, 0 to 890\n",
      "Data columns (total 12 columns):\n",
      " #   Column       Non-Null Count  Dtype  \n",
      "---  ------       --------------  -----  \n",
      " 0   PassengerId  891 non-null    int64  \n",
      " 1   Survived     891 non-null    int64  \n",
      " 2   Pclass       891 non-null    int64  \n",
      " 3   Name         891 non-null    object \n",
      " 4   Sex          891 non-null    object \n",
      " 5   Age          714 non-null    float64\n",
      " 6   SibSp        891 non-null    int64  \n",
      " 7   Parch        891 non-null    int64  \n",
      " 8   Ticket       891 non-null    object \n",
      " 9   Fare         891 non-null    float64\n",
      " 10  Cabin        204 non-null    object \n",
      " 11  Embarked     889 non-null    object \n",
      "dtypes: float64(2), int64(5), object(5)\n",
      "memory usage: 83.7+ KB\n"
     ]
    }
   ],
   "source": [
    "# show information about variables\n",
    "df.info()"
   ]
  },
  {
   "cell_type": "code",
   "execution_count": 5,
   "id": "f90cf96d",
   "metadata": {},
   "outputs": [
    {
     "data": {
      "text/html": [
       "<div>\n",
       "<style scoped>\n",
       "    .dataframe tbody tr th:only-of-type {\n",
       "        vertical-align: middle;\n",
       "    }\n",
       "\n",
       "    .dataframe tbody tr th {\n",
       "        vertical-align: top;\n",
       "    }\n",
       "\n",
       "    .dataframe thead th {\n",
       "        text-align: right;\n",
       "    }\n",
       "</style>\n",
       "<table border=\"1\" class=\"dataframe\">\n",
       "  <thead>\n",
       "    <tr style=\"text-align: right;\">\n",
       "      <th></th>\n",
       "      <th>PassengerId</th>\n",
       "      <th>Survived</th>\n",
       "      <th>Pclass</th>\n",
       "      <th>Age</th>\n",
       "      <th>SibSp</th>\n",
       "      <th>Parch</th>\n",
       "      <th>Fare</th>\n",
       "    </tr>\n",
       "  </thead>\n",
       "  <tbody>\n",
       "    <tr>\n",
       "      <th>count</th>\n",
       "      <td>891.000000</td>\n",
       "      <td>891.000000</td>\n",
       "      <td>891.000000</td>\n",
       "      <td>714.000000</td>\n",
       "      <td>891.000000</td>\n",
       "      <td>891.000000</td>\n",
       "      <td>891.000000</td>\n",
       "    </tr>\n",
       "    <tr>\n",
       "      <th>mean</th>\n",
       "      <td>446.000000</td>\n",
       "      <td>0.383838</td>\n",
       "      <td>2.308642</td>\n",
       "      <td>29.699118</td>\n",
       "      <td>0.523008</td>\n",
       "      <td>0.381594</td>\n",
       "      <td>32.204208</td>\n",
       "    </tr>\n",
       "    <tr>\n",
       "      <th>std</th>\n",
       "      <td>257.353842</td>\n",
       "      <td>0.486592</td>\n",
       "      <td>0.836071</td>\n",
       "      <td>14.526497</td>\n",
       "      <td>1.102743</td>\n",
       "      <td>0.806057</td>\n",
       "      <td>49.693429</td>\n",
       "    </tr>\n",
       "    <tr>\n",
       "      <th>min</th>\n",
       "      <td>1.000000</td>\n",
       "      <td>0.000000</td>\n",
       "      <td>1.000000</td>\n",
       "      <td>0.420000</td>\n",
       "      <td>0.000000</td>\n",
       "      <td>0.000000</td>\n",
       "      <td>0.000000</td>\n",
       "    </tr>\n",
       "    <tr>\n",
       "      <th>25%</th>\n",
       "      <td>223.500000</td>\n",
       "      <td>0.000000</td>\n",
       "      <td>2.000000</td>\n",
       "      <td>20.125000</td>\n",
       "      <td>0.000000</td>\n",
       "      <td>0.000000</td>\n",
       "      <td>7.910400</td>\n",
       "    </tr>\n",
       "    <tr>\n",
       "      <th>50%</th>\n",
       "      <td>446.000000</td>\n",
       "      <td>0.000000</td>\n",
       "      <td>3.000000</td>\n",
       "      <td>28.000000</td>\n",
       "      <td>0.000000</td>\n",
       "      <td>0.000000</td>\n",
       "      <td>14.454200</td>\n",
       "    </tr>\n",
       "    <tr>\n",
       "      <th>75%</th>\n",
       "      <td>668.500000</td>\n",
       "      <td>1.000000</td>\n",
       "      <td>3.000000</td>\n",
       "      <td>38.000000</td>\n",
       "      <td>1.000000</td>\n",
       "      <td>0.000000</td>\n",
       "      <td>31.000000</td>\n",
       "    </tr>\n",
       "    <tr>\n",
       "      <th>max</th>\n",
       "      <td>891.000000</td>\n",
       "      <td>1.000000</td>\n",
       "      <td>3.000000</td>\n",
       "      <td>80.000000</td>\n",
       "      <td>8.000000</td>\n",
       "      <td>6.000000</td>\n",
       "      <td>512.329200</td>\n",
       "    </tr>\n",
       "  </tbody>\n",
       "</table>\n",
       "</div>"
      ],
      "text/plain": [
       "       PassengerId    Survived      Pclass         Age       SibSp  \\\n",
       "count   891.000000  891.000000  891.000000  714.000000  891.000000   \n",
       "mean    446.000000    0.383838    2.308642   29.699118    0.523008   \n",
       "std     257.353842    0.486592    0.836071   14.526497    1.102743   \n",
       "min       1.000000    0.000000    1.000000    0.420000    0.000000   \n",
       "25%     223.500000    0.000000    2.000000   20.125000    0.000000   \n",
       "50%     446.000000    0.000000    3.000000   28.000000    0.000000   \n",
       "75%     668.500000    1.000000    3.000000   38.000000    1.000000   \n",
       "max     891.000000    1.000000    3.000000   80.000000    8.000000   \n",
       "\n",
       "            Parch        Fare  \n",
       "count  891.000000  891.000000  \n",
       "mean     0.381594   32.204208  \n",
       "std      0.806057   49.693429  \n",
       "min      0.000000    0.000000  \n",
       "25%      0.000000    7.910400  \n",
       "50%      0.000000   14.454200  \n",
       "75%      0.000000   31.000000  \n",
       "max      6.000000  512.329200  "
      ]
     },
     "execution_count": 5,
     "metadata": {},
     "output_type": "execute_result"
    }
   ],
   "source": [
    "df.describe()"
   ]
  },
  {
   "cell_type": "markdown",
   "id": "56c53dba",
   "metadata": {},
   "source": [
    "## Exploratory Data Analysis\n",
    "\n",
    "- Plots to identify distributions\n",
    "- check for NaNs\n",
    "- Correlations\n",
    "- we drop some variables, some are transformed and we get some new features"
   ]
  },
  {
   "cell_type": "markdown",
   "id": "d215878c",
   "metadata": {},
   "source": [
    "#### PassengerId\n",
    "We drop the variable 'PassengerId' since it is just a index column and therefore does not give us any information about the survival of a passenger."
   ]
  },
  {
   "cell_type": "code",
   "execution_count": 6,
   "id": "75cb0a8a",
   "metadata": {},
   "outputs": [],
   "source": [
    "# PassengerId is a index column --> drop this variable\n",
    "df.drop(\"PassengerId\", inplace=True, axis=1)"
   ]
  },
  {
   "cell_type": "markdown",
   "id": "dc2a6c68",
   "metadata": {},
   "source": [
    "#### Pclass\n",
    "The numerical variable 'Pclass' indicates the ticket class and has values 1,2, and 3. Since it cannot take any other values,  we convert it to a categorical variable.  \n",
    "Then we have a look at the distribution of 'Pclass'. We don't have any missing values."
   ]
  },
  {
   "cell_type": "code",
   "execution_count": 7,
   "id": "3ef7f95b",
   "metadata": {
    "scrolled": false
   },
   "outputs": [
    {
     "name": "stdout",
     "output_type": "stream",
     "text": [
      "Pclass\n",
      "1    216\n",
      "2    184\n",
      "3    491\n",
      "dtype: int64\n"
     ]
    },
    {
     "data": {
      "text/plain": [
       "<AxesSubplot: >"
      ]
     },
     "execution_count": 7,
     "metadata": {},
     "output_type": "execute_result"
    },
    {
     "data": {
      "image/png": "[encoded data removed]",
      "text/plain": [
       "<Figure size 640x480 with 1 Axes>"
      ]
     },
     "metadata": {},
     "output_type": "display_data"
    }
   ],
   "source": [
    "# change datatype from integer to object\n",
    "df['Pclass'] = df['Pclass'].astype(object)\n",
    "\n",
    "# distribution\n",
    "print(df.groupby('Pclass').size())\n",
    "df['Pclass'].value_counts().plot(kind='bar')"
   ]
  },
  {
   "cell_type": "markdown",
   "id": "e5d97fda",
   "metadata": {},
   "source": [
    "#### Name\n",
    "We extract the title of the passengers from the 'Name' column, map them to different integers and store them in the new column 'Title'. Then we drop the column 'Name'."
   ]
  },
  {
   "cell_type": "code",
   "execution_count": 8,
   "id": "8f7954f2",
   "metadata": {
    "scrolled": true
   },
   "outputs": [
    {
     "name": "stderr",
     "output_type": "stream",
     "text": [
      "C:\\Users\\kikip\\AppData\\Local\\Temp\\ipykernel_9952\\2392178955.py:16: SettingWithCopyWarning: \n",
      "A value is trying to be set on a copy of a slice from a DataFrame\n",
      "\n",
      "See the caveats in the documentation: https://pandas.pydata.org/pandas-docs/stable/user_guide/indexing.html#returning-a-view-versus-a-copy\n",
      "  df[\"Title\"][idx] = title_mapping[s]\n"
     ]
    }
   ],
   "source": [
    "# retrieve title and create new column, drop name column\n",
    "\n",
    "title_mapping = {\n",
    "    \"Mr\": 'Mr',\n",
    "    \"Miss\": 'Ms', \"Mlle\": 'Ms', \"Ms\": 'Ms',\n",
    "    \"Mrs\": 'Mrs', \"Mme\": 'Mrs',\n",
    "    \"Master\": 'Master',\n",
    "    \"Don\": 'Noble', \"Rev\": 'Noble', \"Dr\": 'Noble', \"Major\": 'Noble', \"Lady\": 'Noble', \"Sir\": 'Noble', \"Col\": 'Noble', \"Capt\": 'Noble', \"the Countess\": 'Noble', \"Jonkheer\": 'Noble'\n",
    "}\n",
    "\n",
    "df[\"Title\"] = 'None'\n",
    "for idx, x in enumerate(df[\"Name\"]):\n",
    "    for s in x.split(\" \"):\n",
    "        s = s.replace(\".\", \"\")\n",
    "        if s in title_mapping.keys():\n",
    "            df[\"Title\"][idx] = title_mapping[s]\n",
    "\n",
    "# there is one female passenger without a title --> we assign 'Ms' as her title\n",
    "df.loc[df['Title'] == \"None\", 'Title'] = 'Ms'\n",
    "\n",
    "# drop the name column\n",
    "df.drop(\"Name\", inplace=True, axis=1)"
   ]
  },
  {
   "cell_type": "code",
   "execution_count": 9,
   "id": "6d6dc64d",
   "metadata": {},
   "outputs": [
    {
     "data": {
      "text/plain": [
       "<AxesSubplot: >"
      ]
     },
     "execution_count": 9,
     "metadata": {},
     "output_type": "execute_result"
    },
    {
     "data": {
      "image/png": "[encoded data removed]",
      "text/plain": [
       "<Figure size 640x480 with 1 Axes>"
      ]
     },
     "metadata": {},
     "output_type": "display_data"
    }
   ],
   "source": [
    "df['Title'].value_counts().plot(kind='bar')"
   ]
  },
  {
   "cell_type": "markdown",
   "id": "0e4c2023",
   "metadata": {},
   "source": [
    "#### Sex\n",
    "We have a look at the distribution of 'Sex'. There are a lot more male than female passengers in our dataset."
   ]
  },
  {
   "cell_type": "code",
   "execution_count": 10,
   "id": "19c311eb",
   "metadata": {},
   "outputs": [
    {
     "name": "stdout",
     "output_type": "stream",
     "text": [
      "Sex\n",
      "female    314\n",
      "male      577\n",
      "dtype: int64\n"
     ]
    },
    {
     "data": {
      "text/plain": [
       "<AxesSubplot: >"
      ]
     },
     "execution_count": 10,
     "metadata": {},
     "output_type": "execute_result"
    },
    {
     "data": {
      "image/png": "[encoded data removed]",
      "text/plain": [
       "<Figure size 640x480 with 1 Axes>"
      ]
     },
     "metadata": {},
     "output_type": "display_data"
    }
   ],
   "source": [
    "# plot the numbers of female and male passengers\n",
    "print(df.groupby('Sex').size())\n",
    "df[\"Sex\"].value_counts().plot(kind = \"bar\")"
   ]
  },
  {
   "cell_type": "markdown",
   "id": "502fb1d4",
   "metadata": {},
   "source": [
    "#### Age\n",
    "- The age is fractional if less than 1. We transform those ages to 0.  \n",
    "- If the age is estimated, it is in the form of xx.5 --> We build a new column 'Age_true' which indicates if the age is true or estimated. Then we transform the estimated ages in the form of xx.5 into the form xx (that is we remove the fractional)  \n",
    "- There are 177 passengers without any information about their age. --> We estimate their ages as follows and consider there ages to be estimated.  \n",
    "- We bin the ages: We form a new column 'AgeGroup' where the passengers are assigned to different groups according to their age. Those groups are: Kids (0-11), Teenagers (12-17), Young Adults (18-24), Adults (25-34), Middle-aged (35-49), Seniors (49+). We chose that split such that the passengers are distributed equally (more or less) about the different age groups."
   ]
  },
  {
   "cell_type": "code",
   "execution_count": 11,
   "id": "64a7b3d0",
   "metadata": {},
   "outputs": [
    {
     "data": {
      "text/plain": [
       "177"
      ]
     },
     "execution_count": 11,
     "metadata": {},
     "output_type": "execute_result"
    }
   ],
   "source": [
    "# check for NaNs\n",
    "len(df[df.Age.isna()])"
   ]
  },
  {
   "cell_type": "code",
   "execution_count": 12,
   "id": "b7e46e56",
   "metadata": {},
   "outputs": [
    {
     "data": {
      "text/plain": [
       "195"
      ]
     },
     "execution_count": 12,
     "metadata": {},
     "output_type": "execute_result"
    }
   ],
   "source": [
    "# new column 'Age_true' (False if age not known or estimated)\n",
    "df['Age_true'] = True\n",
    "df.loc[((df['Age'] % 1 != 0) & (df['Age'] >= 1)) | (df['Age'].isna()), 'Age_true'] = False\n",
    "len(df[df.Age_true == False])"
   ]
  },
  {
   "cell_type": "code",
   "execution_count": 13,
   "id": "a4d0cbe9",
   "metadata": {},
   "outputs": [],
   "source": [
    "# if age<1, transform to age=0 AND if age estimated, use estimated age as true age (remove fractional)\n",
    "df['Age'] = df['Age'] - df['Age']%1"
   ]
  },
  {
   "cell_type": "code",
   "execution_count": 14,
   "id": "d1c47fd8",
   "metadata": {},
   "outputs": [],
   "source": [
    "# replace NaNs: we use the mean age according to the column 'Title' - Option 1\n",
    "\n",
    "df['Age_Opt2'] = df['Age'] #if we want to apply Option 2\n",
    "\n",
    "# Option 1: replacing by an exact age\n",
    "# for each category in 'Title', find the mean age, then assign this mean to the passengers without age\n",
    "mean_ages = df.groupby('Title')['Age'].agg(np.mean).round()\n",
    "df.loc[df['Age'].isna(), 'Age'] = df.apply(lambda x: mean_ages[x['Title']], axis=1)\n",
    "\n",
    "# we assign the age groups afterwards\n",
    "#age_bins = [-1, 11, 17, 29, 49, 64]\n",
    "age_bins = [-1, 11, 17, 24, 34, 49]\n",
    "age_groups = [\"Kids\", \"Teenagers\", \"Young Adults\", \"Adults\", \"Middle-aged\", \"Seniors\"]\n",
    "\n",
    "for i in range(len(age_groups) - 1):\n",
    "    df.loc[(df[\"Age\"] > age_bins[i]) & (df[\"Age\"] <= age_bins[i+1]), \"AgeGroup\"] = age_groups[i]\n",
    "df.loc[df[\"Age\"] > age_bins[len(age_groups) - 1], \"AgeGroup\"] = age_groups[len(age_groups) - 1]"
   ]
  },
  {
   "cell_type": "code",
   "execution_count": 15,
   "id": "01f096a4",
   "metadata": {},
   "outputs": [],
   "source": [
    "# replace NaNs: we use the mean age according to the column 'Title' - Option 2\n",
    "\n",
    "# we first assign the age groups, then we replace the NaNs\n",
    "age_bins = [-1, 11, 17, 24, 34, 49]\n",
    "age_groups = [\"Kids\", \"Teenagers\", \"Young Adults\", \"Adults\", \"Middle-aged\", \"Seniors\"]\n",
    "\n",
    "for i in range(len(age_groups) - 1):\n",
    "    df.loc[(df[\"Age_Opt2\"] > age_bins[i]) & (df[\"Age_Opt2\"] <= age_bins[i+1]), \"AgeGroup_Opt2\"] = age_groups[i]\n",
    "df.loc[df[\"Age_Opt2\"] > age_bins[len(age_groups) - 1], \"AgeGroup_Opt2\"] = age_groups[len(age_groups) - 1]\n",
    "\n",
    "# Option 2: replacing by an age group\n",
    "# for each category in 'Title', find the age group that is represented most often, then assign this group to the passenger\n",
    "mean_agegroups = df.groupby('Title')['AgeGroup_Opt2'].agg(pd.Series.mode)\n",
    "df.loc[df['AgeGroup_Opt2'].isna(), 'AgeGroup_Opt2'] = df.apply(lambda x: mean_agegroups[x['Title']], axis=1)"
   ]
  },
  {
   "cell_type": "code",
   "execution_count": 16,
   "id": "41dfdae7",
   "metadata": {},
   "outputs": [
    {
     "name": "stdout",
     "output_type": "stream",
     "text": [
      "Reminder: The plots for Age_Opt2 (second and sixth plot) do not contain the replaced ages (NaNs are just left out)\n"
     ]
    },
    {
     "data": {
      "image/png": "[encoded data removed]",
      "text/plain": [
       "<Figure size 1000x1000 with 6 Axes>"
      ]
     },
     "metadata": {},
     "output_type": "display_data"
    }
   ],
   "source": [
    "# plot 'Age' and 'AgeGroup' (also for Option 2)\n",
    "\n",
    "# define a figure with sub plots so we can compare different histograms\n",
    "# the parameters are: number of rows, number of columns, share the y-axis, and the size of the figure\n",
    "fig, axs = plt.subplots(3, 2, sharey=False, figsize=(10,10))\n",
    "\n",
    "# plot a histogram of column 'Age'\n",
    "axs[0][0].hist(df['Age'])\n",
    "# plot a histogram of column 'Age_Opt2' (contains NaNs)\n",
    "axs[0][1].hist(df['Age_Opt2'])\n",
    "# plot a barplot of column 'AgeGroup'\n",
    "axs[1][0].bar(df['AgeGroup'].unique(), df[\"AgeGroup\"].value_counts(sort=False))\n",
    "# plot a barplot of column 'AgeGroup_Opt2'\n",
    "axs[1][1].bar(df['AgeGroup_Opt2'].unique(), df[\"AgeGroup_Opt2\"].value_counts(sort=False))\n",
    "# plot a boxplot of column 'Age'\n",
    "axs[2][0].boxplot(df['Age'])\n",
    "# plot a boxplot of column 'Age_Opt2' (remove NaNs)\n",
    "axs[2][1].boxplot(df[df['Age_Opt2'].isna() == False]['Age_Opt2'])\n",
    "\n",
    "# use this call to prevent the subplots from overlapping\n",
    "plt.tight_layout()\n",
    "# print reminder\n",
    "print(\"Reminder: The plots for Age_Opt2 (second and sixth plot) do not contain the replaced ages (NaNs are just left out)\")\n",
    "# show the figure\n",
    "plt.show()\n",
    "\n",
    "# plot without matplotlib\n",
    "#df[\"AgeGroup\"].value_counts().plot(kind = \"bar\")"
   ]
  },
  {
   "cell_type": "markdown",
   "id": "6b8d0388",
   "metadata": {},
   "source": [
    "#### SibSp & Parch\n",
    "We plot 'SibSp' and 'Parch'.  \n",
    "We build a new column 'Familysize' adding 'SibSp' and 'Parch'.  \n",
    "We will compute the correlations later to check which of the three columns we should keep and which we should drop.\n",
    "Reminder: If Parch=0, this can also mean that the children traveled with a nanny."
   ]
  },
  {
   "cell_type": "code",
   "execution_count": 17,
   "id": "02350d87",
   "metadata": {},
   "outputs": [],
   "source": [
    "# familze size is simplified by adding siblings and parents\n",
    "df['Familysize'] = df['SibSp'] + df['Parch']\n",
    "df['Familysize'] = df['Familysize'].astype(int)"
   ]
  },
  {
   "cell_type": "code",
   "execution_count": 18,
   "id": "481ee015",
   "metadata": {
    "scrolled": false
   },
   "outputs": [
    {
     "data": {
      "image/png": "[encoded data removed]",
      "text/plain": [
       "<Figure size 1000x800 with 4 Axes>"
      ]
     },
     "metadata": {},
     "output_type": "display_data"
    }
   ],
   "source": [
    "fig, axs = plt.subplots(2, 2, sharey=False, figsize=(10,8))\n",
    "\n",
    "# plot a histogram of column 'SibSp'\n",
    "axs[0][0].hist(df['SibSp'], bins=df['SibSp'].max()-1)\n",
    "# plot a histogram of column 'Parch'\n",
    "axs[0][1].hist(df['Parch'], bins=df['Parch'].max()-1)\n",
    "# plot both histograms in one plot\n",
    "axs[1][0].hist(df['SibSp'])\n",
    "axs[1][0].hist(df['Parch'])\n",
    "# plot a histogram of colum 'Familysize'\n",
    "axs[1][1].hist(df['Familysize'], bins=df['Familysize'].max()-1)\n",
    "\n",
    "plt.tight_layout()\n",
    "plt.show()"
   ]
  },
  {
   "cell_type": "code",
   "execution_count": 19,
   "id": "a47f1bd2",
   "metadata": {},
   "outputs": [
    {
     "data": {
      "text/plain": [
       "354"
      ]
     },
     "execution_count": 19,
     "metadata": {},
     "output_type": "execute_result"
    }
   ],
   "source": [
    "# check how many passengers have 'Familysize'>0\n",
    "len(df[df['Familysize'] > 0])"
   ]
  },
  {
   "cell_type": "markdown",
   "id": "8e8ff8be",
   "metadata": {},
   "source": [
    "#### Ticket\n",
    "\n",
    "We add a column 'Ticketsize' which indicates how many people have the same ticket. We consider these passengers as travel companions. Then we drop the column 'Ticket'.  \n",
    "There are 4 passengers with the ticket \"LINE\". Those ones are not considered as traveling together and therefore get Ticketsize=1.  \n",
    "We also check if the Ticketsize matches with the Familysize."
   ]
  },
  {
   "cell_type": "code",
   "execution_count": 20,
   "id": "87a823f5",
   "metadata": {},
   "outputs": [
    {
     "data": {
      "text/html": [
       "<div>\n",
       "<style scoped>\n",
       "    .dataframe tbody tr th:only-of-type {\n",
       "        vertical-align: middle;\n",
       "    }\n",
       "\n",
       "    .dataframe tbody tr th {\n",
       "        vertical-align: top;\n",
       "    }\n",
       "\n",
       "    .dataframe thead th {\n",
       "        text-align: right;\n",
       "    }\n",
       "</style>\n",
       "<table border=\"1\" class=\"dataframe\">\n",
       "  <thead>\n",
       "    <tr style=\"text-align: right;\">\n",
       "      <th></th>\n",
       "      <th>Survived</th>\n",
       "      <th>Pclass</th>\n",
       "      <th>Sex</th>\n",
       "      <th>Age</th>\n",
       "      <th>SibSp</th>\n",
       "      <th>Parch</th>\n",
       "      <th>Ticket</th>\n",
       "      <th>Fare</th>\n",
       "      <th>Cabin</th>\n",
       "      <th>Embarked</th>\n",
       "      <th>Title</th>\n",
       "      <th>Age_true</th>\n",
       "      <th>Age_Opt2</th>\n",
       "      <th>AgeGroup</th>\n",
       "      <th>AgeGroup_Opt2</th>\n",
       "      <th>Familysize</th>\n",
       "    </tr>\n",
       "  </thead>\n",
       "  <tbody>\n",
       "    <tr>\n",
       "      <th>179</th>\n",
       "      <td>0</td>\n",
       "      <td>3</td>\n",
       "      <td>male</td>\n",
       "      <td>36.0</td>\n",
       "      <td>0</td>\n",
       "      <td>0</td>\n",
       "      <td>LINE</td>\n",
       "      <td>0.0</td>\n",
       "      <td>NaN</td>\n",
       "      <td>S</td>\n",
       "      <td>Mr</td>\n",
       "      <td>True</td>\n",
       "      <td>36.0</td>\n",
       "      <td>Middle-aged</td>\n",
       "      <td>Middle-aged</td>\n",
       "      <td>0</td>\n",
       "    </tr>\n",
       "    <tr>\n",
       "      <th>271</th>\n",
       "      <td>1</td>\n",
       "      <td>3</td>\n",
       "      <td>male</td>\n",
       "      <td>25.0</td>\n",
       "      <td>0</td>\n",
       "      <td>0</td>\n",
       "      <td>LINE</td>\n",
       "      <td>0.0</td>\n",
       "      <td>NaN</td>\n",
       "      <td>S</td>\n",
       "      <td>Mr</td>\n",
       "      <td>True</td>\n",
       "      <td>25.0</td>\n",
       "      <td>Adults</td>\n",
       "      <td>Adults</td>\n",
       "      <td>0</td>\n",
       "    </tr>\n",
       "    <tr>\n",
       "      <th>302</th>\n",
       "      <td>0</td>\n",
       "      <td>3</td>\n",
       "      <td>male</td>\n",
       "      <td>19.0</td>\n",
       "      <td>0</td>\n",
       "      <td>0</td>\n",
       "      <td>LINE</td>\n",
       "      <td>0.0</td>\n",
       "      <td>NaN</td>\n",
       "      <td>S</td>\n",
       "      <td>Mr</td>\n",
       "      <td>True</td>\n",
       "      <td>19.0</td>\n",
       "      <td>Young Adults</td>\n",
       "      <td>Young Adults</td>\n",
       "      <td>0</td>\n",
       "    </tr>\n",
       "    <tr>\n",
       "      <th>597</th>\n",
       "      <td>0</td>\n",
       "      <td>3</td>\n",
       "      <td>male</td>\n",
       "      <td>49.0</td>\n",
       "      <td>0</td>\n",
       "      <td>0</td>\n",
       "      <td>LINE</td>\n",
       "      <td>0.0</td>\n",
       "      <td>NaN</td>\n",
       "      <td>S</td>\n",
       "      <td>Mr</td>\n",
       "      <td>True</td>\n",
       "      <td>49.0</td>\n",
       "      <td>Middle-aged</td>\n",
       "      <td>Middle-aged</td>\n",
       "      <td>0</td>\n",
       "    </tr>\n",
       "  </tbody>\n",
       "</table>\n",
       "</div>"
      ],
      "text/plain": [
       "     Survived Pclass   Sex   Age  SibSp  Parch Ticket  Fare Cabin Embarked  \\\n",
       "179         0      3  male  36.0      0      0   LINE   0.0   NaN        S   \n",
       "271         1      3  male  25.0      0      0   LINE   0.0   NaN        S   \n",
       "302         0      3  male  19.0      0      0   LINE   0.0   NaN        S   \n",
       "597         0      3  male  49.0      0      0   LINE   0.0   NaN        S   \n",
       "\n",
       "    Title  Age_true  Age_Opt2      AgeGroup AgeGroup_Opt2  Familysize  \n",
       "179    Mr      True      36.0   Middle-aged   Middle-aged           0  \n",
       "271    Mr      True      25.0        Adults        Adults           0  \n",
       "302    Mr      True      19.0  Young Adults  Young Adults           0  \n",
       "597    Mr      True      49.0   Middle-aged   Middle-aged           0  "
      ]
     },
     "execution_count": 20,
     "metadata": {},
     "output_type": "execute_result"
    }
   ],
   "source": [
    "# there are 4 passengers with Ticket==\"LINE\"\n",
    "df[df['Ticket'] == \"LINE\"]"
   ]
  },
  {
   "cell_type": "code",
   "execution_count": 21,
   "id": "62b0ecd9",
   "metadata": {
    "scrolled": true
   },
   "outputs": [],
   "source": [
    "# we add a column 'Ticketsize' which indicates how many people are assigned to the respective ticket\n",
    "# we assume that people who have the same ticket, travel together\n",
    "ticket_grouped = df.groupby('Ticket')\n",
    "df['Ticketsize'] = 1\n",
    "\n",
    "for ticket, group in ticket_grouped:\n",
    "    if len(group) > 1:\n",
    "        df.loc[df['Ticket'] == ticket, 'Ticketsize'] = len(group)\n",
    "df.loc[df['Ticket'] == \"LINE\", 'Ticketsize'] = 1\n",
    "\n",
    "# we don't drop the column 'Ticket' yet but wait until we finished our analysis on 'Fare'\n",
    "#df.drop(\"Ticket\", inplace=True, axis=1)"
   ]
  },
  {
   "cell_type": "code",
   "execution_count": 22,
   "id": "64cd19ce",
   "metadata": {
    "scrolled": false
   },
   "outputs": [
    {
     "data": {
      "text/plain": [
       "(array([551., 188.,  63.,  40.,  10.,  39.]),\n",
       " array([1., 2., 3., 4., 5., 6., 7.]),\n",
       " <BarContainer object of 6 artists>)"
      ]
     },
     "execution_count": 22,
     "metadata": {},
     "output_type": "execute_result"
    },
    {
     "data": {
      "image/png": "[encoded data removed]",
      "text/plain": [
       "<Figure size 640x480 with 1 Axes>"
      ]
     },
     "metadata": {},
     "output_type": "display_data"
    }
   ],
   "source": [
    "plt.hist(df['Ticketsize'], bins=df['Ticketsize'].max()-1)"
   ]
  },
  {
   "cell_type": "code",
   "execution_count": 23,
   "id": "e8b8cc33",
   "metadata": {},
   "outputs": [
    {
     "data": {
      "text/plain": [
       "284"
      ]
     },
     "execution_count": 23,
     "metadata": {},
     "output_type": "execute_result"
    }
   ],
   "source": [
    "# compare 'Ticketsize' and 'Familysize'\n",
    "df['SizeDiff'] = (df['Familysize'] == (df['Ticketsize'] - 1))\n",
    "len(df[df['SizeDiff'] == False])\n",
    "# Familysize and Ticketsize-1 are not equal for 284 passengers"
   ]
  },
  {
   "cell_type": "code",
   "execution_count": 24,
   "id": "3ad3bf4e",
   "metadata": {},
   "outputs": [],
   "source": [
    "# we drop column 'SizeDiff' since it only was for analyzing purposes and we don't need it for our prediction\n",
    "df.drop(\"SizeDiff\", inplace=True, axis=1)"
   ]
  },
  {
   "cell_type": "markdown",
   "id": "7b44a1ad",
   "metadata": {},
   "source": [
    "#### Fare\n",
    "We plot the distribution of 'Fare' (histogram and boxplot).  \n",
    "We check if it's useful to group the fares together in order to deal with extremely high fares.  \n",
    "There are 15 passengers that have Fare==0. For passengers with ticket \"LINE\", we keep Fare=0. For the other passengers we replace the value by the mean of the corresponding 'Pclass'."
   ]
  },
  {
   "cell_type": "code",
   "execution_count": 25,
   "id": "8f67e865",
   "metadata": {},
   "outputs": [
    {
     "data": {
      "text/html": [
       "<div>\n",
       "<style scoped>\n",
       "    .dataframe tbody tr th:only-of-type {\n",
       "        vertical-align: middle;\n",
       "    }\n",
       "\n",
       "    .dataframe tbody tr th {\n",
       "        vertical-align: top;\n",
       "    }\n",
       "\n",
       "    .dataframe thead th {\n",
       "        text-align: right;\n",
       "    }\n",
       "</style>\n",
       "<table border=\"1\" class=\"dataframe\">\n",
       "  <thead>\n",
       "    <tr style=\"text-align: right;\">\n",
       "      <th></th>\n",
       "      <th>Survived</th>\n",
       "      <th>Pclass</th>\n",
       "      <th>Sex</th>\n",
       "      <th>Age</th>\n",
       "      <th>SibSp</th>\n",
       "      <th>Parch</th>\n",
       "      <th>Ticket</th>\n",
       "      <th>Fare</th>\n",
       "      <th>Cabin</th>\n",
       "      <th>Embarked</th>\n",
       "      <th>Title</th>\n",
       "      <th>Age_true</th>\n",
       "      <th>Age_Opt2</th>\n",
       "      <th>AgeGroup</th>\n",
       "      <th>AgeGroup_Opt2</th>\n",
       "      <th>Familysize</th>\n",
       "      <th>Ticketsize</th>\n",
       "    </tr>\n",
       "  </thead>\n",
       "  <tbody>\n",
       "    <tr>\n",
       "      <th>179</th>\n",
       "      <td>0</td>\n",
       "      <td>3</td>\n",
       "      <td>male</td>\n",
       "      <td>36.0</td>\n",
       "      <td>0</td>\n",
       "      <td>0</td>\n",
       "      <td>LINE</td>\n",
       "      <td>0.0</td>\n",
       "      <td>NaN</td>\n",
       "      <td>S</td>\n",
       "      <td>Mr</td>\n",
       "      <td>True</td>\n",
       "      <td>36.0</td>\n",
       "      <td>Middle-aged</td>\n",
       "      <td>Middle-aged</td>\n",
       "      <td>0</td>\n",
       "      <td>1</td>\n",
       "    </tr>\n",
       "    <tr>\n",
       "      <th>263</th>\n",
       "      <td>0</td>\n",
       "      <td>1</td>\n",
       "      <td>male</td>\n",
       "      <td>40.0</td>\n",
       "      <td>0</td>\n",
       "      <td>0</td>\n",
       "      <td>112059</td>\n",
       "      <td>0.0</td>\n",
       "      <td>B94</td>\n",
       "      <td>S</td>\n",
       "      <td>Mr</td>\n",
       "      <td>True</td>\n",
       "      <td>40.0</td>\n",
       "      <td>Middle-aged</td>\n",
       "      <td>Middle-aged</td>\n",
       "      <td>0</td>\n",
       "      <td>1</td>\n",
       "    </tr>\n",
       "    <tr>\n",
       "      <th>271</th>\n",
       "      <td>1</td>\n",
       "      <td>3</td>\n",
       "      <td>male</td>\n",
       "      <td>25.0</td>\n",
       "      <td>0</td>\n",
       "      <td>0</td>\n",
       "      <td>LINE</td>\n",
       "      <td>0.0</td>\n",
       "      <td>NaN</td>\n",
       "      <td>S</td>\n",
       "      <td>Mr</td>\n",
       "      <td>True</td>\n",
       "      <td>25.0</td>\n",
       "      <td>Adults</td>\n",
       "      <td>Adults</td>\n",
       "      <td>0</td>\n",
       "      <td>1</td>\n",
       "    </tr>\n",
       "    <tr>\n",
       "      <th>277</th>\n",
       "      <td>0</td>\n",
       "      <td>2</td>\n",
       "      <td>male</td>\n",
       "      <td>32.0</td>\n",
       "      <td>0</td>\n",
       "      <td>0</td>\n",
       "      <td>239853</td>\n",
       "      <td>0.0</td>\n",
       "      <td>NaN</td>\n",
       "      <td>S</td>\n",
       "      <td>Mr</td>\n",
       "      <td>False</td>\n",
       "      <td>NaN</td>\n",
       "      <td>Adults</td>\n",
       "      <td>Adults</td>\n",
       "      <td>0</td>\n",
       "      <td>3</td>\n",
       "    </tr>\n",
       "    <tr>\n",
       "      <th>302</th>\n",
       "      <td>0</td>\n",
       "      <td>3</td>\n",
       "      <td>male</td>\n",
       "      <td>19.0</td>\n",
       "      <td>0</td>\n",
       "      <td>0</td>\n",
       "      <td>LINE</td>\n",
       "      <td>0.0</td>\n",
       "      <td>NaN</td>\n",
       "      <td>S</td>\n",
       "      <td>Mr</td>\n",
       "      <td>True</td>\n",
       "      <td>19.0</td>\n",
       "      <td>Young Adults</td>\n",
       "      <td>Young Adults</td>\n",
       "      <td>0</td>\n",
       "      <td>1</td>\n",
       "    </tr>\n",
       "    <tr>\n",
       "      <th>413</th>\n",
       "      <td>0</td>\n",
       "      <td>2</td>\n",
       "      <td>male</td>\n",
       "      <td>32.0</td>\n",
       "      <td>0</td>\n",
       "      <td>0</td>\n",
       "      <td>239853</td>\n",
       "      <td>0.0</td>\n",
       "      <td>NaN</td>\n",
       "      <td>S</td>\n",
       "      <td>Mr</td>\n",
       "      <td>False</td>\n",
       "      <td>NaN</td>\n",
       "      <td>Adults</td>\n",
       "      <td>Adults</td>\n",
       "      <td>0</td>\n",
       "      <td>3</td>\n",
       "    </tr>\n",
       "    <tr>\n",
       "      <th>466</th>\n",
       "      <td>0</td>\n",
       "      <td>2</td>\n",
       "      <td>male</td>\n",
       "      <td>32.0</td>\n",
       "      <td>0</td>\n",
       "      <td>0</td>\n",
       "      <td>239853</td>\n",
       "      <td>0.0</td>\n",
       "      <td>NaN</td>\n",
       "      <td>S</td>\n",
       "      <td>Mr</td>\n",
       "      <td>False</td>\n",
       "      <td>NaN</td>\n",
       "      <td>Adults</td>\n",
       "      <td>Adults</td>\n",
       "      <td>0</td>\n",
       "      <td>3</td>\n",
       "    </tr>\n",
       "    <tr>\n",
       "      <th>481</th>\n",
       "      <td>0</td>\n",
       "      <td>2</td>\n",
       "      <td>male</td>\n",
       "      <td>32.0</td>\n",
       "      <td>0</td>\n",
       "      <td>0</td>\n",
       "      <td>239854</td>\n",
       "      <td>0.0</td>\n",
       "      <td>NaN</td>\n",
       "      <td>S</td>\n",
       "      <td>Mr</td>\n",
       "      <td>False</td>\n",
       "      <td>NaN</td>\n",
       "      <td>Adults</td>\n",
       "      <td>Adults</td>\n",
       "      <td>0</td>\n",
       "      <td>1</td>\n",
       "    </tr>\n",
       "    <tr>\n",
       "      <th>597</th>\n",
       "      <td>0</td>\n",
       "      <td>3</td>\n",
       "      <td>male</td>\n",
       "      <td>49.0</td>\n",
       "      <td>0</td>\n",
       "      <td>0</td>\n",
       "      <td>LINE</td>\n",
       "      <td>0.0</td>\n",
       "      <td>NaN</td>\n",
       "      <td>S</td>\n",
       "      <td>Mr</td>\n",
       "      <td>True</td>\n",
       "      <td>49.0</td>\n",
       "      <td>Middle-aged</td>\n",
       "      <td>Middle-aged</td>\n",
       "      <td>0</td>\n",
       "      <td>1</td>\n",
       "    </tr>\n",
       "    <tr>\n",
       "      <th>633</th>\n",
       "      <td>0</td>\n",
       "      <td>1</td>\n",
       "      <td>male</td>\n",
       "      <td>32.0</td>\n",
       "      <td>0</td>\n",
       "      <td>0</td>\n",
       "      <td>112052</td>\n",
       "      <td>0.0</td>\n",
       "      <td>NaN</td>\n",
       "      <td>S</td>\n",
       "      <td>Mr</td>\n",
       "      <td>False</td>\n",
       "      <td>NaN</td>\n",
       "      <td>Adults</td>\n",
       "      <td>Adults</td>\n",
       "      <td>0</td>\n",
       "      <td>1</td>\n",
       "    </tr>\n",
       "    <tr>\n",
       "      <th>674</th>\n",
       "      <td>0</td>\n",
       "      <td>2</td>\n",
       "      <td>male</td>\n",
       "      <td>32.0</td>\n",
       "      <td>0</td>\n",
       "      <td>0</td>\n",
       "      <td>239856</td>\n",
       "      <td>0.0</td>\n",
       "      <td>NaN</td>\n",
       "      <td>S</td>\n",
       "      <td>Mr</td>\n",
       "      <td>False</td>\n",
       "      <td>NaN</td>\n",
       "      <td>Adults</td>\n",
       "      <td>Adults</td>\n",
       "      <td>0</td>\n",
       "      <td>1</td>\n",
       "    </tr>\n",
       "    <tr>\n",
       "      <th>732</th>\n",
       "      <td>0</td>\n",
       "      <td>2</td>\n",
       "      <td>male</td>\n",
       "      <td>32.0</td>\n",
       "      <td>0</td>\n",
       "      <td>0</td>\n",
       "      <td>239855</td>\n",
       "      <td>0.0</td>\n",
       "      <td>NaN</td>\n",
       "      <td>S</td>\n",
       "      <td>Mr</td>\n",
       "      <td>False</td>\n",
       "      <td>NaN</td>\n",
       "      <td>Adults</td>\n",
       "      <td>Adults</td>\n",
       "      <td>0</td>\n",
       "      <td>1</td>\n",
       "    </tr>\n",
       "    <tr>\n",
       "      <th>806</th>\n",
       "      <td>0</td>\n",
       "      <td>1</td>\n",
       "      <td>male</td>\n",
       "      <td>39.0</td>\n",
       "      <td>0</td>\n",
       "      <td>0</td>\n",
       "      <td>112050</td>\n",
       "      <td>0.0</td>\n",
       "      <td>A36</td>\n",
       "      <td>S</td>\n",
       "      <td>Mr</td>\n",
       "      <td>True</td>\n",
       "      <td>39.0</td>\n",
       "      <td>Middle-aged</td>\n",
       "      <td>Middle-aged</td>\n",
       "      <td>0</td>\n",
       "      <td>1</td>\n",
       "    </tr>\n",
       "    <tr>\n",
       "      <th>815</th>\n",
       "      <td>0</td>\n",
       "      <td>1</td>\n",
       "      <td>male</td>\n",
       "      <td>32.0</td>\n",
       "      <td>0</td>\n",
       "      <td>0</td>\n",
       "      <td>112058</td>\n",
       "      <td>0.0</td>\n",
       "      <td>B102</td>\n",
       "      <td>S</td>\n",
       "      <td>Mr</td>\n",
       "      <td>False</td>\n",
       "      <td>NaN</td>\n",
       "      <td>Adults</td>\n",
       "      <td>Adults</td>\n",
       "      <td>0</td>\n",
       "      <td>1</td>\n",
       "    </tr>\n",
       "    <tr>\n",
       "      <th>822</th>\n",
       "      <td>0</td>\n",
       "      <td>1</td>\n",
       "      <td>male</td>\n",
       "      <td>38.0</td>\n",
       "      <td>0</td>\n",
       "      <td>0</td>\n",
       "      <td>19972</td>\n",
       "      <td>0.0</td>\n",
       "      <td>NaN</td>\n",
       "      <td>S</td>\n",
       "      <td>Noble</td>\n",
       "      <td>True</td>\n",
       "      <td>38.0</td>\n",
       "      <td>Middle-aged</td>\n",
       "      <td>Middle-aged</td>\n",
       "      <td>0</td>\n",
       "      <td>1</td>\n",
       "    </tr>\n",
       "  </tbody>\n",
       "</table>\n",
       "</div>"
      ],
      "text/plain": [
       "     Survived Pclass   Sex   Age  SibSp  Parch  Ticket  Fare Cabin Embarked  \\\n",
       "179         0      3  male  36.0      0      0    LINE   0.0   NaN        S   \n",
       "263         0      1  male  40.0      0      0  112059   0.0   B94        S   \n",
       "271         1      3  male  25.0      0      0    LINE   0.0   NaN        S   \n",
       "277         0      2  male  32.0      0      0  239853   0.0   NaN        S   \n",
       "302         0      3  male  19.0      0      0    LINE   0.0   NaN        S   \n",
       "413         0      2  male  32.0      0      0  239853   0.0   NaN        S   \n",
       "466         0      2  male  32.0      0      0  239853   0.0   NaN        S   \n",
       "481         0      2  male  32.0      0      0  239854   0.0   NaN        S   \n",
       "597         0      3  male  49.0      0      0    LINE   0.0   NaN        S   \n",
       "633         0      1  male  32.0      0      0  112052   0.0   NaN        S   \n",
       "674         0      2  male  32.0      0      0  239856   0.0   NaN        S   \n",
       "732         0      2  male  32.0      0      0  239855   0.0   NaN        S   \n",
       "806         0      1  male  39.0      0      0  112050   0.0   A36        S   \n",
       "815         0      1  male  32.0      0      0  112058   0.0  B102        S   \n",
       "822         0      1  male  38.0      0      0   19972   0.0   NaN        S   \n",
       "\n",
       "     Title  Age_true  Age_Opt2      AgeGroup AgeGroup_Opt2  Familysize  \\\n",
       "179     Mr      True      36.0   Middle-aged   Middle-aged           0   \n",
       "263     Mr      True      40.0   Middle-aged   Middle-aged           0   \n",
       "271     Mr      True      25.0        Adults        Adults           0   \n",
       "277     Mr     False       NaN        Adults        Adults           0   \n",
       "302     Mr      True      19.0  Young Adults  Young Adults           0   \n",
       "413     Mr     False       NaN        Adults        Adults           0   \n",
       "466     Mr     False       NaN        Adults        Adults           0   \n",
       "481     Mr     False       NaN        Adults        Adults           0   \n",
       "597     Mr      True      49.0   Middle-aged   Middle-aged           0   \n",
       "633     Mr     False       NaN        Adults        Adults           0   \n",
       "674     Mr     False       NaN        Adults        Adults           0   \n",
       "732     Mr     False       NaN        Adults        Adults           0   \n",
       "806     Mr      True      39.0   Middle-aged   Middle-aged           0   \n",
       "815     Mr     False       NaN        Adults        Adults           0   \n",
       "822  Noble      True      38.0   Middle-aged   Middle-aged           0   \n",
       "\n",
       "     Ticketsize  \n",
       "179           1  \n",
       "263           1  \n",
       "271           1  \n",
       "277           3  \n",
       "302           1  \n",
       "413           3  \n",
       "466           3  \n",
       "481           1  \n",
       "597           1  \n",
       "633           1  \n",
       "674           1  \n",
       "732           1  \n",
       "806           1  \n",
       "815           1  \n",
       "822           1  "
      ]
     },
     "execution_count": 25,
     "metadata": {},
     "output_type": "execute_result"
    }
   ],
   "source": [
    "# some tickets have Fare==0\n",
    "df[df.Fare == 0]"
   ]
  },
  {
   "cell_type": "code",
   "execution_count": 26,
   "id": "c882029f",
   "metadata": {},
   "outputs": [],
   "source": [
    "# we replace the fares which are 0 by the mean fare of the corresponding 'Pclass'\n",
    "mean_fares = df.groupby('Pclass')['Fare'].agg(np.mean)\n",
    "df.loc[(df['Fare'] == 0) & (df['Ticket'] != \"LINE\"), 'Fare'] = df.apply(lambda x: mean_fares[x['Pclass']], axis=1)"
   ]
  },
  {
   "cell_type": "code",
   "execution_count": 27,
   "id": "33a9ae9b",
   "metadata": {
    "scrolled": false
   },
   "outputs": [
    {
     "data": {
      "image/png": "[encoded data removed]",
      "text/plain": [
       "<Figure size 1000x1000 with 8 Axes>"
      ]
     },
     "metadata": {},
     "output_type": "display_data"
    }
   ],
   "source": [
    "fig, axs = plt.subplots(4, 2, sharey=False, figsize=(10,10))\n",
    "\n",
    "# plot a histogram of column 'Fare' for all fares\n",
    "axs[0][0].hist(df['Fare'])\n",
    "# plot a boxplot of column 'Fare' for all fares\n",
    "axs[0][1].boxplot(df['Fare'])\n",
    "# plot a histogram of column 'Fare' for fares below 200\n",
    "axs[1][0].hist(df['Fare'][df['Fare'] < 200])\n",
    "# plot a boxplot of column 'Fare' for fares below 200\n",
    "axs[1][1].boxplot(df['Fare'][df['Fare'] < 200])\n",
    "# plot a histogram of column 'Fare' for fares below 100\n",
    "axs[2][0].hist(df['Fare'][df['Fare'] < 100])\n",
    "# plot a boxplot of column 'Fare' for fares below 100\n",
    "axs[2][1].boxplot(df['Fare'][df['Fare'] < 100])\n",
    "# plot a histogram of column 'Fare' for fares below 40\n",
    "axs[3][0].hist(df['Fare'][df['Fare'] < 40])\n",
    "# plot a boxplot of column 'Fare' for fares below 40\n",
    "axs[3][1].boxplot(df['Fare'][df['Fare'] < 40])\n",
    "\n",
    "plt.tight_layout()\n",
    "plt.show()"
   ]
  },
  {
   "cell_type": "code",
   "execution_count": 28,
   "id": "70b89856",
   "metadata": {},
   "outputs": [
    {
     "name": "stdout",
     "output_type": "stream",
     "text": [
      "count    891.000000\n",
      "mean      32.815596\n",
      "std       49.722275\n",
      "min        0.000000\n",
      "25%        7.925000\n",
      "50%       14.500000\n",
      "75%       31.275000\n",
      "80%       41.579200\n",
      "85%       56.712500\n",
      "87%       69.550000\n",
      "94%       93.500000\n",
      "95%      112.079150\n",
      "max      512.329200\n",
      "Name: Fare, dtype: float64\n",
      "med: 14.5\n"
     ]
    }
   ],
   "source": [
    "perc = [0.25, 0.5, 0.75, 0.8, 0.85, 0.87, 0.94, 0.95]\n",
    "print(df['Fare'].describe(percentiles = perc))\n",
    "print(\"med:\", df['Fare'].median())"
   ]
  },
  {
   "cell_type": "markdown",
   "id": "08e38eca",
   "metadata": {},
   "source": [
    "Although the fares range from 0 to 512.3, they have a mean of 32.8. 75% of the fares are smaller than 31.3, 85% are smaller than 56.7, and only 13% are larger than 70. The median is 14.5"
   ]
  },
  {
   "cell_type": "code",
   "execution_count": 29,
   "id": "6800dc55",
   "metadata": {},
   "outputs": [],
   "source": [
    "# we group the fares\n",
    "# the groups are chosen such that the distribution over the groups is more or lessen even\n",
    "fare_bins = [-1, 7.8, 10.5, 23, 41, 100]\n",
    "fare_groups = [\"Very Cheap\", \"Cheap\", \"Normal\", \"Average\", \"Expensive\", \"Very Expensive\"]\n",
    "\n",
    "for i in range(len(fare_groups) - 1):\n",
    "    df.loc[(df[\"Fare\"] > fare_bins[i]) & (df[\"Fare\"] <= fare_bins[i+1]), \"FareGroup\"] = fare_groups[i]\n",
    "df.loc[df[\"Fare\"] > fare_bins[len(fare_groups) - 1], \"FareGroup\"] = fare_groups[len(fare_groups) - 1]"
   ]
  },
  {
   "cell_type": "code",
   "execution_count": 30,
   "id": "a2d4b93a",
   "metadata": {
    "scrolled": false
   },
   "outputs": [
    {
     "data": {
      "text/plain": [
       "<AxesSubplot: >"
      ]
     },
     "execution_count": 30,
     "metadata": {},
     "output_type": "execute_result"
    },
    {
     "data": {
      "image/png": "[encoded data removed]",
      "text/plain": [
       "<Figure size 640x480 with 1 Axes>"
      ]
     },
     "metadata": {},
     "output_type": "display_data"
    }
   ],
   "source": [
    "df['FareGroup'].value_counts().plot(kind='bar')"
   ]
  },
  {
   "cell_type": "code",
   "execution_count": 31,
   "id": "c5faaf02",
   "metadata": {},
   "outputs": [],
   "source": [
    "# now we drop the column 'Ticket'\n",
    "df.drop(\"Ticket\", inplace=True, axis=1)"
   ]
  },
  {
   "cell_type": "markdown",
   "id": "cfc7856a",
   "metadata": {},
   "source": [
    "#### Cabin\n",
    "We extract the letter from the name of the cabin because it indicates the cabin level. We use this letter to form a new column 'CabinLvl'. Passengers that don't have any information about the cabin, get CabinLvl='XX'. Then we drop the column 'Cabin'.  \n",
    "We will calculate the correlation with CabinLvl later to see if it's worth it to keep 'CabinLvl' since only 22.9% of the passengers have cabin information."
   ]
  },
  {
   "cell_type": "code",
   "execution_count": 32,
   "id": "43a40b15",
   "metadata": {},
   "outputs": [
    {
     "name": "stdout",
     "output_type": "stream",
     "text": [
      "687\n",
      "0.22895622895622897\n"
     ]
    }
   ],
   "source": [
    "# Count NaN values for 'Cabin'\n",
    "print(len(df[df['Cabin'].isna()]))\n",
    "print((891-687)/891)"
   ]
  },
  {
   "cell_type": "code",
   "execution_count": 33,
   "id": "73c68a6d",
   "metadata": {},
   "outputs": [
    {
     "name": "stderr",
     "output_type": "stream",
     "text": [
      "C:\\Users\\kikip\\AppData\\Local\\Temp\\ipykernel_9952\\449612497.py:5: SettingWithCopyWarning: \n",
      "A value is trying to be set on a copy of a slice from a DataFrame\n",
      "\n",
      "See the caveats in the documentation: https://pandas.pydata.org/pandas-docs/stable/user_guide/indexing.html#returning-a-view-versus-a-copy\n",
      "  df[\"CabinLvl\"][idx] = x[0]\n"
     ]
    }
   ],
   "source": [
    "# since most cabin numbers are not given, XX is assigned by default\n",
    "df[\"CabinLvl\"] = 'XX'\n",
    "for idx, x in enumerate(df[\"Cabin\"]):\n",
    "    try:\n",
    "        df[\"CabinLvl\"][idx] = x[0]\n",
    "    except:\n",
    "        pass\n",
    "\n",
    "df.drop(\"Cabin\", inplace=True, axis=1)"
   ]
  },
  {
   "cell_type": "code",
   "execution_count": 34,
   "id": "1d40ad71",
   "metadata": {
    "scrolled": false
   },
   "outputs": [
    {
     "data": {
      "image/png": "[encoded data removed]",
      "text/plain": [
       "<Figure size 1000x400 with 2 Axes>"
      ]
     },
     "metadata": {},
     "output_type": "display_data"
    }
   ],
   "source": [
    "fig, axs = plt.subplots(1, 2, sharey=False, figsize=(10,4))\n",
    "\n",
    "# plot a histogram of column 'CabinLvl'\n",
    "axs[0].bar(df['CabinLvl'].unique(), df[\"CabinLvl\"].value_counts(sort=False))\n",
    "# plot a histogram of column 'CabinLvl' without 'XX'\n",
    "axs[1].bar(df['CabinLvl'][df['CabinLvl'] != 'XX'].unique(), df[\"CabinLvl\"][df['CabinLvl'] != 'XX'].value_counts(sort=False))\n",
    "\n",
    "\n",
    "plt.tight_layout()\n",
    "plt.show()"
   ]
  },
  {
   "cell_type": "code",
   "execution_count": 35,
   "id": "cee1fdc5",
   "metadata": {},
   "outputs": [
    {
     "data": {
      "text/plain": [
       "Pclass\n",
       "1     40\n",
       "2    168\n",
       "3    479\n",
       "dtype: int64"
      ]
     },
     "execution_count": 35,
     "metadata": {},
     "output_type": "execute_result"
    }
   ],
   "source": [
    "# in every 'Pclass' there are passengers with 'XX'\n",
    "df[df['CabinLvl'] == 'XX'].groupby('Pclass').size()"
   ]
  },
  {
   "cell_type": "code",
   "execution_count": 36,
   "id": "1ec540cd",
   "metadata": {},
   "outputs": [
    {
     "data": {
      "text/html": [
       "<div>\n",
       "<style scoped>\n",
       "    .dataframe tbody tr th:only-of-type {\n",
       "        vertical-align: middle;\n",
       "    }\n",
       "\n",
       "    .dataframe tbody tr th {\n",
       "        vertical-align: top;\n",
       "    }\n",
       "\n",
       "    .dataframe thead th {\n",
       "        text-align: right;\n",
       "    }\n",
       "</style>\n",
       "<table border=\"1\" class=\"dataframe\">\n",
       "  <thead>\n",
       "    <tr style=\"text-align: right;\">\n",
       "      <th></th>\n",
       "      <th>Survived</th>\n",
       "      <th>Pclass</th>\n",
       "      <th>Sex</th>\n",
       "      <th>Age</th>\n",
       "      <th>SibSp</th>\n",
       "      <th>Parch</th>\n",
       "      <th>Fare</th>\n",
       "      <th>Embarked</th>\n",
       "      <th>Title</th>\n",
       "      <th>Age_true</th>\n",
       "      <th>Age_Opt2</th>\n",
       "      <th>AgeGroup</th>\n",
       "      <th>AgeGroup_Opt2</th>\n",
       "      <th>Familysize</th>\n",
       "      <th>Ticketsize</th>\n",
       "      <th>FareGroup</th>\n",
       "      <th>CabinLvl</th>\n",
       "    </tr>\n",
       "  </thead>\n",
       "  <tbody>\n",
       "    <tr>\n",
       "      <th>339</th>\n",
       "      <td>0</td>\n",
       "      <td>1</td>\n",
       "      <td>male</td>\n",
       "      <td>45.0</td>\n",
       "      <td>0</td>\n",
       "      <td>0</td>\n",
       "      <td>35.5</td>\n",
       "      <td>S</td>\n",
       "      <td>Mr</td>\n",
       "      <td>True</td>\n",
       "      <td>45.0</td>\n",
       "      <td>Middle-aged</td>\n",
       "      <td>Middle-aged</td>\n",
       "      <td>0</td>\n",
       "      <td>1</td>\n",
       "      <td>Average</td>\n",
       "      <td>T</td>\n",
       "    </tr>\n",
       "  </tbody>\n",
       "</table>\n",
       "</div>"
      ],
      "text/plain": [
       "     Survived Pclass   Sex   Age  SibSp  Parch  Fare Embarked Title  Age_true  \\\n",
       "339         0      1  male  45.0      0      0  35.5        S    Mr      True   \n",
       "\n",
       "     Age_Opt2     AgeGroup AgeGroup_Opt2  Familysize  Ticketsize FareGroup  \\\n",
       "339      45.0  Middle-aged   Middle-aged           0           1   Average   \n",
       "\n",
       "    CabinLvl  \n",
       "339        T  "
      ]
     },
     "execution_count": 36,
     "metadata": {},
     "output_type": "execute_result"
    }
   ],
   "source": [
    "df[df.CabinLvl == 'T']"
   ]
  },
  {
   "cell_type": "markdown",
   "id": "f9c7722d",
   "metadata": {},
   "source": [
    "#### Embarked\n",
    "There are two NaNs in the column 'Embarked' which we replace by the most common value for 'Embarked'."
   ]
  },
  {
   "cell_type": "code",
   "execution_count": 37,
   "id": "97b151ad",
   "metadata": {},
   "outputs": [
    {
     "data": {
      "text/plain": [
       "Pclass  Embarked\n",
       "1       C           104.718529\n",
       "        Q            90.000000\n",
       "        S            73.678039\n",
       "2       C            25.358335\n",
       "        Q            12.350000\n",
       "        S            21.083373\n",
       "3       C            11.214083\n",
       "        Q            11.183393\n",
       "        S            14.644083\n",
       "Name: Fare, dtype: float64"
      ]
     },
     "execution_count": 37,
     "metadata": {},
     "output_type": "execute_result"
    }
   ],
   "source": [
    "# not needed, just nice to know and maybe for our conclusion?\n",
    "\n",
    "# we assume that the length of the travel has an influence on the fare\n",
    "# to validate this we use the port of embarkation 'Embarked' (order of ports: S, C, Q)\n",
    "df.groupby(['Pclass', 'Embarked'])['Fare'].agg(np.mean)\n",
    "\n",
    "# although the port of embarkation seems to have an influence on the fare, the length of the travel doesn't have\n",
    "# passengers embarking in Southampton have the longest journey but passengers embarking in Cherbourg pay more on average"
   ]
  },
  {
   "cell_type": "code",
   "execution_count": 38,
   "id": "b7d4fead",
   "metadata": {},
   "outputs": [
    {
     "data": {
      "text/html": [
       "<div>\n",
       "<style scoped>\n",
       "    .dataframe tbody tr th:only-of-type {\n",
       "        vertical-align: middle;\n",
       "    }\n",
       "\n",
       "    .dataframe tbody tr th {\n",
       "        vertical-align: top;\n",
       "    }\n",
       "\n",
       "    .dataframe thead th {\n",
       "        text-align: right;\n",
       "    }\n",
       "</style>\n",
       "<table border=\"1\" class=\"dataframe\">\n",
       "  <thead>\n",
       "    <tr style=\"text-align: right;\">\n",
       "      <th></th>\n",
       "      <th>Survived</th>\n",
       "      <th>Pclass</th>\n",
       "      <th>Sex</th>\n",
       "      <th>Age</th>\n",
       "      <th>SibSp</th>\n",
       "      <th>Parch</th>\n",
       "      <th>Fare</th>\n",
       "      <th>Embarked</th>\n",
       "      <th>Title</th>\n",
       "      <th>Age_true</th>\n",
       "      <th>Age_Opt2</th>\n",
       "      <th>AgeGroup</th>\n",
       "      <th>AgeGroup_Opt2</th>\n",
       "      <th>Familysize</th>\n",
       "      <th>Ticketsize</th>\n",
       "      <th>FareGroup</th>\n",
       "      <th>CabinLvl</th>\n",
       "    </tr>\n",
       "  </thead>\n",
       "  <tbody>\n",
       "    <tr>\n",
       "      <th>61</th>\n",
       "      <td>1</td>\n",
       "      <td>1</td>\n",
       "      <td>female</td>\n",
       "      <td>38.0</td>\n",
       "      <td>0</td>\n",
       "      <td>0</td>\n",
       "      <td>80.0</td>\n",
       "      <td>NaN</td>\n",
       "      <td>Ms</td>\n",
       "      <td>True</td>\n",
       "      <td>38.0</td>\n",
       "      <td>Middle-aged</td>\n",
       "      <td>Middle-aged</td>\n",
       "      <td>0</td>\n",
       "      <td>2</td>\n",
       "      <td>Expensive</td>\n",
       "      <td>B</td>\n",
       "    </tr>\n",
       "    <tr>\n",
       "      <th>829</th>\n",
       "      <td>1</td>\n",
       "      <td>1</td>\n",
       "      <td>female</td>\n",
       "      <td>62.0</td>\n",
       "      <td>0</td>\n",
       "      <td>0</td>\n",
       "      <td>80.0</td>\n",
       "      <td>NaN</td>\n",
       "      <td>Mrs</td>\n",
       "      <td>True</td>\n",
       "      <td>62.0</td>\n",
       "      <td>Seniors</td>\n",
       "      <td>Seniors</td>\n",
       "      <td>0</td>\n",
       "      <td>2</td>\n",
       "      <td>Expensive</td>\n",
       "      <td>B</td>\n",
       "    </tr>\n",
       "  </tbody>\n",
       "</table>\n",
       "</div>"
      ],
      "text/plain": [
       "     Survived Pclass     Sex   Age  SibSp  Parch  Fare Embarked Title  \\\n",
       "61          1      1  female  38.0      0      0  80.0      NaN    Ms   \n",
       "829         1      1  female  62.0      0      0  80.0      NaN   Mrs   \n",
       "\n",
       "     Age_true  Age_Opt2     AgeGroup AgeGroup_Opt2  Familysize  Ticketsize  \\\n",
       "61       True      38.0  Middle-aged   Middle-aged           0           2   \n",
       "829      True      62.0      Seniors       Seniors           0           2   \n",
       "\n",
       "     FareGroup CabinLvl  \n",
       "61   Expensive        B  \n",
       "829  Expensive        B  "
      ]
     },
     "execution_count": 38,
     "metadata": {},
     "output_type": "execute_result"
    }
   ],
   "source": [
    "df[df['Embarked'].isna()]"
   ]
  },
  {
   "cell_type": "code",
   "execution_count": 39,
   "id": "c44998ac",
   "metadata": {},
   "outputs": [
    {
     "name": "stdout",
     "output_type": "stream",
     "text": [
      "Embarked\n",
      "C    168\n",
      "Q     77\n",
      "S    644\n",
      "dtype: int64\n"
     ]
    }
   ],
   "source": [
    "# for the two passengers where we don't have any information about 'Embarked' we just assign \"S\" (first stop and most common value)\n",
    "print(df.groupby('Embarked').size())\n",
    "df.loc[df['Embarked'].isna(), 'Embarked'] = \"S\""
   ]
  },
  {
   "cell_type": "code",
   "execution_count": 40,
   "id": "4ab71146",
   "metadata": {},
   "outputs": [
    {
     "data": {
      "text/plain": [
       "<BarContainer object of 3 artists>"
      ]
     },
     "execution_count": 40,
     "metadata": {},
     "output_type": "execute_result"
    },
    {
     "data": {
      "image/png": "[encoded data removed]",
      "text/plain": [
       "<Figure size 640x480 with 1 Axes>"
      ]
     },
     "metadata": {},
     "output_type": "display_data"
    }
   ],
   "source": [
    "plt.bar(df['Embarked'].unique(), df[\"Embarked\"].value_counts(sort=False))"
   ]
  },
  {
   "cell_type": "markdown",
   "id": "b06a1b7a",
   "metadata": {},
   "source": [
    "#### Target variable: Survived\n",
    "We just have a look at the distribution of the target variable 'Survived'. Then we convert the variable into a categorical variable."
   ]
  },
  {
   "cell_type": "code",
   "execution_count": 41,
   "id": "760e4917",
   "metadata": {},
   "outputs": [
    {
     "data": {
      "text/plain": [
       "0.3838383838383838"
      ]
     },
     "execution_count": 41,
     "metadata": {},
     "output_type": "execute_result"
    }
   ],
   "source": [
    "# among all passengers 38.38% survive\n",
    "df['Survived'].mean()"
   ]
  },
  {
   "cell_type": "code",
   "execution_count": 42,
   "id": "50f817be",
   "metadata": {},
   "outputs": [],
   "source": [
    "# change datatype from integer to object\n",
    "df['Survived'] = df['Survived'].astype(object)"
   ]
  },
  {
   "cell_type": "code",
   "execution_count": 43,
   "id": "7cb988f7",
   "metadata": {
    "scrolled": false
   },
   "outputs": [
    {
     "data": {
      "text/plain": [
       "<AxesSubplot: >"
      ]
     },
     "execution_count": 43,
     "metadata": {},
     "output_type": "execute_result"
    },
    {
     "data": {
      "image/png": "[encoded data removed]",
      "text/plain": [
       "<Figure size 640x480 with 1 Axes>"
      ]
     },
     "metadata": {},
     "output_type": "display_data"
    }
   ],
   "source": [
    "df['Survived'].value_counts().plot(kind='bar')"
   ]
  },
  {
   "cell_type": "code",
   "execution_count": 44,
   "id": "1aa556a5",
   "metadata": {},
   "outputs": [],
   "source": [
    "df_full = df.copy()"
   ]
  },
  {
   "cell_type": "markdown",
   "id": "c4ca40de",
   "metadata": {},
   "source": [
    "### Correlations"
   ]
  },
  {
   "cell_type": "markdown",
   "id": "b9d97fb1",
   "metadata": {},
   "source": [
    "#### Dataframe for correlations"
   ]
  },
  {
   "cell_type": "code",
   "execution_count": 45,
   "id": "e2723eaa",
   "metadata": {},
   "outputs": [],
   "source": [
    "# we drop 'Age_Opt2' and 'AgeGroup_Opt2'\n",
    "df.drop(\"Age_Opt2\", inplace=True, axis=1)\n",
    "df.drop(\"AgeGroup_Opt2\", inplace=True, axis=1)"
   ]
  },
  {
   "cell_type": "code",
   "execution_count": 46,
   "id": "e326a067",
   "metadata": {
    "scrolled": true
   },
   "outputs": [
    {
     "name": "stdout",
     "output_type": "stream",
     "text": [
      "<class 'pandas.core.frame.DataFrame'>\n",
      "RangeIndex: 891 entries, 0 to 890\n",
      "Data columns (total 15 columns):\n",
      " #   Column      Non-Null Count  Dtype  \n",
      "---  ------      --------------  -----  \n",
      " 0   Survived    891 non-null    object \n",
      " 1   Pclass      891 non-null    object \n",
      " 2   Sex         891 non-null    object \n",
      " 3   Age         891 non-null    float64\n",
      " 4   SibSp       891 non-null    int64  \n",
      " 5   Parch       891 non-null    int64  \n",
      " 6   Fare        891 non-null    float64\n",
      " 7   Embarked    891 non-null    object \n",
      " 8   Title       891 non-null    object \n",
      " 9   Age_true    891 non-null    bool   \n",
      " 10  AgeGroup    891 non-null    object \n",
      " 11  Familysize  891 non-null    int32  \n",
      " 12  Ticketsize  891 non-null    int64  \n",
      " 13  FareGroup   891 non-null    object \n",
      " 14  CabinLvl    891 non-null    object \n",
      "dtypes: bool(1), float64(2), int32(1), int64(3), object(8)\n",
      "memory usage: 95.0+ KB\n"
     ]
    }
   ],
   "source": [
    "df.info()"
   ]
  },
  {
   "cell_type": "code",
   "execution_count": 47,
   "id": "f7b5444f",
   "metadata": {},
   "outputs": [],
   "source": [
    "df_correlation = df.copy()"
   ]
  },
  {
   "cell_type": "markdown",
   "id": "3edf67c0",
   "metadata": {},
   "source": [
    "#### Correlation matrix"
   ]
  },
  {
   "cell_type": "markdown",
   "id": "82a8c7df",
   "metadata": {},
   "source": [
    "It's possible that the following cells don't work. If I run it locally (with Anaconda) it works, but in Visual Studio Code it doesn't. I'll try to fix it at some point. Till then, you can just have a look at the png file \"complete_correlation\" which I uploaded."
   ]
  },
  {
   "cell_type": "code",
   "execution_count": 48,
   "id": "913ce4fd",
   "metadata": {},
   "outputs": [
    {
     "ename": "TypeError",
     "evalue": "Image data of dtype object cannot be converted to float",
     "output_type": "error",
     "traceback": [
      "\u001b[1;31m---------------------------------------------------------------------------\u001b[0m",
      "\u001b[1;31mTypeError\u001b[0m                                 Traceback (most recent call last)",
      "Cell \u001b[1;32mIn [48], line 5\u001b[0m\n\u001b[0;32m      1\u001b[0m \u001b[39m# correlation matrix (heatmap) for all features\u001b[39;00m\n\u001b[0;32m      3\u001b[0m \u001b[39mfrom\u001b[39;00m \u001b[39mdython\u001b[39;00m\u001b[39m.\u001b[39;00m\u001b[39mnominal\u001b[39;00m \u001b[39mimport\u001b[39;00m associations\n\u001b[1;32m----> 5\u001b[0m complete_correlation \u001b[39m=\u001b[39m associations(df, filename \u001b[39m=\u001b[39;49m \u001b[39m'\u001b[39;49m\u001b[39mcomplete_correlation\u001b[39;49m\u001b[39m'\u001b[39;49m, figsize\u001b[39m=\u001b[39;49m(\u001b[39m4\u001b[39;49m,\u001b[39m4\u001b[39;49m))\n\u001b[0;32m      6\u001b[0m \u001b[39m# put filename= 'complete_correlation.png' as parameter in associations to save the matrix as png\u001b[39;00m\n",
      "File \u001b[1;32m~\\AppData\\Local\\Packages\\PythonSoftwareFoundation.Python.3.9_qbz5n2kfra8p0\\LocalCache\\local-packages\\Python39\\site-packages\\dython\\nominal.py:777\u001b[0m, in \u001b[0;36massociations\u001b[1;34m(dataset, nominal_columns, numerical_columns, mark_columns, nom_nom_assoc, num_num_assoc, nom_num_assoc, symmetric_nom_nom, symmetric_num_num, display_rows, display_columns, hide_rows, hide_columns, cramers_v_bias_correction, nan_strategy, nan_replace_value, ax, figsize, annot, fmt, cmap, sv_color, cbar, vmax, vmin, plot, compute_only, clustering, title, filename, multiprocessing, max_cpu_cores)\u001b[0m\n\u001b[0;32m    769\u001b[0m mask \u001b[39m=\u001b[39m np\u001b[39m.\u001b[39mvectorize(\u001b[39mlambda\u001b[39;00m x: \u001b[39mnot\u001b[39;00m \u001b[39mbool\u001b[39m(x))(inf_nan_mask) \u001b[39m+\u001b[39m np\u001b[39m.\u001b[39mvectorize(\n\u001b[0;32m    770\u001b[0m     \u001b[39mlambda\u001b[39;00m x: \u001b[39mnot\u001b[39;00m \u001b[39mbool\u001b[39m(x)\n\u001b[0;32m    771\u001b[0m )(sv_mask)\n\u001b[0;32m    772\u001b[0m vmin \u001b[39m=\u001b[39m vmin \u001b[39mor\u001b[39;00m (\n\u001b[0;32m    773\u001b[0m     \u001b[39m-\u001b[39m\u001b[39m1.0\u001b[39m\n\u001b[0;32m    774\u001b[0m     \u001b[39mif\u001b[39;00m \u001b[39mlen\u001b[39m(displayed_features_set) \u001b[39m-\u001b[39m \u001b[39mlen\u001b[39m(nominal_columns) \u001b[39m>\u001b[39m\u001b[39m=\u001b[39m \u001b[39m2\u001b[39m\n\u001b[0;32m    775\u001b[0m     \u001b[39melse\u001b[39;00m \u001b[39m0.0\u001b[39m\n\u001b[0;32m    776\u001b[0m )\n\u001b[1;32m--> 777\u001b[0m ax \u001b[39m=\u001b[39m sns\u001b[39m.\u001b[39;49mheatmap(\n\u001b[0;32m    778\u001b[0m     corr,\n\u001b[0;32m    779\u001b[0m     cmap\u001b[39m=\u001b[39;49mcmap,\n\u001b[0;32m    780\u001b[0m     annot\u001b[39m=\u001b[39;49mannot,\n\u001b[0;32m    781\u001b[0m     fmt\u001b[39m=\u001b[39;49mfmt,\n\u001b[0;32m    782\u001b[0m     center\u001b[39m=\u001b[39;49m\u001b[39m0\u001b[39;49m,\n\u001b[0;32m    783\u001b[0m     vmax\u001b[39m=\u001b[39;49mvmax,\n\u001b[0;32m    784\u001b[0m     vmin\u001b[39m=\u001b[39;49mvmin,\n\u001b[0;32m    785\u001b[0m     square\u001b[39m=\u001b[39;49m\u001b[39mTrue\u001b[39;49;00m,\n\u001b[0;32m    786\u001b[0m     mask\u001b[39m=\u001b[39;49mmask,\n\u001b[0;32m    787\u001b[0m     ax\u001b[39m=\u001b[39;49max,\n\u001b[0;32m    788\u001b[0m     cbar\u001b[39m=\u001b[39;49mcbar,\n\u001b[0;32m    789\u001b[0m )\n\u001b[0;32m    790\u001b[0m plt\u001b[39m.\u001b[39mtitle(title)\n\u001b[0;32m    791\u001b[0m \u001b[39mif\u001b[39;00m filename:\n",
      "File \u001b[1;32m~\\AppData\\Local\\Packages\\PythonSoftwareFoundation.Python.3.9_qbz5n2kfra8p0\\LocalCache\\local-packages\\Python39\\site-packages\\seaborn\\matrix.py:459\u001b[0m, in \u001b[0;36mheatmap\u001b[1;34m(data, vmin, vmax, cmap, center, robust, annot, fmt, annot_kws, linewidths, linecolor, cbar, cbar_kws, cbar_ax, square, xticklabels, yticklabels, mask, ax, **kwargs)\u001b[0m\n\u001b[0;32m    457\u001b[0m \u001b[39mif\u001b[39;00m square:\n\u001b[0;32m    458\u001b[0m     ax\u001b[39m.\u001b[39mset_aspect(\u001b[39m\"\u001b[39m\u001b[39mequal\u001b[39m\u001b[39m\"\u001b[39m)\n\u001b[1;32m--> 459\u001b[0m plotter\u001b[39m.\u001b[39;49mplot(ax, cbar_ax, kwargs)\n\u001b[0;32m    460\u001b[0m \u001b[39mreturn\u001b[39;00m ax\n",
      "File \u001b[1;32m~\\AppData\\Local\\Packages\\PythonSoftwareFoundation.Python.3.9_qbz5n2kfra8p0\\LocalCache\\local-packages\\Python39\\site-packages\\seaborn\\matrix.py:306\u001b[0m, in \u001b[0;36m_HeatMapper.plot\u001b[1;34m(self, ax, cax, kws)\u001b[0m\n\u001b[0;32m    303\u001b[0m     kws\u001b[39m.\u001b[39msetdefault(\u001b[39m\"\u001b[39m\u001b[39mvmax\u001b[39m\u001b[39m\"\u001b[39m, \u001b[39mself\u001b[39m\u001b[39m.\u001b[39mvmax)\n\u001b[0;32m    305\u001b[0m \u001b[39m# Draw the heatmap\u001b[39;00m\n\u001b[1;32m--> 306\u001b[0m mesh \u001b[39m=\u001b[39m ax\u001b[39m.\u001b[39mpcolormesh(\u001b[39mself\u001b[39m\u001b[39m.\u001b[39mplot_data, cmap\u001b[39m=\u001b[39m\u001b[39mself\u001b[39m\u001b[39m.\u001b[39mcmap, \u001b[39m*\u001b[39m\u001b[39m*\u001b[39mkws)\n\u001b[0;32m    308\u001b[0m \u001b[39m# Set the axis limits\u001b[39;00m\n\u001b[0;32m    309\u001b[0m ax\u001b[39m.\u001b[39mset(xlim\u001b[39m=\u001b[39m(\u001b[39m0\u001b[39m, \u001b[39mself\u001b[39m\u001b[39m.\u001b[39mdata\u001b[39m.\u001b[39mshape[\u001b[39m1\u001b[39m]), ylim\u001b[39m=\u001b[39m(\u001b[39m0\u001b[39m, \u001b[39mself\u001b[39m\u001b[39m.\u001b[39mdata\u001b[39m.\u001b[39mshape[\u001b[39m0\u001b[39m]))\n",
      "File \u001b[1;32m~\\AppData\\Local\\Packages\\PythonSoftwareFoundation.Python.3.9_qbz5n2kfra8p0\\LocalCache\\local-packages\\Python39\\site-packages\\matplotlib\\__init__.py:1423\u001b[0m, in \u001b[0;36m_preprocess_data.<locals>.inner\u001b[1;34m(ax, data, *args, **kwargs)\u001b[0m\n\u001b[0;32m   1420\u001b[0m \u001b[39m@functools\u001b[39m\u001b[39m.\u001b[39mwraps(func)\n\u001b[0;32m   1421\u001b[0m \u001b[39mdef\u001b[39;00m \u001b[39minner\u001b[39m(ax, \u001b[39m*\u001b[39margs, data\u001b[39m=\u001b[39m\u001b[39mNone\u001b[39;00m, \u001b[39m*\u001b[39m\u001b[39m*\u001b[39mkwargs):\n\u001b[0;32m   1422\u001b[0m     \u001b[39mif\u001b[39;00m data \u001b[39mis\u001b[39;00m \u001b[39mNone\u001b[39;00m:\n\u001b[1;32m-> 1423\u001b[0m         \u001b[39mreturn\u001b[39;00m func(ax, \u001b[39m*\u001b[39m\u001b[39mmap\u001b[39m(sanitize_sequence, args), \u001b[39m*\u001b[39m\u001b[39m*\u001b[39mkwargs)\n\u001b[0;32m   1425\u001b[0m     bound \u001b[39m=\u001b[39m new_sig\u001b[39m.\u001b[39mbind(ax, \u001b[39m*\u001b[39margs, \u001b[39m*\u001b[39m\u001b[39m*\u001b[39mkwargs)\n\u001b[0;32m   1426\u001b[0m     auto_label \u001b[39m=\u001b[39m (bound\u001b[39m.\u001b[39marguments\u001b[39m.\u001b[39mget(label_namer)\n\u001b[0;32m   1427\u001b[0m                   \u001b[39mor\u001b[39;00m bound\u001b[39m.\u001b[39mkwargs\u001b[39m.\u001b[39mget(label_namer))\n",
      "File \u001b[1;32m~\\AppData\\Local\\Packages\\PythonSoftwareFoundation.Python.3.9_qbz5n2kfra8p0\\LocalCache\\local-packages\\Python39\\site-packages\\matplotlib\\axes\\_axes.py:6139\u001b[0m, in \u001b[0;36mAxes.pcolormesh\u001b[1;34m(self, alpha, norm, cmap, vmin, vmax, shading, antialiased, *args, **kwargs)\u001b[0m\n\u001b[0;32m   6135\u001b[0m C \u001b[39m=\u001b[39m C\u001b[39m.\u001b[39mravel()\n\u001b[0;32m   6137\u001b[0m kwargs\u001b[39m.\u001b[39msetdefault(\u001b[39m'\u001b[39m\u001b[39msnap\u001b[39m\u001b[39m'\u001b[39m, mpl\u001b[39m.\u001b[39mrcParams[\u001b[39m'\u001b[39m\u001b[39mpcolormesh.snap\u001b[39m\u001b[39m'\u001b[39m])\n\u001b[1;32m-> 6139\u001b[0m collection \u001b[39m=\u001b[39m mcoll\u001b[39m.\u001b[39mQuadMesh(\n\u001b[0;32m   6140\u001b[0m     coords, antialiased\u001b[39m=\u001b[39mantialiased, shading\u001b[39m=\u001b[39mshading,\n\u001b[0;32m   6141\u001b[0m     array\u001b[39m=\u001b[39mC, cmap\u001b[39m=\u001b[39mcmap, norm\u001b[39m=\u001b[39mnorm, alpha\u001b[39m=\u001b[39malpha, \u001b[39m*\u001b[39m\u001b[39m*\u001b[39mkwargs)\n\u001b[0;32m   6142\u001b[0m collection\u001b[39m.\u001b[39m_scale_norm(norm, vmin, vmax)\n\u001b[0;32m   6143\u001b[0m \u001b[39mself\u001b[39m\u001b[39m.\u001b[39m_pcolor_grid_deprecation_helper()\n",
      "File \u001b[1;32m~\\AppData\\Local\\Packages\\PythonSoftwareFoundation.Python.3.9_qbz5n2kfra8p0\\LocalCache\\local-packages\\Python39\\site-packages\\matplotlib\\collections.py:1988\u001b[0m, in \u001b[0;36mQuadMesh.__init__\u001b[1;34m(self, *args, **kwargs)\u001b[0m\n\u001b[0;32m   1985\u001b[0m \u001b[39mself\u001b[39m\u001b[39m.\u001b[39m_bbox\u001b[39m.\u001b[39mupdate_from_data_xy(\u001b[39mself\u001b[39m\u001b[39m.\u001b[39m_coordinates\u001b[39m.\u001b[39mreshape(\u001b[39m-\u001b[39m\u001b[39m1\u001b[39m, \u001b[39m2\u001b[39m))\n\u001b[0;32m   1986\u001b[0m \u001b[39m# super init delayed after own init because array kwarg requires\u001b[39;00m\n\u001b[0;32m   1987\u001b[0m \u001b[39m# self._coordinates and self._shading\u001b[39;00m\n\u001b[1;32m-> 1988\u001b[0m \u001b[39msuper\u001b[39m()\u001b[39m.\u001b[39m\u001b[39m__init__\u001b[39m(\u001b[39m*\u001b[39m\u001b[39m*\u001b[39mkwargs)\n\u001b[0;32m   1989\u001b[0m \u001b[39mself\u001b[39m\u001b[39m.\u001b[39mset_mouseover(\u001b[39mFalse\u001b[39;00m)\n",
      "File \u001b[1;32m~\\AppData\\Local\\Packages\\PythonSoftwareFoundation.Python.3.9_qbz5n2kfra8p0\\LocalCache\\local-packages\\Python39\\site-packages\\matplotlib\\_api\\deprecation.py:454\u001b[0m, in \u001b[0;36mmake_keyword_only.<locals>.wrapper\u001b[1;34m(*args, **kwargs)\u001b[0m\n\u001b[0;32m    448\u001b[0m \u001b[39mif\u001b[39;00m \u001b[39mlen\u001b[39m(args) \u001b[39m>\u001b[39m name_idx:\n\u001b[0;32m    449\u001b[0m     warn_deprecated(\n\u001b[0;32m    450\u001b[0m         since, message\u001b[39m=\u001b[39m\u001b[39m\"\u001b[39m\u001b[39mPassing the \u001b[39m\u001b[39m%(name)s\u001b[39;00m\u001b[39m \u001b[39m\u001b[39m%(obj_type)s\u001b[39;00m\u001b[39m \u001b[39m\u001b[39m\"\u001b[39m\n\u001b[0;32m    451\u001b[0m         \u001b[39m\"\u001b[39m\u001b[39mpositionally is deprecated since Matplotlib \u001b[39m\u001b[39m%(since)s\u001b[39;00m\u001b[39m; the \u001b[39m\u001b[39m\"\u001b[39m\n\u001b[0;32m    452\u001b[0m         \u001b[39m\"\u001b[39m\u001b[39mparameter will become keyword-only \u001b[39m\u001b[39m%(removal)s\u001b[39;00m\u001b[39m.\u001b[39m\u001b[39m\"\u001b[39m,\n\u001b[0;32m    453\u001b[0m         name\u001b[39m=\u001b[39mname, obj_type\u001b[39m=\u001b[39m\u001b[39mf\u001b[39m\u001b[39m\"\u001b[39m\u001b[39mparameter of \u001b[39m\u001b[39m{\u001b[39;00mfunc\u001b[39m.\u001b[39m\u001b[39m__name__\u001b[39m\u001b[39m}\u001b[39;00m\u001b[39m()\u001b[39m\u001b[39m\"\u001b[39m)\n\u001b[1;32m--> 454\u001b[0m \u001b[39mreturn\u001b[39;00m func(\u001b[39m*\u001b[39margs, \u001b[39m*\u001b[39m\u001b[39m*\u001b[39mkwargs)\n",
      "File \u001b[1;32m~\\AppData\\Local\\Packages\\PythonSoftwareFoundation.Python.3.9_qbz5n2kfra8p0\\LocalCache\\local-packages\\Python39\\site-packages\\matplotlib\\collections.py:202\u001b[0m, in \u001b[0;36mCollection.__init__\u001b[1;34m(self, edgecolors, facecolors, linewidths, linestyles, capstyle, joinstyle, antialiaseds, offsets, offset_transform, norm, cmap, pickradius, hatch, urls, zorder, **kwargs)\u001b[0m\n\u001b[0;32m    199\u001b[0m \u001b[39mself\u001b[39m\u001b[39m.\u001b[39m_offset_transform \u001b[39m=\u001b[39m offset_transform\n\u001b[0;32m    201\u001b[0m \u001b[39mself\u001b[39m\u001b[39m.\u001b[39m_path_effects \u001b[39m=\u001b[39m \u001b[39mNone\u001b[39;00m\n\u001b[1;32m--> 202\u001b[0m \u001b[39mself\u001b[39;49m\u001b[39m.\u001b[39;49m_internal_update(kwargs)\n\u001b[0;32m    203\u001b[0m \u001b[39mself\u001b[39m\u001b[39m.\u001b[39m_paths \u001b[39m=\u001b[39m \u001b[39mNone\u001b[39;00m\n",
      "File \u001b[1;32m~\\AppData\\Local\\Packages\\PythonSoftwareFoundation.Python.3.9_qbz5n2kfra8p0\\LocalCache\\local-packages\\Python39\\site-packages\\matplotlib\\artist.py:1186\u001b[0m, in \u001b[0;36mArtist._internal_update\u001b[1;34m(self, kwargs)\u001b[0m\n\u001b[0;32m   1179\u001b[0m \u001b[39mdef\u001b[39;00m \u001b[39m_internal_update\u001b[39m(\u001b[39mself\u001b[39m, kwargs):\n\u001b[0;32m   1180\u001b[0m     \u001b[39m\"\"\"\u001b[39;00m\n\u001b[0;32m   1181\u001b[0m \u001b[39m    Update artist properties without prenormalizing them, but generating\u001b[39;00m\n\u001b[0;32m   1182\u001b[0m \u001b[39m    errors as if calling `set`.\u001b[39;00m\n\u001b[0;32m   1183\u001b[0m \n\u001b[0;32m   1184\u001b[0m \u001b[39m    The lack of prenormalization is to maintain backcompatibility.\u001b[39;00m\n\u001b[0;32m   1185\u001b[0m \u001b[39m    \"\"\"\u001b[39;00m\n\u001b[1;32m-> 1186\u001b[0m     \u001b[39mreturn\u001b[39;00m \u001b[39mself\u001b[39;49m\u001b[39m.\u001b[39;49m_update_props(\n\u001b[0;32m   1187\u001b[0m         kwargs, \u001b[39m\"\u001b[39;49m\u001b[39m{cls.__name__}\u001b[39;49;00m\u001b[39m.set() got an unexpected keyword argument \u001b[39;49m\u001b[39m\"\u001b[39;49m\n\u001b[0;32m   1188\u001b[0m         \u001b[39m\"\u001b[39;49m\u001b[39m{prop_name!r}\u001b[39;49;00m\u001b[39m\"\u001b[39;49m)\n",
      "File \u001b[1;32m~\\AppData\\Local\\Packages\\PythonSoftwareFoundation.Python.3.9_qbz5n2kfra8p0\\LocalCache\\local-packages\\Python39\\site-packages\\matplotlib\\artist.py:1162\u001b[0m, in \u001b[0;36mArtist._update_props\u001b[1;34m(self, props, errfmt)\u001b[0m\n\u001b[0;32m   1159\u001b[0m             \u001b[39mif\u001b[39;00m \u001b[39mnot\u001b[39;00m callable(func):\n\u001b[0;32m   1160\u001b[0m                 \u001b[39mraise\u001b[39;00m \u001b[39mAttributeError\u001b[39;00m(\n\u001b[0;32m   1161\u001b[0m                     errfmt\u001b[39m.\u001b[39mformat(\u001b[39mcls\u001b[39m\u001b[39m=\u001b[39m\u001b[39mtype\u001b[39m(\u001b[39mself\u001b[39m), prop_name\u001b[39m=\u001b[39mk))\n\u001b[1;32m-> 1162\u001b[0m             ret\u001b[39m.\u001b[39mappend(func(v))\n\u001b[0;32m   1163\u001b[0m \u001b[39mif\u001b[39;00m ret:\n\u001b[0;32m   1164\u001b[0m     \u001b[39mself\u001b[39m\u001b[39m.\u001b[39mpchanged()\n",
      "File \u001b[1;32m~\\AppData\\Local\\Packages\\PythonSoftwareFoundation.Python.3.9_qbz5n2kfra8p0\\LocalCache\\local-packages\\Python39\\site-packages\\matplotlib\\collections.py:2050\u001b[0m, in \u001b[0;36mQuadMesh.set_array\u001b[1;34m(self, A)\u001b[0m\n\u001b[0;32m   2045\u001b[0m     \u001b[39mif\u001b[39;00m faulty_data:\n\u001b[0;32m   2046\u001b[0m         \u001b[39mraise\u001b[39;00m \u001b[39mTypeError\u001b[39;00m(\n\u001b[0;32m   2047\u001b[0m             \u001b[39mf\u001b[39m\u001b[39m\"\u001b[39m\u001b[39mDimensions of A \u001b[39m\u001b[39m{\u001b[39;00mA\u001b[39m.\u001b[39mshape\u001b[39m}\u001b[39;00m\u001b[39m are incompatible with \u001b[39m\u001b[39m\"\u001b[39m\n\u001b[0;32m   2048\u001b[0m             \u001b[39mf\u001b[39m\u001b[39m\"\u001b[39m\u001b[39mX (\u001b[39m\u001b[39m{\u001b[39;00mwidth\u001b[39m}\u001b[39;00m\u001b[39m) and/or Y (\u001b[39m\u001b[39m{\u001b[39;00mheight\u001b[39m}\u001b[39;00m\u001b[39m)\u001b[39m\u001b[39m\"\u001b[39m)\n\u001b[1;32m-> 2050\u001b[0m \u001b[39mreturn\u001b[39;00m \u001b[39msuper\u001b[39;49m()\u001b[39m.\u001b[39;49mset_array(A)\n",
      "File \u001b[1;32m~\\AppData\\Local\\Packages\\PythonSoftwareFoundation.Python.3.9_qbz5n2kfra8p0\\LocalCache\\local-packages\\Python39\\site-packages\\matplotlib\\cm.py:502\u001b[0m, in \u001b[0;36mScalarMappable.set_array\u001b[1;34m(self, A)\u001b[0m\n\u001b[0;32m    500\u001b[0m A \u001b[39m=\u001b[39m cbook\u001b[39m.\u001b[39msafe_masked_invalid(A, copy\u001b[39m=\u001b[39m\u001b[39mTrue\u001b[39;00m)\n\u001b[0;32m    501\u001b[0m \u001b[39mif\u001b[39;00m \u001b[39mnot\u001b[39;00m np\u001b[39m.\u001b[39mcan_cast(A\u001b[39m.\u001b[39mdtype, \u001b[39mfloat\u001b[39m, \u001b[39m\"\u001b[39m\u001b[39msame_kind\u001b[39m\u001b[39m\"\u001b[39m):\n\u001b[1;32m--> 502\u001b[0m     \u001b[39mraise\u001b[39;00m \u001b[39mTypeError\u001b[39;00m(\u001b[39mf\u001b[39m\u001b[39m\"\u001b[39m\u001b[39mImage data of dtype \u001b[39m\u001b[39m{\u001b[39;00mA\u001b[39m.\u001b[39mdtype\u001b[39m}\u001b[39;00m\u001b[39m cannot be \u001b[39m\u001b[39m\"\u001b[39m\n\u001b[0;32m    503\u001b[0m                     \u001b[39m\"\u001b[39m\u001b[39mconverted to float\u001b[39m\u001b[39m\"\u001b[39m)\n\u001b[0;32m    505\u001b[0m \u001b[39mself\u001b[39m\u001b[39m.\u001b[39m_A \u001b[39m=\u001b[39m A\n",
      "\u001b[1;31mTypeError\u001b[0m: Image data of dtype object cannot be converted to float"
     ]
    },
    {
     "data": {
      "image/png": "[encoded data removed]",
      "text/plain": [
       "<Figure size 400x400 with 1 Axes>"
      ]
     },
     "metadata": {},
     "output_type": "display_data"
    }
   ],
   "source": [
    "# correlation matrix (heatmap) for all features\n",
    "\n",
    "from dython.nominal import associations\n",
    "\n",
    "complete_correlation = associations(df, filename = 'complete_correlation', figsize=(4,4))\n",
    "# put filename= 'complete_correlation.png' as parameter in associations to save the matrix as png"
   ]
  },
  {
   "cell_type": "code",
   "execution_count": null,
   "id": "a074f4c0",
   "metadata": {},
   "outputs": [
    {
     "ename": "NameError",
     "evalue": "name 'complete_correlation' is not defined",
     "output_type": "error",
     "traceback": [
      "\u001b[1;31m---------------------------------------------------------------------------\u001b[0m",
      "\u001b[1;31mNameError\u001b[0m                                 Traceback (most recent call last)",
      "Cell \u001b[1;32mIn [67], line 2\u001b[0m\n\u001b[0;32m      1\u001b[0m \u001b[39m# correlation matrix of complete data set\u001b[39;00m\n\u001b[1;32m----> 2\u001b[0m df_complete_corr \u001b[39m=\u001b[39m complete_correlation[\u001b[39m'\u001b[39m\u001b[39mcorr\u001b[39m\u001b[39m'\u001b[39m]\n\u001b[0;32m      3\u001b[0m df_complete_corr\u001b[39m.\u001b[39mstyle\u001b[39m.\u001b[39mbackground_gradient(cmap\u001b[39m=\u001b[39m\u001b[39m'\u001b[39m\u001b[39mcoolwarm\u001b[39m\u001b[39m'\u001b[39m, axis \u001b[39m=\u001b[39m \u001b[39mNone\u001b[39;00m)\n",
      "\u001b[1;31mNameError\u001b[0m: name 'complete_correlation' is not defined"
     ]
    }
   ],
   "source": [
    "# correlation matrix of complete data set\n",
    "df_complete_corr = complete_correlation['corr']\n",
    "df_complete_corr.style.background_gradient(cmap='coolwarm', axis = None)"
   ]
  },
  {
   "cell_type": "code",
   "execution_count": null,
   "id": "f57abc23",
   "metadata": {},
   "outputs": [],
   "source": []
  },
  {
   "cell_type": "code",
   "execution_count": null,
   "id": "7ac92cd3",
   "metadata": {},
   "outputs": [],
   "source": [
    "# correlation matrix for numerical variables\n",
    "#corr_num = df.corr()\n",
    "#corr_num.style.background_gradient(cmap='coolwarm')\n",
    "\n",
    "#import seaborn as sns\n",
    "#sns.heatmap(corr_num, annot = True)"
   ]
  },
  {
   "cell_type": "markdown",
   "id": "6ed58684",
   "metadata": {},
   "source": [
    "#### Results from Correlation matrix\n",
    "- Correlation with target variable 'Survived'\n",
    "    * high correlation: 'Pclass', 'Sex', 'Fare', 'Title', 'FareGroup', 'CabinLvl'\n",
    "    * normal correlation: 'Embarked', 'Age_true', 'AgeGroup'\n",
    "    * low correlaton: 'Age', 'SibSp', 'Parch', 'Familysize', 'Ticketsize'\n",
    "- Decisions based on correlation with 'Survived'\n",
    "    * we drop the variables 'SibSp', 'Parch', and 'Familysize' due to their very low correlations with 'Survived' (they also have relatively high correlations with 'AgeGroup', 'Ticketsize', and 'FareGroup' (features which we will use for sure))\n",
    "    * if we want to keep one or two of those, we keep 'Parch' and then 'SibSp'\n",
    "    * we drop the variable 'Ticketsize' due to its very low correlation with 'Survived'\n",
    "- High correlations between different variables (not considering 'SibSp', 'Parch', 'Familysize', and 'Ticketsize')\n",
    "    * 'Sex' and 'Title' (0.99)\n",
    "    * 'Pclass' and 'FareGroup' (0.77)\n",
    "    * 'Pclass' and 'CabinLvl' (0.77)\n",
    "    * 'Age' and 'Title' (0.57)\n",
    "    * 'Age' and 'AgeGroup' (0.97)\n",
    "    * 'Fare' and 'FareGroup' (0.87)\n",
    "    * 'Fare' and 'CabinLvl' (0.59)\n",
    "    * 'Title' and 'AgeGroup' (0.44)\n",
    "    * 'Pclass' and 'Age' (-0.35)\n",
    "    * 'Pclass' and 'Fare' (-0.57)\n",
    "- Decisions based on high correlations between different variables\n",
    "    * we drop one out of 'Sex' and 'Title' -> we keep 'Title' since it is more detailed and has a higher correlation with 'Survived' (0.57 vs. 0.54)\n",
    "    * we drop one out of 'Age' and 'AgeGroup' since they strictly depend on each other -> we keep 'AgeGroup' since its correlation with 'Survived' is higher (0.18 vs.-0.09)\n",
    "    * we drop one out of 'Fare' and 'FareGroup' since they strictly depend on each other -> we keep 'FareGroup' since its correlation with 'Survived' is higher (0.32 vs. 0.25)"
   ]
  },
  {
   "cell_type": "code",
   "execution_count": 49,
   "id": "3c639b27",
   "metadata": {
    "scrolled": true
   },
   "outputs": [
    {
     "name": "stdout",
     "output_type": "stream",
     "text": [
      "<class 'pandas.core.frame.DataFrame'>\n",
      "RangeIndex: 891 entries, 0 to 890\n",
      "Data columns (total 15 columns):\n",
      " #   Column      Non-Null Count  Dtype  \n",
      "---  ------      --------------  -----  \n",
      " 0   Survived    891 non-null    object \n",
      " 1   Pclass      891 non-null    object \n",
      " 2   Sex         891 non-null    object \n",
      " 3   Age         891 non-null    float64\n",
      " 4   SibSp       891 non-null    int64  \n",
      " 5   Parch       891 non-null    int64  \n",
      " 6   Fare        891 non-null    float64\n",
      " 7   Embarked    891 non-null    object \n",
      " 8   Title       891 non-null    object \n",
      " 9   Age_true    891 non-null    bool   \n",
      " 10  AgeGroup    891 non-null    object \n",
      " 11  Familysize  891 non-null    int32  \n",
      " 12  Ticketsize  891 non-null    int64  \n",
      " 13  FareGroup   891 non-null    object \n",
      " 14  CabinLvl    891 non-null    object \n",
      "dtypes: bool(1), float64(2), int32(1), int64(3), object(8)\n",
      "memory usage: 95.0+ KB\n"
     ]
    }
   ],
   "source": [
    "df.info()"
   ]
  },
  {
   "cell_type": "markdown",
   "id": "dc2873a3",
   "metadata": {},
   "source": [
    "## Final Dataframe\n",
    "- Dropped variables: 'PassengerId', 'Name', 'Sex', 'Age', 'SibSp', 'Parch', 'Ticket', 'Fare', 'Cabin', ('Familysize',) ('Ticketsize')\n",
    "- New variables: ('Familysize',) ('Ticketsize',) 'Title', 'Age_true', 'AgeGroup', 'FareGroup', 'CabinLvl'\n",
    "- Features in the final dataframe: 'Survived', 'Pclass', 'Embarked', 'Title', 'Age_true', 'AgeGroup', 'FareGroup', 'CabinLvL'"
   ]
  },
  {
   "cell_type": "code",
   "execution_count": 50,
   "id": "4539d0e4",
   "metadata": {},
   "outputs": [],
   "source": [
    "dropped = ['Sex', 'Age', 'SibSp', 'Parch', 'Fare', 'Familysize', 'Ticketsize']\n",
    "df.drop(dropped, inplace=True, axis=1)"
   ]
  },
  {
   "cell_type": "code",
   "execution_count": 51,
   "id": "025047ad",
   "metadata": {},
   "outputs": [
    {
     "name": "stdout",
     "output_type": "stream",
     "text": [
      "<class 'pandas.core.frame.DataFrame'>\n",
      "RangeIndex: 891 entries, 0 to 890\n",
      "Data columns (total 8 columns):\n",
      " #   Column     Non-Null Count  Dtype \n",
      "---  ------     --------------  ----- \n",
      " 0   Survived   891 non-null    object\n",
      " 1   Pclass     891 non-null    object\n",
      " 2   Embarked   891 non-null    object\n",
      " 3   Title      891 non-null    object\n",
      " 4   Age_true   891 non-null    bool  \n",
      " 5   AgeGroup   891 non-null    object\n",
      " 6   FareGroup  891 non-null    object\n",
      " 7   CabinLvl   891 non-null    object\n",
      "dtypes: bool(1), object(7)\n",
      "memory usage: 49.7+ KB\n"
     ]
    }
   ],
   "source": [
    "df.info()"
   ]
  },
  {
   "cell_type": "markdown",
   "id": "0907feac",
   "metadata": {},
   "source": [
    "If we want more features, we can also keep (in this order)\n",
    "- 'Parch'\n",
    "- 'SibSp'"
   ]
  },
  {
   "cell_type": "code",
   "execution_count": null,
   "id": "d0999bf2",
   "metadata": {},
   "outputs": [],
   "source": []
  },
  {
   "cell_type": "markdown",
   "id": "1585a1fc",
   "metadata": {},
   "source": [
    "## Tasks\n",
    "\n",
    "- plots in general: add description of axes, title etc.\n",
    "- 'Pclass': change order in plot\n",
    "- 'Age': change order in plots for agegroups (maybe it's necessary to use another type of plot than barplot)\n",
    "- 'Fare': change order in plot for 'FareGroup'\n",
    "- 'Cabin': change order in plots for 'CabinLvl' (maybe it's necessary to use another type of plot than barplot)\n",
    "\n",
    "\n",
    "## Things to discuss\n",
    "\n",
    "- What about columns that contain integers but are actually categorical variables, e.g., 'Pclass' and 'Title' and the target variable 'Survived'\n",
    "    * keep them as numeric (no need for encoding) or convert to categorical (are treated as categorical, two categories that are assigned to similar numbers aren't necessarily similar)\n",
    "    * Chrisi's and Chiara's opinion: We think we should convert them to categorial variables\n",
    "- Age Group Split:\n",
    "    * old one: age_bins = [-1, 11, 17, 29, 49, 64] -> distribution is not so good (heavy overweight of Young Adults and Adults) -> results in problems regarding two options for replacing NaNs (see below)\n",
    "    * new one: age_bins = [-1, 11, 17, 24, 34, 49] -> distribution more even -> only one passenger for whom the two replacing options yield different results\n",
    "- NaNs in column Age: We have two options for replacing the NaNs in the column 'Age'\n",
    "    * Option 1: replacing by an exact age:  \n",
    "    for each category in 'Title', find the mean age, then assign this mean to the passengers without age;  \n",
    "    assign the age groups afterwards\n",
    "    * Option 2: replacing by an age group:  \n",
    "    for each category in 'Title', find the age group that is represented most often, then assign this group to the passenger;  \n",
    "    if we still need the \"exact age, we can assign the mean age of the corresponding age group\n",
    "    * for the \"old\" age split, both options yield different results for the age groups (see: df[df.AgeGroup != df.AgeGroup_Opt2])  \n",
    "    for 119 passengers (Title = 'Mr'), option 1 assigns age 32 and hence 'Adults' while option 2 assigns 'Young Adults'\n",
    "    * which option do we want to use? (if we want to use the second option, we still have to replace the NaNs in 'Age' (according to the chosen age groups)  \n",
    "    Chrisi's and Chiara's opinion: if we only want to use the age groups (and drop the exact age), it doesn't matter; if we want to keep the exact ages, I'd prefer the first option\n",
    "- Decisions based on correlations"
   ]
  },
  {
   "cell_type": "code",
   "execution_count": null,
   "id": "943615b0",
   "metadata": {},
   "outputs": [],
   "source": []
  },
  {
   "cell_type": "markdown",
   "id": "4b578e27",
   "metadata": {},
   "source": [
    "## One-Hot-Encoding\n",
    "If we only keep the mentioned features, we don't need normalization (since we don't have any numerical features left)."
   ]
  },
  {
   "cell_type": "code",
   "execution_count": null,
   "id": "3e6b1f7b",
   "metadata": {},
   "outputs": [],
   "source": []
  }
 ],
 "metadata": {
  "kernelspec": {
   "display_name": "Python 3.9.13 64-bit (microsoft store)",
   "language": "python",
   "name": "python3"
  },
  "language_info": {
   "codemirror_mode": {
    "name": "ipython",
    "version": 3
   },
   "file_extension": ".py",
   "mimetype": "text/x-python",
   "name": "python",
   "nbconvert_exporter": "python",
   "pygments_lexer": "ipython3",
   "version": "3.9.13"
  },
  "vscode": {
   "interpreter": {
    "hash": "87eb8281d98b2969d05df4ed8215d4feb831dea2d06aa6d59cf573b13a02cc37"
   }
  }
 },
 "nbformat": 4,
 "nbformat_minor": 5
}
